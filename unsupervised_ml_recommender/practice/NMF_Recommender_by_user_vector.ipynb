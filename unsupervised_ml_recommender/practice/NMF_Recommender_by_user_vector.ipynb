{
 "cells": [
  {
   "cell_type": "code",
   "execution_count": 2,
   "id": "formal-sapphire",
   "metadata": {},
   "outputs": [],
   "source": [
    "import numpy as np\n",
    "import pandas as pd\n",
    "import matplotlib.pyplot as plt\n",
    "import seaborn as sns\n",
    "from fuzzywuzzy import process"
   ]
  },
  {
   "cell_type": "code",
   "execution_count": 12,
   "id": "subject-passage",
   "metadata": {
    "tags": []
   },
   "outputs": [],
   "source": [
    "def read_file(url):\n",
    "    '''this function is to read file from local path.'''\n",
    "    with open(url) as f:\n",
    "        df = pd.read_csv(url, na_values='Nan')\n",
    "        df.set_index('userid',inplace=True)\n",
    "    return df"
   ]
  },
  {
   "cell_type": "code",
   "execution_count": 13,
   "id": "eastern-insertion",
   "metadata": {},
   "outputs": [],
   "source": [
    "def update_new_user_to_user_rating_matrix(user_rating, user_rating_matrix):\n",
    "    \"\"\"\n",
    "    convert dict of user_ratings to a user_data frame with the same column names as the user_item_matrix\n",
    "    that can be easily appended to the user_item_matrix\n",
    "    \"\"\"            \n",
    "    \n",
    "    user_vector = pd.Series(np.nan, index=user_rating_matrix.columns)\n",
    "    for movie in list(user_rating.keys()): \n",
    "        matched_title = process.extractOne(movie, user_vector.index)[0]\n",
    "        user_vector[matched_title] = user_rating[movie]\n",
    "    new_user_df = user_vector.to_frame().rename(columns={0:'new_user'}).T\n",
    "    return user_rating_matrix.append(new_user_df)"
   ]
  },
  {
   "cell_type": "code",
   "execution_count": 4,
   "id": "future-fortune",
   "metadata": {},
   "outputs": [],
   "source": [
    "#user_rating_matrix_update = update_new_user_to_user_rating_matrix(user_rating, user_rating_matrix)"
   ]
  },
  {
   "cell_type": "code",
   "execution_count": 14,
   "id": "administrative-documentary",
   "metadata": {},
   "outputs": [],
   "source": [
    "from sklearn.impute import KNNImputer"
   ]
  },
  {
   "cell_type": "code",
   "execution_count": 23,
   "id": "affected-variable",
   "metadata": {
    "tags": []
   },
   "outputs": [],
   "source": [
    "def imputer0(imputer,df):\n",
    "    R_true = imputer.fit_transform(df)\n",
    "    R_true_df = pd.DataFrame(R_true, columns=df.columns, index = df.index)\n",
    "    R_true_df.to_csv('imputed_rating_user_matrix.csv')\n",
    "    return R_true, R_true_df"
   ]
  },
  {
   "cell_type": "code",
   "execution_count": 8,
   "id": "sixth-lounge",
   "metadata": {
    "tags": []
   },
   "outputs": [],
   "source": [
    "#imputer = KNNImputer(n_neighbors=2)\n",
    "#data = user_rating_matrix_update\n",
    "#R_true,R_true_df=imputer0(imputer,data)"
   ]
  },
  {
   "cell_type": "code",
   "execution_count": 40,
   "id": "offshore-wireless",
   "metadata": {},
   "outputs": [],
   "source": [
    "#R_true_df.to_csv('imputed_rating_user_matrix.csv')"
   ]
  },
  {
   "cell_type": "code",
   "execution_count": 16,
   "id": "green-dollar",
   "metadata": {},
   "outputs": [],
   "source": [
    "from sklearn.decomposition import NMF"
   ]
  },
  {
   "cell_type": "code",
   "execution_count": 17,
   "id": "coupled-trial",
   "metadata": {},
   "outputs": [],
   "source": [
    "def get_R_predict(model,R_true):\n",
    "    model.fit(R_true)\n",
    "    Q = model.components_\n",
    "    P = model.transform(R_true)\n",
    "    #Q_df = pd.DataFrame(model.components_, columns=user_rating_metrix.columns, index=['feature1', 'feature2'])\n",
    "    #P_df = pd.DataFrame(model.transform(Rtrue), columns=['feature1', 'feature2'], index= user_rating_metrix.index)\n",
    "    R = pd.DataFrame(np.dot(P, Q).round(), index=R_true_df.index, columns=R_true_df.columns)\n",
    "    return R"
   ]
  },
  {
   "cell_type": "code",
   "execution_count": 11,
   "id": "regulation-chaos",
   "metadata": {
    "tags": []
   },
   "outputs": [],
   "source": [
    "#model = NMF(n_components=2)\n",
    "#R_predict = get_R_predict(model,R_true)"
   ]
  },
  {
   "cell_type": "code",
   "execution_count": 39,
   "id": "reasonable-tutorial",
   "metadata": {},
   "outputs": [],
   "source": [
    "#userid=int(input('Please type in your ID'))"
   ]
  },
  {
   "cell_type": "code",
   "execution_count": 27,
   "id": "french-software",
   "metadata": {},
   "outputs": [],
   "source": [
    "#userid=R_predict.index[-1]"
   ]
  },
  {
   "cell_type": "code",
   "execution_count": 18,
   "id": "robust-therapist",
   "metadata": {},
   "outputs": [],
   "source": [
    "def get_highest_rating(user_id, R_true_df):\n",
    "    #user_id=R_predict.index[-1]\n",
    "    highest_rating = np.random.choice(sorted(R_true_df.loc[R_true_df.index==user_id].iloc[0,:])[-5:])   \n",
    "    return highest_rating"
   ]
  },
  {
   "cell_type": "code",
   "execution_count": 19,
   "id": "varied-smith",
   "metadata": {},
   "outputs": [],
   "source": [
    "#highest_rating = get_highest_rating(R_predict, R_true_df)"
   ]
  },
  {
   "cell_type": "code",
   "execution_count": 20,
   "id": "behavioral-employee",
   "metadata": {},
   "outputs": [],
   "source": [
    "def get_reco_pool(user_id, df):\n",
    "    #user_id=R_predict.index[-1]\n",
    "    user_data = df.loc[df.index==user_id,:].T\n",
    "    reco_pool = user_data[user_data[user_id].isnull()].index.values\n",
    "    return reco_pool"
   ]
  },
  {
   "cell_type": "code",
   "execution_count": 15,
   "id": "discrete-productivity",
   "metadata": {},
   "outputs": [],
   "source": [
    "#reco_pool=get_reco_pool(R_predict,df=user_rating_matrix_update)"
   ]
  },
  {
   "cell_type": "code",
   "execution_count": 21,
   "id": "rough-agent",
   "metadata": {},
   "outputs": [],
   "source": [
    "def recommender(user_id,highest_rating,reco_pool,R_true_df):\n",
    "    recomendation = []\n",
    "    #user_id=R_predict.index[-1]\n",
    "    while len(recomendation)<5:\n",
    "        movie = np.random.choice(R_true_df.T.loc[R_true_df.T[user_id]==highest_rating].index,1)[0]\n",
    "        if movie in reco_pool:\n",
    "            recomendation.append(movie)\n",
    "        else:\n",
    "            movie = np.random.choice(R_true_df.T.loc[R_true_df.T[user_id]==highest_rating].index,1)[0]\n",
    "    return recomendation"
   ]
  },
  {
   "cell_type": "code",
   "execution_count": 17,
   "id": "published-senegal",
   "metadata": {},
   "outputs": [],
   "source": [
    "#recomendation = recommender(highest_rating,reco_pool,R_true_df)"
   ]
  },
  {
   "cell_type": "code",
   "execution_count": 22,
   "id": "blocked-foster",
   "metadata": {},
   "outputs": [
    {
     "name": "stdout",
     "output_type": "stream",
     "text": [
      "['English Vinglish', 'Madame Sousatzka', 'All Yours', 'Little Murders', 'Hollywood Chainsaw Hookers']\n"
     ]
    }
   ],
   "source": [
    "if __name__ == '__main__':\n",
    "    \n",
    "    ratings = read_file('rating_movie_title.csv')\n",
    "    user_rating_matrix = read_file('user_rating_metrix.csv')\n",
    "    user_rating = {\n",
    "    'the sounds of music': 5,\n",
    "    'terminator': 5,\n",
    "    'star wars': 2\n",
    "    }\n",
    "    \n",
    "    user_rating_matrix_update = update_new_user_to_user_rating_matrix(user_rating, user_rating_matrix)\n",
    "\n",
    "    imputer = KNNImputer(n_neighbors=2)\n",
    "    data = user_rating_matrix_update\n",
    "    R_true,R_true_df=imputer0(imputer,data) \n",
    "    \n",
    "    \n",
    "    model = NMF(n_components=2)\n",
    "    R_predict = get_R_predict(model,R_true)\n",
    "    \n",
    "    user_id = R_predict.index[-1]\n",
    "    highest_rating = get_highest_rating(user_id,R_true_df)\n",
    "\n",
    "    reco_pool=get_reco_pool(user_id,df=user_rating_matrix_update)\n",
    "    \n",
    "    recomendation = recommender(user_id,highest_rating,reco_pool,R_true_df)\n",
    "    print(recomendation)"
   ]
  },
  {
   "cell_type": "code",
   "execution_count": null,
   "id": "young-twist",
   "metadata": {},
   "outputs": [],
   "source": []
  }
 ],
 "metadata": {
  "kernelspec": {
   "display_name": "Python 3",
   "language": "python",
   "name": "python3"
  },
  "language_info": {
   "codemirror_mode": {
    "name": "ipython",
    "version": 3
   },
   "file_extension": ".py",
   "mimetype": "text/x-python",
   "name": "python",
   "nbconvert_exporter": "python",
   "pygments_lexer": "ipython3",
   "version": "3.8.2"
  }
 },
 "nbformat": 4,
 "nbformat_minor": 5
}
