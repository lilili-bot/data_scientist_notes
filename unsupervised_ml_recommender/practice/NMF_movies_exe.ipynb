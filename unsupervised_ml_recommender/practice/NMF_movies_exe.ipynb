{
 "cells": [
  {
   "cell_type": "code",
   "execution_count": 6,
   "id": "bottom-orleans",
   "metadata": {},
   "outputs": [],
   "source": [
    "import numpy as np\n",
    "import pandas as pd\n",
    "import matplotlib.pyplot as plt\n",
    "import seaborn as sns"
   ]
  },
  {
   "cell_type": "code",
   "execution_count": 7,
   "id": "entire-shaft",
   "metadata": {
    "tags": []
   },
   "outputs": [],
   "source": [
    "def read_file(url):\n",
    "    '''this function is to read file from local path.'''\n",
    "    with open(url) as f:\n",
    "        df = pd.read_csv(url,decimal=';')\n",
    "        df.columns = df.columns.str.lower().str.replace(' ','_').str.replace('(', '').str.replace(')', '')\n",
    "        df.sort_values('movieid', ascending=True, axis=0,inplace=True)\n",
    "        df.set_index('movieid',drop=False,inplace=True)\n",
    "    return df"
   ]
  },
  {
   "cell_type": "code",
   "execution_count": 8,
   "id": "smart-intranet",
   "metadata": {
    "tags": []
   },
   "outputs": [],
   "source": [
    "ratings = read_file('../data/ratings.csv')"
   ]
  },
  {
   "cell_type": "code",
   "execution_count": 9,
   "id": "precious-papua",
   "metadata": {
    "tags": []
   },
   "outputs": [],
   "source": [
    "movies_genres = read_file('../data/movies_genres.csv')"
   ]
  },
  {
   "cell_type": "code",
   "execution_count": 10,
   "id": "alpine-clothing",
   "metadata": {
    "tags": []
   },
   "outputs": [
    {
     "data": {
      "text/html": [
       "<div>\n",
       "<style scoped>\n",
       "    .dataframe tbody tr th:only-of-type {\n",
       "        vertical-align: middle;\n",
       "    }\n",
       "\n",
       "    .dataframe tbody tr th {\n",
       "        vertical-align: top;\n",
       "    }\n",
       "\n",
       "    .dataframe thead th {\n",
       "        text-align: right;\n",
       "    }\n",
       "</style>\n",
       "<table border=\"1\" class=\"dataframe\">\n",
       "  <thead>\n",
       "    <tr style=\"text-align: right;\">\n",
       "      <th></th>\n",
       "      <th>userid</th>\n",
       "      <th>movieid</th>\n",
       "      <th>rating</th>\n",
       "      <th>timestamp</th>\n",
       "    </tr>\n",
       "    <tr>\n",
       "      <th>movieid</th>\n",
       "      <th></th>\n",
       "      <th></th>\n",
       "      <th></th>\n",
       "      <th></th>\n",
       "    </tr>\n",
       "  </thead>\n",
       "  <tbody>\n",
       "    <tr>\n",
       "      <th>1</th>\n",
       "      <td>1</td>\n",
       "      <td>1</td>\n",
       "      <td>4.0</td>\n",
       "      <td>964982703</td>\n",
       "    </tr>\n",
       "    <tr>\n",
       "      <th>1</th>\n",
       "      <td>517</td>\n",
       "      <td>1</td>\n",
       "      <td>4.0</td>\n",
       "      <td>1487954343</td>\n",
       "    </tr>\n",
       "    <tr>\n",
       "      <th>1</th>\n",
       "      <td>213</td>\n",
       "      <td>1</td>\n",
       "      <td>3.5</td>\n",
       "      <td>1316196157</td>\n",
       "    </tr>\n",
       "    <tr>\n",
       "      <th>1</th>\n",
       "      <td>514</td>\n",
       "      <td>1</td>\n",
       "      <td>4.0</td>\n",
       "      <td>1533872400</td>\n",
       "    </tr>\n",
       "    <tr>\n",
       "      <th>1</th>\n",
       "      <td>214</td>\n",
       "      <td>1</td>\n",
       "      <td>3.0</td>\n",
       "      <td>853937855</td>\n",
       "    </tr>\n",
       "  </tbody>\n",
       "</table>\n",
       "</div>"
      ],
      "text/plain": [
       "         userid  movieid rating   timestamp\n",
       "movieid                                    \n",
       "1             1        1    4.0   964982703\n",
       "1           517        1    4.0  1487954343\n",
       "1           213        1    3.5  1316196157\n",
       "1           514        1    4.0  1533872400\n",
       "1           214        1    3.0   853937855"
      ]
     },
     "execution_count": 10,
     "metadata": {},
     "output_type": "execute_result"
    }
   ],
   "source": [
    "ratings.head(5)"
   ]
  },
  {
   "cell_type": "code",
   "execution_count": 11,
   "id": "liquid-officer",
   "metadata": {},
   "outputs": [],
   "source": [
    "ratings['movie_title'] = None\n",
    "def get_movie_title(movieid):\n",
    "    for m_id in movieid:\n",
    "        ratings.loc[m_id,'movie_title'] = movies_genres.loc[m_id,'title']\n",
    "    return ratings['movie_title']"
   ]
  },
  {
   "cell_type": "code",
   "execution_count": 12,
   "id": "prime-number",
   "metadata": {
    "scrolled": true,
    "tags": []
   },
   "outputs": [
    {
     "data": {
      "text/plain": [
       "movieid\n",
       "1                                  Toy Story\n",
       "1                                  Toy Story\n",
       "1                                  Toy Story\n",
       "1                                  Toy Story\n",
       "1                                  Toy Story\n",
       "                         ...                \n",
       "193581    Black Butler: Book of the Atlantic\n",
       "193583                 No Game No Life: Zero\n",
       "193585                                 Flint\n",
       "193587          Bungo Stray Dogs: Dead Apple\n",
       "193609          Andrew Dice Clay: Dice Rules\n",
       "Name: movie_title, Length: 100836, dtype: object"
      ]
     },
     "execution_count": 12,
     "metadata": {},
     "output_type": "execute_result"
    }
   ],
   "source": [
    "movieid=ratings.index.unique()\n",
    "get_movie_title(movieid)"
   ]
  },
  {
   "cell_type": "code",
   "execution_count": 13,
   "id": "electric-pricing",
   "metadata": {},
   "outputs": [],
   "source": [
    "ratings.dropna(subset=['movie_title'],inplace=True)"
   ]
  },
  {
   "cell_type": "code",
   "execution_count": 14,
   "id": "pursuant-posting",
   "metadata": {},
   "outputs": [],
   "source": [
    "ratings.to_csv('rating_movie_title.csv',index=False)"
   ]
  },
  {
   "cell_type": "code",
   "execution_count": 39,
   "id": "anticipated-municipality",
   "metadata": {},
   "outputs": [],
   "source": []
  },
  {
   "cell_type": "code",
   "execution_count": 40,
   "id": "olive-accuracy",
   "metadata": {},
   "outputs": [],
   "source": [
    "user_rating_metrix = ratings.drop_duplicates(subset=['movie_title','userid'], keep='last').pivot('userid','movie_title','rating')"
   ]
  },
  {
   "cell_type": "code",
   "execution_count": 41,
   "id": "lesser-association",
   "metadata": {},
   "outputs": [],
   "source": [
    "#user_rating_metrix.to_csv('user_rating_metrix.csv')"
   ]
  },
  {
   "cell_type": "code",
   "execution_count": null,
   "id": "alleged-temple",
   "metadata": {
    "scrolled": true,
    "tags": []
   },
   "outputs": [],
   "source": [
    "# impute, try not bias, less manipulation"
   ]
  },
  {
   "cell_type": "code",
   "execution_count": 42,
   "id": "fantastic-daily",
   "metadata": {},
   "outputs": [],
   "source": [
    "from sklearn.impute import KNNImputer"
   ]
  },
  {
   "cell_type": "code",
   "execution_count": 43,
   "id": "agreed-queens",
   "metadata": {},
   "outputs": [],
   "source": [
    "imputer = KNNImputer(n_neighbors=  2)"
   ]
  },
  {
   "cell_type": "code",
   "execution_count": 44,
   "id": "younger-democracy",
   "metadata": {},
   "outputs": [],
   "source": [
    "Rtrue = imputer.fit_transform(user_rating_metrix)"
   ]
  },
  {
   "cell_type": "code",
   "execution_count": 23,
   "id": "junior-boards",
   "metadata": {},
   "outputs": [
    {
     "data": {
      "text/plain": [
       "(610, 9433)"
      ]
     },
     "execution_count": 23,
     "metadata": {},
     "output_type": "execute_result"
    }
   ],
   "source": [
    "Rtrue.shape"
   ]
  },
  {
   "cell_type": "code",
   "execution_count": 154,
   "id": "perceived-complaint",
   "metadata": {},
   "outputs": [],
   "source": [
    "def imputer0(imputer,data):\n",
    "    R_true = np.empty([len(user_rating_metrix.index), len(user_rating_metrix.columns)])\n",
    "    R_true = imputer.fit_transform(data)\n",
    "    return R_true\n",
    "imputer = KNNImputer(n_neighbors=2)\n",
    "data = user_rating_metrix\n",
    "R_true=imputer0(imputer,data)"
   ]
  },
  {
   "cell_type": "code",
   "execution_count": 156,
   "id": "limiting-music",
   "metadata": {},
   "outputs": [
    {
     "data": {
      "text/plain": [
       "(610, 9433)"
      ]
     },
     "execution_count": 156,
     "metadata": {},
     "output_type": "execute_result"
    }
   ],
   "source": [
    "R_true.shape"
   ]
  },
  {
   "cell_type": "code",
   "execution_count": 58,
   "id": "driven-analyst",
   "metadata": {},
   "outputs": [],
   "source": [
    "from sklearn.decomposition import NMF\n",
    "\n",
    "model = NMF(n_components=2)  "
   ]
  },
  {
   "cell_type": "code",
   "execution_count": 68,
   "id": "approximate-fellow",
   "metadata": {},
   "outputs": [],
   "source": [
    "def get_R_predict(model_,Rtrue):\n",
    "    model.fit(Rtrue)\n",
    "    p = model.components_\n",
    "    q = model.transform(Rtrue)\n",
    "    #Q_df = pd.DataFrame(model.components_, columns=user_rating_metrix.columns, index=['feature1', 'feature2'])\n",
    "    #P_df = pd.DataFrame(model.transform(Rtrue), columns=['feature1', 'feature2'], index= user_rating_metrix.index)\n",
    "    R = pd.DataFrame(np.dot(P, Q).round(), index=user_rating_metrix.index, columns=user_rating_metrix.columns)\n",
    "    return R    "
   ]
  },
  {
   "cell_type": "code",
   "execution_count": 70,
   "id": "collect-conditions",
   "metadata": {
    "scrolled": true,
    "tags": []
   },
   "outputs": [
    {
     "name": "stderr",
     "output_type": "stream",
     "text": [
      "/Users/lilycheng/opt/anaconda3/lib/python3.8/site-packages/sklearn/decomposition/_nmf.py:1076: ConvergenceWarning: Maximum number of iterations 200 reached. Increase it to improve convergence.\n",
      "  warnings.warn(\"Maximum number of iterations %d reached. Increase it to\"\n"
     ]
    },
    {
     "data": {
      "text/html": [
       "<div>\n",
       "<style scoped>\n",
       "    .dataframe tbody tr th:only-of-type {\n",
       "        vertical-align: middle;\n",
       "    }\n",
       "\n",
       "    .dataframe tbody tr th {\n",
       "        vertical-align: top;\n",
       "    }\n",
       "\n",
       "    .dataframe thead th {\n",
       "        text-align: right;\n",
       "    }\n",
       "</style>\n",
       "<table border=\"1\" class=\"dataframe\">\n",
       "  <thead>\n",
       "    <tr style=\"text-align: right;\">\n",
       "      <th>movie_title</th>\n",
       "      <th>'71</th>\n",
       "      <th>'Hellboy': The Seeds of Creation</th>\n",
       "      <th>'Round Midnight</th>\n",
       "      <th>'Salem's Lot</th>\n",
       "      <th>'Til There Was You</th>\n",
       "      <th>'Tis the Season for Love</th>\n",
       "      <th>'burbs, The</th>\n",
       "      <th>'night Mother</th>\n",
       "      <th>(500) Days of Summer</th>\n",
       "      <th>*batteries not included</th>\n",
       "      <th>...</th>\n",
       "      <th>Zulu</th>\n",
       "      <th>[REC]</th>\n",
       "      <th>[REC]²</th>\n",
       "      <th>[REC]³ 3 Génesis</th>\n",
       "      <th>anohana: The Flower We Saw That Day - The Movie</th>\n",
       "      <th>eXistenZ</th>\n",
       "      <th>xXx</th>\n",
       "      <th>xXx: State of the Union</th>\n",
       "      <th>¡Three Amigos!</th>\n",
       "      <th>À nous la liberté (Freedom for Us)</th>\n",
       "    </tr>\n",
       "    <tr>\n",
       "      <th>userid</th>\n",
       "      <th></th>\n",
       "      <th></th>\n",
       "      <th></th>\n",
       "      <th></th>\n",
       "      <th></th>\n",
       "      <th></th>\n",
       "      <th></th>\n",
       "      <th></th>\n",
       "      <th></th>\n",
       "      <th></th>\n",
       "      <th></th>\n",
       "      <th></th>\n",
       "      <th></th>\n",
       "      <th></th>\n",
       "      <th></th>\n",
       "      <th></th>\n",
       "      <th></th>\n",
       "      <th></th>\n",
       "      <th></th>\n",
       "      <th></th>\n",
       "      <th></th>\n",
       "    </tr>\n",
       "  </thead>\n",
       "  <tbody>\n",
       "    <tr>\n",
       "      <th>1</th>\n",
       "      <td>4.0</td>\n",
       "      <td>4.0</td>\n",
       "      <td>4.0</td>\n",
       "      <td>5.0</td>\n",
       "      <td>4.0</td>\n",
       "      <td>2.0</td>\n",
       "      <td>4.0</td>\n",
       "      <td>3.0</td>\n",
       "      <td>4.0</td>\n",
       "      <td>4.0</td>\n",
       "      <td>...</td>\n",
       "      <td>4.0</td>\n",
       "      <td>4.0</td>\n",
       "      <td>4.0</td>\n",
       "      <td>3.0</td>\n",
       "      <td>3.0</td>\n",
       "      <td>4.0</td>\n",
       "      <td>3.0</td>\n",
       "      <td>2.0</td>\n",
       "      <td>4.0</td>\n",
       "      <td>1.0</td>\n",
       "    </tr>\n",
       "    <tr>\n",
       "      <th>2</th>\n",
       "      <td>4.0</td>\n",
       "      <td>4.0</td>\n",
       "      <td>4.0</td>\n",
       "      <td>5.0</td>\n",
       "      <td>4.0</td>\n",
       "      <td>2.0</td>\n",
       "      <td>4.0</td>\n",
       "      <td>3.0</td>\n",
       "      <td>4.0</td>\n",
       "      <td>3.0</td>\n",
       "      <td>...</td>\n",
       "      <td>3.0</td>\n",
       "      <td>4.0</td>\n",
       "      <td>4.0</td>\n",
       "      <td>3.0</td>\n",
       "      <td>3.0</td>\n",
       "      <td>4.0</td>\n",
       "      <td>3.0</td>\n",
       "      <td>2.0</td>\n",
       "      <td>3.0</td>\n",
       "      <td>1.0</td>\n",
       "    </tr>\n",
       "    <tr>\n",
       "      <th>3</th>\n",
       "      <td>4.0</td>\n",
       "      <td>4.0</td>\n",
       "      <td>3.0</td>\n",
       "      <td>5.0</td>\n",
       "      <td>4.0</td>\n",
       "      <td>1.0</td>\n",
       "      <td>3.0</td>\n",
       "      <td>3.0</td>\n",
       "      <td>4.0</td>\n",
       "      <td>3.0</td>\n",
       "      <td>...</td>\n",
       "      <td>3.0</td>\n",
       "      <td>4.0</td>\n",
       "      <td>4.0</td>\n",
       "      <td>3.0</td>\n",
       "      <td>3.0</td>\n",
       "      <td>4.0</td>\n",
       "      <td>3.0</td>\n",
       "      <td>2.0</td>\n",
       "      <td>3.0</td>\n",
       "      <td>1.0</td>\n",
       "    </tr>\n",
       "    <tr>\n",
       "      <th>4</th>\n",
       "      <td>4.0</td>\n",
       "      <td>4.0</td>\n",
       "      <td>3.0</td>\n",
       "      <td>5.0</td>\n",
       "      <td>4.0</td>\n",
       "      <td>1.0</td>\n",
       "      <td>3.0</td>\n",
       "      <td>3.0</td>\n",
       "      <td>4.0</td>\n",
       "      <td>3.0</td>\n",
       "      <td>...</td>\n",
       "      <td>3.0</td>\n",
       "      <td>4.0</td>\n",
       "      <td>4.0</td>\n",
       "      <td>3.0</td>\n",
       "      <td>3.0</td>\n",
       "      <td>4.0</td>\n",
       "      <td>3.0</td>\n",
       "      <td>2.0</td>\n",
       "      <td>3.0</td>\n",
       "      <td>1.0</td>\n",
       "    </tr>\n",
       "    <tr>\n",
       "      <th>5</th>\n",
       "      <td>4.0</td>\n",
       "      <td>4.0</td>\n",
       "      <td>4.0</td>\n",
       "      <td>5.0</td>\n",
       "      <td>4.0</td>\n",
       "      <td>2.0</td>\n",
       "      <td>3.0</td>\n",
       "      <td>3.0</td>\n",
       "      <td>4.0</td>\n",
       "      <td>3.0</td>\n",
       "      <td>...</td>\n",
       "      <td>3.0</td>\n",
       "      <td>4.0</td>\n",
       "      <td>4.0</td>\n",
       "      <td>3.0</td>\n",
       "      <td>3.0</td>\n",
       "      <td>4.0</td>\n",
       "      <td>3.0</td>\n",
       "      <td>2.0</td>\n",
       "      <td>3.0</td>\n",
       "      <td>1.0</td>\n",
       "    </tr>\n",
       "    <tr>\n",
       "      <th>...</th>\n",
       "      <td>...</td>\n",
       "      <td>...</td>\n",
       "      <td>...</td>\n",
       "      <td>...</td>\n",
       "      <td>...</td>\n",
       "      <td>...</td>\n",
       "      <td>...</td>\n",
       "      <td>...</td>\n",
       "      <td>...</td>\n",
       "      <td>...</td>\n",
       "      <td>...</td>\n",
       "      <td>...</td>\n",
       "      <td>...</td>\n",
       "      <td>...</td>\n",
       "      <td>...</td>\n",
       "      <td>...</td>\n",
       "      <td>...</td>\n",
       "      <td>...</td>\n",
       "      <td>...</td>\n",
       "      <td>...</td>\n",
       "      <td>...</td>\n",
       "    </tr>\n",
       "    <tr>\n",
       "      <th>606</th>\n",
       "      <td>4.0</td>\n",
       "      <td>4.0</td>\n",
       "      <td>4.0</td>\n",
       "      <td>5.0</td>\n",
       "      <td>4.0</td>\n",
       "      <td>2.0</td>\n",
       "      <td>3.0</td>\n",
       "      <td>3.0</td>\n",
       "      <td>4.0</td>\n",
       "      <td>3.0</td>\n",
       "      <td>...</td>\n",
       "      <td>3.0</td>\n",
       "      <td>4.0</td>\n",
       "      <td>4.0</td>\n",
       "      <td>3.0</td>\n",
       "      <td>3.0</td>\n",
       "      <td>4.0</td>\n",
       "      <td>3.0</td>\n",
       "      <td>2.0</td>\n",
       "      <td>3.0</td>\n",
       "      <td>1.0</td>\n",
       "    </tr>\n",
       "    <tr>\n",
       "      <th>607</th>\n",
       "      <td>4.0</td>\n",
       "      <td>4.0</td>\n",
       "      <td>4.0</td>\n",
       "      <td>5.0</td>\n",
       "      <td>4.0</td>\n",
       "      <td>2.0</td>\n",
       "      <td>4.0</td>\n",
       "      <td>3.0</td>\n",
       "      <td>4.0</td>\n",
       "      <td>3.0</td>\n",
       "      <td>...</td>\n",
       "      <td>4.0</td>\n",
       "      <td>4.0</td>\n",
       "      <td>4.0</td>\n",
       "      <td>3.0</td>\n",
       "      <td>3.0</td>\n",
       "      <td>4.0</td>\n",
       "      <td>3.0</td>\n",
       "      <td>2.0</td>\n",
       "      <td>3.0</td>\n",
       "      <td>1.0</td>\n",
       "    </tr>\n",
       "    <tr>\n",
       "      <th>608</th>\n",
       "      <td>4.0</td>\n",
       "      <td>4.0</td>\n",
       "      <td>3.0</td>\n",
       "      <td>5.0</td>\n",
       "      <td>4.0</td>\n",
       "      <td>1.0</td>\n",
       "      <td>3.0</td>\n",
       "      <td>3.0</td>\n",
       "      <td>4.0</td>\n",
       "      <td>3.0</td>\n",
       "      <td>...</td>\n",
       "      <td>3.0</td>\n",
       "      <td>4.0</td>\n",
       "      <td>4.0</td>\n",
       "      <td>3.0</td>\n",
       "      <td>3.0</td>\n",
       "      <td>4.0</td>\n",
       "      <td>3.0</td>\n",
       "      <td>2.0</td>\n",
       "      <td>3.0</td>\n",
       "      <td>1.0</td>\n",
       "    </tr>\n",
       "    <tr>\n",
       "      <th>609</th>\n",
       "      <td>4.0</td>\n",
       "      <td>4.0</td>\n",
       "      <td>4.0</td>\n",
       "      <td>5.0</td>\n",
       "      <td>4.0</td>\n",
       "      <td>2.0</td>\n",
       "      <td>3.0</td>\n",
       "      <td>3.0</td>\n",
       "      <td>4.0</td>\n",
       "      <td>3.0</td>\n",
       "      <td>...</td>\n",
       "      <td>3.0</td>\n",
       "      <td>4.0</td>\n",
       "      <td>4.0</td>\n",
       "      <td>3.0</td>\n",
       "      <td>3.0</td>\n",
       "      <td>4.0</td>\n",
       "      <td>3.0</td>\n",
       "      <td>2.0</td>\n",
       "      <td>3.0</td>\n",
       "      <td>1.0</td>\n",
       "    </tr>\n",
       "    <tr>\n",
       "      <th>610</th>\n",
       "      <td>4.0</td>\n",
       "      <td>4.0</td>\n",
       "      <td>4.0</td>\n",
       "      <td>5.0</td>\n",
       "      <td>4.0</td>\n",
       "      <td>2.0</td>\n",
       "      <td>4.0</td>\n",
       "      <td>3.0</td>\n",
       "      <td>4.0</td>\n",
       "      <td>4.0</td>\n",
       "      <td>...</td>\n",
       "      <td>4.0</td>\n",
       "      <td>4.0</td>\n",
       "      <td>4.0</td>\n",
       "      <td>3.0</td>\n",
       "      <td>3.0</td>\n",
       "      <td>4.0</td>\n",
       "      <td>3.0</td>\n",
       "      <td>2.0</td>\n",
       "      <td>3.0</td>\n",
       "      <td>1.0</td>\n",
       "    </tr>\n",
       "  </tbody>\n",
       "</table>\n",
       "<p>610 rows × 9433 columns</p>\n",
       "</div>"
      ],
      "text/plain": [
       "movie_title  '71  'Hellboy': The Seeds of Creation  'Round Midnight  \\\n",
       "userid                                                                \n",
       "1            4.0                               4.0              4.0   \n",
       "2            4.0                               4.0              4.0   \n",
       "3            4.0                               4.0              3.0   \n",
       "4            4.0                               4.0              3.0   \n",
       "5            4.0                               4.0              4.0   \n",
       "...          ...                               ...              ...   \n",
       "606          4.0                               4.0              4.0   \n",
       "607          4.0                               4.0              4.0   \n",
       "608          4.0                               4.0              3.0   \n",
       "609          4.0                               4.0              4.0   \n",
       "610          4.0                               4.0              4.0   \n",
       "\n",
       "movie_title  'Salem's Lot  'Til There Was You  'Tis the Season for Love  \\\n",
       "userid                                                                    \n",
       "1                     5.0                 4.0                       2.0   \n",
       "2                     5.0                 4.0                       2.0   \n",
       "3                     5.0                 4.0                       1.0   \n",
       "4                     5.0                 4.0                       1.0   \n",
       "5                     5.0                 4.0                       2.0   \n",
       "...                   ...                 ...                       ...   \n",
       "606                   5.0                 4.0                       2.0   \n",
       "607                   5.0                 4.0                       2.0   \n",
       "608                   5.0                 4.0                       1.0   \n",
       "609                   5.0                 4.0                       2.0   \n",
       "610                   5.0                 4.0                       2.0   \n",
       "\n",
       "movie_title  'burbs, The  'night Mother  (500) Days of Summer  \\\n",
       "userid                                                          \n",
       "1                    4.0            3.0                   4.0   \n",
       "2                    4.0            3.0                   4.0   \n",
       "3                    3.0            3.0                   4.0   \n",
       "4                    3.0            3.0                   4.0   \n",
       "5                    3.0            3.0                   4.0   \n",
       "...                  ...            ...                   ...   \n",
       "606                  3.0            3.0                   4.0   \n",
       "607                  4.0            3.0                   4.0   \n",
       "608                  3.0            3.0                   4.0   \n",
       "609                  3.0            3.0                   4.0   \n",
       "610                  4.0            3.0                   4.0   \n",
       "\n",
       "movie_title  *batteries not included  ...  Zulu  [REC]  [REC]²  \\\n",
       "userid                                ...                        \n",
       "1                                4.0  ...   4.0    4.0     4.0   \n",
       "2                                3.0  ...   3.0    4.0     4.0   \n",
       "3                                3.0  ...   3.0    4.0     4.0   \n",
       "4                                3.0  ...   3.0    4.0     4.0   \n",
       "5                                3.0  ...   3.0    4.0     4.0   \n",
       "...                              ...  ...   ...    ...     ...   \n",
       "606                              3.0  ...   3.0    4.0     4.0   \n",
       "607                              3.0  ...   4.0    4.0     4.0   \n",
       "608                              3.0  ...   3.0    4.0     4.0   \n",
       "609                              3.0  ...   3.0    4.0     4.0   \n",
       "610                              4.0  ...   4.0    4.0     4.0   \n",
       "\n",
       "movie_title  [REC]³ 3 Génesis  \\\n",
       "userid                          \n",
       "1                         3.0   \n",
       "2                         3.0   \n",
       "3                         3.0   \n",
       "4                         3.0   \n",
       "5                         3.0   \n",
       "...                       ...   \n",
       "606                       3.0   \n",
       "607                       3.0   \n",
       "608                       3.0   \n",
       "609                       3.0   \n",
       "610                       3.0   \n",
       "\n",
       "movie_title  anohana: The Flower We Saw That Day - The Movie  eXistenZ  xXx  \\\n",
       "userid                                                                        \n",
       "1                                                        3.0       4.0  3.0   \n",
       "2                                                        3.0       4.0  3.0   \n",
       "3                                                        3.0       4.0  3.0   \n",
       "4                                                        3.0       4.0  3.0   \n",
       "5                                                        3.0       4.0  3.0   \n",
       "...                                                      ...       ...  ...   \n",
       "606                                                      3.0       4.0  3.0   \n",
       "607                                                      3.0       4.0  3.0   \n",
       "608                                                      3.0       4.0  3.0   \n",
       "609                                                      3.0       4.0  3.0   \n",
       "610                                                      3.0       4.0  3.0   \n",
       "\n",
       "movie_title  xXx: State of the Union  ¡Three Amigos!  \\\n",
       "userid                                                 \n",
       "1                                2.0             4.0   \n",
       "2                                2.0             3.0   \n",
       "3                                2.0             3.0   \n",
       "4                                2.0             3.0   \n",
       "5                                2.0             3.0   \n",
       "...                              ...             ...   \n",
       "606                              2.0             3.0   \n",
       "607                              2.0             3.0   \n",
       "608                              2.0             3.0   \n",
       "609                              2.0             3.0   \n",
       "610                              2.0             3.0   \n",
       "\n",
       "movie_title  À nous la liberté (Freedom for Us)  \n",
       "userid                                           \n",
       "1                                           1.0  \n",
       "2                                           1.0  \n",
       "3                                           1.0  \n",
       "4                                           1.0  \n",
       "5                                           1.0  \n",
       "...                                         ...  \n",
       "606                                         1.0  \n",
       "607                                         1.0  \n",
       "608                                         1.0  \n",
       "609                                         1.0  \n",
       "610                                         1.0  \n",
       "\n",
       "[610 rows x 9433 columns]"
      ]
     },
     "execution_count": 70,
     "metadata": {},
     "output_type": "execute_result"
    }
   ],
   "source": [
    "model_ = NMF(n_components=2)\n",
    "get_R_predict(model_,Rtrue)"
   ]
  },
  {
   "cell_type": "code",
   "execution_count": 59,
   "id": "neither-extra",
   "metadata": {
    "tags": []
   },
   "outputs": [
    {
     "name": "stderr",
     "output_type": "stream",
     "text": [
      "/Users/lilycheng/opt/anaconda3/lib/python3.8/site-packages/sklearn/decomposition/_nmf.py:1076: ConvergenceWarning: Maximum number of iterations 200 reached. Increase it to improve convergence.\n",
      "  warnings.warn(\"Maximum number of iterations %d reached. Increase it to\"\n"
     ]
    },
    {
     "data": {
      "text/plain": [
       "NMF(n_components=2)"
      ]
     },
     "execution_count": 59,
     "metadata": {},
     "output_type": "execute_result"
    }
   ],
   "source": [
    "model.fit(Rtrue)"
   ]
  },
  {
   "cell_type": "markdown",
   "id": "focal-purchase",
   "metadata": {},
   "source": [
    "- Get matrices Q and P"
   ]
  },
  {
   "cell_type": "code",
   "execution_count": 60,
   "id": "associate-registrar",
   "metadata": {
    "tags": []
   },
   "outputs": [],
   "source": [
    "Q = model.components_"
   ]
  },
  {
   "cell_type": "code",
   "execution_count": 61,
   "id": "ready-integral",
   "metadata": {
    "tags": []
   },
   "outputs": [
    {
     "data": {
      "text/html": [
       "<div>\n",
       "<style scoped>\n",
       "    .dataframe tbody tr th:only-of-type {\n",
       "        vertical-align: middle;\n",
       "    }\n",
       "\n",
       "    .dataframe tbody tr th {\n",
       "        vertical-align: top;\n",
       "    }\n",
       "\n",
       "    .dataframe thead th {\n",
       "        text-align: right;\n",
       "    }\n",
       "</style>\n",
       "<table border=\"1\" class=\"dataframe\">\n",
       "  <thead>\n",
       "    <tr style=\"text-align: right;\">\n",
       "      <th>movie_title</th>\n",
       "      <th>'71</th>\n",
       "      <th>'Hellboy': The Seeds of Creation</th>\n",
       "      <th>'Round Midnight</th>\n",
       "      <th>'Salem's Lot</th>\n",
       "      <th>'Til There Was You</th>\n",
       "      <th>'Tis the Season for Love</th>\n",
       "      <th>'burbs, The</th>\n",
       "      <th>'night Mother</th>\n",
       "      <th>(500) Days of Summer</th>\n",
       "      <th>*batteries not included</th>\n",
       "      <th>...</th>\n",
       "      <th>Zulu</th>\n",
       "      <th>[REC]</th>\n",
       "      <th>[REC]²</th>\n",
       "      <th>[REC]³ 3 Génesis</th>\n",
       "      <th>anohana: The Flower We Saw That Day - The Movie</th>\n",
       "      <th>eXistenZ</th>\n",
       "      <th>xXx</th>\n",
       "      <th>xXx: State of the Union</th>\n",
       "      <th>¡Three Amigos!</th>\n",
       "      <th>À nous la liberté (Freedom for Us)</th>\n",
       "    </tr>\n",
       "  </thead>\n",
       "  <tbody>\n",
       "    <tr>\n",
       "      <th>feature1</th>\n",
       "      <td>1.106661</td>\n",
       "      <td>1.106661</td>\n",
       "      <td>0.968328</td>\n",
       "      <td>1.383326</td>\n",
       "      <td>1.105957</td>\n",
       "      <td>0.414998</td>\n",
       "      <td>0.815729</td>\n",
       "      <td>0.829995</td>\n",
       "      <td>0.967444</td>\n",
       "      <td>0.820065</td>\n",
       "      <td>...</td>\n",
       "      <td>0.690167</td>\n",
       "      <td>1.032679</td>\n",
       "      <td>1.038688</td>\n",
       "      <td>0.829995</td>\n",
       "      <td>0.829995</td>\n",
       "      <td>1.066347</td>\n",
       "      <td>0.781526</td>\n",
       "      <td>0.557678</td>\n",
       "      <td>0.829164</td>\n",
       "      <td>0.276665</td>\n",
       "    </tr>\n",
       "    <tr>\n",
       "      <th>feature2</th>\n",
       "      <td>0.251234</td>\n",
       "      <td>0.251234</td>\n",
       "      <td>0.219830</td>\n",
       "      <td>0.314042</td>\n",
       "      <td>0.253694</td>\n",
       "      <td>0.094213</td>\n",
       "      <td>0.822521</td>\n",
       "      <td>0.188425</td>\n",
       "      <td>0.594368</td>\n",
       "      <td>0.646604</td>\n",
       "      <td>...</td>\n",
       "      <td>1.085377</td>\n",
       "      <td>0.405480</td>\n",
       "      <td>0.076111</td>\n",
       "      <td>0.188425</td>\n",
       "      <td>0.188425</td>\n",
       "      <td>0.170809</td>\n",
       "      <td>0.210727</td>\n",
       "      <td>0.241989</td>\n",
       "      <td>0.528005</td>\n",
       "      <td>0.062808</td>\n",
       "    </tr>\n",
       "  </tbody>\n",
       "</table>\n",
       "<p>2 rows × 9433 columns</p>\n",
       "</div>"
      ],
      "text/plain": [
       "movie_title       '71  'Hellboy': The Seeds of Creation  'Round Midnight  \\\n",
       "feature1     1.106661                          1.106661         0.968328   \n",
       "feature2     0.251234                          0.251234         0.219830   \n",
       "\n",
       "movie_title  'Salem's Lot  'Til There Was You  'Tis the Season for Love  \\\n",
       "feature1         1.383326            1.105957                  0.414998   \n",
       "feature2         0.314042            0.253694                  0.094213   \n",
       "\n",
       "movie_title  'burbs, The  'night Mother  (500) Days of Summer  \\\n",
       "feature1        0.815729       0.829995              0.967444   \n",
       "feature2        0.822521       0.188425              0.594368   \n",
       "\n",
       "movie_title  *batteries not included  ...      Zulu     [REC]    [REC]²  \\\n",
       "feature1                    0.820065  ...  0.690167  1.032679  1.038688   \n",
       "feature2                    0.646604  ...  1.085377  0.405480  0.076111   \n",
       "\n",
       "movie_title  [REC]³ 3 Génesis  \\\n",
       "feature1             0.829995   \n",
       "feature2             0.188425   \n",
       "\n",
       "movie_title  anohana: The Flower We Saw That Day - The Movie  eXistenZ  \\\n",
       "feature1                                            0.829995  1.066347   \n",
       "feature2                                            0.188425  0.170809   \n",
       "\n",
       "movie_title       xXx  xXx: State of the Union  ¡Three Amigos!  \\\n",
       "feature1     0.781526                 0.557678        0.829164   \n",
       "feature2     0.210727                 0.241989        0.528005   \n",
       "\n",
       "movie_title  À nous la liberté (Freedom for Us)  \n",
       "feature1                               0.276665  \n",
       "feature2                               0.062808  \n",
       "\n",
       "[2 rows x 9433 columns]"
      ]
     },
     "execution_count": 61,
     "metadata": {},
     "output_type": "execute_result"
    }
   ],
   "source": [
    "Q_df = pd.DataFrame(model.components_, columns=user_rating_metrix.columns, index=['feature1', 'feature2'])\n",
    "Q_df"
   ]
  },
  {
   "cell_type": "code",
   "execution_count": 28,
   "id": "impressed-washer",
   "metadata": {
    "tags": []
   },
   "outputs": [
    {
     "data": {
      "text/plain": [
       "<AxesSubplot:xlabel='movie_title'>"
      ]
     },
     "execution_count": 28,
     "metadata": {},
     "output_type": "execute_result"
    },
    {
     "data": {
      "image/png": "[encoded data removed]",
      "text/plain": [
       "<Figure size 432x288 with 2 Axes>"
      ]
     },
     "metadata": {
      "needs_background": "light"
     },
     "output_type": "display_data"
    }
   ],
   "source": [
    "sns.heatmap(Q_df)"
   ]
  },
  {
   "cell_type": "code",
   "execution_count": 62,
   "id": "quality-artist",
   "metadata": {
    "tags": []
   },
   "outputs": [
    {
     "data": {
      "text/plain": [
       "(610, 2)"
      ]
     },
     "execution_count": 62,
     "metadata": {},
     "output_type": "execute_result"
    }
   ],
   "source": [
    "P = model.transform(Rtrue)\n",
    "P.shape"
   ]
  },
  {
   "cell_type": "code",
   "execution_count": 63,
   "id": "level-compact",
   "metadata": {
    "tags": []
   },
   "outputs": [
    {
     "data": {
      "text/html": [
       "<div>\n",
       "<style scoped>\n",
       "    .dataframe tbody tr th:only-of-type {\n",
       "        vertical-align: middle;\n",
       "    }\n",
       "\n",
       "    .dataframe tbody tr th {\n",
       "        vertical-align: top;\n",
       "    }\n",
       "\n",
       "    .dataframe thead th {\n",
       "        text-align: right;\n",
       "    }\n",
       "</style>\n",
       "<table border=\"1\" class=\"dataframe\">\n",
       "  <thead>\n",
       "    <tr style=\"text-align: right;\">\n",
       "      <th></th>\n",
       "      <th>feature1</th>\n",
       "      <th>feature2</th>\n",
       "    </tr>\n",
       "    <tr>\n",
       "      <th>userid</th>\n",
       "      <th></th>\n",
       "      <th></th>\n",
       "    </tr>\n",
       "  </thead>\n",
       "  <tbody>\n",
       "    <tr>\n",
       "      <th>1</th>\n",
       "      <td>3.259075</td>\n",
       "      <td>1.574434</td>\n",
       "    </tr>\n",
       "    <tr>\n",
       "      <th>2</th>\n",
       "      <td>3.408803</td>\n",
       "      <td>0.966938</td>\n",
       "    </tr>\n",
       "    <tr>\n",
       "      <th>3</th>\n",
       "      <td>3.480534</td>\n",
       "      <td>0.501537</td>\n",
       "    </tr>\n",
       "    <tr>\n",
       "      <th>4</th>\n",
       "      <td>3.493372</td>\n",
       "      <td>0.519058</td>\n",
       "    </tr>\n",
       "    <tr>\n",
       "      <th>5</th>\n",
       "      <td>3.488051</td>\n",
       "      <td>0.598738</td>\n",
       "    </tr>\n",
       "    <tr>\n",
       "      <th>...</th>\n",
       "      <td>...</td>\n",
       "      <td>...</td>\n",
       "    </tr>\n",
       "    <tr>\n",
       "      <th>606</th>\n",
       "      <td>3.459868</td>\n",
       "      <td>0.795789</td>\n",
       "    </tr>\n",
       "    <tr>\n",
       "      <th>607</th>\n",
       "      <td>3.355437</td>\n",
       "      <td>1.141842</td>\n",
       "    </tr>\n",
       "    <tr>\n",
       "      <th>608</th>\n",
       "      <td>3.432402</td>\n",
       "      <td>0.753136</td>\n",
       "    </tr>\n",
       "    <tr>\n",
       "      <th>609</th>\n",
       "      <td>3.532382</td>\n",
       "      <td>0.437695</td>\n",
       "    </tr>\n",
       "    <tr>\n",
       "      <th>610</th>\n",
       "      <td>3.360874</td>\n",
       "      <td>1.193204</td>\n",
       "    </tr>\n",
       "  </tbody>\n",
       "</table>\n",
       "<p>610 rows × 2 columns</p>\n",
       "</div>"
      ],
      "text/plain": [
       "        feature1  feature2\n",
       "userid                    \n",
       "1       3.259075  1.574434\n",
       "2       3.408803  0.966938\n",
       "3       3.480534  0.501537\n",
       "4       3.493372  0.519058\n",
       "5       3.488051  0.598738\n",
       "...          ...       ...\n",
       "606     3.459868  0.795789\n",
       "607     3.355437  1.141842\n",
       "608     3.432402  0.753136\n",
       "609     3.532382  0.437695\n",
       "610     3.360874  1.193204\n",
       "\n",
       "[610 rows x 2 columns]"
      ]
     },
     "execution_count": 63,
     "metadata": {},
     "output_type": "execute_result"
    }
   ],
   "source": [
    "P_df = pd.DataFrame(P, columns=['feature1', 'feature2'], index= user_rating_metrix.index)\n",
    "P_df"
   ]
  },
  {
   "cell_type": "code",
   "execution_count": 33,
   "id": "standing-conference",
   "metadata": {
    "tags": []
   },
   "outputs": [
    {
     "data": {
      "text/plain": [
       "871.3926881434488"
      ]
     },
     "execution_count": 33,
     "metadata": {},
     "output_type": "execute_result"
    }
   ],
   "source": [
    "model.reconstruction_err_"
   ]
  },
  {
   "cell_type": "code",
   "execution_count": 64,
   "id": "compatible-hampshire",
   "metadata": {
    "tags": []
   },
   "outputs": [],
   "source": [
    "R = pd.DataFrame(np.dot(P, Q).round(), index=user_rating_metrix.index, columns=user_rating_metrix.columns)"
   ]
  },
  {
   "cell_type": "code",
   "execution_count": 65,
   "id": "piano-hampton",
   "metadata": {
    "tags": []
   },
   "outputs": [
    {
     "data": {
      "text/html": [
       "<div>\n",
       "<style scoped>\n",
       "    .dataframe tbody tr th:only-of-type {\n",
       "        vertical-align: middle;\n",
       "    }\n",
       "\n",
       "    .dataframe tbody tr th {\n",
       "        vertical-align: top;\n",
       "    }\n",
       "\n",
       "    .dataframe thead th {\n",
       "        text-align: right;\n",
       "    }\n",
       "</style>\n",
       "<table border=\"1\" class=\"dataframe\">\n",
       "  <thead>\n",
       "    <tr style=\"text-align: right;\">\n",
       "      <th>movie_title</th>\n",
       "      <th>'71</th>\n",
       "      <th>'Hellboy': The Seeds of Creation</th>\n",
       "      <th>'Round Midnight</th>\n",
       "      <th>'Salem's Lot</th>\n",
       "      <th>'Til There Was You</th>\n",
       "      <th>'Tis the Season for Love</th>\n",
       "      <th>'burbs, The</th>\n",
       "      <th>'night Mother</th>\n",
       "      <th>(500) Days of Summer</th>\n",
       "      <th>*batteries not included</th>\n",
       "      <th>...</th>\n",
       "      <th>Zulu</th>\n",
       "      <th>[REC]</th>\n",
       "      <th>[REC]²</th>\n",
       "      <th>[REC]³ 3 Génesis</th>\n",
       "      <th>anohana: The Flower We Saw That Day - The Movie</th>\n",
       "      <th>eXistenZ</th>\n",
       "      <th>xXx</th>\n",
       "      <th>xXx: State of the Union</th>\n",
       "      <th>¡Three Amigos!</th>\n",
       "      <th>À nous la liberté (Freedom for Us)</th>\n",
       "    </tr>\n",
       "    <tr>\n",
       "      <th>userid</th>\n",
       "      <th></th>\n",
       "      <th></th>\n",
       "      <th></th>\n",
       "      <th></th>\n",
       "      <th></th>\n",
       "      <th></th>\n",
       "      <th></th>\n",
       "      <th></th>\n",
       "      <th></th>\n",
       "      <th></th>\n",
       "      <th></th>\n",
       "      <th></th>\n",
       "      <th></th>\n",
       "      <th></th>\n",
       "      <th></th>\n",
       "      <th></th>\n",
       "      <th></th>\n",
       "      <th></th>\n",
       "      <th></th>\n",
       "      <th></th>\n",
       "      <th></th>\n",
       "    </tr>\n",
       "  </thead>\n",
       "  <tbody>\n",
       "    <tr>\n",
       "      <th>1</th>\n",
       "      <td>4.0</td>\n",
       "      <td>4.0</td>\n",
       "      <td>4.0</td>\n",
       "      <td>5.0</td>\n",
       "      <td>4.0</td>\n",
       "      <td>2.0</td>\n",
       "      <td>4.0</td>\n",
       "      <td>3.0</td>\n",
       "      <td>4.0</td>\n",
       "      <td>4.0</td>\n",
       "      <td>...</td>\n",
       "      <td>4.0</td>\n",
       "      <td>4.0</td>\n",
       "      <td>4.0</td>\n",
       "      <td>3.0</td>\n",
       "      <td>3.0</td>\n",
       "      <td>4.0</td>\n",
       "      <td>3.0</td>\n",
       "      <td>2.0</td>\n",
       "      <td>4.0</td>\n",
       "      <td>1.0</td>\n",
       "    </tr>\n",
       "  </tbody>\n",
       "</table>\n",
       "<p>1 rows × 9433 columns</p>\n",
       "</div>"
      ],
      "text/plain": [
       "movie_title  '71  'Hellboy': The Seeds of Creation  'Round Midnight  \\\n",
       "userid                                                                \n",
       "1            4.0                               4.0              4.0   \n",
       "\n",
       "movie_title  'Salem's Lot  'Til There Was You  'Tis the Season for Love  \\\n",
       "userid                                                                    \n",
       "1                     5.0                 4.0                       2.0   \n",
       "\n",
       "movie_title  'burbs, The  'night Mother  (500) Days of Summer  \\\n",
       "userid                                                          \n",
       "1                    4.0            3.0                   4.0   \n",
       "\n",
       "movie_title  *batteries not included  ...  Zulu  [REC]  [REC]²  \\\n",
       "userid                                ...                        \n",
       "1                                4.0  ...   4.0    4.0     4.0   \n",
       "\n",
       "movie_title  [REC]³ 3 Génesis  \\\n",
       "userid                          \n",
       "1                         3.0   \n",
       "\n",
       "movie_title  anohana: The Flower We Saw That Day - The Movie  eXistenZ  xXx  \\\n",
       "userid                                                                        \n",
       "1                                                        3.0       4.0  3.0   \n",
       "\n",
       "movie_title  xXx: State of the Union  ¡Three Amigos!  \\\n",
       "userid                                                 \n",
       "1                                2.0             4.0   \n",
       "\n",
       "movie_title  À nous la liberté (Freedom for Us)  \n",
       "userid                                           \n",
       "1                                           1.0  \n",
       "\n",
       "[1 rows x 9433 columns]"
      ]
     },
     "execution_count": 65,
     "metadata": {},
     "output_type": "execute_result"
    }
   ],
   "source": [
    "R.loc[R.index == 1]"
   ]
  },
  {
   "cell_type": "code",
   "execution_count": 66,
   "id": "accessory-beaver",
   "metadata": {
    "collapsed": true,
    "jupyter": {
     "outputs_hidden": true,
     "source_hidden": true
    },
    "tags": []
   },
   "outputs": [
    {
     "data": {
      "text/plain": [
       "((610, 9433), (610, 9433), (610, 9433))"
      ]
     },
     "execution_count": 66,
     "metadata": {},
     "output_type": "execute_result"
    }
   ],
   "source": [
    "R.shape, user_rating_metrix.shape, Rtrue.shape"
   ]
  },
  {
   "cell_type": "code",
   "execution_count": 148,
   "id": "dirty-police",
   "metadata": {
    "collapsed": true,
    "jupyter": {
     "outputs_hidden": true,
     "source_hidden": true
    },
    "tags": []
   },
   "outputs": [
    {
     "data": {
      "text/html": [
       "<div>\n",
       "<style scoped>\n",
       "    .dataframe tbody tr th:only-of-type {\n",
       "        vertical-align: middle;\n",
       "    }\n",
       "\n",
       "    .dataframe tbody tr th {\n",
       "        vertical-align: top;\n",
       "    }\n",
       "\n",
       "    .dataframe thead th {\n",
       "        text-align: right;\n",
       "    }\n",
       "</style>\n",
       "<table border=\"1\" class=\"dataframe\">\n",
       "  <thead>\n",
       "    <tr style=\"text-align: right;\">\n",
       "      <th>movie_title</th>\n",
       "      <th>'71</th>\n",
       "      <th>'Hellboy': The Seeds of Creation</th>\n",
       "      <th>'Round Midnight</th>\n",
       "      <th>'Salem's Lot</th>\n",
       "      <th>'Til There Was You</th>\n",
       "      <th>'Tis the Season for Love</th>\n",
       "      <th>'burbs, The</th>\n",
       "      <th>'night Mother</th>\n",
       "      <th>(500) Days of Summer</th>\n",
       "      <th>*batteries not included</th>\n",
       "      <th>...</th>\n",
       "      <th>Zulu</th>\n",
       "      <th>[REC]</th>\n",
       "      <th>[REC]²</th>\n",
       "      <th>[REC]³ 3 Génesis</th>\n",
       "      <th>anohana: The Flower We Saw That Day - The Movie</th>\n",
       "      <th>eXistenZ</th>\n",
       "      <th>xXx</th>\n",
       "      <th>xXx: State of the Union</th>\n",
       "      <th>¡Three Amigos!</th>\n",
       "      <th>À nous la liberté (Freedom for Us)</th>\n",
       "    </tr>\n",
       "  </thead>\n",
       "  <tbody>\n",
       "    <tr>\n",
       "      <th>517</th>\n",
       "      <td>NaN</td>\n",
       "      <td>NaN</td>\n",
       "      <td>NaN</td>\n",
       "      <td>NaN</td>\n",
       "      <td>NaN</td>\n",
       "      <td>NaN</td>\n",
       "      <td>NaN</td>\n",
       "      <td>NaN</td>\n",
       "      <td>NaN</td>\n",
       "      <td>NaN</td>\n",
       "      <td>...</td>\n",
       "      <td>NaN</td>\n",
       "      <td>NaN</td>\n",
       "      <td>NaN</td>\n",
       "      <td>NaN</td>\n",
       "      <td>NaN</td>\n",
       "      <td>NaN</td>\n",
       "      <td>NaN</td>\n",
       "      <td>NaN</td>\n",
       "      <td>NaN</td>\n",
       "      <td>NaN</td>\n",
       "    </tr>\n",
       "  </tbody>\n",
       "</table>\n",
       "<p>1 rows × 9433 columns</p>\n",
       "</div>"
      ],
      "text/plain": [
       "movie_title  '71 'Hellboy': The Seeds of Creation 'Round Midnight  \\\n",
       "517          NaN                              NaN             NaN   \n",
       "\n",
       "movie_title 'Salem's Lot 'Til There Was You 'Tis the Season for Love  \\\n",
       "517                  NaN                NaN                      NaN   \n",
       "\n",
       "movie_title 'burbs, The 'night Mother (500) Days of Summer  \\\n",
       "517                 NaN           NaN                  NaN   \n",
       "\n",
       "movie_title *batteries not included  ... Zulu [REC] [REC]² [REC]³ 3 Génesis  \\\n",
       "517                             NaN  ...  NaN   NaN    NaN              NaN   \n",
       "\n",
       "movie_title anohana: The Flower We Saw That Day - The Movie eXistenZ  xXx  \\\n",
       "517                                                     NaN      NaN  NaN   \n",
       "\n",
       "movie_title xXx: State of the Union ¡Three Amigos!  \\\n",
       "517                             NaN            NaN   \n",
       "\n",
       "movie_title À nous la liberté (Freedom for Us)  \n",
       "517                                        NaN  \n",
       "\n",
       "[1 rows x 9433 columns]"
      ]
     },
     "execution_count": 148,
     "metadata": {},
     "output_type": "execute_result"
    }
   ],
   "source": [
    "pd.DataFrame(user_rating_metrix.loc[517]).T"
   ]
  },
  {
   "cell_type": "markdown",
   "id": "hazardous-visibility",
   "metadata": {},
   "source": [
    "- get new ratings and recommend movies to user 517"
   ]
  },
  {
   "cell_type": "code",
   "execution_count": 179,
   "id": "loose-deposit",
   "metadata": {},
   "outputs": [],
   "source": [
    "user = user_rating_metrix.loc[user_rating_metrix.index==517]"
   ]
  },
  {
   "cell_type": "code",
   "execution_count": 181,
   "id": "musical-yemen",
   "metadata": {},
   "outputs": [
    {
     "data": {
      "text/html": [
       "<div>\n",
       "<style scoped>\n",
       "    .dataframe tbody tr th:only-of-type {\n",
       "        vertical-align: middle;\n",
       "    }\n",
       "\n",
       "    .dataframe tbody tr th {\n",
       "        vertical-align: top;\n",
       "    }\n",
       "\n",
       "    .dataframe thead th {\n",
       "        text-align: right;\n",
       "    }\n",
       "</style>\n",
       "<table border=\"1\" class=\"dataframe\">\n",
       "  <thead>\n",
       "    <tr style=\"text-align: right;\">\n",
       "      <th>movie_title</th>\n",
       "      <th>'71</th>\n",
       "      <th>'Hellboy': The Seeds of Creation</th>\n",
       "      <th>'Round Midnight</th>\n",
       "      <th>'Salem's Lot</th>\n",
       "      <th>'Til There Was You</th>\n",
       "      <th>'Tis the Season for Love</th>\n",
       "      <th>'burbs, The</th>\n",
       "      <th>'night Mother</th>\n",
       "      <th>(500) Days of Summer</th>\n",
       "      <th>*batteries not included</th>\n",
       "      <th>...</th>\n",
       "      <th>Zulu</th>\n",
       "      <th>[REC]</th>\n",
       "      <th>[REC]²</th>\n",
       "      <th>[REC]³ 3 Génesis</th>\n",
       "      <th>anohana: The Flower We Saw That Day - The Movie</th>\n",
       "      <th>eXistenZ</th>\n",
       "      <th>xXx</th>\n",
       "      <th>xXx: State of the Union</th>\n",
       "      <th>¡Three Amigos!</th>\n",
       "      <th>À nous la liberté (Freedom for Us)</th>\n",
       "    </tr>\n",
       "    <tr>\n",
       "      <th>userid</th>\n",
       "      <th></th>\n",
       "      <th></th>\n",
       "      <th></th>\n",
       "      <th></th>\n",
       "      <th></th>\n",
       "      <th></th>\n",
       "      <th></th>\n",
       "      <th></th>\n",
       "      <th></th>\n",
       "      <th></th>\n",
       "      <th></th>\n",
       "      <th></th>\n",
       "      <th></th>\n",
       "      <th></th>\n",
       "      <th></th>\n",
       "      <th></th>\n",
       "      <th></th>\n",
       "      <th></th>\n",
       "      <th></th>\n",
       "      <th></th>\n",
       "      <th></th>\n",
       "    </tr>\n",
       "  </thead>\n",
       "  <tbody>\n",
       "    <tr>\n",
       "      <th>517</th>\n",
       "      <td>NaN</td>\n",
       "      <td>NaN</td>\n",
       "      <td>NaN</td>\n",
       "      <td>NaN</td>\n",
       "      <td>NaN</td>\n",
       "      <td>NaN</td>\n",
       "      <td>NaN</td>\n",
       "      <td>NaN</td>\n",
       "      <td>NaN</td>\n",
       "      <td>NaN</td>\n",
       "      <td>...</td>\n",
       "      <td>NaN</td>\n",
       "      <td>NaN</td>\n",
       "      <td>NaN</td>\n",
       "      <td>NaN</td>\n",
       "      <td>NaN</td>\n",
       "      <td>NaN</td>\n",
       "      <td>NaN</td>\n",
       "      <td>NaN</td>\n",
       "      <td>NaN</td>\n",
       "      <td>NaN</td>\n",
       "    </tr>\n",
       "  </tbody>\n",
       "</table>\n",
       "<p>1 rows × 9433 columns</p>\n",
       "</div>"
      ],
      "text/plain": [
       "movie_title  '71 'Hellboy': The Seeds of Creation 'Round Midnight  \\\n",
       "userid                                                              \n",
       "517          NaN                              NaN             NaN   \n",
       "\n",
       "movie_title 'Salem's Lot 'Til There Was You 'Tis the Season for Love  \\\n",
       "userid                                                                 \n",
       "517                  NaN                NaN                      NaN   \n",
       "\n",
       "movie_title 'burbs, The 'night Mother (500) Days of Summer  \\\n",
       "userid                                                       \n",
       "517                 NaN           NaN                  NaN   \n",
       "\n",
       "movie_title *batteries not included  ... Zulu [REC] [REC]² [REC]³ 3 Génesis  \\\n",
       "userid                               ...                                      \n",
       "517                             NaN  ...  NaN   NaN    NaN              NaN   \n",
       "\n",
       "movie_title anohana: The Flower We Saw That Day - The Movie eXistenZ  xXx  \\\n",
       "userid                                                                      \n",
       "517                                                     NaN      NaN  NaN   \n",
       "\n",
       "movie_title xXx: State of the Union ¡Three Amigos!  \\\n",
       "userid                                               \n",
       "517                             NaN            NaN   \n",
       "\n",
       "movie_title À nous la liberté (Freedom for Us)  \n",
       "userid                                          \n",
       "517                                        NaN  \n",
       "\n",
       "[1 rows x 9433 columns]"
      ]
     },
     "execution_count": 181,
     "metadata": {},
     "output_type": "execute_result"
    }
   ],
   "source": [
    "user"
   ]
  },
  {
   "cell_type": "code",
   "execution_count": 74,
   "id": "guided-payroll",
   "metadata": {},
   "outputs": [],
   "source": [
    "user_r = np.dot(user_p,Q)"
   ]
  },
  {
   "cell_type": "code",
   "execution_count": 75,
   "id": "floral-rainbow",
   "metadata": {},
   "outputs": [],
   "source": [
    "df_user_r = pd.DataFrame(user_r,index=[517],columns=user_rating_metrix.columns)"
   ]
  },
  {
   "cell_type": "code",
   "execution_count": 82,
   "id": "considerable-drinking",
   "metadata": {},
   "outputs": [
    {
     "data": {
      "text/html": [
       "<div>\n",
       "<style scoped>\n",
       "    .dataframe tbody tr th:only-of-type {\n",
       "        vertical-align: middle;\n",
       "    }\n",
       "\n",
       "    .dataframe tbody tr th {\n",
       "        vertical-align: top;\n",
       "    }\n",
       "\n",
       "    .dataframe thead th {\n",
       "        text-align: right;\n",
       "    }\n",
       "</style>\n",
       "<table border=\"1\" class=\"dataframe\">\n",
       "  <thead>\n",
       "    <tr style=\"text-align: right;\">\n",
       "      <th>movie_title</th>\n",
       "      <th>'71</th>\n",
       "      <th>'Hellboy': The Seeds of Creation</th>\n",
       "      <th>'Round Midnight</th>\n",
       "      <th>'Salem's Lot</th>\n",
       "      <th>'Til There Was You</th>\n",
       "      <th>'Tis the Season for Love</th>\n",
       "      <th>'burbs, The</th>\n",
       "      <th>'night Mother</th>\n",
       "      <th>(500) Days of Summer</th>\n",
       "      <th>*batteries not included</th>\n",
       "      <th>...</th>\n",
       "      <th>Zulu</th>\n",
       "      <th>[REC]</th>\n",
       "      <th>[REC]²</th>\n",
       "      <th>[REC]³ 3 Génesis</th>\n",
       "      <th>anohana: The Flower We Saw That Day - The Movie</th>\n",
       "      <th>eXistenZ</th>\n",
       "      <th>xXx</th>\n",
       "      <th>xXx: State of the Union</th>\n",
       "      <th>¡Three Amigos!</th>\n",
       "      <th>À nous la liberté (Freedom for Us)</th>\n",
       "    </tr>\n",
       "  </thead>\n",
       "  <tbody>\n",
       "    <tr>\n",
       "      <th>517</th>\n",
       "      <td>3.949708</td>\n",
       "      <td>3.949708</td>\n",
       "      <td>3.455995</td>\n",
       "      <td>4.937135</td>\n",
       "      <td>3.947246</td>\n",
       "      <td>1.481141</td>\n",
       "      <td>2.923194</td>\n",
       "      <td>2.962281</td>\n",
       "      <td>3.459796</td>\n",
       "      <td>2.935386</td>\n",
       "      <td>...</td>\n",
       "      <td>2.480467</td>\n",
       "      <td>3.688839</td>\n",
       "      <td>3.704149</td>\n",
       "      <td>2.962281</td>\n",
       "      <td>2.962281</td>\n",
       "      <td>3.804504</td>\n",
       "      <td>2.78991</td>\n",
       "      <td>1.992514</td>\n",
       "      <td>2.965621</td>\n",
       "      <td>0.987427</td>\n",
       "    </tr>\n",
       "  </tbody>\n",
       "</table>\n",
       "<p>1 rows × 9433 columns</p>\n",
       "</div>"
      ],
      "text/plain": [
       "movie_title       '71  'Hellboy': The Seeds of Creation  'Round Midnight  \\\n",
       "517          3.949708                          3.949708         3.455995   \n",
       "\n",
       "movie_title  'Salem's Lot  'Til There Was You  'Tis the Season for Love  \\\n",
       "517              4.937135            3.947246                  1.481141   \n",
       "\n",
       "movie_title  'burbs, The  'night Mother  (500) Days of Summer  \\\n",
       "517             2.923194       2.962281              3.459796   \n",
       "\n",
       "movie_title  *batteries not included  ...      Zulu     [REC]    [REC]²  \\\n",
       "517                         2.935386  ...  2.480467  3.688839  3.704149   \n",
       "\n",
       "movie_title  [REC]³ 3 Génesis  \\\n",
       "517                  2.962281   \n",
       "\n",
       "movie_title  anohana: The Flower We Saw That Day - The Movie  eXistenZ  \\\n",
       "517                                                 2.962281  3.804504   \n",
       "\n",
       "movie_title      xXx  xXx: State of the Union  ¡Three Amigos!  \\\n",
       "517          2.78991                 1.992514        2.965621   \n",
       "\n",
       "movie_title  À nous la liberté (Freedom for Us)  \n",
       "517                                    0.987427  \n",
       "\n",
       "[1 rows x 9433 columns]"
      ]
     },
     "execution_count": 82,
     "metadata": {},
     "output_type": "execute_result"
    }
   ],
   "source": [
    "df_user_r"
   ]
  },
  {
   "cell_type": "code",
   "execution_count": 76,
   "id": "infectious-being",
   "metadata": {},
   "outputs": [
    {
     "data": {
      "text/plain": [
       "0.0"
      ]
     },
     "execution_count": 76,
     "metadata": {},
     "output_type": "execute_result"
    }
   ],
   "source": [
    "# test on two ways of get R_rate for user 517. They are the same, no need to run model again. \n",
    "np.sum(np.sqrt(R.loc[R.index==517].iloc[0,:]-round(df_user_r.T[517])))"
   ]
  },
  {
   "cell_type": "code",
   "execution_count": 77,
   "id": "continued-oriental",
   "metadata": {
    "tags": []
   },
   "outputs": [
    {
     "data": {
      "text/plain": [
       "[4.937135054129128,\n",
       " 4.937135054129128,\n",
       " 4.937135054129128,\n",
       " 4.937135054129128,\n",
       " 4.937135054129128]"
      ]
     },
     "execution_count": 77,
     "metadata": {},
     "output_type": "execute_result"
    }
   ],
   "source": [
    "sorted(np.array(df_user_r.iloc[0,:]))[-5:]"
   ]
  },
  {
   "cell_type": "code",
   "execution_count": 90,
   "id": "incredible-beast",
   "metadata": {},
   "outputs": [
    {
     "data": {
      "text/plain": [
       "array(['Madame Sousatzka', 'Junior and Karlson', 'Happy Feet Two',\n",
       "       'Unicorn City'], dtype=object)"
      ]
     },
     "execution_count": 90,
     "metadata": {},
     "output_type": "execute_result"
    }
   ],
   "source": [
    "np.random.choice(df_user_r.T.loc[df_user_r.T[517]==4.937135054129128].index,4)"
   ]
  },
  {
   "cell_type": "code",
   "execution_count": 96,
   "id": "respective-sapphire",
   "metadata": {},
   "outputs": [
    {
     "data": {
      "text/plain": [
       "array(['Scooby-Doo! Abracadabra-Doo', 'A Detective Story',\n",
       "       'A Flintstones Christmas Carol', \"Last Year's Snow Was Falling\"],\n",
       "      dtype=object)"
      ]
     },
     "execution_count": 96,
     "metadata": {},
     "output_type": "execute_result"
    }
   ],
   "source": [
    "recomendataion = np.random.choice(df_user_r.T.loc[df_user_r.T[517]==4.937135054129128].index,4)\n",
    "recomendataion"
   ]
  },
  {
   "cell_type": "markdown",
   "id": "funded-source",
   "metadata": {},
   "source": [
    "- Draft version of a recommender, base model NMF"
   ]
  },
  {
   "cell_type": "code",
   "execution_count": 97,
   "id": "superb-gregory",
   "metadata": {},
   "outputs": [
    {
     "name": "stdin",
     "output_type": "stream",
     "text": [
      "Please type in your ID 89\n"
     ]
    }
   ],
   "source": [
    "userid=int(input('Please type in your ID'))"
   ]
  },
  {
   "cell_type": "code",
   "execution_count": 98,
   "id": "norman-persian",
   "metadata": {},
   "outputs": [
    {
     "data": {
      "text/plain": [
       "[5.0, 5.0, 5.0, 5.0, 5.0]"
      ]
     },
     "execution_count": 98,
     "metadata": {},
     "output_type": "execute_result"
    }
   ],
   "source": [
    "sorted(R.loc[R.index==userid].iloc[0,:])[-5:]"
   ]
  },
  {
   "cell_type": "code",
   "execution_count": 99,
   "id": "oriental-joshua",
   "metadata": {
    "tags": []
   },
   "outputs": [],
   "source": [
    "chose_score = np.random.choice(sorted(R.loc[R.index==1].iloc[0,:])[-5:])"
   ]
  },
  {
   "cell_type": "code",
   "execution_count": 100,
   "id": "secret-polymer",
   "metadata": {},
   "outputs": [],
   "source": [
    "user_data = user_rating_metrix.loc[user_rating_metrix.index==userid,:].T"
   ]
  },
  {
   "cell_type": "code",
   "execution_count": 105,
   "id": "unlikely-studio",
   "metadata": {},
   "outputs": [],
   "source": [
    "recommendation_pool = user_data[user_data[userid].isnull()].index.values"
   ]
  },
  {
   "cell_type": "markdown",
   "id": "chief-wellington",
   "metadata": {},
   "source": [
    "- recomend 1 movie"
   ]
  },
  {
   "cell_type": "code",
   "execution_count": 113,
   "id": "bright-divorce",
   "metadata": {},
   "outputs": [
    {
     "data": {
      "text/plain": [
       "'Ryuzo and the Seven Henchmen'"
      ]
     },
     "execution_count": 113,
     "metadata": {},
     "output_type": "execute_result"
    }
   ],
   "source": [
    "recomendataion  = np.random.choice(R.T.loc[R.T[1]==chose_score].index,1)[0]\n",
    "recomendataion"
   ]
  },
  {
   "cell_type": "markdown",
   "id": "compound-basement",
   "metadata": {},
   "source": [
    "- recomend 5 movies"
   ]
  },
  {
   "cell_type": "code",
   "execution_count": 117,
   "id": "canadian-services",
   "metadata": {},
   "outputs": [],
   "source": [
    "recomendataion = []\n",
    "while len(recomendataion)<5:\n",
    "    movie = np.random.choice(R.T.loc[R.T[1]==chose_score].index,1)[0]\n",
    "    if movie in recomendation_pool:\n",
    "        recomendataion.append(movie)\n",
    "    else:\n",
    "        movie = np.random.choice(R.T.loc[R.T[1]==chose_score].index,1)[0]"
   ]
  },
  {
   "cell_type": "code",
   "execution_count": 118,
   "id": "received-score",
   "metadata": {},
   "outputs": [
    {
     "data": {
      "text/plain": [
       "['Into the Abyss',\n",
       " 'Louis C.K.: Live at The Comedy Store',\n",
       " 'FLCL',\n",
       " 'Return to Treasure Island',\n",
       " 'Seve']"
      ]
     },
     "execution_count": 118,
     "metadata": {},
     "output_type": "execute_result"
    }
   ],
   "source": [
    "recomendataion"
   ]
  },
  {
   "cell_type": "code",
   "execution_count": 123,
   "id": "herbal-seeker",
   "metadata": {},
   "outputs": [],
   "source": [
    "def recommender(chose_score,recomendation_pool):\n",
    "    recomendataion = []\n",
    "    while len(recomendataion)<5:\n",
    "        movie = np.random.choice(R.T.loc[R.T[1]==chose_score].index,1)[0]\n",
    "        if movie in recomendation_pool:\n",
    "            recomendataion.append(movie)\n",
    "        else:\n",
    "            movie = np.random.choice(R.T.loc[R.T[1]==chose_score].index,1)[0]\n",
    "    return recomendataion"
   ]
  },
  {
   "cell_type": "code",
   "execution_count": 124,
   "id": "small-adolescent",
   "metadata": {},
   "outputs": [
    {
     "data": {
      "text/plain": [
       "['Desert Hearts',\n",
       " 'Lost in Translation',\n",
       " 'Laggies',\n",
       " 'Center Stage',\n",
       " 'Free to Play']"
      ]
     },
     "execution_count": 124,
     "metadata": {},
     "output_type": "execute_result"
    }
   ],
   "source": [
    "recommender(chose_score,recomendation_pool)"
   ]
  },
  {
   "cell_type": "code",
   "execution_count": null,
   "id": "ranking-economy",
   "metadata": {},
   "outputs": [],
   "source": []
  }
 ],
 "metadata": {
  "kernelspec": {
   "display_name": "Python 3",
   "language": "python",
   "name": "python3"
  },
  "language_info": {
   "codemirror_mode": {
    "name": "ipython",
    "version": 3
   },
   "file_extension": ".py",
   "mimetype": "text/x-python",
   "name": "python",
   "nbconvert_exporter": "python",
   "pygments_lexer": "ipython3",
   "version": "3.8.2"
  }
 },
 "nbformat": 4,
 "nbformat_minor": 5
}
