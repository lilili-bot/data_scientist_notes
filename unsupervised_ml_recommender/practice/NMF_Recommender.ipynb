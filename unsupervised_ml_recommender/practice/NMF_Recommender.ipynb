{
 "cells": [
  {
   "cell_type": "code",
   "execution_count": 1,
   "id": "joined-salad",
   "metadata": {},
   "outputs": [],
   "source": [
    "import numpy as np\n",
    "import pandas as pd\n",
    "import matplotlib.pyplot as plt\n",
    "import seaborn as sns"
   ]
  },
  {
   "cell_type": "code",
   "execution_count": 3,
   "id": "connected-going",
   "metadata": {
    "tags": []
   },
   "outputs": [],
   "source": [
    "def read_file(url):\n",
    "    '''this function is to read file from local path.'''\n",
    "    with open(url) as f:\n",
    "        df = pd.read_csv(url, na_values='Nan')\n",
    "        df.set_index('userid',inplace=True)\n",
    "        na_values='Nan'\n",
    "        \n",
    "    return df"
   ]
  },
  {
   "cell_type": "code",
   "execution_count": 4,
   "id": "joined-portuguese",
   "metadata": {
    "tags": []
   },
   "outputs": [],
   "source": [
    "ratings = read_file('rating_movie_title.csv')\n",
    "rating_movie = read_file('user_rating_metrix.csv')"
   ]
  },
  {
   "cell_type": "code",
   "execution_count": 5,
   "id": "naval-atmosphere",
   "metadata": {},
   "outputs": [],
   "source": [
    "from sklearn.impute import KNNImputer"
   ]
  },
  {
   "cell_type": "code",
   "execution_count": 13,
   "id": "incorporated-temple",
   "metadata": {
    "tags": []
   },
   "outputs": [],
   "source": [
    "def imputer0(imputer,df):\n",
    "    R_true = imputer.fit_transform(df)\n",
    "    R_true_df = pd.DataFrame(R_true, columns=rating_movie.columns, index = rating_movie.index)\n",
    "    return R_true, R_true_df\n",
    "#imputer = KNNImputer(n_neighbors=2)\n",
    "#data = rating_movie\n",
    "#R_true,R_true_df=imputer0(imputer,data)"
   ]
  },
  {
   "cell_type": "code",
   "execution_count": 40,
   "id": "powered-processor",
   "metadata": {},
   "outputs": [],
   "source": [
    "#R_true_df.to_csv('imputed_rating_user_matrix.csv')"
   ]
  },
  {
   "cell_type": "code",
   "execution_count": 7,
   "id": "norwegian-violin",
   "metadata": {},
   "outputs": [],
   "source": [
    "from sklearn.decomposition import NMF"
   ]
  },
  {
   "cell_type": "code",
   "execution_count": 8,
   "id": "ambient-wrestling",
   "metadata": {},
   "outputs": [],
   "source": [
    "def get_R_predict(model,R_true):\n",
    "    model.fit(R_true)\n",
    "    Q = model.components_\n",
    "    P = model.transform(R_true)\n",
    "    #Q_df = pd.DataFrame(model.components_, columns=user_rating_metrix.columns, index=['feature1', 'feature2'])\n",
    "    #P_df = pd.DataFrame(model.transform(Rtrue), columns=['feature1', 'feature2'], index= user_rating_metrix.index)\n",
    "    R = pd.DataFrame(np.dot(P, Q).round(), index=rating_movie.index, columns=rating_movie.columns)\n",
    "    return R "
   ]
  },
  {
   "cell_type": "code",
   "execution_count": 38,
   "id": "contemporary-utility",
   "metadata": {
    "tags": []
   },
   "outputs": [],
   "source": [
    "#model = NMF(n_components=2)\n",
    "#R_predict = get_R_predict(model,R_true)"
   ]
  },
  {
   "cell_type": "code",
   "execution_count": 39,
   "id": "static-plain",
   "metadata": {},
   "outputs": [],
   "source": [
    "#userid=int(input('Please type in your ID'))"
   ]
  },
  {
   "cell_type": "code",
   "execution_count": 16,
   "id": "retired-clarity",
   "metadata": {},
   "outputs": [],
   "source": [
    "def get_highest_rating(userid, R_true_df):\n",
    "    highest_rating = np.random.choice(sorted(R_true_df.loc[R_true_df.index==userid].iloc[0,:])[-5:])   \n",
    "    return highest_rating"
   ]
  },
  {
   "cell_type": "code",
   "execution_count": 11,
   "id": "scheduled-channels",
   "metadata": {},
   "outputs": [],
   "source": [
    "#highest_rating = get_highest_rating(520)"
   ]
  },
  {
   "cell_type": "code",
   "execution_count": 10,
   "id": "divided-dispute",
   "metadata": {},
   "outputs": [],
   "source": [
    "def get_reco_pool(userid, df):\n",
    "    user_data = df.loc[df.index==userid,:].T\n",
    "    reco_pool = user_data[user_data[userid].isnull()].index.values\n",
    "    return reco_pool"
   ]
  },
  {
   "cell_type": "code",
   "execution_count": 11,
   "id": "sunrise-stack",
   "metadata": {},
   "outputs": [],
   "source": [
    "#reco_pool=get_reco_pool(userid)"
   ]
  },
  {
   "cell_type": "code",
   "execution_count": 12,
   "id": "upper-caution",
   "metadata": {},
   "outputs": [],
   "source": [
    "def recommender(highest_rating,reco_pool,R_true_df):\n",
    "    recomendation = []\n",
    "    while len(recomendation)<5:\n",
    "        movie = np.random.choice(R_true_df.T.loc[R_true_df.T[userid]==highest_rating].index,1)[0]\n",
    "        if movie in reco_pool:\n",
    "            recomendation.append(movie)\n",
    "        else:\n",
    "            movie = np.random.choice(R_true_df.T.loc[R_true_df.T[userid]==highest_rating].index,1)[0]\n",
    "    return recomendation"
   ]
  },
  {
   "cell_type": "code",
   "execution_count": 15,
   "id": "sorted-mountain",
   "metadata": {},
   "outputs": [],
   "source": [
    "#recomendation = recommender(highest_rating,reco_pool,R_true_df)"
   ]
  },
  {
   "cell_type": "code",
   "execution_count": 18,
   "id": "derived-realtor",
   "metadata": {},
   "outputs": [
    {
     "name": "stderr",
     "output_type": "stream",
     "text": [
      "/Users/lilycheng/opt/anaconda3/lib/python3.8/site-packages/sklearn/decomposition/_nmf.py:1076: ConvergenceWarning: Maximum number of iterations 200 reached. Increase it to improve convergence.\n",
      "  warnings.warn(\"Maximum number of iterations %d reached. Increase it to\"\n"
     ]
    },
    {
     "name": "stdin",
     "output_type": "stream",
     "text": [
      "Please type in your ID 520\n"
     ]
    },
    {
     "name": "stdout",
     "output_type": "stream",
     "text": [
      "[\"Garfield's Pet Force\", 'Idiots and Angels', 'Dream of Light (a.k.a. Quince Tree Sun, The) (Sol del membrillo, El)', 'Heidi Fleiss: Hollywood Madam', 'Human']\n"
     ]
    }
   ],
   "source": [
    "if __name__ == '__main__':\n",
    "\n",
    "    imputer = KNNImputer(n_neighbors=2)\n",
    "    df = rating_movie\n",
    "    R_true,R_true_df=imputer0(imputer,df) \n",
    "    model = NMF(n_components=2)\n",
    "    r_data = R_true_df\n",
    "    R_predict = get_R_predict(model,R_true)\n",
    "    df=rating_movie\n",
    "    userid=int(input('Please type in your ID'))\n",
    "    highest_rating = get_highest_rating(userid, R_true_df)\n",
    "    reco_pool=get_reco_pool(userid,df)\n",
    "    recomendation = recommender(highest_rating,reco_pool,R_true_df)\n",
    "    print(recomendation)"
   ]
  },
  {
   "cell_type": "code",
   "execution_count": null,
   "id": "spiritual-isolation",
   "metadata": {},
   "outputs": [],
   "source": []
  },
  {
   "cell_type": "code",
   "execution_count": null,
   "id": "communist-essex",
   "metadata": {},
   "outputs": [],
   "source": []
  },
  {
   "cell_type": "code",
   "execution_count": null,
   "id": "specialized-omega",
   "metadata": {},
   "outputs": [],
   "source": []
  },
  {
   "cell_type": "code",
   "execution_count": null,
   "id": "referenced-partnership",
   "metadata": {},
   "outputs": [],
   "source": []
  },
  {
   "cell_type": "code",
   "execution_count": null,
   "id": "temporal-knock",
   "metadata": {},
   "outputs": [],
   "source": []
  },
  {
   "cell_type": "code",
   "execution_count": null,
   "id": "expanded-toyota",
   "metadata": {},
   "outputs": [],
   "source": []
  },
  {
   "cell_type": "code",
   "execution_count": null,
   "id": "cosmetic-university",
   "metadata": {},
   "outputs": [],
   "source": []
  }
 ],
 "metadata": {
  "kernelspec": {
   "display_name": "Python 3",
   "language": "python",
   "name": "python3"
  },
  "language_info": {
   "codemirror_mode": {
    "name": "ipython",
    "version": 3
   },
   "file_extension": ".py",
   "mimetype": "text/x-python",
   "name": "python",
   "nbconvert_exporter": "python",
   "pygments_lexer": "ipython3",
   "version": "3.8.2"
  }
 },
 "nbformat": 4,
 "nbformat_minor": 5
}
