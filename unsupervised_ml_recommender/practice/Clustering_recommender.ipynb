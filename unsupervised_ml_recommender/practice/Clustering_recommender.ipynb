{
 "cells": [
  {
   "cell_type": "code",
   "execution_count": 1,
   "id": "precious-dividend",
   "metadata": {},
   "outputs": [
    {
     "name": "stderr",
     "output_type": "stream",
     "text": [
      "/Users/lilycheng/opt/anaconda3/lib/python3.8/site-packages/fuzzywuzzy/fuzz.py:11: UserWarning: Using slow pure-python SequenceMatcher. Install python-Levenshtein to remove this warning\n",
      "  warnings.warn('Using slow pure-python SequenceMatcher. Install python-Levenshtein to remove this warning')\n"
     ]
    }
   ],
   "source": [
    "import matplotlib.pyplot as plt\n",
    "import pandas as pd\n",
    "import numpy as np\n",
    "import seaborn as sns\n",
    "from sklearn.decomposition import PCA\n",
    "from sklearn.cluster import KMeans\n",
    "from fuzzywuzzy import fuzz\n",
    "from fuzzywuzzy import process"
   ]
  },
  {
   "cell_type": "code",
   "execution_count": 2,
   "id": "instrumental-afghanistan",
   "metadata": {},
   "outputs": [],
   "source": [
    "def read_file(url):\n",
    "    '''this function is to read file from local path.'''\n",
    "    with open(url) as f:\n",
    "        df = pd.read_csv(url, na_values='Nan')\n",
    "        df.set_index('movieid',inplace=True)\n",
    "        na_values='Nan'\n",
    "        \n",
    "    return df"
   ]
  },
  {
   "cell_type": "code",
   "execution_count": 3,
   "id": "national-celebration",
   "metadata": {
    "tags": []
   },
   "outputs": [],
   "source": [
    "def pca(p, df):\n",
    "    return p.fit_transform(df)"
   ]
  },
  {
   "cell_type": "raw",
   "id": "endless-france",
   "metadata": {
    "tags": []
   },
   "source": [
    "p = PCA()\n",
    "df = movies.drop(['title','year'], axis = 1)\n",
    "m_pca = pca(p,df)"
   ]
  },
  {
   "cell_type": "code",
   "execution_count": 6,
   "id": "dependent-desperate",
   "metadata": {
    "tags": []
   },
   "outputs": [],
   "source": [
    "def cluster(model, k):\n",
    "    model.fit(m_pca[:,0:k])\n",
    "    return model.labels_"
   ]
  },
  {
   "cell_type": "raw",
   "id": "continuous-extreme",
   "metadata": {
    "tags": []
   },
   "source": [
    "model = KMeans(n_clusters = 22)\n",
    "k = 10\n",
    "movies['cluster_no']=cluster(model, k)"
   ]
  },
  {
   "cell_type": "raw",
   "id": "color-amsterdam",
   "metadata": {},
   "source": [
    "movies = read_file('movies_cluster.csv')"
   ]
  },
  {
   "cell_type": "markdown",
   "id": "satisfactory-barcelona",
   "metadata": {
    "tags": []
   },
   "source": [
    "def fuzz_wuzz(user_input,df):\n",
    "    fuzz_wuzz_title = []\n",
    "    selected_title = []\n",
    "    #user_input = str(input('What movies do you like, please give me one movie name.'))\n",
    "    for movie_title in df['title']:        \n",
    "        if fuzz.partial_ratio(user_input, str(movie_title)) >= 80:\n",
    "            fuzz_wuzz_title.append(movie_title) \n",
    "            selected_title = np.random.choice(fuzz_wuzz_title,5)\n",
    "    if len(selected_title)==0:\n",
    "        print('Sorry, we coule not find the movie.')\n",
    "        #print(input('I could not find the movie, try with aonter movie name please.'))\n",
    "    else:\n",
    "        return selected_title"
   ]
  },
  {
   "cell_type": "markdown",
   "id": "injured-brown",
   "metadata": {
    "tags": []
   },
   "source": [
    "user_input = str(input('What movies do you like, please give me one movie name.'))\n",
    "df = movies\n",
    "fuzz_wuzz(user_input,df)"
   ]
  },
  {
   "cell_type": "markdown",
   "id": "filled-violin",
   "metadata": {},
   "source": [
    "fuzz_wuzz_title = []\n",
    "user_input = str(input('What movies do you like, please give me one movie name.'))\n",
    "\n",
    "while len(fuzz_wuzz_title)==0:\n",
    "    for movie_title in movies['title']:\n",
    "        if fuzz.partial_ratio(user_input, str(movie_title)) >= 80:\n",
    "            fuzz_wuzz_title.append(movie_title)\n",
    "    if len(fuzz_wuzz_title)==0:\n",
    "        user_input = str(input('What movies do you like, please give me another movie name.'))\n",
    "        \n",
    "print(fuzz_wuzz_title)"
   ]
  },
  {
   "cell_type": "code",
   "execution_count": 7,
   "id": "ideal-attraction",
   "metadata": {},
   "outputs": [],
   "source": [
    "def fuzz_wuzz(input_title, df):\n",
    "    #user_input1 = str(input('What movies do you like, please give me one movie name.'))\n",
    "    fuzz_wuzz_movie = []\n",
    "    while len(fuzz_wuzz_movie)==0:\n",
    "        for movie_title in movies['title']:\n",
    "            if fuzz.partial_ratio(input_title, str(movie_title)) >= 80:\n",
    "                fuzz_wuzz_movie.append(movie_title)\n",
    "        if len(fuzz_wuzz_movie)==0:\n",
    "            input_title = str(input('Opps °_° the movie name does not seem perfect, please try another one.'))\n",
    "    return fuzz_wuzz_movie"
   ]
  },
  {
   "cell_type": "raw",
   "id": "prime-portrait",
   "metadata": {},
   "source": [
    "input_title = str(input('Enter a cool movie name, which happens to make you happy.'))\n",
    "df = movies\n",
    "fuzz_wuzz(input_title, df)"
   ]
  },
  {
   "cell_type": "code",
   "execution_count": 28,
   "id": "educational-emperor",
   "metadata": {
    "collapsed": true,
    "jupyter": {
     "outputs_hidden": true
    },
    "tags": []
   },
   "outputs": [
    {
     "data": {
      "text/html": [
       "<div>\n",
       "<style scoped>\n",
       "    .dataframe tbody tr th:only-of-type {\n",
       "        vertical-align: middle;\n",
       "    }\n",
       "\n",
       "    .dataframe tbody tr th {\n",
       "        vertical-align: top;\n",
       "    }\n",
       "\n",
       "    .dataframe thead th {\n",
       "        text-align: right;\n",
       "    }\n",
       "</style>\n",
       "<table border=\"1\" class=\"dataframe\">\n",
       "  <thead>\n",
       "    <tr style=\"text-align: right;\">\n",
       "      <th></th>\n",
       "      <th>title</th>\n",
       "      <th>year</th>\n",
       "      <th>romance</th>\n",
       "      <th>sci-fi</th>\n",
       "      <th>animation</th>\n",
       "      <th>film-noir</th>\n",
       "      <th>musical</th>\n",
       "      <th>adventure</th>\n",
       "      <th>thriller</th>\n",
       "      <th>horror</th>\n",
       "      <th>...</th>\n",
       "      <th>mystery</th>\n",
       "      <th>children</th>\n",
       "      <th>comedy</th>\n",
       "      <th>crime</th>\n",
       "      <th>western</th>\n",
       "      <th>imax</th>\n",
       "      <th>war</th>\n",
       "      <th>drama</th>\n",
       "      <th>action</th>\n",
       "      <th>cluster_no</th>\n",
       "    </tr>\n",
       "    <tr>\n",
       "      <th>movieid</th>\n",
       "      <th></th>\n",
       "      <th></th>\n",
       "      <th></th>\n",
       "      <th></th>\n",
       "      <th></th>\n",
       "      <th></th>\n",
       "      <th></th>\n",
       "      <th></th>\n",
       "      <th></th>\n",
       "      <th></th>\n",
       "      <th></th>\n",
       "      <th></th>\n",
       "      <th></th>\n",
       "      <th></th>\n",
       "      <th></th>\n",
       "      <th></th>\n",
       "      <th></th>\n",
       "      <th></th>\n",
       "      <th></th>\n",
       "      <th></th>\n",
       "      <th></th>\n",
       "    </tr>\n",
       "  </thead>\n",
       "  <tbody>\n",
       "    <tr>\n",
       "      <th>1</th>\n",
       "      <td>Toy Story</td>\n",
       "      <td>1995.0</td>\n",
       "      <td>0</td>\n",
       "      <td>0</td>\n",
       "      <td>1</td>\n",
       "      <td>0</td>\n",
       "      <td>0</td>\n",
       "      <td>1</td>\n",
       "      <td>0</td>\n",
       "      <td>0</td>\n",
       "      <td>...</td>\n",
       "      <td>0</td>\n",
       "      <td>1</td>\n",
       "      <td>1</td>\n",
       "      <td>0</td>\n",
       "      <td>0</td>\n",
       "      <td>0</td>\n",
       "      <td>0</td>\n",
       "      <td>0</td>\n",
       "      <td>0</td>\n",
       "      <td>13</td>\n",
       "    </tr>\n",
       "    <tr>\n",
       "      <th>2</th>\n",
       "      <td>Jumanji</td>\n",
       "      <td>1995.0</td>\n",
       "      <td>0</td>\n",
       "      <td>0</td>\n",
       "      <td>0</td>\n",
       "      <td>0</td>\n",
       "      <td>0</td>\n",
       "      <td>1</td>\n",
       "      <td>0</td>\n",
       "      <td>0</td>\n",
       "      <td>...</td>\n",
       "      <td>0</td>\n",
       "      <td>1</td>\n",
       "      <td>0</td>\n",
       "      <td>0</td>\n",
       "      <td>0</td>\n",
       "      <td>0</td>\n",
       "      <td>0</td>\n",
       "      <td>0</td>\n",
       "      <td>0</td>\n",
       "      <td>13</td>\n",
       "    </tr>\n",
       "    <tr>\n",
       "      <th>3</th>\n",
       "      <td>Grumpier Old Men</td>\n",
       "      <td>1995.0</td>\n",
       "      <td>1</td>\n",
       "      <td>0</td>\n",
       "      <td>0</td>\n",
       "      <td>0</td>\n",
       "      <td>0</td>\n",
       "      <td>0</td>\n",
       "      <td>0</td>\n",
       "      <td>0</td>\n",
       "      <td>...</td>\n",
       "      <td>0</td>\n",
       "      <td>0</td>\n",
       "      <td>1</td>\n",
       "      <td>0</td>\n",
       "      <td>0</td>\n",
       "      <td>0</td>\n",
       "      <td>0</td>\n",
       "      <td>0</td>\n",
       "      <td>0</td>\n",
       "      <td>10</td>\n",
       "    </tr>\n",
       "    <tr>\n",
       "      <th>4</th>\n",
       "      <td>Waiting to Exhale</td>\n",
       "      <td>1995.0</td>\n",
       "      <td>1</td>\n",
       "      <td>0</td>\n",
       "      <td>0</td>\n",
       "      <td>0</td>\n",
       "      <td>0</td>\n",
       "      <td>0</td>\n",
       "      <td>0</td>\n",
       "      <td>0</td>\n",
       "      <td>...</td>\n",
       "      <td>0</td>\n",
       "      <td>0</td>\n",
       "      <td>1</td>\n",
       "      <td>0</td>\n",
       "      <td>0</td>\n",
       "      <td>0</td>\n",
       "      <td>0</td>\n",
       "      <td>1</td>\n",
       "      <td>0</td>\n",
       "      <td>9</td>\n",
       "    </tr>\n",
       "    <tr>\n",
       "      <th>5</th>\n",
       "      <td>Father of the Bride Part II</td>\n",
       "      <td>1995.0</td>\n",
       "      <td>0</td>\n",
       "      <td>0</td>\n",
       "      <td>0</td>\n",
       "      <td>0</td>\n",
       "      <td>0</td>\n",
       "      <td>0</td>\n",
       "      <td>0</td>\n",
       "      <td>0</td>\n",
       "      <td>...</td>\n",
       "      <td>0</td>\n",
       "      <td>0</td>\n",
       "      <td>1</td>\n",
       "      <td>0</td>\n",
       "      <td>0</td>\n",
       "      <td>0</td>\n",
       "      <td>0</td>\n",
       "      <td>0</td>\n",
       "      <td>0</td>\n",
       "      <td>2</td>\n",
       "    </tr>\n",
       "  </tbody>\n",
       "</table>\n",
       "<p>5 rows × 22 columns</p>\n",
       "</div>"
      ],
      "text/plain": [
       "                               title    year  romance  sci-fi  animation  \\\n",
       "movieid                                                                    \n",
       "1                          Toy Story  1995.0        0       0          1   \n",
       "2                            Jumanji  1995.0        0       0          0   \n",
       "3                   Grumpier Old Men  1995.0        1       0          0   \n",
       "4                  Waiting to Exhale  1995.0        1       0          0   \n",
       "5        Father of the Bride Part II  1995.0        0       0          0   \n",
       "\n",
       "         film-noir  musical  adventure  thriller  horror  ...  mystery  \\\n",
       "movieid                                                   ...            \n",
       "1                0        0          1         0       0  ...        0   \n",
       "2                0        0          1         0       0  ...        0   \n",
       "3                0        0          0         0       0  ...        0   \n",
       "4                0        0          0         0       0  ...        0   \n",
       "5                0        0          0         0       0  ...        0   \n",
       "\n",
       "         children  comedy  crime  western  imax  war  drama  action  \\\n",
       "movieid                                                               \n",
       "1               1       1      0        0     0    0      0       0   \n",
       "2               1       0      0        0     0    0      0       0   \n",
       "3               0       1      0        0     0    0      0       0   \n",
       "4               0       1      0        0     0    0      1       0   \n",
       "5               0       1      0        0     0    0      0       0   \n",
       "\n",
       "         cluster_no  \n",
       "movieid              \n",
       "1                13  \n",
       "2                13  \n",
       "3                10  \n",
       "4                 9  \n",
       "5                 2  \n",
       "\n",
       "[5 rows x 22 columns]"
      ]
     },
     "execution_count": 28,
     "metadata": {},
     "output_type": "execute_result"
    }
   ],
   "source": [
    "movies.head()"
   ]
  },
  {
   "cell_type": "code",
   "execution_count": 109,
   "id": "substantial-retail",
   "metadata": {},
   "outputs": [],
   "source": [
    "#selected_title=fuzz_wuzz(user_input,df)"
   ]
  },
  {
   "cell_type": "code",
   "execution_count": 16,
   "id": "hybrid-america",
   "metadata": {
    "tags": []
   },
   "outputs": [],
   "source": [
    "def get_cluster_num(fuzz_wuzz_movie,df):\n",
    "    \n",
    "    cluster_num = []\n",
    "    for movie in fuzz_wuzz_movie:\n",
    "        cluster_num.append(df.loc[df['title'].isin(fuzz_wuzz_movie)].cluster_no.values[0])\n",
    "        #recomendation_clustering.append(movies.loc[movies['cluster_no'].isin(cluster_num)].title.values[0])\n",
    "    return  set(cluster_num) #recomendation_clustering"
   ]
  },
  {
   "cell_type": "code",
   "execution_count": 9,
   "id": "velvet-color",
   "metadata": {},
   "outputs": [],
   "source": [
    "#cluster_nummber = get_cluster_num(selected_title, df = movies)"
   ]
  },
  {
   "cell_type": "code",
   "execution_count": 31,
   "id": "confident-microwave",
   "metadata": {},
   "outputs": [],
   "source": [
    "def recomender_clustering(df,cluster_nummber):\n",
    "    recommendation_clustering = []\n",
    "    recommendation_clustering.append(np.random.choice(df.loc[movies['cluster_no'].isin(cluster_nummber)]['title'], 5))\n",
    "    return recommendation_clustering"
   ]
  },
  {
   "cell_type": "code",
   "execution_count": 32,
   "id": "forbidden-professor",
   "metadata": {},
   "outputs": [],
   "source": [
    "#t = recomender_clustering(movies,cluster_nummber=cluster_nummber)"
   ]
  },
  {
   "cell_type": "code",
   "execution_count": 33,
   "id": "egyptian-chosen",
   "metadata": {},
   "outputs": [],
   "source": [
    "#t"
   ]
  },
  {
   "cell_type": "code",
   "execution_count": 34,
   "id": "raising-relations",
   "metadata": {},
   "outputs": [
    {
     "name": "stdin",
     "output_type": "stream",
     "text": [
      "Enter a cool movie name, which happens to make you happy. about time\n"
     ]
    },
    {
     "name": "stdout",
     "output_type": "stream",
     "text": [
      "Here are the movies, try them out:[array(['Puppet Masters, The',\n",
      "       'Zombie (a.k.a. Zombie 2: The Dead Are Among Us) (Zombi 2)',\n",
      "       'Fright Night Part II', 'Monkey Shines', 'Eaten Alive'],\n",
      "      dtype=object)]\n"
     ]
    }
   ],
   "source": [
    "if __name__ == '__main__':\n",
    "    \n",
    "    \n",
    "    url = 'movies_cluster.csv'\n",
    "    movies = read_file(url)\n",
    "    df = movies\n",
    "    input_title = str(input('Enter a cool movie name, which happens to make you happy.'))\n",
    "    fuzz_wuzz_movie = fuzz_wuzz(input_title,df)\n",
    "    cluster_nummber = get_cluster_num(fuzz_wuzz_movie, df)\n",
    "    #recomender_clustering(df,cluster_nummber)\n",
    "    t = recomender_clustering(df,cluster_nummber)\n",
    "    print('Here are the movies, try them out:%s'%([i for i in t]))"
   ]
  },
  {
   "cell_type": "code",
   "execution_count": null,
   "id": "mathematical-birthday",
   "metadata": {},
   "outputs": [],
   "source": []
  },
  {
   "cell_type": "code",
   "execution_count": null,
   "id": "illegal-practice",
   "metadata": {},
   "outputs": [],
   "source": []
  },
  {
   "cell_type": "code",
   "execution_count": null,
   "id": "miniature-brave",
   "metadata": {},
   "outputs": [],
   "source": []
  }
 ],
 "metadata": {
  "kernelspec": {
   "display_name": "Python 3",
   "language": "python",
   "name": "python3"
  },
  "language_info": {
   "codemirror_mode": {
    "name": "ipython",
    "version": 3
   },
   "file_extension": ".py",
   "mimetype": "text/x-python",
   "name": "python",
   "nbconvert_exporter": "python",
   "pygments_lexer": "ipython3",
   "version": "3.8.2"
  }
 },
 "nbformat": 4,
 "nbformat_minor": 5
}
