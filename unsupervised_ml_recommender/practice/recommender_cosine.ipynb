{
 "cells": [
  {
   "cell_type": "code",
   "execution_count": 1,
   "id": "potential-fight",
   "metadata": {},
   "outputs": [],
   "source": [
    "import pandas as pd\n",
    "import numpy as np\n",
    "from fuzzywuzzy import process\n"
   ]
  },
  {
   "cell_type": "code",
   "execution_count": 2,
   "id": "domestic-easter",
   "metadata": {},
   "outputs": [],
   "source": [
    "def read_file(url):\n",
    "    '''this function is to read file from local path.'''\n",
    "    with open(url) as f:\n",
    "        df = pd.read_csv(url, na_values='Nan')\n",
    "        df.set_index('userid',inplace=True)\n",
    "        \n",
    "    return df"
   ]
  },
  {
   "cell_type": "code",
   "execution_count": 3,
   "id": "progressive-match",
   "metadata": {},
   "outputs": [],
   "source": [
    "#user_rating_matrix = read_file('../data/user_rating_metrix.csv')"
   ]
  },
  {
   "cell_type": "raw",
   "id": "cheap-customs",
   "metadata": {},
   "source": [
    "user_rating = {\n",
    "    'about time': 5,\n",
    "    'queen': 5,\n",
    "    'star wars': 5\n",
    "    }"
   ]
  },
  {
   "cell_type": "code",
   "execution_count": 4,
   "id": "stuffed-infrastructure",
   "metadata": {},
   "outputs": [],
   "source": [
    "def update_new_user_to_user_rating_matrix(user_rating, user_rating_matrix):\n",
    "    \"\"\"\n",
    "    convert dict of user_ratings to a user_data frame with the same column names as the user_item_matrix\n",
    "    that can be easily appended to the user_item_matrix\n",
    "    \"\"\"            \n",
    "    \n",
    "    user_vector = pd.Series(np.nan, index=user_rating_matrix.columns)\n",
    "    user_seened_movie = []\n",
    "    for movie in list(user_rating.keys()): \n",
    "        matched_title = process.extractOne(movie, user_vector.index)[0]\n",
    "        user_vector[matched_title] = user_rating[movie]\n",
    "        user_seened_movie.append(process.extractOne(movie, user_vector.index)[0])\n",
    "    \n",
    "    new_user_df = user_vector.to_frame().rename(columns={0:np.max(user_rating_matrix.index)+1}).T\n",
    "    \n",
    "    return user_rating_matrix.append(new_user_df), user_seened_movie, new_user_df"
   ]
  },
  {
   "cell_type": "code",
   "execution_count": 5,
   "id": "valid-sauce",
   "metadata": {},
   "outputs": [],
   "source": [
    "#user_rating_matrix_update, user_seened_movie,new_user_df = update_new_user_to_user_rating_matrix(user_rating, user_rating_matrix)"
   ]
  },
  {
   "cell_type": "code",
   "execution_count": 6,
   "id": "lucky-ukraine",
   "metadata": {},
   "outputs": [],
   "source": [
    "from sklearn.preprocessing import StandardScaler\n",
    "from sklearn.metrics.pairwise import cosine_similarity"
   ]
  },
  {
   "cell_type": "code",
   "execution_count": 7,
   "id": "cultural-national",
   "metadata": {},
   "outputs": [],
   "source": [
    "def nor(scaler, df):\n",
    "    df_scale = pd.DataFrame(scaler.fit_transform(df) , columns= df.columns, index= df.index)\n",
    "    return df_scale   "
   ]
  },
  {
   "cell_type": "code",
   "execution_count": 8,
   "id": "owned-explorer",
   "metadata": {},
   "outputs": [],
   "source": [
    "#user_rating_matrix_update_scaled=nor(scaler=StandardScaler(), df=user_rating_matrix_update.fillna(0))"
   ]
  },
  {
   "cell_type": "code",
   "execution_count": 9,
   "id": "conscious-movement",
   "metadata": {},
   "outputs": [],
   "source": [
    "def get_similarity(cosine, df):\n",
    "    similarity_movie=pd.DataFrame(cosine_similarity(df.T),columns= df.columns, index=df.columns)\n",
    "    similarity_user =pd.DataFrame (cosine_similarity(df),columns=df.index,  index= df.index)\n",
    "    return similarity_movie,similarity_user.sort_values(similarity_user.columns[-1],axis=0, ascending=False)"
   ]
  },
  {
   "cell_type": "code",
   "execution_count": 10,
   "id": "tamil-canadian",
   "metadata": {},
   "outputs": [],
   "source": [
    "#similarity_movie, similarity_user=get_similarity(cosine=cosine_similarity, df=user_rating_matrix_update_scaled)"
   ]
  },
  {
   "cell_type": "code",
   "execution_count": 11,
   "id": "reliable-adapter",
   "metadata": {},
   "outputs": [],
   "source": [
    "def get_rec_movies(user_rating_matrix_update,similarity_user):\n",
    "    \n",
    "    return user_rating_matrix_update.loc[[i for i in similarity_user[0:10].index.values]]    "
   ]
  },
  {
   "cell_type": "code",
   "execution_count": 12,
   "id": "scenic-jaguar",
   "metadata": {},
   "outputs": [],
   "source": [
    "#rec_movies = get_rec_movies(user_rating_matrix_update,similarity_user)"
   ]
  },
  {
   "cell_type": "code",
   "execution_count": 13,
   "id": "golden-duncan",
   "metadata": {},
   "outputs": [],
   "source": [
    "def recommender_sim():\n",
    "    \n",
    "    recommendations = []\n",
    "    new_user_t=new_user_df.T\n",
    "    new_user_t.loc[new_user_t[611]>=4].index.to_list()\n",
    "#test = similarity_movie.sort_values(\"Empire of Dreams: The Story of the 'Star Wars' Trilogy\",axis=0, ascending=False)\n",
    "    for movie in new_user_t.loc[new_user_t[611]>=4].index.to_list():\n",
    "        recommendations.append(similarity_movie.loc[(similarity_movie[movie]>=0.7)&(similarity_movie[movie]<1)].index.to_list())\n",
    "    return recommendations\n",
    "    "
   ]
  },
  {
   "cell_type": "code",
   "execution_count": 14,
   "id": "graduate-chart",
   "metadata": {},
   "outputs": [
    {
     "name": "stdout",
     "output_type": "stream",
     "text": [
      "[[], ['Aelita: The Queen of Mars (Aelita)'], []]\n"
     ]
    }
   ],
   "source": [
    "if __name__ == '__main__':\n",
    "    \n",
    "    user_rating_matrix = read_file('../data/user_rating_metrix.csv')\n",
    "    user_rating = {\n",
    "    'about time': 5,\n",
    "    'queen': 5,\n",
    "    'star wars': 5\n",
    "    }\n",
    "    \n",
    "    user_rating_matrix_update, user_seened_movie,new_user_df = update_new_user_to_user_rating_matrix(user_rating, user_rating_matrix)\n",
    "    user_rating_matrix_update_scaled=nor(scaler=StandardScaler(), df=user_rating_matrix_update.fillna(0))\n",
    "    \n",
    "    similarity_movie, similarity_user=get_similarity(cosine=cosine_similarity, df=user_rating_matrix_update_scaled)\n",
    "    recommendation_cosin = recommender_sim()\n",
    "    \n",
    "    print(recommendation_cosin)"
   ]
  },
  {
   "cell_type": "code",
   "execution_count": null,
   "id": "correct-arlington",
   "metadata": {},
   "outputs": [],
   "source": []
  },
  {
   "cell_type": "code",
   "execution_count": null,
   "id": "irish-grocery",
   "metadata": {},
   "outputs": [],
   "source": []
  },
  {
   "cell_type": "code",
   "execution_count": null,
   "id": "minus-devil",
   "metadata": {},
   "outputs": [],
   "source": []
  },
  {
   "cell_type": "code",
   "execution_count": null,
   "id": "spatial-aspect",
   "metadata": {},
   "outputs": [],
   "source": []
  },
  {
   "cell_type": "markdown",
   "id": "varied-athens",
   "metadata": {},
   "source": []
  },
  {
   "cell_type": "code",
   "execution_count": null,
   "id": "harmful-updating",
   "metadata": {},
   "outputs": [],
   "source": []
  }
 ],
 "metadata": {
  "kernelspec": {
   "display_name": "Python 3",
   "language": "python",
   "name": "python3"
  },
  "language_info": {
   "codemirror_mode": {
    "name": "ipython",
    "version": 3
   },
   "file_extension": ".py",
   "mimetype": "text/x-python",
   "name": "python",
   "nbconvert_exporter": "python",
   "pygments_lexer": "ipython3",
   "version": "3.8.2"
  }
 },
 "nbformat": 4,
 "nbformat_minor": 5
}
