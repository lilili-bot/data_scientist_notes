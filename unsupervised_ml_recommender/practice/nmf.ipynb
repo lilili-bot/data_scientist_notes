{
 "cells": [
  {
   "cell_type": "markdown",
   "id": "absent-graduation",
   "metadata": {},
   "source": [
    "In order to understand NMF better, i will use numpy to realize NMF."
   ]
  },
  {
   "cell_type": "markdown",
   "id": "still-aerospace",
   "metadata": {},
   "source": []
  },
  {
   "cell_type": "code",
   "execution_count": 13,
   "id": "accessible-permission",
   "metadata": {},
   "outputs": [],
   "source": [
    "import numpy as np\n",
    "import math\n",
    "import random\n",
    "import argparse"
   ]
  },
  {
   "cell_type": "code",
   "execution_count": 16,
   "id": "continuing-salon",
   "metadata": {},
   "outputs": [],
   "source": [
    "'''generate a matrix in gauss distribution'''\n",
    "def generate_gauss_dist_matrix(row, col, mu, sigma):\n",
    "    gauss_matrix = np.zero(shape=(row,col))\n",
    "    for i in range(row):\n",
    "        for j in range(col):\n",
    "            gauss_matrix[i][j]=random.gauss(mu,sigma)\n",
    "    return gauss_matrix"
   ]
  },
  {
   "cell_type": "code",
   "execution_count": 19,
   "id": "variable-revision",
   "metadata": {},
   "outputs": [],
   "source": [
    "'''calculate gradients'''\n",
    "def cal_grad(user_list, item_list,rate_list, row, col, matrix_w, matrix_h, prompt):\n",
    "    grad = np.zero(shape=(row, col))\n",
    "    err_sum = 0 '''calculate error'''\n",
    "    for user, item, rate in zip(user_list, item_list, rate_list):\n",
    "        eij = rate - np.dot(matrix_w[user,:], matrix_h[:,item])\n",
    "        err_sum+=abs(eij)\n",
    "    if prompt = 'W':'''calulate gradience'''\n",
    "        grad[user,:]+=eij*matrix_h[:,item].T\n",
    "    else:\n",
    "        grad[:,item]+=eij*matrix_w[user,:].T\n",
    "    return grad, err_sum\n",
    "        "
   ]
  },
  {
   "cell_type": "code",
   "execution_count": 21,
   "id": "overhead-alliance",
   "metadata": {},
   "outputs": [],
   "source": [
    "'''update parameters'''\n",
    "def update_parameters(row, col, matrix, learn_rate, reg):\n",
    "    for i in range(row):\n",
    "        for j in range(col):\n",
    "            new = (1-learn_rate*reg)*matrix[i][j] + learn_rate*grad[i][j]\n",
    "            matrix[i][j]=max(new, 0.0)\n",
    "    return matrix"
   ]
  },
  {
   "cell_type": "code",
   "execution_count": null,
   "id": "endangered-samoa",
   "metadata": {},
   "outputs": [],
   "source": [
    "def matrix_factorization_train(user_list,item_list, rate_list, K=10, iters=)"
   ]
  },
  {
   "cell_type": "code",
   "execution_count": null,
   "id": "pharmaceutical-rochester",
   "metadata": {},
   "outputs": [],
   "source": []
  },
  {
   "cell_type": "code",
   "execution_count": null,
   "id": "spectacular-belief",
   "metadata": {},
   "outputs": [],
   "source": []
  },
  {
   "cell_type": "code",
   "execution_count": null,
   "id": "portuguese-meter",
   "metadata": {},
   "outputs": [],
   "source": []
  }
 ],
 "metadata": {
  "kernelspec": {
   "display_name": "Python 3",
   "language": "python",
   "name": "python3"
  },
  "language_info": {
   "codemirror_mode": {
    "name": "ipython",
    "version": 3
   },
   "file_extension": ".py",
   "mimetype": "text/x-python",
   "name": "python",
   "nbconvert_exporter": "python",
   "pygments_lexer": "ipython3",
   "version": "3.8.2"
  }
 },
 "nbformat": 4,
 "nbformat_minor": 5
}
