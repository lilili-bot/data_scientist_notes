{
 "cells": [
  {
   "cell_type": "code",
   "execution_count": 5,
   "id": "creative-parcel",
   "metadata": {},
   "outputs": [],
   "source": [
    "from scipy.special import comb, perm\n",
    "import math"
   ]
  },
  {
   "cell_type": "markdown",
   "id": "weighted-valentine",
   "metadata": {},
   "source": [
    "- Probability Mass Function of X is \n",
    "\n",
    "$$ p(x_i) = P(X=x_i), i = 1,2,3,...n,... $$\n",
    "\n",
    "- Expection is:\n",
    "\n",
    "$$ E(X) = \\sum_{i=1}^{\\infty}x_ip(x_i)$$"
   ]
  },
  {
   "cell_type": "code",
   "execution_count": 30,
   "id": "periodic-quebec",
   "metadata": {},
   "outputs": [
    {
     "data": {
      "text/plain": [
       "0.22222222222222224"
      ]
     },
     "execution_count": 30,
     "metadata": {},
     "output_type": "execute_result"
    }
   ],
   "source": [
    "# 0\n",
    "# 1\n",
    "# 2\n",
    "p_0 = 8/10\n",
    "p_1 = (2/10)*(8/9)\n",
    "p_2 = (2/10)*(1/9)*(8/8)\n",
    "p_sum = 0*(p_0)+1*(p_1)+2*(p_2)\n",
    "p_sum"
   ]
  },
  {
   "cell_type": "markdown",
   "id": "thrown-green",
   "metadata": {},
   "source": [
    "$$ E(g(X)] = \\sum_{i}^{\\infty} g(x_i)p(x_i)$$"
   ]
  },
  {
   "cell_type": "code",
   "execution_count": null,
   "id": "turned-facility",
   "metadata": {},
   "outputs": [],
   "source": []
  },
  {
   "cell_type": "code",
   "execution_count": null,
   "id": "academic-baseball",
   "metadata": {},
   "outputs": [],
   "source": []
  },
  {
   "cell_type": "code",
   "execution_count": null,
   "id": "institutional-tuition",
   "metadata": {},
   "outputs": [],
   "source": []
  }
 ],
 "metadata": {
  "kernelspec": {
   "display_name": "Python 3",
   "language": "python",
   "name": "python3"
  },
  "language_info": {
   "codemirror_mode": {
    "name": "ipython",
    "version": 3
   },
   "file_extension": ".py",
   "mimetype": "text/x-python",
   "name": "python",
   "nbconvert_exporter": "python",
   "pygments_lexer": "ipython3",
   "version": "3.8.2"
  }
 },
 "nbformat": 4,
 "nbformat_minor": 5
}
