{
 "cells": [
  {
   "cell_type": "code",
   "execution_count": null,
   "id": "formal-amino",
   "metadata": {},
   "outputs": [],
   "source": [
    "# Sequential "
   ]
  },
  {
   "cell_type": "code",
   "execution_count": 1,
   "id": "virgin-victory",
   "metadata": {},
   "outputs": [],
   "source": [
    "import tensorflow as tf"
   ]
  },
  {
   "cell_type": "code",
   "execution_count": 3,
   "id": "handy-district",
   "metadata": {},
   "outputs": [
    {
     "data": {
      "text/plain": [
       "('2.4.1', '2.4.0')"
      ]
     },
     "execution_count": 3,
     "metadata": {},
     "output_type": "execute_result"
    }
   ],
   "source": [
    "tf.__version__, tf.keras.__version__"
   ]
  },
  {
   "cell_type": "code",
   "execution_count": 2,
   "id": "lonely-canvas",
   "metadata": {},
   "outputs": [],
   "source": [
    "import matplotlib.pyplot as plt\n",
    "import numpy as np"
   ]
  },
  {
   "cell_type": "code",
   "execution_count": 6,
   "id": "powered-feeding",
   "metadata": {},
   "outputs": [],
   "source": [
    "# load dataset\n",
    "mnist = tf.keras.datasets.mnist"
   ]
  },
  {
   "cell_type": "code",
   "execution_count": 7,
   "id": "lonely-invention",
   "metadata": {},
   "outputs": [],
   "source": [
    "(train_x, train_y),(test_x, test_y) = mnist.load_data()"
   ]
  },
  {
   "cell_type": "code",
   "execution_count": 8,
   "id": "outer-straight",
   "metadata": {},
   "outputs": [
    {
     "data": {
      "text/plain": [
       "(60000, 28, 28)"
      ]
     },
     "execution_count": 8,
     "metadata": {},
     "output_type": "execute_result"
    }
   ],
   "source": [
    "train_x.shape"
   ]
  },
  {
   "cell_type": "code",
   "execution_count": 9,
   "id": "necessary-workstation",
   "metadata": {},
   "outputs": [
    {
     "data": {
      "text/plain": [
       "(10000, 28, 28)"
      ]
     },
     "execution_count": 9,
     "metadata": {},
     "output_type": "execute_result"
    }
   ],
   "source": [
    "test_x.shape"
   ]
  },
  {
   "cell_type": "code",
   "execution_count": 10,
   "id": "expanded-voltage",
   "metadata": {},
   "outputs": [],
   "source": [
    "# data handling \n",
    "\n",
    "X_train, X_test = tf.cast(train_x/255.0, tf.float32), tf.cast(test_x/255.0, tf.float32)\n",
    "y_train, y_test = tf.cast(train_y, tf.int16), tf.cast(test_y, tf.int16)"
   ]
  },
  {
   "cell_type": "code",
   "execution_count": 10,
   "id": "formed-crest",
   "metadata": {},
   "outputs": [],
   "source": [
    "#X_test = test_x.reshape((10000, 28*28))"
   ]
  },
  {
   "cell_type": "code",
   "execution_count": 11,
   "id": "positive-harris",
   "metadata": {},
   "outputs": [],
   "source": [
    "#step 1 build model\n",
    "\n",
    "model = tf.keras.Sequential()\n",
    "model.add(tf.keras.layers.Flatten(input_shape=(28,28)))\n",
    "model.add(tf.keras.layers.Dense(128,activation='relu'))\n",
    "model.add(tf.keras.layers.Dense(10, activation='softmax'))"
   ]
  },
  {
   "cell_type": "code",
   "execution_count": 12,
   "id": "empirical-alfred",
   "metadata": {},
   "outputs": [
    {
     "name": "stdout",
     "output_type": "stream",
     "text": [
      "Model: \"sequential\"\n",
      "_________________________________________________________________\n",
      "Layer (type)                 Output Shape              Param #   \n",
      "=================================================================\n",
      "flatten (Flatten)            (None, 784)               0         \n",
      "_________________________________________________________________\n",
      "dense (Dense)                (None, 128)               100480    \n",
      "_________________________________________________________________\n",
      "dense_1 (Dense)              (None, 10)                1290      \n",
      "=================================================================\n",
      "Total params: 101,770\n",
      "Trainable params: 101,770\n",
      "Non-trainable params: 0\n",
      "_________________________________________________________________\n"
     ]
    }
   ],
   "source": [
    "#step 2, check summary\n",
    "model.summary()"
   ]
  },
  {
   "cell_type": "code",
   "execution_count": 13,
   "id": "civilian-seeker",
   "metadata": {},
   "outputs": [],
   "source": [
    "# step 3, set compile\n",
    "\n",
    "model.compile(optimizer='adam',\n",
    "             loss='sparse_categorical_crossentropy',\n",
    "             metrics = ['sparse_categorical_accuracy'])"
   ]
  },
  {
   "cell_type": "code",
   "execution_count": 14,
   "id": "judicial-think",
   "metadata": {
    "scrolled": true,
    "tags": []
   },
   "outputs": [
    {
     "name": "stdout",
     "output_type": "stream",
     "text": [
      "Epoch 1/50\n",
      "750/750 [==============================] - 2s 2ms/step - loss: 0.5577 - sparse_categorical_accuracy: 0.8447 - val_loss: 0.1769 - val_sparse_categorical_accuracy: 0.9499\n",
      "Epoch 2/50\n",
      "750/750 [==============================] - 1s 1ms/step - loss: 0.1613 - sparse_categorical_accuracy: 0.9542 - val_loss: 0.1318 - val_sparse_categorical_accuracy: 0.9606\n",
      "Epoch 3/50\n",
      "750/750 [==============================] - 1s 1ms/step - loss: 0.1041 - sparse_categorical_accuracy: 0.9701 - val_loss: 0.1088 - val_sparse_categorical_accuracy: 0.9668\n",
      "Epoch 4/50\n",
      "750/750 [==============================] - 1s 2ms/step - loss: 0.0783 - sparse_categorical_accuracy: 0.9775 - val_loss: 0.1061 - val_sparse_categorical_accuracy: 0.9686\n",
      "Epoch 5/50\n",
      "750/750 [==============================] - 1s 1ms/step - loss: 0.0628 - sparse_categorical_accuracy: 0.9813 - val_loss: 0.0905 - val_sparse_categorical_accuracy: 0.9742\n",
      "Epoch 6/50\n",
      "750/750 [==============================] - 1s 2ms/step - loss: 0.0521 - sparse_categorical_accuracy: 0.9851 - val_loss: 0.0909 - val_sparse_categorical_accuracy: 0.9741\n",
      "Epoch 7/50\n",
      "750/750 [==============================] - 1s 2ms/step - loss: 0.0383 - sparse_categorical_accuracy: 0.9895 - val_loss: 0.0870 - val_sparse_categorical_accuracy: 0.9758\n",
      "Epoch 8/50\n",
      "750/750 [==============================] - 1s 2ms/step - loss: 0.0294 - sparse_categorical_accuracy: 0.9918 - val_loss: 0.0862 - val_sparse_categorical_accuracy: 0.9748\n",
      "Epoch 9/50\n",
      "750/750 [==============================] - 1s 2ms/step - loss: 0.0240 - sparse_categorical_accuracy: 0.9937 - val_loss: 0.0866 - val_sparse_categorical_accuracy: 0.9752\n",
      "Epoch 10/50\n",
      "750/750 [==============================] - 1s 2ms/step - loss: 0.0193 - sparse_categorical_accuracy: 0.9949 - val_loss: 0.0928 - val_sparse_categorical_accuracy: 0.9754\n",
      "Epoch 11/50\n",
      "750/750 [==============================] - 1s 2ms/step - loss: 0.0175 - sparse_categorical_accuracy: 0.9957 - val_loss: 0.0869 - val_sparse_categorical_accuracy: 0.9760\n",
      "Epoch 12/50\n",
      "750/750 [==============================] - 1s 2ms/step - loss: 0.0139 - sparse_categorical_accuracy: 0.9969 - val_loss: 0.0983 - val_sparse_categorical_accuracy: 0.9752\n",
      "Epoch 13/50\n",
      "750/750 [==============================] - 1s 2ms/step - loss: 0.0107 - sparse_categorical_accuracy: 0.9974 - val_loss: 0.0999 - val_sparse_categorical_accuracy: 0.9749\n",
      "Epoch 14/50\n",
      "750/750 [==============================] - 1s 2ms/step - loss: 0.0105 - sparse_categorical_accuracy: 0.9973 - val_loss: 0.0967 - val_sparse_categorical_accuracy: 0.9758\n",
      "Epoch 15/50\n",
      "750/750 [==============================] - 1s 2ms/step - loss: 0.0086 - sparse_categorical_accuracy: 0.9983 - val_loss: 0.0947 - val_sparse_categorical_accuracy: 0.9755\n",
      "Epoch 16/50\n",
      "750/750 [==============================] - 2s 2ms/step - loss: 0.0071 - sparse_categorical_accuracy: 0.9984 - val_loss: 0.0968 - val_sparse_categorical_accuracy: 0.9754\n",
      "Epoch 17/50\n",
      "750/750 [==============================] - 2s 2ms/step - loss: 0.0071 - sparse_categorical_accuracy: 0.9985 - val_loss: 0.0971 - val_sparse_categorical_accuracy: 0.9768\n",
      "Epoch 18/50\n",
      "750/750 [==============================] - 2s 2ms/step - loss: 0.0041 - sparse_categorical_accuracy: 0.9991 - val_loss: 0.1122 - val_sparse_categorical_accuracy: 0.9738\n",
      "Epoch 19/50\n",
      "750/750 [==============================] - 2s 2ms/step - loss: 0.0072 - sparse_categorical_accuracy: 0.9979 - val_loss: 0.1109 - val_sparse_categorical_accuracy: 0.9751\n",
      "Epoch 20/50\n",
      "750/750 [==============================] - 2s 2ms/step - loss: 0.0042 - sparse_categorical_accuracy: 0.9991 - val_loss: 0.1004 - val_sparse_categorical_accuracy: 0.9782\n",
      "Epoch 21/50\n",
      "750/750 [==============================] - 2s 2ms/step - loss: 0.0015 - sparse_categorical_accuracy: 1.0000 - val_loss: 0.1043 - val_sparse_categorical_accuracy: 0.9778\n",
      "Epoch 22/50\n",
      "750/750 [==============================] - 2s 2ms/step - loss: 0.0030 - sparse_categorical_accuracy: 0.9993 - val_loss: 0.1074 - val_sparse_categorical_accuracy: 0.9759\n",
      "Epoch 23/50\n",
      "750/750 [==============================] - 2s 2ms/step - loss: 0.0075 - sparse_categorical_accuracy: 0.9972 - val_loss: 0.1125 - val_sparse_categorical_accuracy: 0.9765\n",
      "Epoch 24/50\n",
      "750/750 [==============================] - 2s 2ms/step - loss: 0.0018 - sparse_categorical_accuracy: 0.9997 - val_loss: 0.1032 - val_sparse_categorical_accuracy: 0.9775\n",
      "Epoch 25/50\n",
      "750/750 [==============================] - 2s 2ms/step - loss: 7.3923e-04 - sparse_categorical_accuracy: 1.0000 - val_loss: 0.1085 - val_sparse_categorical_accuracy: 0.9778\n",
      "Epoch 26/50\n",
      "750/750 [==============================] - 2s 2ms/step - loss: 0.0077 - sparse_categorical_accuracy: 0.9977 - val_loss: 0.1080 - val_sparse_categorical_accuracy: 0.9791\n",
      "Epoch 27/50\n",
      "750/750 [==============================] - 2s 2ms/step - loss: 0.0017 - sparse_categorical_accuracy: 0.9998 - val_loss: 0.1088 - val_sparse_categorical_accuracy: 0.9786\n",
      "Epoch 28/50\n",
      "750/750 [==============================] - 2s 2ms/step - loss: 5.9882e-04 - sparse_categorical_accuracy: 1.0000 - val_loss: 0.1072 - val_sparse_categorical_accuracy: 0.9796\n",
      "Epoch 29/50\n",
      "750/750 [==============================] - 2s 2ms/step - loss: 3.2707e-04 - sparse_categorical_accuracy: 1.0000 - val_loss: 0.1084 - val_sparse_categorical_accuracy: 0.9797\n",
      "Epoch 30/50\n",
      "750/750 [==============================] - 2s 2ms/step - loss: 2.8126e-04 - sparse_categorical_accuracy: 1.0000 - val_loss: 0.1083 - val_sparse_categorical_accuracy: 0.9794\n",
      "Epoch 31/50\n",
      "750/750 [==============================] - 2s 2ms/step - loss: 3.0064e-04 - sparse_categorical_accuracy: 1.0000 - val_loss: 0.1372 - val_sparse_categorical_accuracy: 0.9741\n",
      "Epoch 32/50\n",
      "750/750 [==============================] - 2s 2ms/step - loss: 0.0177 - sparse_categorical_accuracy: 0.9942 - val_loss: 0.1168 - val_sparse_categorical_accuracy: 0.9769\n",
      "Epoch 33/50\n",
      "750/750 [==============================] - 2s 2ms/step - loss: 0.0015 - sparse_categorical_accuracy: 0.9998 - val_loss: 0.1184 - val_sparse_categorical_accuracy: 0.9775\n",
      "Epoch 34/50\n",
      "750/750 [==============================] - 2s 2ms/step - loss: 8.3165e-04 - sparse_categorical_accuracy: 0.9999 - val_loss: 0.1174 - val_sparse_categorical_accuracy: 0.9795\n",
      "Epoch 35/50\n",
      "750/750 [==============================] - 2s 2ms/step - loss: 2.2732e-04 - sparse_categorical_accuracy: 1.0000 - val_loss: 0.1163 - val_sparse_categorical_accuracy: 0.9787\n",
      "Epoch 36/50\n",
      "750/750 [==============================] - 2s 3ms/step - loss: 2.1596e-04 - sparse_categorical_accuracy: 1.0000 - val_loss: 0.1177 - val_sparse_categorical_accuracy: 0.9791\n",
      "Epoch 37/50\n",
      "750/750 [==============================] - 2s 3ms/step - loss: 4.3176e-04 - sparse_categorical_accuracy: 0.9999 - val_loss: 0.1766 - val_sparse_categorical_accuracy: 0.9681\n",
      "Epoch 38/50\n",
      "750/750 [==============================] - 2s 3ms/step - loss: 0.0152 - sparse_categorical_accuracy: 0.9946 - val_loss: 0.1249 - val_sparse_categorical_accuracy: 0.9772\n",
      "Epoch 39/50\n",
      "750/750 [==============================] - 2s 3ms/step - loss: 0.0011 - sparse_categorical_accuracy: 0.9998 - val_loss: 0.1237 - val_sparse_categorical_accuracy: 0.9775\n",
      "Epoch 40/50\n",
      "750/750 [==============================] - 2s 3ms/step - loss: 0.0026 - sparse_categorical_accuracy: 0.9991 - val_loss: 0.1252 - val_sparse_categorical_accuracy: 0.9780\n",
      "Epoch 41/50\n",
      "750/750 [==============================] - 2s 2ms/step - loss: 0.0014 - sparse_categorical_accuracy: 0.9996 - val_loss: 0.1310 - val_sparse_categorical_accuracy: 0.9787\n",
      "Epoch 42/50\n",
      "750/750 [==============================] - 2s 3ms/step - loss: 5.9439e-04 - sparse_categorical_accuracy: 0.9999 - val_loss: 0.1241 - val_sparse_categorical_accuracy: 0.9792\n",
      "Epoch 43/50\n",
      "750/750 [==============================] - 2s 3ms/step - loss: 1.4337e-04 - sparse_categorical_accuracy: 1.0000 - val_loss: 0.1235 - val_sparse_categorical_accuracy: 0.9801\n",
      "Epoch 44/50\n",
      "750/750 [==============================] - 2s 2ms/step - loss: 9.4172e-05 - sparse_categorical_accuracy: 1.0000 - val_loss: 0.1244 - val_sparse_categorical_accuracy: 0.9801\n",
      "Epoch 45/50\n",
      "750/750 [==============================] - 2s 3ms/step - loss: 7.9869e-05 - sparse_categorical_accuracy: 1.0000 - val_loss: 0.1249 - val_sparse_categorical_accuracy: 0.9801\n",
      "Epoch 46/50\n",
      "750/750 [==============================] - 2s 3ms/step - loss: 8.2530e-05 - sparse_categorical_accuracy: 1.0000 - val_loss: 0.1258 - val_sparse_categorical_accuracy: 0.9800\n",
      "Epoch 47/50\n",
      "750/750 [==============================] - 2s 3ms/step - loss: 0.0011 - sparse_categorical_accuracy: 0.9997 - val_loss: 0.1705 - val_sparse_categorical_accuracy: 0.9714\n",
      "Epoch 48/50\n",
      "750/750 [==============================] - 2s 3ms/step - loss: 0.0074 - sparse_categorical_accuracy: 0.9974 - val_loss: 0.1391 - val_sparse_categorical_accuracy: 0.9773\n",
      "Epoch 49/50\n",
      "750/750 [==============================] - 2s 3ms/step - loss: 3.1925e-04 - sparse_categorical_accuracy: 1.0000 - val_loss: 0.1349 - val_sparse_categorical_accuracy: 0.9779\n",
      "Epoch 50/50\n",
      "750/750 [==============================] - 2s 3ms/step - loss: 1.5417e-04 - sparse_categorical_accuracy: 1.0000 - val_loss: 0.1346 - val_sparse_categorical_accuracy: 0.9782\n"
     ]
    },
    {
     "data": {
      "text/plain": [
       "<tensorflow.python.keras.callbacks.History at 0x7ffaac22e910>"
      ]
     },
     "execution_count": 14,
     "metadata": {},
     "output_type": "execute_result"
    }
   ],
   "source": [
    "# step 4 fit model\n",
    "\n",
    "model.fit(X_train, y_train, batch_size=64,epochs=50, validation_split=0.2)\n"
   ]
  },
  {
   "cell_type": "code",
   "execution_count": 15,
   "id": "chubby-newman",
   "metadata": {},
   "outputs": [
    {
     "name": "stdout",
     "output_type": "stream",
     "text": [
      "313/313 - 0s - loss: 0.1163 - sparse_categorical_accuracy: 0.9795\n"
     ]
    },
    {
     "data": {
      "text/plain": [
       "[0.11629582196474075, 0.9794999957084656]"
      ]
     },
     "execution_count": 15,
     "metadata": {},
     "output_type": "execute_result"
    }
   ],
   "source": [
    "model.evaluate(X_test, y_test, verbose = 2)"
   ]
  },
  {
   "cell_type": "code",
   "execution_count": 16,
   "id": "specific-brush",
   "metadata": {},
   "outputs": [
    {
     "data": {
      "image/png": "[encoded data removed]",
      "text/plain": [
       "<Figure size 432x288 with 1 Axes>"
      ]
     },
     "metadata": {
      "needs_background": "light"
     },
     "output_type": "display_data"
    }
   ],
   "source": [
    "# step5 use the model\n",
    "\n",
    "plt.axis('off')\n",
    "plt.imshow(test_x[0], cmap='gray')\n",
    "plt.show()"
   ]
  },
  {
   "cell_type": "code",
   "execution_count": 17,
   "id": "rolled-bacon",
   "metadata": {},
   "outputs": [
    {
     "data": {
      "text/plain": [
       "<tf.Tensor: shape=(), dtype=int16, numpy=7>"
      ]
     },
     "execution_count": 17,
     "metadata": {},
     "output_type": "execute_result"
    }
   ],
   "source": [
    "y_test[0]"
   ]
  },
  {
   "cell_type": "code",
   "execution_count": 18,
   "id": "graduate-musician",
   "metadata": {
    "scrolled": true,
    "tags": []
   },
   "outputs": [
    {
     "data": {
      "text/plain": [
       "<tf.Tensor: shape=(28, 28), dtype=float32, numpy=\n",
       "array([[0.        , 0.        , 0.        , 0.        , 0.        ,\n",
       "        0.        , 0.        , 0.        , 0.        , 0.        ,\n",
       "        0.        , 0.        , 0.        , 0.        , 0.        ,\n",
       "        0.        , 0.        , 0.        , 0.        , 0.        ,\n",
       "        0.        , 0.        , 0.        , 0.        , 0.        ,\n",
       "        0.        , 0.        , 0.        ],\n",
       "       [0.        , 0.        , 0.        , 0.        , 0.        ,\n",
       "        0.        , 0.        , 0.        , 0.        , 0.        ,\n",
       "        0.        , 0.        , 0.        , 0.        , 0.        ,\n",
       "        0.        , 0.        , 0.        , 0.        , 0.        ,\n",
       "        0.        , 0.        , 0.        , 0.        , 0.        ,\n",
       "        0.        , 0.        , 0.        ],\n",
       "       [0.        , 0.        , 0.        , 0.        , 0.        ,\n",
       "        0.        , 0.        , 0.        , 0.        , 0.        ,\n",
       "        0.        , 0.        , 0.        , 0.        , 0.        ,\n",
       "        0.        , 0.        , 0.        , 0.        , 0.        ,\n",
       "        0.        , 0.        , 0.        , 0.        , 0.        ,\n",
       "        0.        , 0.        , 0.        ],\n",
       "       [0.        , 0.        , 0.        , 0.        , 0.        ,\n",
       "        0.        , 0.        , 0.        , 0.        , 0.        ,\n",
       "        0.        , 0.        , 0.        , 0.        , 0.        ,\n",
       "        0.        , 0.        , 0.        , 0.        , 0.        ,\n",
       "        0.        , 0.        , 0.        , 0.        , 0.        ,\n",
       "        0.        , 0.        , 0.        ],\n",
       "       [0.        , 0.        , 0.        , 0.        , 0.        ,\n",
       "        0.        , 0.        , 0.        , 0.        , 0.        ,\n",
       "        0.        , 0.        , 0.        , 0.        , 0.        ,\n",
       "        0.        , 0.        , 0.        , 0.        , 0.        ,\n",
       "        0.        , 0.        , 0.        , 0.        , 0.        ,\n",
       "        0.        , 0.        , 0.        ],\n",
       "       [0.        , 0.        , 0.        , 0.        , 0.        ,\n",
       "        0.        , 0.        , 0.        , 0.        , 0.        ,\n",
       "        0.        , 0.        , 0.01176471, 0.07058824, 0.07058824,\n",
       "        0.07058824, 0.49411765, 0.53333336, 0.6862745 , 0.10196079,\n",
       "        0.6509804 , 1.        , 0.96862745, 0.49803922, 0.        ,\n",
       "        0.        , 0.        , 0.        ],\n",
       "       [0.        , 0.        , 0.        , 0.        , 0.        ,\n",
       "        0.        , 0.        , 0.        , 0.11764706, 0.14117648,\n",
       "        0.36862746, 0.6039216 , 0.6666667 , 0.99215686, 0.99215686,\n",
       "        0.99215686, 0.99215686, 0.99215686, 0.88235295, 0.6745098 ,\n",
       "        0.99215686, 0.9490196 , 0.7647059 , 0.2509804 , 0.        ,\n",
       "        0.        , 0.        , 0.        ],\n",
       "       [0.        , 0.        , 0.        , 0.        , 0.        ,\n",
       "        0.        , 0.        , 0.19215687, 0.93333334, 0.99215686,\n",
       "        0.99215686, 0.99215686, 0.99215686, 0.99215686, 0.99215686,\n",
       "        0.99215686, 0.99215686, 0.9843137 , 0.3647059 , 0.32156864,\n",
       "        0.32156864, 0.21960784, 0.15294118, 0.        , 0.        ,\n",
       "        0.        , 0.        , 0.        ],\n",
       "       [0.        , 0.        , 0.        , 0.        , 0.        ,\n",
       "        0.        , 0.        , 0.07058824, 0.85882354, 0.99215686,\n",
       "        0.99215686, 0.99215686, 0.99215686, 0.99215686, 0.7764706 ,\n",
       "        0.7137255 , 0.96862745, 0.94509804, 0.        , 0.        ,\n",
       "        0.        , 0.        , 0.        , 0.        , 0.        ,\n",
       "        0.        , 0.        , 0.        ],\n",
       "       [0.        , 0.        , 0.        , 0.        , 0.        ,\n",
       "        0.        , 0.        , 0.        , 0.3137255 , 0.6117647 ,\n",
       "        0.41960785, 0.99215686, 0.99215686, 0.8039216 , 0.04313726,\n",
       "        0.        , 0.16862746, 0.6039216 , 0.        , 0.        ,\n",
       "        0.        , 0.        , 0.        , 0.        , 0.        ,\n",
       "        0.        , 0.        , 0.        ],\n",
       "       [0.        , 0.        , 0.        , 0.        , 0.        ,\n",
       "        0.        , 0.        , 0.        , 0.        , 0.05490196,\n",
       "        0.00392157, 0.6039216 , 0.99215686, 0.3529412 , 0.        ,\n",
       "        0.        , 0.        , 0.        , 0.        , 0.        ,\n",
       "        0.        , 0.        , 0.        , 0.        , 0.        ,\n",
       "        0.        , 0.        , 0.        ],\n",
       "       [0.        , 0.        , 0.        , 0.        , 0.        ,\n",
       "        0.        , 0.        , 0.        , 0.        , 0.        ,\n",
       "        0.        , 0.54509807, 0.99215686, 0.74509805, 0.00784314,\n",
       "        0.        , 0.        , 0.        , 0.        , 0.        ,\n",
       "        0.        , 0.        , 0.        , 0.        , 0.        ,\n",
       "        0.        , 0.        , 0.        ],\n",
       "       [0.        , 0.        , 0.        , 0.        , 0.        ,\n",
       "        0.        , 0.        , 0.        , 0.        , 0.        ,\n",
       "        0.        , 0.04313726, 0.74509805, 0.99215686, 0.27450982,\n",
       "        0.        , 0.        , 0.        , 0.        , 0.        ,\n",
       "        0.        , 0.        , 0.        , 0.        , 0.        ,\n",
       "        0.        , 0.        , 0.        ],\n",
       "       [0.        , 0.        , 0.        , 0.        , 0.        ,\n",
       "        0.        , 0.        , 0.        , 0.        , 0.        ,\n",
       "        0.        , 0.        , 0.13725491, 0.94509804, 0.88235295,\n",
       "        0.627451  , 0.42352942, 0.00392157, 0.        , 0.        ,\n",
       "        0.        , 0.        , 0.        , 0.        , 0.        ,\n",
       "        0.        , 0.        , 0.        ],\n",
       "       [0.        , 0.        , 0.        , 0.        , 0.        ,\n",
       "        0.        , 0.        , 0.        , 0.        , 0.        ,\n",
       "        0.        , 0.        , 0.        , 0.31764707, 0.9411765 ,\n",
       "        0.99215686, 0.99215686, 0.46666667, 0.09803922, 0.        ,\n",
       "        0.        , 0.        , 0.        , 0.        , 0.        ,\n",
       "        0.        , 0.        , 0.        ],\n",
       "       [0.        , 0.        , 0.        , 0.        , 0.        ,\n",
       "        0.        , 0.        , 0.        , 0.        , 0.        ,\n",
       "        0.        , 0.        , 0.        , 0.        , 0.1764706 ,\n",
       "        0.7294118 , 0.99215686, 0.99215686, 0.5882353 , 0.10588235,\n",
       "        0.        , 0.        , 0.        , 0.        , 0.        ,\n",
       "        0.        , 0.        , 0.        ],\n",
       "       [0.        , 0.        , 0.        , 0.        , 0.        ,\n",
       "        0.        , 0.        , 0.        , 0.        , 0.        ,\n",
       "        0.        , 0.        , 0.        , 0.        , 0.        ,\n",
       "        0.0627451 , 0.3647059 , 0.9882353 , 0.99215686, 0.73333335,\n",
       "        0.        , 0.        , 0.        , 0.        , 0.        ,\n",
       "        0.        , 0.        , 0.        ],\n",
       "       [0.        , 0.        , 0.        , 0.        , 0.        ,\n",
       "        0.        , 0.        , 0.        , 0.        , 0.        ,\n",
       "        0.        , 0.        , 0.        , 0.        , 0.        ,\n",
       "        0.        , 0.        , 0.9764706 , 0.99215686, 0.9764706 ,\n",
       "        0.2509804 , 0.        , 0.        , 0.        , 0.        ,\n",
       "        0.        , 0.        , 0.        ],\n",
       "       [0.        , 0.        , 0.        , 0.        , 0.        ,\n",
       "        0.        , 0.        , 0.        , 0.        , 0.        ,\n",
       "        0.        , 0.        , 0.        , 0.        , 0.18039216,\n",
       "        0.50980395, 0.7176471 , 0.99215686, 0.99215686, 0.8117647 ,\n",
       "        0.00784314, 0.        , 0.        , 0.        , 0.        ,\n",
       "        0.        , 0.        , 0.        ],\n",
       "       [0.        , 0.        , 0.        , 0.        , 0.        ,\n",
       "        0.        , 0.        , 0.        , 0.        , 0.        ,\n",
       "        0.        , 0.        , 0.15294118, 0.5803922 , 0.8980392 ,\n",
       "        0.99215686, 0.99215686, 0.99215686, 0.98039216, 0.7137255 ,\n",
       "        0.        , 0.        , 0.        , 0.        , 0.        ,\n",
       "        0.        , 0.        , 0.        ],\n",
       "       [0.        , 0.        , 0.        , 0.        , 0.        ,\n",
       "        0.        , 0.        , 0.        , 0.        , 0.        ,\n",
       "        0.09411765, 0.44705883, 0.8666667 , 0.99215686, 0.99215686,\n",
       "        0.99215686, 0.99215686, 0.7882353 , 0.30588236, 0.        ,\n",
       "        0.        , 0.        , 0.        , 0.        , 0.        ,\n",
       "        0.        , 0.        , 0.        ],\n",
       "       [0.        , 0.        , 0.        , 0.        , 0.        ,\n",
       "        0.        , 0.        , 0.        , 0.09019608, 0.25882354,\n",
       "        0.8352941 , 0.99215686, 0.99215686, 0.99215686, 0.99215686,\n",
       "        0.7764706 , 0.31764707, 0.00784314, 0.        , 0.        ,\n",
       "        0.        , 0.        , 0.        , 0.        , 0.        ,\n",
       "        0.        , 0.        , 0.        ],\n",
       "       [0.        , 0.        , 0.        , 0.        , 0.        ,\n",
       "        0.        , 0.07058824, 0.67058825, 0.85882354, 0.99215686,\n",
       "        0.99215686, 0.99215686, 0.99215686, 0.7647059 , 0.3137255 ,\n",
       "        0.03529412, 0.        , 0.        , 0.        , 0.        ,\n",
       "        0.        , 0.        , 0.        , 0.        , 0.        ,\n",
       "        0.        , 0.        , 0.        ],\n",
       "       [0.        , 0.        , 0.        , 0.        , 0.21568628,\n",
       "        0.6745098 , 0.8862745 , 0.99215686, 0.99215686, 0.99215686,\n",
       "        0.99215686, 0.95686275, 0.52156866, 0.04313726, 0.        ,\n",
       "        0.        , 0.        , 0.        , 0.        , 0.        ,\n",
       "        0.        , 0.        , 0.        , 0.        , 0.        ,\n",
       "        0.        , 0.        , 0.        ],\n",
       "       [0.        , 0.        , 0.        , 0.        , 0.53333336,\n",
       "        0.99215686, 0.99215686, 0.99215686, 0.83137256, 0.5294118 ,\n",
       "        0.5176471 , 0.0627451 , 0.        , 0.        , 0.        ,\n",
       "        0.        , 0.        , 0.        , 0.        , 0.        ,\n",
       "        0.        , 0.        , 0.        , 0.        , 0.        ,\n",
       "        0.        , 0.        , 0.        ],\n",
       "       [0.        , 0.        , 0.        , 0.        , 0.        ,\n",
       "        0.        , 0.        , 0.        , 0.        , 0.        ,\n",
       "        0.        , 0.        , 0.        , 0.        , 0.        ,\n",
       "        0.        , 0.        , 0.        , 0.        , 0.        ,\n",
       "        0.        , 0.        , 0.        , 0.        , 0.        ,\n",
       "        0.        , 0.        , 0.        ],\n",
       "       [0.        , 0.        , 0.        , 0.        , 0.        ,\n",
       "        0.        , 0.        , 0.        , 0.        , 0.        ,\n",
       "        0.        , 0.        , 0.        , 0.        , 0.        ,\n",
       "        0.        , 0.        , 0.        , 0.        , 0.        ,\n",
       "        0.        , 0.        , 0.        , 0.        , 0.        ,\n",
       "        0.        , 0.        , 0.        ],\n",
       "       [0.        , 0.        , 0.        , 0.        , 0.        ,\n",
       "        0.        , 0.        , 0.        , 0.        , 0.        ,\n",
       "        0.        , 0.        , 0.        , 0.        , 0.        ,\n",
       "        0.        , 0.        , 0.        , 0.        , 0.        ,\n",
       "        0.        , 0.        , 0.        , 0.        , 0.        ,\n",
       "        0.        , 0.        , 0.        ]], dtype=float32)>"
      ]
     },
     "execution_count": 18,
     "metadata": {},
     "output_type": "execute_result"
    }
   ],
   "source": [
    "X_train[0]"
   ]
  },
  {
   "cell_type": "code",
   "execution_count": 19,
   "id": "brilliant-landing",
   "metadata": {
    "scrolled": true,
    "tags": []
   },
   "outputs": [
    {
     "data": {
      "text/plain": [
       "<tf.Tensor: shape=(28, 28), dtype=float32, numpy=\n",
       "array([[0.        , 0.        , 0.        , 0.        , 0.        ,\n",
       "        0.        , 0.        , 0.        , 0.        , 0.        ,\n",
       "        0.        , 0.        , 0.        , 0.        , 0.        ,\n",
       "        0.        , 0.        , 0.        , 0.        , 0.        ,\n",
       "        0.        , 0.        , 0.        , 0.        , 0.        ,\n",
       "        0.        , 0.        , 0.        ],\n",
       "       [0.        , 0.        , 0.        , 0.        , 0.        ,\n",
       "        0.        , 0.        , 0.        , 0.        , 0.        ,\n",
       "        0.        , 0.        , 0.        , 0.        , 0.        ,\n",
       "        0.        , 0.        , 0.        , 0.        , 0.        ,\n",
       "        0.        , 0.        , 0.        , 0.        , 0.        ,\n",
       "        0.        , 0.        , 0.        ],\n",
       "       [0.        , 0.        , 0.        , 0.        , 0.        ,\n",
       "        0.        , 0.        , 0.        , 0.        , 0.        ,\n",
       "        0.        , 0.        , 0.        , 0.        , 0.        ,\n",
       "        0.        , 0.        , 0.        , 0.        , 0.        ,\n",
       "        0.        , 0.        , 0.        , 0.        , 0.        ,\n",
       "        0.        , 0.        , 0.        ],\n",
       "       [0.        , 0.        , 0.        , 0.        , 0.        ,\n",
       "        0.        , 0.        , 0.        , 0.        , 0.        ,\n",
       "        0.        , 0.        , 0.        , 0.        , 0.        ,\n",
       "        0.        , 0.        , 0.        , 0.        , 0.        ,\n",
       "        0.        , 0.        , 0.        , 0.        , 0.        ,\n",
       "        0.        , 0.        , 0.        ],\n",
       "       [0.        , 0.        , 0.        , 0.        , 0.        ,\n",
       "        0.        , 0.        , 0.        , 0.        , 0.        ,\n",
       "        0.        , 0.        , 0.        , 0.        , 0.        ,\n",
       "        0.        , 0.        , 0.        , 0.        , 0.        ,\n",
       "        0.        , 0.        , 0.        , 0.        , 0.        ,\n",
       "        0.        , 0.        , 0.        ],\n",
       "       [0.        , 0.        , 0.        , 0.        , 0.        ,\n",
       "        0.        , 0.        , 0.        , 0.        , 0.        ,\n",
       "        0.        , 0.        , 0.        , 0.        , 0.        ,\n",
       "        0.        , 0.        , 0.        , 0.        , 0.        ,\n",
       "        0.        , 0.        , 0.        , 0.        , 0.        ,\n",
       "        0.        , 0.        , 0.        ],\n",
       "       [0.        , 0.        , 0.        , 0.        , 0.        ,\n",
       "        0.        , 0.        , 0.        , 0.        , 0.        ,\n",
       "        0.        , 0.        , 0.        , 0.        , 0.        ,\n",
       "        0.        , 0.        , 0.        , 0.        , 0.        ,\n",
       "        0.        , 0.        , 0.        , 0.        , 0.        ,\n",
       "        0.        , 0.        , 0.        ],\n",
       "       [0.        , 0.        , 0.        , 0.        , 0.        ,\n",
       "        0.        , 0.32941177, 0.7254902 , 0.62352943, 0.5921569 ,\n",
       "        0.23529412, 0.14117648, 0.        , 0.        , 0.        ,\n",
       "        0.        , 0.        , 0.        , 0.        , 0.        ,\n",
       "        0.        , 0.        , 0.        , 0.        , 0.        ,\n",
       "        0.        , 0.        , 0.        ],\n",
       "       [0.        , 0.        , 0.        , 0.        , 0.        ,\n",
       "        0.        , 0.87058824, 0.99607843, 0.99607843, 0.99607843,\n",
       "        0.99607843, 0.94509804, 0.7764706 , 0.7764706 , 0.7764706 ,\n",
       "        0.7764706 , 0.7764706 , 0.7764706 , 0.7764706 , 0.7764706 ,\n",
       "        0.6666667 , 0.20392157, 0.        , 0.        , 0.        ,\n",
       "        0.        , 0.        , 0.        ],\n",
       "       [0.        , 0.        , 0.        , 0.        , 0.        ,\n",
       "        0.        , 0.2627451 , 0.44705883, 0.28235295, 0.44705883,\n",
       "        0.6392157 , 0.8901961 , 0.99607843, 0.88235295, 0.99607843,\n",
       "        0.99607843, 0.99607843, 0.98039216, 0.8980392 , 0.99607843,\n",
       "        0.99607843, 0.54901963, 0.        , 0.        , 0.        ,\n",
       "        0.        , 0.        , 0.        ],\n",
       "       [0.        , 0.        , 0.        , 0.        , 0.        ,\n",
       "        0.        , 0.        , 0.        , 0.        , 0.        ,\n",
       "        0.        , 0.06666667, 0.25882354, 0.05490196, 0.2627451 ,\n",
       "        0.2627451 , 0.2627451 , 0.23137255, 0.08235294, 0.9254902 ,\n",
       "        0.99607843, 0.41568628, 0.        , 0.        , 0.        ,\n",
       "        0.        , 0.        , 0.        ],\n",
       "       [0.        , 0.        , 0.        , 0.        , 0.        ,\n",
       "        0.        , 0.        , 0.        , 0.        , 0.        ,\n",
       "        0.        , 0.        , 0.        , 0.        , 0.        ,\n",
       "        0.        , 0.        , 0.        , 0.3254902 , 0.99215686,\n",
       "        0.81960785, 0.07058824, 0.        , 0.        , 0.        ,\n",
       "        0.        , 0.        , 0.        ],\n",
       "       [0.        , 0.        , 0.        , 0.        , 0.        ,\n",
       "        0.        , 0.        , 0.        , 0.        , 0.        ,\n",
       "        0.        , 0.        , 0.        , 0.        , 0.        ,\n",
       "        0.        , 0.        , 0.08627451, 0.9137255 , 1.        ,\n",
       "        0.3254902 , 0.        , 0.        , 0.        , 0.        ,\n",
       "        0.        , 0.        , 0.        ],\n",
       "       [0.        , 0.        , 0.        , 0.        , 0.        ,\n",
       "        0.        , 0.        , 0.        , 0.        , 0.        ,\n",
       "        0.        , 0.        , 0.        , 0.        , 0.        ,\n",
       "        0.        , 0.        , 0.5058824 , 0.99607843, 0.93333334,\n",
       "        0.17254902, 0.        , 0.        , 0.        , 0.        ,\n",
       "        0.        , 0.        , 0.        ],\n",
       "       [0.        , 0.        , 0.        , 0.        , 0.        ,\n",
       "        0.        , 0.        , 0.        , 0.        , 0.        ,\n",
       "        0.        , 0.        , 0.        , 0.        , 0.        ,\n",
       "        0.        , 0.23137255, 0.9764706 , 0.99607843, 0.24313726,\n",
       "        0.        , 0.        , 0.        , 0.        , 0.        ,\n",
       "        0.        , 0.        , 0.        ],\n",
       "       [0.        , 0.        , 0.        , 0.        , 0.        ,\n",
       "        0.        , 0.        , 0.        , 0.        , 0.        ,\n",
       "        0.        , 0.        , 0.        , 0.        , 0.        ,\n",
       "        0.        , 0.52156866, 0.99607843, 0.73333335, 0.01960784,\n",
       "        0.        , 0.        , 0.        , 0.        , 0.        ,\n",
       "        0.        , 0.        , 0.        ],\n",
       "       [0.        , 0.        , 0.        , 0.        , 0.        ,\n",
       "        0.        , 0.        , 0.        , 0.        , 0.        ,\n",
       "        0.        , 0.        , 0.        , 0.        , 0.        ,\n",
       "        0.03529412, 0.8039216 , 0.972549  , 0.22745098, 0.        ,\n",
       "        0.        , 0.        , 0.        , 0.        , 0.        ,\n",
       "        0.        , 0.        , 0.        ],\n",
       "       [0.        , 0.        , 0.        , 0.        , 0.        ,\n",
       "        0.        , 0.        , 0.        , 0.        , 0.        ,\n",
       "        0.        , 0.        , 0.        , 0.        , 0.        ,\n",
       "        0.49411765, 0.99607843, 0.7137255 , 0.        , 0.        ,\n",
       "        0.        , 0.        , 0.        , 0.        , 0.        ,\n",
       "        0.        , 0.        , 0.        ],\n",
       "       [0.        , 0.        , 0.        , 0.        , 0.        ,\n",
       "        0.        , 0.        , 0.        , 0.        , 0.        ,\n",
       "        0.        , 0.        , 0.        , 0.        , 0.29411766,\n",
       "        0.9843137 , 0.9411765 , 0.22352941, 0.        , 0.        ,\n",
       "        0.        , 0.        , 0.        , 0.        , 0.        ,\n",
       "        0.        , 0.        , 0.        ],\n",
       "       [0.        , 0.        , 0.        , 0.        , 0.        ,\n",
       "        0.        , 0.        , 0.        , 0.        , 0.        ,\n",
       "        0.        , 0.        , 0.        , 0.07450981, 0.8666667 ,\n",
       "        0.99607843, 0.6509804 , 0.        , 0.        , 0.        ,\n",
       "        0.        , 0.        , 0.        , 0.        , 0.        ,\n",
       "        0.        , 0.        , 0.        ],\n",
       "       [0.        , 0.        , 0.        , 0.        , 0.        ,\n",
       "        0.        , 0.        , 0.        , 0.        , 0.        ,\n",
       "        0.        , 0.        , 0.01176471, 0.79607844, 0.99607843,\n",
       "        0.85882354, 0.13725491, 0.        , 0.        , 0.        ,\n",
       "        0.        , 0.        , 0.        , 0.        , 0.        ,\n",
       "        0.        , 0.        , 0.        ],\n",
       "       [0.        , 0.        , 0.        , 0.        , 0.        ,\n",
       "        0.        , 0.        , 0.        , 0.        , 0.        ,\n",
       "        0.        , 0.        , 0.14901961, 0.99607843, 0.99607843,\n",
       "        0.3019608 , 0.        , 0.        , 0.        , 0.        ,\n",
       "        0.        , 0.        , 0.        , 0.        , 0.        ,\n",
       "        0.        , 0.        , 0.        ],\n",
       "       [0.        , 0.        , 0.        , 0.        , 0.        ,\n",
       "        0.        , 0.        , 0.        , 0.        , 0.        ,\n",
       "        0.        , 0.12156863, 0.8784314 , 0.99607843, 0.4509804 ,\n",
       "        0.00392157, 0.        , 0.        , 0.        , 0.        ,\n",
       "        0.        , 0.        , 0.        , 0.        , 0.        ,\n",
       "        0.        , 0.        , 0.        ],\n",
       "       [0.        , 0.        , 0.        , 0.        , 0.        ,\n",
       "        0.        , 0.        , 0.        , 0.        , 0.        ,\n",
       "        0.        , 0.52156866, 0.99607843, 0.99607843, 0.20392157,\n",
       "        0.        , 0.        , 0.        , 0.        , 0.        ,\n",
       "        0.        , 0.        , 0.        , 0.        , 0.        ,\n",
       "        0.        , 0.        , 0.        ],\n",
       "       [0.        , 0.        , 0.        , 0.        , 0.        ,\n",
       "        0.        , 0.        , 0.        , 0.        , 0.        ,\n",
       "        0.23921569, 0.9490196 , 0.99607843, 0.99607843, 0.20392157,\n",
       "        0.        , 0.        , 0.        , 0.        , 0.        ,\n",
       "        0.        , 0.        , 0.        , 0.        , 0.        ,\n",
       "        0.        , 0.        , 0.        ],\n",
       "       [0.        , 0.        , 0.        , 0.        , 0.        ,\n",
       "        0.        , 0.        , 0.        , 0.        , 0.        ,\n",
       "        0.4745098 , 0.99607843, 0.99607843, 0.85882354, 0.15686275,\n",
       "        0.        , 0.        , 0.        , 0.        , 0.        ,\n",
       "        0.        , 0.        , 0.        , 0.        , 0.        ,\n",
       "        0.        , 0.        , 0.        ],\n",
       "       [0.        , 0.        , 0.        , 0.        , 0.        ,\n",
       "        0.        , 0.        , 0.        , 0.        , 0.        ,\n",
       "        0.4745098 , 0.99607843, 0.8117647 , 0.07058824, 0.        ,\n",
       "        0.        , 0.        , 0.        , 0.        , 0.        ,\n",
       "        0.        , 0.        , 0.        , 0.        , 0.        ,\n",
       "        0.        , 0.        , 0.        ],\n",
       "       [0.        , 0.        , 0.        , 0.        , 0.        ,\n",
       "        0.        , 0.        , 0.        , 0.        , 0.        ,\n",
       "        0.        , 0.        , 0.        , 0.        , 0.        ,\n",
       "        0.        , 0.        , 0.        , 0.        , 0.        ,\n",
       "        0.        , 0.        , 0.        , 0.        , 0.        ,\n",
       "        0.        , 0.        , 0.        ]], dtype=float32)>"
      ]
     },
     "execution_count": 19,
     "metadata": {},
     "output_type": "execute_result"
    }
   ],
   "source": [
    "X_test[0]"
   ]
  },
  {
   "cell_type": "code",
   "execution_count": 20,
   "id": "defined-lightning",
   "metadata": {},
   "outputs": [
    {
     "data": {
      "text/plain": [
       "array([[1.0479276e-14, 5.5571044e-21, 7.3214412e-10, 2.1520073e-08,\n",
       "        7.5278223e-27, 1.0483343e-16, 6.9246521e-25, 1.0000000e+00,\n",
       "        1.6858394e-13, 3.8604748e-11]], dtype=float32)"
      ]
     },
     "execution_count": 20,
     "metadata": {},
     "output_type": "execute_result"
    }
   ],
   "source": [
    "model.predict(X_test[0:1])"
   ]
  },
  {
   "cell_type": "code",
   "execution_count": 21,
   "id": "danish-wayne",
   "metadata": {},
   "outputs": [
    {
     "data": {
      "text/plain": [
       "array([[2.4637575e-15, 1.0000000e+00, 2.3971800e-10, 7.3004401e-14,\n",
       "        3.4677157e-11, 3.2687970e-14, 5.3220466e-11, 3.7753831e-09,\n",
       "        2.5253602e-08, 1.8165828e-17]], dtype=float32)"
      ]
     },
     "execution_count": 21,
     "metadata": {},
     "output_type": "execute_result"
    }
   ],
   "source": [
    "model.predict(X_test[2:3])"
   ]
  },
  {
   "cell_type": "code",
   "execution_count": 22,
   "id": "adaptive-advantage",
   "metadata": {},
   "outputs": [
    {
     "data": {
      "text/plain": [
       "7"
      ]
     },
     "execution_count": 22,
     "metadata": {},
     "output_type": "execute_result"
    }
   ],
   "source": [
    "np.argmax(model.predict(X_test[0:1]))"
   ]
  },
  {
   "cell_type": "code",
   "execution_count": 23,
   "id": "sonic-punishment",
   "metadata": {},
   "outputs": [
    {
     "data": {
      "image/png": "[encoded data removed]",
      "text/plain": [
       "<Figure size 432x288 with 4 Axes>"
      ]
     },
     "metadata": {
      "needs_background": "light"
     },
     "output_type": "display_data"
    }
   ],
   "source": [
    "for i in range(4):\n",
    "    plt.subplot(1,4,i+1)\n",
    "    plt.axis('off')\n",
    "    plt.imshow(test_x[i], cmap='gray')\n",
    "    plt.title(test_y[i])"
   ]
  },
  {
   "cell_type": "code",
   "execution_count": 24,
   "id": "precious-label",
   "metadata": {},
   "outputs": [
    {
     "data": {
      "text/plain": [
       "array([[1.0479236e-14, 5.5571258e-21, 7.3214274e-10, 2.1520032e-08,\n",
       "        7.5277938e-27, 1.0483343e-16, 6.9246260e-25, 1.0000000e+00,\n",
       "        1.6858361e-13, 3.8604675e-11],\n",
       "       [1.0332745e-17, 3.5188893e-13, 1.0000000e+00, 4.5098300e-16,\n",
       "        2.0177477e-35, 3.1336292e-17, 2.1434378e-19, 8.8591705e-31,\n",
       "        3.5207501e-16, 1.1801089e-24],\n",
       "       [2.4637575e-15, 1.0000000e+00, 2.3971708e-10, 7.3004259e-14,\n",
       "        3.4677091e-11, 3.2688031e-14, 5.3220466e-11, 3.7753831e-09,\n",
       "        2.5253506e-08, 1.8165897e-17],\n",
       "       [1.0000000e+00, 8.4813493e-25, 2.6224174e-14, 9.6191202e-21,\n",
       "        4.1211262e-22, 2.0479683e-19, 5.2359641e-13, 2.6910401e-14,\n",
       "        4.2923424e-23, 1.0472402e-14]], dtype=float32)"
      ]
     },
     "execution_count": 24,
     "metadata": {},
     "output_type": "execute_result"
    }
   ],
   "source": [
    "model.predict(X_test[0:4])"
   ]
  },
  {
   "cell_type": "code",
   "execution_count": 25,
   "id": "sporting-synthetic",
   "metadata": {},
   "outputs": [],
   "source": [
    "y_pred = np.argmax(model.predict(X_test[0:4]),axis = 1)"
   ]
  },
  {
   "cell_type": "code",
   "execution_count": 26,
   "id": "terminal-warrant",
   "metadata": {},
   "outputs": [
    {
     "data": {
      "image/png": "[encoded data removed]",
      "text/plain": [
       "<Figure size 432x288 with 4 Axes>"
      ]
     },
     "metadata": {
      "needs_background": "light"
     },
     "output_type": "display_data"
    }
   ],
   "source": [
    "for i in range(4):\n",
    "    plt.subplot(1,4,i+1)\n",
    "    plt.axis('off')\n",
    "    plt.imshow(test_x[i], cmap='gray')\n",
    "    plt.title('y='+ str(test_y[i])+'\\ny_pred='+str(y_pred[i]))"
   ]
  },
  {
   "cell_type": "code",
   "execution_count": 27,
   "id": "intellectual-oxide",
   "metadata": {},
   "outputs": [
    {
     "data": {
      "text/plain": [
       "TensorShape([1, 28, 28])"
      ]
     },
     "execution_count": 27,
     "metadata": {},
     "output_type": "execute_result"
    }
   ],
   "source": [
    "X_test[2:3].shape"
   ]
  },
  {
   "cell_type": "code",
   "execution_count": 28,
   "id": "equipped-grain",
   "metadata": {},
   "outputs": [
    {
     "data": {
      "image/png": "[encoded data removed]",
      "text/plain": [
       "<Figure size 432x288 with 4 Axes>"
      ]
     },
     "metadata": {
      "needs_background": "light"
     },
     "output_type": "display_data"
    }
   ],
   "source": [
    "for i in range(4):\n",
    "    \n",
    "    # randomly choose some numbers\n",
    "    num = np.random.randint(1,10000)\n",
    "    \n",
    "    plt.subplot(1,4,i+1)\n",
    "    plt.axis('off')\n",
    "    plt.imshow(test_x[num], cmap='gray')\n",
    "    y_pred = np.argmax(model.predict(X_test[num:num+1]))\n",
    "    plt.title('y='+ str(test_y[num])+'\\ny_pred='+str(y_pred))"
   ]
  },
  {
   "cell_type": "code",
   "execution_count": 29,
   "id": "variable-witness",
   "metadata": {},
   "outputs": [],
   "source": [
    "# saving model"
   ]
  },
  {
   "cell_type": "code",
   "execution_count": 30,
   "id": "devoted-framework",
   "metadata": {},
   "outputs": [],
   "source": [
    "model.save_weights('mnist_weights.h5') # only save the model, does not need to fit."
   ]
  },
  {
   "cell_type": "code",
   "execution_count": null,
   "id": "armed-nursery",
   "metadata": {},
   "outputs": [],
   "source": [
    "model.load_weights('mnist_weights.h5') # reload model, but need to build a model(including the structures, activation function...) it needs to be the same as the model_weights"
   ]
  },
  {
   "cell_type": "code",
   "execution_count": 33,
   "id": "opened-chester",
   "metadata": {},
   "outputs": [],
   "source": [
    "# to save whole model, including model structure,model parameters, setting infomation(optimizer, loss function, metrics), and the way to train it, iters, validition steps, sub_batch: 1, all, or part of it.. etc\n",
    "model.save( 'mnist_model.h5',\n",
    "#filepath, by default is current path\n",
    "    overwrite=True, # if false, then not overwrite the former saved model\n",
    "    include_optimizer = True # saving the current status of the optimizer. Because it takes long time to optimize w,b..\n",
    "    #save_format = None\n",
    ")"
   ]
  },
  {
   "cell_type": "code",
   "execution_count": 3,
   "id": "italian-brazilian",
   "metadata": {},
   "outputs": [],
   "source": [
    "# restart kernel and load saved model. \n",
    "\n",
    "model_reload = tf.keras.models.load_model('mnist_model.h5')"
   ]
  },
  {
   "cell_type": "code",
   "execution_count": 4,
   "id": "alike-sampling",
   "metadata": {},
   "outputs": [
    {
     "name": "stdout",
     "output_type": "stream",
     "text": [
      "Model: \"sequential\"\n",
      "_________________________________________________________________\n",
      "Layer (type)                 Output Shape              Param #   \n",
      "=================================================================\n",
      "flatten (Flatten)            (None, 784)               0         \n",
      "_________________________________________________________________\n",
      "dense (Dense)                (None, 128)               100480    \n",
      "_________________________________________________________________\n",
      "dense_1 (Dense)              (None, 10)                1290      \n",
      "=================================================================\n",
      "Total params: 101,770\n",
      "Trainable params: 101,770\n",
      "Non-trainable params: 0\n",
      "_________________________________________________________________\n"
     ]
    }
   ],
   "source": [
    "model_reload.summary()"
   ]
  },
  {
   "cell_type": "code",
   "execution_count": 13,
   "id": "cheap-house",
   "metadata": {},
   "outputs": [
    {
     "data": {
      "image/png": "[encoded data removed]",
      "text/plain": [
       "<Figure size 432x288 with 4 Axes>"
      ]
     },
     "metadata": {
      "needs_background": "light"
     },
     "output_type": "display_data"
    }
   ],
   "source": [
    "# test on the model\n",
    "for i in range(4):\n",
    "    \n",
    "    # randomly choose some numbers\n",
    "    num = np.random.randint(1,10000)\n",
    "    \n",
    "    plt.subplot(1,4,i+1)\n",
    "    plt.axis('off')\n",
    "    plt.imshow(test_x[num], cmap='gray')\n",
    "    y_pred = np.argmax(model_reload.predict(X_test[num:num+1]))\n",
    "    plt.title('y='+ str(test_y[num])+'\\ny_pred='+str(y_pred))"
   ]
  },
  {
   "cell_type": "code",
   "execution_count": null,
   "id": "talented-mining",
   "metadata": {},
   "outputs": [],
   "source": []
  }
 ],
 "metadata": {
  "kernelspec": {
   "display_name": "deep_learning",
   "language": "python",
   "name": "deep_learning"
  },
  "language_info": {
   "codemirror_mode": {
    "name": "ipython",
    "version": 3
   },
   "file_extension": ".py",
   "mimetype": "text/x-python",
   "name": "python",
   "nbconvert_exporter": "python",
   "pygments_lexer": "ipython3",
   "version": "3.8.8"
  }
 },
 "nbformat": 4,
 "nbformat_minor": 5
}
