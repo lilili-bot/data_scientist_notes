{
 "cells": [
  {
   "cell_type": "code",
   "execution_count": null,
   "id": "owned-conditioning",
   "metadata": {},
   "outputs": [],
   "source": [
    "# Sequential "
   ]
  },
  {
   "cell_type": "code",
   "execution_count": 1,
   "id": "third-wagon",
   "metadata": {},
   "outputs": [],
   "source": [
    "import tensorflow as tf"
   ]
  },
  {
   "cell_type": "code",
   "execution_count": 2,
   "id": "painful-trade",
   "metadata": {},
   "outputs": [
    {
     "data": {
      "text/plain": [
       "('2.4.1', '2.4.0')"
      ]
     },
     "execution_count": 2,
     "metadata": {},
     "output_type": "execute_result"
    }
   ],
   "source": [
    "tf.__version__, tf.keras.__version__"
   ]
  },
  {
   "cell_type": "code",
   "execution_count": 3,
   "id": "radio-kazakhstan",
   "metadata": {},
   "outputs": [],
   "source": [
    "import matplotlib.pyplot as plt\n",
    "import numpy as np"
   ]
  },
  {
   "cell_type": "code",
   "execution_count": 4,
   "id": "honey-submission",
   "metadata": {},
   "outputs": [],
   "source": [
    "# load dataset\n",
    "mnist = tf.keras.datasets.mnist"
   ]
  },
  {
   "cell_type": "code",
   "execution_count": 5,
   "id": "military-owner",
   "metadata": {},
   "outputs": [],
   "source": [
    "(train_x, train_y),(test_x, test_y) = mnist.load_data()"
   ]
  },
  {
   "cell_type": "code",
   "execution_count": 6,
   "id": "gentle-graduate",
   "metadata": {},
   "outputs": [
    {
     "data": {
      "text/plain": [
       "(60000, 28, 28)"
      ]
     },
     "execution_count": 6,
     "metadata": {},
     "output_type": "execute_result"
    }
   ],
   "source": [
    "train_x.shape"
   ]
  },
  {
   "cell_type": "code",
   "execution_count": 7,
   "id": "clear-integrity",
   "metadata": {},
   "outputs": [
    {
     "data": {
      "text/plain": [
       "(10000, 28, 28)"
      ]
     },
     "execution_count": 7,
     "metadata": {},
     "output_type": "execute_result"
    }
   ],
   "source": [
    "test_x.shape"
   ]
  },
  {
   "cell_type": "code",
   "execution_count": 8,
   "id": "single-closing",
   "metadata": {},
   "outputs": [],
   "source": [
    "# data handling \n",
    "\n",
    "X_train, X_test = tf.cast(train_x/255.0, tf.float32), tf.cast(test_x/255.0, tf.float32)\n",
    "y_train, y_test = tf.cast(train_y, tf.int16), tf.cast(test_y, tf.int16)"
   ]
  },
  {
   "cell_type": "code",
   "execution_count": 9,
   "id": "australian-element",
   "metadata": {},
   "outputs": [],
   "source": [
    "#X_test = test_x.reshape((10000, 28*28))"
   ]
  },
  {
   "cell_type": "code",
   "execution_count": 10,
   "id": "purple-mother",
   "metadata": {},
   "outputs": [],
   "source": [
    "#step 1 build model\n",
    "\n",
    "model = tf.keras.Sequential()\n",
    "model.add(tf.keras.layers.Flatten(input_shape=(28,28)))\n",
    "model.add(tf.keras.layers.Dense(128,activation='relu'))\n",
    "model.add(tf.keras.layers.Dense(10, activation='softmax'))"
   ]
  },
  {
   "cell_type": "code",
   "execution_count": 11,
   "id": "judicial-killer",
   "metadata": {},
   "outputs": [
    {
     "name": "stdout",
     "output_type": "stream",
     "text": [
      "Model: \"sequential\"\n",
      "_________________________________________________________________\n",
      "Layer (type)                 Output Shape              Param #   \n",
      "=================================================================\n",
      "flatten (Flatten)            (None, 784)               0         \n",
      "_________________________________________________________________\n",
      "dense (Dense)                (None, 128)               100480    \n",
      "_________________________________________________________________\n",
      "dense_1 (Dense)              (None, 10)                1290      \n",
      "=================================================================\n",
      "Total params: 101,770\n",
      "Trainable params: 101,770\n",
      "Non-trainable params: 0\n",
      "_________________________________________________________________\n"
     ]
    }
   ],
   "source": [
    "#step 2, check summary\n",
    "model.summary()"
   ]
  },
  {
   "cell_type": "code",
   "execution_count": 12,
   "id": "practical-premiere",
   "metadata": {},
   "outputs": [],
   "source": [
    "# step 3, set compile\n",
    "\n",
    "model.compile(optimizer='adam',\n",
    "             loss='sparse_categorical_crossentropy',\n",
    "             metrics = ['sparse_categorical_accuracy'])"
   ]
  },
  {
   "cell_type": "code",
   "execution_count": 13,
   "id": "painful-separate",
   "metadata": {
    "scrolled": true,
    "tags": []
   },
   "outputs": [
    {
     "name": "stdout",
     "output_type": "stream",
     "text": [
      "Epoch 1/50\n",
      "750/750 [==============================] - 2s 2ms/step - loss: 0.5582 - sparse_categorical_accuracy: 0.8438 - val_loss: 0.1920 - val_sparse_categorical_accuracy: 0.9455\n",
      "Epoch 2/50\n",
      "750/750 [==============================] - 1s 1ms/step - loss: 0.1668 - sparse_categorical_accuracy: 0.9515 - val_loss: 0.1311 - val_sparse_categorical_accuracy: 0.9620\n",
      "Epoch 3/50\n",
      "750/750 [==============================] - 1s 1ms/step - loss: 0.1122 - sparse_categorical_accuracy: 0.9669 - val_loss: 0.1204 - val_sparse_categorical_accuracy: 0.9643\n",
      "Epoch 4/50\n",
      "750/750 [==============================] - 1s 1ms/step - loss: 0.0824 - sparse_categorical_accuracy: 0.9760 - val_loss: 0.1032 - val_sparse_categorical_accuracy: 0.9697\n",
      "Epoch 5/50\n",
      "750/750 [==============================] - 1s 1ms/step - loss: 0.0657 - sparse_categorical_accuracy: 0.9806 - val_loss: 0.0952 - val_sparse_categorical_accuracy: 0.9717\n",
      "Epoch 6/50\n",
      "750/750 [==============================] - 1s 1ms/step - loss: 0.0536 - sparse_categorical_accuracy: 0.9842 - val_loss: 0.0940 - val_sparse_categorical_accuracy: 0.9733\n",
      "Epoch 7/50\n",
      "750/750 [==============================] - 1s 2ms/step - loss: 0.0403 - sparse_categorical_accuracy: 0.9878 - val_loss: 0.0906 - val_sparse_categorical_accuracy: 0.9728\n",
      "Epoch 8/50\n",
      "750/750 [==============================] - 1s 2ms/step - loss: 0.0316 - sparse_categorical_accuracy: 0.9916 - val_loss: 0.0871 - val_sparse_categorical_accuracy: 0.9753\n",
      "Epoch 9/50\n",
      "750/750 [==============================] - 1s 2ms/step - loss: 0.0258 - sparse_categorical_accuracy: 0.9936 - val_loss: 0.0857 - val_sparse_categorical_accuracy: 0.9751\n",
      "Epoch 10/50\n",
      "750/750 [==============================] - 2s 2ms/step - loss: 0.0212 - sparse_categorical_accuracy: 0.9949 - val_loss: 0.0923 - val_sparse_categorical_accuracy: 0.9728\n",
      "Epoch 11/50\n",
      "750/750 [==============================] - 1s 2ms/step - loss: 0.0185 - sparse_categorical_accuracy: 0.9952 - val_loss: 0.0869 - val_sparse_categorical_accuracy: 0.9757\n",
      "Epoch 12/50\n",
      "750/750 [==============================] - 1s 2ms/step - loss: 0.0146 - sparse_categorical_accuracy: 0.9969 - val_loss: 0.0892 - val_sparse_categorical_accuracy: 0.9761\n",
      "Epoch 13/50\n",
      "750/750 [==============================] - 1s 2ms/step - loss: 0.0114 - sparse_categorical_accuracy: 0.9976 - val_loss: 0.0891 - val_sparse_categorical_accuracy: 0.9759\n",
      "Epoch 14/50\n",
      "750/750 [==============================] - 1s 2ms/step - loss: 0.0089 - sparse_categorical_accuracy: 0.9983 - val_loss: 0.0970 - val_sparse_categorical_accuracy: 0.9745\n",
      "Epoch 15/50\n",
      "750/750 [==============================] - 2s 2ms/step - loss: 0.0107 - sparse_categorical_accuracy: 0.9971 - val_loss: 0.1071 - val_sparse_categorical_accuracy: 0.9741\n",
      "Epoch 16/50\n",
      "750/750 [==============================] - 2s 2ms/step - loss: 0.0087 - sparse_categorical_accuracy: 0.9979 - val_loss: 0.0940 - val_sparse_categorical_accuracy: 0.9762\n",
      "Epoch 17/50\n",
      "750/750 [==============================] - 2s 2ms/step - loss: 0.0060 - sparse_categorical_accuracy: 0.9990 - val_loss: 0.1040 - val_sparse_categorical_accuracy: 0.9747\n",
      "Epoch 18/50\n",
      "750/750 [==============================] - 2s 2ms/step - loss: 0.0051 - sparse_categorical_accuracy: 0.9989 - val_loss: 0.0966 - val_sparse_categorical_accuracy: 0.9790\n",
      "Epoch 19/50\n",
      "750/750 [==============================] - 2s 2ms/step - loss: 0.0042 - sparse_categorical_accuracy: 0.9994 - val_loss: 0.1051 - val_sparse_categorical_accuracy: 0.9763\n",
      "Epoch 20/50\n",
      "750/750 [==============================] - 2s 2ms/step - loss: 0.0055 - sparse_categorical_accuracy: 0.9990 - val_loss: 0.1011 - val_sparse_categorical_accuracy: 0.9784\n",
      "Epoch 21/50\n",
      "750/750 [==============================] - 2s 2ms/step - loss: 0.0038 - sparse_categorical_accuracy: 0.9993 - val_loss: 0.1061 - val_sparse_categorical_accuracy: 0.9761\n",
      "Epoch 22/50\n",
      "750/750 [==============================] - 2s 2ms/step - loss: 0.0049 - sparse_categorical_accuracy: 0.9988 - val_loss: 0.1117 - val_sparse_categorical_accuracy: 0.9762\n",
      "Epoch 23/50\n",
      "750/750 [==============================] - 2s 3ms/step - loss: 0.0023 - sparse_categorical_accuracy: 0.9998 - val_loss: 0.1044 - val_sparse_categorical_accuracy: 0.9782\n",
      "Epoch 24/50\n",
      "750/750 [==============================] - 2s 2ms/step - loss: 0.0013 - sparse_categorical_accuracy: 0.9998 - val_loss: 0.1152 - val_sparse_categorical_accuracy: 0.9755\n",
      "Epoch 25/50\n",
      "750/750 [==============================] - 2s 2ms/step - loss: 0.0048 - sparse_categorical_accuracy: 0.9987 - val_loss: 0.1151 - val_sparse_categorical_accuracy: 0.9771\n",
      "Epoch 26/50\n",
      "750/750 [==============================] - 2s 2ms/step - loss: 0.0046 - sparse_categorical_accuracy: 0.9986 - val_loss: 0.1064 - val_sparse_categorical_accuracy: 0.9782\n",
      "Epoch 27/50\n",
      "750/750 [==============================] - 2s 2ms/step - loss: 9.5393e-04 - sparse_categorical_accuracy: 1.0000 - val_loss: 0.1053 - val_sparse_categorical_accuracy: 0.9793\n",
      "Epoch 28/50\n",
      "750/750 [==============================] - 2s 2ms/step - loss: 0.0024 - sparse_categorical_accuracy: 0.9994 - val_loss: 0.1308 - val_sparse_categorical_accuracy: 0.9742\n",
      "Epoch 29/50\n",
      "750/750 [==============================] - 2s 3ms/step - loss: 0.0033 - sparse_categorical_accuracy: 0.9992 - val_loss: 0.1087 - val_sparse_categorical_accuracy: 0.9787\n",
      "Epoch 30/50\n",
      "750/750 [==============================] - 2s 2ms/step - loss: 0.0018 - sparse_categorical_accuracy: 0.9996 - val_loss: 0.1454 - val_sparse_categorical_accuracy: 0.9733\n",
      "Epoch 31/50\n",
      "750/750 [==============================] - 2s 2ms/step - loss: 0.0081 - sparse_categorical_accuracy: 0.9970 - val_loss: 0.1177 - val_sparse_categorical_accuracy: 0.9779\n",
      "Epoch 32/50\n",
      "750/750 [==============================] - 2s 2ms/step - loss: 6.1651e-04 - sparse_categorical_accuracy: 1.0000 - val_loss: 0.1143 - val_sparse_categorical_accuracy: 0.9792\n",
      "Epoch 33/50\n",
      "750/750 [==============================] - 2s 3ms/step - loss: 2.7964e-04 - sparse_categorical_accuracy: 1.0000 - val_loss: 0.1156 - val_sparse_categorical_accuracy: 0.9788\n",
      "Epoch 34/50\n",
      "750/750 [==============================] - 2s 2ms/step - loss: 2.1384e-04 - sparse_categorical_accuracy: 1.0000 - val_loss: 0.1160 - val_sparse_categorical_accuracy: 0.9793\n",
      "Epoch 35/50\n",
      "750/750 [==============================] - 2s 2ms/step - loss: 1.7700e-04 - sparse_categorical_accuracy: 1.0000 - val_loss: 0.1161 - val_sparse_categorical_accuracy: 0.9795\n",
      "Epoch 36/50\n",
      "750/750 [==============================] - 2s 3ms/step - loss: 1.6585e-04 - sparse_categorical_accuracy: 1.0000 - val_loss: 0.1180 - val_sparse_categorical_accuracy: 0.9790\n",
      "Epoch 37/50\n",
      "750/750 [==============================] - 2s 3ms/step - loss: 0.0043 - sparse_categorical_accuracy: 0.9987 - val_loss: 0.1395 - val_sparse_categorical_accuracy: 0.9756\n",
      "Epoch 38/50\n",
      "750/750 [==============================] - 2s 3ms/step - loss: 0.0039 - sparse_categorical_accuracy: 0.9987 - val_loss: 0.1325 - val_sparse_categorical_accuracy: 0.9760ss: 0.0042 - sparse_categorical_\n",
      "Epoch 39/50\n",
      "750/750 [==============================] - 2s 3ms/step - loss: 8.8186e-04 - sparse_categorical_accuracy: 0.9998 - val_loss: 0.1298 - val_sparse_categorical_accuracy: 0.9772\n",
      "Epoch 40/50\n",
      "750/750 [==============================] - 2s 3ms/step - loss: 2.4030e-04 - sparse_categorical_accuracy: 1.0000 - val_loss: 0.1281 - val_sparse_categorical_accuracy: 0.9787\n",
      "Epoch 41/50\n",
      "750/750 [==============================] - 2s 3ms/step - loss: 1.4687e-04 - sparse_categorical_accuracy: 1.0000 - val_loss: 0.1273 - val_sparse_categorical_accuracy: 0.9793\n",
      "Epoch 42/50\n",
      "750/750 [==============================] - 2s 3ms/step - loss: 1.2463e-04 - sparse_categorical_accuracy: 1.0000 - val_loss: 0.1286 - val_sparse_categorical_accuracy: 0.9795\n",
      "Epoch 43/50\n",
      "750/750 [==============================] - 2s 3ms/step - loss: 0.0051 - sparse_categorical_accuracy: 0.9986 - val_loss: 0.1442 - val_sparse_categorical_accuracy: 0.9768\n",
      "Epoch 44/50\n",
      "750/750 [==============================] - 2s 3ms/step - loss: 0.0040 - sparse_categorical_accuracy: 0.9987 - val_loss: 0.1543 - val_sparse_categorical_accuracy: 0.9751\n",
      "Epoch 45/50\n",
      "750/750 [==============================] - 2s 3ms/step - loss: 0.0020 - sparse_categorical_accuracy: 0.9993 - val_loss: 0.1494 - val_sparse_categorical_accuracy: 0.9765\n",
      "Epoch 46/50\n",
      "750/750 [==============================] - 2s 3ms/step - loss: 0.0012 - sparse_categorical_accuracy: 0.9998 - val_loss: 0.1426 - val_sparse_categorical_accuracy: 0.9768\n",
      "Epoch 47/50\n",
      "750/750 [==============================] - 2s 3ms/step - loss: 7.7781e-04 - sparse_categorical_accuracy: 0.9998 - val_loss: 0.1378 - val_sparse_categorical_accuracy: 0.9769\n",
      "Epoch 48/50\n",
      "750/750 [==============================] - 2s 3ms/step - loss: 0.0062 - sparse_categorical_accuracy: 0.9980 - val_loss: 0.1407 - val_sparse_categorical_accuracy: 0.9773\n",
      "Epoch 49/50\n",
      "750/750 [==============================] - 2s 3ms/step - loss: 0.0021 - sparse_categorical_accuracy: 0.9992 - val_loss: 0.1457 - val_sparse_categorical_accuracy: 0.9767\n",
      "Epoch 50/50\n",
      "750/750 [==============================] - 2s 3ms/step - loss: 5.2772e-04 - sparse_categorical_accuracy: 1.0000 - val_loss: 0.1373 - val_sparse_categorical_accuracy: 0.9780\n"
     ]
    },
    {
     "data": {
      "text/plain": [
       "<tensorflow.python.keras.callbacks.History at 0x7fe29f9dbdc0>"
      ]
     },
     "execution_count": 13,
     "metadata": {},
     "output_type": "execute_result"
    }
   ],
   "source": [
    "# step 4 fit model\n",
    "\n",
    "model.fit(X_train, y_train, batch_size=64,epochs=50, validation_split=0.2)\n"
   ]
  },
  {
   "cell_type": "code",
   "execution_count": 49,
   "id": "labeled-explanation",
   "metadata": {},
   "outputs": [
    {
     "name": "stdout",
     "output_type": "stream",
     "text": [
      "313/313 - 0s - loss: 2.4453 - sparse_categorical_accuracy: 0.0435\n"
     ]
    },
    {
     "data": {
      "text/plain": [
       "[2.445277452468872, 0.04349999874830246]"
      ]
     },
     "execution_count": 49,
     "metadata": {},
     "output_type": "execute_result"
    }
   ],
   "source": [
    "model.evaluate(X_test, y_test, verbose = 2)"
   ]
  },
  {
   "cell_type": "code",
   "execution_count": 39,
   "id": "regional-latin",
   "metadata": {},
   "outputs": [
    {
     "data": {
      "image/png": "[encoded data removed]",
      "text/plain": [
       "<Figure size 432x288 with 1 Axes>"
      ]
     },
     "metadata": {
      "needs_background": "light"
     },
     "output_type": "display_data"
    }
   ],
   "source": [
    "# step5 use the model\n",
    "\n",
    "plt.axis('off')\n",
    "plt.imshow(test_x[0], cmap='gray')\n",
    "plt.show()"
   ]
  },
  {
   "cell_type": "code",
   "execution_count": 15,
   "id": "pursuant-modern",
   "metadata": {},
   "outputs": [
    {
     "data": {
      "text/plain": [
       "<tf.Tensor: shape=(), dtype=int16, numpy=7>"
      ]
     },
     "execution_count": 15,
     "metadata": {},
     "output_type": "execute_result"
    }
   ],
   "source": [
    "y_test[0]"
   ]
  },
  {
   "cell_type": "code",
   "execution_count": 19,
   "id": "universal-choir",
   "metadata": {
    "scrolled": true,
    "tags": []
   },
   "outputs": [
    {
     "data": {
      "text/plain": [
       "<tf.Tensor: shape=(28, 28), dtype=float32, numpy=\n",
       "array([[0.        , 0.        , 0.        , 0.        , 0.        ,\n",
       "        0.        , 0.        , 0.        , 0.        , 0.        ,\n",
       "        0.        , 0.        , 0.        , 0.        , 0.        ,\n",
       "        0.        , 0.        , 0.        , 0.        , 0.        ,\n",
       "        0.        , 0.        , 0.        , 0.        , 0.        ,\n",
       "        0.        , 0.        , 0.        ],\n",
       "       [0.        , 0.        , 0.        , 0.        , 0.        ,\n",
       "        0.        , 0.        , 0.        , 0.        , 0.        ,\n",
       "        0.        , 0.        , 0.        , 0.        , 0.        ,\n",
       "        0.        , 0.        , 0.        , 0.        , 0.        ,\n",
       "        0.        , 0.        , 0.        , 0.        , 0.        ,\n",
       "        0.        , 0.        , 0.        ],\n",
       "       [0.        , 0.        , 0.        , 0.        , 0.        ,\n",
       "        0.        , 0.        , 0.        , 0.        , 0.        ,\n",
       "        0.        , 0.        , 0.        , 0.        , 0.        ,\n",
       "        0.        , 0.        , 0.        , 0.        , 0.        ,\n",
       "        0.        , 0.        , 0.        , 0.        , 0.        ,\n",
       "        0.        , 0.        , 0.        ],\n",
       "       [0.        , 0.        , 0.        , 0.        , 0.        ,\n",
       "        0.        , 0.        , 0.        , 0.        , 0.        ,\n",
       "        0.        , 0.        , 0.        , 0.        , 0.        ,\n",
       "        0.        , 0.        , 0.        , 0.        , 0.        ,\n",
       "        0.        , 0.        , 0.        , 0.        , 0.        ,\n",
       "        0.        , 0.        , 0.        ],\n",
       "       [0.        , 0.        , 0.        , 0.        , 0.        ,\n",
       "        0.        , 0.        , 0.        , 0.        , 0.        ,\n",
       "        0.        , 0.        , 0.        , 0.        , 0.        ,\n",
       "        0.        , 0.        , 0.        , 0.        , 0.        ,\n",
       "        0.        , 0.        , 0.        , 0.        , 0.        ,\n",
       "        0.        , 0.        , 0.        ],\n",
       "       [0.        , 0.        , 0.        , 0.        , 0.        ,\n",
       "        0.        , 0.        , 0.        , 0.        , 0.        ,\n",
       "        0.        , 0.        , 0.01176471, 0.07058824, 0.07058824,\n",
       "        0.07058824, 0.49411765, 0.53333336, 0.6862745 , 0.10196079,\n",
       "        0.6509804 , 1.        , 0.96862745, 0.49803922, 0.        ,\n",
       "        0.        , 0.        , 0.        ],\n",
       "       [0.        , 0.        , 0.        , 0.        , 0.        ,\n",
       "        0.        , 0.        , 0.        , 0.11764706, 0.14117648,\n",
       "        0.36862746, 0.6039216 , 0.6666667 , 0.99215686, 0.99215686,\n",
       "        0.99215686, 0.99215686, 0.99215686, 0.88235295, 0.6745098 ,\n",
       "        0.99215686, 0.9490196 , 0.7647059 , 0.2509804 , 0.        ,\n",
       "        0.        , 0.        , 0.        ],\n",
       "       [0.        , 0.        , 0.        , 0.        , 0.        ,\n",
       "        0.        , 0.        , 0.19215687, 0.93333334, 0.99215686,\n",
       "        0.99215686, 0.99215686, 0.99215686, 0.99215686, 0.99215686,\n",
       "        0.99215686, 0.99215686, 0.9843137 , 0.3647059 , 0.32156864,\n",
       "        0.32156864, 0.21960784, 0.15294118, 0.        , 0.        ,\n",
       "        0.        , 0.        , 0.        ],\n",
       "       [0.        , 0.        , 0.        , 0.        , 0.        ,\n",
       "        0.        , 0.        , 0.07058824, 0.85882354, 0.99215686,\n",
       "        0.99215686, 0.99215686, 0.99215686, 0.99215686, 0.7764706 ,\n",
       "        0.7137255 , 0.96862745, 0.94509804, 0.        , 0.        ,\n",
       "        0.        , 0.        , 0.        , 0.        , 0.        ,\n",
       "        0.        , 0.        , 0.        ],\n",
       "       [0.        , 0.        , 0.        , 0.        , 0.        ,\n",
       "        0.        , 0.        , 0.        , 0.3137255 , 0.6117647 ,\n",
       "        0.41960785, 0.99215686, 0.99215686, 0.8039216 , 0.04313726,\n",
       "        0.        , 0.16862746, 0.6039216 , 0.        , 0.        ,\n",
       "        0.        , 0.        , 0.        , 0.        , 0.        ,\n",
       "        0.        , 0.        , 0.        ],\n",
       "       [0.        , 0.        , 0.        , 0.        , 0.        ,\n",
       "        0.        , 0.        , 0.        , 0.        , 0.05490196,\n",
       "        0.00392157, 0.6039216 , 0.99215686, 0.3529412 , 0.        ,\n",
       "        0.        , 0.        , 0.        , 0.        , 0.        ,\n",
       "        0.        , 0.        , 0.        , 0.        , 0.        ,\n",
       "        0.        , 0.        , 0.        ],\n",
       "       [0.        , 0.        , 0.        , 0.        , 0.        ,\n",
       "        0.        , 0.        , 0.        , 0.        , 0.        ,\n",
       "        0.        , 0.54509807, 0.99215686, 0.74509805, 0.00784314,\n",
       "        0.        , 0.        , 0.        , 0.        , 0.        ,\n",
       "        0.        , 0.        , 0.        , 0.        , 0.        ,\n",
       "        0.        , 0.        , 0.        ],\n",
       "       [0.        , 0.        , 0.        , 0.        , 0.        ,\n",
       "        0.        , 0.        , 0.        , 0.        , 0.        ,\n",
       "        0.        , 0.04313726, 0.74509805, 0.99215686, 0.27450982,\n",
       "        0.        , 0.        , 0.        , 0.        , 0.        ,\n",
       "        0.        , 0.        , 0.        , 0.        , 0.        ,\n",
       "        0.        , 0.        , 0.        ],\n",
       "       [0.        , 0.        , 0.        , 0.        , 0.        ,\n",
       "        0.        , 0.        , 0.        , 0.        , 0.        ,\n",
       "        0.        , 0.        , 0.13725491, 0.94509804, 0.88235295,\n",
       "        0.627451  , 0.42352942, 0.00392157, 0.        , 0.        ,\n",
       "        0.        , 0.        , 0.        , 0.        , 0.        ,\n",
       "        0.        , 0.        , 0.        ],\n",
       "       [0.        , 0.        , 0.        , 0.        , 0.        ,\n",
       "        0.        , 0.        , 0.        , 0.        , 0.        ,\n",
       "        0.        , 0.        , 0.        , 0.31764707, 0.9411765 ,\n",
       "        0.99215686, 0.99215686, 0.46666667, 0.09803922, 0.        ,\n",
       "        0.        , 0.        , 0.        , 0.        , 0.        ,\n",
       "        0.        , 0.        , 0.        ],\n",
       "       [0.        , 0.        , 0.        , 0.        , 0.        ,\n",
       "        0.        , 0.        , 0.        , 0.        , 0.        ,\n",
       "        0.        , 0.        , 0.        , 0.        , 0.1764706 ,\n",
       "        0.7294118 , 0.99215686, 0.99215686, 0.5882353 , 0.10588235,\n",
       "        0.        , 0.        , 0.        , 0.        , 0.        ,\n",
       "        0.        , 0.        , 0.        ],\n",
       "       [0.        , 0.        , 0.        , 0.        , 0.        ,\n",
       "        0.        , 0.        , 0.        , 0.        , 0.        ,\n",
       "        0.        , 0.        , 0.        , 0.        , 0.        ,\n",
       "        0.0627451 , 0.3647059 , 0.9882353 , 0.99215686, 0.73333335,\n",
       "        0.        , 0.        , 0.        , 0.        , 0.        ,\n",
       "        0.        , 0.        , 0.        ],\n",
       "       [0.        , 0.        , 0.        , 0.        , 0.        ,\n",
       "        0.        , 0.        , 0.        , 0.        , 0.        ,\n",
       "        0.        , 0.        , 0.        , 0.        , 0.        ,\n",
       "        0.        , 0.        , 0.9764706 , 0.99215686, 0.9764706 ,\n",
       "        0.2509804 , 0.        , 0.        , 0.        , 0.        ,\n",
       "        0.        , 0.        , 0.        ],\n",
       "       [0.        , 0.        , 0.        , 0.        , 0.        ,\n",
       "        0.        , 0.        , 0.        , 0.        , 0.        ,\n",
       "        0.        , 0.        , 0.        , 0.        , 0.18039216,\n",
       "        0.50980395, 0.7176471 , 0.99215686, 0.99215686, 0.8117647 ,\n",
       "        0.00784314, 0.        , 0.        , 0.        , 0.        ,\n",
       "        0.        , 0.        , 0.        ],\n",
       "       [0.        , 0.        , 0.        , 0.        , 0.        ,\n",
       "        0.        , 0.        , 0.        , 0.        , 0.        ,\n",
       "        0.        , 0.        , 0.15294118, 0.5803922 , 0.8980392 ,\n",
       "        0.99215686, 0.99215686, 0.99215686, 0.98039216, 0.7137255 ,\n",
       "        0.        , 0.        , 0.        , 0.        , 0.        ,\n",
       "        0.        , 0.        , 0.        ],\n",
       "       [0.        , 0.        , 0.        , 0.        , 0.        ,\n",
       "        0.        , 0.        , 0.        , 0.        , 0.        ,\n",
       "        0.09411765, 0.44705883, 0.8666667 , 0.99215686, 0.99215686,\n",
       "        0.99215686, 0.99215686, 0.7882353 , 0.30588236, 0.        ,\n",
       "        0.        , 0.        , 0.        , 0.        , 0.        ,\n",
       "        0.        , 0.        , 0.        ],\n",
       "       [0.        , 0.        , 0.        , 0.        , 0.        ,\n",
       "        0.        , 0.        , 0.        , 0.09019608, 0.25882354,\n",
       "        0.8352941 , 0.99215686, 0.99215686, 0.99215686, 0.99215686,\n",
       "        0.7764706 , 0.31764707, 0.00784314, 0.        , 0.        ,\n",
       "        0.        , 0.        , 0.        , 0.        , 0.        ,\n",
       "        0.        , 0.        , 0.        ],\n",
       "       [0.        , 0.        , 0.        , 0.        , 0.        ,\n",
       "        0.        , 0.07058824, 0.67058825, 0.85882354, 0.99215686,\n",
       "        0.99215686, 0.99215686, 0.99215686, 0.7647059 , 0.3137255 ,\n",
       "        0.03529412, 0.        , 0.        , 0.        , 0.        ,\n",
       "        0.        , 0.        , 0.        , 0.        , 0.        ,\n",
       "        0.        , 0.        , 0.        ],\n",
       "       [0.        , 0.        , 0.        , 0.        , 0.21568628,\n",
       "        0.6745098 , 0.8862745 , 0.99215686, 0.99215686, 0.99215686,\n",
       "        0.99215686, 0.95686275, 0.52156866, 0.04313726, 0.        ,\n",
       "        0.        , 0.        , 0.        , 0.        , 0.        ,\n",
       "        0.        , 0.        , 0.        , 0.        , 0.        ,\n",
       "        0.        , 0.        , 0.        ],\n",
       "       [0.        , 0.        , 0.        , 0.        , 0.53333336,\n",
       "        0.99215686, 0.99215686, 0.99215686, 0.83137256, 0.5294118 ,\n",
       "        0.5176471 , 0.0627451 , 0.        , 0.        , 0.        ,\n",
       "        0.        , 0.        , 0.        , 0.        , 0.        ,\n",
       "        0.        , 0.        , 0.        , 0.        , 0.        ,\n",
       "        0.        , 0.        , 0.        ],\n",
       "       [0.        , 0.        , 0.        , 0.        , 0.        ,\n",
       "        0.        , 0.        , 0.        , 0.        , 0.        ,\n",
       "        0.        , 0.        , 0.        , 0.        , 0.        ,\n",
       "        0.        , 0.        , 0.        , 0.        , 0.        ,\n",
       "        0.        , 0.        , 0.        , 0.        , 0.        ,\n",
       "        0.        , 0.        , 0.        ],\n",
       "       [0.        , 0.        , 0.        , 0.        , 0.        ,\n",
       "        0.        , 0.        , 0.        , 0.        , 0.        ,\n",
       "        0.        , 0.        , 0.        , 0.        , 0.        ,\n",
       "        0.        , 0.        , 0.        , 0.        , 0.        ,\n",
       "        0.        , 0.        , 0.        , 0.        , 0.        ,\n",
       "        0.        , 0.        , 0.        ],\n",
       "       [0.        , 0.        , 0.        , 0.        , 0.        ,\n",
       "        0.        , 0.        , 0.        , 0.        , 0.        ,\n",
       "        0.        , 0.        , 0.        , 0.        , 0.        ,\n",
       "        0.        , 0.        , 0.        , 0.        , 0.        ,\n",
       "        0.        , 0.        , 0.        , 0.        , 0.        ,\n",
       "        0.        , 0.        , 0.        ]], dtype=float32)>"
      ]
     },
     "execution_count": 19,
     "metadata": {},
     "output_type": "execute_result"
    }
   ],
   "source": [
    "X_train[0]"
   ]
  },
  {
   "cell_type": "code",
   "execution_count": 18,
   "id": "subtle-citizen",
   "metadata": {
    "scrolled": true,
    "tags": []
   },
   "outputs": [
    {
     "data": {
      "text/plain": [
       "<tf.Tensor: shape=(28, 28), dtype=float32, numpy=\n",
       "array([[0.        , 0.        , 0.        , 0.        , 0.        ,\n",
       "        0.        , 0.        , 0.        , 0.        , 0.        ,\n",
       "        0.        , 0.        , 0.        , 0.        , 0.        ,\n",
       "        0.        , 0.        , 0.        , 0.        , 0.        ,\n",
       "        0.        , 0.        , 0.        , 0.        , 0.        ,\n",
       "        0.        , 0.        , 0.        ],\n",
       "       [0.        , 0.        , 0.        , 0.        , 0.        ,\n",
       "        0.        , 0.        , 0.        , 0.        , 0.        ,\n",
       "        0.        , 0.        , 0.        , 0.        , 0.        ,\n",
       "        0.        , 0.        , 0.        , 0.        , 0.        ,\n",
       "        0.        , 0.        , 0.        , 0.        , 0.        ,\n",
       "        0.        , 0.        , 0.        ],\n",
       "       [0.        , 0.        , 0.        , 0.        , 0.        ,\n",
       "        0.        , 0.        , 0.        , 0.        , 0.        ,\n",
       "        0.        , 0.        , 0.        , 0.        , 0.        ,\n",
       "        0.        , 0.        , 0.        , 0.        , 0.        ,\n",
       "        0.        , 0.        , 0.        , 0.        , 0.        ,\n",
       "        0.        , 0.        , 0.        ],\n",
       "       [0.        , 0.        , 0.        , 0.        , 0.        ,\n",
       "        0.        , 0.        , 0.        , 0.        , 0.        ,\n",
       "        0.        , 0.        , 0.        , 0.        , 0.        ,\n",
       "        0.        , 0.        , 0.        , 0.        , 0.        ,\n",
       "        0.        , 0.        , 0.        , 0.        , 0.        ,\n",
       "        0.        , 0.        , 0.        ],\n",
       "       [0.        , 0.        , 0.        , 0.        , 0.        ,\n",
       "        0.        , 0.        , 0.        , 0.        , 0.        ,\n",
       "        0.        , 0.        , 0.        , 0.        , 0.        ,\n",
       "        0.        , 0.        , 0.        , 0.        , 0.        ,\n",
       "        0.        , 0.        , 0.        , 0.        , 0.        ,\n",
       "        0.        , 0.        , 0.        ],\n",
       "       [0.        , 0.        , 0.        , 0.        , 0.        ,\n",
       "        0.        , 0.        , 0.        , 0.        , 0.        ,\n",
       "        0.        , 0.        , 0.        , 0.        , 0.        ,\n",
       "        0.        , 0.        , 0.        , 0.        , 0.        ,\n",
       "        0.        , 0.        , 0.        , 0.        , 0.        ,\n",
       "        0.        , 0.        , 0.        ],\n",
       "       [0.        , 0.        , 0.        , 0.        , 0.        ,\n",
       "        0.        , 0.        , 0.        , 0.        , 0.        ,\n",
       "        0.        , 0.        , 0.        , 0.        , 0.        ,\n",
       "        0.        , 0.        , 0.        , 0.        , 0.        ,\n",
       "        0.        , 0.        , 0.        , 0.        , 0.        ,\n",
       "        0.        , 0.        , 0.        ],\n",
       "       [0.        , 0.        , 0.        , 0.        , 0.        ,\n",
       "        0.        , 0.32941177, 0.7254902 , 0.62352943, 0.5921569 ,\n",
       "        0.23529412, 0.14117648, 0.        , 0.        , 0.        ,\n",
       "        0.        , 0.        , 0.        , 0.        , 0.        ,\n",
       "        0.        , 0.        , 0.        , 0.        , 0.        ,\n",
       "        0.        , 0.        , 0.        ],\n",
       "       [0.        , 0.        , 0.        , 0.        , 0.        ,\n",
       "        0.        , 0.87058824, 0.99607843, 0.99607843, 0.99607843,\n",
       "        0.99607843, 0.94509804, 0.7764706 , 0.7764706 , 0.7764706 ,\n",
       "        0.7764706 , 0.7764706 , 0.7764706 , 0.7764706 , 0.7764706 ,\n",
       "        0.6666667 , 0.20392157, 0.        , 0.        , 0.        ,\n",
       "        0.        , 0.        , 0.        ],\n",
       "       [0.        , 0.        , 0.        , 0.        , 0.        ,\n",
       "        0.        , 0.2627451 , 0.44705883, 0.28235295, 0.44705883,\n",
       "        0.6392157 , 0.8901961 , 0.99607843, 0.88235295, 0.99607843,\n",
       "        0.99607843, 0.99607843, 0.98039216, 0.8980392 , 0.99607843,\n",
       "        0.99607843, 0.54901963, 0.        , 0.        , 0.        ,\n",
       "        0.        , 0.        , 0.        ],\n",
       "       [0.        , 0.        , 0.        , 0.        , 0.        ,\n",
       "        0.        , 0.        , 0.        , 0.        , 0.        ,\n",
       "        0.        , 0.06666667, 0.25882354, 0.05490196, 0.2627451 ,\n",
       "        0.2627451 , 0.2627451 , 0.23137255, 0.08235294, 0.9254902 ,\n",
       "        0.99607843, 0.41568628, 0.        , 0.        , 0.        ,\n",
       "        0.        , 0.        , 0.        ],\n",
       "       [0.        , 0.        , 0.        , 0.        , 0.        ,\n",
       "        0.        , 0.        , 0.        , 0.        , 0.        ,\n",
       "        0.        , 0.        , 0.        , 0.        , 0.        ,\n",
       "        0.        , 0.        , 0.        , 0.3254902 , 0.99215686,\n",
       "        0.81960785, 0.07058824, 0.        , 0.        , 0.        ,\n",
       "        0.        , 0.        , 0.        ],\n",
       "       [0.        , 0.        , 0.        , 0.        , 0.        ,\n",
       "        0.        , 0.        , 0.        , 0.        , 0.        ,\n",
       "        0.        , 0.        , 0.        , 0.        , 0.        ,\n",
       "        0.        , 0.        , 0.08627451, 0.9137255 , 1.        ,\n",
       "        0.3254902 , 0.        , 0.        , 0.        , 0.        ,\n",
       "        0.        , 0.        , 0.        ],\n",
       "       [0.        , 0.        , 0.        , 0.        , 0.        ,\n",
       "        0.        , 0.        , 0.        , 0.        , 0.        ,\n",
       "        0.        , 0.        , 0.        , 0.        , 0.        ,\n",
       "        0.        , 0.        , 0.5058824 , 0.99607843, 0.93333334,\n",
       "        0.17254902, 0.        , 0.        , 0.        , 0.        ,\n",
       "        0.        , 0.        , 0.        ],\n",
       "       [0.        , 0.        , 0.        , 0.        , 0.        ,\n",
       "        0.        , 0.        , 0.        , 0.        , 0.        ,\n",
       "        0.        , 0.        , 0.        , 0.        , 0.        ,\n",
       "        0.        , 0.23137255, 0.9764706 , 0.99607843, 0.24313726,\n",
       "        0.        , 0.        , 0.        , 0.        , 0.        ,\n",
       "        0.        , 0.        , 0.        ],\n",
       "       [0.        , 0.        , 0.        , 0.        , 0.        ,\n",
       "        0.        , 0.        , 0.        , 0.        , 0.        ,\n",
       "        0.        , 0.        , 0.        , 0.        , 0.        ,\n",
       "        0.        , 0.52156866, 0.99607843, 0.73333335, 0.01960784,\n",
       "        0.        , 0.        , 0.        , 0.        , 0.        ,\n",
       "        0.        , 0.        , 0.        ],\n",
       "       [0.        , 0.        , 0.        , 0.        , 0.        ,\n",
       "        0.        , 0.        , 0.        , 0.        , 0.        ,\n",
       "        0.        , 0.        , 0.        , 0.        , 0.        ,\n",
       "        0.03529412, 0.8039216 , 0.972549  , 0.22745098, 0.        ,\n",
       "        0.        , 0.        , 0.        , 0.        , 0.        ,\n",
       "        0.        , 0.        , 0.        ],\n",
       "       [0.        , 0.        , 0.        , 0.        , 0.        ,\n",
       "        0.        , 0.        , 0.        , 0.        , 0.        ,\n",
       "        0.        , 0.        , 0.        , 0.        , 0.        ,\n",
       "        0.49411765, 0.99607843, 0.7137255 , 0.        , 0.        ,\n",
       "        0.        , 0.        , 0.        , 0.        , 0.        ,\n",
       "        0.        , 0.        , 0.        ],\n",
       "       [0.        , 0.        , 0.        , 0.        , 0.        ,\n",
       "        0.        , 0.        , 0.        , 0.        , 0.        ,\n",
       "        0.        , 0.        , 0.        , 0.        , 0.29411766,\n",
       "        0.9843137 , 0.9411765 , 0.22352941, 0.        , 0.        ,\n",
       "        0.        , 0.        , 0.        , 0.        , 0.        ,\n",
       "        0.        , 0.        , 0.        ],\n",
       "       [0.        , 0.        , 0.        , 0.        , 0.        ,\n",
       "        0.        , 0.        , 0.        , 0.        , 0.        ,\n",
       "        0.        , 0.        , 0.        , 0.07450981, 0.8666667 ,\n",
       "        0.99607843, 0.6509804 , 0.        , 0.        , 0.        ,\n",
       "        0.        , 0.        , 0.        , 0.        , 0.        ,\n",
       "        0.        , 0.        , 0.        ],\n",
       "       [0.        , 0.        , 0.        , 0.        , 0.        ,\n",
       "        0.        , 0.        , 0.        , 0.        , 0.        ,\n",
       "        0.        , 0.        , 0.01176471, 0.79607844, 0.99607843,\n",
       "        0.85882354, 0.13725491, 0.        , 0.        , 0.        ,\n",
       "        0.        , 0.        , 0.        , 0.        , 0.        ,\n",
       "        0.        , 0.        , 0.        ],\n",
       "       [0.        , 0.        , 0.        , 0.        , 0.        ,\n",
       "        0.        , 0.        , 0.        , 0.        , 0.        ,\n",
       "        0.        , 0.        , 0.14901961, 0.99607843, 0.99607843,\n",
       "        0.3019608 , 0.        , 0.        , 0.        , 0.        ,\n",
       "        0.        , 0.        , 0.        , 0.        , 0.        ,\n",
       "        0.        , 0.        , 0.        ],\n",
       "       [0.        , 0.        , 0.        , 0.        , 0.        ,\n",
       "        0.        , 0.        , 0.        , 0.        , 0.        ,\n",
       "        0.        , 0.12156863, 0.8784314 , 0.99607843, 0.4509804 ,\n",
       "        0.00392157, 0.        , 0.        , 0.        , 0.        ,\n",
       "        0.        , 0.        , 0.        , 0.        , 0.        ,\n",
       "        0.        , 0.        , 0.        ],\n",
       "       [0.        , 0.        , 0.        , 0.        , 0.        ,\n",
       "        0.        , 0.        , 0.        , 0.        , 0.        ,\n",
       "        0.        , 0.52156866, 0.99607843, 0.99607843, 0.20392157,\n",
       "        0.        , 0.        , 0.        , 0.        , 0.        ,\n",
       "        0.        , 0.        , 0.        , 0.        , 0.        ,\n",
       "        0.        , 0.        , 0.        ],\n",
       "       [0.        , 0.        , 0.        , 0.        , 0.        ,\n",
       "        0.        , 0.        , 0.        , 0.        , 0.        ,\n",
       "        0.23921569, 0.9490196 , 0.99607843, 0.99607843, 0.20392157,\n",
       "        0.        , 0.        , 0.        , 0.        , 0.        ,\n",
       "        0.        , 0.        , 0.        , 0.        , 0.        ,\n",
       "        0.        , 0.        , 0.        ],\n",
       "       [0.        , 0.        , 0.        , 0.        , 0.        ,\n",
       "        0.        , 0.        , 0.        , 0.        , 0.        ,\n",
       "        0.4745098 , 0.99607843, 0.99607843, 0.85882354, 0.15686275,\n",
       "        0.        , 0.        , 0.        , 0.        , 0.        ,\n",
       "        0.        , 0.        , 0.        , 0.        , 0.        ,\n",
       "        0.        , 0.        , 0.        ],\n",
       "       [0.        , 0.        , 0.        , 0.        , 0.        ,\n",
       "        0.        , 0.        , 0.        , 0.        , 0.        ,\n",
       "        0.4745098 , 0.99607843, 0.8117647 , 0.07058824, 0.        ,\n",
       "        0.        , 0.        , 0.        , 0.        , 0.        ,\n",
       "        0.        , 0.        , 0.        , 0.        , 0.        ,\n",
       "        0.        , 0.        , 0.        ],\n",
       "       [0.        , 0.        , 0.        , 0.        , 0.        ,\n",
       "        0.        , 0.        , 0.        , 0.        , 0.        ,\n",
       "        0.        , 0.        , 0.        , 0.        , 0.        ,\n",
       "        0.        , 0.        , 0.        , 0.        , 0.        ,\n",
       "        0.        , 0.        , 0.        , 0.        , 0.        ,\n",
       "        0.        , 0.        , 0.        ]], dtype=float32)>"
      ]
     },
     "execution_count": 18,
     "metadata": {},
     "output_type": "execute_result"
    }
   ],
   "source": [
    "X_test[0]"
   ]
  },
  {
   "cell_type": "code",
   "execution_count": 49,
   "id": "informational-roots",
   "metadata": {},
   "outputs": [
    {
     "data": {
      "text/plain": [
       "array([[1.3235919e-16, 1.5918205e-22, 2.7963211e-12, 3.6115910e-09,\n",
       "        9.9977214e-29, 7.4281112e-23, 4.1723417e-24, 1.0000000e+00,\n",
       "        5.4250607e-14, 1.2282113e-11]], dtype=float32)"
      ]
     },
     "execution_count": 49,
     "metadata": {},
     "output_type": "execute_result"
    }
   ],
   "source": [
    "model.predict(X_test[0:1])"
   ]
  },
  {
   "cell_type": "code",
   "execution_count": 70,
   "id": "latin-banks",
   "metadata": {},
   "outputs": [
    {
     "data": {
      "text/plain": [
       "array([[3.5543742e-11, 9.9999988e-01, 2.9336009e-08, 1.0909002e-12,\n",
       "        1.0902888e-08, 1.0573918e-11, 1.3304823e-11, 1.0441683e-07,\n",
       "        5.3733800e-08, 4.5885859e-13]], dtype=float32)"
      ]
     },
     "execution_count": 70,
     "metadata": {},
     "output_type": "execute_result"
    }
   ],
   "source": [
    "model.predict(X_test[2:3])"
   ]
  },
  {
   "cell_type": "code",
   "execution_count": 26,
   "id": "successful-utility",
   "metadata": {},
   "outputs": [
    {
     "data": {
      "text/plain": [
       "7"
      ]
     },
     "execution_count": 26,
     "metadata": {},
     "output_type": "execute_result"
    }
   ],
   "source": [
    "np.argmax(model.predict(X_test[0:1]))"
   ]
  },
  {
   "cell_type": "code",
   "execution_count": 55,
   "id": "sized-representative",
   "metadata": {},
   "outputs": [
    {
     "data": {
      "image/png": "[encoded data removed]",
      "text/plain": [
       "<Figure size 432x288 with 4 Axes>"
      ]
     },
     "metadata": {
      "needs_background": "light"
     },
     "output_type": "display_data"
    }
   ],
   "source": [
    "for i in range(4):\n",
    "    plt.subplot(1,4,i+1)\n",
    "    plt.axis('off')\n",
    "    plt.imshow(test_x[i], cmap='gray')\n",
    "    plt.title(test_y[i])"
   ]
  },
  {
   "cell_type": "code",
   "execution_count": 58,
   "id": "outstanding-yellow",
   "metadata": {},
   "outputs": [
    {
     "data": {
      "text/plain": [
       "array([[1.32359195e-16, 1.59182046e-22, 2.79631570e-12, 3.61159103e-09,\n",
       "        9.99779785e-29, 7.42811118e-23, 4.17232595e-24, 1.00000000e+00,\n",
       "        5.42506070e-14, 1.22821371e-11],\n",
       "       [1.68527220e-22, 2.42758558e-13, 1.00000000e+00, 2.13281225e-17,\n",
       "        0.00000000e+00, 1.55178051e-16, 4.39397812e-17, 3.18632495e-35,\n",
       "        5.04890135e-16, 1.41748272e-34],\n",
       "       [3.55438769e-11, 9.99999881e-01, 2.93360642e-08, 1.09090016e-12,\n",
       "        1.09028671e-08, 1.05738968e-11, 1.33048485e-11, 1.04417026e-07,\n",
       "        5.37339027e-08, 4.58860326e-13],\n",
       "       [1.00000000e+00, 1.71795724e-26, 4.72438384e-17, 2.00968074e-21,\n",
       "        9.71457158e-25, 7.31725060e-22, 1.35322837e-13, 1.30739070e-20,\n",
       "        4.97675856e-29, 1.15879280e-19]], dtype=float32)"
      ]
     },
     "execution_count": 58,
     "metadata": {},
     "output_type": "execute_result"
    }
   ],
   "source": [
    "model.predict(X_test[0:4])"
   ]
  },
  {
   "cell_type": "code",
   "execution_count": 62,
   "id": "rubber-wireless",
   "metadata": {},
   "outputs": [],
   "source": [
    "y_pred = np.argmax(model.predict(X_test[0:4]),axis = 1)"
   ]
  },
  {
   "cell_type": "code",
   "execution_count": 68,
   "id": "fossil-romania",
   "metadata": {},
   "outputs": [
    {
     "data": {
      "image/png": "[encoded data removed]",
      "text/plain": [
       "<Figure size 432x288 with 4 Axes>"
      ]
     },
     "metadata": {
      "needs_background": "light"
     },
     "output_type": "display_data"
    }
   ],
   "source": [
    "for i in range(4):\n",
    "    plt.subplot(1,4,i+1)\n",
    "    plt.axis('off')\n",
    "    plt.imshow(test_x[i], cmap='gray')\n",
    "    plt.title('y='+ str(test_y[i])+'\\ny_pred='+str(y_pred[i]))"
   ]
  },
  {
   "cell_type": "code",
   "execution_count": 77,
   "id": "associate-brisbane",
   "metadata": {},
   "outputs": [
    {
     "data": {
      "text/plain": [
       "TensorShape([1, 28, 28])"
      ]
     },
     "execution_count": 77,
     "metadata": {},
     "output_type": "execute_result"
    }
   ],
   "source": [
    "X_test[2:3].shape"
   ]
  },
  {
   "cell_type": "code",
   "execution_count": 81,
   "id": "serial-typing",
   "metadata": {},
   "outputs": [
    {
     "data": {
      "image/png": "[encoded data removed]",
      "text/plain": [
       "<Figure size 432x288 with 4 Axes>"
      ]
     },
     "metadata": {
      "needs_background": "light"
     },
     "output_type": "display_data"
    }
   ],
   "source": [
    "for i in range(4):\n",
    "    \n",
    "    # randomly choose some numbers\n",
    "    num = np.random.randint(1,10000)\n",
    "    \n",
    "    plt.subplot(1,4,i+1)\n",
    "    plt.axis('off')\n",
    "    plt.imshow(test_x[num], cmap='gray')\n",
    "    y_pred = np.argmax(model.predict(X_test[num:num+1]))\n",
    "    plt.title('y='+ str(test_y[num])+'\\ny_pred='+str(y_pred))"
   ]
  },
  {
   "cell_type": "code",
   "execution_count": null,
   "id": "french-edmonton",
   "metadata": {},
   "outputs": [],
   "source": []
  }
 ],
 "metadata": {
  "kernelspec": {
   "display_name": "deep_learning",
   "language": "python",
   "name": "deep_learning"
  },
  "language_info": {
   "codemirror_mode": {
    "name": "ipython",
    "version": 3
   },
   "file_extension": ".py",
   "mimetype": "text/x-python",
   "name": "python",
   "nbconvert_exporter": "python",
   "pygments_lexer": "ipython3",
   "version": "3.8.8"
  }
 },
 "nbformat": 4,
 "nbformat_minor": 5
}
