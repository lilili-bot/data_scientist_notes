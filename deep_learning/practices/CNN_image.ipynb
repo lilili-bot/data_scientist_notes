{
 "cells": [
  {
   "cell_type": "code",
   "execution_count": 1,
   "id": "valued-tyler",
   "metadata": {},
   "outputs": [],
   "source": [
    "import tensorflow as tf"
   ]
  },
  {
   "cell_type": "code",
   "execution_count": 3,
   "id": "disturbed-fellowship",
   "metadata": {},
   "outputs": [
    {
     "data": {
      "text/plain": [
       "('2.4.1', '2.4.0')"
      ]
     },
     "execution_count": 3,
     "metadata": {},
     "output_type": "execute_result"
    }
   ],
   "source": [
    "tf.__version__, tf.keras.__version__"
   ]
  },
  {
   "cell_type": "code",
   "execution_count": 2,
   "id": "mounted-fruit",
   "metadata": {},
   "outputs": [],
   "source": [
    "import numpy as np\n",
    "import matplotlib.pyplot as plt\n",
    "from tensorflow.keras import layers, Sequential"
   ]
  },
  {
   "cell_type": "code",
   "execution_count": 6,
   "id": "limiting-onion",
   "metadata": {},
   "outputs": [
    {
     "data": {
      "text/plain": [
       "[]"
      ]
     },
     "execution_count": 6,
     "metadata": {},
     "output_type": "execute_result"
    }
   ],
   "source": [
    "gpus= tf.config.experimental.list_physical_devices('GPU')\n",
    "gpus"
   ]
  },
  {
   "cell_type": "code",
   "execution_count": 6,
   "id": "improved-arrival",
   "metadata": {},
   "outputs": [],
   "source": [
    "cifar10 = tf.keras.datasets.cifar10\n",
    "(X_train, y_train),(X_test, y_test) = cifar10.load_data()"
   ]
  },
  {
   "cell_type": "code",
   "execution_count": 10,
   "id": "normal-trader",
   "metadata": {},
   "outputs": [
    {
     "data": {
      "text/plain": [
       "<matplotlib.image.AxesImage at 0x7fee401c5820>"
      ]
     },
     "execution_count": 10,
     "metadata": {},
     "output_type": "execute_result"
    },
    {
     "data": {
      "image/png": "[encoded data removed]",
      "text/plain": [
       "<Figure size 432x288 with 1 Axes>"
      ]
     },
     "metadata": {
      "needs_background": "light"
     },
     "output_type": "display_data"
    }
   ],
   "source": [
    "plt.imshow(X_train[1])\n"
   ]
  },
  {
   "cell_type": "code",
   "execution_count": 12,
   "id": "favorite-roman",
   "metadata": {},
   "outputs": [
    {
     "data": {
      "text/plain": [
       "array([9], dtype=uint8)"
      ]
     },
     "execution_count": 12,
     "metadata": {},
     "output_type": "execute_result"
    }
   ],
   "source": [
    "y_train[1]"
   ]
  },
  {
   "cell_type": "code",
   "execution_count": 10,
   "id": "parallel-thanksgiving",
   "metadata": {},
   "outputs": [
    {
     "data": {
      "text/plain": [
       "((50000, 32, 32, 3), (50000, 1), (10000, 32, 32, 3), (10000, 1))"
      ]
     },
     "execution_count": 10,
     "metadata": {},
     "output_type": "execute_result"
    }
   ],
   "source": [
    "X_train.shape,  y_train.shape,X_test.shape, y_test.shape "
   ]
  },
  {
   "cell_type": "code",
   "execution_count": null,
   "id": "significant-peter",
   "metadata": {},
   "outputs": [],
   "source": [
    "# change datatype into flat.32，decentralization"
   ]
  },
  {
   "cell_type": "code",
   "execution_count": 14,
   "id": "average-empire",
   "metadata": {},
   "outputs": [],
   "source": [
    "X_train, X_test = tf.cast(X_train, dtype= tf.float32)/255.0, tf.cast(X_test, dtype=tf.float32)/255.0\n",
    "y_train, y_test = tf.cast(y_train, dtype= tf.float32)/255.0, tf.cast(y_test, dtype=tf.float32)/255.0"
   ]
  },
  {
   "cell_type": "code",
   "execution_count": 15,
   "id": "distributed-textbook",
   "metadata": {},
   "outputs": [
    {
     "data": {
      "text/plain": [
       "(TensorShape([50000, 32, 32, 3]),\n",
       " TensorShape([50000, 1]),\n",
       " TensorShape([10000, 32, 32, 3]),\n",
       " TensorShape([10000, 1]))"
      ]
     },
     "execution_count": 15,
     "metadata": {},
     "output_type": "execute_result"
    }
   ],
   "source": [
    "X_train.shape,  y_train.shape,X_test.shape, y_test.shape "
   ]
  },
  {
   "cell_type": "code",
   "execution_count": null,
   "id": "protecting-mother",
   "metadata": {},
   "outputs": [],
   "source": []
  },
  {
   "cell_type": "code",
   "execution_count": 24,
   "id": "three-constitution",
   "metadata": {},
   "outputs": [],
   "source": [
    "model = Sequential([\n",
    "    # feature engineering, set 2 layers \n",
    "    \n",
    "    # unit1 \n",
    "    \n",
    "    layers.Conv2D(16, kernel_size = (3,3), padding = 'same', activation= tf.nn.relu, input_shape=X_train.shape[1:]),\n",
    "    layers.Conv2D(16, kernel_size = (3,3), padding = 'same', activation= tf.nn.relu),\n",
    "    layers.MaxPool2D(pool_size=(2,2)),\n",
    "    \n",
    "    # unit2\n",
    "    layers.Conv2D(32, kernel_size = (3,3), padding = 'same', activation= tf.nn.relu),\n",
    "    layers.Conv2D(32, kernel_size = (3,3), padding = 'same', activation= tf.nn.relu),\n",
    "    layers.MaxPool2D(pool_size=(2,2)),\n",
    "    \n",
    "    # data preparation\n",
    "    # unit 3\n",
    "    layers.Flatten(),\n",
    "    layers.Dense(128, activation='relu'),\n",
    "    layers.Dense(10, activation='softmax')\n",
    "])"
   ]
  },
  {
   "cell_type": "code",
   "execution_count": 25,
   "id": "banner-arabic",
   "metadata": {},
   "outputs": [
    {
     "name": "stdout",
     "output_type": "stream",
     "text": [
      "Model: \"sequential\"\n",
      "_________________________________________________________________\n",
      "Layer (type)                 Output Shape              Param #   \n",
      "=================================================================\n",
      "conv2d_6 (Conv2D)            (None, 32, 32, 16)        448       \n",
      "_________________________________________________________________\n",
      "conv2d_7 (Conv2D)            (None, 32, 32, 16)        2320      \n",
      "_________________________________________________________________\n",
      "max_pooling2d_1 (MaxPooling2 (None, 16, 16, 16)        0         \n",
      "_________________________________________________________________\n",
      "conv2d_8 (Conv2D)            (None, 16, 16, 32)        4640      \n",
      "_________________________________________________________________\n",
      "conv2d_9 (Conv2D)            (None, 16, 16, 32)        9248      \n",
      "_________________________________________________________________\n",
      "max_pooling2d_2 (MaxPooling2 (None, 8, 8, 32)          0         \n",
      "_________________________________________________________________\n",
      "flatten (Flatten)            (None, 2048)              0         \n",
      "_________________________________________________________________\n",
      "dense (Dense)                (None, 128)               262272    \n",
      "_________________________________________________________________\n",
      "dense_1 (Dense)              (None, 10)                1290      \n",
      "=================================================================\n",
      "Total params: 280,218\n",
      "Trainable params: 280,218\n",
      "Non-trainable params: 0\n",
      "_________________________________________________________________\n"
     ]
    }
   ],
   "source": [
    "model.summary()"
   ]
  },
  {
   "cell_type": "code",
   "execution_count": 30,
   "id": "laughing-hopkins",
   "metadata": {},
   "outputs": [],
   "source": [
    "model.compile(optimizer='adam',\n",
    "             loss='sparse_categorical_crossentropy',\n",
    "             metrics = ['sparse_categorical_accuracy'])"
   ]
  },
  {
   "cell_type": "code",
   "execution_count": 31,
   "id": "better-integral",
   "metadata": {},
   "outputs": [
    {
     "name": "stdout",
     "output_type": "stream",
     "text": [
      "Epoch 1/5\n",
      "625/625 [==============================] - 55s 87ms/step - loss: 0.0435 - sparse_categorical_accuracy: 0.0988 - val_loss: 0.0000e+00 - val_sparse_categorical_accuracy: 0.1014\n",
      "Epoch 2/5\n",
      "625/625 [==============================] - 73s 117ms/step - loss: 0.0000e+00 - sparse_categorical_accuracy: 0.0997 - val_loss: 0.0000e+00 - val_sparse_categorical_accuracy: 0.1014\n",
      "Epoch 3/5\n",
      "625/625 [==============================] - 71s 114ms/step - loss: 0.0000e+00 - sparse_categorical_accuracy: 0.0972 - val_loss: 0.0000e+00 - val_sparse_categorical_accuracy: 0.1014\n",
      "Epoch 4/5\n",
      "625/625 [==============================] - 72s 116ms/step - loss: 0.0000e+00 - sparse_categorical_accuracy: 0.0969 - val_loss: 0.0000e+00 - val_sparse_categorical_accuracy: 0.1014\n",
      "Epoch 5/5\n",
      "625/625 [==============================] - 67s 107ms/step - loss: 0.0000e+00 - sparse_categorical_accuracy: 0.0998 - val_loss: 0.0000e+00 - val_sparse_categorical_accuracy: 0.1014\n"
     ]
    },
    {
     "data": {
      "text/plain": [
       "<tensorflow.python.keras.callbacks.History at 0x7f98e6a095b0>"
      ]
     },
     "execution_count": 31,
     "metadata": {},
     "output_type": "execute_result"
    }
   ],
   "source": [
    "model.fit(X_train,y_train,batch_size=64,epochs=5,validation_split=0.2)"
   ]
  },
  {
   "cell_type": "code",
   "execution_count": 32,
   "id": "advanced-opinion",
   "metadata": {},
   "outputs": [
    {
     "name": "stdout",
     "output_type": "stream",
     "text": [
      "313/313 - 2s - loss: 0.0000e+00 - sparse_categorical_accuracy: 0.1000\n"
     ]
    },
    {
     "data": {
      "text/plain": [
       "[0.0, 0.10000000149011612]"
      ]
     },
     "execution_count": 32,
     "metadata": {},
     "output_type": "execute_result"
    }
   ],
   "source": [
    "model.evaluate(X_test,y_test, verbose=2)"
   ]
  },
  {
   "cell_type": "code",
   "execution_count": 33,
   "id": "stuffed-brass",
   "metadata": {},
   "outputs": [],
   "source": [
    "model.save('CNN_1O.h5')"
   ]
  },
  {
   "cell_type": "code",
   "execution_count": 3,
   "id": "controlled-authentication",
   "metadata": {},
   "outputs": [],
   "source": [
    "model_reload = tf.keras.models.load_model('CNN_1O.h5')"
   ]
  },
  {
   "cell_type": "code",
   "execution_count": 4,
   "id": "incoming-timothy",
   "metadata": {},
   "outputs": [
    {
     "name": "stdout",
     "output_type": "stream",
     "text": [
      "Model: \"sequential\"\n",
      "_________________________________________________________________\n",
      "Layer (type)                 Output Shape              Param #   \n",
      "=================================================================\n",
      "conv2d_6 (Conv2D)            (None, 32, 32, 16)        448       \n",
      "_________________________________________________________________\n",
      "conv2d_7 (Conv2D)            (None, 32, 32, 16)        2320      \n",
      "_________________________________________________________________\n",
      "max_pooling2d_1 (MaxPooling2 (None, 16, 16, 16)        0         \n",
      "_________________________________________________________________\n",
      "conv2d_8 (Conv2D)            (None, 16, 16, 32)        4640      \n",
      "_________________________________________________________________\n",
      "conv2d_9 (Conv2D)            (None, 16, 16, 32)        9248      \n",
      "_________________________________________________________________\n",
      "max_pooling2d_2 (MaxPooling2 (None, 8, 8, 32)          0         \n",
      "_________________________________________________________________\n",
      "flatten (Flatten)            (None, 2048)              0         \n",
      "_________________________________________________________________\n",
      "dense (Dense)                (None, 128)               262272    \n",
      "_________________________________________________________________\n",
      "dense_1 (Dense)              (None, 10)                1290      \n",
      "=================================================================\n",
      "Total params: 280,218\n",
      "Trainable params: 280,218\n",
      "Non-trainable params: 0\n",
      "_________________________________________________________________\n"
     ]
    }
   ],
   "source": [
    "model_reload.summary()"
   ]
  },
  {
   "cell_type": "code",
   "execution_count": 16,
   "id": "tutorial-conversion",
   "metadata": {},
   "outputs": [],
   "source": [
    "# try dropout, early stopping and batchnormoalization"
   ]
  },
  {
   "cell_type": "code",
   "execution_count": null,
   "id": "gross-couple",
   "metadata": {},
   "outputs": [],
   "source": [
    "from tensorflow.keras.layers import Dropout\n",
    "from tf.keras.layers import BatchNormalization\n",
    "from tensorflow.keras.callbacks import EarlyStopping"
   ]
  },
  {
   "cell_type": "raw",
   "id": "breeding-voltage",
   "metadata": {},
   "source": [
    "callback = EarlyStopping(monitor='val_loss', patience=3)\n",
    "model.fit(..., callbacks=[callback], validation_split=0.2)"
   ]
  },
  {
   "cell_type": "raw",
   "id": "touched-europe",
   "metadata": {},
   "source": [
    "Dense(10),\n",
    "Dropout(0.5),\n",
    "Activation('relu')"
   ]
  },
  {
   "cell_type": "raw",
   "id": "vital-oxford",
   "metadata": {},
   "source": [
    "Dense(10),\n",
    "Activation('relu'),\n",
    "      BatchNormalization()"
   ]
  }
 ],
 "metadata": {
  "kernelspec": {
   "display_name": "Python 3",
   "language": "python",
   "name": "python3"
  },
  "language_info": {
   "codemirror_mode": {
    "name": "ipython",
    "version": 3
   },
   "file_extension": ".py",
   "mimetype": "text/x-python",
   "name": "python",
   "nbconvert_exporter": "python",
   "pygments_lexer": "ipython3",
   "version": "3.8.2"
  }
 },
 "nbformat": 4,
 "nbformat_minor": 5
}
