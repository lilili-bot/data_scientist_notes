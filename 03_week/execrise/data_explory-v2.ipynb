{
 "cells": [
  {
   "cell_type": "code",
   "execution_count": 2,
   "metadata": {},
   "outputs": [],
   "source": [
    "import pandas as pd\n",
    "import numpy as np\n",
    "import matplotlib.pyplot as plt\n",
    "import seaborn as sns"
   ]
  },
  {
   "cell_type": "code",
   "execution_count": 3,
   "metadata": {},
   "outputs": [
    {
     "data": {
      "text/html": [
       "<div>\n",
       "<style scoped>\n",
       "    .dataframe tbody tr th:only-of-type {\n",
       "        vertical-align: middle;\n",
       "    }\n",
       "\n",
       "    .dataframe tbody tr th {\n",
       "        vertical-align: top;\n",
       "    }\n",
       "\n",
       "    .dataframe thead th {\n",
       "        text-align: right;\n",
       "    }\n",
       "</style>\n",
       "<table border=\"1\" class=\"dataframe\">\n",
       "  <thead>\n",
       "    <tr style=\"text-align: right;\">\n",
       "      <th></th>\n",
       "      <th>datetime</th>\n",
       "      <th>season</th>\n",
       "      <th>holiday</th>\n",
       "      <th>workingday</th>\n",
       "      <th>weather</th>\n",
       "      <th>temp</th>\n",
       "      <th>atemp</th>\n",
       "      <th>humidity</th>\n",
       "      <th>windspeed</th>\n",
       "      <th>casual</th>\n",
       "      <th>registered</th>\n",
       "      <th>count</th>\n",
       "    </tr>\n",
       "  </thead>\n",
       "  <tbody>\n",
       "    <tr>\n",
       "      <th>0</th>\n",
       "      <td>2011-01-01 00:00:00</td>\n",
       "      <td>1</td>\n",
       "      <td>0</td>\n",
       "      <td>0</td>\n",
       "      <td>1</td>\n",
       "      <td>9.84</td>\n",
       "      <td>14.395</td>\n",
       "      <td>81</td>\n",
       "      <td>0.0</td>\n",
       "      <td>3</td>\n",
       "      <td>13</td>\n",
       "      <td>16</td>\n",
       "    </tr>\n",
       "    <tr>\n",
       "      <th>1</th>\n",
       "      <td>2011-01-01 01:00:00</td>\n",
       "      <td>1</td>\n",
       "      <td>0</td>\n",
       "      <td>0</td>\n",
       "      <td>1</td>\n",
       "      <td>9.02</td>\n",
       "      <td>13.635</td>\n",
       "      <td>80</td>\n",
       "      <td>0.0</td>\n",
       "      <td>8</td>\n",
       "      <td>32</td>\n",
       "      <td>40</td>\n",
       "    </tr>\n",
       "    <tr>\n",
       "      <th>2</th>\n",
       "      <td>2011-01-01 02:00:00</td>\n",
       "      <td>1</td>\n",
       "      <td>0</td>\n",
       "      <td>0</td>\n",
       "      <td>1</td>\n",
       "      <td>9.02</td>\n",
       "      <td>13.635</td>\n",
       "      <td>80</td>\n",
       "      <td>0.0</td>\n",
       "      <td>5</td>\n",
       "      <td>27</td>\n",
       "      <td>32</td>\n",
       "    </tr>\n",
       "    <tr>\n",
       "      <th>3</th>\n",
       "      <td>2011-01-01 03:00:00</td>\n",
       "      <td>1</td>\n",
       "      <td>0</td>\n",
       "      <td>0</td>\n",
       "      <td>1</td>\n",
       "      <td>9.84</td>\n",
       "      <td>14.395</td>\n",
       "      <td>75</td>\n",
       "      <td>0.0</td>\n",
       "      <td>3</td>\n",
       "      <td>10</td>\n",
       "      <td>13</td>\n",
       "    </tr>\n",
       "    <tr>\n",
       "      <th>4</th>\n",
       "      <td>2011-01-01 04:00:00</td>\n",
       "      <td>1</td>\n",
       "      <td>0</td>\n",
       "      <td>0</td>\n",
       "      <td>1</td>\n",
       "      <td>9.84</td>\n",
       "      <td>14.395</td>\n",
       "      <td>75</td>\n",
       "      <td>0.0</td>\n",
       "      <td>0</td>\n",
       "      <td>1</td>\n",
       "      <td>1</td>\n",
       "    </tr>\n",
       "  </tbody>\n",
       "</table>\n",
       "</div>"
      ],
      "text/plain": [
       "              datetime  season  holiday  workingday  weather  temp   atemp  \\\n",
       "0  2011-01-01 00:00:00       1        0           0        1  9.84  14.395   \n",
       "1  2011-01-01 01:00:00       1        0           0        1  9.02  13.635   \n",
       "2  2011-01-01 02:00:00       1        0           0        1  9.02  13.635   \n",
       "3  2011-01-01 03:00:00       1        0           0        1  9.84  14.395   \n",
       "4  2011-01-01 04:00:00       1        0           0        1  9.84  14.395   \n",
       "\n",
       "   humidity  windspeed  casual  registered  count  \n",
       "0        81        0.0       3          13     16  \n",
       "1        80        0.0       8          32     40  \n",
       "2        80        0.0       5          27     32  \n",
       "3        75        0.0       3          10     13  \n",
       "4        75        0.0       0           1      1  "
      ]
     },
     "execution_count": 3,
     "metadata": {},
     "output_type": "execute_result"
    }
   ],
   "source": [
    "df=pd.read_csv('../../data/train.csv')\n",
    "df.head()"
   ]
  },
  {
   "cell_type": "markdown",
   "metadata": {},
   "source": [
    "Extract features like hour, month etc. from the datetime column.\n",
    "\n",
    "Plot small sections of the data (1 day, 1 week etc.)\n",
    "\n",
    "Group by a time feature and observe grouped means"
   ]
  },
  {
   "cell_type": "code",
   "execution_count": 4,
   "metadata": {},
   "outputs": [],
   "source": [
    "df['datetime']=pd.to_datetime(df['datetime'])"
   ]
  },
  {
   "cell_type": "markdown",
   "metadata": {},
   "source": [
    " - 1. pd.DatetimeIndex(df['datetime']).year\n",
    " - 2. df['year'] = df['datetime'].dt.year\n",
    " - 3. df['month'] = df['datetime'].dt.month"
   ]
  },
  {
   "cell_type": "code",
   "execution_count": 5,
   "metadata": {},
   "outputs": [],
   "source": [
    "df['year']=pd.DatetimeIndex(df['datetime']).year\n",
    "df['month'] = pd.DatetimeIndex(df['datetime']).month\n",
    "df['date'] = pd.DatetimeIndex(df['datetime']).day\n",
    "df['hour'] = pd.DatetimeIndex(df['datetime']).hour\n",
    "df['weekday'] = pd.DatetimeIndex(df['datetime']).weekday\n",
    "df.set_index(pd.to_datetime(df['datetime']), inplace = True)"
   ]
  },
  {
   "cell_type": "code",
   "execution_count": 6,
   "metadata": {},
   "outputs": [
    {
     "data": {
      "text/plain": [
       "<AxesSubplot:xlabel='hour'>"
      ]
     },
     "execution_count": 6,
     "metadata": {},
     "output_type": "execute_result"
    },
    {
     "data": {
      "image/png": "[encoded data removed]",
      "text/plain": [
       "<Figure size 432x288 with 1 Axes>"
      ]
     },
     "metadata": {
      "needs_background": "light"
     },
     "output_type": "display_data"
    }
   ],
   "source": [
    "#plot a day\n",
    "df.loc[(df['year']==2011)&(df['month']==1)&(df['date']==1)].plot(x ='hour',y = 'count')"
   ]
  },
  {
   "cell_type": "code",
   "execution_count": 7,
   "metadata": {},
   "outputs": [
    {
     "data": {
      "text/plain": [
       "<AxesSubplot:xlabel='month'>"
      ]
     },
     "execution_count": 7,
     "metadata": {},
     "output_type": "execute_result"
    },
    {
     "data": {
      "image/png": "[encoded data removed]",
      "text/plain": [
       "<Figure size 432x288 with 1 Axes>"
      ]
     },
     "metadata": {
      "needs_background": "light"
     },
     "output_type": "display_data"
    }
   ],
   "source": [
    "df.groupby(['month'])['count'].mean().to_frame().plot(y='count')"
   ]
  },
  {
   "cell_type": "code",
   "execution_count": 8,
   "metadata": {},
   "outputs": [
    {
     "data": {
      "text/plain": [
       "Text(0, 0.5, 'count')"
      ]
     },
     "execution_count": 8,
     "metadata": {},
     "output_type": "execute_result"
    },
    {
     "data": {
      "image/png": "[encoded data removed]",
      "text/plain": [
       "<Figure size 1440x720 with 1 Axes>"
      ]
     },
     "metadata": {
      "needs_background": "light"
     },
     "output_type": "display_data"
    }
   ],
   "source": [
    "#groupby month, weekday\n",
    "fig, ax = plt.subplots(figsize=(20,10))\n",
    "df.groupby(['month','year']).mean()['count'].unstack().plot(ax=ax)\n",
    "ax.set_ylabel('count')"
   ]
  },
  {
   "cell_type": "code",
   "execution_count": 9,
   "metadata": {},
   "outputs": [
    {
     "data": {
      "text/plain": [
       "Text(0, 0.5, 'count')"
      ]
     },
     "execution_count": 9,
     "metadata": {},
     "output_type": "execute_result"
    },
    {
     "data": {
      "image/png": "[encoded data removed]",
      "text/plain": [
       "<Figure size 1440x720 with 1 Axes>"
      ]
     },
     "metadata": {
      "needs_background": "light"
     },
     "output_type": "display_data"
    }
   ],
   "source": [
    "fig, ax = plt.subplots(figsize=(20,10))\n",
    "df.groupby('weekday')['count'].mean().to_frame().plot(ax=ax)\n",
    "ax.set_ylabel('count')"
   ]
  },
  {
   "cell_type": "code",
   "execution_count": 10,
   "metadata": {},
   "outputs": [
    {
     "data": {
      "text/plain": [
       "<AxesSubplot:xlabel='season'>"
      ]
     },
     "execution_count": 10,
     "metadata": {},
     "output_type": "execute_result"
    },
    {
     "data": {
      "image/png": "[encoded data removed]",
      "text/plain": [
       "<Figure size 432x288 with 1 Axes>"
      ]
     },
     "metadata": {
      "needs_background": "light"
     },
     "output_type": "display_data"
    }
   ],
   "source": [
    "df.groupby('season')['count'].mean().to_frame().plot(y='count')"
   ]
  },
  {
   "cell_type": "markdown",
   "metadata": {},
   "source": [
    "# cal PCA"
   ]
  },
  {
   "cell_type": "code",
   "execution_count": 11,
   "metadata": {},
   "outputs": [],
   "source": [
    "df_to_scale=df.drop(['datetime','year','date','casual','registered'],axis=1)"
   ]
  },
  {
   "cell_type": "code",
   "execution_count": 12,
   "metadata": {},
   "outputs": [],
   "source": [
    "X= df_to_scale.loc[:,df_to_scale.columns!='count']\n",
    "y= df_to_scale['count']"
   ]
  },
  {
   "cell_type": "code",
   "execution_count": 13,
   "metadata": {},
   "outputs": [
    {
     "data": {
      "text/plain": [
       "((10886, 11), (10886,))"
      ]
     },
     "execution_count": 13,
     "metadata": {},
     "output_type": "execute_result"
    }
   ],
   "source": [
    "X.shape, y.shape"
   ]
  },
  {
   "cell_type": "code",
   "execution_count": 14,
   "metadata": {
    "tags": []
   },
   "outputs": [
    {
     "data": {
      "text/plain": [
       "array([[-1.34986372, -0.17149048, -1.46067232, -0.66017842, -1.33366069,\n",
       "        -1.09273697,  0.99321305, -1.56775367, -1.60312148, -1.66894356,\n",
       "         0.99079257],\n",
       "       [-1.34986372, -0.17149048, -1.46067232, -0.66017842, -1.43890721,\n",
       "        -1.18242083,  0.94124921, -1.56775367, -1.60312148, -1.52434128,\n",
       "         0.99079257],\n",
       "       [-1.34986372, -0.17149048, -1.46067232, -0.66017842, -1.43890721,\n",
       "        -1.18242083,  0.94124921, -1.56775367, -1.60312148, -1.379739  ,\n",
       "         0.99079257],\n",
       "       [-1.34986372, -0.17149048, -1.46067232, -0.66017842, -1.33366069,\n",
       "        -1.09273697,  0.68142998, -1.56775367, -1.60312148, -1.23513672,\n",
       "         0.99079257],\n",
       "       [-1.34986372, -0.17149048, -1.46067232, -0.66017842, -1.33366069,\n",
       "        -1.09273697,  0.68142998, -1.56775367, -1.60312148, -1.09053444,\n",
       "         0.99079257]])"
      ]
     },
     "execution_count": 14,
     "metadata": {},
     "output_type": "execute_result"
    }
   ],
   "source": [
    "from sklearn.preprocessing import StandardScaler\n",
    "transformer = StandardScaler()\n",
    "transformer.fit(X)\n",
    "X_scale=transformer.transform(X)\n",
    "X_scale[:5]"
   ]
  },
  {
   "cell_type": "code",
   "execution_count": 15,
   "metadata": {},
   "outputs": [
    {
     "data": {
      "text/plain": [
       "array([[ 1.00009187e+00,  2.93703077e-02, -8.12680440e-03,\n",
       "         8.87946653e-03,  2.58712316e-01,  2.64768648e-01,\n",
       "         1.90627532e-01, -1.47134725e-01,  9.71613053e-01,\n",
       "        -6.54627543e-03, -1.05535119e-02],\n",
       "       [ 2.93703077e-02,  1.00009187e+00, -2.50514404e-01,\n",
       "        -7.07456138e-03,  2.94630458e-04, -5.21525730e-03,\n",
       "         1.92888843e-03,  8.40951029e-03,  1.73161654e-03,\n",
       "        -3.54193646e-04, -1.91849647e-01],\n",
       "       [-8.12680440e-03, -2.50514404e-01,  1.00009187e+00,\n",
       "         3.37749449e-02,  2.99683001e-02,  2.46625949e-02,\n",
       "        -1.08808447e-02,  1.33745412e-02, -3.39470535e-03,\n",
       "         2.78048991e-03, -7.04332135e-01],\n",
       "       [ 8.87946653e-03, -7.07456138e-03,  3.37749449e-02,\n",
       "         1.00009187e+00, -5.50404742e-02, -5.53810606e-02,\n",
       "         4.06280973e-01,  7.26179124e-03,  1.21450924e-02,\n",
       "        -2.27424246e-02, -4.76968282e-02],\n",
       "       [ 2.58712316e-01,  2.94630458e-04,  2.99683001e-02,\n",
       "        -5.50404742e-02,  1.00009187e+00,  9.85038597e-01,\n",
       "        -6.49547377e-02, -1.78536499e-02,  2.57612836e-01,\n",
       "         1.45443030e-01, -3.84690430e-02],\n",
       "       [ 2.64768648e-01, -5.21525730e-03,  2.46625949e-02,\n",
       "        -5.53810606e-02,  9.85038597e-01,  1.00009187e+00,\n",
       "        -4.35397087e-02, -5.74782823e-02,  2.64197145e-01,\n",
       "         1.40355444e-01, -4.02382695e-02],\n",
       "       [ 1.90627532e-01,  1.92888843e-03, -1.08808447e-02,\n",
       "         4.06280973e-01, -6.49547377e-02, -4.35397087e-02,\n",
       "         1.00009187e+00, -3.18636262e-01,  2.04555771e-01,\n",
       "        -2.78036926e-01, -2.65089388e-02],\n",
       "       [-1.47134725e-01,  8.40951029e-03,  1.33745412e-02,\n",
       "         7.26179124e-03, -1.78536499e-02, -5.74782823e-02,\n",
       "        -3.18636262e-01,  1.00009187e+00, -1.50205632e-01,\n",
       "         1.46644749e-01, -2.48061278e-02],\n",
       "       [ 9.71613053e-01,  1.73161654e-03, -3.39470535e-03,\n",
       "         1.21450924e-02,  2.57612836e-01,  2.64197145e-01,\n",
       "         2.04555771e-01, -1.50205632e-01,  1.00009187e+00,\n",
       "        -6.81826977e-03, -2.26572892e-03],\n",
       "       [-6.54627543e-03, -3.54193646e-04,  2.78048991e-03,\n",
       "        -2.27424246e-02,  1.45443030e-01,  1.40355444e-01,\n",
       "        -2.78036926e-01,  1.46644749e-01, -6.81826977e-03,\n",
       "         1.00009187e+00, -2.92483118e-03],\n",
       "       [-1.05535119e-02, -1.91849647e-01, -7.04332135e-01,\n",
       "        -4.76968282e-02, -3.84690430e-02, -4.02382695e-02,\n",
       "        -2.65089388e-02, -2.48061278e-02, -2.26572892e-03,\n",
       "        -2.92483118e-03,  1.00009187e+00]])"
      ]
     },
     "execution_count": 15,
     "metadata": {},
     "output_type": "execute_result"
    }
   ],
   "source": [
    "features = X_scale.T\n",
    "cov_matrix = np.cov(features)\n",
    "cov_matrix"
   ]
  },
  {
   "cell_type": "code",
   "execution_count": 15,
   "metadata": {},
   "outputs": [
    {
     "data": {
      "text/plain": [
       "(array([2.55342866, 1.8636242 , 1.71374234, 0.43995282, 0.0279592 ]),\n",
       " array([[-0.50311503, -0.25292648, -0.03187057,  0.0723002 ,  0.70581109,\n",
       "         -0.00359605,  0.00168637, -0.04670598, -0.40714412, -0.10143246,\n",
       "          0.01546016],\n",
       "        [-0.00847947, -0.0173833 , -0.06443633,  0.03227871, -0.01925634,\n",
       "         -0.01197926, -0.35406699,  0.03286751, -0.07671292,  0.14218265,\n",
       "         -0.91726396],\n",
       "        [-0.02917509,  0.10050387,  0.69959726,  0.02362449,  0.00099144,\n",
       "         -0.01902257, -0.66602143,  0.01560519, -0.07838263,  0.02842301,\n",
       "          0.2188852 ],\n",
       "        [-0.00360507, -0.30019812,  0.14698164,  0.52540349, -0.00321844,\n",
       "         -0.00391841,  0.00898743, -0.01276183,  0.42460573, -0.6449271 ,\n",
       "         -0.12540063],\n",
       "        [-0.4747159 ,  0.36308687, -0.03003605, -0.01115947,  0.00308056,\n",
       "          0.70596176, -0.0268561 , -0.1050062 ,  0.35771458,  0.05543715,\n",
       "         -0.02477901]]))"
      ]
     },
     "execution_count": 15,
     "metadata": {},
     "output_type": "execute_result"
    }
   ],
   "source": [
    "values, vectors = np.linalg.eig(cov_matrix)\n",
    "values[:5],vectors[:5]"
   ]
  },
  {
   "cell_type": "code",
   "execution_count": 16,
   "metadata": {},
   "outputs": [
    {
     "name": "stdout",
     "output_type": "stream",
     "text": [
      "0.9999999999999998 \n",
      " [0.23210855461363977, 0.16940481828553752, 0.15578044707486588, 0.03999203677389912, 0.0025415120382601838, 0.001277854798136592, 0.015968431225896026, 0.07466322178931872, 0.11173805703192545, 0.09491407905351258, 0.101610987315008]\n"
     ]
    }
   ],
   "source": [
    "explained_value=[]\n",
    "for i in range(len(values)):\n",
    "    explained_value.append(values[i]/ np.sum(values))\n",
    "print (np.sum(explained_value), '\\n',explained_value)"
   ]
  },
  {
   "cell_type": "code",
   "execution_count": 17,
   "metadata": {},
   "outputs": [
    {
     "data": {
      "text/plain": [
       "Index(['season', 'holiday', 'workingday', 'weather', 'temp', 'atemp',\n",
       "       'humidity', 'windspeed', 'month', 'hour', 'weekday'],\n",
       "      dtype='object')"
      ]
     },
     "execution_count": 17,
     "metadata": {},
     "output_type": "execute_result"
    }
   ],
   "source": [
    "X.columns"
   ]
  },
  {
   "cell_type": "code",
   "execution_count": 18,
   "metadata": {},
   "outputs": [],
   "source": [
    "from sklearn.model_selection import train_test_split"
   ]
  },
  {
   "cell_type": "code",
   "execution_count": 19,
   "metadata": {},
   "outputs": [
    {
     "data": {
      "text/plain": [
       "((9797, 11), (1089, 11), (9797,), (1089,))"
      ]
     },
     "execution_count": 19,
     "metadata": {},
     "output_type": "execute_result"
    }
   ],
   "source": [
    "X_train, X_test, y_train, y_test = train_test_split(X,y,random_state=42, test_size= 0.1)\n",
    "X_train.shape, X_test.shape,y_train.shape,y_test.shape"
   ]
  },
  {
   "cell_type": "code",
   "execution_count": 20,
   "metadata": {},
   "outputs": [],
   "source": [
    "from sklearn.compose import make_column_transformer\n",
    "from sklearn.pipeline import Pipeline, make_pipeline\n",
    "from sklearn.linear_model import LinearRegression\n",
    "from sklearn.preprocessing import PolynomialFeatures"
   ]
  },
  {
   "cell_type": "markdown",
   "metadata": {},
   "source": [
    "# pipe"
   ]
  },
  {
   "cell_type": "code",
   "execution_count": 21,
   "metadata": {},
   "outputs": [
    {
     "data": {
      "text/plain": [
       "Pipeline(steps=[('standardscaler', StandardScaler()),\n",
       "                ('polynomialfeatures', PolynomialFeatures(degree=4)),\n",
       "                ('linearregression', LinearRegression())])"
      ]
     },
     "execution_count": 21,
     "metadata": {},
     "output_type": "execute_result"
    }
   ],
   "source": [
    "pipe=make_pipeline(StandardScaler(),PolynomialFeatures(4),LinearRegression())\n",
    "pipe.fit(X_train,y_train)"
   ]
  },
  {
   "cell_type": "code",
   "execution_count": 22,
   "metadata": {},
   "outputs": [
    {
     "data": {
      "text/plain": [
       "(0.5504575841480438, 0.663085283579675)"
      ]
     },
     "execution_count": 22,
     "metadata": {},
     "output_type": "execute_result"
    }
   ],
   "source": [
    "pipe.score(X_test, y_test),pipe.score(X_train, y_train)"
   ]
  },
  {
   "cell_type": "markdown",
   "metadata": {},
   "source": [
    "# column transformer"
   ]
  },
  {
   "cell_type": "code",
   "execution_count": 62,
   "metadata": {},
   "outputs": [],
   "source": [
    "trans = make_column_transformer((PolynomialFeatures(3),['season']),\n",
    "                               (PolynomialFeatures(2),['hour']),\n",
    "                               (PolynomialFeatures(2),['humidity']),\n",
    "                               (PolynomialFeatures(2),['temp']),\n",
    "                               (PolynomialFeatures(2),['workingday']))\n",
    "                            "
   ]
  },
  {
   "cell_type": "code",
   "execution_count": 63,
   "metadata": {},
   "outputs": [
    {
     "data": {
      "text/plain": [
       "ColumnTransformer(transformers=[('polynomialfeatures-1',\n",
       "                                 PolynomialFeatures(degree=3), ['season']),\n",
       "                                ('polynomialfeatures-2', PolynomialFeatures(),\n",
       "                                 ['hour']),\n",
       "                                ('polynomialfeatures-3', PolynomialFeatures(),\n",
       "                                 ['humidity']),\n",
       "                                ('polynomialfeatures-4', PolynomialFeatures(),\n",
       "                                 ['temp']),\n",
       "                                ('polynomialfeatures-5', PolynomialFeatures(),\n",
       "                                 ['workingday'])])"
      ]
     },
     "execution_count": 63,
     "metadata": {},
     "output_type": "execute_result"
    }
   ],
   "source": [
    "trans.fit(X_train)"
   ]
  },
  {
   "cell_type": "code",
   "execution_count": 64,
   "metadata": {},
   "outputs": [],
   "source": [
    "X_train_trans = trans.transform(X_train)"
   ]
  },
  {
   "cell_type": "code",
   "execution_count": 65,
   "metadata": {},
   "outputs": [],
   "source": [
    "X_test_trans = trans.transform(X_test)"
   ]
  },
  {
   "cell_type": "code",
   "execution_count": 66,
   "metadata": {},
   "outputs": [
    {
     "data": {
      "text/plain": [
       "LinearRegression()"
      ]
     },
     "execution_count": 66,
     "metadata": {},
     "output_type": "execute_result"
    }
   ],
   "source": [
    "lr = LinearRegression()\n",
    "lr.fit(X_train_trans, y_train)"
   ]
  },
  {
   "cell_type": "code",
   "execution_count": 67,
   "metadata": {},
   "outputs": [
    {
     "data": {
      "text/plain": [
       "0.4304715438520278"
      ]
     },
     "execution_count": 67,
     "metadata": {},
     "output_type": "execute_result"
    }
   ],
   "source": [
    "lr.score(X_test_trans,y_test)"
   ]
  },
  {
   "cell_type": "code",
   "execution_count": 70,
   "metadata": {},
   "outputs": [],
   "source": [
    "from sklearn.metrics import mean_squared_error, mean_absolute_error, r2_score"
   ]
  },
  {
   "cell_type": "code",
   "execution_count": 73,
   "metadata": {},
   "outputs": [
    {
     "data": {
      "text/plain": [
       "18851.105251963327"
      ]
     },
     "execution_count": 73,
     "metadata": {},
     "output_type": "execute_result"
    }
   ],
   "source": [
    "y_pred=lr.predict(X_test_trans)\n",
    "mean_squared_error(y_pred,y_test)"
   ]
  },
  {
   "cell_type": "code",
   "execution_count": 74,
   "metadata": {},
   "outputs": [
    {
     "data": {
      "text/plain": [
       "100.26405937566747"
      ]
     },
     "execution_count": 74,
     "metadata": {},
     "output_type": "execute_result"
    }
   ],
   "source": [
    "mean_absolute_error(y_test, y_pred)"
   ]
  },
  {
   "cell_type": "code",
   "execution_count": 75,
   "metadata": {},
   "outputs": [
    {
     "data": {
      "text/plain": [
       "0.4304715438520278"
      ]
     },
     "execution_count": 75,
     "metadata": {},
     "output_type": "execute_result"
    }
   ],
   "source": [
    "r2_score(y_test, y_pred)"
   ]
  },
  {
   "cell_type": "code",
   "execution_count": null,
   "metadata": {},
   "outputs": [],
   "source": []
  }
 ],
 "metadata": {
  "kernelspec": {
   "display_name": "Python 3",
   "language": "python",
   "name": "python3"
  },
  "language_info": {
   "codemirror_mode": {
    "name": "ipython",
    "version": 3
   },
   "file_extension": ".py",
   "mimetype": "text/x-python",
   "name": "python",
   "nbconvert_exporter": "python",
   "pygments_lexer": "ipython3",
   "version": "3.8.8"
  }
 },
 "nbformat": 4,
 "nbformat_minor": 4
}
