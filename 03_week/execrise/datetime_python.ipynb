{
 "cells": [
  {
   "cell_type": "markdown",
   "id": "sorted-carry",
   "metadata": {},
   "source": [
    "datetime.date\n",
    "datetime.time\n",
    "datetime.datetime\n",
    "datetime.timedelta"
   ]
  },
  {
   "cell_type": "code",
   "execution_count": 1,
   "id": "champion-freight",
   "metadata": {},
   "outputs": [],
   "source": [
    "import  datetime"
   ]
  },
  {
   "cell_type": "code",
   "execution_count": 2,
   "id": "graphic-attachment",
   "metadata": {},
   "outputs": [
    {
     "data": {
      "text/plain": [
       "datetime.date(2021, 5, 5)"
      ]
     },
     "execution_count": 2,
     "metadata": {},
     "output_type": "execute_result"
    }
   ],
   "source": [
    "datetime.date.today()"
   ]
  },
  {
   "cell_type": "code",
   "execution_count": 3,
   "id": "fancy-clinton",
   "metadata": {},
   "outputs": [
    {
     "data": {
      "text/plain": [
       "datetime.datetime(2021, 5, 5, 16, 45, 21, 188438)"
      ]
     },
     "execution_count": 3,
     "metadata": {},
     "output_type": "execute_result"
    }
   ],
   "source": [
    "datetime.datetime.now()"
   ]
  },
  {
   "cell_type": "code",
   "execution_count": 4,
   "id": "photographic-class",
   "metadata": {},
   "outputs": [
    {
     "data": {
      "text/plain": [
       "'2021-05-05 00:00:00'"
      ]
     },
     "execution_count": 4,
     "metadata": {},
     "output_type": "execute_result"
    }
   ],
   "source": [
    "#strftime \n",
    "datetime.date.today().strftime('%Y-%m-%d %H:%M:%S')"
   ]
  },
  {
   "cell_type": "code",
   "execution_count": 5,
   "id": "aboriginal-laser",
   "metadata": {},
   "outputs": [
    {
     "data": {
      "text/plain": [
       "'2021-05-05T16:45:33.058628'"
      ]
     },
     "execution_count": 5,
     "metadata": {},
     "output_type": "execute_result"
    }
   ],
   "source": [
    "d = datetime.datetime.today()\n",
    "d.isoformat()"
   ]
  },
  {
   "cell_type": "code",
   "execution_count": 6,
   "id": "radical-signature",
   "metadata": {},
   "outputs": [],
   "source": [
    "#turn time into timestamp"
   ]
  },
  {
   "cell_type": "code",
   "execution_count": 7,
   "id": "intermediate-lancaster",
   "metadata": {},
   "outputs": [
    {
     "data": {
      "text/plain": [
       "(datetime.date(2021, 5, 4), datetime.date(2021, 5, 5))"
      ]
     },
     "execution_count": 7,
     "metadata": {},
     "output_type": "execute_result"
    }
   ],
   "source": [
    "import time\n",
    "today=datetime.date.today()\n",
    "today.timetuple() # turn time into tuple.\n",
    "yesterday = today - datetime.timedelta(days=1)\n",
    "hours = today - datetime.timedelta(hours=1)\n",
    "yesterday, hours"
   ]
  },
  {
   "cell_type": "code",
   "execution_count": 19,
   "id": "lyric-bedroom",
   "metadata": {},
   "outputs": [
    {
     "data": {
      "text/plain": [
       "1617055200.0"
      ]
     },
     "execution_count": 19,
     "metadata": {},
     "output_type": "execute_result"
    }
   ],
   "source": [
    "time.mktime(today.timetuple()) # turn time into number. "
   ]
  },
  {
   "cell_type": "code",
   "execution_count": 20,
   "id": "complimentary-conference",
   "metadata": {},
   "outputs": [
    {
     "data": {
      "text/plain": [
       "datetime.date(2021, 3, 30)"
      ]
     },
     "execution_count": 20,
     "metadata": {},
     "output_type": "execute_result"
    }
   ],
   "source": [
    "#turn time to time\n",
    "datetime.date.fromtimestamp(1617055200.0)"
   ]
  },
  {
   "cell_type": "code",
   "execution_count": 24,
   "id": "hazardous-organization",
   "metadata": {
    "collapsed": true,
    "jupyter": {
     "outputs_hidden": true
    },
    "tags": []
   },
   "outputs": [
    {
     "ename": "NameError",
     "evalue": "name 'n' is not defined",
     "output_type": "error",
     "traceback": [
      "\u001b[0;31m---------------------------------------------------------------------------\u001b[0m",
      "\u001b[0;31mNameError\u001b[0m                                 Traceback (most recent call last)",
      "\u001b[0;32m<ipython-input-24-cea4f1a0437b>\u001b[0m in \u001b[0;36m<module>\u001b[0;34m\u001b[0m\n\u001b[1;32m      2\u001b[0m \u001b[0mt1\u001b[0m \u001b[0;34m=\u001b[0m \u001b[0mtime\u001b[0m\u001b[0;34m.\u001b[0m\u001b[0mtime\u001b[0m\u001b[0;34m(\u001b[0m\u001b[0;34m)\u001b[0m\u001b[0;34m\u001b[0m\u001b[0;34m\u001b[0m\u001b[0m\n\u001b[1;32m      3\u001b[0m \u001b[0ma\u001b[0m\u001b[0;34m=\u001b[0m \u001b[0;36m0\u001b[0m\u001b[0;34m\u001b[0m\u001b[0;34m\u001b[0m\u001b[0m\n\u001b[0;32m----> 4\u001b[0;31m \u001b[0;32mfor\u001b[0m \u001b[0mi\u001b[0m \u001b[0;32min\u001b[0m \u001b[0mrange\u001b[0m\u001b[0;34m(\u001b[0m\u001b[0mn\u001b[0m\u001b[0;34m)\u001b[0m\u001b[0;34m:\u001b[0m\u001b[0;34m\u001b[0m\u001b[0;34m\u001b[0m\u001b[0m\n\u001b[0m\u001b[1;32m      5\u001b[0m     \u001b[0ma\u001b[0m\u001b[0;34m+=\u001b[0m\u001b[0;36m1\u001b[0m\u001b[0;34m\u001b[0m\u001b[0;34m\u001b[0m\u001b[0m\n\u001b[1;32m      6\u001b[0m     \u001b[0mt2\u001b[0m \u001b[0;34m=\u001b[0m \u001b[0mtime\u001b[0m\u001b[0;34m.\u001b[0m\u001b[0mtime\u001b[0m\u001b[0;34m(\u001b[0m\u001b[0;34m)\u001b[0m\u001b[0;34m\u001b[0m\u001b[0;34m\u001b[0m\u001b[0m\n",
      "\u001b[0;31mNameError\u001b[0m: name 'n' is not defined"
     ]
    }
   ],
   "source": [
    "# time difference, to cal the time function used.\n",
    "t1 = time.time()\n",
    "a= 0\n",
    "for i in range(n):\n",
    "    a+=1\n",
    "    t2 = time.time()\n",
    "    print(t2-t1)"
   ]
  },
  {
   "cell_type": "code",
   "execution_count": 25,
   "id": "compound-tract",
   "metadata": {},
   "outputs": [
    {
     "data": {
      "text/plain": [
       "'Tue Mar 30 20:45:45 2021'"
      ]
     },
     "execution_count": 25,
     "metadata": {},
     "output_type": "execute_result"
    }
   ],
   "source": [
    "time.asctime()\n",
    "time.ctime() # get time now"
   ]
  },
  {
   "cell_type": "code",
   "execution_count": 26,
   "id": "surgical-class",
   "metadata": {},
   "outputs": [
    {
     "data": {
      "text/plain": [
       "'Mon Aug 13 11:42:31 2018'"
      ]
     },
     "execution_count": 26,
     "metadata": {},
     "output_type": "execute_result"
    }
   ],
   "source": [
    "t = (2018,8,13,11,42,31,0,0,0)\n",
    "time.asctime(t)"
   ]
  },
  {
   "cell_type": "code",
   "execution_count": 32,
   "id": "dynamic-bennett",
   "metadata": {},
   "outputs": [],
   "source": [
    "t = time.localtime() # get local time in the tuple form."
   ]
  },
  {
   "cell_type": "code",
   "execution_count": 33,
   "id": "supposed-violin",
   "metadata": {},
   "outputs": [
    {
     "data": {
      "text/plain": [
       "2021"
      ]
     },
     "execution_count": 33,
     "metadata": {},
     "output_type": "execute_result"
    }
   ],
   "source": [
    "t[0] get the year from output t."
   ]
  },
  {
   "cell_type": "code",
   "execution_count": 35,
   "id": "configured-passport",
   "metadata": {},
   "outputs": [
    {
     "name": "stdout",
     "output_type": "stream",
     "text": [
      "0\n",
      "1.0000438690185547\n",
      "1\n",
      "1.0011460781097412\n",
      "2\n",
      "1.0038518905639648\n"
     ]
    }
   ],
   "source": [
    "for i in range(3):\n",
    "    print(i)\n",
    "    t1 = time.time()\n",
    "    time.sleep(1) # stop time. \n",
    "    t2 = time.time()\n",
    "    print(t2-t1)"
   ]
  },
  {
   "cell_type": "code",
   "execution_count": null,
   "id": "duplicate-moore",
   "metadata": {},
   "outputs": [],
   "source": []
  }
 ],
 "metadata": {
  "kernelspec": {
   "display_name": "Python 3",
   "language": "python",
   "name": "python3"
  },
  "language_info": {
   "codemirror_mode": {
    "name": "ipython",
    "version": 3
   },
   "file_extension": ".py",
   "mimetype": "text/x-python",
   "name": "python",
   "nbconvert_exporter": "python",
   "pygments_lexer": "ipython3",
   "version": "3.8.8"
  }
 },
 "nbformat": 4,
 "nbformat_minor": 5
}
