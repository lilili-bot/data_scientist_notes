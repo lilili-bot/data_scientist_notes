{
 "cells": [
  {
   "cell_type": "markdown",
   "id": "ranking-expert",
   "metadata": {},
   "source": [
    "特征值、特征向量在线性代数中有一个非常重要的作用：对角化。矩阵对角化后有许多好处.\n",
    "\n",
    "如果有：\n",
    "\n",
    "A\\simeq \\Lambda\\iff A=P^{-1}\\Lambda P\n",
    "\n",
    "那么马上可以知道：\n",
    "\n",
    "特征值相同。\n",
    "\n",
    "行列式相同，即：\n",
    "|A|=|\\Lambda|\n",
    "\n",
    "矩阵A有无数的相似矩阵，对角阵是其中“好”的相似矩阵：\n",
    "\n",
    "<img src = \"image/ev6.png\">"
   ]
  },
  {
   "cell_type": "code",
   "execution_count": null,
   "id": "natural-access",
   "metadata": {},
   "outputs": [],
   "source": []
  }
 ],
 "metadata": {
  "kernelspec": {
   "display_name": "Python 3",
   "language": "python",
   "name": "python3"
  },
  "language_info": {
   "codemirror_mode": {
    "name": "ipython",
    "version": 3
   },
   "file_extension": ".py",
   "mimetype": "text/x-python",
   "name": "python",
   "nbconvert_exporter": "python",
   "pygments_lexer": "ipython3",
   "version": "3.8.2"
  }
 },
 "nbformat": 4,
 "nbformat_minor": 5
}
