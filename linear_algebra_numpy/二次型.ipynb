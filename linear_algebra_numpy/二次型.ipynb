{
 "cells": [
  {
   "cell_type": "markdown",
   "id": "moral-investigation",
   "metadata": {},
   "source": [
    "把含有n个变量的二次齐次函数：\n",
    "\n",
    "\\begin{aligned}\n",
    "    f(x_1,x_2,\\cdots,x_n)\n",
    "        &=a_{11}x_1^2+a_{22}x_2^2+\\cdots+a_{nn}x_n^2\\\\\n",
    "        &+2a_{12}x_1x_2+2a_{13}x_1x_3+\\cdots+2a_{n-1,n}x_{n-1}x_n\n",
    "\\end{aligned}\n",
    "或者二次齐次方程称为二次型。\n",
    "<img src=\"image/change of basis.png\">\n",
    "<img src=\"image/e2.png\">\n",
    "<img src=\"image/e3.png\">\n",
    "<img src=\"image/e4.png\">\n",
    "\n",
    "圆的二次型矩阵是这样的：\n",
    "<img src=\"image/e9.png\">\n",
    "改变一下二次型矩阵：\n",
    "<img src=\"image/e10.png\">\n",
    "哈，原来椭圆和圆之间是线性关系呐（通过矩阵变换就可以从圆变为椭圆）。\n",
    "\n",
    "继续\n",
    "<img src=\"image/e11.png\">\n",
    "咦，双曲线和圆之间也是线性关系。\n",
    "\n",
    "其实圆、椭圆、双曲线之间关系很紧密的，统称为圆锥曲线，都是圆锥体和平面的交线\n",
    "\n",
    "<img src=\"image/e12.png\">\n",
    "\n",
    "从上面动图可看出，一个平面在圆锥体上运动，可以得到圆、椭圆、双曲线，这也是它们之间具有线性关系的来源。\n",
    "\n",
    "看着不是线性关系的，或许只是因为维度不够高。"
   ]
  },
  {
   "cell_type": "markdown",
   "id": "loose-orientation",
   "metadata": {},
   "source": [
    "对称矩阵的一个应用--二次型\n",
    "\n",
    "任给一个二次型就能唯一的确定一个对称矩阵，反之，任给一个对称矩阵，也可唯一的确定一个二次型。因此，我们把对称矩阵A叫做二次型f的矩阵。对称矩阵A的秩就叫做二次型的秩。"
   ]
  },
  {
   "cell_type": "markdown",
   "id": "athletic-concord",
   "metadata": {},
   "source": [
    "性质一\n",
    "\n",
    "可对角化，且特征值为实数\n",
    "\n",
    "性质二\n",
    "\n",
    "$设\\lambda_1,\\lambda_2是对称矩阵A的两个特征值，\\boldsymbol{p_1},\\boldsymbol{p_2}是对应的特征向量。若\\lambda_1\\neq \\lambda_2,则\\boldsymbol{p_1}与\\boldsymbol{p_2}正交。$"
   ]
  },
  {
   "cell_type": "markdown",
   "id": "balanced-carpet",
   "metadata": {},
   "source": [
    "如果二次型只有二次项：\n",
    "\n",
    "$k_1x_1^2+k_2x_2^2+\\cdots+k_nx_n^2$\n",
    "\n",
    "则称为二次型的标准型。\n",
    "\n",
    "如果标准型的系数只在1,-1,0三个数中取值，也就是上式变为：\n",
    "\n",
    "$y_1^2+\\cdots+y_p^2-y_{p+1}^2-\\cdots-y_r^2$\n",
    "\n",
    "任给二次型f，总有正交变换$\\boldsymbol{x}=P\\boldsymbol{y}，使f化为标准型：$\n",
    "\n",
    "$f=\\lambda_1y_1^2+\\cdots+\\lambda_ny_n^2$\n",
    "\n",
    "$其中\\lambda_1,\\cdots,\\lambda_n是f的矩阵A的特征值。$\n",
    "\n",
    "则上式为二次型的规范型。\n",
    "\n",
    "标准型对应的矩阵就是：\n",
    "\n",
    "\n",
    "$\\Lambda=\n",
    "\\begin{pmatrix}\n",
    "    k_1&0&\\cdots&0\\\\\n",
    "    0&k_2&\\cdots&0\\\\\n",
    "    \\vdots&\\vdots&\\quad&\\vdots\\\\\n",
    "    0&0&\\cdots&k_n\n",
    "\\end{pmatrix}$\n",
    "\n",
    "规范型的话，也是对角阵，只是在对角线上只有1,-1,0。\n",
    "\n",
    "如果，通过“某种方法”，让：\n",
    "\n",
    "普通二次型\\xrightarrow{\\quad 某种方法 \\quad}标准型\n",
    "\n",
    "这样做的结果从几何上看，有可能不会发生形变，只是好像从“歪”的变“正”的：\n",
    "<img src=\"image/e20.png\">\n",
    "有时候可能会发生形变，但是二次曲线（面）的类型不会改变（下面从椭圆变成圆，本来圆就是椭圆的特例）：\n",
    "<img src=\"image/e13.png\">\n",
    "\n",
    "上文提到的“某种方法”，数学上称为“标准化”：\n",
    "\n",
    "普通二次型\\xrightarrow{\\quad 标准化 \\quad}标准型\n",
    "\n",
    "从代数上讲，就是有某对称矩阵A，通过标准化：\n",
    "\n",
    "\\boldsymbol{x}^\\mathrm{T}A\\boldsymbol{x}\\xrightarrow{\\quad 标准化 \\quad}\n",
    "\\boldsymbol{y}^\\mathrm{T}\\Lambda\\boldsymbol{y}\n",
    "\n",
    "标准化的方法\n",
    "通过合同矩阵，对二次型进行基变换：\n",
    "\n",
    "$普通二次型\\xrightarrow{\\quad 找到合适的基 \\quad}标准型$\n",
    "\n",
    "所谓的合适的基，不止一个，所以标准型并不唯一。\n",
    "\n",
    "下节课将介绍两种标准化的方法：\n",
    "\n",
    "正交标准化\n",
    "配方法化标准型"
   ]
  },
  {
   "cell_type": "markdown",
   "id": "committed-backup",
   "metadata": {},
   "source": [
    "二次型\n",
    "\n",
    "$f=2 x_{1}^{2}+3 x_{2}^{2}+3 x_{3}^{2}+4 x_{2} x_{3}$\n",
    "\n",
    "的标准型为\n",
    "\n",
    "根据二次型，f的二次型矩阵为：\n",
    "\n",
    "$A=\\begin{pmatrix}2&0&0\\\\0&3&2\\\\0&2&3\\end{pmatrix}$\n",
    "\n",
    "$根据特征值特征向量求解，即求|A-\\lambda E|=0的根：$\n",
    "\n",
    "$|\\lambda E-A|=\\begin{vmatrix}\\lambda-2&0&0\\\\0&\\lambda-3&-2\\\\0&-2&\\lambda-3\\end{vmatrix}=(\\lambda-1)(\\lambda-2)(\\lambda-5)$\n",
    "\n",
    "$所以特征值为\\lambda_{1}=1, \\lambda_{2}=2,\\lambda_{3}=5$\n",
    "\n",
    "再依据二次型的标准型可知，标准型即特征值为系数，因此f的标准型为\n",
    "\n",
    "$y_1^2+2y_2^2+5y_3^2$"
   ]
  },
  {
   "cell_type": "code",
   "execution_count": 8,
   "id": "leading-humidity",
   "metadata": {},
   "outputs": [
    {
     "data": {
      "text/plain": [
       "matrix([[ 0, -1,  1],\n",
       "        [-1,  0,  1],\n",
       "        [ 1,  1,  0]])"
      ]
     },
     "execution_count": 8,
     "metadata": {},
     "output_type": "execute_result"
    }
   ],
   "source": [
    "import numpy as np\n",
    "n = np.matrix([[0,-1,1],[-1,0,1],[1,1,0]])\n",
    "n"
   ]
  },
  {
   "cell_type": "code",
   "execution_count": 9,
   "id": "simplified-combat",
   "metadata": {},
   "outputs": [
    {
     "data": {
      "text/plain": [
       "array([ 1., -2.,  1.])"
      ]
     },
     "execution_count": 9,
     "metadata": {},
     "output_type": "execute_result"
    }
   ],
   "source": [
    "np.linalg.eigvals(n)"
   ]
  },
  {
   "cell_type": "code",
   "execution_count": 11,
   "id": "logical-shade",
   "metadata": {},
   "outputs": [
    {
     "data": {
      "text/plain": [
       "array([ 3., -7.])"
      ]
     },
     "execution_count": 11,
     "metadata": {},
     "output_type": "execute_result"
    }
   ],
   "source": [
    "np.linalg.eigvals(np.matrix([[1,-4],[-4,-5]]))"
   ]
  },
  {
   "cell_type": "code",
   "execution_count": 15,
   "id": "social-apollo",
   "metadata": {},
   "outputs": [],
   "source": [
    "lamda1, lamda2 = np.linalg.eigvals(np.matrix([[57.2,45.2],[45.2, 36.7]]))"
   ]
  },
  {
   "cell_type": "code",
   "execution_count": 45,
   "id": "prescription-decade",
   "metadata": {},
   "outputs": [],
   "source": [
    "a = np.matrix([[2,0,0],[0,3,2],[0,2,3]])"
   ]
  },
  {
   "cell_type": "code",
   "execution_count": 46,
   "id": "secondary-yemen",
   "metadata": {},
   "outputs": [
    {
     "data": {
      "text/plain": [
       "matrix([[2, 0, 0],\n",
       "        [0, 3, 2],\n",
       "        [0, 2, 3]])"
      ]
     },
     "execution_count": 46,
     "metadata": {},
     "output_type": "execute_result"
    }
   ],
   "source": [
    "a"
   ]
  },
  {
   "cell_type": "code",
   "execution_count": 58,
   "id": "orange-russell",
   "metadata": {},
   "outputs": [
    {
     "data": {
      "text/plain": [
       "(5.0, 1.0000000000000004, 2.0)"
      ]
     },
     "execution_count": 58,
     "metadata": {},
     "output_type": "execute_result"
    }
   ],
   "source": [
    "lamada1, lamada2, lamada3 = np.linalg.eigvals(a)\n",
    "lamada1,lamada2,lamada3"
   ]
  },
  {
   "cell_type": "markdown",
   "id": "affiliated-decade",
   "metadata": {},
   "source": [
    "性质一\n",
    "\n",
    "可对角化，且特征值为实数\n",
    "\n",
    "性质二\n",
    "\n",
    "$设\\lambda_1,\\lambda_2是对称矩阵A的两个特征值，\\boldsymbol{p_1},\\boldsymbol{p_2}是对应的特征向量。若\\lambda_1\\neq \\lambda_2,则\\boldsymbol{p_1}与\\boldsymbol{p_2}正交。$"
   ]
  },
  {
   "cell_type": "markdown",
   "id": "perfect-digest",
   "metadata": {},
   "source": [
    "对称矩阵A为正定的充分必要条件是：A的特征值为正。"
   ]
  },
  {
   "cell_type": "code",
   "execution_count": 126,
   "id": "independent-plant",
   "metadata": {},
   "outputs": [
    {
     "data": {
      "text/plain": [
       "(-1.0, 2.0, 2.0)"
      ]
     },
     "execution_count": 126,
     "metadata": {},
     "output_type": "execute_result"
    }
   ],
   "source": [
    "a,b,c = np.linalg.eigvals(np.matrix([[-2,1,1],[0,2,0],[-4,1,3]])\n",
    "                         )\n",
    "a,b,c"
   ]
  },
  {
   "cell_type": "code",
   "execution_count": 127,
   "id": "social-animal",
   "metadata": {},
   "outputs": [],
   "source": [
    "eigen = np.matrix([[1,0,0],[0,1,0],[0,0,1]])"
   ]
  },
  {
   "cell_type": "code",
   "execution_count": 131,
   "id": "conceptual-momentum",
   "metadata": {},
   "outputs": [],
   "source": [
    "trans1 = np.matrix([[-2,1,1],[0,2,0],[-4,1,3]])-b*eigen"
   ]
  },
  {
   "cell_type": "code",
   "execution_count": 133,
   "id": "broad-internship",
   "metadata": {},
   "outputs": [
    {
     "data": {
      "text/plain": [
       "matrix([[0., 0., 0.]])"
      ]
     },
     "execution_count": 133,
     "metadata": {},
     "output_type": "execute_result"
    }
   ],
   "source": [
    "trans1.dot([1,4,0])"
   ]
  },
  {
   "cell_type": "code",
   "execution_count": 99,
   "id": "induced-suspension",
   "metadata": {},
   "outputs": [],
   "source": [
    "trans2 = np.matrix([[2,2,-2],[2,5,-4],[-2,-4,5]])-b*eigen"
   ]
  },
  {
   "cell_type": "code",
   "execution_count": 105,
   "id": "foster-market",
   "metadata": {},
   "outputs": [
    {
     "data": {
      "text/plain": [
       "matrix([[ 0.0000000e+00,  0.0000000e+00, -4.4408921e-16]])"
      ]
     },
     "execution_count": 105,
     "metadata": {},
     "output_type": "execute_result"
    }
   ],
   "source": [
    "trans3.dot([1,2,2])"
   ]
  },
  {
   "cell_type": "code",
   "execution_count": 104,
   "id": "early-master",
   "metadata": {},
   "outputs": [],
   "source": [
    "trans3 = np.matrix([2,-2,0],[-2,1,-2],[0,-2,0])-c*eigen"
   ]
  },
  {
   "cell_type": "code",
   "execution_count": 114,
   "id": "concerned-hazard",
   "metadata": {},
   "outputs": [
    {
     "data": {
      "text/plain": [
       "(0.9999999999999991, 9.999999999999996, 0.9999999999999999)"
      ]
     },
     "execution_count": 114,
     "metadata": {},
     "output_type": "execute_result"
    }
   ],
   "source": [
    "a,b,c"
   ]
  },
  {
   "cell_type": "code",
   "execution_count": 135,
   "id": "animal-latitude",
   "metadata": {},
   "outputs": [],
   "source": [
    "import scipy.linalg as sl"
   ]
  },
  {
   "cell_type": "code",
   "execution_count": 147,
   "id": "answering-australian",
   "metadata": {},
   "outputs": [],
   "source": [
    "a = np.array([[np.sqrt(2)/2,1,0],[np.sqrt(2)/2,0,0],[0,0,1]])"
   ]
  },
  {
   "cell_type": "code",
   "execution_count": 151,
   "id": "fleet-scoop",
   "metadata": {},
   "outputs": [],
   "source": [
    "a = np.matrix([[np.sqrt(2)/2,1,0],[np.sqrt(2)/2,0,0],[0,0,1]])"
   ]
  },
  {
   "cell_type": "code",
   "execution_count": 152,
   "id": "burning-butter",
   "metadata": {},
   "outputs": [
    {
     "data": {
      "text/plain": [
       "array([[-0.70710678,  0.        , -0.70710678],\n",
       "       [-0.70710678,  0.        ,  0.70710678],\n",
       "       [ 0.        ,  1.        ,  0.        ]])"
      ]
     },
     "execution_count": 152,
     "metadata": {},
     "output_type": "execute_result"
    }
   ],
   "source": [
    "sl.orth(a.T)"
   ]
  },
  {
   "cell_type": "code",
   "execution_count": 145,
   "id": "intermediate-funds",
   "metadata": {},
   "outputs": [],
   "source": [
    "from sympy import *"
   ]
  },
  {
   "cell_type": "code",
   "execution_count": 153,
   "id": "former-glossary",
   "metadata": {},
   "outputs": [
    {
     "ename": "AttributeError",
     "evalue": "'matrix' object has no attribute 'is_zero_matrix'",
     "output_type": "error",
     "traceback": [
      "\u001b[0;31m---------------------------------------------------------------------------\u001b[0m",
      "\u001b[0;31mAttributeError\u001b[0m                            Traceback (most recent call last)",
      "\u001b[0;32m<ipython-input-153-67e16674feb0>\u001b[0m in \u001b[0;36m<module>\u001b[0;34m\u001b[0m\n\u001b[0;32m----> 1\u001b[0;31m \u001b[0mGramSchmidt\u001b[0m\u001b[0;34m(\u001b[0m\u001b[0ma\u001b[0m\u001b[0;34m.\u001b[0m\u001b[0mT\u001b[0m\u001b[0;34m,\u001b[0m\u001b[0;32mTrue\u001b[0m\u001b[0;34m)\u001b[0m\u001b[0;34m\u001b[0m\u001b[0;34m\u001b[0m\u001b[0m\n\u001b[0m",
      "\u001b[0;32m~/opt/anaconda3/lib/python3.8/site-packages/sympy/matrices/dense.py\u001b[0m in \u001b[0;36mGramSchmidt\u001b[0;34m(vlist, orthonormal)\u001b[0m\n\u001b[1;32m    988\u001b[0m     \u001b[0;34m.\u001b[0m\u001b[0;34m.\u001b[0m \u001b[0;34m[\u001b[0m\u001b[0;36m1\u001b[0m\u001b[0;34m]\u001b[0m \u001b[0mhttps\u001b[0m\u001b[0;34m:\u001b[0m\u001b[0;34m//\u001b[0m\u001b[0men\u001b[0m\u001b[0;34m.\u001b[0m\u001b[0mwikipedia\u001b[0m\u001b[0;34m.\u001b[0m\u001b[0morg\u001b[0m\u001b[0;34m/\u001b[0m\u001b[0mwiki\u001b[0m\u001b[0;34m/\u001b[0m\u001b[0mGram\u001b[0m\u001b[0;34m%\u001b[0m\u001b[0mE2\u001b[0m\u001b[0;34m%\u001b[0m\u001b[0;36m80\u001b[0m\u001b[0;34m%\u001b[0m\u001b[0;36m93\u001b[0m\u001b[0mSchmidt_process\u001b[0m\u001b[0;34m\u001b[0m\u001b[0;34m\u001b[0m\u001b[0m\n\u001b[1;32m    989\u001b[0m     \"\"\"\n\u001b[0;32m--> 990\u001b[0;31m     return MutableDenseMatrix.orthogonalize(\n\u001b[0m\u001b[1;32m    991\u001b[0m         \u001b[0;34m*\u001b[0m\u001b[0mvlist\u001b[0m\u001b[0;34m,\u001b[0m \u001b[0mnormalize\u001b[0m\u001b[0;34m=\u001b[0m\u001b[0morthonormal\u001b[0m\u001b[0;34m,\u001b[0m \u001b[0mrankcheck\u001b[0m\u001b[0;34m=\u001b[0m\u001b[0;32mTrue\u001b[0m\u001b[0;34m\u001b[0m\u001b[0;34m\u001b[0m\u001b[0m\n\u001b[1;32m    992\u001b[0m     )\n",
      "\u001b[0;32m~/opt/anaconda3/lib/python3.8/site-packages/sympy/matrices/matrices.py\u001b[0m in \u001b[0;36morthogonalize\u001b[0;34m(cls, *vecs, **kwargs)\u001b[0m\n\u001b[1;32m    350\u001b[0m     \u001b[0;31m# classmethods in Python 3.6.\u001b[0m\u001b[0;34m\u001b[0m\u001b[0;34m\u001b[0m\u001b[0;34m\u001b[0m\u001b[0m\n\u001b[1;32m    351\u001b[0m     \u001b[0;32mdef\u001b[0m \u001b[0morthogonalize\u001b[0m\u001b[0;34m(\u001b[0m\u001b[0mcls\u001b[0m\u001b[0;34m,\u001b[0m \u001b[0;34m*\u001b[0m\u001b[0mvecs\u001b[0m\u001b[0;34m,\u001b[0m \u001b[0;34m**\u001b[0m\u001b[0mkwargs\u001b[0m\u001b[0;34m)\u001b[0m\u001b[0;34m:\u001b[0m\u001b[0;34m\u001b[0m\u001b[0;34m\u001b[0m\u001b[0m\n\u001b[0;32m--> 352\u001b[0;31m         \u001b[0;32mreturn\u001b[0m \u001b[0m_orthogonalize\u001b[0m\u001b[0;34m(\u001b[0m\u001b[0mcls\u001b[0m\u001b[0;34m,\u001b[0m \u001b[0;34m*\u001b[0m\u001b[0mvecs\u001b[0m\u001b[0;34m,\u001b[0m \u001b[0;34m**\u001b[0m\u001b[0mkwargs\u001b[0m\u001b[0;34m)\u001b[0m\u001b[0;34m\u001b[0m\u001b[0;34m\u001b[0m\u001b[0m\n\u001b[0m\u001b[1;32m    353\u001b[0m \u001b[0;34m\u001b[0m\u001b[0m\n\u001b[1;32m    354\u001b[0m     \u001b[0mcolumnspace\u001b[0m\u001b[0;34m.\u001b[0m\u001b[0m__doc__\u001b[0m   \u001b[0;34m=\u001b[0m \u001b[0m_columnspace\u001b[0m\u001b[0;34m.\u001b[0m\u001b[0m__doc__\u001b[0m\u001b[0;34m\u001b[0m\u001b[0;34m\u001b[0m\u001b[0m\n",
      "\u001b[0;32m~/opt/anaconda3/lib/python3.8/site-packages/sympy/matrices/subspaces.py\u001b[0m in \u001b[0;36m_orthogonalize\u001b[0;34m(cls, normalize, rankcheck, *vecs)\u001b[0m\n\u001b[1;32m    171\u001b[0m     \u001b[0mvecs\u001b[0m \u001b[0;34m=\u001b[0m \u001b[0mlist\u001b[0m\u001b[0;34m(\u001b[0m\u001b[0mvecs\u001b[0m\u001b[0;34m)\u001b[0m \u001b[0;31m# make sure we start with a non-zero vector\u001b[0m\u001b[0;34m\u001b[0m\u001b[0;34m\u001b[0m\u001b[0m\n\u001b[1;32m    172\u001b[0m \u001b[0;34m\u001b[0m\u001b[0m\n\u001b[0;32m--> 173\u001b[0;31m     \u001b[0;32mwhile\u001b[0m \u001b[0mlen\u001b[0m\u001b[0;34m(\u001b[0m\u001b[0mvecs\u001b[0m\u001b[0;34m)\u001b[0m \u001b[0;34m>\u001b[0m \u001b[0;36m0\u001b[0m \u001b[0;32mand\u001b[0m \u001b[0mvecs\u001b[0m\u001b[0;34m[\u001b[0m\u001b[0;36m0\u001b[0m\u001b[0;34m]\u001b[0m\u001b[0;34m.\u001b[0m\u001b[0mis_zero_matrix\u001b[0m\u001b[0;34m:\u001b[0m\u001b[0;34m\u001b[0m\u001b[0;34m\u001b[0m\u001b[0m\n\u001b[0m\u001b[1;32m    174\u001b[0m         \u001b[0;32mif\u001b[0m \u001b[0mrankcheck\u001b[0m \u001b[0;32mis\u001b[0m \u001b[0;32mFalse\u001b[0m\u001b[0;34m:\u001b[0m\u001b[0;34m\u001b[0m\u001b[0;34m\u001b[0m\u001b[0m\n\u001b[1;32m    175\u001b[0m             \u001b[0;32mdel\u001b[0m \u001b[0mvecs\u001b[0m\u001b[0;34m[\u001b[0m\u001b[0;36m0\u001b[0m\u001b[0;34m]\u001b[0m\u001b[0;34m\u001b[0m\u001b[0;34m\u001b[0m\u001b[0m\n",
      "\u001b[0;31mAttributeError\u001b[0m: 'matrix' object has no attribute 'is_zero_matrix'"
     ]
    }
   ],
   "source": [
    "GramSchmidt(a.T,True)"
   ]
  },
  {
   "cell_type": "code",
   "execution_count": null,
   "id": "fluid-snake",
   "metadata": {},
   "outputs": [],
   "source": []
  }
 ],
 "metadata": {
  "kernelspec": {
   "display_name": "Python 3",
   "language": "python",
   "name": "python3"
  },
  "language_info": {
   "codemirror_mode": {
    "name": "ipython",
    "version": 3
   },
   "file_extension": ".py",
   "mimetype": "text/x-python",
   "name": "python",
   "nbconvert_exporter": "python",
   "pygments_lexer": "ipython3",
   "version": "3.8.2"
  }
 },
 "nbformat": 4,
 "nbformat_minor": 5
}
