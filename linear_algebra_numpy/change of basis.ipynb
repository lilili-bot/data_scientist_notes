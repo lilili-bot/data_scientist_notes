{
 "cells": [
  {
   "cell_type": "markdown",
   "id": "peaceful-shuttle",
   "metadata": {},
   "source": [
    "$P\\boldsymbol{x_{e'}}=\\boldsymbol{x_e}\\qquad P^{-1}\\boldsymbol{x_{e}}=\\boldsymbol{x_{e'}}$"
   ]
  },
  {
   "cell_type": "markdown",
   "id": "taken-coordinator",
   "metadata": {},
   "source": [
    "P就是过渡矩阵\n",
    "\n",
    "$P的构成很简单，只需知道\\boldsymbol{e_1'},\\boldsymbol{e_2'}在\\boldsymbol{e_1},\\boldsymbol{e_2}下的坐标，并用此坐标作为列向量就可以构造出过渡矩阵：$\n",
    "\n",
    "$P=(\\boldsymbol{e_1'},\\boldsymbol{e_2'})$"
   ]
  },
  {
   "cell_type": "markdown",
   "id": "considerable-mileage",
   "metadata": {},
   "source": [
    "$Q^{-1}P\\boldsymbol{x_{e'}}=\\boldsymbol{x_{e''}}$"
   ]
  },
  {
   "cell_type": "markdown",
   "id": "happy-martin",
   "metadata": {},
   "source": [
    "# 不同基下的同一个映射\n",
    "<img src=\"image/diff1.png\">\n",
    "<img src=\"image/diff2.png\">\n",
    "<img src=\"image/diff3.png\">\n",
    "<img src=\"image/diff4.png\">\n",
    "<img src=\"image/diff5.png\">\n",
    "多解释一句，可能有同学会觉得：\n",
    "\n",
    "$B=QAP^{-1}$\n",
    "\n",
    "但是上述图示实际上代表了一个复合函数：\n",
    "\n",
    "$P^{-1}(A(Q(\\boldsymbol{x}_{e'})))=\\boldsymbol{y}_{e''}$\n",
    "\n",
    "因此是：\n",
    "\n",
    "$B=P^{-1}AQ$"
   ]
  },
  {
   "cell_type": "markdown",
   "id": "sonic-breed",
   "metadata": {},
   "source": [
    "# 2 矩阵等价\n",
    "\n",
    "因为：\n",
    "\n",
    "B=PAQ\n",
    "\n",
    "所以，A和PAQ实际上表示的是同一个线性映射：\n",
    "<img src=\"image/diff6.png\">\n",
    "\n",
    "数学上称这两者为等价矩阵，记作：\n",
    "\n",
    "$A\\sim PAQ$\n",
    "\n"
   ]
  },
  {
   "cell_type": "markdown",
   "id": "brilliant-electronics",
   "metadata": {},
   "source": [
    "A,B为同型矩阵，A,B等价的充要条件为：\n",
    "\n",
    "$A\\sim B\\iff rank(A)=rank(B)$"
   ]
  },
  {
   "cell_type": "markdown",
   "id": "graduate-turkey",
   "metadata": {},
   "source": [
    "# 相似矩阵\n",
    "\n",
    "$如果是\\boldsymbol{e_1'},\\boldsymbol{e_2'}基往\\boldsymbol{e_1'},\\boldsymbol{e_2'}基的映射，那么怎么求B：$\n",
    "<img src=\"image/diff7.png\">\n",
    "<img src=\"image/diff8.png\">\n",
    "<img src=\"image/diff9.png\">\n",
    "\n",
    "因此：\n",
    "\n",
    "$B=P^{-1}AP$\n",
    "\n",
    "此时，A和B是特殊的等价矩阵，数学上称这两者为相似矩阵：\n",
    "\n",
    "设A,B都是n阶矩阵，若有可逆矩阵P，使：\n",
    "\n",
    "$P^{-1}AP=B$\n",
    "\n",
    "则称P为相似变换矩阵，称B是A的相似矩阵，记作：\n",
    "\n",
    "$A\\simeq B$\n",
    "\n",
    "显然，相似矩阵必然也是等价矩阵。"
   ]
  },
  {
   "cell_type": "code",
   "execution_count": 26,
   "id": "marked-baseball",
   "metadata": {},
   "outputs": [],
   "source": [
    "import numpy as np"
   ]
  },
  {
   "cell_type": "markdown",
   "id": "regulation-female",
   "metadata": {},
   "source": [
    "之前我们说过，用于基变换的过渡矩阵是满秩矩阵，所以等价矩阵的定义如下：\n",
    "\n",
    "$假设有两个\\displaystyle m\\times n的矩阵，记作A和B。当且仅当存在两个可逆的方块矩阵： \\displaystyle m\\times m的矩阵P以及\\displaystyle n\\times n的矩阵Q，使得：$\n",
    "B=PAQ\n",
    "此时，两者等价，记作：\n",
    "$A\\sim B$"
   ]
  },
  {
   "cell_type": "code",
   "execution_count": 3,
   "id": "scheduled-signature",
   "metadata": {},
   "outputs": [],
   "source": [
    "m_e1 = [1,1]"
   ]
  },
  {
   "cell_type": "code",
   "execution_count": 23,
   "id": "statutory-edition",
   "metadata": {},
   "outputs": [
    {
     "data": {
      "text/plain": [
       "matrix([[0.        , 1.41421356]])"
      ]
     },
     "execution_count": 23,
     "metadata": {},
     "output_type": "execute_result"
    }
   ],
   "source": [
    "A = np.matrix([[np.sqrt(2)/2,-np.sqrt(2)/2],[np.sqrt(2)/2,np.sqrt(2)/\n",
    "                                             2]])\n",
    "M_a = [1,1]\n",
    "m_e = A.dot(M_a)\n",
    "m_e"
   ]
  },
  {
   "cell_type": "code",
   "execution_count": null,
   "id": "deluxe-minnesota",
   "metadata": {},
   "outputs": [],
   "source": []
  },
  {
   "cell_type": "code",
   "execution_count": 25,
   "id": "devoted-rhythm",
   "metadata": {},
   "outputs": [
    {
     "data": {
      "text/plain": [
       "matrix([[2, 1]])"
      ]
     },
     "execution_count": 25,
     "metadata": {},
     "output_type": "execute_result"
    }
   ],
   "source": [
    "B = np.matrix([[2,0],[0,1]])\n",
    "n_b = [1,1]\n",
    "n_e = B.dot(n_b)\n",
    "n_e"
   ]
  },
  {
   "cell_type": "code",
   "execution_count": 20,
   "id": "printable-lucas",
   "metadata": {},
   "outputs": [
    {
     "data": {
      "text/plain": [
       "matrix([[7.],\n",
       "        [3.]])"
      ]
     },
     "execution_count": 20,
     "metadata": {},
     "output_type": "execute_result"
    }
   ],
   "source": [
    "q_inv.dot(x_e.T)"
   ]
  },
  {
   "cell_type": "code",
   "execution_count": 24,
   "id": "bigger-discount",
   "metadata": {},
   "outputs": [
    {
     "data": {
      "text/plain": [
       "matrix([[1., 2.],\n",
       "        [0., 1.]])"
      ]
     },
     "execution_count": 24,
     "metadata": {},
     "output_type": "execute_result"
    }
   ],
   "source": [
    "q_inv = np.linalg.inv(q)\n",
    "q_inv"
   ]
  },
  {
   "cell_type": "code",
   "execution_count": 25,
   "id": "cooperative-bolivia",
   "metadata": {},
   "outputs": [],
   "source": [
    "matrix_trans = q_inv*p"
   ]
  },
  {
   "cell_type": "code",
   "execution_count": 26,
   "id": "adjusted-convertible",
   "metadata": {},
   "outputs": [
    {
     "data": {
      "text/plain": [
       "matrix([[5., 2.],\n",
       "        [2., 1.]])"
      ]
     },
     "execution_count": 26,
     "metadata": {},
     "output_type": "execute_result"
    }
   ],
   "source": [
    "matrix_trans"
   ]
  },
  {
   "cell_type": "code",
   "execution_count": 27,
   "id": "medium-browse",
   "metadata": {},
   "outputs": [
    {
     "data": {
      "text/plain": [
       "matrix([[7., 3.]])"
      ]
     },
     "execution_count": 27,
     "metadata": {},
     "output_type": "execute_result"
    }
   ],
   "source": [
    "matrix_trans.dot(m)"
   ]
  },
  {
   "cell_type": "code",
   "execution_count": 30,
   "id": "editorial-repository",
   "metadata": {},
   "outputs": [],
   "source": [
    "P = np.matrix([[1,-1],[1,1]])"
   ]
  },
  {
   "cell_type": "code",
   "execution_count": 47,
   "id": "reduced-asian",
   "metadata": {},
   "outputs": [
    {
     "data": {
      "text/plain": [
       "matrix([[0, 2]])"
      ]
     },
     "execution_count": 47,
     "metadata": {},
     "output_type": "execute_result"
    }
   ],
   "source": [
    "P.dot([1,1])"
   ]
  },
  {
   "cell_type": "code",
   "execution_count": 49,
   "id": "controversial-quick",
   "metadata": {},
   "outputs": [],
   "source": [
    "eigein = np.matrix([[1,0],[0,1]])"
   ]
  },
  {
   "cell_type": "code",
   "execution_count": 54,
   "id": "turkish-birmingham",
   "metadata": {},
   "outputs": [
    {
     "data": {
      "text/plain": [
       "matrix([[0, 1]])"
      ]
     },
     "execution_count": 54,
     "metadata": {},
     "output_type": "execute_result"
    }
   ],
   "source": []
  },
  {
   "cell_type": "code",
   "execution_count": 69,
   "id": "orange-mineral",
   "metadata": {},
   "outputs": [
    {
     "data": {
      "text/plain": [
       "matrix([[ 1],\n",
       "        [-1]])"
      ]
     },
     "execution_count": 69,
     "metadata": {},
     "output_type": "execute_result"
    }
   ],
   "source": [
    "a = eigein[0,:]-eigein[1,:]\n",
    "a.T"
   ]
  },
  {
   "cell_type": "code",
   "execution_count": 70,
   "id": "classical-preview",
   "metadata": {},
   "outputs": [
    {
     "data": {
      "text/plain": [
       "matrix([[1],\n",
       "        [1]])"
      ]
     },
     "execution_count": 70,
     "metadata": {},
     "output_type": "execute_result"
    }
   ],
   "source": [
    "b = eigein[0,:]+eigein[1,:]\n",
    "b.T"
   ]
  },
  {
   "cell_type": "code",
   "execution_count": 72,
   "id": "appropriate-amazon",
   "metadata": {},
   "outputs": [],
   "source": [
    "P = np.matrix([[1,1],[-1,1]])"
   ]
  },
  {
   "cell_type": "code",
   "execution_count": 73,
   "id": "wanted-timber",
   "metadata": {},
   "outputs": [],
   "source": [
    "P_inv = np.linalg.inv(P)"
   ]
  },
  {
   "cell_type": "code",
   "execution_count": 74,
   "id": "national-lighter",
   "metadata": {},
   "outputs": [
    {
     "data": {
      "text/plain": [
       "matrix([[0., 1.]])"
      ]
     },
     "execution_count": 74,
     "metadata": {},
     "output_type": "execute_result"
    }
   ],
   "source": [
    "P_inv.dot([1,1])"
   ]
  },
  {
   "cell_type": "code",
   "execution_count": 87,
   "id": "fluid-reducing",
   "metadata": {},
   "outputs": [
    {
     "data": {
      "text/plain": [
       "matrix([[ 2, -1],\n",
       "        [ 1,  3]])"
      ]
     },
     "execution_count": 87,
     "metadata": {},
     "output_type": "execute_result"
    }
   ],
   "source": [
    "P = np.matrix([[2,-1],[1,3]])\n",
    "Q = np.matrix([[1,0],[1,2]])\n",
    "Q_inv = np.linalg.inv(Q)\n",
    "P"
   ]
  },
  {
   "cell_type": "code",
   "execution_count": 88,
   "id": "proper-romania",
   "metadata": {},
   "outputs": [
    {
     "data": {
      "text/plain": [
       "matrix([[1, 0],\n",
       "        [1, 2]])"
      ]
     },
     "execution_count": 88,
     "metadata": {},
     "output_type": "execute_result"
    }
   ],
   "source": [
    "Q"
   ]
  },
  {
   "cell_type": "code",
   "execution_count": 82,
   "id": "preliminary-dragon",
   "metadata": {},
   "outputs": [],
   "source": [
    "matrix_transform = Q_inv*P"
   ]
  },
  {
   "cell_type": "code",
   "execution_count": 83,
   "id": "gross-paper",
   "metadata": {},
   "outputs": [
    {
     "data": {
      "text/plain": [
       "matrix([[5., 2.],\n",
       "        [2., 1.]])"
      ]
     },
     "execution_count": 83,
     "metadata": {},
     "output_type": "execute_result"
    }
   ],
   "source": [
    "matrix_trans"
   ]
  },
  {
   "cell_type": "code",
   "execution_count": 86,
   "id": "particular-graham",
   "metadata": {},
   "outputs": [
    {
     "data": {
      "text/plain": [
       "matrix([[3., 1.]])"
      ]
     },
     "execution_count": 86,
     "metadata": {},
     "output_type": "execute_result"
    }
   ],
   "source": [
    "matrix_transform.dot([2,1])"
   ]
  },
  {
   "cell_type": "code",
   "execution_count": 90,
   "id": "smaller-magnet",
   "metadata": {},
   "outputs": [
    {
     "data": {
      "text/plain": [
       "matrix([[1, 0],\n",
       "        [0, 1]])"
      ]
     },
     "execution_count": 90,
     "metadata": {},
     "output_type": "execute_result"
    }
   ],
   "source": [
    "np.matrix([[1,0],[0,1]])"
   ]
  },
  {
   "cell_type": "markdown",
   "id": "electronic-passing",
   "metadata": {},
   "source": [
    "$A\\boldsymbol{x}=\\lambda\\boldsymbol{x}\\implies (A-\\lambda I)\\boldsymbol{x}=0$\n",
    "\n",
    "$对于这个齐次方程组，有非零解（特征向量不能是零向量）的条件是：$\n",
    "\n",
    "$|A-\\lambda I|=0$\n",
    "\n",
    "即：\n",
    "\n",
    "\n",
    "$f(\\lambda)=\n",
    "\\begin{vmatrix}\n",
    "    a_{11}-\\lambda&a_{12}&\\cdots&a_{1n}\\\\\n",
    "    a_{21}&a_{22}-\\lambda&\\cdots&a_{2n}\\\\\n",
    "    \\vdots&\\vdots&\\quad&\\vdots\\\\\n",
    "    a_{n1}&a_{n2}&\\cdots&a_{nn}-\\lambda\n",
    "\\end{vmatrix}=0$\n",
    "\n",
    "$f(\\lambda)是一元n次多项式，称为矩阵A的特征多项式。$\n",
    "\n",
    "一元n次方程在复数范围内正好有n个复数根。\n",
    "\n",
    "而下面是特征方程，特征方程是一个一元n次方程：\n",
    "\n",
    "$f(\\lambda)=0$\n",
    "\n",
    "n个复数根就是n阶矩阵的n个特征值。\n",
    "$设\\lambda=\\lambda_i为矩阵A的一个特征值，代入方程：$\n",
    "\n",
    "$(A-\\lambda_i I)\\boldsymbol{x}=0\\implies \\boldsymbol{x}=\\boldsymbol{p}_i,\\boldsymbol{p}_i\\ne \\boldsymbol{0}$\n",
    "\n",
    "$其中，\\boldsymbol{p}_i便是对应\\lambda_i的特征向量。$\n",
    "\n"
   ]
  },
  {
   "cell_type": "markdown",
   "id": "scheduled-beauty",
   "metadata": {},
   "source": [
    "$求解矩阵A=\\begin{pmatrix}3&-1\\\\-1&3\\end{pmatrix}的特征值和特征向量。$"
   ]
  },
  {
   "cell_type": "code",
   "execution_count": 93,
   "id": "moderate-daisy",
   "metadata": {},
   "outputs": [
    {
     "data": {
      "text/plain": [
       "matrix([[ 3, -1],\n",
       "        [-1,  3]])"
      ]
     },
     "execution_count": 93,
     "metadata": {},
     "output_type": "execute_result"
    }
   ],
   "source": [
    "A = np.matrix([[3,-1],[-1,3]])\n",
    "A"
   ]
  },
  {
   "cell_type": "code",
   "execution_count": 99,
   "id": "working-skiing",
   "metadata": {},
   "outputs": [],
   "source": [
    "lam1, lam2 = np.linalg.eigvals(A)"
   ]
  },
  {
   "cell_type": "code",
   "execution_count": 100,
   "id": "integral-small",
   "metadata": {},
   "outputs": [
    {
     "data": {
      "text/plain": [
       "(4.0, 2.0)"
      ]
     },
     "execution_count": 100,
     "metadata": {},
     "output_type": "execute_result"
    }
   ],
   "source": [
    "lam1, lam2"
   ]
  },
  {
   "cell_type": "code",
   "execution_count": 102,
   "id": "caroline-manufacturer",
   "metadata": {},
   "outputs": [],
   "source": [
    "A_1 = np.matrix([[-1,1,0],[-4,3,0],[1,0,2]])"
   ]
  },
  {
   "cell_type": "code",
   "execution_count": 103,
   "id": "ceramic-attempt",
   "metadata": {},
   "outputs": [
    {
     "data": {
      "text/plain": [
       "matrix([[-1,  1,  0],\n",
       "        [-4,  3,  0],\n",
       "        [ 1,  0,  2]])"
      ]
     },
     "execution_count": 103,
     "metadata": {},
     "output_type": "execute_result"
    }
   ],
   "source": [
    "A_1"
   ]
  },
  {
   "cell_type": "code",
   "execution_count": 106,
   "id": "martial-criticism",
   "metadata": {},
   "outputs": [],
   "source": [
    "lam1, lam2, lam3 =np.linalg.eigvals(A_1)"
   ]
  },
  {
   "cell_type": "code",
   "execution_count": 111,
   "id": "emerging-buffer",
   "metadata": {},
   "outputs": [],
   "source": [
    "lam1_m = lam1*np.matrix([[1,0,0],[0,1,0],[0,0,1]])"
   ]
  },
  {
   "cell_type": "code",
   "execution_count": 113,
   "id": "acquired-armstrong",
   "metadata": {},
   "outputs": [],
   "source": [
    "trans_m = A_1-lam1_m"
   ]
  },
  {
   "cell_type": "code",
   "execution_count": 116,
   "id": "structured-bleeding",
   "metadata": {},
   "outputs": [
    {
     "data": {
      "text/plain": [
       "matrix([[0.],\n",
       "        [0.],\n",
       "        [0.]])"
      ]
     },
     "execution_count": 116,
     "metadata": {},
     "output_type": "execute_result"
    }
   ],
   "source": [
    "trans_m*np.matrix([0,0,1]).T"
   ]
  },
  {
   "cell_type": "markdown",
   "id": "finnish-despite",
   "metadata": {},
   "source": [
    "在线性代数中，一个n\\times n的矩阵A的迹（或迹数），是指A的主对角线（从左上方至右下方的对角线）上各个元素的总和，一般记作tr(A)：设有矩阵：\n",
    "\n",
    "$\\mathbf{A} = \\begin{pmatrix} 3 & 5 & 1\\\\0 & 9 & 2\\\\7 & 6 & 4 \\end{pmatrix}$\n",
    "\n",
    "\n",
    "\n",
    "它的迹是：\n",
    " $tr(A)= tr\\begin{pmatrix} 3 & 5 & 1\\\\0 & 9 & 2\\\\7 & 6 & 4 \\end{pmatrix} = 3 + 9 + 4 = 16$\n",
    " \n",
    "$假设有n\\times n的矩阵：$\n",
    "\n",
    "$A=(a_{ij})$\n",
    "\n",
    "并且：\n",
    "\n",
    "$A的特征值=\\{\\lambda_{1},\\lambda_{2},\\cdots,\\lambda_{n}\\}$\n",
    "\n",
    "对角线之和等于特征值之和：\n",
    "\n",
    "\n",
    "$\\begin{aligned}\n",
    "    a_{11}+a_{22}+\\cdots+a_{nn}=\\lambda_{1}+\\lambda_{2}+\\cdots+\\lambda_{n}\\\\\n",
    "\\end{aligned}$\n",
    "\n",
    "即矩阵的迹是其特征值的总和。"
   ]
  },
  {
   "cell_type": "code",
   "execution_count": 118,
   "id": "patent-decline",
   "metadata": {},
   "outputs": [
    {
     "data": {
      "text/plain": [
       "array([ 1.        ,  2.41421356, -0.41421356])"
      ]
     },
     "execution_count": 118,
     "metadata": {},
     "output_type": "execute_result"
    }
   ],
   "source": []
  },
  {
   "cell_type": "code",
   "execution_count": 121,
   "id": "brilliant-birth",
   "metadata": {},
   "outputs": [],
   "source": [
    "m=np.matrix([[1,2,1],[0,1,0],[2,3,1]])"
   ]
  },
  {
   "cell_type": "code",
   "execution_count": 122,
   "id": "regional-version",
   "metadata": {},
   "outputs": [
    {
     "data": {
      "text/plain": [
       "array([ 2.41421356, -0.41421356,  1.        ])"
      ]
     },
     "execution_count": 122,
     "metadata": {},
     "output_type": "execute_result"
    }
   ],
   "source": [
    "np.linalg.eigvals(m)"
   ]
  },
  {
   "cell_type": "code",
   "execution_count": 124,
   "id": "trained-medicine",
   "metadata": {},
   "outputs": [],
   "source": [
    "mm=np.matrix([[1,1],[4,1]])"
   ]
  },
  {
   "cell_type": "code",
   "execution_count": 126,
   "id": "subject-patient",
   "metadata": {},
   "outputs": [],
   "source": [
    "v1, v2 = np.linalg.eigvals(mm)"
   ]
  },
  {
   "cell_type": "code",
   "execution_count": 128,
   "id": "instrumental-roots",
   "metadata": {},
   "outputs": [
    {
     "data": {
      "text/plain": [
       "(3.0000000000000004, -0.9999999999999996)"
      ]
     },
     "execution_count": 128,
     "metadata": {},
     "output_type": "execute_result"
    }
   ],
   "source": [
    "v1, v2"
   ]
  },
  {
   "cell_type": "code",
   "execution_count": 138,
   "id": "lyric-jaguar",
   "metadata": {},
   "outputs": [],
   "source": [
    "lamda = np.matrix([[3,0],[0,3]])"
   ]
  },
  {
   "cell_type": "code",
   "execution_count": 143,
   "id": "surrounded-capacity",
   "metadata": {},
   "outputs": [
    {
     "data": {
      "text/plain": [
       "matrix([[0, 0]])"
      ]
     },
     "execution_count": 143,
     "metadata": {},
     "output_type": "execute_result"
    }
   ],
   "source": [
    "(mm-lamda).dot([1,2])"
   ]
  },
  {
   "cell_type": "code",
   "execution_count": null,
   "id": "modified-preserve",
   "metadata": {},
   "outputs": [],
   "source": []
  }
 ],
 "metadata": {
  "kernelspec": {
   "display_name": "Python 3",
   "language": "python",
   "name": "python3"
  },
  "language_info": {
   "codemirror_mode": {
    "name": "ipython",
    "version": 3
   },
   "file_extension": ".py",
   "mimetype": "text/x-python",
   "name": "python",
   "nbconvert_exporter": "python",
   "pygments_lexer": "ipython3",
   "version": "3.8.2"
  }
 },
 "nbformat": 4,
 "nbformat_minor": 5
}
