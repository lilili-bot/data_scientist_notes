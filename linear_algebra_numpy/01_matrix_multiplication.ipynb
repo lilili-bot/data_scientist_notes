{
 "cells": [
  {
   "cell_type": "code",
   "execution_count": 1,
   "id": "changing-strategy",
   "metadata": {},
   "outputs": [],
   "source": [
    "import numpy as np\n",
    "import math"
   ]
  },
  {
   "cell_type": "markdown",
   "id": "representative-offset",
   "metadata": {},
   "source": [
    "Difference on **np.array()** and **np.matrix()**\n",
    "\n",
    "Results on **np.dot()** **np.multiply()** and *"
   ]
  },
  {
   "cell_type": "code",
   "execution_count": 27,
   "id": "norwegian-reasoning",
   "metadata": {},
   "outputs": [
    {
     "data": {
      "text/plain": [
       "(3, 1)"
      ]
     },
     "execution_count": 27,
     "metadata": {},
     "output_type": "execute_result"
    }
   ],
   "source": [
    "'''build (3,1) array'''\n",
    "a = np.array([1,-1,1])\n",
    "a = a.reshape(-1,1) # !!! very import to reshape the array.\n",
    "a.shape"
   ]
  },
  {
   "cell_type": "code",
   "execution_count": 28,
   "id": "christian-wheat",
   "metadata": {},
   "outputs": [
    {
     "data": {
      "text/plain": [
       "(3, 1)"
      ]
     },
     "execution_count": 28,
     "metadata": {},
     "output_type": "execute_result"
    }
   ],
   "source": [
    "'''build (3,1) matrix'''\n",
    "a_ = np.matrix([1,-1,1]).T\n",
    "a_.shape"
   ]
  },
  {
   "cell_type": "code",
   "execution_count": 30,
   "id": "adolescent-scientist",
   "metadata": {},
   "outputs": [
    {
     "data": {
      "text/plain": [
       "array([[ 1, -1,  1],\n",
       "       [-1,  1, -1],\n",
       "       [ 1, -1,  1]])"
      ]
     },
     "execution_count": 30,
     "metadata": {},
     "output_type": "execute_result"
    }
   ],
   "source": [
    "a.dot(a.T) # needs to follow the matrix multiplication rules"
   ]
  },
  {
   "cell_type": "code",
   "execution_count": 31,
   "id": "indonesian-convenience",
   "metadata": {},
   "outputs": [
    {
     "data": {
      "text/plain": [
       "array([[1],\n",
       "       [1],\n",
       "       [1]])"
      ]
     },
     "execution_count": 31,
     "metadata": {},
     "output_type": "execute_result"
    }
   ],
   "source": [
    "a*a #do not need to follow the matrix multiplication rules"
   ]
  },
  {
   "cell_type": "code",
   "execution_count": 23,
   "id": "adopted-august",
   "metadata": {},
   "outputs": [
    {
     "data": {
      "text/plain": [
       "array([[1],\n",
       "       [1],\n",
       "       [1]])"
      ]
     },
     "execution_count": 23,
     "metadata": {},
     "output_type": "execute_result"
    }
   ],
   "source": [
    "np.multiply(a,a) #do not need to follow the matrix multiplication rules"
   ]
  },
  {
   "cell_type": "code",
   "execution_count": 24,
   "id": "extreme-collective",
   "metadata": {},
   "outputs": [
    {
     "data": {
      "text/plain": [
       "matrix([[ 1, -1,  1],\n",
       "        [-1,  1, -1],\n",
       "        [ 1, -1,  1]])"
      ]
     },
     "execution_count": 24,
     "metadata": {},
     "output_type": "execute_result"
    }
   ],
   "source": [
    "a_.dot(a_.T) #need to follow the matrix multiplication rules"
   ]
  },
  {
   "cell_type": "code",
   "execution_count": 25,
   "id": "temporal-sperm",
   "metadata": {},
   "outputs": [
    {
     "data": {
      "text/plain": [
       "matrix([[ 1, -1,  1],\n",
       "        [-1,  1, -1],\n",
       "        [ 1, -1,  1]])"
      ]
     },
     "execution_count": 25,
     "metadata": {},
     "output_type": "execute_result"
    }
   ],
   "source": [
    "a_*a_.T #need to follow the matrix multiplication rules"
   ]
  },
  {
   "cell_type": "code",
   "execution_count": 26,
   "id": "dimensional-penalty",
   "metadata": {},
   "outputs": [
    {
     "data": {
      "text/plain": [
       "matrix([[1],\n",
       "        [1],\n",
       "        [1]])"
      ]
     },
     "execution_count": 26,
     "metadata": {},
     "output_type": "execute_result"
    }
   ],
   "source": [
    "np.multiply(a_,a_) #do not need to follow the matrix multiplication rules"
   ]
  },
  {
   "cell_type": "markdown",
   "id": "bulgarian-cover",
   "metadata": {},
   "source": [
    "# Matrix Multiplication"
   ]
  },
  {
   "cell_type": "markdown",
   "id": "physical-given",
   "metadata": {},
   "source": [
    "if \n",
    "$$ \\boldsymbol{x}=\\begin{pmatrix}x_1&x_2&\\cdots&x_m\\end{pmatrix},\\quad A=\\begin{pmatrix}a_{11}&a_{12}&\\cdots&a_{1n}\\\\\n",
    "               a_{21}&a_{22}&\\cdots&a_{2n}\\\\\n",
    "               \\vdots&\\quad&\\quad&\\vdots\\\\\n",
    "               a_{m1}&a_{m2}&\\cdots&a_{mn} \n",
    "\\end{pmatrix} $$\n",
    "\n",
    "A left multiply X\n",
    "\n",
    "$$ \\boldsymbol{x}A=\\begin{pmatrix}\\color{blue}{x_1}&\\color{blue}{x_2}&\\cdots&\\color{blue}{x_m}\\end{pmatrix}\n",
    "\\begin{pmatrix}a_{11}&a_{12}&\\cdots&a_{1n}\\\\\n",
    "               a_{21}&a_{22}&\\cdots&a_{2n}\\\\\n",
    "               \\vdots&\\quad&\\quad&\\vdots\\\\\n",
    "               a_{m1}&a_{m2}&\\cdots&a_{mn}\n",
    "    \\end{pmatrix}=\n",
    "\\color{blue}{x_1}\\begin{pmatrix}a_{11}&a_{12}&\\cdots&a_{1n}\\end{pmatrix}+\n",
    "\\color{blue}{x_2}\\begin{pmatrix}a_{21}&a_{22}&\\cdots&a_{2n}\\end{pmatrix}+\\cdots+\\color{blue}{x_m}\\begin{pmatrix}a_{m1}&a_{m2}&\\cdots&a_{mn}\\end{pmatrix} $$\n"
   ]
  },
  {
   "cell_type": "markdown",
   "id": "respected-mystery",
   "metadata": {},
   "source": [
    "A right multiply X\n",
    "\n",
    "$$ \n",
    "A\\boldsymbol{x}=\\begin{pmatrix}a_{11}&a_{12}&\\cdots&a_{1n}\\\\\n",
    "               a_{21}&a_{22}&\\cdots&a_{2n}\\\\\n",
    "               \\vdots&\\quad&\\quad&\\vdots\\\\\n",
    "               a_{m1}&a_{m2}&\\cdots&a_{mn}\n",
    "\\end{pmatrix}\n",
    "\\begin{pmatrix}\\color{blue}{x_1}\\\\\\color{blue}{x_2}\\\\\\vdots\\\\\\color{blue}{x_n}\\end{pmatrix}=\n",
    "\\color{blue}{x_1}\\begin{pmatrix}a_{11}\\\\a_{21}\\\\\\vdots\\\\a_{m1}\\end{pmatrix}\n",
    "+\\color{blue}{x_2}\\begin{pmatrix}a_{12}\\\\a_{22}\\\\\\vdots\\\\a_{m2}\\end{pmatrix}\n",
    "+\\cdots+\\color{blue}{x_n}\\begin{pmatrix}a_{1n}\\\\a_{2n}\\\\\\vdots\\\\a_{mn}\\end{pmatrix}\n",
    "$$"
   ]
  },
  {
   "cell_type": "markdown",
   "id": "human-cache",
   "metadata": {},
   "source": [
    "Define matrix multiplication\n",
    "\n",
    "$$ A=(a_{ij}) B=(b_{ij}) C=(c_{ij})$$"
   ]
  },
  {
   "cell_type": "markdown",
   "id": "chemical-assurance",
   "metadata": {},
   "source": [
    "$$ c_{ij}=\\boldsymbol{a}_{i*}\\cdot\\boldsymbol{b}_{*j},\\quad (i=1,\\cdots,m;j=1,\\cdots,n) $$ "
   ]
  },
  {
   "cell_type": "markdown",
   "id": "oriental-bhutan",
   "metadata": {},
   "source": [
    "<div style=\"width:image width px; \n",
    "            font-size:80%; \n",
    "            text-align:center; \n",
    "            float: middle; padding-left-right-top-bottom:0.5em;  \n",
    "            border-style: solid; border-color: rgba(211, 211, 211, 0.1);\n",
    "            background-color: rgba(250, 250, 250);\">\n",
    "    <img style=\"float: center;\" src=\"image/mm.png\">\n",
    "</div>"
   ]
  },
  {
   "cell_type": "code",
   "execution_count": 120,
   "id": "optical-comfort",
   "metadata": {},
   "outputs": [
    {
     "data": {
      "text/plain": [
       "((2, 3),\n",
       " array([[2, 3, 4],\n",
       "        [4, 5, 6]]),\n",
       " array([2, 3, 4]))"
      ]
     },
     "execution_count": 120,
     "metadata": {},
     "output_type": "execute_result"
    }
   ],
   "source": [
    "m = np.array([[2,3,4],[4,5,6]])\n",
    "m.shape, m, m[0]"
   ]
  },
  {
   "cell_type": "code",
   "execution_count": 121,
   "id": "occupational-identification",
   "metadata": {},
   "outputs": [
    {
     "data": {
      "text/plain": [
       "((3, 2), array([4, 5, 6]))"
      ]
     },
     "execution_count": 121,
     "metadata": {},
     "output_type": "execute_result"
    }
   ],
   "source": [
    "n = np.array([[4,5,6],[7,8,9]])\n",
    "n.T.shape, n[0] #n.T[:,0]"
   ]
  },
  {
   "cell_type": "code",
   "execution_count": 134,
   "id": "loving-teaching",
   "metadata": {},
   "outputs": [
    {
     "name": "stdout",
     "output_type": "stream",
     "text": [
      "The result for c11 is 47\n",
      "the result for c12 is 77\n",
      "the result for c21 is 74\n",
      "the result for c22 is 122\n"
     ]
    },
    {
     "data": {
      "text/plain": [
       "array([[ 47,  74],\n",
       "       [ 77, 122]])"
      ]
     },
     "execution_count": 134,
     "metadata": {},
     "output_type": "execute_result"
    }
   ],
   "source": [
    "# calculate c_11, result of 1st row and 1st col\n",
    "print ('The result for c11 is',sum([(i*j) for i, j in zip(m[0] ,n.T[:,0])])) # the result is the same as -> sum([(i*j) for i, j in zip(m[0] ,n[0])])\n",
    "print('the result for c12 is',sum([(i*j) for i, j in zip(m[1],n[0])]))\n",
    "print ('the result for c21 is',sum([(i*j)for i, j in zip(m[0],n[1])]))\n",
    "print ('the result for c22 is',sum([(i*j)for i, j in zip(m[1],n[1])]))\n",
    "# or we can use np.dot\n",
    "np.dot(m, n.T)"
   ]
  },
  {
   "cell_type": "markdown",
   "id": "applicable-david",
   "metadata": {},
   "source": [
    "# Power of Matrix"
   ]
  },
  {
   "cell_type": "markdown",
   "id": "polish-myrtle",
   "metadata": {},
   "source": [
    "if A is a square matrix:\n",
    "$$ A^1=A,\\quad A^2=A^1A^1,\\quad\\cdots,\\quad A^{k+1}=A^kA^1 $$"
   ]
  },
  {
   "cell_type": "markdown",
   "id": "behavioral-sherman",
   "metadata": {},
   "source": [
    "$$ A^2=AA=\\begin{pmatrix}0&0&1\\\\0&0&0\\\\0&0&0\\end{pmatrix},\\quad A^3=A^2A=\\begin{pmatrix}0&0&0\\\\0&0&0\\\\0&0&0\\end{pmatrix} $$ "
   ]
  },
  {
   "cell_type": "markdown",
   "id": "educational-norway",
   "metadata": {},
   "source": [
    "# Transpose of a Matrix\n",
    "\n",
    "$$ (A^\\mathrm{T})^\\mathrm{T}=A$$\n",
    "$$(AB)^\\mathrm{T}=B^\\mathrm{T}A^\\mathrm{T}$$\n",
    "$$(A^\\mathrm{T})^n=(A^n)^\\mathrm{T}$$\n",
    "$$(A+B)^\\mathrm{T}=A^\\mathrm{T}+B^\\mathrm{T} $$"
   ]
  },
  {
   "cell_type": "code",
   "execution_count": 13,
   "id": "scheduled-ceiling",
   "metadata": {},
   "outputs": [],
   "source": [
    "A=np.matrix([[1,2],[-2,1]])"
   ]
  },
  {
   "cell_type": "code",
   "execution_count": 14,
   "id": "selected-astrology",
   "metadata": {},
   "outputs": [
    {
     "data": {
      "text/plain": [
       "matrix([[-3, -4],\n",
       "        [ 4, -3]])"
      ]
     },
     "execution_count": 14,
     "metadata": {},
     "output_type": "execute_result"
    }
   ],
   "source": [
    "(A.dot(A)).T"
   ]
  },
  {
   "cell_type": "markdown",
   "id": "fabulous-sheet",
   "metadata": {},
   "source": [
    "若：\n",
    "$ A^T=A$\n",
    "\n",
    "$则矩阵A称为\\color{Salmon}{对称矩阵}，对称矩阵一定是方阵。$\n",
    "\n",
    "若:\n",
    "\n",
    "$A^T=-A$\n",
    "\n",
    "$则矩阵A称为\\color{Salmon}{反对称矩阵}，反对称矩阵一定是方阵。\n",
    "比如下面就是对称矩阵：$\n",
    "\n",
    "\n",
    "$\\begin{pmatrix}\n",
    "1 & 2 & 3\\\\\n",
    "2 & 4 & -5\\\\\n",
    "3 & -5 & 6\\end{pmatrix}^\\mathrm{T}\n",
    "=\n",
    "\\begin{pmatrix}\n",
    "1 & 2 & 3\\\\\n",
    "2 & 4 & -5\\\\\n",
    "3 & -5 & 6\\end{pmatrix}$\n",
    "\n",
    "而下面就是反对称矩阵：\n",
    "\n",
    "\n",
    "$\\begin{pmatrix}\n",
    "0 & 2 & -1 \\\\\n",
    "-2 & 0 & -4 \\\\\n",
    "1 & 4 & 0\\end{pmatrix}^\\mathrm{T}\n",
    "=\n",
    "-\\begin{pmatrix}\n",
    "0 & 2 & -1 \\\\\n",
    "-2 & 0 & -4 \\\\\n",
    "1 & 4 & 0\\end{pmatrix}$\n"
   ]
  },
  {
   "cell_type": "markdown",
   "id": "handed-stanford",
   "metadata": {},
   "source": [
    "$定理 矩阵函数A\\boldsymbol{x}=\\boldsymbol{y}$满足：\n",
    "齐次性：$A(m\\boldsymbol{x})=m(A\\boldsymbol{x})$\n",
    "可加性：$A(\\boldsymbol{x}+\\boldsymbol{y})=A(\\boldsymbol{x})+A(\\boldsymbol{y})$\n",
    "所以矩阵函数是线性函数。"
   ]
  },
  {
   "cell_type": "markdown",
   "id": "further-jonathan",
   "metadata": {},
   "source": [
    "$矩阵函数A\\boldsymbol{x}=\\boldsymbol{y}，它的输入、输出都是列向量，所以也称为\\color{Salmon}{列向量矩阵函数}。当然输入、输出也可以为行向量。$"
   ]
  },
  {
   "cell_type": "markdown",
   "id": "vocal-cleveland",
   "metadata": {},
   "source": [
    " 行向量矩阵函数\n",
    "$ 对于m\\times n的矩阵A，根据矩阵乘法合法性，$有：\n",
    "\n",
    "$\\underbrace{\\boldsymbol{x}^\\mathrm{T}}_{1\\times m}\\quad\\underbrace{A}_{m\\times n}\\quad=\\quad\\underbrace{\\boldsymbol{y}^\\mathrm{T}}_{1\\times n}$\n",
    "\n",
    "\n",
    "$ \\begin{pmatrix}x_1&x_2&\\cdots&x_m\\end{pmatrix}\\begin{pmatrix}a_{11}&a_{12}&\\cdots&a_{1n}\\\\\n",
    "a_{21}&a_{22}&\\cdots&a_{2n}\\\\\\vdots&\\quad&\\quad&\\vdots\\\\\n",
    "a_{m1}&a_{m2}&\\cdots&a_{mn}\\end{pmatrix}\n",
    "=\n",
    "\\begin{pmatrix}y_1&y_2&\\cdots&y_n\\end{pmatrix}$\n",
    "\n",
    "$这其实也是矩阵函数，只是输入、输出为行向量，也称为\\color{Salmon}{行向量矩阵函数}$"
   ]
  },
  {
   "cell_type": "markdown",
   "id": "stuck-lying",
   "metadata": {},
   "source": [
    "向量的数学定义时解释过，行向量、列向量其实是没有区别的，是同一个向量$\\boldsymbol{v}的不同代数形式：$\n",
    "\n",
    "$\\boldsymbol{v}=\\begin{pmatrix}a_1\\\\a_2\\\\\\vdots\\\\a_n\\end{pmatrix}=(a_1,a_2,...,a_n)$\n",
    "\n",
    "$同理，列向量矩阵函数A\\boldsymbol{x}=\\boldsymbol{y}和它对应的行向量矩阵函数\\boldsymbol{x}^\\mathrm{T}A^\\mathrm{T}=\\boldsymbol{y}^\\mathrm{T}也是没有区别的，表示的是同一个线性函数，区别只在于输入、输出用的是列向量还是行向量。$"
   ]
  },
  {
   "cell_type": "code",
   "execution_count": null,
   "id": "mexican-salvation",
   "metadata": {},
   "outputs": [],
   "source": []
  }
 ],
 "metadata": {
  "kernelspec": {
   "display_name": "Python 3",
   "language": "python",
   "name": "python3"
  },
  "language_info": {
   "codemirror_mode": {
    "name": "ipython",
    "version": 3
   },
   "file_extension": ".py",
   "mimetype": "text/x-python",
   "name": "python",
   "nbconvert_exporter": "python",
   "pygments_lexer": "ipython3",
   "version": "3.8.2"
  }
 },
 "nbformat": 4,
 "nbformat_minor": 5
}
