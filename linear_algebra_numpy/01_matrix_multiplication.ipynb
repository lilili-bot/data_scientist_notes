{
 "cells": [
  {
   "cell_type": "code",
   "execution_count": 1,
   "id": "intimate-paradise",
   "metadata": {},
   "outputs": [],
   "source": [
    "import numpy as np\n",
    "import math"
   ]
  },
  {
   "cell_type": "markdown",
   "id": "important-applicant",
   "metadata": {},
   "source": [
    "Difference on **np.array()** and **np.matrix()**\n",
    "\n",
    "Results on **np.dot()** **np.multiply()** and *"
   ]
  },
  {
   "cell_type": "code",
   "execution_count": 27,
   "id": "bearing-string",
   "metadata": {},
   "outputs": [
    {
     "data": {
      "text/plain": [
       "(3, 1)"
      ]
     },
     "execution_count": 27,
     "metadata": {},
     "output_type": "execute_result"
    }
   ],
   "source": [
    "'''build (3,1) array'''\n",
    "a = np.array([1,-1,1])\n",
    "a = a.reshape(-1,1) # !!! very import to reshape the array.\n",
    "a.shape"
   ]
  },
  {
   "cell_type": "code",
   "execution_count": 28,
   "id": "completed-spare",
   "metadata": {},
   "outputs": [
    {
     "data": {
      "text/plain": [
       "(3, 1)"
      ]
     },
     "execution_count": 28,
     "metadata": {},
     "output_type": "execute_result"
    }
   ],
   "source": [
    "'''build (3,1) matrix'''\n",
    "a_ = np.matrix([1,-1,1]).T\n",
    "a_.shape"
   ]
  },
  {
   "cell_type": "code",
   "execution_count": 30,
   "id": "identified-italy",
   "metadata": {},
   "outputs": [
    {
     "data": {
      "text/plain": [
       "array([[ 1, -1,  1],\n",
       "       [-1,  1, -1],\n",
       "       [ 1, -1,  1]])"
      ]
     },
     "execution_count": 30,
     "metadata": {},
     "output_type": "execute_result"
    }
   ],
   "source": [
    "a.dot(a.T) # needs to follow the matrix multiplication rules"
   ]
  },
  {
   "cell_type": "code",
   "execution_count": 31,
   "id": "tested-ukraine",
   "metadata": {},
   "outputs": [
    {
     "data": {
      "text/plain": [
       "array([[1],\n",
       "       [1],\n",
       "       [1]])"
      ]
     },
     "execution_count": 31,
     "metadata": {},
     "output_type": "execute_result"
    }
   ],
   "source": [
    "a*a #do not need to follow the matrix multiplication rules"
   ]
  },
  {
   "cell_type": "code",
   "execution_count": 23,
   "id": "derived-tomorrow",
   "metadata": {},
   "outputs": [
    {
     "data": {
      "text/plain": [
       "array([[1],\n",
       "       [1],\n",
       "       [1]])"
      ]
     },
     "execution_count": 23,
     "metadata": {},
     "output_type": "execute_result"
    }
   ],
   "source": [
    "np.multiply(a,a) #do not need to follow the matrix multiplication rules"
   ]
  },
  {
   "cell_type": "code",
   "execution_count": 24,
   "id": "orange-edmonton",
   "metadata": {},
   "outputs": [
    {
     "data": {
      "text/plain": [
       "matrix([[ 1, -1,  1],\n",
       "        [-1,  1, -1],\n",
       "        [ 1, -1,  1]])"
      ]
     },
     "execution_count": 24,
     "metadata": {},
     "output_type": "execute_result"
    }
   ],
   "source": [
    "a_.dot(a_.T) #need to follow the matrix multiplication rules"
   ]
  },
  {
   "cell_type": "code",
   "execution_count": 25,
   "id": "driven-camping",
   "metadata": {},
   "outputs": [
    {
     "data": {
      "text/plain": [
       "matrix([[ 1, -1,  1],\n",
       "        [-1,  1, -1],\n",
       "        [ 1, -1,  1]])"
      ]
     },
     "execution_count": 25,
     "metadata": {},
     "output_type": "execute_result"
    }
   ],
   "source": [
    "a_*a_.T #need to follow the matrix multiplication rules"
   ]
  },
  {
   "cell_type": "code",
   "execution_count": 26,
   "id": "composed-marker",
   "metadata": {},
   "outputs": [
    {
     "data": {
      "text/plain": [
       "matrix([[1],\n",
       "        [1],\n",
       "        [1]])"
      ]
     },
     "execution_count": 26,
     "metadata": {},
     "output_type": "execute_result"
    }
   ],
   "source": [
    "np.multiply(a_,a_) #do not need to follow the matrix multiplication rules"
   ]
  },
  {
   "cell_type": "markdown",
   "id": "organizational-humanitarian",
   "metadata": {},
   "source": [
    "# Matrix Multiplication"
   ]
  },
  {
   "cell_type": "markdown",
   "id": "blond-attraction",
   "metadata": {},
   "source": [
    "if \n",
    "$$ \\boldsymbol{x}=\\begin{pmatrix}x_1&x_2&\\cdots&x_m\\end{pmatrix},\\quad A=\\begin{pmatrix}a_{11}&a_{12}&\\cdots&a_{1n}\\\\\n",
    "               a_{21}&a_{22}&\\cdots&a_{2n}\\\\\n",
    "               \\vdots&\\quad&\\quad&\\vdots\\\\\n",
    "               a_{m1}&a_{m2}&\\cdots&a_{mn} \n",
    "\\end{pmatrix} $$\n",
    "\n",
    "A left multiply X\n",
    "\n",
    "$$ \\boldsymbol{x}A=\\begin{pmatrix}\\color{blue}{x_1}&\\color{blue}{x_2}&\\cdots&\\color{blue}{x_m}\\end{pmatrix}\n",
    "\\begin{pmatrix}a_{11}&a_{12}&\\cdots&a_{1n}\\\\\n",
    "               a_{21}&a_{22}&\\cdots&a_{2n}\\\\\n",
    "               \\vdots&\\quad&\\quad&\\vdots\\\\\n",
    "               a_{m1}&a_{m2}&\\cdots&a_{mn}\n",
    "    \\end{pmatrix}=\n",
    "\\color{blue}{x_1}\\begin{pmatrix}a_{11}&a_{12}&\\cdots&a_{1n}\\end{pmatrix}+\n",
    "\\color{blue}{x_2}\\begin{pmatrix}a_{21}&a_{22}&\\cdots&a_{2n}\\end{pmatrix}+\\cdots+\\color{blue}{x_m}\\begin{pmatrix}a_{m1}&a_{m2}&\\cdots&a_{mn}\\end{pmatrix} $$\n"
   ]
  },
  {
   "cell_type": "markdown",
   "id": "annoying-battle",
   "metadata": {},
   "source": [
    "A right multiply X\n",
    "\n",
    "$$ \n",
    "A\\boldsymbol{x}=\\begin{pmatrix}a_{11}&a_{12}&\\cdots&a_{1n}\\\\\n",
    "               a_{21}&a_{22}&\\cdots&a_{2n}\\\\\n",
    "               \\vdots&\\quad&\\quad&\\vdots\\\\\n",
    "               a_{m1}&a_{m2}&\\cdots&a_{mn}\n",
    "\\end{pmatrix}\n",
    "\\begin{pmatrix}\\color{blue}{x_1}\\\\\\color{blue}{x_2}\\\\\\vdots\\\\\\color{blue}{x_n}\\end{pmatrix}=\n",
    "\\color{blue}{x_1}\\begin{pmatrix}a_{11}\\\\a_{21}\\\\\\vdots\\\\a_{m1}\\end{pmatrix}\n",
    "+\\color{blue}{x_2}\\begin{pmatrix}a_{12}\\\\a_{22}\\\\\\vdots\\\\a_{m2}\\end{pmatrix}\n",
    "+\\cdots+\\color{blue}{x_n}\\begin{pmatrix}a_{1n}\\\\a_{2n}\\\\\\vdots\\\\a_{mn}\\end{pmatrix}\n",
    "$$"
   ]
  },
  {
   "cell_type": "markdown",
   "id": "sustained-forestry",
   "metadata": {},
   "source": [
    "Define matrix multiplication\n",
    "\n",
    "$$ A=(a_{ij}) B=(b_{ij}) C=(c_{ij})$$"
   ]
  },
  {
   "cell_type": "markdown",
   "id": "deluxe-friend",
   "metadata": {},
   "source": [
    "$$ c_{ij}=\\boldsymbol{a}_{i*}\\cdot\\boldsymbol{b}_{*j},\\quad (i=1,\\cdots,m;j=1,\\cdots,n) $$ "
   ]
  },
  {
   "cell_type": "markdown",
   "id": "secret-armstrong",
   "metadata": {},
   "source": [
    "<div style=\"width:image width px; \n",
    "            font-size:80%; \n",
    "            text-align:center; \n",
    "            float: middle; padding-left-right-top-bottom:0.5em;  \n",
    "            border-style: solid; border-color: rgba(211, 211, 211, 0.1);\n",
    "            background-color: rgba(250, 250, 250);\">\n",
    "    <img style=\"float: center;\" src=\"image/mm.png\">\n",
    "</div>"
   ]
  },
  {
   "cell_type": "code",
   "execution_count": 120,
   "id": "federal-reason",
   "metadata": {},
   "outputs": [
    {
     "data": {
      "text/plain": [
       "((2, 3),\n",
       " array([[2, 3, 4],\n",
       "        [4, 5, 6]]),\n",
       " array([2, 3, 4]))"
      ]
     },
     "execution_count": 120,
     "metadata": {},
     "output_type": "execute_result"
    }
   ],
   "source": [
    "m = np.array([[2,3,4],[4,5,6]])\n",
    "m.shape, m, m[0]"
   ]
  },
  {
   "cell_type": "code",
   "execution_count": 121,
   "id": "racial-negative",
   "metadata": {},
   "outputs": [
    {
     "data": {
      "text/plain": [
       "((3, 2), array([4, 5, 6]))"
      ]
     },
     "execution_count": 121,
     "metadata": {},
     "output_type": "execute_result"
    }
   ],
   "source": [
    "n = np.array([[4,5,6],[7,8,9]])\n",
    "n.T.shape, n[0] #n.T[:,0]"
   ]
  },
  {
   "cell_type": "code",
   "execution_count": 134,
   "id": "binding-heather",
   "metadata": {},
   "outputs": [
    {
     "name": "stdout",
     "output_type": "stream",
     "text": [
      "The result for c11 is 47\n",
      "the result for c12 is 77\n",
      "the result for c21 is 74\n",
      "the result for c22 is 122\n"
     ]
    },
    {
     "data": {
      "text/plain": [
       "array([[ 47,  74],\n",
       "       [ 77, 122]])"
      ]
     },
     "execution_count": 134,
     "metadata": {},
     "output_type": "execute_result"
    }
   ],
   "source": [
    "# calculate c_11, result of 1st row and 1st col\n",
    "print ('The result for c11 is',sum([(i*j) for i, j in zip(m[0] ,n.T[:,0])])) # the result is the same as -> sum([(i*j) for i, j in zip(m[0] ,n[0])])\n",
    "print('the result for c12 is',sum([(i*j) for i, j in zip(m[1],n[0])]))\n",
    "print ('the result for c21 is',sum([(i*j)for i, j in zip(m[0],n[1])]))\n",
    "print ('the result for c22 is',sum([(i*j)for i, j in zip(m[1],n[1])]))\n",
    "# or we can use np.dot\n",
    "np.dot(m, n.T)"
   ]
  },
  {
   "cell_type": "markdown",
   "id": "japanese-questionnaire",
   "metadata": {},
   "source": [
    "# Power of Matrix"
   ]
  },
  {
   "cell_type": "markdown",
   "id": "devoted-tissue",
   "metadata": {},
   "source": [
    "if A is a square matrix:\n",
    "$$ A^1=A,\\quad A^2=A^1A^1,\\quad\\cdots,\\quad A^{k+1}=A^kA^1 $$"
   ]
  },
  {
   "cell_type": "markdown",
   "id": "english-rapid",
   "metadata": {},
   "source": [
    "$$ A^2=AA=\\begin{pmatrix}0&0&1\\\\0&0&0\\\\0&0&0\\end{pmatrix},\\quad A^3=A^2A=\\begin{pmatrix}0&0&0\\\\0&0&0\\\\0&0&0\\end{pmatrix} $$ "
   ]
  },
  {
   "cell_type": "markdown",
   "id": "appropriate-chosen",
   "metadata": {},
   "source": [
    "# Transpose of a Matrix\n",
    "\n",
    "$$ (A^\\mathrm{T})^\\mathrm{T}=A$$\n",
    "$$(AB)^\\mathrm{T}=B^\\mathrm{T}A^\\mathrm{T}$$\n",
    "$$(A^\\mathrm{T})^n=(A^n)^\\mathrm{T}$$\n",
    "$$(A+B)^\\mathrm{T}=A^\\mathrm{T}+B^\\mathrm{T} $$"
   ]
  }
 ],
 "metadata": {
  "kernelspec": {
   "display_name": "Python 3",
   "language": "python",
   "name": "python3"
  },
  "language_info": {
   "codemirror_mode": {
    "name": "ipython",
    "version": 3
   },
   "file_extension": ".py",
   "mimetype": "text/x-python",
   "name": "python",
   "nbconvert_exporter": "python",
   "pygments_lexer": "ipython3",
   "version": "3.8.2"
  }
 },
 "nbformat": 4,
 "nbformat_minor": 5
}
