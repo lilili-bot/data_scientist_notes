{
 "cells": [
  {
   "cell_type": "markdown",
   "id": "happy-amber",
   "metadata": {},
   "source": [
    "$设A是n阶矩阵，如果数\\lambda和n维非零列向量\\boldsymbol{x}使关系式：$\n",
    "\n",
    "$A\\boldsymbol{x}=\\lambda\\boldsymbol{x}$\n",
    "\n",
    "$成立，那么这样的数\\lambda称为矩阵A的特征值，非零向量\\boldsymbol{x}称为A的对应于\\lambda的特征向量。$\n",
    "\n",
    "要明白对于这个代数式，变换前后的基相同才有意义：\n",
    "\n",
    "$A\\boldsymbol{x}_{e'}=\\lambda\\boldsymbol{x}_{e'}$"
   ]
  },
  {
   "cell_type": "markdown",
   "id": "bound-nurse",
   "metadata": {},
   "source": [
    "由特征向量和特征值的定义式可以推出：\n",
    "\n",
    "$A\\boldsymbol{x}=\\lambda\\boldsymbol{x}\\implies (A-\\lambda I)\\boldsymbol{x}=0$\n",
    "\n"
   ]
  },
  {
   "cell_type": "markdown",
   "id": "eight-andrews",
   "metadata": {},
   "source": [
    "对于这个齐次方程组，有非零解（特征向量不能是零向量）的条件是：\n",
    "\n",
    "$|A-\\lambda I|=0$\n",
    "\n",
    "<img src=\"image/ev1.svg\">\n",
    "\n",
    "$f(\\lambda)是一元n次多项式，称为矩阵A的特征多项式。$\n",
    "\n",
    "而下面是特征方程，特征方程是一个一元n次方程：\n",
    "\n",
    "$f(\\lambda)=0$"
   ]
  },
  {
   "cell_type": "markdown",
   "id": "sufficient-anniversary",
   "metadata": {},
   "source": [
    "一元n次方程在复数范围内正好有n个复数根。\n",
    "n个复数根就是n阶矩阵的n个特征值。\n",
    "\n",
    "$设\\lambda=\\lambda_i为矩阵A的一个特征值，代入方程：$\n",
    "\n",
    "$(A-\\lambda_i I)\\boldsymbol{x}=0\\implies \\boldsymbol{x}=\\boldsymbol{p}_i,\\boldsymbol{p}_i\\ne \\boldsymbol{0}$"
   ]
  },
  {
   "cell_type": "markdown",
   "id": "german-leonard",
   "metadata": {},
   "source": [
    "$其中，\\boldsymbol{p}_i便是对应\\lambda_i的特征向量。$\n",
    "\n",
    "重申：非零解是特征向量，因此零向量不是特征向量。\n",
    "\n",
    "对于特征向量还有一个重要的结论。 同一个特征向量$\\boldsymbol{v}不能有两个特征值$"
   ]
  },
  {
   "cell_type": "markdown",
   "id": "bound-thesis",
   "metadata": {},
   "source": [
    "相似矩阵的特点就是变换前后基相同，因此特征值对于相似矩阵有重要的意义。\n",
    "<img src=\"image/ev2.png\">\n",
    "\n",
    "上图中的：\n",
    "\n",
    "$A\\simeq B$\n",
    "\n",
    "它们共同的特点是，即线性变换前后的基相同：\n",
    "\n",
    "$A\\boldsymbol{x}_{e}=\\boldsymbol{y}_{e}\\quad$\n",
    "$B\\boldsymbol{x}_{e'}=\\boldsymbol{y}_{e'}$"
   ]
  },
  {
   "cell_type": "markdown",
   "id": "hired-clearing",
   "metadata": {},
   "source": [
    "几何直观上，对于特征向量，相似矩阵有相同的伸缩比：\n",
    "<img src=\"image/ev3.gif\">\n"
   ]
  },
  {
   "cell_type": "markdown",
   "id": "planned-hardwood",
   "metadata": {},
   "source": [
    "2 有相同的行列式\n",
    "\n",
    "$A\\simeq B\\implies |A|=|B|$\n",
    "并且假设：\n",
    "\n",
    "$A的特征值=B的特征值=\\{\\lambda_{1},\\lambda_{2},\\cdots,\\lambda_{n}\\}$\n",
    "\n",
    "那么：\n",
    "\n",
    "$|A|=|B|=\\lambda_{1}\\lambda_{2}\\cdots\\lambda_{n}$"
   ]
  },
  {
   "cell_type": "markdown",
   "id": "sound-video",
   "metadata": {},
   "source": [
    "相似矩阵不仅有相同的特征值，而且还有相同的迹。\n",
    "\n",
    "在线性代数中，一个n\\times n的矩阵A的迹（或迹数），是指A的主对角线（从左上方至右下方的对角线）上各个元素的总和，一般记作tr(A)：设有矩阵：\n",
    "\n",
    "$\\mathbf{A} = \\begin{pmatrix} 3 & 5 & 1\\\\0 & 9 & 2\\\\7 & 6 & 4 \\end{pmatrix}$\n",
    "它的迹是：\n",
    " $tr(A)= tr\\begin{pmatrix} 3 & 5 & 1\\\\0 & 9 & 2\\\\7 & 6 & 4 \\end{pmatrix} = 3 + 9 + 4 = 16$\n",
    " \n",
    "<img src=\"image/ev4.svg\">\n",
    "\n",
    "假设有n\\times n的矩阵：\n",
    "\n",
    "$A=(a_{ij})$\n",
    "\n",
    "并且：\n",
    "\n",
    "$A的特征值=\\{\\lambda_{1},\\lambda_{2},\\cdots,\\lambda_{n}\\}$\n",
    "\n",
    "对角线之和等于特征值之和：\n",
    "\n",
    "\n",
    "$\\begin{aligned}\n",
    "    a_{11}+a_{22}+\\cdots+a_{nn}=\\lambda_{1}+\\lambda_{2}+\\cdots+\\lambda_{n}\\\\\n",
    "\\end{aligned}$\n",
    "\n",
    "即矩阵的迹是其特征值的总和。\n",
    "\n",
    "设n阶矩阵A=(a_{ij})的特征值为$\\lambda_1,\\lambda_2...\\lambda_n,则有：$\n",
    "\n",
    "行列式为特征值的乘积\n",
    "$|A|=\\lambda_1\\lambda_2...\\lambda_n$\n",
    "特征值之和为矩阵对角线之和\n",
    "$\\lambda_1+\\lambda_2+...+\\lambda_n=a_{11}+a_{22}+...+a_{nn}$\n",
    "不同的特征值对应的特征向量线性无关\n",
    "$\\lambda_1\\neq \\lambda_2,对应的特征向量\\boldsymbol{x_1},\\boldsymbol{x_2}线性无关$\n"
   ]
  },
  {
   "cell_type": "code",
   "execution_count": null,
   "id": "collected-hybrid",
   "metadata": {},
   "outputs": [],
   "source": []
  }
 ],
 "metadata": {
  "kernelspec": {
   "display_name": "Python 3",
   "language": "python",
   "name": "python3"
  },
  "language_info": {
   "codemirror_mode": {
    "name": "ipython",
    "version": 3
   },
   "file_extension": ".py",
   "mimetype": "text/x-python",
   "name": "python",
   "nbconvert_exporter": "python",
   "pygments_lexer": "ipython3",
   "version": "3.8.2"
  }
 },
 "nbformat": 4,
 "nbformat_minor": 5
}
