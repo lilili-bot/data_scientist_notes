{
 "cells": [
  {
   "cell_type": "code",
   "execution_count": 2,
   "id": "initial-interpretation",
   "metadata": {},
   "outputs": [],
   "source": [
    "import numpy as np"
   ]
  },
  {
   "cell_type": "markdown",
   "id": "naughty-knock",
   "metadata": {},
   "source": [
    "1. Why reduce dimentions? In machine learning projects, features selection/ PCA will be done for following reasons:\n",
    "  - Multicollineartiy of the data: There are correlations among features. Multicollinearity leads to spatial instability of the solution, resulting in weak generalisation performance of the model.\n",
    "  - Sparsity of the high dimentional data samples: this makes it more difficult for the model to find data features.\n",
    "  - Too many variables can prevent the model from finding patterns. \n",
    "  - Considering only the effect of a single variable on the target attributes may ignore the potential relationships between variables.\n",
    "   - The aims of feature selection/dimensionality reduction is to reduce the number of feature and ensure that new features are independent of each other.   - Of course, sometimes there are problems with the feature matrix being too large, resulting in large computations and long training times. \n",
    "2. There different ways to select features, this notebook will focus on PCA. \n",
    "  - First explain general idea of PCA. \n",
    "  - Then Using SVG to realize PCA. "
   ]
  },
  {
   "cell_type": "code",
   "execution_count": null,
   "id": "certified-looking",
   "metadata": {},
   "outputs": [],
   "source": [
    "price = np.arr"
   ]
  },
  {
   "cell_type": "code",
   "execution_count": 50,
   "id": "running-filter",
   "metadata": {},
   "outputs": [],
   "source": []
  },
  {
   "cell_type": "code",
   "execution_count": null,
   "id": "bigger-fifth",
   "metadata": {},
   "outputs": [],
   "source": []
  },
  {
   "cell_type": "code",
   "execution_count": null,
   "id": "transparent-grocery",
   "metadata": {},
   "outputs": [],
   "source": []
  },
  {
   "cell_type": "code",
   "execution_count": null,
   "id": "prerequisite-canberra",
   "metadata": {},
   "outputs": [],
   "source": []
  },
  {
   "cell_type": "code",
   "execution_count": null,
   "id": "varying-philippines",
   "metadata": {},
   "outputs": [],
   "source": []
  }
 ],
 "metadata": {
  "kernelspec": {
   "display_name": "Python 3",
   "language": "python",
   "name": "python3"
  },
  "language_info": {
   "codemirror_mode": {
    "name": "ipython",
    "version": 3
   },
   "file_extension": ".py",
   "mimetype": "text/x-python",
   "name": "python",
   "nbconvert_exporter": "python",
   "pygments_lexer": "ipython3",
   "version": "3.8.2"
  }
 },
 "nbformat": 4,
 "nbformat_minor": 5
}
