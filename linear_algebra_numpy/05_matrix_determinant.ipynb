{
 "cells": [
  {
   "cell_type": "code",
   "execution_count": 7,
   "id": "rental-electricity",
   "metadata": {},
   "outputs": [],
   "source": [
    "import numpy as np"
   ]
  },
  {
   "cell_type": "markdown",
   "id": "above-conviction",
   "metadata": {},
   "source": [
    "在多变量微积分中，会遇到以下类似的问题，比如求三维空间中某曲面的表面积，根据微积分的思想，可以用无限多个矩形（或者平行四边形）来逼近这个表面积："
   ]
  },
  {
   "cell_type": "markdown",
   "id": "adult-marketplace",
   "metadata": {},
   "source": [
    "<img src=\"image/size1.jpeg\">"
   ]
  },
  {
   "cell_type": "markdown",
   "id": "hungarian-understanding",
   "metadata": {},
   "source": [
    "或者通过长方体的体积来逼近三维空间中某曲面下的体积："
   ]
  },
  {
   "cell_type": "markdown",
   "id": "numerical-delta",
   "metadata": {},
   "source": [
    "<img src=\"image/size2.png\">"
   ]
  },
  {
   "cell_type": "markdown",
   "id": "mature-prerequisite",
   "metadata": {},
   "source": [
    "这就需要我们可以在三维空间中方便的计算矩形（平行四边形）的面积、长方体（平行六面体）的体积，本课就解释怎么通过矩阵和行列式来计算面积、体积。"
   ]
  },
  {
   "cell_type": "markdown",
   "id": "closing-issue",
   "metadata": {},
   "source": [
    "$问\\quad假设有两个向量：$\n",
    "\n",
    "$\\boldsymbol{a_1}=\\begin{pmatrix}a_{11}\\\\a_{21}\\end{pmatrix},\\quad \\boldsymbol{a_2}=\\begin{pmatrix}a_{12}\\\\a_{22}\\end{pmatrix}$\n",
    "\n",
    "这两个向量围成一个平行四边形："
   ]
  },
  {
   "cell_type": "markdown",
   "id": "endangered-discovery",
   "metadata": {},
   "source": [
    "<img src=\"image/size3.png\">"
   ]
  },
  {
   "cell_type": "markdown",
   "id": "infinite-desire",
   "metadata": {},
   "source": [
    "那么：\n",
    "\n",
    "$\\boldsymbol{a_1},\\boldsymbol{a_2}\\ \\text{围成的平行四边形面积}=\\color{red}{?}$\n",
    "\n",
    "$答\\quad把这两个向量作为矩阵A的列向量，得到矩阵A：$\n",
    "\n",
    "$A=(\\boldsymbol{a_1},\\boldsymbol{a_2})=\n",
    "\\begin{pmatrix}\n",
    "    a_{11}&a_{12}\\\\\n",
    "    a_{21}&a_{22}\n",
    "\\end{pmatrix}$\n",
    "\n",
    "假设有如下两个正交的单位向量（在线性代数中，称为标准正交基）：\n",
    "\n",
    "$\\boldsymbol{e_1}=\\begin{pmatrix}1\\\\0\\end{pmatrix},\\quad \\boldsymbol{e_2}=\\begin{pmatrix}0\\\\1\\end{pmatrix}$\n",
    "\n",
    "根据矩阵的运算法则有：\n",
    "\n",
    "$A\\boldsymbol{e_1}=\\boldsymbol{a_1},\\quad A\\boldsymbol{e_2}=\\boldsymbol{a_2}$\n",
    "\n",
    "$可能大家对矩阵运算不熟悉，其实也就是通过矩阵A，分别把\\boldsymbol{e_1}映射为\\boldsymbol{a_1}，\\boldsymbol{e_2}映射为\\boldsymbol{a_2}：$\n",
    "\n",
    "$\\boldsymbol{e_1},\\boldsymbol{e_2}\\xrightarrow{\\quad A \\quad}\\boldsymbol{a_1},\\boldsymbol{a_2}$\n",
    "\n",
    "这也就意味着：\n",
    "\n",
    "\n",
    "$\\boldsymbol{e_1},\\boldsymbol{e_2}\\ \\text{围成的正方形}\\xrightarrow{\\quad A \\quad}\\boldsymbol{a_1},\\boldsymbol{a_2}\\ \\text{围成的平行四边形}$\n",
    "\n",
    "从几何上看，行列式为变换前后的面积比："
   ]
  },
  {
   "cell_type": "markdown",
   "id": "transparent-extent",
   "metadata": {},
   "source": [
    "<img src=\"image/size4.png\">"
   ]
  },
  {
   "cell_type": "markdown",
   "id": "rubber-senegal",
   "metadata": {},
   "source": [
    "其中，\\boldsymbol{e_1},\\boldsymbol{e_2}围成的正方形面积为1（因为都是单位向量），所以行列式就是题干要求的平行四边形的面积：\n",
    "<img src=\"image/size5.png\">"
   ]
  },
  {
   "cell_type": "markdown",
   "id": "crucial-treasury",
   "metadata": {},
   "source": [
    "$当然，行列式有正负号，所以求出来的实际上是该平行四边形的\\color{Salmon}{有向面积}。如果不希望有负号，那么再加上一个绝对值：$\n",
    "\n",
    "$\\boldsymbol{a_1},\\boldsymbol{a_2}\\ \\text{围成的平行四边形面积}=\\Big|\\ |A|\\ \\Big|$"
   ]
  },
  {
   "cell_type": "markdown",
   "id": "approved-virginia",
   "metadata": {},
   "source": [
    "下面我们来看看怎么计算平行六面体的体积。\n",
    "\n",
    "$问\\quad假设有三个向量：$\n",
    "\n",
    "$\\boldsymbol{a_1}=\\begin{pmatrix}a_{11}\\\\a_{21}\\\\a_{31}\\end{pmatrix},\\quad$\n",
    "$\\boldsymbol{a_2}=\\begin{pmatrix}a_{12}\\\\a_{22}\\\\a_{32}\\end{pmatrix},\\quad $\n",
    "$\\boldsymbol{a_3}=\\begin{pmatrix}a_{13}\\\\a_{23}\\\\a_{33}\\end{pmatrix}$\n",
    "\n",
    "这三个向量围成一个平行六面体：\n",
    "<img src=\"image/size6.png\">\n",
    "那么：\n",
    "\n",
    "$\\boldsymbol{a_1},\\boldsymbol{a_2},\\boldsymbol{a_3}\\ \\text{围成的平行六面体体积}=\\color{red}{?}$\n",
    "\n",
    "$答\\quad把这三个向量作为矩阵A的列向量，得到矩阵A：$\n",
    "\n",
    "$A=(\\boldsymbol{a_1},\\boldsymbol{a_2},\\boldsymbol{a_3})=\n",
    "\\begin{pmatrix}\n",
    "    a_{11}&a_{12}&a_{13}\\\\\n",
    "    a_{21}&a_{22}&a_{23}\\\\\n",
    "    a_{31}&a_{32}&a_{33}\\\\\n",
    "\\end{pmatrix}$\n",
    "\n",
    "假设有如下三正交的单位向量（在线性代数中，称为标准正交基）：\n",
    "\n",
    "$\\boldsymbol{e_1}=\\begin{pmatrix}1\\\\0\\\\0\\end{pmatrix},\\quad $\n",
    "$\\boldsymbol{e_2}=\\begin{pmatrix}0\\\\1\\\\0\\end{pmatrix},\\quad $\n",
    "$\\boldsymbol{e_3}=\\begin{pmatrix}0\\\\0\\\\1\\end{pmatrix}$\n",
    "\n",
    "根据矩阵乘法法则有：\n",
    "\n",
    "$\\boldsymbol{e_1},\\boldsymbol{e_2},\\boldsymbol{e_3}\\ \\text{围成的立方体}\\xrightarrow{\\quad A $\n",
    "$\\quad}\\boldsymbol{a_1},\\boldsymbol{a_2},\\boldsymbol{a_3}\\ \\text{围成的平行六面体}$\n",
    "几何上就是：\n",
    "<img src=\"image/size7.png\">\n",
    "两者体积的比值三阶行列式：\n",
    "<img src=\"image/size8.png\">\n",
    "由于$\\boldsymbol{e_1},\\boldsymbol{e_2},\\boldsymbol{e_3}$围成的立方体体积为1，所以三阶行列式也就是：\n",
    "<img src=\"image/size9.png\">\n",
    "当然，行列式有正负号，所以求出来的实际上是该平行六面体的$\\color{Salmon}{有向体积}（类似于有向面积，可以想像有一个三维的镜子，有向体积就代表镜子内的体积或者镜子外面的体积）。如果不希望有负号，那么再加上一个绝对值：$\n",
    "\n",
    "$\\boldsymbol{a_1},\\boldsymbol{a_2},\\boldsymbol{a_3}\\ \\text{围成的平行六面体体积}=\\Big|\\ |A|\\ \\Big|$"
   ]
  },
  {
   "cell_type": "markdown",
   "id": "faced-rocket",
   "metadata": {},
   "source": [
    "$下面就来介绍三维空间中的平行四边形。假设有两个三维空间中的向量\\boldsymbol{a}，\\boldsymbol{b}，这两个向量围成平行四边形会朝向各种方向。为了方便，数学家就用一个向量来表示该平行四边形的面积和方向，也就是下图中的\\boldsymbol{S}向量（平行四边形上画了一个不对称的字母F，这样才容易看出平行四边形的各个方向）：$\n",
    "<img src=\"image/size10.png\">\n",
    "该向量有如下性质：\n",
    "\n",
    "\n",
    "$\\boldsymbol{S}:\n",
    "\\begin{cases}\n",
    "    方向：垂直于\\boldsymbol{a},\\boldsymbol{b}围成的平行四边形，也就是该平面的法线\\\\\n",
    "    \\quad\\\\\n",
    "    模长：围成的平行四边形的面积\n",
    "\\end{cases}$\n",
    "\n",
    "$这个向量既代表面积又代表方向，所以也称为\\color{Salmon}{有向面积}。数学家定义了\\color{Salmon}{叉积}，或称为\\color{Salmon}{向量积}（两向量运算之后的结果为向量），来表示这个有向面积：$\n",
    "\n",
    "$\\boldsymbol{S}=\\boldsymbol{a}\\times\\boldsymbol{b}$"
   ]
  },
  {
   "cell_type": "markdown",
   "id": "ecological-subscription",
   "metadata": {},
   "source": [
    "# 1 向量积的方向\n"
   ]
  },
  {
   "cell_type": "markdown",
   "id": "noticed-volleyball",
   "metadata": {},
   "source": [
    "$两个向量 \\mathbf {a}和 \\mathbf {b}的叉积仅在三维空间中有定义，写作$\n",
    "\n",
    "$\\displaystyle \\mathbf {a} \\times \\mathbf {b} $\n",
    "\n",
    "$叉积 \\displaystyle \\mathbf {a} \\times \\mathbf {b} 是与 \\displaystyle \\mathbf {a} 和 \\displaystyle \\mathbf {b} 都垂直的向量 \\displaystyle \\mathbf {c} 。其方向由右手定则决定，模长等于以两个向量为边的平行四边形的面积$\n",
    "\n",
    "$\\mathbf{a} \\times \\mathbf{b}=\\|\\mathbf{a}\\|\\|\\mathbf{b}\\| \\sin (\\theta) \\mathbf{n}$\n",
    "<img src=\"image/size30.png\">\n",
    "\n",
    "根据定义可以得到\n",
    "\n",
    "基向量\n",
    "$\\begin{array}{l}{\\mathbf{i} \\times \\mathbf{j}=\\mathbf{k}} \\\\ {\\mathbf{j} \\times \\mathbf{k}=\\mathbf{i}} \\\\ {\\mathbf{k} \\times \\mathbf{i}=\\mathbf{j}}\\end{array}$\n",
    "\n",
    "反向基向量\n",
    "$\\begin{array}{l}{\\mathbf{j} \\times \\mathbf{i}=-\\mathbf{k}} \\\\ {\\mathbf{k} \\times \\mathbf{j}=-\\mathbf{i}} \\\\ {\\mathbf{i} \\times \\mathbf{k}=-\\mathbf{j}}\\end{array}$\n",
    "\n",
    "零向量\n",
    "$\\mathbf{i} \\times \\mathbf{i}=\\mathbf{j} \\times \\mathbf{j}=\\mathbf{k} \\times \\mathbf{k}=\\mathbf{0}$\n",
    "\n",
    "<img src=\"image/size31.png\">\n",
    "\n",
    "$向量  \\mathbf{u}和  \\mathbf {v} 定义为平行于基向量的三个正交元素之和：$\n",
    "\n",
    "$\\begin{array}{l}{\\mathbf{u}=u_{1} \\mathbf{i}+u_{2} \\mathbf{j}+u_{3} \\mathbf{k}} \\\\ {\\mathbf{v}=v_{1} \\mathbf{i}+v_{2} \\mathbf{j}+v_{3} \\mathbf{k}}\\end{array}$\n",
    "\n",
    "则\n",
    "\n",
    "$\\begin{align}\n",
    "&\\mathbf{u} \\times \\mathbf{v}=\\begin{vmatrix}\\mathbf{i}&\\mathbf{j}&\\mathbf{k}\\\\\n",
    "u_1&u_2&u_3\\\\v_1&v_2&v_3\\end{vmatrix}\\\\\\\\\n",
    "&=\\left(u_{2} v_{3}-u_{3} v_{2}\\right) \\mathbf{i}+\\left(u_{3} v_{1}-u_{1} v_{3}\\right) \\mathbf{j}+\\left(u_{1} v_{2}-u_{2} v_{1}\\right) \\mathbf{k}\\end{align}$"
   ]
  },
  {
   "cell_type": "markdown",
   "id": "alien-pizza",
   "metadata": {},
   "source": [
    "$根据刚才的定义，\\boldsymbol{S}向量可以图示如下，其模长为所围成平行四边形的面积，方向垂直于该平行四边形：$\n",
    "<img src=\"image/size11.png\">\n",
    "$这里有个细节，垂直于\\boldsymbol{a}，\\boldsymbol{b}围成的平行四边形其实有两个方向，那么\\boldsymbol{S}应该指向哪一边？这里规定用右手定则来判断：$\n",
    "<img src=\"image/size12.png\">\n",
    "<img src=\"image/size13.jpeg\">\n",
    "$也就是用右手从\\boldsymbol{a}抓向\\boldsymbol{b}，大拇指所指向的方向为$\n",
    "$\\boldsymbol{S}=\\boldsymbol{a}\\times\\boldsymbol{b}。$\n",
    "# 2 单位方向向量的向量积\n",
    "马上来应用下上述的规则，如果三维空间中的x轴、y轴、z轴三个方向的单位方向向量表示如下：\n",
    "<img src=\"image/size14.png\">\n",
    "\n",
    "那么根据右手定则，我们很容易得到这些推论（注意，任意两个单位方向向量围成的矩形面积为1）：\n",
    "$\\boldsymbol{e_1}\\times \\boldsymbol{e_2}=\\boldsymbol{e_3} \\qquad$\n",
    "$\\boldsymbol{e_2}\\times \\boldsymbol{e_1}=-\\boldsymbol{e_3}$\n",
    "$\\boldsymbol{e_2}\\times \\boldsymbol{e_3}=\\boldsymbol{e_1} \\qquad$\n",
    "$\\boldsymbol{e_3}\\times \\boldsymbol{e_2}=-\\boldsymbol{e_1}$\n",
    "$\\boldsymbol{e_3}\\times \\boldsymbol{e_1}=\\boldsymbol{e_2} \\qquad$\n",
    "$\\boldsymbol{e_1}\\times \\boldsymbol{e_3}=-\\boldsymbol{e_2}$"
   ]
  },
  {
   "cell_type": "markdown",
   "id": "juvenile-fairy",
   "metadata": {},
   "source": [
    "# 投影的向量积\n",
    "$\\boldsymbol{S}的方向弄清楚之后，要真正求出它来还需要先搞清楚它的投影怎么计算。假设有：$\n",
    "\n",
    "$\\boldsymbol{a}=\\begin{pmatrix}a_1\\\\a_2\\\\a_3\\end{pmatrix}\\quad\\boldsymbol{b}=\\begin{pmatrix}b_1\\\\b_2\\\\b_3\\end{pmatrix}$\n",
    "\n",
    "围成的有向面积为：\n",
    "\n",
    "$\\boldsymbol{S}=\\boldsymbol{a}\\times\\boldsymbol{b}$\n",
    "\n",
    "$图示如下（为了展示，\\boldsymbol{S}进行了适当的缩放）：$\n",
    "<img src=\"image/size16.png\">\n",
    "其在xoy平面上的投影如下（也就是图中灰色的平行四边形）：\n",
    "<img src=\"image/size17.png\">\n",
    "虽然之前解释过了，这里再强调一下，希望同学们随时保持清醒，xoy平面和yox平面不一样，根据右手定则：\n",
    "<img src=\"image/size18.png\">\n",
    "投影到xoy平面上的平行四边形也是一个有向面积，它是由$\\boldsymbol{a}、\\boldsymbol{b}在xoy平面上的投影围成，也就是由\\boldsymbol{a}_{xoy}、\\boldsymbol{b}_{xoy}围成：$\n",
    "<img src=\"image/size19.png\">\n",
    "\n",
    "$xoy平面上z=0，因此\\boldsymbol{a}、\\boldsymbol{b}在xoy平面上的投影非常好求，就是把z分量置为0：$\n",
    "\n",
    "$\\boldsymbol{a}_{xoy}=\\begin{pmatrix}a_1\\\\a_2\\\\0\\end{pmatrix}\\quad\\boldsymbol{b}_{xoy}=\\begin{pmatrix}b_1\\\\b_2\\\\0\\end{pmatrix}$\n",
    "\n",
    "因此，投影到xoy的有向面积就是：\n",
    "\n",
    "$\\boldsymbol{S}_{xoy}=\\boldsymbol{a}_{xoy}\\times\\boldsymbol{b}_{xoy}$"
   ]
  },
  {
   "cell_type": "markdown",
   "id": "stupid-bread",
   "metadata": {},
   "source": [
    "结合行列式的性质，容易看出投影的向量积还可以表示为：\n",
    "$\\boldsymbol{S}_{xoy}=\\boldsymbol{a}_{xoy}\\times\\boldsymbol{b}_{xoy}=\\begin{vmatrix}a_1&b_1\\\\a_2&b_2\\end{vmatrix}\\boldsymbol{e_3}$\n",
    "\n",
    "$其中\\boldsymbol{e_3}为z轴的单位方向向量。$\n",
    "$仔细看一下投影，它由\\boldsymbol{a}_{xoy}、\\boldsymbol{b}_{xoy}围成：$\n",
    "<img src=\"image/size19.png\">\n",
    "这两个向量的z分量都为0：\n",
    "\n",
    "$\\boldsymbol{a}_{xoy}=\\begin{pmatrix}a_1\\\\a_2\\\\0\\end{pmatrix}\\quad\\boldsymbol{b}_{xoy}=\\begin{pmatrix}b_1\\\\b_2\\\\0\\end{pmatrix}$\n",
    "\n",
    "如果把为0的第三列都去掉，那么这两个向量相当于两个二维向量。把这两个向量作为矩阵的列向量，可以构成一个二阶行列式：\n",
    "\n",
    "$\\boldsymbol{a}_{xoy}=\\begin{pmatrix}a_1\\\\a_2\\end{pmatrix}\\quad\\boldsymbol{b}_{xoy}=\\begin{pmatrix}b_1\\\\b_2\\end{pmatrix}\\implies \\begin{vmatrix}a_1&b_1\\\\a_2&b_2\\end{vmatrix}$\n",
    "\n",
    "根据二阶行列式的意义，该行列式就是投影的有向面积，它的正负决定了该投影的方向是指向z轴正向，还是反向（从图中可以看出，投影的方向必然平行于z轴）。所以：\n",
    "\n",
    "$\\boldsymbol{S_{xoy}}=\\boldsymbol{a_{xoy}}\\times\\boldsymbol{b_{xoy}}=\\begin{vmatrix}a_1&b_1\\\\a_2&b_2\\end{vmatrix}\\boldsymbol{e_3}$\n",
    "\n",
    "解读下这个式子：\n",
    "\n",
    "$二阶行列式的大小，决定了\\boldsymbol{S}_{xoy}的模长\n",
    "二阶行列式的正负和\\boldsymbol{e_3}一起，决定了\\boldsymbol{S}_{xoy}的方向（z轴正方向还是反方向）\n",
    "当然，不光投影到xoy平面，还投影到了yoz，zox平面：$\n",
    "<img src=\"image/size20.png\">\n",
    "也就是说有向面积\\boldsymbol{S}有三个投影分量：\n",
    "\n",
    "\n",
    "$\\boldsymbol{S}\\xrightarrow{\\quad 投影\\quad}\n",
    "\\begin{cases}\n",
    "    \\boldsymbol{S}_{xoy}\\\\\n",
    "    \\boldsymbol{S}_{yoz}\\\\\n",
    "    \\boldsymbol{S}_{zox}\n",
    "\\end{cases}$\n",
    "\n",
    "这三个投影分量分别为：\n",
    "$\\boldsymbol{S}_{xoy}=\\boldsymbol{a}_{xoy}\\times\\boldsymbol{b}_{xoy}=\\begin{vmatrix}a_1&b_1\\\\a_2&b_2\\end{vmatrix}\\boldsymbol{e_3}$\n",
    "\n",
    "$\\boldsymbol{S}_{yoz}=\\boldsymbol{a}_{yoz}\\times\\boldsymbol{b}_{yoz}=\\begin{vmatrix}a_2&b_2\\\\a_3&b_3\\end{vmatrix}\\boldsymbol{e_1}$\n",
    "\n",
    "$\\boldsymbol{S}_{zox}=\\boldsymbol{a}_{zox}\\times\\boldsymbol{b}_{zox}=\\begin{vmatrix}a_3&b_3\\\\a_1&b_1\\end{vmatrix}\\boldsymbol{e_2}$\n",
    "\n",
    "$其中\\boldsymbol{e_1}为x轴的单位方向向量，\\boldsymbol{e_2}为y轴的单位方向向量，\\boldsymbol{e_3}为z轴的单位方向向量。$\n",
    "\n",
    "$知道了\\boldsymbol{S}的三个投影分量，加起来就可以得到\\boldsymbol{S}：$\n",
    "\n",
    "\n",
    "$\\begin{aligned}\n",
    "    \\boldsymbol{S}\n",
    "        &=\\boldsymbol{a}\\times\\boldsymbol{b}\\\\\n",
    "        \\quad\\\\\n",
    "        &=\\boldsymbol{S}_{xoy}+\\boldsymbol{S}_{yoz}+\\boldsymbol{S}_{zox}\\\\\n",
    "        \\quad\\\\\n",
    "        &=\\begin{vmatrix}a_1&b_1\\\\a_2&b_2\\end{vmatrix}\\boldsymbol{e_3}+\\begin{vmatrix}a_2&b_2\\\\a_3&b_3\\end{vmatrix}\\boldsymbol{e_1}+\\begin{vmatrix}a_3&b_3\\\\a_1&b_1\\end{vmatrix}\\boldsymbol{e_2}\\\\\n",
    "        \\quad\\\\\n",
    "        &=\\begin{vmatrix}a_2&b_2\\\\a_3&b_3\\end{vmatrix}\\boldsymbol{e_1}+\\begin{vmatrix}a_3&b_3\\\\a_1&b_1\\end{vmatrix}\\boldsymbol{e_2}+\\begin{vmatrix}a_1&b_1\\\\a_2&b_2\\end{vmatrix}\\boldsymbol{e_3}\n",
    "\\end{aligned}$\n",
    "\n",
    "为了方便记忆，上面的式子往往写作：\n",
    "\n",
    "\n",
    "$\\boldsymbol{S}=\\boldsymbol{a}\\times\\boldsymbol{b}=\\begin{vmatrix}a_2&b_2\\\\a_3&b_3\\end{vmatrix}\\boldsymbol{e_1}-\\begin{vmatrix}a_1&b_1\\\\a_3&b_3\\end{vmatrix}\\boldsymbol{e_2}+\\begin{vmatrix}a_1&b_1\\\\a_2&b_2\\end{vmatrix}\\boldsymbol{e_3}$\n",
    "\n",
    "最后，通过类比行列式的拉普拉斯展开规则，可以得到：\n",
    "\n",
    "$\\boldsymbol{S}=\\boldsymbol{a}\\times\\boldsymbol{b}=\\begin{vmatrix}\\boldsymbol{e_1}&a_1&b_1\\\\\\boldsymbol{e_2}&a_2&b_2\\\\\\boldsymbol{e_3}&a_3&b_3\\end{vmatrix}$\n",
    "\n",
    "这也是常用的向量积的表达式。\n"
   ]
  },
  {
   "cell_type": "markdown",
   "id": "superb-terry",
   "metadata": {},
   "source": [
    "# 混合积\n",
    "三个向量：\n",
    "\n",
    "$\\boldsymbol{a}=\\begin{pmatrix}a_{11}\\\\a_{21}\\\\a_{31}\\end{pmatrix},\\quad$\n",
    "$\\boldsymbol{b}=\\begin{pmatrix}a_{12}\\\\a_{22}\\\\a_{32}\\end{pmatrix},\\quad$ $\\boldsymbol{c}=\\begin{pmatrix}a_{13}\\\\a_{23}\\\\a_{33}\\end{pmatrix}$\n",
    "\n",
    "它们围成的平行六面体：\n",
    "<img src=\"image/size21.png\">\n",
    "除了可以用三阶行列式计算以外，还可以如下计算（和以前学的体积公式类似，只是底面积换成了有向底面积）：\n",
    "<img src=\"image/size22.png\">\n",
    "$有向底面积\\boldsymbol{S}可以通过向量积来计算，根据之前的学习，我们知道\\boldsymbol{S}是垂直于底面的一个向量：$\n",
    "\n",
    "<img src=\"image/size24.png\">\n",
    "$\\boldsymbol{S}垂直于底面，即和高h平行，那么\\boldsymbol{c}在\\boldsymbol{S}的投影就是h，所以（假设\\boldsymbol{c}和\\boldsymbol{S}的夹角为\\theta）：$\n",
    "\n",
    "$(\\boldsymbol{a}\\times\\boldsymbol{b})\\cdot\\boldsymbol{c}=\\underbrace{|\\boldsymbol{a}\\times\\boldsymbol{b}|}_{有向底面积\\boldsymbol{S}}\\ \\ \\underbrace{|\\boldsymbol{c}|\\cos\\theta}_{高h}\\implies \\boldsymbol{V}=\\boldsymbol{S}\\times h$\n",
    "\n",
    "把上面整理后就可以得出有向体积的另外一种计算方法：\n",
    "$V=(\\boldsymbol{a}\\times\\boldsymbol{b})\\cdot\\boldsymbol{c}$\n",
    "\n",
    "$这也称为\\color{Salmon}{混合积}，这个命名是因为混合了数量积和向量积，也可以简记为：$\n",
    "\n",
    "$V=[\\boldsymbol{a},\\boldsymbol{b},\\boldsymbol{c}]$\n",
    "\n",
    "这种计算方法其实和三阶行列式是相同的。首先，假设三个向量分别为：\n",
    "$\\boldsymbol{a}=\\begin{pmatrix}a_{1}\\\\a_{2}\\\\a_{3}\\end{pmatrix},\\quad $\n",
    "$\\boldsymbol{b}=\\begin{pmatrix}b_{1}\\\\b_{2}\\\\b_{3}\\end{pmatrix},\\quad $\n",
    "$\\boldsymbol{c}=\\begin{pmatrix}c_{1}\\\\c_{2}\\\\c_{3}\\end{pmatrix}$\n",
    "\n",
    "$如果\\boldsymbol{e_1}为x轴的单位方向向量，\\boldsymbol{e_2}为y轴的单位方向向量，\\boldsymbol{e_3}为z轴的单位方向向量，那么有：$\n",
    "\n",
    "$\\boldsymbol{c}=c_{1}\\boldsymbol{e_1}+c_{2}\\boldsymbol{e_2}+c_{3}\\boldsymbol{e_3}$\n",
    "\n",
    "根据之前的计算，可知道向量积为：\n",
    "\n",
    "\n",
    "$\\boldsymbol{a}\\times\\boldsymbol{b}=\\begin{vmatrix}a_2&b_2\\\\a_3&b_3\\end{vmatrix}\\boldsymbol{e_1}-\\begin{vmatrix}a_1&b_1\\\\a_3&b_3\\end{vmatrix}\\boldsymbol{e_2}+\\begin{vmatrix}a_1&b_1\\\\a_2&b_2\\end{vmatrix}\\boldsymbol{e_3}$\n",
    "\n",
    "所以结合拉普拉斯展开可以得到：\n",
    "\n",
    "\n",
    "$\\begin{aligned}\n",
    "    V\n",
    "        &=(\\boldsymbol{a}\\times\\boldsymbol{b})\\cdot\\boldsymbol{c}\\\\\n",
    "        \\\\\n",
    "        &=\\begin{vmatrix}a_2&b_2\\\\a_3&b_3\\end{vmatrix}c_1-\\begin{vmatrix}a_1&b_1\\\\a_3&b_3\\end{vmatrix}c_2+\\begin{vmatrix}a_1&b_1\\\\a_2&b_2\\end{vmatrix}c_3\\\\\n",
    "        \\\\\n",
    "        &=\\begin{vmatrix}a_1&b_1&c_1\\\\a_2&b_2&c_2\\\\a_3&b_3&c_3\\end{vmatrix}\n",
    "\\end{aligned}$\n",
    "\n",
    "所以混合积和三阶行列式是等价的，只是形式上有所不同。"
   ]
  },
  {
   "cell_type": "markdown",
   "id": "settled-remark",
   "metadata": {},
   "source": [
    "如果两个向量平行，那么所围成为平行四边形面积必然为0：\n",
    "<img src=\"image/size26.png\">\n",
    "\n",
    "所以，可以通过向量积给出判断平行的充要条件：\n",
    "\n",
    "$平行\\iff \\boldsymbol{a}\\times\\boldsymbol{b}=\\boldsymbol{0}$\n",
    "\n",
    "$其实除了两个向量平行外，还有一种情况可以让向量积为\\boldsymbol{0}，就是其中某一个（或两个）向量为零向量,不过零向量和任意向量平行，所以依然可以推出两向量平行。$"
   ]
  },
  {
   "cell_type": "markdown",
   "id": "after-parking",
   "metadata": {},
   "source": [
    "向量积和混合积有以下常用性质：\n",
    "\n",
    "<img src=\"image/size17.svg\">"
   ]
  },
  {
   "cell_type": "markdown",
   "id": "leading-alias",
   "metadata": {},
   "source": [
    "# Execrise\n",
    "设\n",
    "\n",
    "$\\mathbf{a}=3 \\mathbf{i}-\\mathbf{j}-2 \\mathbf{k}\\quad \\mathbf{b}=\\mathbf{i}+2 \\mathbf{j}-\\mathbf{k}$\n",
    "\n",
    "$\\mathbf{a}\\times\\mathbf{b}=(x,y,z)$\n",
    "\n",
    "则"
   ]
  },
  {
   "cell_type": "code",
   "execution_count": 9,
   "id": "governing-pottery",
   "metadata": {
    "tags": []
   },
   "outputs": [
    {
     "data": {
      "text/plain": [
       "array([5, 1, 7])"
      ]
     },
     "execution_count": 9,
     "metadata": {},
     "output_type": "execute_result"
    }
   ],
   "source": [
    "np.cross(np.array([3,-1,-2]), np.array([1,2,-1]))"
   ]
  },
  {
   "cell_type": "markdown",
   "id": "grateful-persian",
   "metadata": {},
   "source": [
    "根据向量积\n",
    "\n",
    "$\\mathbf{a}\\times\\mathbf{b}=\\left|\\begin{array}{ccc}{\\mathbf{i}} & {\\mathbf{j}} & {\\mathbf{k}} \\\\ {3} & {-1} & {-2} \\\\ {1} & {2} & {-1}\\end{array}\\right|=(5,1,7)$"
   ]
  },
  {
   "cell_type": "markdown",
   "id": "plain-printer",
   "metadata": {},
   "source": [
    "已知三角形ABC的顶点分别是\n",
    "\n",
    "A(1,2,3),B(3,4,5),C(2,4,7)\n",
    "\n",
    "求三角形ABC的面积"
   ]
  },
  {
   "cell_type": "code",
   "execution_count": 10,
   "id": "second-wright",
   "metadata": {},
   "outputs": [],
   "source": [
    "ab=np.array([2,2,2])\n",
    "ac=np.array([1,2,4])"
   ]
  },
  {
   "cell_type": "code",
   "execution_count": 17,
   "id": "worldwide-tribute",
   "metadata": {},
   "outputs": [],
   "source": [
    "s=np.cross(ab,ac)"
   ]
  },
  {
   "cell_type": "code",
   "execution_count": 18,
   "id": "earlier-wholesale",
   "metadata": {},
   "outputs": [
    {
     "data": {
      "text/plain": [
       "3.7416573867739413"
      ]
     },
     "execution_count": 18,
     "metadata": {},
     "output_type": "execute_result"
    }
   ],
   "source": [
    "np.linalg.norm(s)/2"
   ]
  },
  {
   "cell_type": "markdown",
   "id": "intermediate-northeast",
   "metadata": {},
   "source": [
    "由于\n",
    "\n",
    "$\\overrightarrow{AB}=(2,2,2),\\overrightarrow{AC}=(1,2,4)$\n",
    "\n",
    "根据向量积可知\n",
    "\n",
    "$面积=\\frac{1}{2}|\\overrightarrow{AB}\\times\\overrightarrow{AC}|$\n",
    "\n",
    "而\n",
    "\n",
    "$\\overrightarrow{AB}\\times\\overrightarrow{AC}=\n",
    "\\begin{vmatrix}\\mathbf{i}&\\mathbf{j}&\\mathbf{k}\\\\\n",
    "2&2&2\\\\1&2&4\\end{vmatrix}=4\\mathbf{i}-6\\mathbf{j}+2\\mathbf{k}$\n",
    "\n",
    "于是\n",
    "\n",
    "$面积=\\frac{1}{2}\\sqrt{4^2+(-6)^2+2^2}=\\sqrt{14}$\n",
    "\n"
   ]
  },
  {
   "cell_type": "markdown",
   "id": "specific-honolulu",
   "metadata": {},
   "source": [
    "已知\n",
    "\n",
    "$M_{1}(1,-1,2), M_{2}(3,3,1),M_{3}(3,1,3)$\n",
    "\n",
    "$求与\\overrightarrow{M_{1} M_{2}}, \\overrightarrow{M_{2} M_{3}}同时垂直的单位向量(x,y,z)$"
   ]
  },
  {
   "cell_type": "code",
   "execution_count": 19,
   "id": "southwest-place",
   "metadata": {},
   "outputs": [],
   "source": [
    "m1m2=np.array([2,4,-1])\n",
    "m1m3=np.array([2,2,1])"
   ]
  },
  {
   "cell_type": "code",
   "execution_count": 21,
   "id": "attended-woman",
   "metadata": {},
   "outputs": [],
   "source": [
    "s_m=np.cross(m1m2,m1m3)"
   ]
  },
  {
   "cell_type": "code",
   "execution_count": 22,
   "id": "developed-toyota",
   "metadata": {},
   "outputs": [],
   "source": [
    "s_m_m=np.linalg.norm(s_m)"
   ]
  },
  {
   "cell_type": "code",
   "execution_count": 24,
   "id": "preliminary-jenny",
   "metadata": {},
   "outputs": [
    {
     "data": {
      "text/plain": [
       "array([ 0.72760688, -0.48507125, -0.48507125])"
      ]
     },
     "execution_count": 24,
     "metadata": {},
     "output_type": "execute_result"
    }
   ],
   "source": [
    "s_m/s_m_m"
   ]
  },
  {
   "cell_type": "code",
   "execution_count": 26,
   "id": "characteristic-brunswick",
   "metadata": {},
   "outputs": [
    {
     "data": {
      "text/plain": [
       "0.48507125007266594"
      ]
     },
     "execution_count": 26,
     "metadata": {},
     "output_type": "execute_result"
    }
   ],
   "source": [
    "2/np.sqrt(17)"
   ]
  },
  {
   "cell_type": "markdown",
   "id": "political-serve",
   "metadata": {},
   "source": [
    "$\\begin{array}{l}{\\overrightarrow{M_{1} M_{2}}=(3-1,3-(-1), 1-2)=(2,4,-1)} \\\\ {\\overrightarrow{M_{2} M_{3}}=(3-3,1-3,3-1)=(0,-2,2)}\\end{array}$\n",
    "$根据向量积可知,\\overrightarrow{M_{1} M_{2}} \\times \\overrightarrow{M_{2} M_{3}}与\\overrightarrow{M_{1} M_{2}}, \\overrightarrow{M_{2} M_{3}}同时垂直,故所求向量可取为$\n",
    "\n",
    "$a=\\frac{\\pm(\\overrightarrow{M_{1} M_{2}} \\times \\overrightarrow{M_{2} M_{3}})}{|\\overrightarrow{M_{1} M_{2}} \\times \\overrightarrow{M_{2} M_{3}}|}$\n",
    "\n",
    "由\n",
    "\n",
    "$\\overrightarrow{M_{1} M_{2}} \\times \\overrightarrow{M_{2} M_{3}}=\\left|\\begin{array}{ccc}{\\mathbf{i}} & {\\mathbf{j}} & {\\mathbf{k}} \\\\ {2} & {4} & {-1} \\\\ {0} & {-2} & {2}\\end{array}\\right|=(6,-4,-4)$\n",
    "\n",
    "$|\\overrightarrow{M_{1} M_{2}} \\times \\overrightarrow{M_{2} M_{3}}|=\\sqrt{6^{2}+(-4)^{2}+(-4)^{2}}=\\sqrt{68}=2 \\sqrt{17}$\n",
    "\n",
    "知\n",
    "\n",
    "$a=\\frac{\\pm 1}{2 \\sqrt{17}}(6,-4,-4)=\\pm\\left(\\frac{3}{\\sqrt{17}},-\\frac{2}{\\sqrt{17}},-\\frac{2}{\\sqrt{17}}\\right)$"
   ]
  },
  {
   "cell_type": "markdown",
   "id": "periodic-norman",
   "metadata": {},
   "source": [
    "# 混合积练习"
   ]
  },
  {
   "cell_type": "markdown",
   "id": "increasing-amateur",
   "metadata": {},
   "source": [
    "$\\boldsymbol{a}=(-1,1,1),\\boldsymbol{b}=(1,-1,1),\n",
    "\\boldsymbol{c}=(1,1,-1)$\n",
    "计算\n",
    "\n",
    "$\\boldsymbol{a}\\cdot(\\boldsymbol{b}\\times \\boldsymbol{c})$"
   ]
  },
  {
   "cell_type": "code",
   "execution_count": 31,
   "id": "established-missouri",
   "metadata": {},
   "outputs": [],
   "source": [
    "a = np.array([-1,1,1])\n",
    "b= np.array([1,-1,1])\n",
    "c = np.array([1,1,-1])"
   ]
  },
  {
   "cell_type": "code",
   "execution_count": 33,
   "id": "handy-israel",
   "metadata": {},
   "outputs": [
    {
     "data": {
      "text/plain": [
       "4"
      ]
     },
     "execution_count": 33,
     "metadata": {},
     "output_type": "execute_result"
    }
   ],
   "source": [
    "np.dot(a, np.cross(b,c))"
   ]
  },
  {
   "cell_type": "code",
   "execution_count": 35,
   "id": "mobile-shoot",
   "metadata": {},
   "outputs": [
    {
     "data": {
      "text/plain": [
       "4.0"
      ]
     },
     "execution_count": 35,
     "metadata": {},
     "output_type": "execute_result"
    }
   ],
   "source": [
    "np.linalg.det(np.array([[-1,1,1],[1,-1,1],[1,1,-1]])) #求行列式的值"
   ]
  },
  {
   "cell_type": "markdown",
   "id": "necessary-reducing",
   "metadata": {},
   "source": [
    "运用混合积的运算法则:\n",
    "       $\\boldsymbol{a}\\cdot(\\boldsymbol{b}\\times\\boldsymbol{c})=a_1\\begin{vmatrix}b_2&c_2\\\\b_3&c_3\\end{vmatrix}-a_2\\begin{vmatrix}b_1&c_1\\\\b_3&c_3\\end{vmatrix}+a_3\\begin{vmatrix}b_1&c_1\\\\b_2&c_2\\end{vmatrix}$\n",
    "\n",
    "可得\n",
    "$\\begin{align}\n",
    "    \\boldsymbol{a}\\cdot(\\boldsymbol{b}\\times \\boldsymbol{c})&=\n",
    "    -1\\begin{vmatrix}-1&1\\\\1&-1\\end{vmatrix}-1\\begin{vmatrix}1&1\\\\1&-1\\end{vmatrix}\n",
    "    +1\\begin{vmatrix}1&1\\\\-1&1\\end{vmatrix}\\\\\\\\\n",
    "    &=1\\cdot 0-1\\cdot(-2)+1\\cdot(2)=4\n",
    "\\end{align}$"
   ]
  },
  {
   "cell_type": "code",
   "execution_count": null,
   "id": "attended-bankruptcy",
   "metadata": {},
   "outputs": [],
   "source": []
  }
 ],
 "metadata": {
  "kernelspec": {
   "display_name": "Python 3",
   "language": "python",
   "name": "python3"
  },
  "language_info": {
   "codemirror_mode": {
    "name": "ipython",
    "version": 3
   },
   "file_extension": ".py",
   "mimetype": "text/x-python",
   "name": "python",
   "nbconvert_exporter": "python",
   "pygments_lexer": "ipython3",
   "version": "3.8.2"
  }
 },
 "nbformat": 4,
 "nbformat_minor": 5
}
