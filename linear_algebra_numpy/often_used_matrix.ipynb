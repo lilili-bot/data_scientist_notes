{
 "cells": [
  {
   "cell_type": "code",
   "execution_count": 2,
   "id": "built-vaccine",
   "metadata": {},
   "outputs": [],
   "source": [
    "import numpy as np"
   ]
  },
  {
   "cell_type": "markdown",
   "id": "hazardous-morocco",
   "metadata": {},
   "source": [
    "下列矩阵：\n",
    "\n",
    "$A=\\begin{pmatrix}\\cos\\theta&-\\sin\\theta\\\\\\sin\\theta&\\cos\\theta\\end{pmatrix}$\n",
    "\n",
    "它的列向量为：\n",
    "\n",
    "$\\boldsymbol{c_1}=\\begin{pmatrix}\\cos\\theta\\\\\\sin\\theta\\end{pmatrix},\\quad\\boldsymbol{c_2}=\\begin{pmatrix}-\\sin\\theta\\\\\\cos\\theta\\end{pmatrix}$\n",
    "\n",
    "容易证明，$\\boldsymbol{e_1}旋转\\theta角就得到了\\boldsymbol{c_1}，\\boldsymbol{e_2}旋转\\theta角就得到了\\boldsymbol{c_2}$：\n"
   ]
  },
  {
   "cell_type": "code",
   "execution_count": 7,
   "id": "dental-configuration",
   "metadata": {},
   "outputs": [
    {
     "data": {
      "text/html": [
       "<video controls>\n",
       "  <source src=\"image/Rotation_matrix.mp4\" type=\"video/mp4\" >\n",
       "</video>\n"
      ],
      "text/plain": [
       "<IPython.core.display.HTML object>"
      ]
     },
     "metadata": {},
     "output_type": "display_data"
    }
   ],
   "source": [
    "%%HTML\n",
    "<video controls>\n",
    "  <source src=\"image/Rotation_matrix.mp4\" type=\"video/mp4\" >\n",
    "</video>"
   ]
  },
  {
   "cell_type": "code",
   "execution_count": 3,
   "id": "tight-measure",
   "metadata": {},
   "outputs": [],
   "source": [
    "v1 = np.array([2,2,np.sqrt(2)])"
   ]
  },
  {
   "cell_type": "code",
   "execution_count": 4,
   "id": "numerous-words",
   "metadata": {},
   "outputs": [
    {
     "data": {
      "text/plain": [
       "array([2.        , 2.        , 1.41421356])"
      ]
     },
     "execution_count": 4,
     "metadata": {},
     "output_type": "execute_result"
    }
   ],
   "source": [
    "v1"
   ]
  },
  {
   "cell_type": "code",
   "execution_count": 5,
   "id": "banned-assault",
   "metadata": {},
   "outputs": [
    {
     "data": {
      "text/plain": [
       "3.1622776601683795"
      ]
     },
     "execution_count": 5,
     "metadata": {},
     "output_type": "execute_result"
    }
   ],
   "source": [
    "np.linalg.norm(v1)"
   ]
  },
  {
   "cell_type": "code",
   "execution_count": 6,
   "id": "spoken-understanding",
   "metadata": {},
   "outputs": [
    {
     "data": {
      "text/plain": [
       "3.1622776601683795"
      ]
     },
     "execution_count": 6,
     "metadata": {},
     "output_type": "execute_result"
    }
   ],
   "source": [
    "np.linalg.norm(np.array([1,3,0]))"
   ]
  },
  {
   "cell_type": "code",
   "execution_count": null,
   "id": "seasonal-vienna",
   "metadata": {},
   "outputs": [],
   "source": []
  }
 ],
 "metadata": {
  "kernelspec": {
   "display_name": "Python 3",
   "language": "python",
   "name": "python3"
  },
  "language_info": {
   "codemirror_mode": {
    "name": "ipython",
    "version": 3
   },
   "file_extension": ".py",
   "mimetype": "text/x-python",
   "name": "python",
   "nbconvert_exporter": "python",
   "pygments_lexer": "ipython3",
   "version": "3.8.2"
  }
 },
 "nbformat": 4,
 "nbformat_minor": 5
}
