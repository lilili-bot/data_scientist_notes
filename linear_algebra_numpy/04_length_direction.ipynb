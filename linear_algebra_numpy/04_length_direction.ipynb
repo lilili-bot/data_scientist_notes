{
 "cells": [
  {
   "cell_type": "code",
   "execution_count": 1,
   "id": "mature-indonesian",
   "metadata": {},
   "outputs": [],
   "source": [
    "import numpy as np"
   ]
  },
  {
   "cell_type": "markdown",
   "id": "awful-tender",
   "metadata": {},
   "source": [
    "# 夹角与方向"
   ]
  },
  {
   "cell_type": "markdown",
   "id": "median-wallet",
   "metadata": {},
   "source": [
    "$二维直角坐标系中的向量\\boldsymbol{u}=a\\boldsymbol{i}+b\\boldsymbol{j}，它和x轴、y轴的正方向的夹角\\alpha、\\beta都称为该向量的\\color{Salmon}{方向角}：$\n",
    "\n",
    "$这两个角的余弦也称为\\color{Salmon}{方向余弦}，可以如下计算:$\n",
    "\n",
    "$\\cos\\alpha=\\frac{a}{|\\boldsymbol{u}|},\\quad \\cos\\beta=\\frac{b}{|\\boldsymbol{u}|}$\n",
    "\n",
    "用方向余弦构造一个向量：\n",
    "\n",
    "$(\\cos\\alpha,\\cos\\beta)=(\\frac{a}{|\\boldsymbol{u}|},\\frac{b}\n",
    "{|\\boldsymbol{u}|})=\\frac{1}{|\\boldsymbol{u}|}(a,b)=\\frac{\\boldsymbol{u}}\n",
    "{|\\boldsymbol{u}|}=\\boldsymbol{e}_{\\boldsymbol{u}}$\n",
    "\n",
    "$容易知道，\\boldsymbol{e}_{\\boldsymbol{u}}的长度为1，方向与\\boldsymbol{u}相同，所以也称为\\boldsymbol{u}的\\color{Salmon}{单位方向向量}$"
   ]
  },
  {
   "cell_type": "markdown",
   "id": "animal-christopher",
   "metadata": {},
   "source": [
    "<img src=\"image/cos.png\">"
   ]
  },
  {
   "cell_type": "markdown",
   "id": "lesbian-anniversary",
   "metadata": {},
   "source": [
    "三维的情况\n",
    "$三维直角坐标系中的向量\\boldsymbol{u}=a\\boldsymbol{i}+b\\boldsymbol{j}++c\\boldsymbol{k}，它和x轴、y轴以及z轴的正方向的夹角\\alpha、\\beta和\\gamma都称为该向量的\\color{Salmon}{方向角}：$\n",
    "\n",
    "三个方向角的方向余弦分别为：\n",
    "\n",
    "$\\cos\\alpha=\\frac{a}{|\\boldsymbol{u}|},\\quad \\cos\\beta=\\frac{b}{|\\boldsymbol{u}|},\\quad \\cos\\gamma=\\frac{c}{|\\boldsymbol{u}|}$\n",
    "\n"
   ]
  },
  {
   "cell_type": "markdown",
   "id": "indonesian-gambling",
   "metadata": {},
   "source": [
    "<img src=\"image/3d_cos.png\">"
   ]
  },
  {
   "cell_type": "markdown",
   "id": "uniform-chester",
   "metadata": {},
   "source": [
    "用方向余弦构造一个向量：\n",
    "\n",
    "$(\\cos\\alpha,\\cos\\beta,\\cos\\gamma)=(\\frac{a}{|\\boldsymbol{u}|},\\frac{b}{|\\boldsymbol{u}|},\\frac{c}{|\\boldsymbol{u}|})=\\frac{1}{|\\boldsymbol{u}|}(a,b,c)=\\frac{\\boldsymbol{u}}{|\\boldsymbol{u}|}=\\boldsymbol{e}_{\\boldsymbol{u}}$"
   ]
  },
  {
   "cell_type": "markdown",
   "id": "unique-sewing",
   "metadata": {},
   "source": [
    "$已知两点M_1(2,2,\\sqrt{2}),M_2(1,3,0),关于向量\\overrightarrow{M_1M_2}的方向余弦，下列说法正确的是$"
   ]
  },
  {
   "cell_type": "code",
   "execution_count": 7,
   "id": "consolidated-metallic",
   "metadata": {},
   "outputs": [],
   "source": [
    "M=np.array([2-1,2-3,np.sqrt(2)-0])"
   ]
  },
  {
   "cell_type": "code",
   "execution_count": 11,
   "id": "strange-union",
   "metadata": {},
   "outputs": [],
   "source": [
    "M_norm=np.linalg.norm(M)"
   ]
  },
  {
   "cell_type": "code",
   "execution_count": 12,
   "id": "representative-clearing",
   "metadata": {},
   "outputs": [
    {
     "data": {
      "text/plain": [
       "1.0"
      ]
     },
     "execution_count": 12,
     "metadata": {},
     "output_type": "execute_result"
    }
   ],
   "source": [
    "a = 2/M_norm\n",
    "a"
   ]
  },
  {
   "cell_type": "code",
   "execution_count": 14,
   "id": "retained-treaty",
   "metadata": {},
   "outputs": [
    {
     "data": {
      "text/plain": [
       "-0.5"
      ]
     },
     "execution_count": 14,
     "metadata": {},
     "output_type": "execute_result"
    }
   ],
   "source": [
    "b = -1/M_norm\n",
    "b"
   ]
  },
  {
   "cell_type": "code",
   "execution_count": 15,
   "id": "latin-diary",
   "metadata": {},
   "outputs": [
    {
     "data": {
      "text/plain": [
       "0.7071067811865476"
      ]
     },
     "execution_count": 15,
     "metadata": {},
     "output_type": "execute_result"
    }
   ],
   "source": [
    "c = np.sqrt(2)/M_norm\n",
    "c"
   ]
  },
  {
   "cell_type": "markdown",
   "id": "massive-punch",
   "metadata": {},
   "source": [
    "$向量\\boldsymbol{a}=(6,7,-6)的单位向量是$"
   ]
  },
  {
   "cell_type": "code",
   "execution_count": 16,
   "id": "expected-insider",
   "metadata": {},
   "outputs": [],
   "source": [
    "a_norm = np.linalg.norm(np.array([6,7,-6]))"
   ]
  },
  {
   "cell_type": "code",
   "execution_count": 20,
   "id": "nominated-technology",
   "metadata": {},
   "outputs": [
    {
     "data": {
      "text/plain": [
       "array([ 0.54545455,  0.63636364, -0.54545455])"
      ]
     },
     "execution_count": 20,
     "metadata": {},
     "output_type": "execute_result"
    }
   ],
   "source": [
    "e_a = np.array([6,7,-6])/a_norm\n",
    "e_a"
   ]
  },
  {
   "cell_type": "markdown",
   "id": "matched-electronics",
   "metadata": {},
   "source": [
    "根据夹角和方向可知\n",
    "\n",
    "$向量\\boldsymbol{a}的单位向量为\\frac{\\boldsymbol{a}}{|\\boldsymbol{a}|},故平行于向量\\boldsymbol{a}的单位向量为$\n",
    "\n",
    "$\\pm \\frac{a}{|a|}=\\pm \\frac{1}{11}(6,7,-6)=\\pm\\left(\\frac{6}{11}, \\frac{7}{11}, \\frac{-6}{11}\\right)$"
   ]
  },
  {
   "cell_type": "markdown",
   "id": "fewer-program",
   "metadata": {},
   "source": [
    "# 二维中的投影"
   ]
  },
  {
   "cell_type": "markdown",
   "id": "complex-border",
   "metadata": {},
   "source": [
    "$二维直角坐标系中的某向量\\boldsymbol{u}=a\\boldsymbol{i}+b\\boldsymbol{j}，向x轴作垂线，与x轴相交于(a,0)点:$\n",
    "\n",
    "<img src=\"image/projection1.png\">\n",
    "<img src=\"image/projection2.png\">\n",
    "$其中数a就称为\\boldsymbol{u}在x轴上的\\color{Salmon}{投影}（其实也就是\\boldsymbol{u}在x轴上的分量），记作（Prj是Projection的开头，也就是投影的意思）：$\n",
    "\n",
    "$a=\\text{Prj}_{x}\\boldsymbol{u}$\n",
    "\n",
    "$同样的道理，\\boldsymbol{u}在y轴上的\\color{Salmon}{投影}为：$\n",
    "\n",
    "$b=\\text{Prj}_{y}\\boldsymbol{u}$\n",
    "\n",
    "$更一般的，对于任意一个向量\\boldsymbol{w}，它的单位方向向量为\\boldsymbol{e}_\\boldsymbol{w}，那么\\boldsymbol{u}向其所在直线作垂线，交于\\lambda \\boldsymbol{e}_\\boldsymbol{w}点：$\n",
    "\n",
    "<img src=\"image/projection3.png\">\n",
    "\n",
    "$数\\lambda称为\\boldsymbol{u}在\\boldsymbol{w}上的\\color{Salmon}{投影}：$\n",
    "\n",
    "$\\lambda=\\text{Prj}_{\\boldsymbol{w}}\\boldsymbol{u}$\n",
    "\n",
    "如果知道两个向量的夹角$(\\widehat{\\boldsymbol{u},\\boldsymbol{w}})=\\alpha：$\n",
    "\n",
    "<img src=\"image/projection4.png\">\n",
    "\n",
    "# $那么投影\\lambda可以计算如下：$\n",
    "\n",
    "# $\\lambda=\\text{Prj}_{\\boldsymbol{w}}\\boldsymbol{u}=|\\boldsymbol{u}|\\cos\\alpha$\n"
   ]
  },
  {
   "cell_type": "markdown",
   "id": "accurate-madrid",
   "metadata": {},
   "source": [
    "$一根绳子用为\\boldsymbol{F}的力拉着一个钩子：$\n",
    "<img src=\"image/projection7.jpeg\">\n",
    "$那么\\boldsymbol{F}在\\boldsymbol{u}方向的分力为多少？$\n",
    "$这其实就是求\\boldsymbol{F}在\\boldsymbol{u}上的投影为多少。根据图中的数字可以如下计算：$\n",
    "\n",
    "$\\begin{aligned}\n",
    "    \\lambda\n",
    "        &=\\text{Prj}_{\\boldsymbol{u}}\\boldsymbol{F}=|\\boldsymbol{F}|\\cos\\alpha\\\\\n",
    "        &=250\\cos(30^\\circ)=250\\frac{\\sqrt{3}}{2}\n",
    "\\end{aligned}$\n",
    "\n",
    "$所以分力为125\\sqrt{3}\\ \\text{N}。$"
   ]
  },
  {
   "cell_type": "markdown",
   "id": "printable-buyer",
   "metadata": {},
   "source": [
    "# 计算投影需要知道两个向量的夹角，有些时候我们只知道两个向量的坐标，那又怎么求出夹角呢？"
   ]
  },
  {
   "cell_type": "markdown",
   "id": "angry-tennessee",
   "metadata": {},
   "source": [
    "# 二维中的夹角计算"
   ]
  },
  {
   "cell_type": "markdown",
   "id": "dietary-jimmy",
   "metadata": {},
   "source": [
    "$则夹角的余弦可以如下计算（\\boldsymbol{a}和\\boldsymbol{b}都不是零向量）：$\n",
    "<img src=\"image/dot1.png\">\n",
    "$\\cos\\theta=\\displaystyle\\frac{a_1b_1+a_2b_2}{|\\boldsymbol{a}||\\boldsymbol{b}|}$\n",
    "\n",
    "$（1）刚开始的时候我们就说过，按照规定，零向量的方向任意，那么和某一向量夹角也任意，所以如果\\boldsymbol{a}或\\boldsymbol{b}是零向量，那么没有必要计算它们的夹角。\n",
    "\\quad（2）根据欧氏几何中的余弦定理，我们可以得到：$\n",
    "\n",
    "$AB^2=OA^2+OB^2-2OA\\cdot OB\\cos\\theta$\n",
    "\n",
    "上式可以通过向量为：\n",
    "\n",
    "$|\\boldsymbol{a}-\\boldsymbol{b}|^2=|\\boldsymbol{a}|^2+|\\boldsymbol{b}|^2-2|\\boldsymbol{a}||\\boldsymbol{b}|\\cos\\theta,\\quad (1)$\n",
    "\n",
    "算一下(1)式的左边为多少，首先：\n",
    "\n",
    "\n",
    "$\\begin{aligned}\n",
    "    |\\boldsymbol{a_{}}-\\boldsymbol{b_{}}|\n",
    "        &=|(a_1,a_2)-(b_1,b_2)|\\\\\n",
    "        \\quad\\\\\n",
    "        &=|(a_1-b_1,a_2-b_2)|\\\\\n",
    "        \\quad\\\\\n",
    "        &=\\sqrt{(a_1-b_1)^2+(a_2-b_2)^2}\n",
    "\\end{aligned}$\n",
    "\n",
    "取平方之后就得到(1)式的左边：\n",
    "\n",
    "\n",
    "$\\begin{aligned}\n",
    "    |\\boldsymbol{a_{}}-\\boldsymbol{b_{}}|^2\n",
    "        &=(a_1-b_1)^2+(a_2-b_2)^2\\\\\n",
    "        \\quad\\\\\n",
    "        &=\\underbrace{(a_1^2+a_2^2)}_{|\\boldsymbol{a}|^2}+\\underbrace{(b_1^2+b_2^2)}_{|\\boldsymbol{b}|^2}-2a_1b_1-2a_2b2\n",
    "        \\\\\n",
    "        &=|\\boldsymbol{a}|^2+|\\boldsymbol{b}|^2-2a_1b_1-2a_2b_2\n",
    "\\end{aligned}$\n",
    "\n",
    "所以(1)式可以改写为：\n",
    "\n",
    "\n",
    "$\\begin{aligned}\n",
    "    |\\boldsymbol{a_{}}-\\boldsymbol{b_{}}|^2\n",
    "        &=|\\boldsymbol{a}|^2+|\\boldsymbol{b}|^2-2a_1b_1-2a_2b_2\\\\\n",
    "        \\quad\\\\\n",
    "        &=|\\boldsymbol{a}|^2+|\\boldsymbol{b}|^2-2|\\boldsymbol{a}||\\boldsymbol{b}|\\cos\\theta\n",
    "\\end{aligned}$\n",
    "\n",
    "$在\\boldsymbol{a}和\\boldsymbol{b}都不是零向量的条件下，整理之后可得：$\n",
    "\n",
    "$\\cos\\theta=\\displaystyle\\frac{a_1b_1+a_2b_2}{|\\boldsymbol{a_{}}||\\boldsymbol{b_{}}|}$\n",
    "\n",
    "\n"
   ]
  },
  {
   "cell_type": "markdown",
   "id": "living-madison",
   "metadata": {},
   "source": [
    "$假设定义如下运算，将它称为向量的\\color{Salmon}{数量积}（两个向量运算的结果得到的是实数，故此命名）或者\\color{Salmon}{点积}：$\n",
    "\n",
    "$\\boldsymbol{a}\\cdot\\boldsymbol{b}=(\\color{Magenta}{a_1},\\color{Orange}{a_2})\\cdot(\\color{Magenta}{b_1},\\color{Orange}{b_2})=\\color{Magenta}{a_1b_1}+\\color{Orange}{a_2b_2}$\n",
    "\n",
    "那么夹角的余弦可用数量积来表示：\n",
    "\n",
    "$\\cos\\theta=\\displaystyle\\frac{a_1b_1+a_2b_2}{|\\boldsymbol{a_{}}||\\boldsymbol{b_{}}|}=\\displaystyle\\frac{\\boldsymbol{a}\\cdot\\boldsymbol{b}}{|\\boldsymbol{a}||\\boldsymbol{b}|}$\n",
    "\n",
    "最后夹角\\theta可以通过反余弦函数得到：\n",
    "\n",
    "$\\theta=\\arccos(\\frac{\\boldsymbol{a}\\cdot\\boldsymbol{b}}{|\\boldsymbol{a}||\\boldsymbol{b}|}),\\quad 0\\le\\theta\\le\\pi$"
   ]
  },
  {
   "cell_type": "markdown",
   "id": "taken-remainder",
   "metadata": {},
   "source": [
    "数量积的定义可以推广到三维向量（实际上可以推广到任意维向量）：\n",
    "\n",
    "$\\boldsymbol{a}\\cdot\\boldsymbol{b}=(\\color{Magenta}{a_1},\\color{ForestGreen}{a_2},\\color{Orange}{a_3})\\cdot(\\color{Magenta}{b_1},\\color{ForestGreen}{b_2},\\color{Orange}{b_3})=\\color{Magenta}{a_1b_1}+\\color{ForestGreen}{a_2b_2}+\\color{Orange}{a_3b_3}$\n",
    "\n",
    "$那么三维直角坐标系中两个三维向量的夹角\\theta可以计算如下（证明过程略）：$\n",
    "\n",
    "$\\cos\\theta=\\displaystyle\\frac{a_1b_1+a_2b_2+a_3b_3}{|\\boldsymbol{a_{}}||\\boldsymbol{b_{}}|}=\\displaystyle\\frac{\\boldsymbol{a}\\cdot\\boldsymbol{b}}{|\\boldsymbol{a}||\\boldsymbol{b}|}$\n",
    "\n",
    "可见通过数量积这个符号，二维和三维直角坐标系下的向量间的夹角计算公式是相同的。"
   ]
  },
  {
   "cell_type": "markdown",
   "id": "matched-copyright",
   "metadata": {},
   "source": [
    "# 数量积的另外一种定义\n",
    "根据夹角的余弦公式，可以推出：\n",
    "\n",
    "$\\boldsymbol{a}\\cdot\\boldsymbol{b}=|\\boldsymbol{a}||\\boldsymbol{b}|\\cos\\theta$\n",
    "\n",
    "这也是数量积常用的一种定义形式。"
   ]
  },
  {
   "cell_type": "markdown",
   "id": "biological-stereo",
   "metadata": {},
   "source": [
    "$投影\\lambda可以通过点积计算：$\n",
    "\n",
    "\n",
    "$\\begin{aligned}\n",
    "\\lambda\n",
    "    &=\\text{Prj}_{\\boldsymbol{w}}\\boldsymbol{u}=|\\boldsymbol{u}|\\cos\\alpha\\\\\n",
    "    \\\\\n",
    "    &=\\frac{\\boldsymbol{u}\\cdot\\boldsymbol{w}}{|w|} && 与\\boldsymbol{w}点积\\\\        \n",
    "    \\\\\n",
    "    &=\\boldsymbol{u}\\cdot\\boldsymbol{e}_\\boldsymbol{w} && 与单位方向向量点积\\\\\n",
    "\\end{aligned}$\n",
    "\n",
    "\n",
    "根据点积定义有：\n",
    "\n",
    "$\\cos\\theta=\\displaystyle\\frac{\\boldsymbol{a}\\cdot\\boldsymbol{b}}{|\\boldsymbol{a}||\\boldsymbol{b}|}$\n",
    "\n",
    "所以：\n",
    "\n",
    "$\\lambda=\\text{Prj}_{\\boldsymbol{w}}\\boldsymbol{u}=|\\boldsymbol{u}|\\cos\\alpha=\\frac{\\boldsymbol{u}\\cdot\\boldsymbol{w}}{|w|}$\n",
    "\n",
    "$又\\boldsymbol{e}_\\boldsymbol{w}=\\frac{\\boldsymbol{w}}{|w|}，所以：$\n",
    "\n",
    "$\\lambda=\\boldsymbol{u}\\cdot\\boldsymbol{e}_\\boldsymbol{w}$"
   ]
  },
  {
   "cell_type": "markdown",
   "id": "trying-pitch",
   "metadata": {},
   "source": [
    "上述结论对于三维中的投影同样适用。"
   ]
  },
  {
   "cell_type": "markdown",
   "id": "broadband-laundry",
   "metadata": {},
   "source": [
    "$之前说过，两个向量夹角为\\frac{\\pi}{2}（或者说90^\\circ）就是正交：$\n",
    "\n",
    "<img src=\"image/dot_p.png\">\n",
    "我们可以通过点积给出判断正交的充要条件：\n",
    "\n",
    "$正交\\iff \\boldsymbol{a}\\cdot\\boldsymbol{b}=0$"
   ]
  },
  {
   "cell_type": "markdown",
   "id": "individual-detail",
   "metadata": {},
   "source": [
    "数量积符合下列运算规律：\n",
    "交换律：$\\boldsymbol{a}\\cdot\\boldsymbol{b}=\\boldsymbol{b}\\cdot\\boldsymbol{a}$\n",
    "数乘结合律：$(\\lambda\\boldsymbol{a})\\cdot\\boldsymbol{b}=\\lambda(\\boldsymbol{a}\\cdot\\boldsymbol{b}),\\quad \\lambda是数$\n",
    "分配律：$\\boldsymbol{a}\\cdot(\\boldsymbol{b}+\\boldsymbol{c})=\\boldsymbol{a}\\cdot\\boldsymbol{b}+\\boldsymbol{a}\\cdot\\boldsymbol{c}$"
   ]
  },
  {
   "cell_type": "markdown",
   "id": "needed-daisy",
   "metadata": {},
   "source": [
    "数乘结合律\n",
    "$\\boldsymbol{a}\\cdot\\boldsymbol{b}=||\\boldsymbol{a}||||\\boldsymbol{b}||\\cos\\theta\n",
    "其中||\\boldsymbol{b}||\\cos\\theta是\\boldsymbol{b}在\\boldsymbol{a}上的投影：$\n",
    "<img src=\"image/dot3.png\">\n",
    "\n",
    "$所以，可以把\\boldsymbol{a}\\cdot\\boldsymbol{b}看作矩形A的面积：$\n",
    "<img src=\"image/dot4.png\">\n",
    "$自然，其中一条边放大k倍，则面积增大k倍：$\n",
    "<img src=\"image/dot5.png\">\n",
    "\n",
    "这样就得到了数乘结合律：\n",
    "$(k\\boldsymbol{b})\\cdot\\boldsymbol{a}=k(\\boldsymbol{b}\\cdot\\boldsymbol{a})$"
   ]
  },
  {
   "cell_type": "markdown",
   "id": "vietnamese-lounge",
   "metadata": {},
   "source": [
    "分配律\n",
    "很容易得到如下的几何意义：\n",
    "<img src=\"image/dot6.png\">\n",
    "<img src=\"image/dot7.png\">\n",
    "\n",
    "这也就是分配律:\n",
    "\n",
    "$(\\boldsymbol{a}+\\boldsymbol{b})\\cdot\\boldsymbol{c}=\\boldsymbol{a}\\cdot\\boldsymbol{c}+\\boldsymbol{b}\\cdot\\boldsymbol{c}$"
   ]
  },
  {
   "cell_type": "markdown",
   "id": "healthy-factor",
   "metadata": {},
   "source": [
    "$设向量\\boldsymbol{r}的模长是4，它与u轴的夹角是\\frac{\\pi}{3},求在\\boldsymbol{u}上的投影。$"
   ]
  },
  {
   "cell_type": "code",
   "execution_count": 3,
   "id": "trying-secret",
   "metadata": {},
   "outputs": [],
   "source": [
    "pro_ru=4*np.cos(np.pi/3)"
   ]
  },
  {
   "cell_type": "code",
   "execution_count": 4,
   "id": "selected-illinois",
   "metadata": {},
   "outputs": [
    {
     "data": {
      "text/plain": [
       "2.0000000000000004"
      ]
     },
     "execution_count": 4,
     "metadata": {},
     "output_type": "execute_result"
    }
   ],
   "source": [
    "pro_ru"
   ]
  },
  {
   "cell_type": "markdown",
   "id": "powered-passing",
   "metadata": {},
   "source": [
    "设\n",
    "\n",
    "$\\boldsymbol{m}=3\\boldsymbol{i}+5\\boldsymbol{j}+8\\boldsymbol{k}, $\n",
    "$\\boldsymbol{n}=2\\boldsymbol{i}-4\\boldsymbol{j}-7\\boldsymbol{k},$\n",
    "$\\boldsymbol{p}=5\\boldsymbol{i}+\\boldsymbol{j}-4\\boldsymbol{k}$\n",
    "\n",
    "求向量\n",
    "\n",
    "$\\boldsymbol{a}=4 \\boldsymbol{m}+3 \\boldsymbol{n}-\\boldsymbol{p}$\n",
    "\n",
    "在x轴上的投影"
   ]
  },
  {
   "cell_type": "code",
   "execution_count": 16,
   "id": "surprised-revision",
   "metadata": {},
   "outputs": [],
   "source": [
    "a = np.array([13, 7, 15])"
   ]
  },
  {
   "cell_type": "markdown",
   "id": "atmospheric-appointment",
   "metadata": {},
   "source": [
    "一向量的终点在点B(2,-1,7),它在x轴，y轴和z轴的投影依次为4,-4和7，\n",
    "\n",
    "设向量起点为A(x,y,z),则"
   ]
  },
  {
   "cell_type": "code",
   "execution_count": null,
   "id": "intelligent-weight",
   "metadata": {},
   "outputs": [],
   "source": []
  },
  {
   "cell_type": "code",
   "execution_count": null,
   "id": "fatty-spokesman",
   "metadata": {},
   "outputs": [],
   "source": []
  }
 ],
 "metadata": {
  "kernelspec": {
   "display_name": "Python 3",
   "language": "python",
   "name": "python3"
  },
  "language_info": {
   "codemirror_mode": {
    "name": "ipython",
    "version": 3
   },
   "file_extension": ".py",
   "mimetype": "text/x-python",
   "name": "python",
   "nbconvert_exporter": "python",
   "pygments_lexer": "ipython3",
   "version": "3.8.2"
  }
 },
 "nbformat": 4,
 "nbformat_minor": 5
}
