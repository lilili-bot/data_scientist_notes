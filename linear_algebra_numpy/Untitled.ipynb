{
 "cells": [
  {
   "cell_type": "code",
   "execution_count": 1,
   "id": "satisfactory-vulnerability",
   "metadata": {},
   "outputs": [],
   "source": [
    "import numpy as np"
   ]
  },
  {
   "cell_type": "markdown",
   "id": "bridal-effort",
   "metadata": {},
   "source": [
    "$设向量\\boldsymbol{r}的模长是4，它与u轴的夹角是\\frac{\\pi}{3},求在\\boldsymbol{u}上的投影。$"
   ]
  },
  {
   "cell_type": "markdown",
   "id": "guilty-anime",
   "metadata": {},
   "source": [
    "已知\n",
    "\n",
    "$|\\boldsymbol{r}|=4$\n",
    "\n",
    "则根据投影可知\n",
    "\n",
    "$\\operatorname{Prj}_{u} r=|r| \\cos \\theta=4 \\cdot \\cos \\frac{\\pi}{3}=4 \\times \\frac{1}{2}=2$"
   ]
  },
  {
   "cell_type": "code",
   "execution_count": 3,
   "id": "critical-apache",
   "metadata": {},
   "outputs": [
    {
     "data": {
      "text/plain": [
       "2.0000000000000004"
      ]
     },
     "execution_count": 3,
     "metadata": {},
     "output_type": "execute_result"
    }
   ],
   "source": [
    "np.cos(np.pi/3)*4"
   ]
  }
 ],
 "metadata": {
  "kernelspec": {
   "display_name": "Python 3",
   "language": "python",
   "name": "python3"
  },
  "language_info": {
   "codemirror_mode": {
    "name": "ipython",
    "version": 3
   },
   "file_extension": ".py",
   "mimetype": "text/x-python",
   "name": "python",
   "nbconvert_exporter": "python",
   "pygments_lexer": "ipython3",
   "version": "3.8.2"
  }
 },
 "nbformat": 4,
 "nbformat_minor": 5
}
