{
 "cells": [
  {
   "cell_type": "code",
   "execution_count": 1,
   "id": "accompanied-talent",
   "metadata": {},
   "outputs": [],
   "source": [
    "import numpy as np\n",
    "import math"
   ]
  },
  {
   "cell_type": "code",
   "execution_count": 3,
   "id": "statistical-abuse",
   "metadata": {},
   "outputs": [],
   "source": [
    "A = np.matrix([[1,-1],[0,1]])"
   ]
  },
  {
   "cell_type": "code",
   "execution_count": 5,
   "id": "polish-stand",
   "metadata": {},
   "outputs": [
    {
     "data": {
      "text/plain": [
       "matrix([[1., 1.],\n",
       "        [0., 1.]])"
      ]
     },
     "execution_count": 5,
     "metadata": {},
     "output_type": "execute_result"
    }
   ],
   "source": [
    "np.linalg.inv(A)"
   ]
  },
  {
   "cell_type": "code",
   "execution_count": 4,
   "id": "split-passion",
   "metadata": {},
   "outputs": [],
   "source": [
    "x = np.matrix([[0.5,0.5],[-0.5,0.5]])"
   ]
  },
  {
   "cell_type": "code",
   "execution_count": 5,
   "id": "refined-iceland",
   "metadata": {},
   "outputs": [
    {
     "data": {
      "text/plain": [
       "matrix([[ 1., -1.],\n",
       "        [ 1.,  1.]])"
      ]
     },
     "execution_count": 5,
     "metadata": {},
     "output_type": "execute_result"
    }
   ],
   "source": [
    "np.linalg.inv(x)"
   ]
  },
  {
   "cell_type": "code",
   "execution_count": 10,
   "id": "corrected-local",
   "metadata": {},
   "outputs": [],
   "source": [
    "m = np.matrix([1,1]).T"
   ]
  },
  {
   "cell_type": "code",
   "execution_count": 11,
   "id": "exclusive-click",
   "metadata": {},
   "outputs": [
    {
     "data": {
      "text/plain": [
       "matrix([[1],\n",
       "        [1]])"
      ]
     },
     "execution_count": 11,
     "metadata": {},
     "output_type": "execute_result"
    }
   ],
   "source": [
    "m"
   ]
  },
  {
   "cell_type": "code",
   "execution_count": 12,
   "id": "spoken-funds",
   "metadata": {},
   "outputs": [],
   "source": [
    "e = np.matrix([[1,0],[-1,1]])"
   ]
  },
  {
   "cell_type": "code",
   "execution_count": 17,
   "id": "dedicated-sequence",
   "metadata": {},
   "outputs": [
    {
     "data": {
      "text/plain": [
       "matrix([[1.],\n",
       "        [2.]])"
      ]
     },
     "execution_count": 17,
     "metadata": {},
     "output_type": "execute_result"
    }
   ],
   "source": [
    "np.linalg.inv(e)*m"
   ]
  },
  {
   "cell_type": "code",
   "execution_count": null,
   "id": "present-array",
   "metadata": {},
   "outputs": [],
   "source": []
  }
 ],
 "metadata": {
  "kernelspec": {
   "display_name": "Python 3",
   "language": "python",
   "name": "python3"
  },
  "language_info": {
   "codemirror_mode": {
    "name": "ipython",
    "version": 3
   },
   "file_extension": ".py",
   "mimetype": "text/x-python",
   "name": "python",
   "nbconvert_exporter": "python",
   "pygments_lexer": "ipython3",
   "version": "3.8.2"
  }
 },
 "nbformat": 4,
 "nbformat_minor": 5
}
