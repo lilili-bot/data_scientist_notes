{
 "cells": [
  {
   "cell_type": "code",
   "execution_count": 1,
   "id": "contained-indian",
   "metadata": {},
   "outputs": [],
   "source": [
    "import numpy as np\n",
    "import math"
   ]
  },
  {
   "cell_type": "code",
   "execution_count": 3,
   "id": "flying-laugh",
   "metadata": {},
   "outputs": [],
   "source": [
    "# Rotation matrix"
   ]
  },
  {
   "cell_type": "markdown",
   "id": "revised-thompson",
   "metadata": {},
   "source": [
    "$$ A=\\begin{pmatrix}\\cos\\theta&-\\sin\\theta\\\\\\sin\\theta&\\cos\\theta\\end{pmatrix},\\quad A^\\mathrm{T}=\\begin{pmatrix}\\cos\\theta&\\sin\\theta\\\\-\\sin\\theta&\\cos\\theta\\end{pmatrix}$$"
   ]
  },
  {
   "cell_type": "code",
   "execution_count": 17,
   "id": "irish-norwegian",
   "metadata": {
    "tags": []
   },
   "outputs": [
    {
     "data": {
      "text/html": [
       "<video controls>\n",
       "  <source src=\"image/Rotation_matrix.mp4\" type=\"video/mp4\" >\n",
       "</video>\n"
      ],
      "text/plain": [
       "<IPython.core.display.HTML object>"
      ]
     },
     "metadata": {},
     "output_type": "display_data"
    }
   ],
   "source": [
    "%%HTML\n",
    "<video controls>\n",
    "  <source src=\"image/Rotation_matrix.mp4\" type=\"video/mp4\" >\n",
    "</video>"
   ]
  },
  {
   "cell_type": "code",
   "execution_count": 19,
   "id": "meaningful-extreme",
   "metadata": {},
   "outputs": [
    {
     "data": {
      "text/plain": [
       "array([0])"
      ]
     },
     "execution_count": 19,
     "metadata": {},
     "output_type": "execute_result"
    }
   ],
   "source": [
    "np.array([1,1]).dot(np.array([[-1],[1]]))"
   ]
  },
  {
   "cell_type": "code",
   "execution_count": null,
   "id": "further-intensity",
   "metadata": {},
   "outputs": [],
   "source": []
  }
 ],
 "metadata": {
  "kernelspec": {
   "display_name": "Python 3",
   "language": "python",
   "name": "python3"
  },
  "language_info": {
   "codemirror_mode": {
    "name": "ipython",
    "version": 3
   },
   "file_extension": ".py",
   "mimetype": "text/x-python",
   "name": "python",
   "nbconvert_exporter": "python",
   "pygments_lexer": "ipython3",
   "version": "3.8.2"
  }
 },
 "nbformat": 4,
 "nbformat_minor": 5
}
