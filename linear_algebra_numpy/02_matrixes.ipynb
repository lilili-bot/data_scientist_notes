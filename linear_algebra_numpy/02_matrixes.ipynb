{
 "cells": [
  {
   "cell_type": "code",
   "execution_count": 1,
   "id": "prime-genius",
   "metadata": {},
   "outputs": [],
   "source": [
    "import numpy as np\n",
    "import math"
   ]
  },
  {
   "cell_type": "code",
   "execution_count": 3,
   "id": "stainless-plate",
   "metadata": {},
   "outputs": [],
   "source": [
    "# Rotation matrix"
   ]
  },
  {
   "cell_type": "markdown",
   "id": "cardiac-distance",
   "metadata": {},
   "source": [
    "$$ A=\\begin{pmatrix}\\cos\\theta&-\\sin\\theta\\\\\\sin\\theta&\\cos\\theta\\end{pmatrix},\\quad A^\\mathrm{T}=\\begin{pmatrix}\\cos\\theta&\\sin\\theta\\\\-\\sin\\theta&\\cos\\theta\\end{pmatrix}$$"
   ]
  },
  {
   "cell_type": "code",
   "execution_count": 1,
   "id": "mobile-iceland",
   "metadata": {
    "tags": []
   },
   "outputs": [
    {
     "data": {
      "text/html": [
       "<video controls>\n",
       "  <source src=\"image/Rotation_matrix.mp4\" type=\"video/mp4\" >\n",
       "</video>\n"
      ],
      "text/plain": [
       "<IPython.core.display.HTML object>"
      ]
     },
     "metadata": {},
     "output_type": "display_data"
    }
   ],
   "source": [
    "%%HTML\n",
    "<video controls>\n",
    "  <source src=\"image/Rotation_matrix.mp4\" type=\"video/mp4\" >\n",
    "</video>"
   ]
  },
  {
   "cell_type": "markdown",
   "id": "graphic-motorcycle",
   "metadata": {},
   "source": [
    "$\\boldsymbol{e_1}是单位圆在x轴正方向上的半径，因为单位元的半径为1，容易算出与它夹角为\\theta的向量为:$\n",
    "\n",
    "<div style=\"width:image width px; \n",
    "            font-size:80%; \n",
    "            text-align:center; \n",
    "            float: middle; padding-left-right-top-bottom:0.5em;  \n",
    "            border-style: solid; border-color: rgba(211, 211, 211, 0.1);\n",
    "            background-color: rgba(250, 250, 250);\">\n",
    "    <img style=\"float: center;\" src=\"image/prove_rotation_matrix.png\">\n",
    "</div>\n",
    "\n",
    "马同学高等数学\n",
    "同样的，根据三角公式：\n",
    "\n",
    "\n",
    "$\\begin{cases}\n",
    "    sin(\\frac{\\pi}{2}+\\theta)=cos(\\theta)\\\\\n",
    "    cos(\\frac{\\pi}{2}+\\theta)=-sin(\\theta)\n",
    "\\end{cases}$\n",
    "也容易算出，与$\\boldsymbol{e_2}夹角为\\theta的向量为$：\n",
    "\n",
    "<img style=\"float: center;\" src=\"image/prove_rotation_matrix_2.png\">\n"
   ]
  },
  {
   "cell_type": "code",
   "execution_count": null,
   "id": "existing-grade",
   "metadata": {},
   "outputs": [],
   "source": []
  }
 ],
 "metadata": {
  "kernelspec": {
   "display_name": "Python 3",
   "language": "python",
   "name": "python3"
  },
  "language_info": {
   "codemirror_mode": {
    "name": "ipython",
    "version": 3
   },
   "file_extension": ".py",
   "mimetype": "text/x-python",
   "name": "python",
   "nbconvert_exporter": "python",
   "pygments_lexer": "ipython3",
   "version": "3.8.2"
  }
 },
 "nbformat": 4,
 "nbformat_minor": 5
}
