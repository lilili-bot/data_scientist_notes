{
 "cells": [
  {
   "cell_type": "markdown",
   "id": "academic-scene",
   "metadata": {},
   "source": [
    "通过欧式几何，可以得到如下结论：\n",
    "\n",
    "$cos\\theta=\\displaystyle\\frac{a_1b_1+a_2b_2}{||\\boldsymbol{a_{}}||||\\boldsymbol{b_{}}||},\\quad \\boldsymbol{a},\\boldsymbol{b}\\ne\\boldsymbol{0}$"
   ]
  },
  {
   "cell_type": "markdown",
   "id": "atmospheric-edmonton",
   "metadata": {},
   "source": [
    "根据欧氏几何中的余弦定理，我们可以得到：\n",
    "\n",
    "$AB^2=OA^2+OB^2-2OA\\cdot OB\\cos\\theta$\n",
    "\n",
    "上式可以通过向量来计算：\n",
    "\n",
    "$||\\boldsymbol{a}-\\boldsymbol{b}||^2=||\\boldsymbol{a}||^2+||\\boldsymbol{b}||^2-2||\\boldsymbol{a}||||\\boldsymbol{b}||\\cos\\theta,\\quad (1)$\n",
    "\n",
    "算一下(1)式的左边为多少，首先：\n",
    "\n",
    "\n",
    "$\\begin{aligned}\n",
    "    ||\\boldsymbol{a_{}}-\\boldsymbol{b_{}}||\n",
    "        &=||(a_1,a_2)-(b_1,b_2)||\\\\\n",
    "        \\quad\\\\\n",
    "        &=||(a_1-b_1,a_2-b_2)||\\\\\n",
    "        \\quad\\\\\n",
    "        &=\\sqrt{(a_1-b_1)^2+(a_2-b_2)^2}\n",
    "\\end{aligned}$\n",
    "\n",
    "取平方之后就得到(1)式的左边：\n",
    "\n",
    "\n",
    "$\\begin{aligned}\n",
    "    ||\\boldsymbol{a_{}}-\\boldsymbol{b_{}}||^2\n",
    "        &=(a_1-b_1)^2+(a_2-b_2)^2\\\\\n",
    "        \\quad\\\\\n",
    "        &=\\underbrace{(a_1^2+a_2^2)}_{||\\boldsymbol{a}||^2}+\\underbrace{(b_1^2+b_2^2)}_{||\\boldsymbol{b}||^2}-2a_1b_1-2a_2b_2\n",
    "        \\\\\n",
    "        &=||\\boldsymbol{a}||^2+||\\boldsymbol{b}||^2-2a_1b_1-2a_2b_2\n",
    "\\end{aligned}$\n",
    "\n",
    "所以(1)式可以改写为：\n",
    "\n",
    "\n",
    "$\\begin{aligned}\n",
    "    ||\\boldsymbol{a_{}}-\\boldsymbol{b_{}}||^2\n",
    "        &=||\\boldsymbol{a}||^2+||\\boldsymbol{b}||^2-2a_1b_1-2a_2b_2\\\\\n",
    "        \\quad\\\\\n",
    "        &=||\\boldsymbol{a}||^2+||\\boldsymbol{b}||^2-2||\\boldsymbol{a}||||\\boldsymbol{b}||\\cos\\theta\n",
    "\\end{aligned}$\n",
    "\n",
    "在$\\boldsymbol{a}和\\boldsymbol{b}都不是零向量的条件下，整理之后可得$：\n",
    "\n",
    "$\\cos\\theta=\\displaystyle\\frac{a_1b_1+a_2b_2}{||\\boldsymbol{a_{}}||||\\boldsymbol{b_{}}||}$"
   ]
  },
  {
   "cell_type": "markdown",
   "id": "affiliated-lighting",
   "metadata": {},
   "source": [
    "假设定义一个新的运算方法，将之称为向量的点积:\n",
    "\n",
    "$\\boldsymbol{a}\\cdot\\boldsymbol{b}=(\\color{Magenta}{a_1},\\color{Orange}{a_2})\\cdot(\\color{Magenta}{b_1},\\color{Orange}{b_2})=\\color{Magenta}{a_1b_1}+\\color{Orange}{a_2b_2}$\n",
    "\n",
    "那么向量空间\\mathbb{R}^2中的长度和角度的计算就可以通过点积来完成：\n",
    "\n",
    "长度\n",
    "$||\\boldsymbol{a}||=\\sqrt{a_1^2+a_2^2}=\\sqrt{a_1a_1+a_2a_2}=\\sqrt{\\boldsymbol{a}\\cdot\\boldsymbol{a}}$\n",
    "角度\n",
    "$cos\\theta=\\displaystyle\\frac{a_1b_1+a_2b_2}{||\\boldsymbol{a_{}}||||\\boldsymbol{b_{}}||}=\\displaystyle\\frac{\\boldsymbol{a}\\cdot\\boldsymbol{b}}{||\\boldsymbol{a_{}}||||\\boldsymbol{b_{}}||}$\n",
    "\n"
   ]
  },
  {
   "cell_type": "code",
   "execution_count": 1,
   "id": "coated-needle",
   "metadata": {},
   "outputs": [],
   "source": [
    "import numpy as np\n",
    "import math"
   ]
  },
  {
   "cell_type": "code",
   "execution_count": 4,
   "id": "dress-speaking",
   "metadata": {},
   "outputs": [],
   "source": [
    "a = np.array([1, np.sqrt(3)]).T"
   ]
  },
  {
   "cell_type": "code",
   "execution_count": 7,
   "id": "allied-multimedia",
   "metadata": {},
   "outputs": [],
   "source": [
    "b = np.array([np.sqrt(3),1]).T"
   ]
  },
  {
   "cell_type": "code",
   "execution_count": 11,
   "id": "interior-basket",
   "metadata": {},
   "outputs": [
    {
     "ename": "AttributeError",
     "evalue": "module 'numpy' has no attribute 'cosin'",
     "output_type": "error",
     "traceback": [
      "\u001b[0;31m---------------------------------------------------------------------------\u001b[0m",
      "\u001b[0;31mAttributeError\u001b[0m                            Traceback (most recent call last)",
      "\u001b[0;32m<ipython-input-11-904f862edd53>\u001b[0m in \u001b[0;36m<module>\u001b[0;34m\u001b[0m\n\u001b[0;32m----> 1\u001b[0;31m \u001b[0mnp\u001b[0m\u001b[0;34m.\u001b[0m\u001b[0mcosin\u001b[0m\u001b[0;34m(\u001b[0m\u001b[0ma\u001b[0m\u001b[0;34m.\u001b[0m\u001b[0mdot\u001b[0m\u001b[0;34m(\u001b[0m\u001b[0mb\u001b[0m\u001b[0;34m)\u001b[0m\u001b[0;34m/\u001b[0m\u001b[0;34m(\u001b[0m\u001b[0mnp\u001b[0m\u001b[0;34m.\u001b[0m\u001b[0mlinalg\u001b[0m\u001b[0;34m.\u001b[0m\u001b[0mnorm\u001b[0m\u001b[0;34m(\u001b[0m\u001b[0ma\u001b[0m\u001b[0;34m)\u001b[0m\u001b[0;34m*\u001b[0m\u001b[0mnp\u001b[0m\u001b[0;34m.\u001b[0m\u001b[0mlinalg\u001b[0m\u001b[0;34m.\u001b[0m\u001b[0mnorm\u001b[0m\u001b[0;34m(\u001b[0m\u001b[0mb\u001b[0m\u001b[0;34m)\u001b[0m\u001b[0;34m)\u001b[0m\u001b[0;34m)\u001b[0m\u001b[0;34m\u001b[0m\u001b[0;34m\u001b[0m\u001b[0m\n\u001b[0m",
      "\u001b[0;32m~/opt/anaconda3/lib/python3.8/site-packages/numpy/__init__.py\u001b[0m in \u001b[0;36m__getattr__\u001b[0;34m(attr)\u001b[0m\n\u001b[1;32m    217\u001b[0m                 \u001b[0;32mreturn\u001b[0m \u001b[0mTester\u001b[0m\u001b[0;34m\u001b[0m\u001b[0;34m\u001b[0m\u001b[0m\n\u001b[1;32m    218\u001b[0m             \u001b[0;32melse\u001b[0m\u001b[0;34m:\u001b[0m\u001b[0;34m\u001b[0m\u001b[0;34m\u001b[0m\u001b[0m\n\u001b[0;32m--> 219\u001b[0;31m                 raise AttributeError(\"module {!r} has no attribute \"\n\u001b[0m\u001b[1;32m    220\u001b[0m                                      \"{!r}\".format(__name__, attr))\n\u001b[1;32m    221\u001b[0m \u001b[0;34m\u001b[0m\u001b[0m\n",
      "\u001b[0;31mAttributeError\u001b[0m: module 'numpy' has no attribute 'cosin'"
     ]
    }
   ],
   "source": [
    "np.cos(a.dot(b)/(np.linalg.norm(a)*np.linalg.norm(b)))"
   ]
  },
  {
   "cell_type": "code",
   "execution_count": null,
   "id": "illegal-county",
   "metadata": {},
   "outputs": [],
   "source": []
  }
 ],
 "metadata": {
  "kernelspec": {
   "display_name": "Python 3",
   "language": "python",
   "name": "python3"
  },
  "language_info": {
   "codemirror_mode": {
    "name": "ipython",
    "version": 3
   },
   "file_extension": ".py",
   "mimetype": "text/x-python",
   "name": "python",
   "nbconvert_exporter": "python",
   "pygments_lexer": "ipython3",
   "version": "3.8.2"
  }
 },
 "nbformat": 4,
 "nbformat_minor": 5
}
