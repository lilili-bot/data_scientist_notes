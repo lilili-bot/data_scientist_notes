{
 "cells": [
  {
   "cell_type": "code",
   "execution_count": 15,
   "id": "blind-permit",
   "metadata": {},
   "outputs": [],
   "source": [
    "import pandas as pd\n",
    "import numpy as np\n",
    "import re\n",
    "import seaborn as sns\n",
    "import matplotlib.pyplot as plt\n",
    "from matplotlib import pylab\n",
    "from IPython.core.interactiveshell import InteractiveShell\n",
    "from scipy.special import factorial\n",
    "InteractiveShell.ast_node_interactivity = 'all'\n",
    "pylab.rcParams['figure.figsize'] = (20.0, 8.0)"
   ]
  },
  {
   "cell_type": "code",
   "execution_count": null,
   "id": "collectible-aberdeen",
   "metadata": {
    "tags": []
   },
   "outputs": [],
   "source": [
    "# copied from Raphael, which manges the whole read file, concat and clean in one for loop, i managed in 3 functions!!!! \n",
    "days = ['monday', 'tuesday', 'wednesday', 'thursday', 'friday']\n",
    "df = None\n",
    "for i,day in enumerate(days):\n",
    "    new_df = pd.read_csv(f'../data/{day}.csv', sep=';')\n",
    "    new_df['timestamp'] = pd.to_datetime(new_df['timestamp'], format=\"%Y-%m-%d %H:%M:%S\")\n",
    "    new_df['customer_no'] = day + '_' + new_df['customer_no'].astype(str)\n",
    "    new_df.columns = new_df.columns.str.lower().str.replace(' ', '_').str.replace('(', '').str.replace(')', '').str.replace('___','').str.replace('_','')\n",
    "    if i == 0:\n",
    "        df = new_df\n",
    "    else:\n",
    "        df = pd.concat((df,new_df))"
   ]
  },
  {
   "cell_type": "code",
   "execution_count": 4,
   "id": "after-junction",
   "metadata": {
    "collapsed": true,
    "jupyter": {
     "outputs_hidden": true
    },
    "scrolled": true,
    "tags": []
   },
   "outputs": [
    {
     "data": {
      "text/html": [
       "<div>\n",
       "<style scoped>\n",
       "    .dataframe tbody tr th:only-of-type {\n",
       "        vertical-align: middle;\n",
       "    }\n",
       "\n",
       "    .dataframe tbody tr th {\n",
       "        vertical-align: top;\n",
       "    }\n",
       "\n",
       "    .dataframe thead th {\n",
       "        text-align: right;\n",
       "    }\n",
       "</style>\n",
       "<table border=\"1\" class=\"dataframe\">\n",
       "  <thead>\n",
       "    <tr style=\"text-align: right;\">\n",
       "      <th></th>\n",
       "      <th>timestamp</th>\n",
       "      <th>customerno</th>\n",
       "      <th>location</th>\n",
       "      <th>next_location</th>\n",
       "      <th>timedelta</th>\n",
       "    </tr>\n",
       "  </thead>\n",
       "  <tbody>\n",
       "    <tr>\n",
       "      <th>0</th>\n",
       "      <td>2019-09-02 07:03:00</td>\n",
       "      <td>monday_1</td>\n",
       "      <td>dairy</td>\n",
       "      <td>checkout</td>\n",
       "      <td>2019-09-02 07:05:00</td>\n",
       "    </tr>\n",
       "    <tr>\n",
       "      <th>1</th>\n",
       "      <td>2019-09-02 07:03:00</td>\n",
       "      <td>monday_2</td>\n",
       "      <td>dairy</td>\n",
       "      <td>checkout</td>\n",
       "      <td>2019-09-02 07:06:00</td>\n",
       "    </tr>\n",
       "    <tr>\n",
       "      <th>2</th>\n",
       "      <td>2019-09-02 07:04:00</td>\n",
       "      <td>monday_3</td>\n",
       "      <td>dairy</td>\n",
       "      <td>checkout</td>\n",
       "      <td>2019-09-02 07:06:00</td>\n",
       "    </tr>\n",
       "    <tr>\n",
       "      <th>3</th>\n",
       "      <td>2019-09-02 07:04:00</td>\n",
       "      <td>monday_4</td>\n",
       "      <td>dairy</td>\n",
       "      <td>checkout</td>\n",
       "      <td>2019-09-02 07:08:00</td>\n",
       "    </tr>\n",
       "    <tr>\n",
       "      <th>4</th>\n",
       "      <td>2019-09-02 07:04:00</td>\n",
       "      <td>monday_5</td>\n",
       "      <td>spices</td>\n",
       "      <td>checkout</td>\n",
       "      <td>2019-09-02 07:05:00</td>\n",
       "    </tr>\n",
       "    <tr>\n",
       "      <th>...</th>\n",
       "      <td>...</td>\n",
       "      <td>...</td>\n",
       "      <td>...</td>\n",
       "      <td>...</td>\n",
       "      <td>...</td>\n",
       "    </tr>\n",
       "    <tr>\n",
       "      <th>5120</th>\n",
       "      <td>2019-09-06 21:50:00</td>\n",
       "      <td>friday_1500</td>\n",
       "      <td>dairy</td>\n",
       "      <td>checkout</td>\n",
       "      <td>NaT</td>\n",
       "    </tr>\n",
       "    <tr>\n",
       "      <th>5121</th>\n",
       "      <td>2019-09-06 21:50:00</td>\n",
       "      <td>friday_1507</td>\n",
       "      <td>checkout</td>\n",
       "      <td>checkout</td>\n",
       "      <td>NaT</td>\n",
       "    </tr>\n",
       "    <tr>\n",
       "      <th>5122</th>\n",
       "      <td>2019-09-06 21:50:00</td>\n",
       "      <td>friday_1508</td>\n",
       "      <td>checkout</td>\n",
       "      <td>checkout</td>\n",
       "      <td>NaT</td>\n",
       "    </tr>\n",
       "    <tr>\n",
       "      <th>5123</th>\n",
       "      <td>2019-09-06 21:50:00</td>\n",
       "      <td>friday_1509</td>\n",
       "      <td>drinks</td>\n",
       "      <td>checkout</td>\n",
       "      <td>NaT</td>\n",
       "    </tr>\n",
       "    <tr>\n",
       "      <th>5124</th>\n",
       "      <td>2019-09-06 21:50:00</td>\n",
       "      <td>friday_1510</td>\n",
       "      <td>spices</td>\n",
       "      <td>checkout</td>\n",
       "      <td>NaT</td>\n",
       "    </tr>\n",
       "  </tbody>\n",
       "</table>\n",
       "<p>24877 rows × 5 columns</p>\n",
       "</div>"
      ],
      "text/plain": [
       "               timestamp   customerno  location next_location  \\\n",
       "0    2019-09-02 07:03:00     monday_1     dairy      checkout   \n",
       "1    2019-09-02 07:03:00     monday_2     dairy      checkout   \n",
       "2    2019-09-02 07:04:00     monday_3     dairy      checkout   \n",
       "3    2019-09-02 07:04:00     monday_4     dairy      checkout   \n",
       "4    2019-09-02 07:04:00     monday_5    spices      checkout   \n",
       "...                  ...          ...       ...           ...   \n",
       "5120 2019-09-06 21:50:00  friday_1500     dairy      checkout   \n",
       "5121 2019-09-06 21:50:00  friday_1507  checkout      checkout   \n",
       "5122 2019-09-06 21:50:00  friday_1508  checkout      checkout   \n",
       "5123 2019-09-06 21:50:00  friday_1509    drinks      checkout   \n",
       "5124 2019-09-06 21:50:00  friday_1510    spices      checkout   \n",
       "\n",
       "                timedelta  \n",
       "0     2019-09-02 07:05:00  \n",
       "1     2019-09-02 07:06:00  \n",
       "2     2019-09-02 07:06:00  \n",
       "3     2019-09-02 07:08:00  \n",
       "4     2019-09-02 07:05:00  \n",
       "...                   ...  \n",
       "5120                  NaT  \n",
       "5121                  NaT  \n",
       "5122                  NaT  \n",
       "5123                  NaT  \n",
       "5124                  NaT  \n",
       "\n",
       "[24877 rows x 5 columns]"
      ]
     },
     "execution_count": 4,
     "metadata": {},
     "output_type": "execute_result"
    }
   ],
   "source": [
    "# get next_location and timedelta. time delta is the time for each customer move from one place to next. \n",
    "def get_next_location_timedelta(df, customerid_total):\n",
    "    df['next_location']= None\n",
    "    df['timedelta']= None\n",
    "    for idno in customerid_total:\n",
    "        df.loc[df['customerno']== idno,'next_location'] = df.loc[df['customerno']== idno,'location'].shift(-1).fillna('checkout')\n",
    "        df.loc[df['customerno']== idno,'timedelta'] = df.loc[df['customerno']== idno,'timestamp'].shift(-1).fillna(np.nan)\n",
    "    return df\n",
    "customerid_total=df['customerno'].unique()\n",
    "get_next_location_timedelta(df, customerid_total)"
   ]
  },
  {
   "cell_type": "markdown",
   "id": "basic-helicopter",
   "metadata": {},
   "source": [
    "# Time modelling"
   ]
  },
  {
   "cell_type": "code",
   "execution_count": 68,
   "id": "portable-apparatus",
   "metadata": {},
   "outputs": [],
   "source": [
    "# each minute, how much customer. \n",
    "# df_p.groupby(pd.Grouper(freq='10Min')).aggregate(np.sum) # this is to check cutomer flow in 10 minutes interval. "
   ]
  },
  {
   "cell_type": "code",
   "execution_count": 94,
   "id": "silver-hunger",
   "metadata": {},
   "outputs": [
    {
     "data": {
      "text/html": [
       "<div>\n",
       "<style scoped>\n",
       "    .dataframe tbody tr th:only-of-type {\n",
       "        vertical-align: middle;\n",
       "    }\n",
       "\n",
       "    .dataframe tbody tr th {\n",
       "        vertical-align: top;\n",
       "    }\n",
       "\n",
       "    .dataframe thead th {\n",
       "        text-align: right;\n",
       "    }\n",
       "</style>\n",
       "<table border=\"1\" class=\"dataframe\">\n",
       "  <thead>\n",
       "    <tr style=\"text-align: right;\">\n",
       "      <th>location</th>\n",
       "      <th>checkout</th>\n",
       "      <th>dairy</th>\n",
       "      <th>drinks</th>\n",
       "      <th>fruit</th>\n",
       "      <th>spices</th>\n",
       "      <th>sum</th>\n",
       "    </tr>\n",
       "    <tr>\n",
       "      <th>timestamp</th>\n",
       "      <th></th>\n",
       "      <th></th>\n",
       "      <th></th>\n",
       "      <th></th>\n",
       "      <th></th>\n",
       "      <th></th>\n",
       "    </tr>\n",
       "  </thead>\n",
       "  <tbody>\n",
       "    <tr>\n",
       "      <th>2019-09-02 07:03:00</th>\n",
       "      <td>0.0</td>\n",
       "      <td>2.0</td>\n",
       "      <td>0.0</td>\n",
       "      <td>0.0</td>\n",
       "      <td>0.0</td>\n",
       "      <td>2.0</td>\n",
       "    </tr>\n",
       "    <tr>\n",
       "      <th>2019-09-02 07:04:00</th>\n",
       "      <td>0.0</td>\n",
       "      <td>2.0</td>\n",
       "      <td>0.0</td>\n",
       "      <td>1.0</td>\n",
       "      <td>3.0</td>\n",
       "      <td>6.0</td>\n",
       "    </tr>\n",
       "    <tr>\n",
       "      <th>2019-09-02 07:05:00</th>\n",
       "      <td>2.0</td>\n",
       "      <td>1.0</td>\n",
       "      <td>1.0</td>\n",
       "      <td>0.0</td>\n",
       "      <td>0.0</td>\n",
       "      <td>4.0</td>\n",
       "    </tr>\n",
       "    <tr>\n",
       "      <th>2019-09-02 07:06:00</th>\n",
       "      <td>2.0</td>\n",
       "      <td>2.0</td>\n",
       "      <td>1.0</td>\n",
       "      <td>2.0</td>\n",
       "      <td>1.0</td>\n",
       "      <td>8.0</td>\n",
       "    </tr>\n",
       "    <tr>\n",
       "      <th>2019-09-02 07:07:00</th>\n",
       "      <td>1.0</td>\n",
       "      <td>1.0</td>\n",
       "      <td>1.0</td>\n",
       "      <td>0.0</td>\n",
       "      <td>1.0</td>\n",
       "      <td>4.0</td>\n",
       "    </tr>\n",
       "  </tbody>\n",
       "</table>\n",
       "</div>"
      ],
      "text/plain": [
       "location             checkout  dairy  drinks  fruit  spices  sum\n",
       "timestamp                                                       \n",
       "2019-09-02 07:03:00       0.0    2.0     0.0    0.0     0.0  2.0\n",
       "2019-09-02 07:04:00       0.0    2.0     0.0    1.0     3.0  6.0\n",
       "2019-09-02 07:05:00       2.0    1.0     1.0    0.0     0.0  4.0\n",
       "2019-09-02 07:06:00       2.0    2.0     1.0    2.0     1.0  8.0\n",
       "2019-09-02 07:07:00       1.0    1.0     1.0    0.0     1.0  4.0"
      ]
     },
     "execution_count": 94,
     "metadata": {},
     "output_type": "execute_result"
    },
    {
     "data": {
      "text/plain": [
       "Timestamp('2019-09-06 21:50:00')"
      ]
     },
     "execution_count": 94,
     "metadata": {},
     "output_type": "execute_result"
    },
    {
     "data": {
      "text/plain": [
       "Timestamp('2019-09-02 07:03:00')"
      ]
     },
     "execution_count": 94,
     "metadata": {},
     "output_type": "execute_result"
    }
   ],
   "source": [
    "df_p=df.groupby(['location','timestamp'])['customerno'].count().unstack().fillna(0).T\n",
    "df_p['sum'] = df_p.sum(axis=1)\n",
    "df_p.head(5)\n",
    "df_p.index.max()\n",
    "df_p.index.min()"
   ]
  },
  {
   "cell_type": "code",
   "execution_count": 96,
   "id": "established-kinase",
   "metadata": {},
   "outputs": [],
   "source": [
    "#df_p.to_csv('df_time.csv')"
   ]
  },
  {
   "cell_type": "code",
   "execution_count": 153,
   "id": "excessive-domestic",
   "metadata": {
    "tags": []
   },
   "outputs": [
    {
     "name": "stdout",
     "output_type": "stream",
     "text": [
      "The probability of 3 customers in 1 minutes is 8.92%.\n"
     ]
    }
   ],
   "source": [
    "# manully calculating p for poisson.\n",
    "customer_per_min = round(df_p['sum'].mean(),0)\n",
    "minutes = 1\n",
    "\n",
    "#Expected events\n",
    "lam = customer_per_min * minutes\n",
    "k = 3\n",
    "p_k = np.exp(-lam) * np.power(lam,k)/factorial(k)\n",
    "print(f'The probability of {k} customers in {minutes} minutes is {100*p_k:.2f}%.')"
   ]
  },
  {
   "cell_type": "code",
   "execution_count": 154,
   "id": "horizontal-influence",
   "metadata": {},
   "outputs": [
    {
     "data": {
      "text/plain": [
       "0.09"
      ]
     },
     "execution_count": 154,
     "metadata": {},
     "output_type": "execute_result"
    }
   ],
   "source": [
    "# calculate probability of k events happends in minutes given event_per_minute.\n",
    "customer_per_min = round(df_p['sum'].mean())\n",
    "minutes = 1\n",
    "def cal_prob(customer_per_minute, minutes,k):\n",
    "    lam = customer_per_minute * minutes\n",
    "    return round(np.exp(-lam)*np.power(lam,k)/factorial(k),2)\n",
    "minutes = 1    \n",
    "cal_prob(customer_per_min, minutes,3)"
   ]
  },
  {
   "cell_type": "code",
   "execution_count": 155,
   "id": "dominican-turkish",
   "metadata": {
    "tags": []
   },
   "outputs": [
    {
     "data": {
      "text/plain": [
       "0.09"
      ]
     },
     "execution_count": 155,
     "metadata": {},
     "output_type": "execute_result"
    },
    {
     "data": {
      "text/plain": [
       "array([ 5,  5,  3,  4,  5,  8,  4,  8,  7,  3,  5,  5,  4,  7,  5, 10,  6,\n",
       "        4,  3,  6,  6,  1,  6,  6,  1,  4,  7,  6,  4,  2,  4,  4,  5,  5,\n",
       "        4,  5,  4, 10,  7,  6,  4,  7,  6,  6,  4,  9,  6,  2,  9,  3, 12,\n",
       "        8,  6,  6,  4,  3,  4,  5,  4,  4,  4,  4, 10,  2,  5,  6,  6,  4,\n",
       "        8,  3,  8,  4,  5,  8,  3,  7,  6,  0,  6,  6,  4,  7,  2,  6,  0,\n",
       "        6,  6,  4, 11,  7,  6,  9,  8,  7,  5,  3, 10,  3,  7,  8])"
      ]
     },
     "execution_count": 155,
     "metadata": {},
     "output_type": "execute_result"
    }
   ],
   "source": [
    "# simulation 10 minutes.\n",
    "customer_per_min = round(df_p['sum'].mean())\n",
    "minutes = 1\n",
    "#Expected events\n",
    "lam = customer_per_min * minutes\n",
    "customer_number = np.random.poisson(lam, 100)\n",
    "(customer_number==3).mean()\n",
    "customer_number"
   ]
  },
  {
   "cell_type": "code",
   "execution_count": null,
   "id": "biblical-velvet",
   "metadata": {
    "jupyter": {
     "source_hidden": true
    },
    "tags": []
   },
   "outputs": [],
   "source": [
    "# -*- coding: utf-8 -*-\n",
    "\n",
    "\"\"\"\n",
    "   author: github@luochang212\n",
    "   usage: python poisson.py [RATE] {TIME}\n",
    "\"\"\"\n",
    "\n",
    "import sys\n",
    "import random\n",
    "import collections\n",
    "import matplotlib.pyplot as plt\n",
    "\n",
    "\n",
    "class Poisson:\n",
    "    def __init__(self, rate=sys.argv[1]):\n",
    "        self.rate = int(rate)\n",
    "\n",
    "        self.time = 1  # 单位时间\n",
    "        if len(sys.argv) > 2 and sys.argv[2] != \"\":\n",
    "            self.time = int(sys.argv[2])  # 手动指定时间范围\n",
    "\n",
    "        self.EXP_NUM = 100000  # 实验次数\n",
    "        self.NUM_LEVEL = 2  # 数量级\n",
    "\n",
    "    def generator(self, prob):\n",
    "        \"\"\"仿真结果生成器\"\"\"\n",
    "        while True:\n",
    "            if random.random() < prob:\n",
    "                yield 1\n",
    "            else:\n",
    "                yield 0\n",
    "\n",
    "    def perform_exp(self, rate, time):\n",
    "        \"\"\"进行一次实验\n",
    "        每次实验中，时间分片的数量比rate高两个数量级\n",
    "        \"\"\"\n",
    "        level = len(str(rate))\n",
    "        shard_num = 10 ** (level + self.NUM_LEVEL)  # 计算时间分片的数量\n",
    "\n",
    "        gen = self.generator(rate / shard_num)\n",
    "\n",
    "        cnt = 0\n",
    "        for _ in range(time * shard_num):\n",
    "            cnt += next(gen)\n",
    "        \n",
    "        return cnt\n",
    "\n",
    "    def perform_exps(self, exp_num, rate, time):\n",
    "        \"\"\"多次实验，得到分布\"\"\"\n",
    "        lst = []\n",
    "        for _ in range(exp_num):\n",
    "            lst.append(self.perform_exp(rate, time))\n",
    "\n",
    "        return sorted(collections.Counter(lst).items(), key=lambda e: e[0])\n",
    "\n",
    "    def draw(self, sorted_list):\n",
    "        \"\"\"画图\"\"\"\n",
    "        s = sum([e[1] for e in sorted_list])\n",
    "        x = [e[0] for e in sorted_list]\n",
    "        y = [e[1] / s for e in sorted_list]\n",
    "\n",
    "        plt.plot(x, y)\n",
    "        \n",
    "        plt.xlabel(\"k\")\n",
    "        plt.ylabel(\"P(k)\")\n",
    "        plt.show()\n",
    "\n",
    "    def main(self):\n",
    "        sorted_list = self.perform_exps(self.EXP_NUM, self.rate, self.time)\n",
    "        self.draw(sorted_list)\n",
    "\n",
    "    @staticmethod\n",
    "    def calculator(rate, t, k):\n",
    "        \"\"\"用于计算泊松函数的概率 P(k|t,lambda)\n",
    "           rate: lambda\n",
    "           t: t\n",
    "           k: k\n",
    "        \"\"\"\n",
    "        import math\n",
    "        return (rate * t) ** k / math.factorial(k) * math.exp(-rate * t)\n",
    "\n",
    "\n",
    "if __name__ == '__main__':\n",
    "    p = Poisson()\n",
    "    p.main()\n"
   ]
  },
  {
   "cell_type": "markdown",
   "id": "covered-promotion",
   "metadata": {},
   "source": [
    "# calculate transition rate"
   ]
  },
  {
   "cell_type": "code",
   "execution_count": 75,
   "id": "bored-begin",
   "metadata": {},
   "outputs": [],
   "source": [
    "df_transition = pd.crosstab(df['location'],df['next_location'],normalize=0)"
   ]
  },
  {
   "cell_type": "code",
   "execution_count": 100,
   "id": "enclosed-finish",
   "metadata": {},
   "outputs": [],
   "source": [
    "#df[df.customerno.eq('monday_6')]"
   ]
  },
  {
   "cell_type": "code",
   "execution_count": 101,
   "id": "excited-constant",
   "metadata": {},
   "outputs": [
    {
     "data": {
      "text/html": [
       "<div>\n",
       "<style scoped>\n",
       "    .dataframe tbody tr th:only-of-type {\n",
       "        vertical-align: middle;\n",
       "    }\n",
       "\n",
       "    .dataframe tbody tr th {\n",
       "        vertical-align: top;\n",
       "    }\n",
       "\n",
       "    .dataframe thead th {\n",
       "        text-align: right;\n",
       "    }\n",
       "</style>\n",
       "<table border=\"1\" class=\"dataframe\">\n",
       "  <thead>\n",
       "    <tr style=\"text-align: right;\">\n",
       "      <th>next_location</th>\n",
       "      <th>checkout</th>\n",
       "      <th>dairy</th>\n",
       "      <th>drinks</th>\n",
       "      <th>fruit</th>\n",
       "      <th>spices</th>\n",
       "    </tr>\n",
       "    <tr>\n",
       "      <th>location</th>\n",
       "      <th></th>\n",
       "      <th></th>\n",
       "      <th></th>\n",
       "      <th></th>\n",
       "      <th></th>\n",
       "    </tr>\n",
       "  </thead>\n",
       "  <tbody>\n",
       "    <tr>\n",
       "      <th>checkout</th>\n",
       "      <td>1.000000</td>\n",
       "      <td>0.000000</td>\n",
       "      <td>0.000000</td>\n",
       "      <td>0.000000</td>\n",
       "      <td>0.000000</td>\n",
       "    </tr>\n",
       "    <tr>\n",
       "      <th>dairy</th>\n",
       "      <td>0.393033</td>\n",
       "      <td>0.000000</td>\n",
       "      <td>0.222483</td>\n",
       "      <td>0.189357</td>\n",
       "      <td>0.195127</td>\n",
       "    </tr>\n",
       "    <tr>\n",
       "      <th>drinks</th>\n",
       "      <td>0.537260</td>\n",
       "      <td>0.027145</td>\n",
       "      <td>0.000000</td>\n",
       "      <td>0.218950</td>\n",
       "      <td>0.216645</td>\n",
       "    </tr>\n",
       "    <tr>\n",
       "      <th>fruit</th>\n",
       "      <td>0.500195</td>\n",
       "      <td>0.237993</td>\n",
       "      <td>0.136080</td>\n",
       "      <td>0.000000</td>\n",
       "      <td>0.125732</td>\n",
       "    </tr>\n",
       "    <tr>\n",
       "      <th>spices</th>\n",
       "      <td>0.251998</td>\n",
       "      <td>0.323122</td>\n",
       "      <td>0.272776</td>\n",
       "      <td>0.152104</td>\n",
       "      <td>0.000000</td>\n",
       "    </tr>\n",
       "  </tbody>\n",
       "</table>\n",
       "</div>"
      ],
      "text/plain": [
       "next_location  checkout     dairy    drinks     fruit    spices\n",
       "location                                                       \n",
       "checkout       1.000000  0.000000  0.000000  0.000000  0.000000\n",
       "dairy          0.393033  0.000000  0.222483  0.189357  0.195127\n",
       "drinks         0.537260  0.027145  0.000000  0.218950  0.216645\n",
       "fruit          0.500195  0.237993  0.136080  0.000000  0.125732\n",
       "spices         0.251998  0.323122  0.272776  0.152104  0.000000"
      ]
     },
     "execution_count": 101,
     "metadata": {},
     "output_type": "execute_result"
    }
   ],
   "source": [
    "df_transition"
   ]
  },
  {
   "cell_type": "code",
   "execution_count": 82,
   "id": "floating-soviet",
   "metadata": {},
   "outputs": [],
   "source": [
    "#df_transition.to_csv('df_transition.csv',index=False)"
   ]
  },
  {
   "cell_type": "code",
   "execution_count": 83,
   "id": "sudden-credit",
   "metadata": {},
   "outputs": [],
   "source": [
    "#df.to_csv('customer_full.csv',index = False)"
   ]
  },
  {
   "cell_type": "markdown",
   "id": "tight-monkey",
   "metadata": {},
   "source": [
    "# 2 ways to generate ramdomly new customers"
   ]
  },
  {
   "cell_type": "code",
   "execution_count": 90,
   "id": "coupled-skating",
   "metadata": {},
   "outputs": [
    {
     "name": "stdout",
     "output_type": "stream",
     "text": [
      "dairy\n"
     ]
    }
   ],
   "source": [
    "# generate next customer with transition matrix\n",
    "def get_next_state(init_state):\n",
    "    \n",
    "    for i in df_transition.columns:\n",
    "        possible_next_loc = df_transition.loc[i]\n",
    "        next_state = np.random.choice(df_transition.columns, p=possible_next_loc)\n",
    "    print(next_state)\n",
    "    \n",
    "init_state = np.random.choice(df_transition.index)\n",
    "get_next_state('init_state')"
   ]
  },
  {
   "cell_type": "code",
   "execution_count": 89,
   "id": "modern-copyright",
   "metadata": {},
   "outputs": [
    {
     "data": {
      "text/plain": [
       "['drinks']"
      ]
     },
     "execution_count": 89,
     "metadata": {},
     "output_type": "execute_result"
    }
   ],
   "source": [
    "# generate next customer with dictionary. \n",
    "location_dict={}\n",
    "for location, next_location in zip(df['location'],df['next_location']):\n",
    "    \n",
    "    if location in location_dict.keys():\n",
    "        # if the key is already there attach the current\\\n",
    "        # pair to the existing key\n",
    "        location_dict[location].append(next_location)\n",
    "    \n",
    "    else:\n",
    "        location_dict[location] = [next_location]\n",
    "\n",
    "all_status = list(df['location'])\n",
    "state_init = [np.random.choice(all_status)]\n",
    "step = 0\n",
    "\n",
    "for i in range(step):    \n",
    "    \n",
    "    state_init.append(np.random.choice(location_dict[state_init[i]]))\n",
    "\n",
    "state_init"
   ]
  },
  {
   "cell_type": "code",
   "execution_count": 91,
   "id": "subject-insurance",
   "metadata": {},
   "outputs": [
    {
     "data": {
      "text/html": [
       "<div>\n",
       "<style scoped>\n",
       "    .dataframe tbody tr th:only-of-type {\n",
       "        vertical-align: middle;\n",
       "    }\n",
       "\n",
       "    .dataframe tbody tr th {\n",
       "        vertical-align: top;\n",
       "    }\n",
       "\n",
       "    .dataframe thead th {\n",
       "        text-align: right;\n",
       "    }\n",
       "</style>\n",
       "<table border=\"1\" class=\"dataframe\">\n",
       "  <thead>\n",
       "    <tr style=\"text-align: right;\">\n",
       "      <th></th>\n",
       "      <th>timestamp</th>\n",
       "      <th>customerno</th>\n",
       "      <th>location</th>\n",
       "      <th>next_location</th>\n",
       "      <th>timedelta</th>\n",
       "    </tr>\n",
       "  </thead>\n",
       "  <tbody>\n",
       "    <tr>\n",
       "      <th>0</th>\n",
       "      <td>2019-09-02 07:03:00</td>\n",
       "      <td>monday_1</td>\n",
       "      <td>dairy</td>\n",
       "      <td>checkout</td>\n",
       "      <td>2019-09-02 07:05:00</td>\n",
       "    </tr>\n",
       "    <tr>\n",
       "      <th>1</th>\n",
       "      <td>2019-09-02 07:03:00</td>\n",
       "      <td>monday_2</td>\n",
       "      <td>dairy</td>\n",
       "      <td>checkout</td>\n",
       "      <td>2019-09-02 07:06:00</td>\n",
       "    </tr>\n",
       "    <tr>\n",
       "      <th>2</th>\n",
       "      <td>2019-09-02 07:04:00</td>\n",
       "      <td>monday_3</td>\n",
       "      <td>dairy</td>\n",
       "      <td>checkout</td>\n",
       "      <td>2019-09-02 07:06:00</td>\n",
       "    </tr>\n",
       "    <tr>\n",
       "      <th>3</th>\n",
       "      <td>2019-09-02 07:04:00</td>\n",
       "      <td>monday_4</td>\n",
       "      <td>dairy</td>\n",
       "      <td>checkout</td>\n",
       "      <td>2019-09-02 07:08:00</td>\n",
       "    </tr>\n",
       "    <tr>\n",
       "      <th>4</th>\n",
       "      <td>2019-09-02 07:04:00</td>\n",
       "      <td>monday_5</td>\n",
       "      <td>spices</td>\n",
       "      <td>checkout</td>\n",
       "      <td>2019-09-02 07:05:00</td>\n",
       "    </tr>\n",
       "  </tbody>\n",
       "</table>\n",
       "</div>"
      ],
      "text/plain": [
       "            timestamp customerno location next_location            timedelta\n",
       "0 2019-09-02 07:03:00   monday_1    dairy      checkout  2019-09-02 07:05:00\n",
       "1 2019-09-02 07:03:00   monday_2    dairy      checkout  2019-09-02 07:06:00\n",
       "2 2019-09-02 07:04:00   monday_3    dairy      checkout  2019-09-02 07:06:00\n",
       "3 2019-09-02 07:04:00   monday_4    dairy      checkout  2019-09-02 07:08:00\n",
       "4 2019-09-02 07:04:00   monday_5   spices      checkout  2019-09-02 07:05:00"
      ]
     },
     "execution_count": 91,
     "metadata": {},
     "output_type": "execute_result"
    }
   ],
   "source": [
    "df.head(5)"
   ]
  },
  {
   "cell_type": "markdown",
   "id": "seven-variable",
   "metadata": {},
   "source": [
    "- Calculate the total number of customers in each section"
   ]
  },
  {
   "cell_type": "code",
   "execution_count": 92,
   "id": "important-clearance",
   "metadata": {},
   "outputs": [
    {
     "data": {
      "text/plain": [
       "<AxesSubplot:xlabel='location'>"
      ]
     },
     "execution_count": 92,
     "metadata": {},
     "output_type": "execute_result"
    },
    {
     "data": {
      "image/png": "[encoded data removed]",
      "text/plain": [
       "<Figure size 1440x576 with 1 Axes>"
      ]
     },
     "metadata": {
      "needs_background": "light"
     },
     "output_type": "display_data"
    }
   ],
   "source": [
    "df_g=df.groupby(['location'])['customerno'].value_counts().unstack()# intresting, looks like one hot encode\n",
    "df_g.fillna(0, inplace=True)\n",
    "df_g['sum']=df_g.sum(axis=1)\n",
    "df_g[['sum']].plot(kind='bar')"
   ]
  },
  {
   "cell_type": "markdown",
   "id": "worst-toyota",
   "metadata": {},
   "source": [
    "- Calculate the total number of customers in each section over time\n",
    "- Display the number of customers at checkout over time"
   ]
  },
  {
   "cell_type": "code",
   "execution_count": 108,
   "id": "wireless-bridge",
   "metadata": {},
   "outputs": [
    {
     "data": {
      "text/html": [
       "<div>\n",
       "<style scoped>\n",
       "    .dataframe tbody tr th:only-of-type {\n",
       "        vertical-align: middle;\n",
       "    }\n",
       "\n",
       "    .dataframe tbody tr th {\n",
       "        vertical-align: top;\n",
       "    }\n",
       "\n",
       "    .dataframe thead th {\n",
       "        text-align: right;\n",
       "    }\n",
       "</style>\n",
       "<table border=\"1\" class=\"dataframe\">\n",
       "  <thead>\n",
       "    <tr style=\"text-align: right;\">\n",
       "      <th>timestamp</th>\n",
       "      <th>2019-09-02 07:03:00</th>\n",
       "      <th>2019-09-02 07:04:00</th>\n",
       "      <th>2019-09-02 07:05:00</th>\n",
       "      <th>2019-09-02 07:06:00</th>\n",
       "      <th>2019-09-02 07:07:00</th>\n",
       "      <th>2019-09-02 07:08:00</th>\n",
       "      <th>2019-09-02 07:09:00</th>\n",
       "      <th>2019-09-02 07:10:00</th>\n",
       "      <th>2019-09-02 07:11:00</th>\n",
       "      <th>2019-09-02 07:12:00</th>\n",
       "      <th>...</th>\n",
       "      <th>2019-09-06 21:41:00</th>\n",
       "      <th>2019-09-06 21:42:00</th>\n",
       "      <th>2019-09-06 21:43:00</th>\n",
       "      <th>2019-09-06 21:44:00</th>\n",
       "      <th>2019-09-06 21:45:00</th>\n",
       "      <th>2019-09-06 21:46:00</th>\n",
       "      <th>2019-09-06 21:47:00</th>\n",
       "      <th>2019-09-06 21:48:00</th>\n",
       "      <th>2019-09-06 21:49:00</th>\n",
       "      <th>2019-09-06 21:50:00</th>\n",
       "    </tr>\n",
       "    <tr>\n",
       "      <th>location</th>\n",
       "      <th></th>\n",
       "      <th></th>\n",
       "      <th></th>\n",
       "      <th></th>\n",
       "      <th></th>\n",
       "      <th></th>\n",
       "      <th></th>\n",
       "      <th></th>\n",
       "      <th></th>\n",
       "      <th></th>\n",
       "      <th></th>\n",
       "      <th></th>\n",
       "      <th></th>\n",
       "      <th></th>\n",
       "      <th></th>\n",
       "      <th></th>\n",
       "      <th></th>\n",
       "      <th></th>\n",
       "      <th></th>\n",
       "      <th></th>\n",
       "      <th></th>\n",
       "    </tr>\n",
       "  </thead>\n",
       "  <tbody>\n",
       "    <tr>\n",
       "      <th>checkout</th>\n",
       "      <td>0.0</td>\n",
       "      <td>0.0</td>\n",
       "      <td>2.0</td>\n",
       "      <td>2.0</td>\n",
       "      <td>1.0</td>\n",
       "      <td>3.0</td>\n",
       "      <td>1.0</td>\n",
       "      <td>1.0</td>\n",
       "      <td>1.0</td>\n",
       "      <td>1.0</td>\n",
       "      <td>...</td>\n",
       "      <td>0.0</td>\n",
       "      <td>0.0</td>\n",
       "      <td>0.0</td>\n",
       "      <td>0.0</td>\n",
       "      <td>1.0</td>\n",
       "      <td>0.0</td>\n",
       "      <td>2.0</td>\n",
       "      <td>2.0</td>\n",
       "      <td>0.0</td>\n",
       "      <td>2.0</td>\n",
       "    </tr>\n",
       "    <tr>\n",
       "      <th>dairy</th>\n",
       "      <td>2.0</td>\n",
       "      <td>2.0</td>\n",
       "      <td>1.0</td>\n",
       "      <td>2.0</td>\n",
       "      <td>1.0</td>\n",
       "      <td>0.0</td>\n",
       "      <td>0.0</td>\n",
       "      <td>0.0</td>\n",
       "      <td>0.0</td>\n",
       "      <td>0.0</td>\n",
       "      <td>...</td>\n",
       "      <td>1.0</td>\n",
       "      <td>1.0</td>\n",
       "      <td>0.0</td>\n",
       "      <td>0.0</td>\n",
       "      <td>0.0</td>\n",
       "      <td>0.0</td>\n",
       "      <td>1.0</td>\n",
       "      <td>3.0</td>\n",
       "      <td>2.0</td>\n",
       "      <td>1.0</td>\n",
       "    </tr>\n",
       "    <tr>\n",
       "      <th>drinks</th>\n",
       "      <td>0.0</td>\n",
       "      <td>0.0</td>\n",
       "      <td>1.0</td>\n",
       "      <td>1.0</td>\n",
       "      <td>1.0</td>\n",
       "      <td>0.0</td>\n",
       "      <td>0.0</td>\n",
       "      <td>0.0</td>\n",
       "      <td>0.0</td>\n",
       "      <td>1.0</td>\n",
       "      <td>...</td>\n",
       "      <td>0.0</td>\n",
       "      <td>0.0</td>\n",
       "      <td>1.0</td>\n",
       "      <td>1.0</td>\n",
       "      <td>0.0</td>\n",
       "      <td>1.0</td>\n",
       "      <td>0.0</td>\n",
       "      <td>0.0</td>\n",
       "      <td>1.0</td>\n",
       "      <td>1.0</td>\n",
       "    </tr>\n",
       "    <tr>\n",
       "      <th>fruit</th>\n",
       "      <td>0.0</td>\n",
       "      <td>1.0</td>\n",
       "      <td>0.0</td>\n",
       "      <td>2.0</td>\n",
       "      <td>0.0</td>\n",
       "      <td>1.0</td>\n",
       "      <td>0.0</td>\n",
       "      <td>0.0</td>\n",
       "      <td>2.0</td>\n",
       "      <td>2.0</td>\n",
       "      <td>...</td>\n",
       "      <td>0.0</td>\n",
       "      <td>0.0</td>\n",
       "      <td>0.0</td>\n",
       "      <td>0.0</td>\n",
       "      <td>1.0</td>\n",
       "      <td>4.0</td>\n",
       "      <td>1.0</td>\n",
       "      <td>2.0</td>\n",
       "      <td>0.0</td>\n",
       "      <td>1.0</td>\n",
       "    </tr>\n",
       "    <tr>\n",
       "      <th>spices</th>\n",
       "      <td>0.0</td>\n",
       "      <td>3.0</td>\n",
       "      <td>0.0</td>\n",
       "      <td>1.0</td>\n",
       "      <td>1.0</td>\n",
       "      <td>0.0</td>\n",
       "      <td>2.0</td>\n",
       "      <td>0.0</td>\n",
       "      <td>0.0</td>\n",
       "      <td>1.0</td>\n",
       "      <td>...</td>\n",
       "      <td>0.0</td>\n",
       "      <td>1.0</td>\n",
       "      <td>0.0</td>\n",
       "      <td>0.0</td>\n",
       "      <td>0.0</td>\n",
       "      <td>0.0</td>\n",
       "      <td>0.0</td>\n",
       "      <td>0.0</td>\n",
       "      <td>1.0</td>\n",
       "      <td>1.0</td>\n",
       "    </tr>\n",
       "  </tbody>\n",
       "</table>\n",
       "<p>5 rows × 4363 columns</p>\n",
       "</div>"
      ],
      "text/plain": [
       "timestamp  2019-09-02 07:03:00  2019-09-02 07:04:00  2019-09-02 07:05:00  \\\n",
       "location                                                                   \n",
       "checkout                   0.0                  0.0                  2.0   \n",
       "dairy                      2.0                  2.0                  1.0   \n",
       "drinks                     0.0                  0.0                  1.0   \n",
       "fruit                      0.0                  1.0                  0.0   \n",
       "spices                     0.0                  3.0                  0.0   \n",
       "\n",
       "timestamp  2019-09-02 07:06:00  2019-09-02 07:07:00  2019-09-02 07:08:00  \\\n",
       "location                                                                   \n",
       "checkout                   2.0                  1.0                  3.0   \n",
       "dairy                      2.0                  1.0                  0.0   \n",
       "drinks                     1.0                  1.0                  0.0   \n",
       "fruit                      2.0                  0.0                  1.0   \n",
       "spices                     1.0                  1.0                  0.0   \n",
       "\n",
       "timestamp  2019-09-02 07:09:00  2019-09-02 07:10:00  2019-09-02 07:11:00  \\\n",
       "location                                                                   \n",
       "checkout                   1.0                  1.0                  1.0   \n",
       "dairy                      0.0                  0.0                  0.0   \n",
       "drinks                     0.0                  0.0                  0.0   \n",
       "fruit                      0.0                  0.0                  2.0   \n",
       "spices                     2.0                  0.0                  0.0   \n",
       "\n",
       "timestamp  2019-09-02 07:12:00  ...  2019-09-06 21:41:00  2019-09-06 21:42:00  \\\n",
       "location                        ...                                             \n",
       "checkout                   1.0  ...                  0.0                  0.0   \n",
       "dairy                      0.0  ...                  1.0                  1.0   \n",
       "drinks                     1.0  ...                  0.0                  0.0   \n",
       "fruit                      2.0  ...                  0.0                  0.0   \n",
       "spices                     1.0  ...                  0.0                  1.0   \n",
       "\n",
       "timestamp  2019-09-06 21:43:00  2019-09-06 21:44:00  2019-09-06 21:45:00  \\\n",
       "location                                                                   \n",
       "checkout                   0.0                  0.0                  1.0   \n",
       "dairy                      0.0                  0.0                  0.0   \n",
       "drinks                     1.0                  1.0                  0.0   \n",
       "fruit                      0.0                  0.0                  1.0   \n",
       "spices                     0.0                  0.0                  0.0   \n",
       "\n",
       "timestamp  2019-09-06 21:46:00  2019-09-06 21:47:00  2019-09-06 21:48:00  \\\n",
       "location                                                                   \n",
       "checkout                   0.0                  2.0                  2.0   \n",
       "dairy                      0.0                  1.0                  3.0   \n",
       "drinks                     1.0                  0.0                  0.0   \n",
       "fruit                      4.0                  1.0                  2.0   \n",
       "spices                     0.0                  0.0                  0.0   \n",
       "\n",
       "timestamp  2019-09-06 21:49:00  2019-09-06 21:50:00  \n",
       "location                                             \n",
       "checkout                   0.0                  2.0  \n",
       "dairy                      2.0                  1.0  \n",
       "drinks                     1.0                  1.0  \n",
       "fruit                      0.0                  1.0  \n",
       "spices                     1.0                  1.0  \n",
       "\n",
       "[5 rows x 4363 columns]"
      ]
     },
     "execution_count": 108,
     "metadata": {},
     "output_type": "execute_result"
    }
   ],
   "source": [
    "df.groupby(['location','timestamp'])['customerno'].count().unstack().fillna(0)"
   ]
  },
  {
   "cell_type": "code",
   "execution_count": 93,
   "id": "little-evaluation",
   "metadata": {},
   "outputs": [
    {
     "data": {
      "text/plain": [
       "<AxesSubplot:xlabel='timestamp'>"
      ]
     },
     "execution_count": 93,
     "metadata": {},
     "output_type": "execute_result"
    },
    {
     "data": {
      "image/png": "[encoded data removed]",
      "text/plain": [
       "<Figure size 1440x576 with 1 Axes>"
      ]
     },
     "metadata": {
      "needs_background": "light"
     },
     "output_type": "display_data"
    }
   ],
   "source": [
    "df.groupby(['location','timestamp'])['customerno'].count().unstack().fillna(0).T.plot()"
   ]
  },
  {
   "cell_type": "markdown",
   "id": "occasional-homeless",
   "metadata": {},
   "source": [
    "- Calculate the time each customer spent in the market"
   ]
  },
  {
   "cell_type": "code",
   "execution_count": 114,
   "id": "comparative-duration",
   "metadata": {},
   "outputs": [],
   "source": [
    "def cal_time(df):\n",
    "    timedelta = []\n",
    "    customer_time = pd.DataFrame()\n",
    "    for customerid in df['customerno'].unique():\n",
    "        delta = df.loc[df['customerno']==customerid]['timestamp'].max() - df.loc[df['customerno']==customerid]['timestamp'].min()\n",
    "        timedelta.append(delta)\n",
    "    customer_time = pd.DataFrame({'customer_id':df['customerno'].unique(),\n",
    "                             'timedelta':timedelta})\n",
    "cal_time(df)"
   ]
  },
  {
   "cell_type": "code",
   "execution_count": 119,
   "id": "understanding-firewall",
   "metadata": {},
   "outputs": [
    {
     "data": {
      "text/html": [
       "<div>\n",
       "<style scoped>\n",
       "    .dataframe tbody tr th:only-of-type {\n",
       "        vertical-align: middle;\n",
       "    }\n",
       "\n",
       "    .dataframe tbody tr th {\n",
       "        vertical-align: top;\n",
       "    }\n",
       "\n",
       "    .dataframe thead th {\n",
       "        text-align: right;\n",
       "    }\n",
       "</style>\n",
       "<table border=\"1\" class=\"dataframe\">\n",
       "  <thead>\n",
       "    <tr style=\"text-align: right;\">\n",
       "      <th></th>\n",
       "      <th>timedelta</th>\n",
       "    </tr>\n",
       "  </thead>\n",
       "  <tbody>\n",
       "    <tr>\n",
       "      <th>count</th>\n",
       "      <td>7445</td>\n",
       "    </tr>\n",
       "    <tr>\n",
       "      <th>mean</th>\n",
       "      <td>0 days 00:06:14.409670920</td>\n",
       "    </tr>\n",
       "    <tr>\n",
       "      <th>std</th>\n",
       "      <td>0 days 00:06:00.221984089</td>\n",
       "    </tr>\n",
       "    <tr>\n",
       "      <th>min</th>\n",
       "      <td>0 days 00:00:00</td>\n",
       "    </tr>\n",
       "    <tr>\n",
       "      <th>25%</th>\n",
       "      <td>0 days 00:02:00</td>\n",
       "    </tr>\n",
       "    <tr>\n",
       "      <th>50%</th>\n",
       "      <td>0 days 00:04:00</td>\n",
       "    </tr>\n",
       "    <tr>\n",
       "      <th>75%</th>\n",
       "      <td>0 days 00:08:00</td>\n",
       "    </tr>\n",
       "    <tr>\n",
       "      <th>max</th>\n",
       "      <td>0 days 00:52:00</td>\n",
       "    </tr>\n",
       "  </tbody>\n",
       "</table>\n",
       "</div>"
      ],
      "text/plain": [
       "                       timedelta\n",
       "count                       7445\n",
       "mean   0 days 00:06:14.409670920\n",
       "std    0 days 00:06:00.221984089\n",
       "min              0 days 00:00:00\n",
       "25%              0 days 00:02:00\n",
       "50%              0 days 00:04:00\n",
       "75%              0 days 00:08:00\n",
       "max              0 days 00:52:00"
      ]
     },
     "execution_count": 119,
     "metadata": {},
     "output_type": "execute_result"
    },
    {
     "data": {
      "text/html": [
       "<div>\n",
       "<style scoped>\n",
       "    .dataframe tbody tr th:only-of-type {\n",
       "        vertical-align: middle;\n",
       "    }\n",
       "\n",
       "    .dataframe tbody tr th {\n",
       "        vertical-align: top;\n",
       "    }\n",
       "\n",
       "    .dataframe thead th {\n",
       "        text-align: right;\n",
       "    }\n",
       "</style>\n",
       "<table border=\"1\" class=\"dataframe\">\n",
       "  <thead>\n",
       "    <tr style=\"text-align: right;\">\n",
       "      <th></th>\n",
       "      <th>customer_id</th>\n",
       "      <th>timedelta</th>\n",
       "    </tr>\n",
       "  </thead>\n",
       "  <tbody>\n",
       "    <tr>\n",
       "      <th>0</th>\n",
       "      <td>monday_1</td>\n",
       "      <td>0 days 00:02:00</td>\n",
       "    </tr>\n",
       "    <tr>\n",
       "      <th>1</th>\n",
       "      <td>monday_2</td>\n",
       "      <td>0 days 00:03:00</td>\n",
       "    </tr>\n",
       "    <tr>\n",
       "      <th>2</th>\n",
       "      <td>monday_3</td>\n",
       "      <td>0 days 00:02:00</td>\n",
       "    </tr>\n",
       "    <tr>\n",
       "      <th>3</th>\n",
       "      <td>monday_4</td>\n",
       "      <td>0 days 00:04:00</td>\n",
       "    </tr>\n",
       "    <tr>\n",
       "      <th>4</th>\n",
       "      <td>monday_5</td>\n",
       "      <td>0 days 00:01:00</td>\n",
       "    </tr>\n",
       "  </tbody>\n",
       "</table>\n",
       "</div>"
      ],
      "text/plain": [
       "  customer_id       timedelta\n",
       "0    monday_1 0 days 00:02:00\n",
       "1    monday_2 0 days 00:03:00\n",
       "2    monday_3 0 days 00:02:00\n",
       "3    monday_4 0 days 00:04:00\n",
       "4    monday_5 0 days 00:01:00"
      ]
     },
     "execution_count": 119,
     "metadata": {},
     "output_type": "execute_result"
    },
    {
     "data": {
      "text/plain": [
       "<AxesSubplot:>"
      ]
     },
     "execution_count": 119,
     "metadata": {},
     "output_type": "execute_result"
    },
    {
     "data": {
      "image/png": "[encoded data removed]",
      "text/plain": [
       "<Figure size 1440x576 with 1 Axes>"
      ]
     },
     "metadata": {
      "needs_background": "light"
     },
     "output_type": "display_data"
    }
   ],
   "source": [
    "customer_time.describe()\n",
    "customer_time.head(5)\n",
    "customer_time.plot()"
   ]
  },
  {
   "cell_type": "markdown",
   "id": "alpha-headquarters",
   "metadata": {},
   "source": [
    "- Calculate the total number of customers in the supermarket over time."
   ]
  },
  {
   "cell_type": "code",
   "execution_count": 127,
   "id": "oriented-metabolism",
   "metadata": {},
   "outputs": [
    {
     "data": {
      "text/plain": [
       "7445"
      ]
     },
     "execution_count": 127,
     "metadata": {},
     "output_type": "execute_result"
    }
   ],
   "source": [
    "len(df.customerno.unique())"
   ]
  },
  {
   "cell_type": "markdown",
   "id": "restricted-valuable",
   "metadata": {},
   "source": [
    "- Our business managers think that the first section customers visit follows a different pattern than the following ones. Plot the distribution of customers of their first visited section versus following sections (treat all sections visited after the first as “following”)."
   ]
  },
  {
   "cell_type": "code",
   "execution_count": 132,
   "id": "engaging-insert",
   "metadata": {},
   "outputs": [
    {
     "data": {
      "text/html": [
       "<div>\n",
       "<style scoped>\n",
       "    .dataframe tbody tr th:only-of-type {\n",
       "        vertical-align: middle;\n",
       "    }\n",
       "\n",
       "    .dataframe tbody tr th {\n",
       "        vertical-align: top;\n",
       "    }\n",
       "\n",
       "    .dataframe thead th {\n",
       "        text-align: right;\n",
       "    }\n",
       "</style>\n",
       "<table border=\"1\" class=\"dataframe\">\n",
       "  <thead>\n",
       "    <tr style=\"text-align: right;\">\n",
       "      <th></th>\n",
       "      <th>timestamp</th>\n",
       "      <th>customerno</th>\n",
       "      <th>location</th>\n",
       "      <th>next_location</th>\n",
       "      <th>timedelta</th>\n",
       "    </tr>\n",
       "  </thead>\n",
       "  <tbody>\n",
       "    <tr>\n",
       "      <th>5</th>\n",
       "      <td>2019-09-02 07:04:00</td>\n",
       "      <td>monday_6</td>\n",
       "      <td>spices</td>\n",
       "      <td>dairy</td>\n",
       "      <td>2019-09-02 07:05:00</td>\n",
       "    </tr>\n",
       "    <tr>\n",
       "      <th>10</th>\n",
       "      <td>2019-09-02 07:05:00</td>\n",
       "      <td>monday_6</td>\n",
       "      <td>dairy</td>\n",
       "      <td>spices</td>\n",
       "      <td>2019-09-02 07:17:00</td>\n",
       "    </tr>\n",
       "    <tr>\n",
       "      <th>62</th>\n",
       "      <td>2019-09-02 07:17:00</td>\n",
       "      <td>monday_6</td>\n",
       "      <td>spices</td>\n",
       "      <td>drinks</td>\n",
       "      <td>2019-09-02 07:18:00</td>\n",
       "    </tr>\n",
       "    <tr>\n",
       "      <th>71</th>\n",
       "      <td>2019-09-02 07:18:00</td>\n",
       "      <td>monday_6</td>\n",
       "      <td>drinks</td>\n",
       "      <td>spices</td>\n",
       "      <td>2019-09-02 07:25:00</td>\n",
       "    </tr>\n",
       "    <tr>\n",
       "      <th>102</th>\n",
       "      <td>2019-09-02 07:25:00</td>\n",
       "      <td>monday_6</td>\n",
       "      <td>spices</td>\n",
       "      <td>dairy</td>\n",
       "      <td>2019-09-02 07:26:00</td>\n",
       "    </tr>\n",
       "    <tr>\n",
       "      <th>104</th>\n",
       "      <td>2019-09-02 07:26:00</td>\n",
       "      <td>monday_6</td>\n",
       "      <td>dairy</td>\n",
       "      <td>spices</td>\n",
       "      <td>2019-09-02 07:27:00</td>\n",
       "    </tr>\n",
       "    <tr>\n",
       "      <th>117</th>\n",
       "      <td>2019-09-02 07:27:00</td>\n",
       "      <td>monday_6</td>\n",
       "      <td>spices</td>\n",
       "      <td>checkout</td>\n",
       "      <td>2019-09-02 07:29:00</td>\n",
       "    </tr>\n",
       "    <tr>\n",
       "      <th>135</th>\n",
       "      <td>2019-09-02 07:29:00</td>\n",
       "      <td>monday_6</td>\n",
       "      <td>checkout</td>\n",
       "      <td>checkout</td>\n",
       "      <td>NaT</td>\n",
       "    </tr>\n",
       "  </tbody>\n",
       "</table>\n",
       "</div>"
      ],
      "text/plain": [
       "              timestamp customerno  location next_location  \\\n",
       "5   2019-09-02 07:04:00   monday_6    spices         dairy   \n",
       "10  2019-09-02 07:05:00   monday_6     dairy        spices   \n",
       "62  2019-09-02 07:17:00   monday_6    spices        drinks   \n",
       "71  2019-09-02 07:18:00   monday_6    drinks        spices   \n",
       "102 2019-09-02 07:25:00   monday_6    spices         dairy   \n",
       "104 2019-09-02 07:26:00   monday_6     dairy        spices   \n",
       "117 2019-09-02 07:27:00   monday_6    spices      checkout   \n",
       "135 2019-09-02 07:29:00   monday_6  checkout      checkout   \n",
       "\n",
       "               timedelta  \n",
       "5    2019-09-02 07:05:00  \n",
       "10   2019-09-02 07:17:00  \n",
       "62   2019-09-02 07:18:00  \n",
       "71   2019-09-02 07:25:00  \n",
       "102  2019-09-02 07:26:00  \n",
       "104  2019-09-02 07:27:00  \n",
       "117  2019-09-02 07:29:00  \n",
       "135                  NaT  "
      ]
     },
     "execution_count": 132,
     "metadata": {},
     "output_type": "execute_result"
    }
   ],
   "source": [
    "df.loc[df['customerno']=='monday_6']"
   ]
  },
  {
   "cell_type": "code",
   "execution_count": null,
   "id": "nominated-checklist",
   "metadata": {},
   "outputs": [],
   "source": []
  }
 ],
 "metadata": {
  "kernelspec": {
   "display_name": "Python 3",
   "language": "python",
   "name": "python3"
  },
  "language_info": {
   "codemirror_mode": {
    "name": "ipython",
    "version": 3
   },
   "file_extension": ".py",
   "mimetype": "text/x-python",
   "name": "python",
   "nbconvert_exporter": "python",
   "pygments_lexer": "ipython3",
   "version": "3.8.8"
  }
 },
 "nbformat": 4,
 "nbformat_minor": 5
}
