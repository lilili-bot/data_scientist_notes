{
 "cells": [
  {
   "cell_type": "markdown",
   "metadata": {},
   "source": [
    "## Data Wrangling Recap\n",
    "\n",
    "Load the penguins .csv files for the three years and with all penguins in one data frame answer the questions below."
   ]
  },
  {
   "cell_type": "code",
   "execution_count": 1,
   "metadata": {},
   "outputs": [],
   "source": [
    "import pandas as pd\n",
    "import numpy as np\n",
    "import re"
   ]
  },
  {
   "cell_type": "markdown",
   "metadata": {},
   "source": [
    "#### Which three species of penguins do we have?"
   ]
  },
  {
   "cell_type": "code",
   "execution_count": 2,
   "metadata": {},
   "outputs": [],
   "source": [
    "def read_file(url):\n",
    "    '''this function is to read file from local path.'''\n",
    "    with open(url) as f:\n",
    "        df = pd.read_csv(url,decimal=';')\n",
    "        df.columns = df.columns.str.lower().str.replace(' ', '_').str.replace('(', '').str.replace(')', '').str.replace('___','').str.replace('_','')\n",
    "    return df"
   ]
  },
  {
   "cell_type": "markdown",
   "metadata": {},
   "source": [
    "#### How many penguins do we have in each island?"
   ]
  },
  {
   "cell_type": "code",
   "execution_count": 3,
   "metadata": {},
   "outputs": [
    {
     "name": "stderr",
     "output_type": "stream",
     "text": [
      "<ipython-input-2-694882d047cc>:5: FutureWarning: The default value of regex will change from True to False in a future version. In addition, single character regular expressions will*not* be treated as literal strings when regex=True.\n",
      "  df.columns = df.columns.str.lower().str.replace(' ', '_').str.replace('(', '').str.replace(')', '').str.replace('___','').str.replace('_','')\n"
     ]
    }
   ],
   "source": [
    "df1 = read_file('../data/penguins_2007.csv')\n",
    "df2 = read_file('../data/penguins_2008.csv')\n",
    "df3 = read_file('../data/penguins_2009.csv')"
   ]
  },
  {
   "cell_type": "markdown",
   "metadata": {},
   "source": [
    "#### How many penguins from each species do we have in each island?"
   ]
  },
  {
   "cell_type": "code",
   "execution_count": 4,
   "metadata": {},
   "outputs": [
    {
     "data": {
      "text/html": [
       "<div>\n",
       "<style scoped>\n",
       "    .dataframe tbody tr th:only-of-type {\n",
       "        vertical-align: middle;\n",
       "    }\n",
       "\n",
       "    .dataframe tbody tr th {\n",
       "        vertical-align: top;\n",
       "    }\n",
       "\n",
       "    .dataframe thead th {\n",
       "        text-align: right;\n",
       "    }\n",
       "</style>\n",
       "<table border=\"1\" class=\"dataframe\">\n",
       "  <thead>\n",
       "    <tr style=\"text-align: right;\">\n",
       "      <th></th>\n",
       "      <th>unnamed:0</th>\n",
       "      <th>species</th>\n",
       "      <th>island</th>\n",
       "      <th>stage</th>\n",
       "      <th>dateegg</th>\n",
       "      <th>bodymass</th>\n",
       "      <th>sex</th>\n",
       "      <th>penguinid</th>\n",
       "    </tr>\n",
       "  </thead>\n",
       "  <tbody>\n",
       "    <tr>\n",
       "      <th>0</th>\n",
       "      <td>0</td>\n",
       "      <td>Adelie</td>\n",
       "      <td>Torgersen</td>\n",
       "      <td>Adult,2 Eggs</td>\n",
       "      <td>2007-11-11</td>\n",
       "      <td>3750.0</td>\n",
       "      <td>MALE</td>\n",
       "      <td>N1A1</td>\n",
       "    </tr>\n",
       "    <tr>\n",
       "      <th>1</th>\n",
       "      <td>1</td>\n",
       "      <td>Adelie</td>\n",
       "      <td>Torgersen</td>\n",
       "      <td>Adult,2 Eggs</td>\n",
       "      <td>2007-11-11</td>\n",
       "      <td>3800.0</td>\n",
       "      <td>FEMALE</td>\n",
       "      <td>N1A2</td>\n",
       "    </tr>\n",
       "    <tr>\n",
       "      <th>2</th>\n",
       "      <td>2</td>\n",
       "      <td>Adelie</td>\n",
       "      <td>Torgersen</td>\n",
       "      <td>Adult,1 Eggs</td>\n",
       "      <td>2007-11-16</td>\n",
       "      <td>3250.0</td>\n",
       "      <td>FEMALE</td>\n",
       "      <td>N2A1</td>\n",
       "    </tr>\n",
       "    <tr>\n",
       "      <th>3</th>\n",
       "      <td>4</td>\n",
       "      <td>Adelie</td>\n",
       "      <td>Torgersen</td>\n",
       "      <td>Adult,2 Eggs</td>\n",
       "      <td>2007-11-16</td>\n",
       "      <td>3450.0</td>\n",
       "      <td>FEMALE</td>\n",
       "      <td>N3A1</td>\n",
       "    </tr>\n",
       "    <tr>\n",
       "      <th>4</th>\n",
       "      <td>5</td>\n",
       "      <td>Adelie</td>\n",
       "      <td>Torgersen</td>\n",
       "      <td>Adult,1 Eggs</td>\n",
       "      <td>2007-11-16</td>\n",
       "      <td>3650.0</td>\n",
       "      <td>MALE</td>\n",
       "      <td>N3A2</td>\n",
       "    </tr>\n",
       "  </tbody>\n",
       "</table>\n",
       "</div>"
      ],
      "text/plain": [
       "   unnamed:0 species     island         stage     dateegg bodymass     sex  \\\n",
       "0          0  Adelie  Torgersen  Adult,2 Eggs  2007-11-11   3750.0    MALE   \n",
       "1          1  Adelie  Torgersen  Adult,2 Eggs  2007-11-11   3800.0  FEMALE   \n",
       "2          2  Adelie  Torgersen  Adult,1 Eggs  2007-11-16   3250.0  FEMALE   \n",
       "3          4  Adelie  Torgersen  Adult,2 Eggs  2007-11-16   3450.0  FEMALE   \n",
       "4          5  Adelie  Torgersen  Adult,1 Eggs  2007-11-16   3650.0    MALE   \n",
       "\n",
       "  penguinid  \n",
       "0      N1A1  \n",
       "1      N1A2  \n",
       "2      N2A1  \n",
       "3      N3A1  \n",
       "4      N3A2  "
      ]
     },
     "execution_count": 4,
     "metadata": {},
     "output_type": "execute_result"
    }
   ],
   "source": [
    "df1.head(5)"
   ]
  },
  {
   "cell_type": "markdown",
   "metadata": {},
   "source": [
    "#### Are there differences between Adult and Juvenile penguins?"
   ]
  },
  {
   "cell_type": "code",
   "execution_count": 5,
   "metadata": {},
   "outputs": [
    {
     "data": {
      "text/html": [
       "<div>\n",
       "<style scoped>\n",
       "    .dataframe tbody tr th:only-of-type {\n",
       "        vertical-align: middle;\n",
       "    }\n",
       "\n",
       "    .dataframe tbody tr th {\n",
       "        vertical-align: top;\n",
       "    }\n",
       "\n",
       "    .dataframe thead th {\n",
       "        text-align: right;\n",
       "    }\n",
       "</style>\n",
       "<table border=\"1\" class=\"dataframe\">\n",
       "  <thead>\n",
       "    <tr style=\"text-align: right;\">\n",
       "      <th></th>\n",
       "      <th>unnamed:0</th>\n",
       "      <th>species</th>\n",
       "      <th>island</th>\n",
       "      <th>stage</th>\n",
       "      <th>dateegg</th>\n",
       "      <th>bodymass</th>\n",
       "      <th>sex</th>\n",
       "      <th>penguinid</th>\n",
       "    </tr>\n",
       "  </thead>\n",
       "  <tbody>\n",
       "    <tr>\n",
       "      <th>0</th>\n",
       "      <td>50</td>\n",
       "      <td>Adelie</td>\n",
       "      <td>Biscoe</td>\n",
       "      <td>Adult,2 Eggs</td>\n",
       "      <td>2008-11-06</td>\n",
       "      <td>3500.0</td>\n",
       "      <td>FEMALE</td>\n",
       "      <td>N21A1</td>\n",
       "    </tr>\n",
       "    <tr>\n",
       "      <th>1</th>\n",
       "      <td>51</td>\n",
       "      <td>Adelie</td>\n",
       "      <td>Biscoe</td>\n",
       "      <td>Adult,2 Eggs</td>\n",
       "      <td>2008-11-06</td>\n",
       "      <td>4300.0</td>\n",
       "      <td>MALE</td>\n",
       "      <td>N21A2</td>\n",
       "    </tr>\n",
       "    <tr>\n",
       "      <th>2</th>\n",
       "      <td>52</td>\n",
       "      <td>Adelie</td>\n",
       "      <td>Biscoe</td>\n",
       "      <td>Adult,1 Eggs</td>\n",
       "      <td>2008-11-09</td>\n",
       "      <td>3450.0</td>\n",
       "      <td>FEMALE</td>\n",
       "      <td>N22A1</td>\n",
       "    </tr>\n",
       "    <tr>\n",
       "      <th>3</th>\n",
       "      <td>53</td>\n",
       "      <td>Adelie</td>\n",
       "      <td>Biscoe</td>\n",
       "      <td>Adult,2 Eggs</td>\n",
       "      <td>2008-11-09</td>\n",
       "      <td>4050.0</td>\n",
       "      <td>MALE</td>\n",
       "      <td>N22A2</td>\n",
       "    </tr>\n",
       "    <tr>\n",
       "      <th>4</th>\n",
       "      <td>54</td>\n",
       "      <td>Adelie</td>\n",
       "      <td>Biscoe</td>\n",
       "      <td>Adult,2 Eggs</td>\n",
       "      <td>2008-11-09</td>\n",
       "      <td>2900.0</td>\n",
       "      <td>FEMALE</td>\n",
       "      <td>N23A1</td>\n",
       "    </tr>\n",
       "  </tbody>\n",
       "</table>\n",
       "</div>"
      ],
      "text/plain": [
       "   unnamed:0 species  island         stage     dateegg bodymass     sex  \\\n",
       "0         50  Adelie  Biscoe  Adult,2 Eggs  2008-11-06   3500.0  FEMALE   \n",
       "1         51  Adelie  Biscoe  Adult,2 Eggs  2008-11-06   4300.0    MALE   \n",
       "2         52  Adelie  Biscoe  Adult,1 Eggs  2008-11-09   3450.0  FEMALE   \n",
       "3         53  Adelie  Biscoe  Adult,2 Eggs  2008-11-09   4050.0    MALE   \n",
       "4         54  Adelie  Biscoe  Adult,2 Eggs  2008-11-09   2900.0  FEMALE   \n",
       "\n",
       "  penguinid  \n",
       "0     N21A1  \n",
       "1     N21A2  \n",
       "2     N22A1  \n",
       "3     N22A2  \n",
       "4     N23A1  "
      ]
     },
     "execution_count": 5,
     "metadata": {},
     "output_type": "execute_result"
    }
   ],
   "source": [
    "df2.head(5)"
   ]
  },
  {
   "cell_type": "code",
   "execution_count": 6,
   "metadata": {
    "tags": []
   },
   "outputs": [
    {
     "data": {
      "text/html": [
       "<div>\n",
       "<style scoped>\n",
       "    .dataframe tbody tr th:only-of-type {\n",
       "        vertical-align: middle;\n",
       "    }\n",
       "\n",
       "    .dataframe tbody tr th {\n",
       "        vertical-align: top;\n",
       "    }\n",
       "\n",
       "    .dataframe thead th {\n",
       "        text-align: right;\n",
       "    }\n",
       "</style>\n",
       "<table border=\"1\" class=\"dataframe\">\n",
       "  <thead>\n",
       "    <tr style=\"text-align: right;\">\n",
       "      <th></th>\n",
       "      <th>unnamed:0</th>\n",
       "      <th>species</th>\n",
       "      <th>island</th>\n",
       "      <th>stage</th>\n",
       "      <th>dateegg</th>\n",
       "      <th>bodymass</th>\n",
       "      <th>sex</th>\n",
       "      <th>penguinid</th>\n",
       "    </tr>\n",
       "  </thead>\n",
       "  <tbody>\n",
       "    <tr>\n",
       "      <th>0</th>\n",
       "      <td>100</td>\n",
       "      <td>Adelie</td>\n",
       "      <td>Biscoe</td>\n",
       "      <td>Adult,1 Eggs</td>\n",
       "      <td>2009-11-09</td>\n",
       "      <td>3725.0</td>\n",
       "      <td>FEMALE</td>\n",
       "      <td>N47A1</td>\n",
       "    </tr>\n",
       "    <tr>\n",
       "      <th>1</th>\n",
       "      <td>101</td>\n",
       "      <td>Adelie</td>\n",
       "      <td>Biscoe</td>\n",
       "      <td>Adult,2 Eggs</td>\n",
       "      <td>2009-11-09</td>\n",
       "      <td>4725.0</td>\n",
       "      <td>MALE</td>\n",
       "      <td>N47A2</td>\n",
       "    </tr>\n",
       "    <tr>\n",
       "      <th>2</th>\n",
       "      <td>102</td>\n",
       "      <td>Adelie</td>\n",
       "      <td>Biscoe</td>\n",
       "      <td>Adult,2 Eggs</td>\n",
       "      <td>2009-11-15</td>\n",
       "      <td>3075.0</td>\n",
       "      <td>FEMALE</td>\n",
       "      <td>N49A1</td>\n",
       "    </tr>\n",
       "    <tr>\n",
       "      <th>3</th>\n",
       "      <td>103</td>\n",
       "      <td>Adelie</td>\n",
       "      <td>Biscoe</td>\n",
       "      <td>Adult,2 Eggs</td>\n",
       "      <td>2009-11-15</td>\n",
       "      <td>4250.0</td>\n",
       "      <td>MALE</td>\n",
       "      <td>N49A2</td>\n",
       "    </tr>\n",
       "    <tr>\n",
       "      <th>4</th>\n",
       "      <td>104</td>\n",
       "      <td>Adelie</td>\n",
       "      <td>Biscoe</td>\n",
       "      <td>Adult,2 Eggs</td>\n",
       "      <td>2009-11-15</td>\n",
       "      <td>2925.0</td>\n",
       "      <td>FEMALE</td>\n",
       "      <td>N51A1</td>\n",
       "    </tr>\n",
       "  </tbody>\n",
       "</table>\n",
       "</div>"
      ],
      "text/plain": [
       "   unnamed:0 species  island         stage     dateegg bodymass     sex  \\\n",
       "0        100  Adelie  Biscoe  Adult,1 Eggs  2009-11-09   3725.0  FEMALE   \n",
       "1        101  Adelie  Biscoe  Adult,2 Eggs  2009-11-09   4725.0    MALE   \n",
       "2        102  Adelie  Biscoe  Adult,2 Eggs  2009-11-15   3075.0  FEMALE   \n",
       "3        103  Adelie  Biscoe  Adult,2 Eggs  2009-11-15   4250.0    MALE   \n",
       "4        104  Adelie  Biscoe  Adult,2 Eggs  2009-11-15   2925.0  FEMALE   \n",
       "\n",
       "  penguinid  \n",
       "0     N47A1  \n",
       "1     N47A2  \n",
       "2     N49A1  \n",
       "3     N49A2  \n",
       "4     N51A1  "
      ]
     },
     "execution_count": 6,
     "metadata": {},
     "output_type": "execute_result"
    }
   ],
   "source": [
    "df3.head(5)"
   ]
  },
  {
   "cell_type": "code",
   "execution_count": 7,
   "metadata": {},
   "outputs": [
    {
     "name": "stdout",
     "output_type": "stream",
     "text": [
      "<class 'pandas.core.frame.DataFrame'>\n",
      "RangeIndex: 103 entries, 0 to 102\n",
      "Data columns (total 8 columns):\n",
      " #   Column     Non-Null Count  Dtype \n",
      "---  ------     --------------  ----- \n",
      " 0   unnamed:0  103 non-null    int64 \n",
      " 1   species    103 non-null    object\n",
      " 2   island     103 non-null    object\n",
      " 3   stage      103 non-null    object\n",
      " 4   dateegg    103 non-null    object\n",
      " 5   bodymass   103 non-null    object\n",
      " 6   sex        103 non-null    object\n",
      " 7   penguinid  103 non-null    object\n",
      "dtypes: int64(1), object(7)\n",
      "memory usage: 6.6+ KB\n",
      "<class 'pandas.core.frame.DataFrame'>\n",
      "RangeIndex: 113 entries, 0 to 112\n",
      "Data columns (total 8 columns):\n",
      " #   Column     Non-Null Count  Dtype \n",
      "---  ------     --------------  ----- \n",
      " 0   unnamed:0  113 non-null    int64 \n",
      " 1   species    113 non-null    object\n",
      " 2   island     113 non-null    object\n",
      " 3   stage      113 non-null    object\n",
      " 4   dateegg    113 non-null    object\n",
      " 5   bodymass   113 non-null    object\n",
      " 6   sex        113 non-null    object\n",
      " 7   penguinid  113 non-null    object\n",
      "dtypes: int64(1), object(7)\n",
      "memory usage: 7.2+ KB\n",
      "<class 'pandas.core.frame.DataFrame'>\n",
      "RangeIndex: 118 entries, 0 to 117\n",
      "Data columns (total 8 columns):\n",
      " #   Column     Non-Null Count  Dtype \n",
      "---  ------     --------------  ----- \n",
      " 0   unnamed:0  118 non-null    int64 \n",
      " 1   species    118 non-null    object\n",
      " 2   island     118 non-null    object\n",
      " 3   stage      118 non-null    object\n",
      " 4   dateegg    118 non-null    object\n",
      " 5   bodymass   118 non-null    object\n",
      " 6   sex        118 non-null    object\n",
      " 7   penguinid  118 non-null    object\n",
      "dtypes: int64(1), object(7)\n",
      "memory usage: 7.5+ KB\n"
     ]
    },
    {
     "data": {
      "text/plain": [
       "(None, None, None)"
      ]
     },
     "execution_count": 7,
     "metadata": {},
     "output_type": "execute_result"
    }
   ],
   "source": [
    "df1.info(), df2.info(), df3.info()"
   ]
  },
  {
   "cell_type": "code",
   "execution_count": 8,
   "metadata": {},
   "outputs": [],
   "source": [
    "def df_concat(df1, df2, df3):\n",
    "    df = pd.concat(\n",
    "    [df1,df2,df3],\n",
    "    axis=0,\n",
    "    join=\"outer\",\n",
    "    ignore_index=False,\n",
    "    keys=None,\n",
    "    levels=None,\n",
    "    names=None,\n",
    "    verify_integrity=False,\n",
    "    copy=True,\n",
    ")\n",
    "    return df"
   ]
  },
  {
   "cell_type": "code",
   "execution_count": 9,
   "metadata": {},
   "outputs": [],
   "source": [
    "df=df_concat(df1, df2, df3)"
   ]
  },
  {
   "cell_type": "markdown",
   "metadata": {},
   "source": [
    "#### How many eggs do we have in each island?"
   ]
  },
  {
   "cell_type": "code",
   "execution_count": 10,
   "metadata": {},
   "outputs": [],
   "source": [
    "df['stage1'], df['Eggs'] = df.stage.str.split(expand=True)\n",
    "# if i have 2 string columns, join 2 columns into 1. "
   ]
  },
  {
   "cell_type": "code",
   "execution_count": 43,
   "metadata": {},
   "outputs": [
    {
     "data": {
      "text/plain": [
       "0      1\n",
       "1      1\n",
       "2      1\n",
       "3      1\n",
       "4      1\n",
       "      ..\n",
       "113    1\n",
       "114    1\n",
       "115    1\n",
       "116    1\n",
       "117    1\n",
       "Name: Eggs, Length: 334, dtype: int64"
      ]
     },
     "execution_count": 43,
     "metadata": {},
     "output_type": "execute_result"
    }
   ],
   "source": [
    "df['Eggs'].astype(int)"
   ]
  },
  {
   "cell_type": "code",
   "execution_count": 11,
   "metadata": {},
   "outputs": [
    {
     "data": {
      "text/plain": [
       "<AxesSubplot:xlabel='island'>"
      ]
     },
     "execution_count": 11,
     "metadata": {},
     "output_type": "execute_result"
    },
    {
     "data": {
      "image/png": "[encoded data removed]",
      "text/plain": [
       "<Figure size 432x288 with 1 Axes>"
      ]
     },
     "metadata": {
      "needs_background": "light"
     },
     "output_type": "display_data"
    }
   ],
   "source": [
    "eggs_cal = df['Eggs'].groupby(df['island'])\n",
    "eggs_cal.value_counts().unstack().plot(kind='bar',stacked = False)"
   ]
  },
  {
   "cell_type": "markdown",
   "metadata": {},
   "source": [
    "#### How has the number of eggs changed per year?"
   ]
  },
  {
   "cell_type": "code",
   "execution_count": 12,
   "metadata": {},
   "outputs": [],
   "source": [
    "df['dateegg']=pd.to_datetime(df['dateegg'])"
   ]
  },
  {
   "cell_type": "code",
   "execution_count": 13,
   "metadata": {},
   "outputs": [],
   "source": [
    "df['year']=df.iloc[:,4].dt.year"
   ]
  },
  {
   "cell_type": "code",
   "execution_count": 14,
   "metadata": {},
   "outputs": [
    {
     "data": {
      "text/html": [
       "<div>\n",
       "<style scoped>\n",
       "    .dataframe tbody tr th:only-of-type {\n",
       "        vertical-align: middle;\n",
       "    }\n",
       "\n",
       "    .dataframe tbody tr th {\n",
       "        vertical-align: top;\n",
       "    }\n",
       "\n",
       "    .dataframe thead th {\n",
       "        text-align: right;\n",
       "    }\n",
       "</style>\n",
       "<table border=\"1\" class=\"dataframe\">\n",
       "  <thead>\n",
       "    <tr style=\"text-align: right;\">\n",
       "      <th></th>\n",
       "      <th>unnamed:0</th>\n",
       "      <th>species</th>\n",
       "      <th>island</th>\n",
       "      <th>stage</th>\n",
       "      <th>dateegg</th>\n",
       "      <th>bodymass</th>\n",
       "      <th>sex</th>\n",
       "      <th>penguinid</th>\n",
       "      <th>stage1</th>\n",
       "      <th>Eggs</th>\n",
       "      <th>year</th>\n",
       "    </tr>\n",
       "  </thead>\n",
       "  <tbody>\n",
       "    <tr>\n",
       "      <th>0</th>\n",
       "      <td>0</td>\n",
       "      <td>Adelie</td>\n",
       "      <td>Torgersen</td>\n",
       "      <td>Adult,2 Eggs</td>\n",
       "      <td>2007-11-11</td>\n",
       "      <td>3750.0</td>\n",
       "      <td>MALE</td>\n",
       "      <td>N1A1</td>\n",
       "      <td>0</td>\n",
       "      <td>1</td>\n",
       "      <td>2007</td>\n",
       "    </tr>\n",
       "    <tr>\n",
       "      <th>1</th>\n",
       "      <td>1</td>\n",
       "      <td>Adelie</td>\n",
       "      <td>Torgersen</td>\n",
       "      <td>Adult,2 Eggs</td>\n",
       "      <td>2007-11-11</td>\n",
       "      <td>3800.0</td>\n",
       "      <td>FEMALE</td>\n",
       "      <td>N1A2</td>\n",
       "      <td>0</td>\n",
       "      <td>1</td>\n",
       "      <td>2007</td>\n",
       "    </tr>\n",
       "    <tr>\n",
       "      <th>2</th>\n",
       "      <td>2</td>\n",
       "      <td>Adelie</td>\n",
       "      <td>Torgersen</td>\n",
       "      <td>Adult,1 Eggs</td>\n",
       "      <td>2007-11-16</td>\n",
       "      <td>3250.0</td>\n",
       "      <td>FEMALE</td>\n",
       "      <td>N2A1</td>\n",
       "      <td>0</td>\n",
       "      <td>1</td>\n",
       "      <td>2007</td>\n",
       "    </tr>\n",
       "    <tr>\n",
       "      <th>3</th>\n",
       "      <td>4</td>\n",
       "      <td>Adelie</td>\n",
       "      <td>Torgersen</td>\n",
       "      <td>Adult,2 Eggs</td>\n",
       "      <td>2007-11-16</td>\n",
       "      <td>3450.0</td>\n",
       "      <td>FEMALE</td>\n",
       "      <td>N3A1</td>\n",
       "      <td>0</td>\n",
       "      <td>1</td>\n",
       "      <td>2007</td>\n",
       "    </tr>\n",
       "    <tr>\n",
       "      <th>4</th>\n",
       "      <td>5</td>\n",
       "      <td>Adelie</td>\n",
       "      <td>Torgersen</td>\n",
       "      <td>Adult,1 Eggs</td>\n",
       "      <td>2007-11-16</td>\n",
       "      <td>3650.0</td>\n",
       "      <td>MALE</td>\n",
       "      <td>N3A2</td>\n",
       "      <td>0</td>\n",
       "      <td>1</td>\n",
       "      <td>2007</td>\n",
       "    </tr>\n",
       "  </tbody>\n",
       "</table>\n",
       "</div>"
      ],
      "text/plain": [
       "   unnamed:0 species     island         stage    dateegg bodymass     sex  \\\n",
       "0          0  Adelie  Torgersen  Adult,2 Eggs 2007-11-11   3750.0    MALE   \n",
       "1          1  Adelie  Torgersen  Adult,2 Eggs 2007-11-11   3800.0  FEMALE   \n",
       "2          2  Adelie  Torgersen  Adult,1 Eggs 2007-11-16   3250.0  FEMALE   \n",
       "3          4  Adelie  Torgersen  Adult,2 Eggs 2007-11-16   3450.0  FEMALE   \n",
       "4          5  Adelie  Torgersen  Adult,1 Eggs 2007-11-16   3650.0    MALE   \n",
       "\n",
       "  penguinid  stage1  Eggs  year  \n",
       "0      N1A1       0     1  2007  \n",
       "1      N1A2       0     1  2007  \n",
       "2      N2A1       0     1  2007  \n",
       "3      N3A1       0     1  2007  \n",
       "4      N3A2       0     1  2007  "
      ]
     },
     "execution_count": 14,
     "metadata": {},
     "output_type": "execute_result"
    }
   ],
   "source": [
    "df.head(5)"
   ]
  },
  {
   "cell_type": "code",
   "execution_count": 59,
   "metadata": {},
   "outputs": [
    {
     "data": {
      "text/plain": [
       "<AxesSubplot:xlabel='year'>"
      ]
     },
     "execution_count": 59,
     "metadata": {},
     "output_type": "execute_result"
    },
    {
     "data": {
      "image/png": "[encoded data removed]",
      "text/plain": [
       "<Figure size 1080x360 with 1 Axes>"
      ]
     },
     "metadata": {
      "needs_background": "light"
     },
     "output_type": "display_data"
    }
   ],
   "source": [
    "#df.groupby('year')['Eggs'].value_counts().unstack().plot(figsize=(15,5))\n",
    "df.groupby('year')['Eggs'].sum().plot(figsize=(15,5))\n",
    "df.groupby('year')['Eggs'].sum().plot(kind='bar',figsize=(15,5))"
   ]
  },
  {
   "cell_type": "code",
   "execution_count": 63,
   "metadata": {},
   "outputs": [],
   "source": [
    "# to be finished\n",
    "#df.groupby(['year'],['species'])['Eggs'].sum()"
   ]
  },
  {
   "cell_type": "markdown",
   "metadata": {},
   "source": [
    "#### In which month do penguins lay most of their eggs?"
   ]
  },
  {
   "cell_type": "code",
   "execution_count": 16,
   "metadata": {},
   "outputs": [],
   "source": [
    "df['month']=df.iloc[:,4].dt.month"
   ]
  },
  {
   "cell_type": "code",
   "execution_count": 17,
   "metadata": {},
   "outputs": [
    {
     "data": {
      "text/html": [
       "<div>\n",
       "<style scoped>\n",
       "    .dataframe tbody tr th:only-of-type {\n",
       "        vertical-align: middle;\n",
       "    }\n",
       "\n",
       "    .dataframe tbody tr th {\n",
       "        vertical-align: top;\n",
       "    }\n",
       "\n",
       "    .dataframe thead th {\n",
       "        text-align: right;\n",
       "    }\n",
       "</style>\n",
       "<table border=\"1\" class=\"dataframe\">\n",
       "  <thead>\n",
       "    <tr style=\"text-align: right;\">\n",
       "      <th></th>\n",
       "      <th>unnamed:0</th>\n",
       "      <th>species</th>\n",
       "      <th>island</th>\n",
       "      <th>stage</th>\n",
       "      <th>dateegg</th>\n",
       "      <th>bodymass</th>\n",
       "      <th>sex</th>\n",
       "      <th>penguinid</th>\n",
       "      <th>stage1</th>\n",
       "      <th>Eggs</th>\n",
       "      <th>year</th>\n",
       "      <th>month</th>\n",
       "    </tr>\n",
       "  </thead>\n",
       "  <tbody>\n",
       "    <tr>\n",
       "      <th>0</th>\n",
       "      <td>0</td>\n",
       "      <td>Adelie</td>\n",
       "      <td>Torgersen</td>\n",
       "      <td>Adult,2 Eggs</td>\n",
       "      <td>2007-11-11</td>\n",
       "      <td>3750.0</td>\n",
       "      <td>MALE</td>\n",
       "      <td>N1A1</td>\n",
       "      <td>0</td>\n",
       "      <td>1</td>\n",
       "      <td>2007</td>\n",
       "      <td>11</td>\n",
       "    </tr>\n",
       "    <tr>\n",
       "      <th>1</th>\n",
       "      <td>1</td>\n",
       "      <td>Adelie</td>\n",
       "      <td>Torgersen</td>\n",
       "      <td>Adult,2 Eggs</td>\n",
       "      <td>2007-11-11</td>\n",
       "      <td>3800.0</td>\n",
       "      <td>FEMALE</td>\n",
       "      <td>N1A2</td>\n",
       "      <td>0</td>\n",
       "      <td>1</td>\n",
       "      <td>2007</td>\n",
       "      <td>11</td>\n",
       "    </tr>\n",
       "    <tr>\n",
       "      <th>2</th>\n",
       "      <td>2</td>\n",
       "      <td>Adelie</td>\n",
       "      <td>Torgersen</td>\n",
       "      <td>Adult,1 Eggs</td>\n",
       "      <td>2007-11-16</td>\n",
       "      <td>3250.0</td>\n",
       "      <td>FEMALE</td>\n",
       "      <td>N2A1</td>\n",
       "      <td>0</td>\n",
       "      <td>1</td>\n",
       "      <td>2007</td>\n",
       "      <td>11</td>\n",
       "    </tr>\n",
       "    <tr>\n",
       "      <th>3</th>\n",
       "      <td>4</td>\n",
       "      <td>Adelie</td>\n",
       "      <td>Torgersen</td>\n",
       "      <td>Adult,2 Eggs</td>\n",
       "      <td>2007-11-16</td>\n",
       "      <td>3450.0</td>\n",
       "      <td>FEMALE</td>\n",
       "      <td>N3A1</td>\n",
       "      <td>0</td>\n",
       "      <td>1</td>\n",
       "      <td>2007</td>\n",
       "      <td>11</td>\n",
       "    </tr>\n",
       "    <tr>\n",
       "      <th>4</th>\n",
       "      <td>5</td>\n",
       "      <td>Adelie</td>\n",
       "      <td>Torgersen</td>\n",
       "      <td>Adult,1 Eggs</td>\n",
       "      <td>2007-11-16</td>\n",
       "      <td>3650.0</td>\n",
       "      <td>MALE</td>\n",
       "      <td>N3A2</td>\n",
       "      <td>0</td>\n",
       "      <td>1</td>\n",
       "      <td>2007</td>\n",
       "      <td>11</td>\n",
       "    </tr>\n",
       "  </tbody>\n",
       "</table>\n",
       "</div>"
      ],
      "text/plain": [
       "   unnamed:0 species     island         stage    dateegg bodymass     sex  \\\n",
       "0          0  Adelie  Torgersen  Adult,2 Eggs 2007-11-11   3750.0    MALE   \n",
       "1          1  Adelie  Torgersen  Adult,2 Eggs 2007-11-11   3800.0  FEMALE   \n",
       "2          2  Adelie  Torgersen  Adult,1 Eggs 2007-11-16   3250.0  FEMALE   \n",
       "3          4  Adelie  Torgersen  Adult,2 Eggs 2007-11-16   3450.0  FEMALE   \n",
       "4          5  Adelie  Torgersen  Adult,1 Eggs 2007-11-16   3650.0    MALE   \n",
       "\n",
       "  penguinid  stage1  Eggs  year  month  \n",
       "0      N1A1       0     1  2007     11  \n",
       "1      N1A2       0     1  2007     11  \n",
       "2      N2A1       0     1  2007     11  \n",
       "3      N3A1       0     1  2007     11  \n",
       "4      N3A2       0     1  2007     11  "
      ]
     },
     "execution_count": 17,
     "metadata": {},
     "output_type": "execute_result"
    }
   ],
   "source": [
    "df.head(5)"
   ]
  },
  {
   "cell_type": "code",
   "execution_count": 51,
   "metadata": {},
   "outputs": [
    {
     "data": {
      "text/plain": [
       "<AxesSubplot:xlabel='month'>"
      ]
     },
     "execution_count": 51,
     "metadata": {},
     "output_type": "execute_result"
    },
    {
     "data": {
      "image/png": "[encoded data removed]",
      "text/plain": [
       "<Figure size 1440x360 with 1 Axes>"
      ]
     },
     "metadata": {
      "needs_background": "light"
     },
     "output_type": "display_data"
    }
   ],
   "source": [
    "df.groupby(['month'])['Eggs'].sum().plot(figsize=(20,5))"
   ]
  },
  {
   "cell_type": "markdown",
   "metadata": {},
   "source": [
    "#### There are some penguins that are measured more than once (check for duplicated penguin_id). What's the difference in weight between measurements?"
   ]
  },
  {
   "cell_type": "code",
   "execution_count": 19,
   "metadata": {},
   "outputs": [],
   "source": [
    "def if_duplicates(id_list):\n",
    "    list_penguinid = list(id_list)\n",
    "    set_penguinid = set(id_list)\n",
    "    contains_duplicates = len(list_penguinid) == len(set_penguinid)\n",
    "    return contains_duplicates"
   ]
  },
  {
   "cell_type": "code",
   "execution_count": 21,
   "metadata": {},
   "outputs": [
    {
     "data": {
      "text/plain": [
       "False"
      ]
     },
     "execution_count": 21,
     "metadata": {},
     "output_type": "execute_result"
    }
   ],
   "source": [
    "id_list=list(df['penguinid'])\n",
    "if_duplicates(id_list)"
   ]
  },
  {
   "cell_type": "code",
   "execution_count": 86,
   "metadata": {},
   "outputs": [],
   "source": [
    "id_dup = set([x for x in list(df['penguinid']) if list(df['penguinid']).count(x) > 1])"
   ]
  },
  {
   "cell_type": "code",
   "execution_count": 39,
   "metadata": {},
   "outputs": [],
   "source": [
    "#df.iloc[:,7]"
   ]
  },
  {
   "cell_type": "code",
   "execution_count": 40,
   "metadata": {},
   "outputs": [],
   "source": [
    "#df.head()"
   ]
  },
  {
   "cell_type": "code",
   "execution_count": 38,
   "metadata": {},
   "outputs": [
    {
     "data": {
      "text/html": [
       "<div>\n",
       "<style scoped>\n",
       "    .dataframe tbody tr th:only-of-type {\n",
       "        vertical-align: middle;\n",
       "    }\n",
       "\n",
       "    .dataframe tbody tr th {\n",
       "        vertical-align: top;\n",
       "    }\n",
       "\n",
       "    .dataframe thead th {\n",
       "        text-align: right;\n",
       "    }\n",
       "</style>\n",
       "<table border=\"1\" class=\"dataframe\">\n",
       "  <thead>\n",
       "    <tr style=\"text-align: right;\">\n",
       "      <th></th>\n",
       "      <th>unnamed:0</th>\n",
       "      <th>species</th>\n",
       "      <th>island</th>\n",
       "      <th>stage</th>\n",
       "      <th>dateegg</th>\n",
       "      <th>bodymass</th>\n",
       "      <th>sex</th>\n",
       "      <th>penguinid</th>\n",
       "      <th>stage1</th>\n",
       "      <th>Eggs</th>\n",
       "      <th>year</th>\n",
       "      <th>month</th>\n",
       "    </tr>\n",
       "  </thead>\n",
       "  <tbody>\n",
       "    <tr>\n",
       "      <th>84</th>\n",
       "      <td>234</td>\n",
       "      <td>Gentoo</td>\n",
       "      <td>Biscoe</td>\n",
       "      <td>Adult,2 Eggs</td>\n",
       "      <td>2007-12-03</td>\n",
       "      <td>4200.0</td>\n",
       "      <td>FEMALE</td>\n",
       "      <td>N38A1</td>\n",
       "      <td>0</td>\n",
       "      <td>1</td>\n",
       "      <td>2007</td>\n",
       "      <td>12</td>\n",
       "    </tr>\n",
       "    <tr>\n",
       "      <th>28</th>\n",
       "      <td>78</td>\n",
       "      <td>Adelie</td>\n",
       "      <td>Torgersen</td>\n",
       "      <td>Adult,2 Eggs</td>\n",
       "      <td>2008-11-09</td>\n",
       "      <td>3550.0</td>\n",
       "      <td>FEMALE</td>\n",
       "      <td>N38A1</td>\n",
       "      <td>0</td>\n",
       "      <td>1</td>\n",
       "      <td>2008</td>\n",
       "      <td>11</td>\n",
       "    </tr>\n",
       "    <tr>\n",
       "      <th>113</th>\n",
       "      <td>338</td>\n",
       "      <td>Gentoo</td>\n",
       "      <td>Biscoe</td>\n",
       "      <td>Adult,2 Eggs</td>\n",
       "      <td>2009-12-01</td>\n",
       "      <td>4925.0</td>\n",
       "      <td>FEMALE</td>\n",
       "      <td>N38A1</td>\n",
       "      <td>0</td>\n",
       "      <td>1</td>\n",
       "      <td>2009</td>\n",
       "      <td>12</td>\n",
       "    </tr>\n",
       "  </tbody>\n",
       "</table>\n",
       "</div>"
      ],
      "text/plain": [
       "     unnamed:0 species     island         stage    dateegg bodymass     sex  \\\n",
       "84         234  Gentoo     Biscoe  Adult,2 Eggs 2007-12-03   4200.0  FEMALE   \n",
       "28          78  Adelie  Torgersen  Adult,2 Eggs 2008-11-09   3550.0  FEMALE   \n",
       "113        338  Gentoo     Biscoe  Adult,2 Eggs 2009-12-01   4925.0  FEMALE   \n",
       "\n",
       "    penguinid  stage1  Eggs  year  month  \n",
       "84      N38A1       0     1  2007     12  \n",
       "28      N38A1       0     1  2008     11  \n",
       "113     N38A1       0     1  2009     12  "
      ]
     },
     "execution_count": 38,
     "metadata": {},
     "output_type": "execute_result"
    }
   ],
   "source": [
    "df.loc[df['penguinid']=='N38A1']"
   ]
  },
  {
   "cell_type": "code",
   "execution_count": null,
   "metadata": {},
   "outputs": [],
   "source": [
    "def get_dup(df,id_dup):\n",
    "    '''this function is to find a duplicates and return a dataframe'''\n",
    "    '''to be finished'''"
   ]
  },
  {
   "cell_type": "code",
   "execution_count": 64,
   "metadata": {},
   "outputs": [],
   "source": [
    "# to use diff(), shift()\n",
    "# agg()"
   ]
  },
  {
   "cell_type": "code",
   "execution_count": null,
   "metadata": {},
   "outputs": [],
   "source": []
  }
 ],
 "metadata": {
  "kernelspec": {
   "display_name": "Python 3",
   "language": "python",
   "name": "python3"
  },
  "language_info": {
   "codemirror_mode": {
    "name": "ipython",
    "version": 3
   },
   "file_extension": ".py",
   "mimetype": "text/x-python",
   "name": "python",
   "nbconvert_exporter": "python",
   "pygments_lexer": "ipython3",
   "version": "3.8.8"
  }
 },
 "nbformat": 4,
 "nbformat_minor": 4
}
