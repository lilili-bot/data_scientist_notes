{
 "cells": [
  {
   "cell_type": "markdown",
   "metadata": {},
   "source": [
    "**Write a Customer class with**:\n",
    "+ ```cust_id```, ```cur_loc``` as attributes\n",
    "+ set the ```cur_loc``` to, for example, the ```entrance```\n",
    "+ ```__repr_``` method, returning the cust_id and the curr_loc\n",
    "+ ```change_aisle``` method, that changes the ```cur_loc``` by randomly picking from the list ```[fruit&vegetables, dairy, checkout, fruit]```\n",
    "\n"
   ]
  },
  {
   "cell_type": "code",
   "execution_count": 14,
   "metadata": {},
   "outputs": [],
   "source": [
    "import numpy as np\n",
    "import random"
   ]
  },
  {
   "cell_type": "code",
   "execution_count": 19,
   "metadata": {},
   "outputs": [],
   "source": [
    "class Customer:\n",
    "    def __init__(self, cust_id, cur_loc ='entrance'):\n",
    "        '''cur_loc is gived entrance.'''\n",
    "        self.cust_id = cust_id\n",
    "        self.cur_loc = cur_loc # self.cur_loc is gived the cur_loc. \n",
    "    def __repr__(self):\n",
    "        return '%s is at %s'%(self.cust_id,self.cur_loc)\n",
    "    def change_aisle(self):\n",
    "        self.cur_loc = random.choice(['dairy','fruit_vagi','spices','drink','checkout'])\n",
    "        print('I have move to %s'%(self.cur_loc))"
   ]
  },
  {
   "cell_type": "code",
   "execution_count": 20,
   "metadata": {},
   "outputs": [
    {
     "name": "stdout",
     "output_type": "stream",
     "text": [
      "2 is at entrance\n"
     ]
    },
    {
     "data": {
      "text/plain": [
       "('entrance', 2, None)"
      ]
     },
     "execution_count": 20,
     "metadata": {},
     "output_type": "execute_result"
    }
   ],
   "source": [
    "cus1 = Customer(2)\n",
    "cus1.cur_loc, cus1.cust_id,print(cus1)"
   ]
  },
  {
   "cell_type": "code",
   "execution_count": 17,
   "metadata": {},
   "outputs": [
    {
     "name": "stdout",
     "output_type": "stream",
     "text": [
      "I have move to dairy\n"
     ]
    }
   ],
   "source": [
    "cus1.change_aisle()"
   ]
  },
  {
   "cell_type": "code",
   "execution_count": null,
   "metadata": {},
   "outputs": [],
   "source": []
  },
  {
   "cell_type": "code",
   "execution_count": null,
   "metadata": {},
   "outputs": [],
   "source": []
  }
 ],
 "metadata": {
  "hide_input": false,
  "kernelspec": {
   "display_name": "Python 3",
   "language": "python",
   "name": "python3"
  },
  "language_info": {
   "codemirror_mode": {
    "name": "ipython",
    "version": 3
   },
   "file_extension": ".py",
   "mimetype": "text/x-python",
   "name": "python",
   "nbconvert_exporter": "python",
   "pygments_lexer": "ipython3",
   "version": "3.8.8"
  },
  "toc": {
   "base_numbering": 1,
   "nav_menu": {},
   "number_sections": true,
   "sideBar": true,
   "skip_h1_title": false,
   "title_cell": "Table of Contents",
   "title_sidebar": "Contents",
   "toc_cell": false,
   "toc_position": {},
   "toc_section_display": true,
   "toc_window_display": false
  }
 },
 "nbformat": 4,
 "nbformat_minor": 4
}
