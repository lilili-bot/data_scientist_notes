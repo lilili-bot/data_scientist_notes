{
 "cells": [
  {
   "cell_type": "code",
   "execution_count": 1,
   "id": "later-specific",
   "metadata": {},
   "outputs": [
    {
     "name": "stdout",
     "output_type": "stream",
     "text": [
      "0.67 0.33 0.00 0.00 0.00 0.00 0.00 0.00 0.00\n",
      "0.00 0.50 0.12 0.12 0.25 0.00 0.00 0.00 0.00\n",
      "0.00 0.00 0.00 0.00 0.00 0.00 1.00 0.00 0.00\n",
      "0.00 0.00 0.00 0.50 0.50 0.00 0.00 0.00 0.00\n",
      "0.00 0.20 0.00 0.00 0.20 0.60 0.00 0.00 0.00\n",
      "0.17 0.17 0.00 0.00 0.17 0.33 0.00 0.17 0.00\n",
      "0.00 0.00 0.00 0.00 0.00 0.00 0.00 0.00 1.00\n",
      "0.00 0.00 0.00 0.00 0.00 0.00 0.00 0.00 1.00\n",
      "0.00 0.33 0.00 0.00 0.00 0.33 0.00 0.00 0.33\n"
     ]
    }
   ],
   "source": [
    "#the following code takes a list such as\n",
    "#[1,1,2,6,8,5,5,7,8,8,1,1,4,5,5,0,0,0,1,1,4,4,5,1,3,3,4,5,4,1,1]\n",
    "#with states labeled as successive integers starting with 0\n",
    "#and returns a transition matrix, M,\n",
    "#where M[i][j] is the probability of transitioning from i to j\n",
    "\n",
    "def transition_matrix(transitions):\n",
    "    n = 1+ max(transitions) #number of states\n",
    "\n",
    "    M = [[0]*n for _ in range(n)]\n",
    "\n",
    "    for (i,j) in zip(transitions,transitions[1:]):\n",
    "        M[i][j] += 1\n",
    "\n",
    "    #now convert to probabilities:\n",
    "    for row in M:\n",
    "        s = sum(row)\n",
    "        if s > 0:\n",
    "            row[:] = [f/s for f in row]\n",
    "    return M\n",
    "\n",
    "#test:\n",
    "\n",
    "t = [1,1,2,6,8,5,5,7,8,8,1,1,4,5,5,0,0,0,1,1,4,4,5,1,3,3,4,5,4,1,1]\n",
    "m = transition_matrix(t)\n",
    "for row in m: print(' '.join('{0:.2f}'.format(x) for x in row))\n",
    "\n",
    "#0.67 0.33 0.00 0.00 0.00 0.00 0.00 0.00 0.00\n",
    "#0.00 0.50 0.12 0.12 0.25 0.00 0.00 0.00 0.00\n",
    "#0.00 0.00 0.00 0.00 0.00 0.00 1.00 0.00 0.00\n",
    "#0.00 0.00 0.00 0.50 0.50 0.00 0.00 0.00 0.00\n",
    "#0.00 0.20 0.00 0.00 0.20 0.60 0.00 0.00 0.00\n",
    "#0.17 0.17 0.00 0.00 0.17 0.33 0.00 0.17 0.00\n",
    "#0.00 0.00 0.00 0.00 0.00 0.00 0.00 0.00 1.00\n",
    "#0.00 0.00 0.00 0.00 0.00 0.00 0.00 0.00 1.00\n",
    "#0.00 0.33 0.00 0.00 0.00 0.33 0.00 0.00 0.33"
   ]
  },
  {
   "cell_type": "code",
   "execution_count": null,
   "id": "matched-essence",
   "metadata": {},
   "outputs": [],
   "source": []
  }
 ],
 "metadata": {
  "kernelspec": {
   "display_name": "Python 3",
   "language": "python",
   "name": "python3"
  },
  "language_info": {
   "codemirror_mode": {
    "name": "ipython",
    "version": 3
   },
   "file_extension": ".py",
   "mimetype": "text/x-python",
   "name": "python",
   "nbconvert_exporter": "python",
   "pygments_lexer": "ipython3",
   "version": "3.8.8"
  }
 },
 "nbformat": 4,
 "nbformat_minor": 5
}
