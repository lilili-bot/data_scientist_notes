{
 "cells": [
  {
   "cell_type": "code",
   "execution_count": 74,
   "id": "pediatric-medium",
   "metadata": {},
   "outputs": [],
   "source": [
    "import numpy as np\n",
    "import random\n",
    "import time\n",
    "import datetime\n",
    "import pandas as pd"
   ]
  },
  {
   "cell_type": "code",
   "execution_count": 75,
   "id": "technological-preference",
   "metadata": {},
   "outputs": [],
   "source": [
    "df = pd.read_csv('customer_full')\n",
    "df_time = pd.read_csv('df_time.csv')"
   ]
  },
  {
   "cell_type": "markdown",
   "id": "split-thompson",
   "metadata": {},
   "source": [
    "customer_per_min = round(df_time['sum'].mean())\n",
    "minutes = 10\n",
    "lam = customer_per_min * minutes\n",
    "customer_number = np.random.poisson(lam, 10)"
   ]
  },
  {
   "cell_type": "code",
   "execution_count": 76,
   "id": "clear-decrease",
   "metadata": {},
   "outputs": [],
   "source": [
    "def get_dict(df):\n",
    "    location_dict={}\n",
    "    for location, next_location in zip(df['location'],df['next_location']):\n",
    "        if location in location_dict.keys():\n",
    "            location_dict[location].append(next_location)\n",
    "        else:\n",
    "            location_dict[location] = [next_location]\n",
    "    yield location_dict"
   ]
  },
  {
   "cell_type": "code",
   "execution_count": 77,
   "id": "painted-wireless",
   "metadata": {},
   "outputs": [],
   "source": [
    "class Customer:\n",
    "    \n",
    "    '''Customer that moves in a supermarket.\n",
    "    parameters: \n",
    "    cust_id:custumer id\n",
    "    cur_state: current location\n",
    "    next_state : next location\n",
    "    is_active : bool if cur state checkout, is active is False\n",
    "    '''\n",
    "    \n",
    "    def __init__(self,cust_id,state='entrance'): # the start point is by default entrance\n",
    "        self.cust_id = cust_id\n",
    "        self.state = state\n",
    "        self.is_active = True\n",
    "  \n",
    "    def __repr__(self): \n",
    "        return 'customerid is %d, current state is %s'%(self.cust_id,self.state)\n",
    "        \n",
    "    def next_state(self):\n",
    "        \n",
    "        '''1. changing self.cur_loc. We want to move the customer, keep updating the cur_loc is the way.\n",
    "        2. update weight random choice with probilities and combination of all 5 locations'''\n",
    "        all_status = list(df['location'])\n",
    "        self.state = np.random.choice(all_status)\n",
    "        step = 0\n",
    "        for i in range(step):    \n",
    "            self.state.append(np.random.choice(location_dict[state_init[i]]))\n",
    "        #self.state = random.choice(['dairy','fruit_vagi','spices','drink','checkout'])\n",
    "        print(self.cust_id,self.state)\n",
    "    \n",
    "    def check_active(self):\n",
    "        \n",
    "        if self.state == 'checkout':\n",
    "            self.is_active = False\n",
    "            \n",
    "        else:\n",
    "            self.is_active = True"
   ]
  },
  {
   "cell_type": "code",
   "execution_count": 84,
   "id": "multiple-official",
   "metadata": {},
   "outputs": [],
   "source": [
    "class Supermarket:\n",
    "    \n",
    "    '''\n",
    "    1. class Supermarket\n",
    "    2. Add method, add customer, by applying number of customer into supermarket\n",
    "    3. add method to move around the customer, compose method change_aisle from customer\n",
    "    '''\n",
    "    # starts at 7:00am, self.minutes is adding when the time passing. \n",
    "    def __init__(self):\n",
    "        #self.num_customer = num_customer\n",
    "        self.customer = []\n",
    "        self.minutes = 0\n",
    "        self.last_id = 0\n",
    "        self.open = True \n",
    "    \n",
    "    def __repr__(self):\n",
    "        pass\n",
    "    \n",
    "    def get_time(self):\n",
    "        \n",
    "        self.minutes = 0\n",
    "        \n",
    "        print('current time is %d'%(self.minutes))\n",
    "\n",
    "    \n",
    "    def print_customer(self):\n",
    "        \n",
    "        \"\"\"print all customers with the current time and id in CSV format.\n",
    "        \"\"\"\n",
    "        \n",
    "        pass\n",
    "    \n",
    "    def next_minute(self):\n",
    "        \n",
    "        if self.minutes < 10:\n",
    "            self.minutes += 1\n",
    "        else:\n",
    "            '''finish the simulation'''\n",
    "            self.open = False  \n",
    "        \n",
    "        self.open\n",
    "        \n",
    "        print('Time has passed anoter minute, current time is %d'%(self.minutes))\n",
    "        \n",
    "    \n",
    "    def add_new_customer(self): \n",
    "        \n",
    "        '''creates new customers.'''\n",
    "        \n",
    "        customer_per_min = round(df_time['sum'].mean())\n",
    "        minutes = 10\n",
    "        lam = customer_per_min * minutes\n",
    "        customer_number = np.random.poisson(lam, 1)\n",
    "        customer_num = np.random.choice(customer_number)\n",
    "        \n",
    "        for n in range(1, customer_num+1):\n",
    "            \n",
    "            self.customer.append(Customer(n)) # composition\n",
    "            \n",
    "        return self.customer\n",
    "                    \n",
    "            \n",
    "    def moving_around(self):\n",
    "        for customer in self.customer:\n",
    "            customer.next_state()\n",
    "            \n",
    "            '''need to change the location again, when the cur_loc is check_out, the customer is not any more in the s\n",
    "            uper market.'''\n",
    "    \n",
    "    def remove_ex_customer(self):        \n",
    "        \n",
    "        rest_customers = []\n",
    "        \n",
    "        for customer in self.customer:\n",
    "            '''\n",
    "            running check_active attribution from Customer Class, return the status of the check_active\n",
    "            '''\n",
    "            customer.check_active()\n",
    "            \n",
    "            if customer.is_active:\n",
    "                \n",
    "                rest_customers.append(customer)\n",
    "                \n",
    "        self.customer = rest_customers\n",
    "        \n"
   ]
  },
  {
   "cell_type": "code",
   "execution_count": 85,
   "id": "burning-watson",
   "metadata": {},
   "outputs": [],
   "source": [
    "Rewe = Supermarket()"
   ]
  },
  {
   "cell_type": "code",
   "execution_count": 86,
   "id": "sapphire-celtic",
   "metadata": {},
   "outputs": [
    {
     "name": "stdout",
     "output_type": "stream",
     "text": [
      "current time is 0\n"
     ]
    }
   ],
   "source": [
    "Rewe.get_time()"
   ]
  },
  {
   "cell_type": "code",
   "execution_count": 87,
   "id": "ahead-settle",
   "metadata": {},
   "outputs": [
    {
     "name": "stdout",
     "output_type": "stream",
     "text": [
      "Time has passed anoter minute, current time is 1\n"
     ]
    }
   ],
   "source": [
    "Rewe.next_minute()"
   ]
  },
  {
   "cell_type": "code",
   "execution_count": 88,
   "id": "configured-bibliography",
   "metadata": {},
   "outputs": [
    {
     "data": {
      "text/plain": [
       "[customerid is 1, current state is entrance,\n",
       " customerid is 2, current state is entrance,\n",
       " customerid is 3, current state is entrance,\n",
       " customerid is 4, current state is entrance,\n",
       " customerid is 5, current state is entrance,\n",
       " customerid is 6, current state is entrance,\n",
       " customerid is 7, current state is entrance,\n",
       " customerid is 8, current state is entrance,\n",
       " customerid is 9, current state is entrance,\n",
       " customerid is 10, current state is entrance,\n",
       " customerid is 11, current state is entrance,\n",
       " customerid is 12, current state is entrance,\n",
       " customerid is 13, current state is entrance,\n",
       " customerid is 14, current state is entrance,\n",
       " customerid is 15, current state is entrance,\n",
       " customerid is 16, current state is entrance,\n",
       " customerid is 17, current state is entrance,\n",
       " customerid is 18, current state is entrance,\n",
       " customerid is 19, current state is entrance,\n",
       " customerid is 20, current state is entrance,\n",
       " customerid is 21, current state is entrance,\n",
       " customerid is 22, current state is entrance,\n",
       " customerid is 23, current state is entrance,\n",
       " customerid is 24, current state is entrance,\n",
       " customerid is 25, current state is entrance,\n",
       " customerid is 26, current state is entrance,\n",
       " customerid is 27, current state is entrance,\n",
       " customerid is 28, current state is entrance,\n",
       " customerid is 29, current state is entrance,\n",
       " customerid is 30, current state is entrance,\n",
       " customerid is 31, current state is entrance,\n",
       " customerid is 32, current state is entrance,\n",
       " customerid is 33, current state is entrance,\n",
       " customerid is 34, current state is entrance,\n",
       " customerid is 35, current state is entrance,\n",
       " customerid is 36, current state is entrance,\n",
       " customerid is 37, current state is entrance,\n",
       " customerid is 38, current state is entrance,\n",
       " customerid is 39, current state is entrance,\n",
       " customerid is 40, current state is entrance,\n",
       " customerid is 41, current state is entrance,\n",
       " customerid is 42, current state is entrance,\n",
       " customerid is 43, current state is entrance,\n",
       " customerid is 44, current state is entrance,\n",
       " customerid is 45, current state is entrance,\n",
       " customerid is 46, current state is entrance,\n",
       " customerid is 47, current state is entrance,\n",
       " customerid is 48, current state is entrance,\n",
       " customerid is 49, current state is entrance,\n",
       " customerid is 50, current state is entrance,\n",
       " customerid is 51, current state is entrance,\n",
       " customerid is 52, current state is entrance]"
      ]
     },
     "execution_count": 88,
     "metadata": {},
     "output_type": "execute_result"
    }
   ],
   "source": [
    "Rewe.add_new_customer()"
   ]
  },
  {
   "cell_type": "code",
   "execution_count": 89,
   "id": "iraqi-status",
   "metadata": {},
   "outputs": [
    {
     "name": "stdout",
     "output_type": "stream",
     "text": [
      "1 dairy\n",
      "2 checkout\n",
      "3 checkout\n",
      "4 spices\n",
      "5 fruit\n",
      "6 drinks\n",
      "7 checkout\n",
      "8 fruit\n",
      "9 fruit\n",
      "10 drinks\n",
      "11 dairy\n",
      "12 dairy\n",
      "13 drinks\n",
      "14 checkout\n",
      "15 checkout\n",
      "16 checkout\n",
      "17 dairy\n",
      "18 dairy\n",
      "19 drinks\n",
      "20 dairy\n",
      "21 checkout\n",
      "22 drinks\n",
      "23 spices\n",
      "24 fruit\n",
      "25 spices\n",
      "26 fruit\n",
      "27 dairy\n",
      "28 spices\n",
      "29 drinks\n",
      "30 checkout\n",
      "31 checkout\n",
      "32 checkout\n",
      "33 fruit\n",
      "34 checkout\n",
      "35 spices\n",
      "36 checkout\n",
      "37 drinks\n",
      "38 dairy\n",
      "39 dairy\n",
      "40 dairy\n",
      "41 checkout\n",
      "42 checkout\n",
      "43 checkout\n",
      "44 spices\n",
      "45 fruit\n",
      "46 fruit\n",
      "47 drinks\n",
      "48 checkout\n",
      "49 checkout\n",
      "50 checkout\n",
      "51 spices\n",
      "52 drinks\n"
     ]
    }
   ],
   "source": [
    "Rewe.moving_around()"
   ]
  },
  {
   "cell_type": "code",
   "execution_count": 90,
   "id": "comparative-antique",
   "metadata": {},
   "outputs": [],
   "source": [
    "Rewe.remove_ex_customer()"
   ]
  },
  {
   "cell_type": "code",
   "execution_count": 91,
   "id": "emerging-consent",
   "metadata": {},
   "outputs": [
    {
     "data": {
      "text/plain": [
       "[customerid is 1, current state is dairy,\n",
       " customerid is 4, current state is spices,\n",
       " customerid is 5, current state is fruit,\n",
       " customerid is 6, current state is drinks,\n",
       " customerid is 8, current state is fruit,\n",
       " customerid is 9, current state is fruit,\n",
       " customerid is 10, current state is drinks,\n",
       " customerid is 11, current state is dairy,\n",
       " customerid is 12, current state is dairy,\n",
       " customerid is 13, current state is drinks,\n",
       " customerid is 17, current state is dairy,\n",
       " customerid is 18, current state is dairy,\n",
       " customerid is 19, current state is drinks,\n",
       " customerid is 20, current state is dairy,\n",
       " customerid is 22, current state is drinks,\n",
       " customerid is 23, current state is spices,\n",
       " customerid is 24, current state is fruit,\n",
       " customerid is 25, current state is spices,\n",
       " customerid is 26, current state is fruit,\n",
       " customerid is 27, current state is dairy,\n",
       " customerid is 28, current state is spices,\n",
       " customerid is 29, current state is drinks,\n",
       " customerid is 33, current state is fruit,\n",
       " customerid is 35, current state is spices,\n",
       " customerid is 37, current state is drinks,\n",
       " customerid is 38, current state is dairy,\n",
       " customerid is 39, current state is dairy,\n",
       " customerid is 40, current state is dairy,\n",
       " customerid is 44, current state is spices,\n",
       " customerid is 45, current state is fruit,\n",
       " customerid is 46, current state is fruit,\n",
       " customerid is 47, current state is drinks,\n",
       " customerid is 51, current state is spices,\n",
       " customerid is 52, current state is drinks]"
      ]
     },
     "execution_count": 91,
     "metadata": {},
     "output_type": "execute_result"
    }
   ],
   "source": [
    "Rewe.customer"
   ]
  },
  {
   "cell_type": "code",
   "execution_count": 72,
   "id": "beautiful-gospel",
   "metadata": {},
   "outputs": [
    {
     "data": {
      "text/plain": [
       "1"
      ]
     },
     "execution_count": 72,
     "metadata": {},
     "output_type": "execute_result"
    }
   ],
   "source": [
    "Rewe.minutes"
   ]
  },
  {
   "cell_type": "code",
   "execution_count": 73,
   "id": "aggressive-venezuela",
   "metadata": {},
   "outputs": [
    {
     "data": {
      "text/plain": [
       "True"
      ]
     },
     "execution_count": 73,
     "metadata": {},
     "output_type": "execute_result"
    }
   ],
   "source": [
    "Rewe.open"
   ]
  },
  {
   "cell_type": "code",
   "execution_count": null,
   "id": "military-honey",
   "metadata": {},
   "outputs": [],
   "source": []
  }
 ],
 "metadata": {
  "kernelspec": {
   "display_name": "Python 3",
   "language": "python",
   "name": "python3"
  },
  "language_info": {
   "codemirror_mode": {
    "name": "ipython",
    "version": 3
   },
   "file_extension": ".py",
   "mimetype": "text/x-python",
   "name": "python",
   "nbconvert_exporter": "python",
   "pygments_lexer": "ipython3",
   "version": "3.8.8"
  }
 },
 "nbformat": 4,
 "nbformat_minor": 5
}
