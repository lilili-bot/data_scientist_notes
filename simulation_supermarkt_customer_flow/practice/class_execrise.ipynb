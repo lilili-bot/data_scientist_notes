{
 "cells": [
  {
   "cell_type": "code",
   "execution_count": 1,
   "id": "nutritional-stationery",
   "metadata": {
    "tags": []
   },
   "outputs": [
    {
     "name": "stdout",
     "output_type": "stream",
     "text": [
      "BMW can turn right, turn left or stop\n"
     ]
    }
   ],
   "source": [
    "# warming up\n",
    "class Car:\n",
    "    def __init__(self,name, year,colour):\n",
    "        self.name = name\n",
    "        self.year = year\n",
    "        self.colour = colour\n",
    "    \n",
    "    def accelerate(self):\n",
    "        print ('%s can turn right, turn left or stop'%(self.name))\n",
    "\n",
    "my_car = Car('BMW','2020','silver white')\n",
    "my_car.accelerate()        "
   ]
  },
  {
   "cell_type": "markdown",
   "id": "contemporary-directive",
   "metadata": {},
   "source": [
    "# user story \n",
    "- As a user, I want to see customers move through the supermarket so that I learn how to visualize an animated scene.\n",
    "\n",
    "\n",
    "# Class Diagram\n",
    "\n",
    "Class Customer\n",
    "\n",
    "#atrribute#\n",
    "- id = int\n",
    "- state = str (entrance)\n",
    "\n",
    "#method#\n",
    "- next_state() -> str\n",
    "- is_active -> bool (if next state check out, here is False, otherwise is True)\n",
    "\n",
    "Class Supermarket \n",
    "\n",
    "#attribute#\n",
    "- customers = list\n",
    "- customers_id = int\n",
    "\n",
    "#method#\n",
    "- add_customer -> none\n",
    "- moving_around -> none\n",
    "- exit_supermarket -> none\n",
    "\n",
    "\n",
    "\n"
   ]
  },
  {
   "cell_type": "code",
   "execution_count": 172,
   "id": "motivated-norway",
   "metadata": {},
   "outputs": [],
   "source": [
    "import numpy as np\n",
    "import random\n",
    "class Customer:\n",
    "    \n",
    "    '''Customer that moves in a supermarket.\n",
    "    parameters: \n",
    "    cust_name:custumer name\n",
    "    cur_loc: current location\n",
    "    budget'''\n",
    "    \n",
    "    def __init__(self,cust_name,budget,cur_loc='entrance'): # the start point is by default entrance\n",
    "        self.cust_name = cust_name\n",
    "        self.budget = budget\n",
    "        self.cur_loc = cur_loc\n",
    "        \n",
    "    '''printing out all iniciated attributes'''    \n",
    "    def __repr__(self): \n",
    "        return 'i am %s, my budget is %d, my current location is %s'%(self.cust_name,self.budget,self.cur_loc)\n",
    "    \n",
    "    def update_budget(self,spend):\n",
    "        \n",
    "        '''update the budget, by updated the init attribute budget'''\n",
    "        self.spend = spend\n",
    "        self.budget-=self.spend\n",
    "        \n",
    "        if self.budget < 15: \n",
    "            \n",
    "            '''update the self.cur_location using if condition, it is also a init atrribute '''\n",
    "            \n",
    "            self.cur_loc = 'exit' \n",
    "            return print(f'oh no, i am running out of money, i will go to {self.cur_loc}')\n",
    "        \n",
    "        else:\n",
    "            return print(f'i will prepare risotto and go to Rome with the left{self.budget} euro')\n",
    "        \n",
    "    def change_aisle(self):\n",
    "        \n",
    "        '''1. changing self.cur_loc again. We want to move the customer, keep updating the cur_loc is the way.\n",
    "        2. update weight random choice with probilities and combination of all 5 locations'''\n",
    "        \n",
    "        self.cur_loc = random.choice(['dairy','fruit_vagi','spices','drink','checkout'])\n",
    "        print('i have moved to %s'%(self.cur_loc))\n",
    "            \n"
   ]
  },
  {
   "cell_type": "code",
   "execution_count": 173,
   "id": "broken-decision",
   "metadata": {},
   "outputs": [],
   "source": [
    "# child class\n",
    "class NerdyCustomer(Customer):\n",
    "    '''A customer that reads da tascience books while shopping'''\n",
    "    def __init__(self, cust_name,budget,book_title):\n",
    "        self.book_title=book_title # here we have overrides the initiated attributs in the parent class\n",
    "        '''if we try to access the parents attributes we get error.'''\n",
    "        super().__init__(cust_name,budget)"
   ]
  },
  {
   "cell_type": "code",
   "execution_count": 184,
   "id": "fatal-effect",
   "metadata": {},
   "outputs": [],
   "source": [
    "lili= NerdyCustomer('lili',50,'think like python')"
   ]
  },
  {
   "cell_type": "code",
   "execution_count": 185,
   "id": "amber-billy",
   "metadata": {},
   "outputs": [
    {
     "data": {
      "text/plain": [
       "'think like python'"
      ]
     },
     "execution_count": 185,
     "metadata": {},
     "output_type": "execute_result"
    }
   ],
   "source": [
    "lili.book_title # call child class attribute."
   ]
  },
  {
   "cell_type": "code",
   "execution_count": 175,
   "id": "latest-balloon",
   "metadata": {},
   "outputs": [
    {
     "name": "stdout",
     "output_type": "stream",
     "text": [
      "i am python, my budget is 50, my current location is entrance\n"
     ]
    }
   ],
   "source": [
    "print(lili) # to check all the init attributes, or status."
   ]
  },
  {
   "cell_type": "code",
   "execution_count": 177,
   "id": "superior-chancellor",
   "metadata": {},
   "outputs": [
    {
     "name": "stdout",
     "output_type": "stream",
     "text": [
      "oh no, i am running out of money, i will go to exit\n"
     ]
    }
   ],
   "source": [
    "lili.update_budget(20) # spend is 20. using 50 - 30 is the update budget."
   ]
  },
  {
   "cell_type": "code",
   "execution_count": 181,
   "id": "alpine-japan",
   "metadata": {},
   "outputs": [
    {
     "name": "stdout",
     "output_type": "stream",
     "text": [
      "i have moved to fruit_vagi\n"
     ]
    }
   ],
   "source": [
    "lili.change_aisle() # random choice is moving the customer. "
   ]
  },
  {
   "cell_type": "code",
   "execution_count": 182,
   "id": "italian-enhancement",
   "metadata": {},
   "outputs": [
    {
     "data": {
      "text/plain": [
       "'fruit_vagi'"
      ]
     },
     "execution_count": 182,
     "metadata": {},
     "output_type": "execute_result"
    }
   ],
   "source": [
    "lili.cur_loc # if i check on the current location now, it is updated to the current aisle. "
   ]
  },
  {
   "cell_type": "code",
   "execution_count": 248,
   "id": "annoying-maple",
   "metadata": {},
   "outputs": [],
   "source": [
    "# composition method\n",
    "class Supermarket:\n",
    "    '''1. create a Supermarket Class, with attribute number of th customer. \n",
    "    2. Add method, add customer, by applying number of customer into supermarket\n",
    "    3. add method to move around the customer, compose method change_aisle from customer'''\n",
    "    def __init__(self,num_customer):\n",
    "        self.num_customer = num_customer\n",
    "        self.customer = []\n",
    "    def add_customer(self):        \n",
    "        for n in range(1, self.num_customer+1):\n",
    "            # composition\n",
    "            self.customer.append(Customer(n,50))\n",
    "    def moving_around(self):\n",
    "        for customer in self.customer:\n",
    "            customer.change_aisle()\n",
    "            \n",
    "            '''need to change the location again, when the cur_loc is check_out, the customer is not any more in the s\n",
    "            uper market.'''"
   ]
  },
  {
   "cell_type": "code",
   "execution_count": 234,
   "id": "hybrid-parallel",
   "metadata": {},
   "outputs": [],
   "source": [
    "lidl = Supermarket(3)"
   ]
  },
  {
   "cell_type": "code",
   "execution_count": 235,
   "id": "crude-emperor",
   "metadata": {},
   "outputs": [
    {
     "data": {
      "text/plain": [
       "(3, [])"
      ]
     },
     "execution_count": 235,
     "metadata": {},
     "output_type": "execute_result"
    }
   ],
   "source": [
    "lidl.num_customer, lidl.customer"
   ]
  },
  {
   "cell_type": "code",
   "execution_count": 236,
   "id": "amended-butler",
   "metadata": {},
   "outputs": [],
   "source": [
    "lidl.add_customer()"
   ]
  },
  {
   "cell_type": "code",
   "execution_count": 237,
   "id": "lasting-diversity",
   "metadata": {},
   "outputs": [
    {
     "data": {
      "text/plain": [
       "[i am 1, my budget is 50, my current location is entrance,\n",
       " i am 2, my budget is 50, my current location is entrance,\n",
       " i am 3, my budget is 50, my current location is entrance]"
      ]
     },
     "execution_count": 237,
     "metadata": {},
     "output_type": "execute_result"
    }
   ],
   "source": [
    "lidl.customer"
   ]
  },
  {
   "cell_type": "code",
   "execution_count": 238,
   "id": "wired-reducing",
   "metadata": {},
   "outputs": [
    {
     "name": "stdout",
     "output_type": "stream",
     "text": [
      "i have moved to drink\n",
      "i have moved to dairy\n",
      "i have moved to spices\n"
     ]
    }
   ],
   "source": [
    "lidl.moving_around()"
   ]
  },
  {
   "cell_type": "code",
   "execution_count": 239,
   "id": "described-multimedia",
   "metadata": {},
   "outputs": [
    {
     "data": {
      "text/plain": [
       "[i am 1, my budget is 50, my current location is drink,\n",
       " i am 2, my budget is 50, my current location is dairy,\n",
       " i am 3, my budget is 50, my current location is spices]"
      ]
     },
     "execution_count": 239,
     "metadata": {},
     "output_type": "execute_result"
    }
   ],
   "source": [
    "lidl.customer"
   ]
  },
  {
   "cell_type": "code",
   "execution_count": 246,
   "id": "skilled-thousand",
   "metadata": {},
   "outputs": [
    {
     "name": "stdout",
     "output_type": "stream",
     "text": [
      "i am Natalia, my budget is 74, my current location is entrance\n",
      "i have moved to dairy\n",
      "i am Natalia, my budget is 74, my current location is dairy\n",
      "i am Oliver, my budget is 97, my current location is entrance\n",
      "i have moved to spices\n",
      "i am Oliver, my budget is 97, my current location is spices\n",
      "i am Jan, my budget is 68, my current location is entrance\n",
      "i have moved to checkout\n",
      "i am Jan, my budget is 68, my current location is checkout\n"
     ]
    }
   ],
   "source": [
    "for cust_name in ['Natalia','Oliver','Jan']:\n",
    "    budget = random.randint(10, 100)\n",
    "    c = Customer(cust_name,budget)\n",
    "    print(c)\n",
    "    c.change_aisle()\n",
    "    print(c)"
   ]
  },
  {
   "cell_type": "code",
   "execution_count": 187,
   "id": "consolidated-retro",
   "metadata": {},
   "outputs": [],
   "source": [
    "# More practices, Class Inheritage\n",
    "class Car:\n",
    "    def __init__(self, name):\n",
    "        self.name = name\n",
    "        self.remain_mile = 0 # initiate status, car has no fuel and 0 remain mile\n",
    "    def fill_fuel(self, miles): # add miles \n",
    "        self.remain_mile = miles\n",
    "        print('%d miles left'%(self.remain_mile))\n",
    "    def run(self, miles): # miles which was ran\n",
    "        #print(self.name)\n",
    "        if self.remain_mile>=miles:\n",
    "            self.remain_mile-=miles\n",
    "            print('run %d miles!'%(miles,))\n",
    "        else:\n",
    "            print('fuel out!')\n",
    "        "
   ]
  },
  {
   "cell_type": "code",
   "execution_count": 92,
   "id": "filled-anger",
   "metadata": {},
   "outputs": [
    {
     "name": "stdout",
     "output_type": "stream",
     "text": [
      "30 miles left\n",
      "fuel out!\n"
     ]
    },
    {
     "data": {
      "text/plain": [
       "'bmw'"
      ]
     },
     "execution_count": 92,
     "metadata": {},
     "output_type": "execute_result"
    }
   ],
   "source": [
    "bmw = Car('bmw')\n",
    "bmw.fill_fuel(30)\n",
    "bmw.run(40)\n",
    "bmw.name"
   ]
  },
  {
   "cell_type": "code",
   "execution_count": 93,
   "id": "educated-engagement",
   "metadata": {},
   "outputs": [],
   "source": [
    "class GasCar(Car):\n",
    "    def fill_fuel(self, gas): # give fuel amount\n",
    "        self.remain_mile= gas*6.0 # change fuel amount into miles, now it is the same as parent class.\n",
    "        print('%s has %d remain_miles'%(self.name, self.remain_mile))"
   ]
  },
  {
   "cell_type": "code",
   "execution_count": 97,
   "id": "opened-irish",
   "metadata": {},
   "outputs": [
    {
     "name": "stdout",
     "output_type": "stream",
     "text": [
      "BMW has 300 remain_miles\n",
      "run 200 miles!\n"
     ]
    }
   ],
   "source": [
    "# different ways of instance\n",
    "gas_bmw = GasCar('BMW') # !!! 'BMW' here we need to instance the parent class.\n",
    "gas_bmw.fill_fuel(50.0) # redefined fill_fuel, giving gas, calculate the miles.\n",
    "gas_bmw.run(200) # iinherate from parent class"
   ]
  },
  {
   "cell_type": "code",
   "execution_count": 95,
   "id": "compliant-soviet",
   "metadata": {},
   "outputs": [],
   "source": [
    "class ElecCar(Car):\n",
    "    def fill_fuel(self,power): # charging\n",
    "        self.remain_mile=power * 3.0 # calculate the miles\n",
    "        print('%s has %d remain_miles'%(self.name, self.remain_mile))"
   ]
  },
  {
   "cell_type": "code",
   "execution_count": 98,
   "id": "documentary-carol",
   "metadata": {},
   "outputs": [
    {
     "name": "stdout",
     "output_type": "stream",
     "text": [
      "Tesla has 180 remain_miles\n",
      "fuel out!\n"
     ]
    }
   ],
   "source": [
    "ecar = ElecCar('Tesla')\n",
    "ecar.fill_fuel(60.0)\n",
    "ecar.run(200)"
   ]
  },
  {
   "cell_type": "code",
   "execution_count": null,
   "id": "therapeutic-emerald",
   "metadata": {},
   "outputs": [],
   "source": [
    "#override the method\n",
    "#or inherate\n",
    "# however even it is overriden, son can still use the method in parent class."
   ]
  },
  {
   "cell_type": "code",
   "execution_count": 100,
   "id": "ranging-influence",
   "metadata": {},
   "outputs": [],
   "source": [
    "# however even it is overriden, son can still use the method, attribute in parent class, using super()\n",
    "class GasCar(Car):\n",
    "    def __init__(self, name, capacity): # initiate name and capacity, override the parent name\n",
    "        super().__init__(name) # using parent class's initiate attribute using, super()\n",
    "        self.capacity = capacity # add capacity, another atrribute"
   ]
  },
  {
   "cell_type": "code",
   "execution_count": 107,
   "id": "transparent-commonwealth",
   "metadata": {},
   "outputs": [
    {
     "data": {
      "text/plain": [
       "('30', 'benz')"
      ]
     },
     "execution_count": 107,
     "metadata": {},
     "output_type": "execute_result"
    }
   ],
   "source": [
    "gascar=GasCar('benz','30')\n",
    "gascar.capacity, gascar.name"
   ]
  },
  {
   "cell_type": "code",
   "execution_count": null,
   "id": "contemporary-imperial",
   "metadata": {},
   "outputs": [],
   "source": [
    "class People:\n",
    "'''build a class people, add attribute name, city, \n",
    "useing __str__\n",
    "method is moveto(self, newcity), sort by city\n",
    "instante with 4 people, using a list then sort. \n",
    "'''"
   ]
  },
  {
   "cell_type": "code",
   "execution_count": 113,
   "id": "acquired-enhancement",
   "metadata": {},
   "outputs": [],
   "source": [
    "# sort \n",
    "mylist = np.random.randint(1,10,2)"
   ]
  },
  {
   "cell_type": "code",
   "execution_count": 114,
   "id": "bulgarian-footage",
   "metadata": {},
   "outputs": [],
   "source": [
    "mylist.sort()"
   ]
  },
  {
   "cell_type": "code",
   "execution_count": 115,
   "id": "arranged-authority",
   "metadata": {},
   "outputs": [
    {
     "data": {
      "text/plain": [
       "[4, 8]"
      ]
     },
     "execution_count": 115,
     "metadata": {},
     "output_type": "execute_result"
    }
   ],
   "source": [
    "sorted(mylist)"
   ]
  },
  {
   "cell_type": "code",
   "execution_count": 116,
   "id": "wooden-kazakhstan",
   "metadata": {},
   "outputs": [],
   "source": [
    "# __lt__  redefine less than\n",
    "\n",
    "def __lt__(self,y): # self is the instance of the class, y is the one we need to compare\n",
    "    '''return True, y is smaller than self,\n",
    "    return False y is bigger than self'''\n",
    "    pass\n"
   ]
  },
  {
   "cell_type": "code",
   "execution_count": 119,
   "id": "polyphonic-invention",
   "metadata": {},
   "outputs": [],
   "source": [
    "class Student:\n",
    "    def __init__(self, name, grade):\n",
    "        self.name, self.grade = name, grade\n",
    "    def __lt__(self, other):\n",
    "        '''we hope to have students list, when we add students in the list, \n",
    "        we hope that the students list will be sorted by score.'''\n",
    "        return self.grade > other.grade\n",
    "    def __str__(self):\n",
    "        return '%s,%d' %(self.name, self.grade)    "
   ]
  },
  {
   "cell_type": "markdown",
   "id": "applicable-admission",
   "metadata": {},
   "source": [
    "s = list()\n",
    "\n",
    "s.append(Student('Jack',80))\n",
    "s.append(Student('Jane',75))\n",
    "s.append(Student('Smith',82))\n",
    "s.append(Student('Tom',90))\n",
    "print('Original:',s)"
   ]
  },
  {
   "cell_type": "code",
   "execution_count": 1,
   "id": "liquid-mambo",
   "metadata": {},
   "outputs": [],
   "source": [
    "# execrise on composition"
   ]
  },
  {
   "cell_type": "code",
   "execution_count": 2,
   "id": "textile-olympus",
   "metadata": {},
   "outputs": [],
   "source": [
    "class Student:\n",
    "    def __init__(self, sId, sName, sGrade):\n",
    "        self.StudentId = sId\n",
    "        self.name = sName\n",
    "        self.grade = sGrade\n",
    "    \n",
    "    #setters to set data\n",
    "    \n",
    "    def setStudentId(self, studentId):\n",
    "        self.studentId = studentId\n",
    "    \n",
    "    def setName(self, name):\n",
    "        self.name = name\n",
    "    \n",
    "    def setGrade(self, grade):\n",
    "        self.grade = grade\n",
    "        \n",
    "    #getters to get data\n",
    "    \n",
    "    def getStudentID(self):\n",
    "        return self.studentId\n",
    "    \n",
    "    def getName(self):\n",
    "        return self.name"
   ]
  },
  {
   "cell_type": "code",
   "execution_count": 3,
   "id": "pleased-colleague",
   "metadata": {},
   "outputs": [],
   "source": [
    "class Course():\n",
    "    def __init__(self,courseId, courseTitle, courseGrade):\n",
    "        self.courseId = courseId\n",
    "        self.courseTitle = courseTitle\n",
    "        self.courseGrade = courseGrade\n",
    "        \n",
    "    # setters \n",
    "    \n",
    "    def setCourseId(self, courseId):\n",
    "        self.courseId = courseId\n",
    "    \n",
    "    def setCourseTitle(self, courseTitle):\n",
    "        self.courseTitle = courseTitle\n",
    "        \n",
    "    def setCourseGrade(self, courseGrade):\n",
    "        self.courseGrade = courseGrade\n",
    "    \n",
    "    # getters\n",
    "    def getCourseId(self):\n",
    "        return self.courseId\n",
    "    \n",
    "    def getCourseTitle(self):\n",
    "        return self.courseTitle\n",
    "    "
   ]
  },
  {
   "cell_type": "code",
   "execution_count": null,
   "id": "positive-qatar",
   "metadata": {},
   "outputs": [],
   "source": []
  }
 ],
 "metadata": {
  "kernelspec": {
   "display_name": "Python 3",
   "language": "python",
   "name": "python3"
  },
  "language_info": {
   "codemirror_mode": {
    "name": "ipython",
    "version": 3
   },
   "file_extension": ".py",
   "mimetype": "text/x-python",
   "name": "python",
   "nbconvert_exporter": "python",
   "pygments_lexer": "ipython3",
   "version": "3.8.8"
  }
 },
 "nbformat": 4,
 "nbformat_minor": 5
}
