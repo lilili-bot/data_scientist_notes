{
 "cells": [
  {
   "cell_type": "code",
   "execution_count": 1,
   "id": "noble-shark",
   "metadata": {},
   "outputs": [],
   "source": [
    "import numpy as np"
   ]
  },
  {
   "cell_type": "code",
   "execution_count": 2,
   "id": "guided-legend",
   "metadata": {},
   "outputs": [],
   "source": [
    "my_list = [42,14,19]"
   ]
  },
  {
   "cell_type": "code",
   "execution_count": 7,
   "id": "reflected-community",
   "metadata": {},
   "outputs": [],
   "source": [
    "arr = np.array(my_list, dtype = 'int8')"
   ]
  },
  {
   "cell_type": "code",
   "execution_count": 8,
   "id": "floral-lighting",
   "metadata": {},
   "outputs": [
    {
     "data": {
      "text/plain": [
       "array([42, 14, 19], dtype=int8)"
      ]
     },
     "execution_count": 8,
     "metadata": {},
     "output_type": "execute_result"
    }
   ],
   "source": [
    "arr"
   ]
  },
  {
   "cell_type": "code",
   "execution_count": 9,
   "id": "naked-classroom",
   "metadata": {},
   "outputs": [
    {
     "data": {
      "text/plain": [
       "dtype('int8')"
      ]
     },
     "execution_count": 9,
     "metadata": {},
     "output_type": "execute_result"
    }
   ],
   "source": [
    "arr.dtype"
   ]
  },
  {
   "cell_type": "code",
   "execution_count": 10,
   "id": "circular-kentucky",
   "metadata": {},
   "outputs": [],
   "source": [
    "import pandas as pd"
   ]
  },
  {
   "cell_type": "code",
   "execution_count": 12,
   "id": "important-philip",
   "metadata": {},
   "outputs": [],
   "source": [
    "df = pd.DataFrame({'cost':[1,2,3,4,5],'to_pay':[20,12,3,56,7]})"
   ]
  },
  {
   "cell_type": "code",
   "execution_count": 14,
   "id": "broken-bachelor",
   "metadata": {},
   "outputs": [
    {
     "data": {
      "text/plain": [
       "array([20, 12,  3, 56,  7])"
      ]
     },
     "execution_count": 14,
     "metadata": {},
     "output_type": "execute_result"
    }
   ],
   "source": [
    "df['to_pay'].values"
   ]
  },
  {
   "cell_type": "code",
   "execution_count": 16,
   "id": "advance-maldives",
   "metadata": {},
   "outputs": [
    {
     "data": {
      "text/plain": [
       "array([[0., 0., 0., 0., 0., 0., 0., 0., 0., 0.],\n",
       "       [0., 0., 0., 0., 0., 0., 0., 0., 0., 0.],\n",
       "       [0., 0., 0., 0., 0., 0., 0., 0., 0., 0.],\n",
       "       [0., 0., 0., 0., 0., 0., 0., 0., 0., 0.],\n",
       "       [0., 0., 0., 0., 0., 0., 0., 0., 0., 0.]])"
      ]
     },
     "execution_count": 16,
     "metadata": {},
     "output_type": "execute_result"
    }
   ],
   "source": [
    "np.zeros((5,10))"
   ]
  },
  {
   "cell_type": "code",
   "execution_count": 17,
   "id": "consolidated-apparatus",
   "metadata": {},
   "outputs": [
    {
     "data": {
      "text/plain": [
       "array([[1., 1.],\n",
       "       [1., 1.],\n",
       "       [1., 1.],\n",
       "       [1., 1.],\n",
       "       [1., 1.]])"
      ]
     },
     "execution_count": 17,
     "metadata": {},
     "output_type": "execute_result"
    }
   ],
   "source": [
    "np.ones(((5,2)))"
   ]
  },
  {
   "cell_type": "code",
   "execution_count": 19,
   "id": "compressed-significance",
   "metadata": {},
   "outputs": [],
   "source": [
    "arr_2=np.full((2,10),42)"
   ]
  },
  {
   "cell_type": "code",
   "execution_count": 20,
   "id": "infinite-practitioner",
   "metadata": {},
   "outputs": [
    {
     "data": {
      "text/plain": [
       "(2, 10)"
      ]
     },
     "execution_count": 20,
     "metadata": {},
     "output_type": "execute_result"
    }
   ],
   "source": [
    "arr_2.shape"
   ]
  },
  {
   "cell_type": "code",
   "execution_count": 23,
   "id": "detailed-white",
   "metadata": {},
   "outputs": [
    {
     "data": {
      "text/plain": [
       "array([ 4,  6,  8, 10, 12, 14, 16, 18])"
      ]
     },
     "execution_count": 23,
     "metadata": {},
     "output_type": "execute_result"
    }
   ],
   "source": [
    "np.arange(4,20,2)"
   ]
  },
  {
   "cell_type": "code",
   "execution_count": 28,
   "id": "canadian-freight",
   "metadata": {},
   "outputs": [
    {
     "data": {
      "text/plain": [
       "array([2.        , 2.04761905, 2.0952381 , 2.14285714, 2.19047619,\n",
       "       2.23809524, 2.28571429, 2.33333333, 2.38095238, 2.42857143,\n",
       "       2.47619048, 2.52380952, 2.57142857, 2.61904762, 2.66666667,\n",
       "       2.71428571, 2.76190476, 2.80952381, 2.85714286, 2.9047619 ,\n",
       "       2.95238095, 3.        , 3.04761905, 3.0952381 , 3.14285714,\n",
       "       3.19047619, 3.23809524, 3.28571429, 3.33333333, 3.38095238,\n",
       "       3.42857143, 3.47619048, 3.52380952, 3.57142857, 3.61904762,\n",
       "       3.66666667, 3.71428571, 3.76190476, 3.80952381, 3.85714286,\n",
       "       3.9047619 , 3.95238095, 4.        ])"
      ]
     },
     "execution_count": 28,
     "metadata": {},
     "output_type": "execute_result"
    }
   ],
   "source": [
    "np.linspace(2,4,43) # 43 numbers between 2 and 4. "
   ]
  },
  {
   "cell_type": "code",
   "execution_count": 33,
   "id": "legendary-management",
   "metadata": {},
   "outputs": [
    {
     "data": {
      "text/plain": [
       "array([0.37754449])"
      ]
     },
     "execution_count": 33,
     "metadata": {},
     "output_type": "execute_result"
    }
   ],
   "source": [
    "np.random.rand(1)# random number bweet 0 and 1"
   ]
  },
  {
   "cell_type": "code",
   "execution_count": 34,
   "id": "statewide-involvement",
   "metadata": {},
   "outputs": [
    {
     "data": {
      "text/plain": [
       "array([[0.67157363, 0.89472914, 0.27274504, 0.09572367, 0.08105458],\n",
       "       [0.21610473, 0.51597186, 0.97420754, 0.35647921, 0.08417506]])"
      ]
     },
     "execution_count": 34,
     "metadata": {},
     "output_type": "execute_result"
    }
   ],
   "source": [
    "np.random.rand(2,5) # (2,5) is the shape"
   ]
  },
  {
   "cell_type": "code",
   "execution_count": 35,
   "id": "revised-thing",
   "metadata": {},
   "outputs": [],
   "source": [
    "arr1 = np.arange(5)"
   ]
  },
  {
   "cell_type": "code",
   "execution_count": 42,
   "id": "understanding-audience",
   "metadata": {},
   "outputs": [
    {
     "data": {
      "text/plain": [
       "(5,)"
      ]
     },
     "execution_count": 42,
     "metadata": {},
     "output_type": "execute_result"
    }
   ],
   "source": [
    "arr1.shape"
   ]
  },
  {
   "cell_type": "code",
   "execution_count": 38,
   "id": "analyzed-holocaust",
   "metadata": {},
   "outputs": [],
   "source": [
    "arr2 = np.ones((1,5))"
   ]
  },
  {
   "cell_type": "code",
   "execution_count": 43,
   "id": "solar-influence",
   "metadata": {},
   "outputs": [
    {
     "data": {
      "text/plain": [
       "(1, 5)"
      ]
     },
     "execution_count": 43,
     "metadata": {},
     "output_type": "execute_result"
    }
   ],
   "source": [
    "arr2.shape"
   ]
  },
  {
   "cell_type": "code",
   "execution_count": 40,
   "id": "basic-mouth",
   "metadata": {},
   "outputs": [
    {
     "data": {
      "text/plain": [
       "array([[1., 2., 3., 4., 5.]])"
      ]
     },
     "execution_count": 40,
     "metadata": {},
     "output_type": "execute_result"
    }
   ],
   "source": [
    "arr1 + arr2"
   ]
  },
  {
   "cell_type": "code",
   "execution_count": 44,
   "id": "smoking-laundry",
   "metadata": {},
   "outputs": [
    {
     "data": {
      "text/plain": [
       "array([[False, False,  True,  True,  True]])"
      ]
     },
     "execution_count": 44,
     "metadata": {},
     "output_type": "execute_result"
    }
   ],
   "source": [
    "arr1 > arr2"
   ]
  },
  {
   "cell_type": "code",
   "execution_count": null,
   "id": "industrial-calgary",
   "metadata": {},
   "outputs": [],
   "source": []
  },
  {
   "cell_type": "code",
   "execution_count": 49,
   "id": "rotary-czech",
   "metadata": {},
   "outputs": [
    {
     "data": {
      "text/plain": [
       "[['a', 'b'],\n",
       " ['c', 'b'],\n",
       " ['a', 'b'],\n",
       " ['c', 'b'],\n",
       " ['b', 'a'],\n",
       " ['c', 'b'],\n",
       " ['c', 'b'],\n",
       " ['c', 'b'],\n",
       " ['a', 'b'],\n",
       " ['b', 'a']]"
      ]
     },
     "execution_count": 49,
     "metadata": {},
     "output_type": "execute_result"
    }
   ],
   "source": [
    "import random\n",
    "random.choices(population=[['a','b'], ['b','a'], ['c','b']],weights=[0.2, 0.2, 0.6],k=10)"
   ]
  },
  {
   "cell_type": "code",
   "execution_count": null,
   "id": "hispanic-bearing",
   "metadata": {},
   "outputs": [],
   "source": []
  }
 ],
 "metadata": {
  "kernelspec": {
   "display_name": "Python 3",
   "language": "python",
   "name": "python3"
  },
  "language_info": {
   "codemirror_mode": {
    "name": "ipython",
    "version": 3
   },
   "file_extension": ".py",
   "mimetype": "text/x-python",
   "name": "python",
   "nbconvert_exporter": "python",
   "pygments_lexer": "ipython3",
   "version": "3.8.8"
  }
 },
 "nbformat": 4,
 "nbformat_minor": 5
}
