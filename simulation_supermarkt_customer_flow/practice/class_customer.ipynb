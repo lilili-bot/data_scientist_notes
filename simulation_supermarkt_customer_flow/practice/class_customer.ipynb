{
 "cells": [
  {
   "cell_type": "code",
   "execution_count": 90,
   "id": "interracial-geometry",
   "metadata": {},
   "outputs": [],
   "source": [
    "import numpy as np\n",
    "import random\n",
    "import time\n",
    "import datetime\n",
    "import pandas as pd\n",
    "import csv"
   ]
  },
  {
   "cell_type": "code",
   "execution_count": 91,
   "id": "crude-pavilion",
   "metadata": {},
   "outputs": [],
   "source": [
    "df = pd.read_csv('customer_full')\n",
    "df_time = pd.read_csv('df_time.csv')"
   ]
  },
  {
   "cell_type": "code",
   "execution_count": 92,
   "id": "honey-cambridge",
   "metadata": {},
   "outputs": [],
   "source": [
    "def get_dict(df):\n",
    "    location_dict={}\n",
    "    for location, next_location in zip(df['location'],df['next_location']):\n",
    "        if location in location_dict.keys():\n",
    "            location_dict[location].append(next_location)\n",
    "        else:\n",
    "            location_dict[location] = [next_location]\n",
    "    yield location_dict"
   ]
  },
  {
   "cell_type": "code",
   "execution_count": 94,
   "id": "parental-header",
   "metadata": {},
   "outputs": [],
   "source": [
    "def add_header():\n",
    "    \n",
    "    with open('supermarket_simulation.csv','a') as outfile:\n",
    "        writer = csv.writer(outfile)\n",
    "        writer.writerow(['ts','customer&location'])"
   ]
  },
  {
   "cell_type": "code",
   "execution_count": 95,
   "id": "neutral-tokyo",
   "metadata": {},
   "outputs": [],
   "source": [
    "add_header()"
   ]
  },
  {
   "cell_type": "code",
   "execution_count": 93,
   "id": "realistic-picnic",
   "metadata": {},
   "outputs": [],
   "source": [
    "class Customer:\n",
    "    \n",
    "    '''Customer that moves in a supermarket.\n",
    "    parameters: \n",
    "    cust_id:custumer id\n",
    "    cur_state: current location\n",
    "    next_state : next location\n",
    "    is_active : bool if cur state checkout, is active is False\n",
    "    '''\n",
    "    \n",
    "    def __init__(self,cust_id,state='drinks'): # the start point is by default entrance\n",
    "        self.cust_id = cust_id\n",
    "        self.state = state   \n",
    "  \n",
    "    def __repr__(self): \n",
    "        return 'id %d, state %s'%(self.cust_id,self.state)\n",
    "        \n",
    "    def next_state(self):\n",
    "        \n",
    "        '''\n",
    "        1. changing self.cur_loc. We want to move the customer, keep updating the cur_loc is the way.\n",
    "        2. update weight random choice with probilities and combination of all 5 locations\n",
    "        '''\n",
    "        all_status = list(df['location'])\n",
    "        self.state = np.random.choice(all_status)\n",
    "        step = 0\n",
    "        for i in range(step):    \n",
    "            self.state.append(np.random.choice(location_dict[state_init[i]]))\n",
    "        #self.state = random.choice(['dairy','fruit_vagi','spices','drink','checkout'])\n",
    "        print(self.cust_id, self.state)\n",
    "    \n",
    "    def check_active(self):\n",
    "        \n",
    "        if self.state == 'checkout':\n",
    "            self.is_active = False\n",
    "            \n",
    "        else:\n",
    "            self.is_active = True\n",
    "            \n",
    "        return print(self.cust_id, self.is_active)"
   ]
  },
  {
   "cell_type": "code",
   "execution_count": 75,
   "id": "sonic-technical",
   "metadata": {},
   "outputs": [],
   "source": [
    "class Supermarket:\n",
    "    \n",
    "    '''\n",
    "    1. class Supermarket\n",
    "    2. Add method, add customer, by applying number of customer into supermarket\n",
    "    3. add method to move around the customer, compose method change_aisle from customer\n",
    "    '''\n",
    "    # starts at 7:00am, self.minutes is adding when the time passing. \n",
    "    def __init__(self):\n",
    "        #self.num_customer = num_customer\n",
    "        self.customer = []\n",
    "        self.minutes = pd.to_datetime('07:00:00')\n",
    "        self.last_id = 0\n",
    "        self.open = True \n",
    "    \n",
    "    def __repr__(self):\n",
    "        pass\n",
    "    \n",
    "    def get_time(self):\n",
    "        \n",
    "        self.minutes\n",
    "        \n",
    "        print(self.minutes)\n",
    "\n",
    "    \n",
    "    def print_customer(self):\n",
    "        \n",
    "        \"\"\"print all customers with the current time and id in CSV format.\n",
    "        \"\"\"\n",
    "        with open ('supermarket.csv','a') as outfile:\n",
    "            \n",
    "            writer = csv.writer(outfile)\n",
    "            writer.writerow([self.minutes,self.customer])\n",
    "            \n",
    "    \n",
    "    def next_minute(self):\n",
    "        \n",
    "        if self.minutes < pd.to_datetime('22:00:00'):\n",
    "            self.minutes += datetime.timedelta(minutes = 1)\n",
    "        else:\n",
    "            self.open = False\n",
    "        \n",
    "        print(self.minutes)\n",
    "        \n",
    "        #next_minute = datetime.datetime.now() + datetime.timedelta(minutes=10)\n",
    "        #self.minutes = next_minute.strftime(\"%H:%M:%S\")\n",
    "        \n",
    "        #return self.minutes\n",
    "\n",
    "        #now = datetime.now()\n",
    "        #self.minutes = now + datetime.timedelta(minutes = 10)\n",
    "        \n",
    "    \n",
    "    def add_new_customer(self): \n",
    "        \n",
    "        '''randomly creates new customers.'''\n",
    "        \n",
    "        customer_per_min = round(df_time['sum'].mean())\n",
    "        minutes = 1\n",
    "        lam = customer_per_min * minutes\n",
    "        customer_number = np.random.poisson(lam, 1)\n",
    "        customer_num = np.random.choice(customer_number)\n",
    "        \n",
    "        for n in range(1, customer_num+1):\n",
    "            \n",
    "            self.customer.append(Customer(n)) # composition\n",
    "            \n",
    "        return self.customer\n",
    "                    \n",
    "            \n",
    "    def moving_around(self):\n",
    "        \n",
    "        for customer in self.customer:\n",
    "            customer.next_state()\n",
    "            \n",
    "            '''need to change the location again, when the cur_loc is check_out, the customer is not any more in the s\n",
    "            uper market.'''\n",
    "    \n",
    "    def remove_ex_customer(self):        \n",
    "        \n",
    "        rest_customers = []\n",
    "        \n",
    "        for customer in self.customer:\n",
    "            customer.check_active()\n",
    "            \n",
    "            if customer.is_active:\n",
    "                \n",
    "                rest_customers.append(customer)\n",
    "        self.customer = rest_customers\n",
    "        \n"
   ]
  },
  {
   "cell_type": "code",
   "execution_count": 76,
   "id": "meaningful-holocaust",
   "metadata": {},
   "outputs": [],
   "source": [
    "Rewe = Supermarket()"
   ]
  },
  {
   "cell_type": "code",
   "execution_count": 77,
   "id": "sexual-alliance",
   "metadata": {},
   "outputs": [
    {
     "name": "stdout",
     "output_type": "stream",
     "text": [
      "2021-05-07 07:00:00\n"
     ]
    }
   ],
   "source": [
    "Rewe.get_time()"
   ]
  },
  {
   "cell_type": "code",
   "execution_count": 78,
   "id": "renewable-interference",
   "metadata": {},
   "outputs": [
    {
     "name": "stdout",
     "output_type": "stream",
     "text": [
      "2021-05-07 07:01:00\n"
     ]
    }
   ],
   "source": [
    "Rewe.next_minute()"
   ]
  },
  {
   "cell_type": "code",
   "execution_count": 79,
   "id": "enhanced-tribute",
   "metadata": {},
   "outputs": [
    {
     "data": {
      "text/plain": [
       "[id 1, state drinks,\n",
       " id 2, state drinks,\n",
       " id 3, state drinks,\n",
       " id 4, state drinks]"
      ]
     },
     "execution_count": 79,
     "metadata": {},
     "output_type": "execute_result"
    }
   ],
   "source": [
    "Rewe.add_new_customer()"
   ]
  },
  {
   "cell_type": "code",
   "execution_count": 80,
   "id": "introductory-commerce",
   "metadata": {},
   "outputs": [
    {
     "name": "stdout",
     "output_type": "stream",
     "text": [
      "1 checkout\n",
      "2 drinks\n",
      "3 drinks\n",
      "4 checkout\n"
     ]
    }
   ],
   "source": [
    "Rewe.moving_around()"
   ]
  },
  {
   "cell_type": "code",
   "execution_count": 81,
   "id": "imported-remainder",
   "metadata": {},
   "outputs": [
    {
     "name": "stdout",
     "output_type": "stream",
     "text": [
      "1 False\n",
      "2 True\n",
      "3 True\n",
      "4 False\n"
     ]
    }
   ],
   "source": [
    "Rewe.remove_ex_customer()"
   ]
  },
  {
   "cell_type": "code",
   "execution_count": 82,
   "id": "prepared-pioneer",
   "metadata": {},
   "outputs": [
    {
     "data": {
      "text/plain": [
       "[id 2, state drinks, id 3, state drinks]"
      ]
     },
     "execution_count": 82,
     "metadata": {},
     "output_type": "execute_result"
    }
   ],
   "source": [
    "Rewe.customer"
   ]
  },
  {
   "cell_type": "code",
   "execution_count": 83,
   "id": "russian-classics",
   "metadata": {},
   "outputs": [],
   "source": [
    "Rewe.print_customer()"
   ]
  },
  {
   "cell_type": "code",
   "execution_count": 89,
   "id": "later-enterprise",
   "metadata": {},
   "outputs": [
    {
     "data": {
      "text/plain": [
       "[id 2, state drinks, id 3, state drinks]"
      ]
     },
     "execution_count": 89,
     "metadata": {},
     "output_type": "execute_result"
    }
   ],
   "source": [
    "Rewe.customer[0:2]"
   ]
  },
  {
   "cell_type": "code",
   "execution_count": null,
   "id": "rubber-movie",
   "metadata": {},
   "outputs": [],
   "source": []
  },
  {
   "cell_type": "code",
   "execution_count": null,
   "id": "improving-cabinet",
   "metadata": {},
   "outputs": [],
   "source": []
  },
  {
   "cell_type": "code",
   "execution_count": null,
   "id": "private-zambia",
   "metadata": {},
   "outputs": [],
   "source": []
  },
  {
   "cell_type": "code",
   "execution_count": null,
   "id": "stupid-honey",
   "metadata": {},
   "outputs": [],
   "source": []
  },
  {
   "cell_type": "code",
   "execution_count": null,
   "id": "hispanic-modern",
   "metadata": {},
   "outputs": [],
   "source": []
  },
  {
   "cell_type": "code",
   "execution_count": null,
   "id": "informational-replacement",
   "metadata": {},
   "outputs": [],
   "source": [
    "           "
   ]
  },
  {
   "cell_type": "code",
   "execution_count": null,
   "id": "round-driving",
   "metadata": {},
   "outputs": [],
   "source": []
  }
 ],
 "metadata": {
  "kernelspec": {
   "display_name": "Python 3",
   "language": "python",
   "name": "python3"
  },
  "language_info": {
   "codemirror_mode": {
    "name": "ipython",
    "version": 3
   },
   "file_extension": ".py",
   "mimetype": "text/x-python",
   "name": "python",
   "nbconvert_exporter": "python",
   "pygments_lexer": "ipython3",
   "version": "3.8.8"
  }
 },
 "nbformat": 4,
 "nbformat_minor": 5
}
