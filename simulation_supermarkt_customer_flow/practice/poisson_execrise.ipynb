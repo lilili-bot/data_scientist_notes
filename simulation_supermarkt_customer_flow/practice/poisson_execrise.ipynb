{
 "cells": [
  {
   "cell_type": "markdown",
   "id": "random-ground",
   "metadata": {},
   "source": [
    "# learning by doing -_- "
   ]
  },
  {
   "cell_type": "markdown",
   "id": "sensitive-interface",
   "metadata": {},
   "source": [
    "https://github.com/WillKoehrsen/Data-Analysis/blob/master/poisson/poisson.ipynb"
   ]
  },
  {
   "cell_type": "code",
   "execution_count": 4,
   "id": "framed-involvement",
   "metadata": {},
   "outputs": [],
   "source": [
    "import pandas as pd\n",
    "import numpy as np\n",
    "np.random.seed(42)"
   ]
  },
  {
   "cell_type": "code",
   "execution_count": 2,
   "id": "creative-parcel",
   "metadata": {},
   "outputs": [],
   "source": [
    "from IPython.core.interactiveshell import InteractiveShell\n",
    "InteractiveShell.ast_node_interactivity = 'all'"
   ]
  },
  {
   "cell_type": "code",
   "execution_count": 3,
   "id": "plastic-cheat",
   "metadata": {},
   "outputs": [],
   "source": [
    "import chart_studio.plotly\n",
    "import plotly.graph_objs as go\n",
    "from plotly.offline import iplot"
   ]
  },
  {
   "cell_type": "code",
   "execution_count": 1,
   "id": "second-career",
   "metadata": {},
   "outputs": [
    {
     "data": {
      "text/html": [
       "        <script type=\"text/javascript\">\n",
       "        window.PlotlyConfig = {MathJaxConfig: 'local'};\n",
       "        if (window.MathJax) {MathJax.Hub.Config({SVG: {font: \"STIX-Web\"}});}\n",
       "        if (typeof require !== 'undefined') {\n",
       "        require.undef(\"plotly\");\n",
       "        requirejs.config({\n",
       "            paths: {\n",
       "                'plotly': ['https://cdn.plot.ly/plotly-latest.min']\n",
       "            }\n",
       "        });\n",
       "        require(['plotly'], function(Plotly) {\n",
       "            window._Plotly = Plotly;\n",
       "        });\n",
       "        }\n",
       "        </script>\n",
       "        "
      ]
     },
     "metadata": {},
     "output_type": "display_data"
    }
   ],
   "source": [
    "import cufflinks as cf\n",
    "cf.go_offline()\n",
    "cf.set_config_file(world_readable=True, theme='pearl')\n",
    "\n",
    "#https://zhuanlan.zhihu.com/p/84033521"
   ]
  },
  {
   "cell_type": "code",
   "execution_count": 5,
   "id": "impossible-nicholas",
   "metadata": {},
   "outputs": [],
   "source": [
    "from scipy.special import factorial"
   ]
  },
  {
   "cell_type": "markdown",
   "id": "automatic-subcommittee",
   "metadata": {},
   "source": [
    "$$P(k{\\text{ events in interval}})=e^{-\\lambda }{\\frac {\\lambda ^{k}}{k!}}$$"
   ]
  },
  {
   "cell_type": "markdown",
   "id": "provincial-certificate",
   "metadata": {},
   "source": [
    "#Poisson Probabilities  "
   ]
  },
  {
   "cell_type": "code",
   "execution_count": 10,
   "id": "presidential-shield",
   "metadata": {},
   "outputs": [
    {
     "name": "stdout",
     "output_type": "stream",
     "text": [
      "The probability of 3 meteors in 60 minutes is 14.04%.\n"
     ]
    }
   ],
   "source": [
    "event_per_minute = 1/12\n",
    "minutes = 60\n",
    "\n",
    "#Expected events\n",
    "lam = event_per_minute * minutes\n",
    "\n",
    "k = 3\n",
    "p_k = np.exp(-lam) * np.power(lam,k)/factorial(k)\n",
    "print(f'The probability of {k} meteors in {minutes} minutes is {100*p_k:.2f}%.')"
   ]
  },
  {
   "cell_type": "code",
   "execution_count": 20,
   "id": "million-situation",
   "metadata": {},
   "outputs": [
    {
     "data": {
      "text/plain": [
       "0.1436"
      ]
     },
     "execution_count": 20,
     "metadata": {},
     "output_type": "execute_result"
    }
   ],
   "source": [
    "# Do the same calculation by simulation 10,000 hours.\n",
    "\n",
    "x = np.random.poisson(lam, 10000)\n",
    "(x==3).mean()"
   ]
  },
  {
   "cell_type": "code",
   "execution_count": 19,
   "id": "photographic-mortality",
   "metadata": {},
   "outputs": [
    {
     "data": {
      "text/plain": [
       "array([7, 6, 4, ..., 6, 4, 5])"
      ]
     },
     "execution_count": 19,
     "metadata": {},
     "output_type": "execute_result"
    }
   ],
   "source": [
    "x"
   ]
  },
  {
   "cell_type": "code",
   "execution_count": 25,
   "id": "previous-pursuit",
   "metadata": {},
   "outputs": [
    {
     "data": {
      "text/plain": [
       "0.14037389581428056"
      ]
     },
     "execution_count": 25,
     "metadata": {},
     "output_type": "execute_result"
    }
   ],
   "source": [
    "# a function to calculate probabilities for a number of events.\n",
    "def cal_prob(event_per_minute, minutes,k):\n",
    "    # calculate probability of k events happends in minutes given event_per_minute.\n",
    "    lam = event_per_minute * minutes\n",
    "    return np.exp(-lam)*np.power(lam,k)/factorial(k)\n",
    "    \n",
    "cal_prob(event_per_minute, minutes,3)"
   ]
  },
  {
   "cell_type": "code",
   "execution_count": 26,
   "id": "creative-dylan",
   "metadata": {},
   "outputs": [],
   "source": [
    "# try to use the function to generate a distribution of probabilities for different number of events."
   ]
  },
  {
   "cell_type": "code",
   "execution_count": null,
   "id": "weird-toilet",
   "metadata": {},
   "outputs": [],
   "source": []
  }
 ],
 "metadata": {
  "kernelspec": {
   "display_name": "Python 3",
   "language": "python",
   "name": "python3"
  },
  "language_info": {
   "codemirror_mode": {
    "name": "ipython",
    "version": 3
   },
   "file_extension": ".py",
   "mimetype": "text/x-python",
   "name": "python",
   "nbconvert_exporter": "python",
   "pygments_lexer": "ipython3",
   "version": "3.8.2"
  }
 },
 "nbformat": 4,
 "nbformat_minor": 5
}
