{
 "cells": [
  {
   "cell_type": "markdown",
   "metadata": {},
   "source": [
    "### Inheritance\n",
    "it allows a class, called ChildClass:\n",
    "+ derive properties and behaviors from another class, called ParentClass.\n",
    "+ add new properties and behaviors .\n",
    "\n",
    "Inheritance establishes a “is a” relationship.\n",
    "For instance a \"nerdycustomer\" \"is a\" particular type of customer."
   ]
  },
  {
   "cell_type": "code",
   "execution_count": null,
   "metadata": {},
   "outputs": [],
   "source": []
  },
  {
   "cell_type": "code",
   "execution_count": null,
   "metadata": {},
   "outputs": [],
   "source": []
  },
  {
   "cell_type": "code",
   "execution_count": null,
   "metadata": {},
   "outputs": [],
   "source": []
  },
  {
   "cell_type": "code",
   "execution_count": null,
   "metadata": {},
   "outputs": [],
   "source": []
  },
  {
   "cell_type": "markdown",
   "metadata": {},
   "source": [
    "![inheritance](inheritance.jpeg)"
   ]
  },
  {
   "cell_type": "code",
   "execution_count": 26,
   "metadata": {},
   "outputs": [],
   "source": [
    "import random\n"
   ]
  },
  {
   "cell_type": "code",
   "execution_count": 4,
   "metadata": {},
   "outputs": [],
   "source": [
    "# class statement \n",
    "class Customer:  \n",
    "    \"\"\"Customer that moves in a Supermarket\n",
    "    \n",
    "    parameters:\n",
    "    cust_id: int\n",
    "    cur_loc: str\n",
    "    budget: int \n",
    "    \"\"\" \n",
    "    \n",
    "    def __init__(self,cust_id): \n",
    "        self.cust_id = cust_id\n",
    "        self.cur_loc = 'entrance'\n",
    "        self.budget = 100\n",
    "        #print(\"parent's__init__\")\n",
    "    def __repr__(self):\n",
    "        return f\"{self.cust_id}, {self.cur_loc}\" \n",
    "    \n",
    "    def update_budget(self):\n",
    "        self.budget -= 20\n",
    "        if self.budget < 15:\n",
    "            self.cur_loc = 'exit'\n",
    "            return print(f'oh no i am running out of money i will go to {self.cur_loc}')\n",
    "        else:\n",
    "            return print(f' i will prepare risotto and go to Rome with the left {self.budget} euro')\n",
    "    \n",
    "    def change_aisle(self):\n",
    "        self.cur_loc = random.choices(['dairy','fruit_&_vegetable','spices','drink','checkout'])[0]"
   ]
  },
  {
   "cell_type": "code",
   "execution_count": null,
   "metadata": {},
   "outputs": [],
   "source": []
  },
  {
   "cell_type": "markdown",
   "metadata": {},
   "source": [
    "#### NerdyCustomer\n",
    "A customer that reads datascience books while shopping"
   ]
  },
  {
   "cell_type": "code",
   "execution_count": 3,
   "metadata": {},
   "outputs": [],
   "source": [
    "class NerdyCustomer(Customer): # Inheritance: you pass the ParentClass in the parentheses\n",
    "    \"\"\"A customer that reads da\n",
    "    tascience books while shopping\"\"\"\n",
    "    pass"
   ]
  },
  {
   "cell_type": "code",
   "execution_count": 5,
   "metadata": {},
   "outputs": [],
   "source": [
    "carmine = NerdyCustomer(1) # instantiate the class to create a child class"
   ]
  },
  {
   "cell_type": "code",
   "execution_count": 6,
   "metadata": {},
   "outputs": [
    {
     "data": {
      "text/plain": [
       "1"
      ]
     },
     "execution_count": 6,
     "metadata": {},
     "output_type": "execute_result"
    }
   ],
   "source": [
    "carmine.cust_id"
   ]
  },
  {
   "cell_type": "code",
   "execution_count": 7,
   "metadata": {},
   "outputs": [
    {
     "data": {
      "text/plain": [
       "['__class__',\n",
       " '__delattr__',\n",
       " '__dict__',\n",
       " '__dir__',\n",
       " '__doc__',\n",
       " '__eq__',\n",
       " '__format__',\n",
       " '__ge__',\n",
       " '__getattribute__',\n",
       " '__gt__',\n",
       " '__hash__',\n",
       " '__init__',\n",
       " '__init_subclass__',\n",
       " '__le__',\n",
       " '__lt__',\n",
       " '__module__',\n",
       " '__ne__',\n",
       " '__new__',\n",
       " '__reduce__',\n",
       " '__reduce_ex__',\n",
       " '__repr__',\n",
       " '__setattr__',\n",
       " '__sizeof__',\n",
       " '__str__',\n",
       " '__subclasshook__',\n",
       " '__weakref__',\n",
       " 'budget',\n",
       " 'change_aisle',\n",
       " 'cur_loc',\n",
       " 'cust_id',\n",
       " 'update_budget']"
      ]
     },
     "execution_count": 7,
     "metadata": {},
     "output_type": "execute_result"
    }
   ],
   "source": [
    "dir(carmine)"
   ]
  },
  {
   "cell_type": "markdown",
   "metadata": {},
   "source": [
    "#### How we extend child's properties?\n",
    "```__init__()```?"
   ]
  },
  {
   "cell_type": "code",
   "execution_count": 8,
   "metadata": {},
   "outputs": [],
   "source": [
    "class NerdyCustomer(Customer):\n",
    "    def __init__(self,book_title):\n",
    "        self.book_title = book_title"
   ]
  },
  {
   "cell_type": "code",
   "execution_count": 10,
   "metadata": {},
   "outputs": [],
   "source": [
    "nerd = NerdyCustomer('Python')"
   ]
  },
  {
   "cell_type": "code",
   "execution_count": null,
   "metadata": {},
   "outputs": [],
   "source": []
  },
  {
   "cell_type": "code",
   "execution_count": 11,
   "metadata": {},
   "outputs": [
    {
     "ename": "AttributeError",
     "evalue": "'NerdyCustomer' object has no attribute 'cust_id'",
     "output_type": "error",
     "traceback": [
      "\u001b[0;31m---------------------------------------------------------------------------\u001b[0m",
      "\u001b[0;31mAttributeError\u001b[0m                            Traceback (most recent call last)",
      "\u001b[0;32m<ipython-input-11-9418b3e3df55>\u001b[0m in \u001b[0;36m<module>\u001b[0;34m\u001b[0m\n\u001b[0;32m----> 1\u001b[0;31m \u001b[0mnerd\u001b[0m\u001b[0;34m.\u001b[0m\u001b[0mcust_id\u001b[0m\u001b[0;34m\u001b[0m\u001b[0;34m\u001b[0m\u001b[0m\n\u001b[0m",
      "\u001b[0;31mAttributeError\u001b[0m: 'NerdyCustomer' object has no attribute 'cust_id'"
     ]
    }
   ],
   "source": [
    "nerd.cust_id "
   ]
  },
  {
   "cell_type": "code",
   "execution_count": 12,
   "metadata": {},
   "outputs": [
    {
     "ename": "AttributeError",
     "evalue": "'NerdyCustomer' object has no attribute 'budget'",
     "output_type": "error",
     "traceback": [
      "\u001b[0;31m---------------------------------------------------------------------------\u001b[0m",
      "\u001b[0;31mAttributeError\u001b[0m                            Traceback (most recent call last)",
      "\u001b[0;32m<ipython-input-12-320c375b92b5>\u001b[0m in \u001b[0;36m<module>\u001b[0;34m\u001b[0m\n\u001b[0;32m----> 1\u001b[0;31m \u001b[0mnerd\u001b[0m\u001b[0;34m.\u001b[0m\u001b[0mupdate_budget\u001b[0m\u001b[0;34m(\u001b[0m\u001b[0;34m)\u001b[0m\u001b[0;34m\u001b[0m\u001b[0;34m\u001b[0m\u001b[0m\n\u001b[0m",
      "\u001b[0;32m<ipython-input-1-f7ab1f3ed151>\u001b[0m in \u001b[0;36mupdate_budget\u001b[0;34m(self)\u001b[0m\n\u001b[1;32m     18\u001b[0m \u001b[0;34m\u001b[0m\u001b[0m\n\u001b[1;32m     19\u001b[0m     \u001b[0;32mdef\u001b[0m \u001b[0mupdate_budget\u001b[0m\u001b[0;34m(\u001b[0m\u001b[0mself\u001b[0m\u001b[0;34m)\u001b[0m\u001b[0;34m:\u001b[0m\u001b[0;34m\u001b[0m\u001b[0;34m\u001b[0m\u001b[0m\n\u001b[0;32m---> 20\u001b[0;31m         \u001b[0mself\u001b[0m\u001b[0;34m.\u001b[0m\u001b[0mbudget\u001b[0m \u001b[0;34m-=\u001b[0m \u001b[0;36m20\u001b[0m\u001b[0;34m\u001b[0m\u001b[0;34m\u001b[0m\u001b[0m\n\u001b[0m\u001b[1;32m     21\u001b[0m         \u001b[0;32mif\u001b[0m \u001b[0mself\u001b[0m\u001b[0;34m.\u001b[0m\u001b[0mbudget\u001b[0m \u001b[0;34m<\u001b[0m \u001b[0;36m15\u001b[0m\u001b[0;34m:\u001b[0m\u001b[0;34m\u001b[0m\u001b[0;34m\u001b[0m\u001b[0m\n\u001b[1;32m     22\u001b[0m             \u001b[0mself\u001b[0m\u001b[0;34m.\u001b[0m\u001b[0mcur_loc\u001b[0m \u001b[0;34m=\u001b[0m \u001b[0;34m'exit'\u001b[0m\u001b[0;34m\u001b[0m\u001b[0;34m\u001b[0m\u001b[0m\n",
      "\u001b[0;31mAttributeError\u001b[0m: 'NerdyCustomer' object has no attribute 'budget'"
     ]
    }
   ],
   "source": [
    "nerd.update_budget()"
   ]
  },
  {
   "cell_type": "code",
   "execution_count": 13,
   "metadata": {},
   "outputs": [],
   "source": [
    "nerd.change_aisle()"
   ]
  },
  {
   "cell_type": "code",
   "execution_count": null,
   "metadata": {},
   "outputs": [],
   "source": [
    "nerd.cur_loc"
   ]
  },
  {
   "cell_type": "markdown",
   "metadata": {},
   "source": [
    "#### superclass' __init__()\n",
    "```super( ).__init()__```\n",
    "allows to inherit the superclass' constructor ```__init()__```"
   ]
  },
  {
   "cell_type": "code",
   "execution_count": 15,
   "metadata": {},
   "outputs": [],
   "source": [
    "class NerdyCustomer(Customer):\n",
    "    def __init__(self,cust_id,book_title):\n",
    "        super().__init__(cust_id)\n",
    "        #Customer.__init__(self,cust_id)\n",
    "        self.book_title = book_title"
   ]
  },
  {
   "cell_type": "code",
   "execution_count": 16,
   "metadata": {},
   "outputs": [],
   "source": [
    "nerd2 = NerdyCustomer(1,'Python Pythonic')"
   ]
  },
  {
   "cell_type": "code",
   "execution_count": 17,
   "metadata": {},
   "outputs": [
    {
     "name": "stdout",
     "output_type": "stream",
     "text": [
      " i will prepare risotto and go to Rome with the left 80 euro\n"
     ]
    }
   ],
   "source": [
    "nerd2.update_budget()"
   ]
  },
  {
   "cell_type": "code",
   "execution_count": null,
   "metadata": {},
   "outputs": [],
   "source": [
    "nerd2.cur_loc"
   ]
  },
  {
   "cell_type": "code",
   "execution_count": null,
   "metadata": {},
   "outputs": [],
   "source": [
    "carmine = NerdyCustomer('harrypotter','Carmine')"
   ]
  },
  {
   "cell_type": "code",
   "execution_count": null,
   "metadata": {},
   "outputs": [],
   "source": [
    "carmine.update_budget()"
   ]
  },
  {
   "cell_type": "code",
   "execution_count": null,
   "metadata": {},
   "outputs": [],
   "source": [
    "carmine.change_aisle()\n",
    "carmine"
   ]
  },
  {
   "cell_type": "code",
   "execution_count": 26,
   "metadata": {},
   "outputs": [],
   "source": [
    "class NerdyCustomer(Customer):\n",
    "    def __init__(self,cust_id,book_title):\n",
    "        super().__init__(cust_id)\n",
    "        self.book_title = book_title\n",
    "    # new method\n",
    "    def read_book(self):\n",
    "        return f\"the nerdy customer {self.cust_id} reads the book about {self.book_title}, waiting at {self.cur_loc}\""
   ]
  },
  {
   "cell_type": "code",
   "execution_count": 27,
   "metadata": {},
   "outputs": [
    {
     "data": {
      "text/plain": [
       "Carmine, entrance"
      ]
     },
     "execution_count": 27,
     "metadata": {},
     "output_type": "execute_result"
    }
   ],
   "source": [
    "carmine = NerdyCustomer('Carmine','Python')\n",
    "carmine"
   ]
  },
  {
   "cell_type": "code",
   "execution_count": 29,
   "metadata": {},
   "outputs": [],
   "source": [
    "caterina = NerdyCustomer('Caterina','Harry Potter')"
   ]
  },
  {
   "cell_type": "code",
   "execution_count": 22,
   "metadata": {},
   "outputs": [
    {
     "data": {
      "text/plain": [
       "Carmine, dairy"
      ]
     },
     "execution_count": 22,
     "metadata": {},
     "output_type": "execute_result"
    }
   ],
   "source": [
    "carmine.change_aisle()\n",
    "carmine"
   ]
  },
  {
   "cell_type": "code",
   "execution_count": 28,
   "metadata": {},
   "outputs": [
    {
     "data": {
      "text/plain": [
       "'the nerdy customer Carmine reads the book about Python, waiting at entrance'"
      ]
     },
     "execution_count": 28,
     "metadata": {},
     "output_type": "execute_result"
    }
   ],
   "source": [
    "carmine.read_book()"
   ]
  },
  {
   "cell_type": "markdown",
   "metadata": {},
   "source": [
    "### Composition\n",
    "In composition one of the classes is composed of one or more instance of other classes. In other words one class is ''container and other class is \"content\""
   ]
  },
  {
   "cell_type": "code",
   "execution_count": null,
   "metadata": {},
   "outputs": [],
   "source": []
  },
  {
   "cell_type": "code",
   "execution_count": null,
   "metadata": {},
   "outputs": [],
   "source": []
  },
  {
   "cell_type": "code",
   "execution_count": null,
   "metadata": {},
   "outputs": [],
   "source": []
  },
  {
   "cell_type": "code",
   "execution_count": null,
   "metadata": {},
   "outputs": [],
   "source": []
  },
  {
   "cell_type": "code",
   "execution_count": null,
   "metadata": {},
   "outputs": [],
   "source": []
  },
  {
   "cell_type": "code",
   "execution_count": null,
   "metadata": {},
   "outputs": [],
   "source": []
  },
  {
   "cell_type": "code",
   "execution_count": null,
   "metadata": {},
   "outputs": [],
   "source": []
  },
  {
   "cell_type": "markdown",
   "metadata": {},
   "source": [
    "![composition](composition.jpeg)"
   ]
  },
  {
   "cell_type": "markdown",
   "metadata": {},
   "source": [
    "#### Objects can \"interact\"\n",
    "In our case we want simulate customers moving in the Supermarket. Let's create the class Supermarket.\n",
    "\n",
    "**attributes** of the class Supermarket:\n",
    "+ customer\n",
    "+ time\n",
    "+ number of customer\n",
    "+ ...\n",
    "\n",
    "**methods** of the class Supermarket\n",
    "+ move around\n",
    "+ add customer\n",
    "+ remove customer\n",
    "+ ..."
   ]
  },
  {
   "cell_type": "code",
   "execution_count": null,
   "metadata": {},
   "outputs": [],
   "source": []
  },
  {
   "cell_type": "code",
   "execution_count": null,
   "metadata": {},
   "outputs": [],
   "source": []
  },
  {
   "cell_type": "code",
   "execution_count": null,
   "metadata": {},
   "outputs": [],
   "source": [
    "class Supermarket:\n",
    "    \"\"\"place where the customers interact\"\"\"\n",
    "    pass"
   ]
  },
  {
   "cell_type": "code",
   "execution_count": null,
   "metadata": {},
   "outputs": [],
   "source": []
  },
  {
   "cell_type": "markdown",
   "metadata": {},
   "source": [
    "#### How many customers?"
   ]
  },
  {
   "cell_type": "code",
   "execution_count": 30,
   "metadata": {},
   "outputs": [],
   "source": [
    "class Supermarket:\n",
    "    \"\"\"place where the customers interact\"\"\"\n",
    "    \n",
    "    def __init__(self,numb_customer):\n",
    "        self.numb_customer = numb_customer\n",
    "        self.customers = [] "
   ]
  },
  {
   "cell_type": "code",
   "execution_count": null,
   "metadata": {},
   "outputs": [],
   "source": [
    "s = Supermarket(3)"
   ]
  },
  {
   "cell_type": "code",
   "execution_count": null,
   "metadata": {},
   "outputs": [],
   "source": [
    "s.numb_customer"
   ]
  },
  {
   "cell_type": "code",
   "execution_count": null,
   "metadata": {},
   "outputs": [],
   "source": [
    "s.customers"
   ]
  },
  {
   "cell_type": "markdown",
   "metadata": {},
   "source": [
    "#### Let's add customers"
   ]
  },
  {
   "cell_type": "code",
   "execution_count": 7,
   "metadata": {},
   "outputs": [],
   "source": [
    "# class statement \n",
    "class Customer:  \n",
    "    \"\"\"Customer that moves in a Supermarket\n",
    "    \n",
    "    parameters:\n",
    "    cust_id: int\n",
    "    cur_loc: str\n",
    "    budget: int \n",
    "    \"\"\" \n",
    "    \n",
    "    def __init__(self,cust_id): \n",
    "        self.cust_id = cust_id\n",
    "        self.cur_loc = 'entrance'\n",
    "        self.budget = 100\n",
    "        #print(\"parent's__init__\")\n",
    "    def __repr__(self):\n",
    "        return f\"{self.cust_id}, {self.cur_loc}\" \n",
    "    \n",
    "    def update_budget(self):\n",
    "        self.budget -= 20\n",
    "        if self.budget < 15:\n",
    "            self.cur_loc = 'exit'\n",
    "            return print(f'oh no i am running out of money i will go to {self.cur_loc}')\n",
    "        else:\n",
    "            return print(f' i will prepare risotto and go to Rome with the left {self.budget} euro')\n",
    "    \n",
    "    def change_aisle(self):\n",
    "        self.cur_loc = random.choices(['dairy','fruit_&_vegetable','spices','drink','checkout'])[0]"
   ]
  },
  {
   "cell_type": "code",
   "execution_count": 8,
   "metadata": {},
   "outputs": [],
   "source": [
    "class Supermarket:\n",
    "    \"\"\"place where the customers interact\"\"\"\n",
    "    def __init__(self, numb_customer):\n",
    "        self.numb_customer = numb_customer\n",
    "        self.customers = []\n",
    "\n",
    "    def add_customers(self):\n",
    "        for n in range(1, self.numb_customer + 1):\n",
    "            # composition\n",
    "            self.customers.append(Customer(n))"
   ]
  },
  {
   "cell_type": "code",
   "execution_count": 2,
   "metadata": {},
   "outputs": [],
   "source": [
    "s = Supermarket(4)"
   ]
  },
  {
   "cell_type": "code",
   "execution_count": 9,
   "metadata": {},
   "outputs": [],
   "source": [
    "s.add_customers()"
   ]
  },
  {
   "cell_type": "code",
   "execution_count": 10,
   "metadata": {},
   "outputs": [
    {
     "data": {
      "text/plain": [
       "[1, entrance,\n",
       " 2, entrance,\n",
       " 3, entrance,\n",
       " 4, entrance,\n",
       " 1, entrance,\n",
       " 2, entrance,\n",
       " 3, entrance,\n",
       " 4, entrance]"
      ]
     },
     "execution_count": 10,
     "metadata": {},
     "output_type": "execute_result"
    }
   ],
   "source": [
    "s.customers"
   ]
  },
  {
   "cell_type": "markdown",
   "metadata": {},
   "source": [
    "#### Let's move them around"
   ]
  },
  {
   "cell_type": "code",
   "execution_count": 19,
   "metadata": {},
   "outputs": [],
   "source": [
    "class Supermarket:\n",
    "    \"\"\"place where the customers interact\"\"\"\n",
    "    def __init__(self, numb_customer):\n",
    "        self.numb_customer = numb_customer\n",
    "        self.customers = []\n",
    "\n",
    "    def add_customers(self):\n",
    "        for n in range(self.numb_customer):\n",
    "            # composition\n",
    "            self.customers.append(Customer(n + 1))\n",
    "\n",
    "    def moving_around(self):\n",
    "        for customer in self.customers:\n",
    "            customer.change_aisle()"
   ]
  },
  {
   "cell_type": "code",
   "execution_count": 20,
   "metadata": {},
   "outputs": [
    {
     "data": {
      "text/plain": [
       "[]"
      ]
     },
     "execution_count": 20,
     "metadata": {},
     "output_type": "execute_result"
    }
   ],
   "source": [
    "s=Supermarket(4)\n",
    "s.customers"
   ]
  },
  {
   "cell_type": "code",
   "execution_count": 33,
   "metadata": {},
   "outputs": [],
   "source": [
    "s.add_customers()"
   ]
  },
  {
   "cell_type": "code",
   "execution_count": 34,
   "metadata": {},
   "outputs": [
    {
     "data": {
      "text/plain": [
       "[1, spices,\n",
       " 2, drink,\n",
       " 3, checkout,\n",
       " 4, dairy,\n",
       " 1, drink,\n",
       " 2, spices,\n",
       " 3, drink,\n",
       " 4, fruit_&_vegetable,\n",
       " 1, entrance,\n",
       " 2, entrance,\n",
       " 3, entrance,\n",
       " 4, entrance,\n",
       " 1, entrance,\n",
       " 2, entrance,\n",
       " 3, entrance,\n",
       " 4, entrance,\n",
       " 1, entrance,\n",
       " 2, entrance,\n",
       " 3, entrance,\n",
       " 4, entrance]"
      ]
     },
     "execution_count": 34,
     "metadata": {},
     "output_type": "execute_result"
    }
   ],
   "source": [
    "s.customers"
   ]
  },
  {
   "cell_type": "code",
   "execution_count": 23,
   "metadata": {},
   "outputs": [],
   "source": [
    "s.add_customers()"
   ]
  },
  {
   "cell_type": "code",
   "execution_count": 28,
   "metadata": {},
   "outputs": [
    {
     "data": {
      "text/plain": [
       "[1, spices,\n",
       " 2, drink,\n",
       " 3, checkout,\n",
       " 4, dairy,\n",
       " 1, drink,\n",
       " 2, spices,\n",
       " 3, drink,\n",
       " 4, fruit_&_vegetable]"
      ]
     },
     "execution_count": 28,
     "metadata": {},
     "output_type": "execute_result"
    }
   ],
   "source": [
    "s.moving_around()\n",
    "s.customers"
   ]
  },
  {
   "cell_type": "markdown",
   "metadata": {},
   "source": [
    "#### good read about inheritance and  composition \n",
    "+ https://medium.com/swlh/the-best-way-to-understand-composition-in-python-5-case-studies-and-solution-4b23a6a2cc38\n",
    "\n",
    "+ https://www.infoworld.com/article/3409071/java-challenger-7-debugging-java-inheritance.html"
   ]
  },
  {
   "cell_type": "code",
   "execution_count": null,
   "metadata": {},
   "outputs": [],
   "source": []
  },
  {
   "cell_type": "code",
   "execution_count": null,
   "metadata": {},
   "outputs": [],
   "source": []
  }
 ],
 "metadata": {
  "hide_input": false,
  "kernelspec": {
   "display_name": "Python 3",
   "language": "python",
   "name": "python3"
  },
  "language_info": {
   "codemirror_mode": {
    "name": "ipython",
    "version": 3
   },
   "file_extension": ".py",
   "mimetype": "text/x-python",
   "name": "python",
   "nbconvert_exporter": "python",
   "pygments_lexer": "ipython3",
   "version": "3.8.8"
  },
  "toc": {
   "base_numbering": 1,
   "nav_menu": {},
   "number_sections": true,
   "sideBar": true,
   "skip_h1_title": false,
   "title_cell": "Table of Contents",
   "title_sidebar": "Contents",
   "toc_cell": false,
   "toc_position": {},
   "toc_section_display": true,
   "toc_window_display": false
  }
 },
 "nbformat": 4,
 "nbformat_minor": 4
}
