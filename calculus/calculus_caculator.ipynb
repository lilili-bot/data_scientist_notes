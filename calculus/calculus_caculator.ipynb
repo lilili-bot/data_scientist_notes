{
 "cells": [
  {
   "cell_type": "code",
   "execution_count": 23,
   "id": "presidential-columbia",
   "metadata": {},
   "outputs": [],
   "source": [
    "import math\n",
    "from sympy import *"
   ]
  },
  {
   "cell_type": "markdown",
   "id": "varied-rabbit",
   "metadata": {},
   "source": [
    "Riemann sum\n",
    "$$ A_n=\\sum_{k=1}^{n}f(\\xi_k)\\Delta x_k $$ "
   ]
  },
  {
   "cell_type": "markdown",
   "id": "vanilla-amateur",
   "metadata": {},
   "source": [
    "Rewards Points to calculate arc length\n",
    "\n",
    "$$ \\overparen{ab}=\\int_a^b\\sqrt{1+\\left(f'(x)\\right)^2}\\textrm{d}x $$\n",
    "\n",
    "or if \n",
    "$$ \n",
    "\\begin{cases}\n",
    "    x=x(t)\\\\\n",
    "    y=y(t)\n",
    "\\end{cases}\n",
    " $$\n",
    " \n",
    " so \n",
    "$$ \\int_\\alpha^\\beta\\sqrt{\\left(x'(t)\\right)^2+\\left(y'(t)\\right)^2}\\textrm{d}t $$\n",
    "\n",
    "or if \n",
    "\n",
    "$$ \\rho=\\rho(\\theta) \\quad(\\alpha \\leqslant \\theta \\leqslant \\beta) $$\n",
    "\n",
    "$$ \\left\\{\\begin{array}{l}{x=x(\\theta)=\\rho(\\theta) \\cos \\theta} \\\\ {y=y(\\theta)=\\rho(\\theta) \\sin \\theta}\\end{array}(\\alpha \\leqslant \\theta \\leqslant \\beta)\\right. $$\n",
    "\n",
    "so \n",
    "\n",
    "$$ s=\\int_{\\alpha}^{\\beta} \\sqrt{\\rho^{2}(\\theta)+\\rho^{\\prime 2}(\\theta)} \\mathrm{d} \\theta $$"
   ]
  },
  {
   "cell_type": "code",
   "execution_count": 24,
   "id": "elect-shirt",
   "metadata": {},
   "outputs": [],
   "source": [
    "x ,y= symbols('x,y')"
   ]
  },
  {
   "cell_type": "code",
   "execution_count": null,
   "id": "treated-lindsay",
   "metadata": {},
   "outputs": [],
   "source": []
  },
  {
   "cell_type": "code",
   "execution_count": 26,
   "id": "reported-assault",
   "metadata": {},
   "outputs": [],
   "source": [
    "def f(x):\n",
    "    y1 = x**2 - 6*x\n",
    "    return y1\n",
    "y1=f(x)"
   ]
  },
  {
   "cell_type": "markdown",
   "id": "running-player",
   "metadata": {},
   "source": [
    "\n",
    "$$\\int_a^b \\left|f(x)- g(x)\\right| *dx$$"
   ]
  },
  {
   "cell_type": "code",
   "execution_count": 27,
   "id": "continental-peeing",
   "metadata": {},
   "outputs": [],
   "source": [
    "def g(x):\n",
    "    g = x+4\n",
    "    return g\n",
    "g = g(x)"
   ]
  },
  {
   "cell_type": "code",
   "execution_count": 28,
   "id": "dominant-usage",
   "metadata": {},
   "outputs": [
    {
     "data": {
      "text/plain": [
       "[(-2, 2), (4, 8)]"
      ]
     },
     "execution_count": 28,
     "metadata": {},
     "output_type": "execute_result"
    }
   ],
   "source": [
    "'''solve x, y，using them as lim_min, lim_max'''\n",
    "func = [x**2/2-y,x+4-y]\n",
    "solve(func, [x,y])"
   ]
  },
  {
   "cell_type": "code",
   "execution_count": 29,
   "id": "sustained-stage",
   "metadata": {},
   "outputs": [],
   "source": [
    "def cal_area(func, x, lim_min, lim_max):\n",
    "    return integrate(func,(x,lim_min,lim_max))"
   ]
  },
  {
   "cell_type": "code",
   "execution_count": 30,
   "id": "opened-brooks",
   "metadata": {},
   "outputs": [
    {
     "data": {
      "text/latex": [
       "$\\displaystyle -18$"
      ],
      "text/plain": [
       "-18"
      ]
     },
     "execution_count": 30,
     "metadata": {},
     "output_type": "execute_result"
    }
   ],
   "source": [
    "cal_area(y1,x,0,3)"
   ]
  },
  {
   "cell_type": "code",
   "execution_count": 31,
   "id": "variable-monaco",
   "metadata": {},
   "outputs": [
    {
     "data": {
      "text/latex": [
       "$\\displaystyle -2 + 2 \\sqrt{2}$"
      ],
      "text/plain": [
       "-2 + 2*sqrt(2)"
      ]
     },
     "execution_count": 31,
     "metadata": {},
     "output_type": "execute_result"
    }
   ],
   "source": [
    "func = abs(sin(x)-cos(x))\n",
    "lim_min = 0\n",
    "lim_max = pi/2\n",
    "cal_area(func, x, lim_min, lim_max)"
   ]
  },
  {
   "cell_type": "markdown",
   "id": "solved-vienna",
   "metadata": {},
   "source": []
  },
  {
   "cell_type": "code",
   "execution_count": null,
   "id": "tired-doctrine",
   "metadata": {},
   "outputs": [],
   "source": []
  },
  {
   "cell_type": "code",
   "execution_count": 10,
   "id": "dress-corrections",
   "metadata": {},
   "outputs": [],
   "source": []
  },
  {
   "cell_type": "code",
   "execution_count": null,
   "id": "active-center",
   "metadata": {},
   "outputs": [],
   "source": []
  },
  {
   "cell_type": "code",
   "execution_count": null,
   "id": "incorporated-combat",
   "metadata": {},
   "outputs": [],
   "source": []
  },
  {
   "cell_type": "code",
   "execution_count": null,
   "id": "japanese-captain",
   "metadata": {},
   "outputs": [],
   "source": []
  }
 ],
 "metadata": {
  "kernelspec": {
   "display_name": "Python 3",
   "language": "python",
   "name": "python3"
  },
  "language_info": {
   "codemirror_mode": {
    "name": "ipython",
    "version": 3
   },
   "file_extension": ".py",
   "mimetype": "text/x-python",
   "name": "python",
   "nbconvert_exporter": "python",
   "pygments_lexer": "ipython3",
   "version": "3.8.2"
  }
 },
 "nbformat": 4,
 "nbformat_minor": 5
}
