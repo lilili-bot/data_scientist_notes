{
 "cells": [
  {
   "cell_type": "markdown",
   "metadata": {},
   "source": [
    "---"
   ]
  },
  {
   "cell_type": "markdown",
   "metadata": {},
   "source": [
    "# Descriptive Statistics-Anything you can discover with a pandas one-liner ;)"
   ]
  },
  {
   "cell_type": "markdown",
   "metadata": {},
   "source": [
    "### Learning objectives:\n",
    "* The Two forms of statistics\n",
    "* Populations vs Samples\n",
    "* Variable Types\n",
    "* Univariate vs multivariate analysis\n",
    "* Measures of Location and Dispersion"
   ]
  },
  {
   "cell_type": "markdown",
   "metadata": {},
   "source": [
    "### Python packages to be used\n",
    "* Pandas\n",
    "* Numpy\n",
    "* Scipy\n",
    "* Matplotlib"
   ]
  },
  {
   "cell_type": "markdown",
   "metadata": {},
   "source": [
    "---"
   ]
  },
  {
   "cell_type": "markdown",
   "metadata": {},
   "source": [
    "# Two forms of Statistics\n",
    "\n",
    "Statistics is a set of methods and measures that deal with collecting, cleaning and analyzing a dataset and making quantitative statements about the population. These statements can form two kinds:\n",
    "\n",
    "* **Descriptive statistics** - aims to describe a given data set visually and through metrics. There is no uncertainty in descriptive statistics! It is a crucial step in every exploratory analysis as we get a better feeling for the data, its characteristics and relationships.\n",
    "\n",
    "* **Inferential statistics** - aims to infer values for attributes of a population by observing a subsample of that population. There is no certainty in inferential statistics! \n"
   ]
  },
  {
   "cell_type": "markdown",
   "metadata": {},
   "source": [
    "![](descriptive_stats.png)"
   ]
  },
  {
   "cell_type": "markdown",
   "metadata": {},
   "source": [
    "---"
   ]
  },
  {
   "cell_type": "markdown",
   "metadata": {},
   "source": [
    "# Population vs Samples"
   ]
  },
  {
   "cell_type": "markdown",
   "metadata": {},
   "source": [
    "## Population\n",
    "\n",
    "A population is a group of \"all individuals, objects, or measurements whose properties are being studied\" - https://openstax.org/books/introductory-statistics/pages/1-key-terms\n",
    "\n",
    "* Parameters describe a population\n",
    "\n",
    "## Sample\n",
    "\n",
    "A sample is a subset of the population. Preferrably it is a representative random subset.\n",
    "\n",
    "* statistics describe a sample, which estimate the population values\n",
    "\n",
    "#### The concepts for parameters and statistics are basically the same but sometimes the math differs a bit. In this lecture we'll consider population statistics\n"
   ]
  },
  {
   "cell_type": "markdown",
   "metadata": {},
   "source": [
    "---"
   ]
  },
  {
   "cell_type": "markdown",
   "metadata": {},
   "source": [
    "## Exercise\n",
    "### Do the following statements describe populations or samples?\n",
    "* **We worked out the average CPU clock speed of all SPICED students**  - population \n",
    "* **We worked out the average CPU clock speed of SPICED students by looknig at the Jalapenalty cohort** - sample\n",
    "* **We worked out the favourite film of German students** - population \n",
    "* **We worked out the favourite film of German students by asking students of the Filminstitut Berlin** - sample"
   ]
  },
  {
   "cell_type": "markdown",
   "metadata": {},
   "source": [
    "---"
   ]
  },
  {
   "cell_type": "markdown",
   "metadata": {},
   "source": [
    "# Variable - COLUMNNS IN YOUR DATAFRAME / SQL TABLE\n",
    "\n",
    "\"A characteristic of interest for each person or object in a population (or sample)\" - https://openstax.org/books/introductory-statistics/pages/1-key-terms\n"
   ]
  },
  {
   "cell_type": "markdown",
   "metadata": {},
   "source": [
    "## Variable types"
   ]
  },
  {
   "cell_type": "markdown",
   "metadata": {},
   "source": [
    "![](variables.png)"
   ]
  },
  {
   "cell_type": "markdown",
   "metadata": {},
   "source": [
    "---"
   ]
  },
  {
   "cell_type": "markdown",
   "metadata": {},
   "source": [
    "### Discrete vs. Continuous Variables\n",
    "\n",
    "#### Discrete Variables\n",
    "\n",
    "The values of a discrete variable are countable. They can be finite or infinite."
   ]
  },
  {
   "cell_type": "markdown",
   "metadata": {},
   "source": [
    "**For example: ???**"
   ]
  },
  {
   "cell_type": "markdown",
   "metadata": {},
   "source": [
    "* Countries \n",
    "* Age in years / Age in seconds\n",
    "* Years\n",
    "* School grades "
   ]
  },
  {
   "cell_type": "markdown",
   "metadata": {},
   "source": [
    "#### Continuous Variables\n",
    "\n",
    "* The values of a continuous variable are uncountable.\n",
    "* These depend on how precise you want your measurement to be, there is no 'temperature' cf heisenberg\n",
    "* Continuous becomes discrete when you specify a unit of measurement"
   ]
  },
  {
   "cell_type": "markdown",
   "metadata": {},
   "source": [
    "**For example: ???**"
   ]
  },
  {
   "cell_type": "markdown",
   "metadata": {},
   "source": [
    "* height\n",
    "* weight\n",
    "* time\n",
    "* distance\n",
    "* energy\n",
    "* price of real estate"
   ]
  },
  {
   "cell_type": "markdown",
   "metadata": {},
   "source": [
    "---"
   ]
  },
  {
   "cell_type": "markdown",
   "metadata": {},
   "source": [
    "### Categorical, Ordinal and Metric Variables\n",
    "\n",
    "#### Categorical Variables - LABELS\n",
    "\n",
    "The values of categorical variables (also called nominal variables) do not have a natural ordering.\n"
   ]
  },
  {
   "cell_type": "markdown",
   "metadata": {},
   "source": [
    "**For example: ???**"
   ]
  },
  {
   "cell_type": "markdown",
   "metadata": {},
   "source": [
    "* Sex\n",
    "* Location \n",
    "* Colours \n",
    "* Species"
   ]
  },
  {
   "cell_type": "markdown",
   "metadata": {},
   "source": [
    "#### Ordinal Variables - RANKING\n",
    "\n",
    "The values of ordinal variables have a natural ordering. However, the difference between the values is not measurable.\n"
   ]
  },
  {
   "cell_type": "markdown",
   "metadata": {},
   "source": [
    "**For example: ???**"
   ]
  },
  {
   "cell_type": "markdown",
   "metadata": {},
   "source": [
    "* Questionnaire answer - ratings of 1-5 \n",
    "* Young / Middle Aged / Senior citizen\n",
    "* Months of the year - days of the week\n",
    "* Aesthetic score - 10/10 is not necessariliy beautiful\n",
    "* Grades "
   ]
  },
  {
   "cell_type": "markdown",
   "metadata": {},
   "source": [
    "#### Metric Variables - MEASUREMENTS\n",
    "\n",
    "The values of metric variables have a natural ordering and the distance between two values is measurable.\n",
    "The unit of measurement is assumed to be constant throughout the range"
   ]
  },
  {
   "cell_type": "markdown",
   "metadata": {},
   "source": [
    "**For example: ???**"
   ]
  },
  {
   "cell_type": "markdown",
   "metadata": {},
   "source": [
    "* Metres\n",
    "* Kg\n",
    "* Lightyears"
   ]
  },
  {
   "cell_type": "markdown",
   "metadata": {},
   "source": [
    "---"
   ]
  },
  {
   "cell_type": "markdown",
   "metadata": {},
   "source": [
    "### BONUS SECTION\n",
    "\n",
    "#### Random Variable\n",
    "\n",
    "Each of the above variables can be produced by a deterministic process (e.g. 1+1 = discrete variable), or by a random process (the height of the first shopper through a shop door on Black Friday Sales). A variable whose value is determined by a random process is called a **random variable**. Python has many random number generators, e.g in `numpy.random`, which sample from different sorts of populations - check out the distribution section [here](https://numpy.org/doc/1.16/reference/routines.random.html)"
   ]
  },
  {
   "cell_type": "code",
   "execution_count": 23,
   "metadata": {},
   "outputs": [
    {
     "data": {
      "text/plain": [
       "(array([2., 0., 1., 0., 2., 0., 1., 1., 2., 1.]),\n",
       " array([0.18764893, 0.25951607, 0.33138321, 0.40325035, 0.47511749,\n",
       "        0.54698464, 0.61885178, 0.69071892, 0.76258606, 0.8344532 ,\n",
       "        0.90632034]),\n",
       " <BarContainer object of 10 artists>)"
      ]
     },
     "execution_count": 23,
     "metadata": {},
     "output_type": "execute_result"
    },
    {
     "data": {
      "image/png": "[encoded data removed]",
      "text/plain": [
       "<Figure size 432x288 with 1 Axes>"
      ]
     },
     "metadata": {
      "needs_background": "light"
     },
     "output_type": "display_data"
    }
   ],
   "source": [
    "import numpy as np\n",
    "import matplotlib.pyplot as plt\n",
    "\n",
    "plt.hist([np.random.random() for x in range(10)])"
   ]
  },
  {
   "cell_type": "markdown",
   "metadata": {},
   "source": [
    "## Exercise \n",
    "* Try and increase / decrease the number of data points sampled. What happens to the chart?\n",
    "* Try and rewrite this code to sample from a Gaussian (normal) distribution instead? **Hint** numpy.random has lots of different variable types in it.\n",
    "* Change the number of data points and see what happens to the chart.\n",
    "* What does this make you think about?"
   ]
  },
  {
   "cell_type": "markdown",
   "metadata": {},
   "source": [
    "---"
   ]
  },
  {
   "cell_type": "markdown",
   "metadata": {},
   "source": [
    "### Let's try this out on the penguins dataset"
   ]
  },
  {
   "cell_type": "markdown",
   "metadata": {},
   "source": [
    "### First import the necessary libraries"
   ]
  },
  {
   "cell_type": "code",
   "execution_count": 6,
   "metadata": {},
   "outputs": [],
   "source": [
    "import pandas as pd\n",
    "from scipy import stats\n",
    "import numpy as np"
   ]
  },
  {
   "cell_type": "markdown",
   "metadata": {},
   "source": [
    "### Next import the data"
   ]
  },
  {
   "cell_type": "code",
   "execution_count": 4,
   "metadata": {},
   "outputs": [],
   "source": [
    "df = pd.read_csv('/Users/tom_g/Code/Data/penguins/penguins_simple.csv', sep=';')"
   ]
  },
  {
   "cell_type": "markdown",
   "metadata": {},
   "source": [
    "---"
   ]
  },
  {
   "cell_type": "markdown",
   "metadata": {},
   "source": [
    "## Exercise\n",
    "## For each feature (column) in the dataset:\n",
    "* Work out the variable type\n",
    "* Work out the level of measurement (if appropriate)"
   ]
  },
  {
   "cell_type": "code",
   "execution_count": 9,
   "metadata": {},
   "outputs": [
    {
     "name": "stdout",
     "output_type": "stream",
     "text": [
      "<class 'pandas.core.frame.DataFrame'>\n",
      "RangeIndex: 333 entries, 0 to 332\n",
      "Data columns (total 6 columns):\n",
      " #   Column               Non-Null Count  Dtype  \n",
      "---  ------               --------------  -----  \n",
      " 0   Species              333 non-null    object \n",
      " 1   Culmen Length (mm)   333 non-null    float64\n",
      " 2   Culmen Depth (mm)    333 non-null    float64\n",
      " 3   Flipper Length (mm)  333 non-null    float64\n",
      " 4   Body Mass (g)        333 non-null    float64\n",
      " 5   Sex                  333 non-null    object \n",
      "dtypes: float64(4), object(2)\n",
      "memory usage: 15.7+ KB\n"
     ]
    }
   ],
   "source": [
    "df.info()"
   ]
  },
  {
   "cell_type": "code",
   "execution_count": 8,
   "metadata": {},
   "outputs": [
    {
     "data": {
      "text/plain": [
       "Index(['Species', 'Culmen Length (mm)', 'Culmen Depth (mm)',\n",
       "       'Flipper Length (mm)', 'Body Mass (g)', 'Sex'],\n",
       "      dtype='object')"
      ]
     },
     "execution_count": 8,
     "metadata": {},
     "output_type": "execute_result"
    }
   ],
   "source": [
    "df.columns"
   ]
  },
  {
   "cell_type": "code",
   "execution_count": 7,
   "metadata": {},
   "outputs": [
    {
     "data": {
      "text/html": [
       "<div>\n",
       "<style scoped>\n",
       "    .dataframe tbody tr th:only-of-type {\n",
       "        vertical-align: middle;\n",
       "    }\n",
       "\n",
       "    .dataframe tbody tr th {\n",
       "        vertical-align: top;\n",
       "    }\n",
       "\n",
       "    .dataframe thead th {\n",
       "        text-align: right;\n",
       "    }\n",
       "</style>\n",
       "<table border=\"1\" class=\"dataframe\">\n",
       "  <thead>\n",
       "    <tr style=\"text-align: right;\">\n",
       "      <th></th>\n",
       "      <th>Species</th>\n",
       "      <th>Culmen Length (mm)</th>\n",
       "      <th>Culmen Depth (mm)</th>\n",
       "      <th>Flipper Length (mm)</th>\n",
       "      <th>Body Mass (g)</th>\n",
       "      <th>Sex</th>\n",
       "    </tr>\n",
       "  </thead>\n",
       "  <tbody>\n",
       "    <tr>\n",
       "      <th>0</th>\n",
       "      <td>Adelie</td>\n",
       "      <td>39.1</td>\n",
       "      <td>18.7</td>\n",
       "      <td>181.0</td>\n",
       "      <td>3750.0</td>\n",
       "      <td>MALE</td>\n",
       "    </tr>\n",
       "    <tr>\n",
       "      <th>1</th>\n",
       "      <td>Adelie</td>\n",
       "      <td>39.5</td>\n",
       "      <td>17.4</td>\n",
       "      <td>186.0</td>\n",
       "      <td>3800.0</td>\n",
       "      <td>FEMALE</td>\n",
       "    </tr>\n",
       "    <tr>\n",
       "      <th>2</th>\n",
       "      <td>Adelie</td>\n",
       "      <td>40.3</td>\n",
       "      <td>18.0</td>\n",
       "      <td>195.0</td>\n",
       "      <td>3250.0</td>\n",
       "      <td>FEMALE</td>\n",
       "    </tr>\n",
       "    <tr>\n",
       "      <th>3</th>\n",
       "      <td>Adelie</td>\n",
       "      <td>36.7</td>\n",
       "      <td>19.3</td>\n",
       "      <td>193.0</td>\n",
       "      <td>3450.0</td>\n",
       "      <td>FEMALE</td>\n",
       "    </tr>\n",
       "    <tr>\n",
       "      <th>4</th>\n",
       "      <td>Adelie</td>\n",
       "      <td>39.3</td>\n",
       "      <td>20.6</td>\n",
       "      <td>190.0</td>\n",
       "      <td>3650.0</td>\n",
       "      <td>MALE</td>\n",
       "    </tr>\n",
       "    <tr>\n",
       "      <th>...</th>\n",
       "      <td>...</td>\n",
       "      <td>...</td>\n",
       "      <td>...</td>\n",
       "      <td>...</td>\n",
       "      <td>...</td>\n",
       "      <td>...</td>\n",
       "    </tr>\n",
       "    <tr>\n",
       "      <th>328</th>\n",
       "      <td>Gentoo</td>\n",
       "      <td>47.2</td>\n",
       "      <td>13.7</td>\n",
       "      <td>214.0</td>\n",
       "      <td>4925.0</td>\n",
       "      <td>FEMALE</td>\n",
       "    </tr>\n",
       "    <tr>\n",
       "      <th>329</th>\n",
       "      <td>Gentoo</td>\n",
       "      <td>46.8</td>\n",
       "      <td>14.3</td>\n",
       "      <td>215.0</td>\n",
       "      <td>4850.0</td>\n",
       "      <td>FEMALE</td>\n",
       "    </tr>\n",
       "    <tr>\n",
       "      <th>330</th>\n",
       "      <td>Gentoo</td>\n",
       "      <td>50.4</td>\n",
       "      <td>15.7</td>\n",
       "      <td>222.0</td>\n",
       "      <td>5750.0</td>\n",
       "      <td>MALE</td>\n",
       "    </tr>\n",
       "    <tr>\n",
       "      <th>331</th>\n",
       "      <td>Gentoo</td>\n",
       "      <td>45.2</td>\n",
       "      <td>14.8</td>\n",
       "      <td>212.0</td>\n",
       "      <td>5200.0</td>\n",
       "      <td>FEMALE</td>\n",
       "    </tr>\n",
       "    <tr>\n",
       "      <th>332</th>\n",
       "      <td>Gentoo</td>\n",
       "      <td>49.9</td>\n",
       "      <td>16.1</td>\n",
       "      <td>213.0</td>\n",
       "      <td>5400.0</td>\n",
       "      <td>MALE</td>\n",
       "    </tr>\n",
       "  </tbody>\n",
       "</table>\n",
       "<p>333 rows × 6 columns</p>\n",
       "</div>"
      ],
      "text/plain": [
       "    Species  Culmen Length (mm)  Culmen Depth (mm)  Flipper Length (mm)  \\\n",
       "0    Adelie                39.1               18.7                181.0   \n",
       "1    Adelie                39.5               17.4                186.0   \n",
       "2    Adelie                40.3               18.0                195.0   \n",
       "3    Adelie                36.7               19.3                193.0   \n",
       "4    Adelie                39.3               20.6                190.0   \n",
       "..      ...                 ...                ...                  ...   \n",
       "328  Gentoo                47.2               13.7                214.0   \n",
       "329  Gentoo                46.8               14.3                215.0   \n",
       "330  Gentoo                50.4               15.7                222.0   \n",
       "331  Gentoo                45.2               14.8                212.0   \n",
       "332  Gentoo                49.9               16.1                213.0   \n",
       "\n",
       "     Body Mass (g)     Sex  \n",
       "0           3750.0    MALE  \n",
       "1           3800.0  FEMALE  \n",
       "2           3250.0  FEMALE  \n",
       "3           3450.0  FEMALE  \n",
       "4           3650.0    MALE  \n",
       "..             ...     ...  \n",
       "328         4925.0  FEMALE  \n",
       "329         4850.0  FEMALE  \n",
       "330         5750.0    MALE  \n",
       "331         5200.0  FEMALE  \n",
       "332         5400.0    MALE  \n",
       "\n",
       "[333 rows x 6 columns]"
      ]
     },
     "execution_count": 7,
     "metadata": {},
     "output_type": "execute_result"
    }
   ],
   "source": [
    "df"
   ]
  },
  {
   "cell_type": "markdown",
   "metadata": {},
   "source": [
    "* **Everythning except Species and Sex - continuous**\n",
    "* **Species & Sex - Categorical**"
   ]
  },
  {
   "cell_type": "markdown",
   "metadata": {},
   "source": [
    "---"
   ]
  },
  {
   "cell_type": "markdown",
   "metadata": {},
   "source": [
    " ## Univariate vs multivariate analysis\n",
    "\n",
    "* Univariate analysis concerns the relationship of **one variable with itself**\n",
    "\n",
    "* Multivariate analysis concerns the relationship of **one variable with one (or more) others**"
   ]
  },
  {
   "cell_type": "markdown",
   "metadata": {},
   "source": [
    "---"
   ]
  },
  {
   "cell_type": "markdown",
   "metadata": {},
   "source": [
    "## Univariate analysis"
   ]
  },
  {
   "cell_type": "markdown",
   "metadata": {},
   "source": [
    "* We are looking at probability distrubtions on populations, which we estimate by sampling\n",
    "* We estimate the population by measuring **centrality/location**, as well as **dispersion/variation**"
   ]
  },
  {
   "cell_type": "markdown",
   "metadata": {},
   "source": [
    "---"
   ]
  },
  {
   "cell_type": "markdown",
   "metadata": {},
   "source": [
    "## Measures of Central Tendency/Location\n",
    "\n",
    "Measures of central tendency are concerned with the question what a typical value of the variable is.\n",
    "\n",
    "#### Mean\n",
    "\n",
    "- Arithmetic mean: \n",
    "$\\frac{\\sum_{i=1}^n x_i}{n}$\n",
    "\n",
    "--- \n",
    "### BONUS SECTION\n",
    "\n",
    "- Weighted arithmetic mean\n",
    "$\\frac{w_1*x_1 + w_2*x_2 + ... + w_n*x_n}{n}$\n",
    "\n",
    "\n",
    "- Geometric mean\n",
    "$\\sqrt[n]{\\prod_{i=1}^n x_i}$\n",
    "\n",
    "\n",
    "- Harmonic Mean\n",
    "$\\frac{n}{\\sum_{i=1}^n \\frac{1}{x_i}}$\n",
    "\n",
    "---\n"
   ]
  },
  {
   "cell_type": "markdown",
   "metadata": {},
   "source": [
    "**Question: Why do we concern ourselves with different concepts of the mean?**"
   ]
  },
  {
   "cell_type": "markdown",
   "metadata": {},
   "source": [
    "* When we're dealing with values that you multiply together, e.g. compound rate of change - sales, capital growth rates, stocks - GEOMETRIC\n",
    "* When we're dealing with ratios, - HARMONIC - (cf next week's F1 Score)\n",
    "* Arithmetic mean == weighted arithmetic mean where all weights are 1"
   ]
  },
  {
   "cell_type": "markdown",
   "metadata": {},
   "source": [
    "---"
   ]
  },
  {
   "cell_type": "markdown",
   "metadata": {},
   "source": [
    "## Exercise\n",
    "## Pick a column in the penguins dataset\n",
    "* Work out the arithmetic mean yourself\n",
    "* Try and find a prewritten function which does it for us"
   ]
  },
  {
   "cell_type": "code",
   "execution_count": 12,
   "metadata": {},
   "outputs": [
    {
     "data": {
      "text/plain": [
       "0      39.1\n",
       "1      39.5\n",
       "2      40.3\n",
       "3      36.7\n",
       "4      39.3\n",
       "       ... \n",
       "328    47.2\n",
       "329    46.8\n",
       "330    50.4\n",
       "331    45.2\n",
       "332    49.9\n",
       "Name: Culmen Length (mm), Length: 333, dtype: float64"
      ]
     },
     "execution_count": 12,
     "metadata": {},
     "output_type": "execute_result"
    }
   ],
   "source": [
    "# i need to calculate the mean of this column\n",
    "df['Culmen Length (mm)']\n",
    "\n",
    "# i know mean is the sum of every number divided by the number of data points (length of the column)\n",
    "# therefore i do....."
   ]
  },
  {
   "cell_type": "code",
   "execution_count": 26,
   "metadata": {},
   "outputs": [
    {
     "data": {
      "text/plain": [
       "4207.057057057057"
      ]
     },
     "execution_count": 26,
     "metadata": {},
     "output_type": "execute_result"
    }
   ],
   "source": [
    "sum(df['Culmen Length (mm)'])/len(df['Culmen Length (mm)'])\n",
    "df['Body Mass (g)'].mean()"
   ]
  },
  {
   "cell_type": "code",
   "execution_count": 13,
   "metadata": {},
   "outputs": [
    {
     "data": {
      "text/plain": [
       "Index(['Species', 'Culmen Length (mm)', 'Culmen Depth (mm)',\n",
       "       'Flipper Length (mm)', 'Body Mass (g)', 'Sex'],\n",
       "      dtype='object')"
      ]
     },
     "execution_count": 13,
     "metadata": {},
     "output_type": "execute_result"
    }
   ],
   "source": [
    "df.columns"
   ]
  },
  {
   "cell_type": "markdown",
   "metadata": {},
   "source": [
    "---"
   ]
  },
  {
   "cell_type": "markdown",
   "metadata": {},
   "source": [
    "\n",
    "#### Median\n",
    "\n",
    "The value that divides the sample into two groups of equal size. The probability of observing a value larger than the median and the probability of observing a value smaller than the median in the sample are 50% each.\n",
    "\n",
    "* Less prone to outliers than mean because it doesn't care about outliers, just finds the middle value\n",
    "* Median != mean, then Ive got some weird outliers\n",
    "* Median < Mean - outliers with large values\n",
    "* Median > Mean - outliers with small values\n",
    "* IF THE COUNT OF YOUR VARIABLE IS ODD, the median is the value at index len(column)//2 - value in the middle!!\n",
    "* in python, single / provides a float division, a double rounds down to an integer\n",
    "* IF THE COUNT OF YOUR VARIABLE IS EVEN, you need ot find the average of the two middle values - len(column)//2, len(column)//2+1"
   ]
  },
  {
   "cell_type": "code",
   "execution_count": 28,
   "metadata": {},
   "outputs": [
    {
     "data": {
      "text/plain": [
       "5"
      ]
     },
     "execution_count": 28,
     "metadata": {},
     "output_type": "execute_result"
    }
   ],
   "source": [
    "x = list(range(11))\n",
    "med_odd = x[len(x)//2]\n",
    "med_odd"
   ]
  },
  {
   "cell_type": "code",
   "execution_count": 40,
   "metadata": {},
   "outputs": [
    {
     "data": {
      "text/plain": [
       "4.5"
      ]
     },
     "execution_count": 40,
     "metadata": {},
     "output_type": "execute_result"
    }
   ],
   "source": [
    "# challenge - work out the median for an array with even length\n",
    "x = list(range(10))\n",
    "med_even = (x[int(len(x)/2-1)] + x[int(len(x)/2)]) / 2\n",
    "med_even"
   ]
  },
  {
   "cell_type": "markdown",
   "metadata": {},
   "source": [
    "#### Mode\n",
    "\n",
    "The Mode of a variable is the value that occurs most often in the dataset.\n"
   ]
  },
  {
   "cell_type": "markdown",
   "metadata": {},
   "source": [
    "**Question: Why do we concern ourselves with different concepts of centrality?**"
   ]
  },
  {
   "cell_type": "markdown",
   "metadata": {},
   "source": [
    "---"
   ]
  },
  {
   "cell_type": "markdown",
   "metadata": {},
   "source": [
    "## Measures of Dispersion (or Variability)\n",
    "\n",
    "Measures of dispersion are concerned with the question how far the values of the variable diverge from the measures of central tendency.\n",
    "\n",
    "#### Variance\n",
    "\n",
    "$\\frac{\\sum_{i=1}^n (x_i - \\overline{x})^2}{n}$\n",
    "\n",
    "#### Standard Deviation\n",
    "\n",
    "$\\sqrt{Variance}$\n"
   ]
  },
  {
   "cell_type": "markdown",
   "metadata": {},
   "source": [
    "**Question: Why do we concern ourselves with different concepts of dispersion?**"
   ]
  },
  {
   "cell_type": "markdown",
   "metadata": {},
   "source": [
    "* variance is squared because otherwise negative distances cancel out the positive distances\n",
    "* variance is therefore no longer in the unit of measurement of the variable\n",
    "* thats why we calcualte the square root, so its in the original unit of measurement of the variable"
   ]
  },
  {
   "cell_type": "markdown",
   "metadata": {},
   "source": [
    "---"
   ]
  },
  {
   "cell_type": "markdown",
   "metadata": {},
   "source": [
    "\n",
    "#### Quantile\n",
    "\n",
    "A generalization of the concept of the median. The qth-Quantile of the variable are those values that divide the sample into q groups of equal size. One commonly used Quantile is the 4-Quantile or Quartile, which divides the sample into 4 groups of equal size.\n",
    "\n",
    "* Two common ways of looking at quantiles in python are q-q plots and boxplots"
   ]
  },
  {
   "cell_type": "code",
   "execution_count": 25,
   "metadata": {},
   "outputs": [
    {
     "data": {
      "text/plain": [
       "<AxesSubplot:>"
      ]
     },
     "execution_count": 25,
     "metadata": {},
     "output_type": "execute_result"
    },
    {
     "data": {
      "image/png": "[encoded data removed]",
      "text/plain": [
       "<Figure size 432x288 with 1 Axes>"
      ]
     },
     "metadata": {
      "needs_background": "light"
     },
     "output_type": "display_data"
    }
   ],
   "source": [
    "df.boxplot('Body Mass (g)')"
   ]
  },
  {
   "cell_type": "markdown",
   "metadata": {},
   "source": [
    "**Question: What other quantiles might be good to use?**"
   ]
  },
  {
   "cell_type": "markdown",
   "metadata": {},
   "source": [
    "\n",
    "#### Range\n",
    "\n",
    "$Maximum - Minimum$\n",
    "\n",
    "#### Inter-Quartil-Range (IQR)\n",
    "\n",
    "$Q_{0.75} - Q_{0.25}$\n",
    "\n",
    "#### Boxplot\n",
    "\n",
    "A visual representation of the variability."
   ]
  },
  {
   "cell_type": "markdown",
   "metadata": {},
   "source": [
    "---"
   ]
  },
  {
   "cell_type": "markdown",
   "metadata": {},
   "source": [
    "### Measures of Symmetry and Curvature\n",
    "\n",
    "#### Skewness - is the peak of the distribution in the middle, or to the side?\n",
    "\n",
    "$\\frac{1}{n}*\\frac{\\sum_{i=1}^n (x_i - \\overline{x})^3}{\\sigma^{3}}$\n",
    "\n",
    "* Third moment, normalised by sigma cubed\n",
    "\n",
    "\n",
    "**Shortcut for how to spot skewness**\n",
    "\n",
    "* If mean = median = mode, then no skewness\n",
    "* If mean<median<mode = negative skew (tail is left)\n",
    "* If mean>median>mode = positive skew (tail is right)"
   ]
  },
  {
   "cell_type": "markdown",
   "metadata": {},
   "source": [
    "![](skewness.jpg)"
   ]
  },
  {
   "cell_type": "markdown",
   "metadata": {},
   "source": [
    "source: [fromthegensis](https://www.fromthegenesis.com/skewness/)"
   ]
  },
  {
   "cell_type": "markdown",
   "metadata": {},
   "source": [
    "#### Kurtosis - is the peak taller or shorter than a normal distribution?\n",
    "\n",
    "$\\frac{1}{n}*\\frac{\\sum_{i=1}^n (x_i - \\overline{x})^4}{\\sigma^4}$\n",
    "\n",
    "* Fourth moment, normalised by sigma to the power four\n",
    "* Mesokurtic - kurtosis of 3 - **normal**\n",
    "* Leptokurtic - kurtosis of >3 - **peaked**\n",
    "* platykurtic - kurtosis of <3 - **short**\n",
    "* it ranges from 1 to $\\infty$"
   ]
  },
  {
   "cell_type": "markdown",
   "metadata": {},
   "source": [
    "![](kurtosis.png)"
   ]
  },
  {
   "cell_type": "markdown",
   "metadata": {},
   "source": [
    "source: [fromthegensis](https://www.fromthegenesis.com/skewness/)"
   ]
  },
  {
   "cell_type": "markdown",
   "metadata": {},
   "source": [
    "---"
   ]
  },
  {
   "cell_type": "markdown",
   "metadata": {},
   "source": [
    "# Summary of what we've learnt"
   ]
  },
  {
   "cell_type": "markdown",
   "metadata": {},
   "source": [
    "#### We use different techniques to calculate:\n",
    "* the centrality (mean / mode / median) \n",
    "* and variation (variance, standard deviation, quantiles)of a single variable"
   ]
  },
  {
   "cell_type": "markdown",
   "metadata": {},
   "source": [
    "#### Why do we care about the distribution of the data?\n",
    "* It helps us to understand our univariate data + HELPS US TO EXPLAIN THE DATA to stakeholders\n",
    "* Maybe its not normally distributed - maybe its binomial / uniform\n",
    "* It helps us to predict - it allows to know whether our predictions are reliable or not\n",
    "* It helps us to know which instruments we can apply\n",
    "* Parametric vs non-parametric stats (can we rely on assumptions like normal distributions)\n",
    "\n",
    "#### What can we do if we don't have normal distribution?\n",
    "* Ask yourself if you should expect one\n",
    "* Sample more data \n",
    "* Feature Engineer your current data\n",
    "    * Remove outliers \n",
    "    * apply a functions which rescales your data \n",
    "    * etc etc "
   ]
  },
  {
   "cell_type": "markdown",
   "metadata": {},
   "source": [
    "#### How to learn more about stats on youtube!\n",
    "* 3 Blue 1 Brown\n",
    "* Statsquests\n",
    "* Zedstatistics"
   ]
  },
  {
   "cell_type": "markdown",
   "metadata": {},
   "source": [
    "#### Which packages tend to be useful for stats\n",
    "* Pandas\n",
    "* Numpy\n",
    "* Statsmodels\n",
    "* Scipy"
   ]
  },
  {
   "cell_type": "markdown",
   "metadata": {},
   "source": [
    "---"
   ]
  },
  {
   "cell_type": "markdown",
   "metadata": {},
   "source": [
    "### BONUS SECTION"
   ]
  },
  {
   "cell_type": "markdown",
   "metadata": {},
   "source": [
    "### Empirical distributions - Probability Density/Mass Function\n",
    "\n",
    "The probability density function, for continuous variables, and the probability mass function, for discrete variables provide a relative likelihood that the value of the variable would equal that of any given datapoint.\n",
    "\n",
    "**PMF:**  $\\sum_{i=1}^n P(x)$\n",
    "\n",
    "**PDF:** $P(a≤y≤b) = \\int_{a}^{b} f(x) \\,dx$"
   ]
  },
  {
   "cell_type": "markdown",
   "metadata": {},
   "source": [
    "**Question: Why can't we use the same function to evaluate discrete and continuous distributions?**"
   ]
  },
  {
   "cell_type": "markdown",
   "metadata": {},
   "source": [
    "Closely related is the **cumulative distribution function (cdf)**, which is a function providing the probability that the value of any given datapoint will be less or equal than a certain value."
   ]
  },
  {
   "cell_type": "markdown",
   "metadata": {},
   "source": [
    "---"
   ]
  },
  {
   "cell_type": "markdown",
   "metadata": {},
   "source": [
    "\n",
    "#### Univariate distributions\n",
    "\n",
    "Frequency table: `.value_counts()`\n",
    "\n",
    "Histogram: `.hist()`\n",
    "\n",
    "Cumulaticve Distribution Function \n",
    "\n",
    "#### Multivariate distributions\n",
    "\n",
    "Categorical and Ordinal Variables: `crosstab()`\n",
    "\n",
    "Metric Variables: `corr()`"
   ]
  },
  {
   "cell_type": "markdown",
   "metadata": {},
   "source": [
    "---"
   ]
  },
  {
   "cell_type": "markdown",
   "metadata": {},
   "source": [
    "### Multivariate - NEXT WEEK!\n",
    "* Crosstab\n",
    "* Correlation matrix\n",
    "* Pairplot\n",
    "* Heatmap"
   ]
  },
  {
   "cell_type": "markdown",
   "metadata": {},
   "source": [
    "---"
   ]
  }
 ],
 "metadata": {
  "kernelspec": {
   "display_name": "Python 3",
   "language": "python",
   "name": "python3"
  },
  "language_info": {
   "codemirror_mode": {
    "name": "ipython",
    "version": 3
   },
   "file_extension": ".py",
   "mimetype": "text/x-python",
   "name": "python",
   "nbconvert_exporter": "python",
   "pygments_lexer": "ipython3",
   "version": "3.8.5"
  }
 },
 "nbformat": 4,
 "nbformat_minor": 4
}
