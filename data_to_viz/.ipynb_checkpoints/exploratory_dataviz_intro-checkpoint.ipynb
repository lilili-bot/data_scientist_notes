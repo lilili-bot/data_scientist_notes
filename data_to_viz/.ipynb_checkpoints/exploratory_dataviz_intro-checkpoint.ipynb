{
 "cells": [
  {
   "cell_type": "markdown",
   "metadata": {},
   "source": [
    "# Plotting with Python I\n",
    "## for exploratory Data Visualization"
   ]
  },
  {
   "cell_type": "markdown",
   "metadata": {},
   "source": [
    "## Take home messages\n",
    "1. Know that effective **Data Visualization skills** are an important add on in the Data Scientist skill set\n",
    "2. Learn and internallize **good habits** of **exploratory Data Visualization**\n",
    "3. **Learn the basics** and know the advantages & disadvantages of the **most popular Python plotting libraries**"
   ]
  },
  {
   "cell_type": "code",
   "execution_count": 2,
   "metadata": {},
   "outputs": [],
   "source": [
    "from IPython.display import Image"
   ]
  },
  {
   "cell_type": "markdown",
   "metadata": {},
   "source": [
    "## What is Data Visualization?"
   ]
  },
  {
   "cell_type": "markdown",
   "metadata": {},
   "source": [
    "**Data Visualization** refers to the techniques used to **encode numbers** to **visual objects** to communicate data."
   ]
  },
  {
   "cell_type": "markdown",
   "metadata": {},
   "source": [
    "## Anscombe Quartet\n",
    "### Datasets & stats"
   ]
  },
  {
   "cell_type": "code",
   "execution_count": 3,
   "metadata": {},
   "outputs": [
    {
     "data": {
      "text/html": [
       "<img src=\"https://miro.medium.com/max/1166/1*JyDU5qgFA-S2XOFBah9YcQ.png\" width=\"600\"/>"
      ],
      "text/plain": [
       "<IPython.core.display.Image object>"
      ]
     },
     "execution_count": 3,
     "metadata": {},
     "output_type": "execute_result"
    }
   ],
   "source": [
    "Image(url= \"https://miro.medium.com/max/1166/1*JyDU5qgFA-S2XOFBah9YcQ.png\", width = 600)"
   ]
  },
  {
   "cell_type": "markdown",
   "metadata": {},
   "source": [
    "### Scatterplots"
   ]
  },
  {
   "cell_type": "code",
   "execution_count": 4,
   "metadata": {},
   "outputs": [
    {
     "data": {
      "text/html": [
       "<img src=\"https://miro.medium.com/max/1400/1*lZAlx4qLO4cHc5MERinBiw.png\" width=\"600\"/>"
      ],
      "text/plain": [
       "<IPython.core.display.Image object>"
      ]
     },
     "execution_count": 4,
     "metadata": {},
     "output_type": "execute_result"
    }
   ],
   "source": [
    "Image(url= \"https://miro.medium.com/max/1400/1*lZAlx4qLO4cHc5MERinBiw.png\", width = 600)"
   ]
  },
  {
   "cell_type": "markdown",
   "metadata": {},
   "source": [
    "***"
   ]
  },
  {
   "cell_type": "markdown",
   "metadata": {},
   "source": [
    "## Exploratory Data Visualization\n",
    "Used to understand data by finding visual patterns"
   ]
  },
  {
   "cell_type": "markdown",
   "metadata": {},
   "source": [
    "#### Chart types\n",
    "- [From Data to Viz](https://www.data-to-viz.com/): Gallery of many possibilities of graphs to use: _from Data to Viz leads you to the most appropriate graph for your data. It links to the code to build it and lists common caveats you should avoid._\n",
    "\n",
    "    - If the chart you're using is not helping: re-think the DATA RELATIONSHIP you're trying to understand:\n",
    "        - Distribution\n",
    "        - Correlation\n",
    "        - Differences in magnitude\n",
    "        - Proportion\n",
    "        - Deviation\n",
    "\n",
    "- [Python Graph Gallery](https://python-graph-gallery.com/): _This website displays hundreds of charts, always providing the **reproducible python code**_."
   ]
  },
  {
   "cell_type": "markdown",
   "metadata": {},
   "source": [
    "#### Good exploratory visualization habits"
   ]
  },
  {
   "cell_type": "markdown",
   "metadata": {},
   "source": [
    "- Think about data and **chart type** you need to visualize the **data relationships** to answer your questions\n",
    "- **Visualize data quality** e.g. missing values (Lesson: Data Wrangling)\n",
    "- **Take a look at your variables** e.g. distribution shape, correlation (Lesson: Descriptive statistics)"
   ]
  },
  {
   "cell_type": "markdown",
   "metadata": {},
   "source": [
    "### Explanatory Data Visualization --> (tomorrow Plotting II)"
   ]
  },
  {
   "cell_type": "markdown",
   "metadata": {},
   "source": [
    "***"
   ]
  },
  {
   "cell_type": "markdown",
   "metadata": {},
   "source": [
    "## Plotting with Pyhton"
   ]
  },
  {
   "cell_type": "markdown",
   "metadata": {},
   "source": [
    "See banner image at: https://krspiced.pythonanywhere.com/chapters/project_gapminder/plotting/README.html"
   ]
  }
 ],
 "metadata": {
  "kernelspec": {
   "display_name": "Python 3",
   "language": "python",
   "name": "python3"
  },
  "language_info": {
   "codemirror_mode": {
    "name": "ipython",
    "version": 3
   },
   "file_extension": ".py",
   "mimetype": "text/x-python",
   "name": "python",
   "nbconvert_exporter": "python",
   "pygments_lexer": "ipython3",
   "version": "3.8.3"
  }
 },
 "nbformat": 4,
 "nbformat_minor": 4
}
