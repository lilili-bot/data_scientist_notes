{
 "cells": [
  {
   "cell_type": "code",
   "execution_count": 1,
   "id": "compatible-feedback",
   "metadata": {},
   "outputs": [],
   "source": [
    "import os"
   ]
  },
  {
   "cell_type": "code",
   "execution_count": 2,
   "id": "proved-skating",
   "metadata": {},
   "outputs": [
    {
     "data": {
      "text/plain": [
       "'/Users/lilycheng/Documents/jalapenalty-student-code/04_week/exercise'"
      ]
     },
     "execution_count": 2,
     "metadata": {},
     "output_type": "execute_result"
    }
   ],
   "source": [
    "os.getcwd()"
   ]
  },
  {
   "cell_type": "code",
   "execution_count": 3,
   "id": "premium-jordan",
   "metadata": {},
   "outputs": [
    {
     "data": {
      "text/plain": [
       "['poems_list.html',\n",
       " '.DS_Store',\n",
       " 'os_practise.ipynb',\n",
       " 'solutions_skip_error_carryon_scraping.ipynb',\n",
       " 'douban_scrap.ipynb',\n",
       " '__pycache__',\n",
       " 'Web_scrapping_poems-Copy1.ipynb',\n",
       " 'bow_lili.ipynb',\n",
       " 'model_lyric.ipynb',\n",
       " 'scrap_lyrics.py',\n",
       " '.ipynb_checkpoints',\n",
       " 'bs4_lili.ipynb']"
      ]
     },
     "execution_count": 3,
     "metadata": {},
     "output_type": "execute_result"
    }
   ],
   "source": [
    "os.listdir()"
   ]
  },
  {
   "cell_type": "code",
   "execution_count": 29,
   "id": "acquired-killer",
   "metadata": {},
   "outputs": [],
   "source": [
    "file ='test.txt'"
   ]
  },
  {
   "cell_type": "code",
   "execution_count": 45,
   "id": "artistic-glenn",
   "metadata": {},
   "outputs": [],
   "source": [
    "location = ''"
   ]
  },
  {
   "cell_type": "code",
   "execution_count": 48,
   "id": "violent-feeding",
   "metadata": {},
   "outputs": [],
   "source": [
    "path = os.path.join(location,file)"
   ]
  },
  {
   "cell_type": "code",
   "execution_count": 49,
   "id": "committed-processor",
   "metadata": {},
   "outputs": [],
   "source": [
    "os.remove(path)"
   ]
  },
  {
   "cell_type": "code",
   "execution_count": 50,
   "id": "reduced-tracy",
   "metadata": {},
   "outputs": [],
   "source": [
    "dic = 'test directory/'"
   ]
  },
  {
   "cell_type": "code",
   "execution_count": 53,
   "id": "fuzzy-marks",
   "metadata": {},
   "outputs": [],
   "source": [
    "loc = ''"
   ]
  },
  {
   "cell_type": "code",
   "execution_count": 54,
   "id": "complex-quilt",
   "metadata": {},
   "outputs": [],
   "source": [
    "path = os.path.join(loc,dic)"
   ]
  },
  {
   "cell_type": "code",
   "execution_count": null,
   "id": "published-raleigh",
   "metadata": {},
   "outputs": [],
   "source": [
    "os.removedirs(path) # os.rmdir"
   ]
  },
  {
   "cell_type": "code",
   "execution_count": 57,
   "id": "following-addiction",
   "metadata": {},
   "outputs": [
    {
     "data": {
      "text/plain": [
       "'posix'"
      ]
     },
     "execution_count": 57,
     "metadata": {},
     "output_type": "execute_result"
    }
   ],
   "source": [
    "os.name"
   ]
  },
  {
   "cell_type": "code",
   "execution_count": 68,
   "id": "palestinian-dutch",
   "metadata": {},
   "outputs": [
    {
     "name": "stdout",
     "output_type": "stream",
     "text": [
      "Problem reading:fakefile.txt\n",
      "[Errno 2] No such file or directory: 'fakefile.txt'\n"
     ]
    }
   ],
   "source": [
    "try:\n",
    "    filename = 'fakefile.txt'\n",
    "    f = open(filename,'r')\n",
    "    text = f.read()\n",
    "    f.close()\n",
    "except IOError as e:\n",
    "    print('Problem reading:{name}'.format(name = filename))\n",
    "    print(e)"
   ]
  },
  {
   "cell_type": "code",
   "execution_count": 69,
   "id": "instant-utility",
   "metadata": {},
   "outputs": [],
   "source": [
    "fd = 'test.txt'"
   ]
  },
  {
   "cell_type": "code",
   "execution_count": 70,
   "id": "printable-occurrence",
   "metadata": {},
   "outputs": [],
   "source": [
    "file = open(fd,'w')"
   ]
  },
  {
   "cell_type": "code",
   "execution_count": 71,
   "id": "fleet-chancellor",
   "metadata": {},
   "outputs": [
    {
     "data": {
      "text/plain": [
       "5"
      ]
     },
     "execution_count": 71,
     "metadata": {},
     "output_type": "execute_result"
    }
   ],
   "source": [
    "file.write('hallo')"
   ]
  },
  {
   "cell_type": "code",
   "execution_count": 73,
   "id": "collect-advantage",
   "metadata": {},
   "outputs": [],
   "source": [
    "file.close()"
   ]
  },
  {
   "cell_type": "code",
   "execution_count": 78,
   "id": "demographic-matthew",
   "metadata": {},
   "outputs": [
    {
     "data": {
      "text/plain": [
       "'hallo'"
      ]
     },
     "execution_count": 78,
     "metadata": {},
     "output_type": "execute_result"
    }
   ],
   "source": [
    "open(fd,'r').read()"
   ]
  },
  {
   "cell_type": "code",
   "execution_count": 88,
   "id": "unlimited-consumption",
   "metadata": {},
   "outputs": [],
   "source": [
    "file = os.popen(fd,'w').write('Hallo')"
   ]
  },
  {
   "cell_type": "code",
   "execution_count": 89,
   "id": "future-joyce",
   "metadata": {},
   "outputs": [],
   "source": [
    "fd = 'test.txt'"
   ]
  },
  {
   "cell_type": "code",
   "execution_count": 90,
   "id": "green-great",
   "metadata": {},
   "outputs": [],
   "source": [
    "file = open(fd,'r')"
   ]
  },
  {
   "cell_type": "code",
   "execution_count": 91,
   "id": "federal-burlington",
   "metadata": {},
   "outputs": [
    {
     "data": {
      "text/plain": [
       "'hallo'"
      ]
     },
     "execution_count": 91,
     "metadata": {},
     "output_type": "execute_result"
    }
   ],
   "source": [
    "file.read()"
   ]
  },
  {
   "cell_type": "code",
   "execution_count": 92,
   "id": "fallen-surge",
   "metadata": {},
   "outputs": [],
   "source": [
    "file.close()"
   ]
  },
  {
   "cell_type": "code",
   "execution_count": 93,
   "id": "technical-closer",
   "metadata": {},
   "outputs": [],
   "source": [
    "os.rename(fd,'renamedtest.txt')"
   ]
  },
  {
   "cell_type": "code",
   "execution_count": null,
   "id": "beneficial-brunei",
   "metadata": {},
   "outputs": [],
   "source": []
  }
 ],
 "metadata": {
  "kernelspec": {
   "display_name": "Python 3",
   "language": "python",
   "name": "python3"
  },
  "language_info": {
   "codemirror_mode": {
    "name": "ipython",
    "version": 3
   },
   "file_extension": ".py",
   "mimetype": "text/x-python",
   "name": "python",
   "nbconvert_exporter": "python",
   "pygments_lexer": "ipython3",
   "version": "3.8.8"
  }
 },
 "nbformat": 4,
 "nbformat_minor": 5
}
