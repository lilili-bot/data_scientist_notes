{
 "cells": [
  {
   "cell_type": "code",
   "execution_count": 5,
   "id": "married-conservation",
   "metadata": {},
   "outputs": [],
   "source": [
    "import requests\n",
    "import re\n",
    "from bs4 import BeautifulSoup"
   ]
  },
  {
   "cell_type": "code",
   "execution_count": 3,
   "id": "unlikely-bicycle",
   "metadata": {},
   "outputs": [],
   "source": [
    "res = requests.get('https://www.spiced-academy.com/en/program/data-science')"
   ]
  },
  {
   "cell_type": "code",
   "execution_count": 12,
   "id": "contrary-locking",
   "metadata": {},
   "outputs": [],
   "source": [
    "spiced_soup=BeautifulSoup(res.text)"
   ]
  },
  {
   "cell_type": "code",
   "execution_count": 15,
   "id": "inner-walker",
   "metadata": {},
   "outputs": [
    {
     "data": {
      "text/plain": [
       "'Data Science Bootcamp in Germany | Spiced Academy'"
      ]
     },
     "execution_count": 15,
     "metadata": {},
     "output_type": "execute_result"
    }
   ],
   "source": [
    "spiced_soup.head.title.text"
   ]
  },
  {
   "cell_type": "code",
   "execution_count": 41,
   "id": "prescription-dancing",
   "metadata": {
    "scrolled": true,
    "tags": []
   },
   "outputs": [
    {
     "data": {
      "text/plain": [
       "'Data Analysis in Python'"
      ]
     },
     "execution_count": 41,
     "metadata": {},
     "output_type": "execute_result"
    }
   ],
   "source": [
    "spiced_soup.body.find(class_=\"description\").h3.text"
   ]
  },
  {
   "cell_type": "code",
   "execution_count": 45,
   "id": "necessary-strategy",
   "metadata": {},
   "outputs": [
    {
     "data": {
      "text/plain": [
       "'Become fluent in using Python to collect, analyze, and visualize data, focusing on the powerful libraries Pandas & NumPy.'"
      ]
     },
     "execution_count": 45,
     "metadata": {},
     "output_type": "execute_result"
    }
   ],
   "source": [
    "spiced_soup.body.find(class_='description').find(class_='mob-hidden').text"
   ]
  },
  {
   "cell_type": "code",
   "execution_count": 53,
   "id": "inappropriate-trinity",
   "metadata": {},
   "outputs": [],
   "source": [
    "curiculum = spiced_soup.body.find_all(class_='curriculum-mini-section')"
   ]
  },
  {
   "cell_type": "code",
   "execution_count": 75,
   "id": "numeric-detective",
   "metadata": {},
   "outputs": [
    {
     "data": {
      "text/plain": [
       "'Data Analysis in Python'"
      ]
     },
     "execution_count": 75,
     "metadata": {},
     "output_type": "execute_result"
    }
   ],
   "source": [
    "curiculum[0].find(class_='description').h3.text"
   ]
  },
  {
   "cell_type": "code",
   "execution_count": 77,
   "id": "excess-number",
   "metadata": {},
   "outputs": [],
   "source": [
    "mini_description = []\n",
    "spiced_vorlesung= []\n",
    "for component in curiculum:\n",
    "    mini_description.append(component.find(class_=\"mob-hidden\").text)\n",
    "    spiced_vorlesung.append(component.find(class_='description').h3.text)"
   ]
  },
  {
   "cell_type": "code",
   "execution_count": 81,
   "id": "incoming-cannon",
   "metadata": {},
   "outputs": [],
   "source": [
    "import pandas as pd\n",
    "df = pd.DataFrame()\n",
    "df['topic']=spiced_vorlesung\n",
    "df['content']=mini_description"
   ]
  },
  {
   "cell_type": "code",
   "execution_count": 82,
   "id": "aware-three",
   "metadata": {},
   "outputs": [
    {
     "data": {
      "text/html": [
       "<div>\n",
       "<style scoped>\n",
       "    .dataframe tbody tr th:only-of-type {\n",
       "        vertical-align: middle;\n",
       "    }\n",
       "\n",
       "    .dataframe tbody tr th {\n",
       "        vertical-align: top;\n",
       "    }\n",
       "\n",
       "    .dataframe thead th {\n",
       "        text-align: right;\n",
       "    }\n",
       "</style>\n",
       "<table border=\"1\" class=\"dataframe\">\n",
       "  <thead>\n",
       "    <tr style=\"text-align: right;\">\n",
       "      <th></th>\n",
       "      <th>topic</th>\n",
       "      <th>content</th>\n",
       "    </tr>\n",
       "  </thead>\n",
       "  <tbody>\n",
       "    <tr>\n",
       "      <th>0</th>\n",
       "      <td>Data Analysis in Python</td>\n",
       "      <td>Become fluent in using Python to collect, anal...</td>\n",
       "    </tr>\n",
       "    <tr>\n",
       "      <th>1</th>\n",
       "      <td>Machine Learning</td>\n",
       "      <td>Delve into the world of supervised and unsuper...</td>\n",
       "    </tr>\n",
       "    <tr>\n",
       "      <th>2</th>\n",
       "      <td>PostgreSQL</td>\n",
       "      <td>Organize data in SQL databases like PostgreSQL...</td>\n",
       "    </tr>\n",
       "    <tr>\n",
       "      <th>3</th>\n",
       "      <td>Data Infrastructure</td>\n",
       "      <td>Deploy code on remote servers using Docker and...</td>\n",
       "    </tr>\n",
       "    <tr>\n",
       "      <th>4</th>\n",
       "      <td>Software Engineering</td>\n",
       "      <td>Acquire state-of-the-art engineering tools to ...</td>\n",
       "    </tr>\n",
       "    <tr>\n",
       "      <th>5</th>\n",
       "      <td>Git &amp; Bash</td>\n",
       "      <td>Use Git and GitHub throughout the course to co...</td>\n",
       "    </tr>\n",
       "  </tbody>\n",
       "</table>\n",
       "</div>"
      ],
      "text/plain": [
       "                     topic                                            content\n",
       "0  Data Analysis in Python  Become fluent in using Python to collect, anal...\n",
       "1         Machine Learning  Delve into the world of supervised and unsuper...\n",
       "2               PostgreSQL  Organize data in SQL databases like PostgreSQL...\n",
       "3      Data Infrastructure  Deploy code on remote servers using Docker and...\n",
       "4     Software Engineering  Acquire state-of-the-art engineering tools to ...\n",
       "5               Git & Bash  Use Git and GitHub throughout the course to co..."
      ]
     },
     "execution_count": 82,
     "metadata": {},
     "output_type": "execute_result"
    }
   ],
   "source": [
    "df"
   ]
  },
  {
   "cell_type": "code",
   "execution_count": null,
   "id": "brave-philadelphia",
   "metadata": {},
   "outputs": [],
   "source": []
  }
 ],
 "metadata": {
  "kernelspec": {
   "display_name": "Python 3",
   "language": "python",
   "name": "python3"
  },
  "language_info": {
   "codemirror_mode": {
    "name": "ipython",
    "version": 3
   },
   "file_extension": ".py",
   "mimetype": "text/x-python",
   "name": "python",
   "nbconvert_exporter": "python",
   "pygments_lexer": "ipython3",
   "version": "3.8.8"
  }
 },
 "nbformat": 4,
 "nbformat_minor": 5
}
