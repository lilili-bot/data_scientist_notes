{
 "cells": [
  {
   "cell_type": "code",
   "execution_count": 12,
   "id": "careful-brunei",
   "metadata": {},
   "outputs": [],
   "source": [
    "import pandas as pd\n",
    "import seaborn as sns\n",
    "from sklearn.feature_extraction.text import TfidfTransformer, TfidfVectorizer, CountVectorizer\n",
    "from sklearn. naive_bayes import GaussianNB, MultinomialNB\n",
    "from sklearn.pipeline import make_pipeline\n",
    "from sklearn.model_selection import train_test_split\n",
    "import matplotlib.pyplot as plt\n",
    "from matplotlib_venn import venn2"
   ]
  },
  {
   "cell_type": "code",
   "execution_count": 13,
   "id": "interim-bryan",
   "metadata": {},
   "outputs": [],
   "source": [
    "#get data"
   ]
  },
  {
   "cell_type": "code",
   "execution_count": 14,
   "id": "coated-capacity",
   "metadata": {},
   "outputs": [],
   "source": [
    "df_weeknd = pd.read_csv('../data/df_weeknd.csv')\n",
    "df_queen = pd.read_csv('../data/df_queen.csv')\n",
    "corpus_weeknd = list(df_weeknd['song_line'])\n",
    "corpus_queen = list(df_queen['song_line'])"
   ]
  },
  {
   "cell_type": "code",
   "execution_count": 15,
   "id": "correct-violence",
   "metadata": {},
   "outputs": [],
   "source": [
    "labels = (['weeknd']*len(corpus_weeknd))+(['queen']*len(corpus_queen))\n",
    "corpus = list(df_weeknd['song_line'])+list(df_queen['song_line'])"
   ]
  },
  {
   "cell_type": "code",
   "execution_count": 16,
   "id": "efficient-furniture",
   "metadata": {},
   "outputs": [],
   "source": [
    "Xtrain, Xtest, ytrain, ytest = train_test_split(corpus, labels, random_state=42)"
   ]
  },
  {
   "cell_type": "code",
   "execution_count": 17,
   "id": "imported-functionality",
   "metadata": {},
   "outputs": [
    {
     "data": {
      "text/plain": [
       "(1074, 359, 1074, 359)"
      ]
     },
     "execution_count": 17,
     "metadata": {},
     "output_type": "execute_result"
    }
   ],
   "source": [
    "len(Xtrain), len(Xtest), len(ytrain), len(ytest)"
   ]
  },
  {
   "cell_type": "code",
   "execution_count": 42,
   "id": "chronic-danish",
   "metadata": {},
   "outputs": [],
   "source": [
    "# build model\n",
    "def mul_model(text,label):\n",
    "    \"\"\"\n",
    "    Takes in list of songs\n",
    "    trains model on it with labels,\n",
    "    and returns trained model\n",
    "    \"\"\"\n",
    "    print('Training model...\\n')\n",
    "    cv = CountVectorizer(stop_words='english', ngram_range=(2,3))\n",
    "    tf = TfidfTransformer()\n",
    "    nb = MultinomialNB(alpha=1, fit_prior=True, class_prior=[0.31, 0.69])\n",
    "    model = make_pipeline(cv,tf,nb)\n",
    "    model.fit(text, label)\n",
    "    return model"
   ]
  },
  {
   "cell_type": "code",
   "execution_count": 43,
   "id": "educational-builder",
   "metadata": {},
   "outputs": [],
   "source": [
    "#predict\n",
    "def mul_predict(m, test):\n",
    "    \"\"\"\n",
    "    Takes the pre-trained pipeline model and predicts new artist.\n",
    "    \"\"\"\n",
    "    predict = m.predict(test)\n",
    "    probs = m.predict_proba(test).round(2)\n",
    "    return predict"
   ]
  },
  {
   "cell_type": "code",
   "execution_count": 44,
   "id": "latest-blade",
   "metadata": {},
   "outputs": [
    {
     "name": "stdout",
     "output_type": "stream",
     "text": [
      "Training model...\n",
      "\n"
     ]
    },
    {
     "data": {
      "text/plain": [
       "(0.9442896935933147, 339, 20)"
      ]
     },
     "execution_count": 44,
     "metadata": {},
     "output_type": "execute_result"
    }
   ],
   "source": [
    "def get_score(pred, true):\n",
    "    positive = 0\n",
    "    negative = 0\n",
    "    for m, n in zip(pred, true):\n",
    "        if m==n:\n",
    "            positive = positive+1\n",
    "        elif m!=n:\n",
    "            negative = negative+1\n",
    "    return positive/(negative+positive), positive, negative\n",
    "m = train_model(Xtrain, ytrain)\n",
    "pred = predict(m, Xtest)            \n",
    "get_score(pred, ytest)        "
   ]
  },
  {
   "cell_type": "code",
   "execution_count": 45,
   "id": "characteristic-interval",
   "metadata": {},
   "outputs": [
    {
     "data": {
      "text/plain": [
       "0.9981378026070763"
      ]
     },
     "execution_count": 45,
     "metadata": {},
     "output_type": "execute_result"
    }
   ],
   "source": [
    "m.score(Xtrain,ytrain)"
   ]
  },
  {
   "cell_type": "code",
   "execution_count": 46,
   "id": "adult-front",
   "metadata": {},
   "outputs": [
    {
     "data": {
      "text/plain": [
       "array([[-3.20403378e+00, -4.14452195e-02],\n",
       "       [-1.38243001e-01, -2.04706760e+00],\n",
       "       [-1.16756850e-01, -2.20547219e+00],\n",
       "       ...,\n",
       "       [-2.52614913e-04, -8.28377062e+00],\n",
       "       [-3.65037775e-03, -5.61474926e+00],\n",
       "       [-5.82980293e-03, -5.14768557e+00]])"
      ]
     },
     "execution_count": 46,
     "metadata": {},
     "output_type": "execute_result"
    }
   ],
   "source": [
    "m.predict_log_proba(Xtrain)"
   ]
  },
  {
   "cell_type": "code",
   "execution_count": 47,
   "id": "graduate-aging",
   "metadata": {},
   "outputs": [
    {
     "data": {
      "text/plain": [
       "array([[0.04, 0.96],\n",
       "       [0.87, 0.13],\n",
       "       [0.89, 0.11],\n",
       "       ...,\n",
       "       [1.  , 0.  ],\n",
       "       [1.  , 0.  ],\n",
       "       [0.99, 0.01]])"
      ]
     },
     "execution_count": 47,
     "metadata": {},
     "output_type": "execute_result"
    }
   ],
   "source": [
    "m.predict_proba(Xtrain).round(2)"
   ]
  },
  {
   "cell_type": "code",
   "execution_count": 48,
   "id": "difficult-animation",
   "metadata": {
    "tags": []
   },
   "outputs": [
    {
     "data": {
      "text/plain": [
       "{'memory': None,\n",
       " 'steps': [('countvectorizer',\n",
       "   CountVectorizer(ngram_range=(2, 3), stop_words='english')),\n",
       "  ('tfidftransformer', TfidfTransformer()),\n",
       "  ('multinomialnb', MultinomialNB(alpha=1))],\n",
       " 'verbose': False,\n",
       " 'countvectorizer': CountVectorizer(ngram_range=(2, 3), stop_words='english'),\n",
       " 'tfidftransformer': TfidfTransformer(),\n",
       " 'multinomialnb': MultinomialNB(alpha=1),\n",
       " 'countvectorizer__analyzer': 'word',\n",
       " 'countvectorizer__binary': False,\n",
       " 'countvectorizer__decode_error': 'strict',\n",
       " 'countvectorizer__dtype': numpy.int64,\n",
       " 'countvectorizer__encoding': 'utf-8',\n",
       " 'countvectorizer__input': 'content',\n",
       " 'countvectorizer__lowercase': True,\n",
       " 'countvectorizer__max_df': 1.0,\n",
       " 'countvectorizer__max_features': None,\n",
       " 'countvectorizer__min_df': 1,\n",
       " 'countvectorizer__ngram_range': (2, 3),\n",
       " 'countvectorizer__preprocessor': None,\n",
       " 'countvectorizer__stop_words': 'english',\n",
       " 'countvectorizer__strip_accents': None,\n",
       " 'countvectorizer__token_pattern': '(?u)\\\\b\\\\w\\\\w+\\\\b',\n",
       " 'countvectorizer__tokenizer': None,\n",
       " 'countvectorizer__vocabulary': None,\n",
       " 'tfidftransformer__norm': 'l2',\n",
       " 'tfidftransformer__smooth_idf': True,\n",
       " 'tfidftransformer__sublinear_tf': False,\n",
       " 'tfidftransformer__use_idf': True,\n",
       " 'multinomialnb__alpha': 1,\n",
       " 'multinomialnb__class_prior': None,\n",
       " 'multinomialnb__fit_prior': True}"
      ]
     },
     "execution_count": 48,
     "metadata": {},
     "output_type": "execute_result"
    }
   ],
   "source": [
    "m.get_params()"
   ]
  },
  {
   "cell_type": "code",
   "execution_count": null,
   "id": "victorian-black",
   "metadata": {},
   "outputs": [],
   "source": []
  },
  {
   "cell_type": "code",
   "execution_count": null,
   "id": "assured-success",
   "metadata": {},
   "outputs": [],
   "source": []
  }
 ],
 "metadata": {
  "kernelspec": {
   "display_name": "Python 3",
   "language": "python",
   "name": "python3"
  },
  "language_info": {
   "codemirror_mode": {
    "name": "ipython",
    "version": 3
   },
   "file_extension": ".py",
   "mimetype": "text/x-python",
   "name": "python",
   "nbconvert_exporter": "python",
   "pygments_lexer": "ipython3",
   "version": "3.8.8"
  }
 },
 "nbformat": 4,
 "nbformat_minor": 5
}
