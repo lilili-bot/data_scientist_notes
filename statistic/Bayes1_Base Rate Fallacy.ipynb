{
 "cells": [
  {
   "cell_type": "markdown",
   "id": "loose-startup",
   "metadata": {},
   "source": [
    "# 1 真的有病吗？\n",
    "已知某种疾病在人群中有2\\%的患病率，可以通过某种手段来检测这种疾病，这种手段有90\\%的正确率。90\\%的正确率很高嘛，似乎被诊断出有病了之后那基本就真的有病了。真的是这样吗？\n",
    "还是来画下树形图，假设有10000个人，2\\%的患病率就是200个人有病：\n",
    "\n",
    "<img src = \"img/tree1.png\">\n",
    "\n",
    "正确率90\\%，这个正确指的是，检测显示有病的是真有病，检测显示没病的是真没病（下图中“确诊”表示正确的诊断，“误诊”表示错误的诊断）：\n",
    "\n",
    "<img src = \"img/tree2.png\">\n",
    "\n",
    "被诊断出有病包含两种可能性，一种是有病人群中的“确诊”和没病人群中的“误诊”：\n",
    "\n",
    "<img src = \"img/tree3.png\">"
   ]
  },
  {
   "cell_type": "markdown",
   "id": "relative-literacy",
   "metadata": {},
   "source": [
    "也就是说这10000人里面会有180+980=1160人被诊断有病，而真正有病的不过180人，所以如果被检测出有病，真正有病的概率只有：\n",
    "\n",
    "$ \\frac{180}{1160}\\approx 15.5\\% $"
   ]
  },
  {
   "cell_type": "markdown",
   "id": "following-window",
   "metadata": {},
   "source": [
    "# 2 错误认知的分析\n",
    "\n",
    "通过上面的分析可以知道，产生错误认识的原因在于，首先，90\\%的正确率指的是，有病的人中被确诊的比例（或没病的人被确诊）：\n",
    "\n",
    "<img src = \"img/tree4.png\">"
   ]
  },
  {
   "cell_type": "markdown",
   "id": "violent-initial",
   "metadata": {},
   "source": [
    "而被诊断出有病了之后真的有病的概率为：\n",
    "\n",
    "<img src = \"img/tree5.png\">"
   ]
  },
  {
   "cell_type": "markdown",
   "id": "labeled-montana",
   "metadata": {},
   "source": [
    "分子是同样的 $ \\color{red}{180} $\n",
    "人，分母不同得到的比例自然不同。"
   ]
  },
  {
   "cell_type": "markdown",
   "id": "floral-chain",
   "metadata": {},
   "source": [
    " # 3 基本比率谬误"
   ]
  },
  {
   "cell_type": "markdown",
   "id": "encouraging-offering",
   "metadata": {},
   "source": [
    "更根本的原因在于忽视了人群分布的基本比例，虽然确诊率高达90\\%，但是真正患病的人实在太少了，只占所有人中的2\\%：\n",
    "\n",
    "<img src = \"img/tree6.png\">"
   ]
  },
  {
   "cell_type": "markdown",
   "id": "ideal-auction",
   "metadata": {},
   "source": [
    "$ 没患病的足足有98\\%，哪怕误诊率为10\\%，但人多啊，依然有很多被误诊为有病。$\n",
    "\n",
    "这种忽视基本比例导致的错误称为$ \\color{Salmon}{基本比例谬误} $（Base Rate Fallacy）。"
   ]
  },
  {
   "cell_type": "code",
   "execution_count": null,
   "id": "demanding-ferry",
   "metadata": {},
   "outputs": [],
   "source": []
  },
  {
   "cell_type": "code",
   "execution_count": null,
   "id": "suited-power",
   "metadata": {},
   "outputs": [],
   "source": []
  }
 ],
 "metadata": {
  "kernelspec": {
   "display_name": "Python 3",
   "language": "python",
   "name": "python3"
  },
  "language_info": {
   "codemirror_mode": {
    "name": "ipython",
    "version": 3
   },
   "file_extension": ".py",
   "mimetype": "text/x-python",
   "name": "python",
   "nbconvert_exporter": "python",
   "pygments_lexer": "ipython3",
   "version": "3.8.2"
  }
 },
 "nbformat": 4,
 "nbformat_minor": 5
}
