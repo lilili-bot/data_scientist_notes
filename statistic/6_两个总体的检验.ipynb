{
 "cells": [
  {
   "cell_type": "code",
   "execution_count": 93,
   "id": "ignored-monkey",
   "metadata": {},
   "outputs": [],
   "source": [
    "import numpy as np\n",
    "import scipy.stats as ss\n",
    "import pandas as pd"
   ]
  },
  {
   "cell_type": "markdown",
   "id": "sound-motorcycle",
   "metadata": {},
   "source": [
    "<img src = \"img/2sampling2.png\">\n",
    "<img src = \"img/两个总体正态.png\">"
   ]
  },
  {
   "cell_type": "markdown",
   "id": "controlled-tattoo",
   "metadata": {},
   "source": [
    "# 样本标准差已知\n",
    "1.1 假定条件\n",
    "\n",
    "- 两个样本是独立的随机样本\n",
    "\n",
    "- 两个总体都是正态分布\n",
    "\n",
    "- 若不是正态分布,可以用正态分布来近似,n_1>30和n_2>30\n",
    "1.2 检验统计量\n",
    "<img src = \"img/z.png\">\n",
    "\n",
    "1.3 效应量计算:$d=\\bar{X_1}−\\bar{X_2}/(σ_1+σ_2)/2$\n",
    "\n",
    "\n",
    "- 例:\n",
    "有两种方法可用于制造某种以抗拉强度为重要特征的产品。根据以往的资料得知，第一种方法生产出的产品其抗拉强度的标准差为8公斤,第二种方法的标准差为10公斤,从两种方法生产的产品中各抽取一个随机样本，样本容量分别为$n_1=32 ,n_2=40\n",
    "测得\\bar{X_1}=50公斤,\\bar{X_2}=44公斤,问这两种方法生产的产品平均抗拉强度是否有明显差异?$"
   ]
  },
  {
   "cell_type": "code",
   "execution_count": 18,
   "id": "occasional-pittsburgh",
   "metadata": {},
   "outputs": [
    {
     "data": {
      "text/plain": [
       "2.8284271247461903"
      ]
     },
     "execution_count": 18,
     "metadata": {},
     "output_type": "execute_result"
    }
   ],
   "source": [
    "'''\n",
    "1. 先做出假设\n",
    "1.1 双侧检验\n",
    "mu1-mu = 0\n",
    "mu1 - mu2 !=0\n",
    "2.确认统计量\n",
    "3. 规定显著范围\n",
    "4. 如果原假设被拒绝，则需要计算效应量\n",
    "'''\n",
    "\n",
    "# 双侧检验\n",
    "# 确认统计量\n",
    "mean1 = 50\n",
    "n1 = 32\n",
    "mean2 = 44\n",
    "n2 = 40\n",
    "sigma1 = 8\n",
    "sigma2 = 10\n",
    "# 求出z统计量的值\n",
    "z = (mean1-mean2)/np.sqrt(sigma1**2/n1 + sigma2**2/n2)\n",
    "z"
   ]
  },
  {
   "cell_type": "code",
   "execution_count": 17,
   "id": "conditional-bargain",
   "metadata": {},
   "outputs": [
    {
     "name": "stdout",
     "output_type": "stream",
     "text": [
      "the h0 is False\n"
     ]
    }
   ],
   "source": [
    "# 根据z统计量，求出p\n",
    "p =(1-ss.norm.cdf(z))*2\n",
    "print(\"the h0 is {result}\".format(result=p>0.05))\n",
    "#拒绝原假设\n",
    "#两种方法生产的产品平均强度有明显差异。"
   ]
  },
  {
   "cell_type": "code",
   "execution_count": 20,
   "id": "latter-netherlands",
   "metadata": {},
   "outputs": [
    {
     "data": {
      "text/plain": [
       "0.6666666666666666"
      ]
     },
     "execution_count": 20,
     "metadata": {},
     "output_type": "execute_result"
    }
   ],
   "source": [
    "#计算效应量\n",
    "d = (mean1-mean2)/((sigma1+sigma2)/2)\n",
    "d"
   ]
  },
  {
   "cell_type": "markdown",
   "id": "hydraulic-dictionary",
   "metadata": {},
   "source": [
    "# 2. 样本的标准差未知\n",
    "\n",
    "- 大样本的时候也可以用z分布，但是实际操作时，标准差未知的情况下经常用t分布。\n",
    "- 小样本的，标准差未知时，！！！！只能用t分布！！！！！"
   ]
  },
  {
   "cell_type": "markdown",
   "id": "allied-reserve",
   "metadata": {},
   "source": [
    "2.1 假设条件1\n",
    "- 两个样本是独立的随机样本\n",
    "- $两个总体都是正态分布$\n",
    "- 两个总体方差不齐\n",
    "\n",
    "<img src=\"img/2sampling4.png\">\n",
    "\n",
    "2.2 假定条件2\n",
    "- 两个样本是独立的随机样本\n",
    "- 两个总体都是正态分布\n",
    "- 两个总体方差齐\n",
    "\n",
    "<img src=\"img/2sampling3.png\">"
   ]
  },
  {
   "cell_type": "markdown",
   "id": "familiar-biotechnology",
   "metadata": {},
   "source": [
    "- 例:\n",
    "随机抽取20只小鼠分配到A、B两个不同饲料组。每组 10 只，喂养一定时间后，测得鼠肝中铁的含量(μg/g)，数据如下。试问不同饲料对鼠肝中铁的含量有无影响？"
   ]
  },
  {
   "cell_type": "code",
   "execution_count": 48,
   "id": "corrected-berry",
   "metadata": {},
   "outputs": [],
   "source": [
    "# 1. 理解题意： 比较A和B组均值是否相等。\n",
    "# 2. 提出假设\n",
    "'''\n",
    "h0:mu1-mu2=0\n",
    "h1:mu1-mu2!=0\n",
    "'''\n",
    "# 3. 确认统计量\n",
    "'''\n",
    "小样本，sigma未知\n",
    "'''\n",
    "# 3.1 加载数据\n",
    "x1=[3.59,0.96,3.89,1.23,1.61,2.94,1.96,3.68,1.54,2.59]\n",
    "x2=[2.23,1.14,2.63,1.00,1.35,2.01,1.64,1.13,1.01,1.70]"
   ]
  },
  {
   "cell_type": "code",
   "execution_count": 49,
   "id": "sweet-filling",
   "metadata": {},
   "outputs": [
    {
     "name": "stdout",
     "output_type": "stream",
     "text": [
      "the sample is normal distribution: False\n",
      "the sample is normal distribution: False\n"
     ]
    },
    {
     "data": {
      "text/plain": [
       "(None, None)"
      ]
     },
     "execution_count": 49,
     "metadata": {},
     "output_type": "execute_result"
    }
   ],
   "source": [
    "# 3.2 样本正态性检验\n",
    "def distri_check(x,dis=\"norm\"):\n",
    "    '''\n",
    "    this function is to check if the samples fir normal \n",
    "    distribution\n",
    "    '''\n",
    "    statistic, p = ss.kstest(x1, dis)\n",
    "    print(\"the sample is normal distribution: {result}\".format(result=p>0.05))\n",
    "distri_check(x1), distri_check(x2) # return False. both samples are not normal distribution. "
   ]
  },
  {
   "cell_type": "code",
   "execution_count": 50,
   "id": "spoken-compiler",
   "metadata": {},
   "outputs": [],
   "source": [
    "# 3.3 方差齐次性检验。\n",
    "def sigma_check(x1,x2):\n",
    "    '''\n",
    "    The function return boolean True or False. \n",
    "    To check if the samples have the same sigma.\n",
    "    '''\n",
    "    s, p = ss.levene(x1,x2)\n",
    "    return p>0.05"
   ]
  },
  {
   "cell_type": "code",
   "execution_count": 51,
   "id": "injured-projection",
   "metadata": {},
   "outputs": [
    {
     "data": {
      "text/plain": [
       "False"
      ]
     },
     "execution_count": 51,
     "metadata": {},
     "output_type": "execute_result"
    }
   ],
   "source": [
    "sigma_check(x1,x2) # sigma is not the same. "
   ]
  },
  {
   "cell_type": "code",
   "execution_count": 91,
   "id": "optimum-coordinate",
   "metadata": {},
   "outputs": [
    {
     "data": {
      "text/plain": [
       "(2.109002665975056, 0.05414901720012299)"
      ]
     },
     "execution_count": 91,
     "metadata": {},
     "output_type": "execute_result"
    }
   ],
   "source": [
    "# 3.4 确认统计方法 使用t，但是分母用sp。\n",
    "t1,p = ss.ttest_ind(x1,x2,equal_var=False)\n",
    "t1, p"
   ]
  },
  {
   "cell_type": "code",
   "execution_count": 92,
   "id": "arabic-protest",
   "metadata": {},
   "outputs": [
    {
     "data": {
      "text/plain": [
       "True"
      ]
     },
     "execution_count": 92,
     "metadata": {},
     "output_type": "execute_result"
    }
   ],
   "source": [
    "p>0.05 # accept h0。"
   ]
  },
  {
   "cell_type": "markdown",
   "id": "ultimate-lyric",
   "metadata": {},
   "source": [
    "- 3. 练习\n",
    "数据字段说明：\n",
    "\n",
    "gender：性别，1为男性，2为女性\n",
    "Temperature:体温\n",
    "HeartRate：心率\n",
    "共130行，3列\n",
    "解决问题:男性和女性的体温是否有明显差异?\n",
    "\n",
    "1. 分析问题，提出假设。\n",
    "双边检验男性总体和女性总体的温度均值是否相等。\n",
    "\n",
    "h0: t_mean1 - t_mean2 = 0\n",
    "h1: t_mean1 - t_mean2 !=0\n",
    "\n",
    "2. 检查样本正态性\n",
    "kstest\n",
    "3. 检查方差齐次性\n",
    "levene "
   ]
  },
  {
   "cell_type": "code",
   "execution_count": 94,
   "id": "minus-mortgage",
   "metadata": {},
   "outputs": [],
   "source": [
    "df = pd.read_csv(\"img/test.csv\")"
   ]
  },
  {
   "cell_type": "code",
   "execution_count": 97,
   "id": "upper-prisoner",
   "metadata": {},
   "outputs": [
    {
     "data": {
      "text/html": [
       "<div>\n",
       "<style scoped>\n",
       "    .dataframe tbody tr th:only-of-type {\n",
       "        vertical-align: middle;\n",
       "    }\n",
       "\n",
       "    .dataframe tbody tr th {\n",
       "        vertical-align: top;\n",
       "    }\n",
       "\n",
       "    .dataframe thead th {\n",
       "        text-align: right;\n",
       "    }\n",
       "</style>\n",
       "<table border=\"1\" class=\"dataframe\">\n",
       "  <thead>\n",
       "    <tr style=\"text-align: right;\">\n",
       "      <th></th>\n",
       "      <th>Temperature</th>\n",
       "      <th>Gender</th>\n",
       "      <th>HeartRate</th>\n",
       "    </tr>\n",
       "  </thead>\n",
       "  <tbody>\n",
       "    <tr>\n",
       "      <th>0</th>\n",
       "      <td>96.3</td>\n",
       "      <td>1</td>\n",
       "      <td>70</td>\n",
       "    </tr>\n",
       "    <tr>\n",
       "      <th>1</th>\n",
       "      <td>96.7</td>\n",
       "      <td>1</td>\n",
       "      <td>71</td>\n",
       "    </tr>\n",
       "    <tr>\n",
       "      <th>2</th>\n",
       "      <td>96.9</td>\n",
       "      <td>1</td>\n",
       "      <td>74</td>\n",
       "    </tr>\n",
       "    <tr>\n",
       "      <th>3</th>\n",
       "      <td>97.0</td>\n",
       "      <td>1</td>\n",
       "      <td>80</td>\n",
       "    </tr>\n",
       "    <tr>\n",
       "      <th>4</th>\n",
       "      <td>97.1</td>\n",
       "      <td>1</td>\n",
       "      <td>73</td>\n",
       "    </tr>\n",
       "  </tbody>\n",
       "</table>\n",
       "</div>"
      ],
      "text/plain": [
       "   Temperature  Gender  HeartRate\n",
       "0         96.3       1         70\n",
       "1         96.7       1         71\n",
       "2         96.9       1         74\n",
       "3         97.0       1         80\n",
       "4         97.1       1         73"
      ]
     },
     "execution_count": 97,
     "metadata": {},
     "output_type": "execute_result"
    }
   ],
   "source": [
    "df.head(5)"
   ]
  },
  {
   "cell_type": "code",
   "execution_count": 102,
   "id": "chemical-installation",
   "metadata": {},
   "outputs": [
    {
     "name": "stdout",
     "output_type": "stream",
     "text": [
      "<class 'pandas.core.frame.DataFrame'>\n",
      "RangeIndex: 130 entries, 0 to 129\n",
      "Data columns (total 3 columns):\n",
      " #   Column       Non-Null Count  Dtype  \n",
      "---  ------       --------------  -----  \n",
      " 0   Temperature  130 non-null    float64\n",
      " 1   Gender       130 non-null    int64  \n",
      " 2   HeartRate    130 non-null    int64  \n",
      "dtypes: float64(1), int64(2)\n",
      "memory usage: 3.2 KB\n"
     ]
    }
   ],
   "source": [
    "df.info()"
   ]
  },
  {
   "cell_type": "code",
   "execution_count": 126,
   "id": "light-jurisdiction",
   "metadata": {},
   "outputs": [],
   "source": [
    "x1 = df.loc[df[\"Gender\"]==1][\"Temperature\"]\n",
    "x2 = df.loc[df[\"Gender\"]==2][\"Temperature\"]"
   ]
  },
  {
   "cell_type": "code",
   "execution_count": 127,
   "id": "square-mason",
   "metadata": {},
   "outputs": [],
   "source": [
    "x_male = []\n",
    "x_female = []\n",
    "gender = [i for i in df[\"Gender\"].unique()]"
   ]
  },
  {
   "cell_type": "code",
   "execution_count": 129,
   "id": "destroyed-south",
   "metadata": {},
   "outputs": [
    {
     "data": {
      "text/plain": [
       "(KstestResult(statistic=1.0, pvalue=0.0),\n",
       " KstestResult(statistic=1.0, pvalue=0.0))"
      ]
     },
     "execution_count": 129,
     "metadata": {},
     "output_type": "execute_result"
    }
   ],
   "source": [
    "# 1. 检查样本的正态性\n",
    "ss.kstest(x1,\"norm\"), ss.kstest(x2,\"norm\") # 两个样本都为非正态分布。因为前提假设是总体是正态分布。"
   ]
  },
  {
   "cell_type": "code",
   "execution_count": 132,
   "id": "inner-uncertainty",
   "metadata": {},
   "outputs": [
    {
     "data": {
      "text/plain": [
       "LeveneResult(statistic=0.06354951292025163, pvalue=0.8013756068102883)"
      ]
     },
     "execution_count": 132,
     "metadata": {},
     "output_type": "execute_result"
    }
   ],
   "source": [
    "# 2. 检验方差的齐次性\n",
    "ss.levene(x1,x2) # p > 0.05 方差齐"
   ]
  },
  {
   "cell_type": "code",
   "execution_count": 134,
   "id": "tested-sustainability",
   "metadata": {},
   "outputs": [],
   "source": [
    "# 3. 小样本，总体方差未知，因此使用t检验。\n",
    "t, p = ss.ttest_ind(x1,x2,equal_var=True)"
   ]
  },
  {
   "cell_type": "code",
   "execution_count": 135,
   "id": "massive-sunset",
   "metadata": {},
   "outputs": [
    {
     "data": {
      "text/plain": [
       "(-2.2854345381654984, 0.02393188312240236)"
      ]
     },
     "execution_count": 135,
     "metadata": {},
     "output_type": "execute_result"
    }
   ],
   "source": [
    "t, p # p<0.05  Reject h0. "
   ]
  },
  {
   "cell_type": "markdown",
   "id": "uniform-government",
   "metadata": {},
   "source": [
    "- 4.小结\n",
    "  - 方差齐:scipy.stats.ttest_ind(x1,x2)\n",
    "  - 方差不齐:scipy.stats.ttest_ind(x1,x2,equal_var=False)"
   ]
  },
  {
   "cell_type": "code",
   "execution_count": null,
   "id": "artistic-length",
   "metadata": {},
   "outputs": [],
   "source": []
  }
 ],
 "metadata": {
  "kernelspec": {
   "display_name": "Python 3",
   "language": "python",
   "name": "python3"
  },
  "language_info": {
   "codemirror_mode": {
    "name": "ipython",
    "version": 3
   },
   "file_extension": ".py",
   "mimetype": "text/x-python",
   "name": "python",
   "nbconvert_exporter": "python",
   "pygments_lexer": "ipython3",
   "version": "3.8.2"
  }
 },
 "nbformat": 4,
 "nbformat_minor": 5
}
