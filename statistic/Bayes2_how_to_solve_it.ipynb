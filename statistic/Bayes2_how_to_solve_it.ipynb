{
 "cells": [
  {
   "cell_type": "markdown",
   "id": "large-stupid",
   "metadata": {},
   "source": [
    "基本比率谬误是我们常犯的认知错误，下面重新来研究一下怎么对付它。\n",
    "# 1 条件概率\n",
    "回忆下之前的问题，已知某种疾病在人群中有2\\%的患病率，可以通过某种手段来检测这种疾病，这种手段有90\\%的正确率。那么如果被检测出有病，真正有病的比率是多少？\n",
    "\n",
    "这个问题之前已经解决了，首先，已知的是“这种手段有90\\%的正确率”：\n",
    "\n",
    "<img src = \"img/tree6.png\">"
   ]
  },
  {
   "cell_type": "markdown",
   "id": "logical-intro",
   "metadata": {},
   "source": [
    "据此，求出“被诊断出有病了之后真的有病的概率”为：\n",
    "\n",
    "<img src = \"img/tree5.png\">\n",
    "\n",
    "我们的样本空间是10000人，而这里两个概率：\n",
    "\n",
    "$ \\frac{180}{180+20}=90\\%,\\quad \\frac{180}{180+980}\\approx 15.5\\% $\n",
    "\n",
    "分母都不到10000人，所以它们都是局部概率，也就说都是条件概率。\n",
    "\n"
   ]
  },
  {
   "cell_type": "markdown",
   "id": "worthy-bahrain",
   "metadata": {},
   "source": [
    "先来定义两个事件：\n",
    "$ A=“患病的人”,\\quad B=“检测显示有病的人” $\n",
    "\n",
    "$90\\%$的正确率”指的是，患病的条件下，检测显示有病，即：\n",
    "\n",
    "$ P(B|A)=\\frac{180}{180+20}=90\\%$\n",
    "\n",
    "要求的“被诊断出有病了之后真的有病的概率”指的是，检测有病的条件下，真的患病，即：\n",
    "\n",
    "$ P(A|B)=\\frac{180}{180+980}\\approx 15.5\\% $"
   ]
  },
  {
   "cell_type": "markdown",
   "id": "aboriginal-somewhere",
   "metadata": {},
   "source": [
    "通过韦恩图可以看出A、B为（这个韦恩图画在这里不算标准，大家主要理解意思）：\n",
    "\n",
    "所以：\n",
    "\n",
    "<img src =\"img/v1.png\">\n",
    "\n",
    "$ \\frac{180}{180+20}=\\frac{|AB|}{|A|}=P(B|A)$\n",
    "\n",
    "$\\frac{180}{180+980}=\\frac{|AB|}{|B|}=P(A|B)$"
   ]
  },
  {
   "cell_type": "markdown",
   "id": "partial-preference",
   "metadata": {},
   "source": [
    "# 2 贝叶斯定理\n",
    "\n",
    "通过上面的分析知道了，条件给出的是P(B|A)，要求的是P(A|B)：\n",
    "\n",
    "<img src = \"img/b1.png\">"
   ]
  },
  {
   "cell_type": "markdown",
   "id": "physical-prefix",
   "metadata": {},
   "source": [
    "那这就是简单的乘法问题了：\n",
    "\n",
    "\n",
    "$\\begin{aligned}\n",
    "    P(B|A)\\cdot \\frac{P(A)}{P(B)}\n",
    "        &=\\frac{P(AB)}{P(A)}\\cdot \\frac{P(A)}{P(B)}\\\\\n",
    "        \\\\\n",
    "        &=\\frac{P(AB)}{P(B)}\\\\\n",
    "        \\\\\n",
    "        &=P(A|B)\n",
    "\\end{aligned}$\n",
    "\n"
   ]
  },
  {
   "cell_type": "markdown",
   "id": "durable-cedar",
   "metadata": {},
   "source": [
    "# 这就是$\\color{Salmon}{贝叶斯定理}：$"
   ]
  },
  {
   "cell_type": "markdown",
   "id": "nasty-caribbean",
   "metadata": {},
   "source": [
    "$对于同一样本空间\\Omega中的随机事件A、B，若P(B) \\ne 0，有：\n",
    "P(A|B)=\\frac{P(A)}{P(B)}P(B|A)$"
   ]
  },
  {
   "cell_type": "markdown",
   "id": "suitable-military",
   "metadata": {},
   "source": [
    "3 贝叶斯定理的解读\n",
    "\n",
    "$在诊断问题中，已知检测的正确率有90\\%，或者说确诊率为90\\%：$\n",
    "\n",
    "$ P(B|A)=90\\%$\n",
    "\n",
    "而求出来的“被诊断出有病了之后真的有病的概率”为：\n",
    "\n",
    "$P(A|B)\\approx 15.5\\%$\n",
    "\n",
    "$之前说过，差别这么大在于基本比率悬殊，也就是所有人中患者只占了2\\%，贝叶斯定理正好反映了这点：$\n",
    "\n",
    "<img src = \"img/b2.png\">\n",
    "\n",
    "$ P(A)、P(B)是关于所有人的概率：$\n",
    "\n",
    "$ P(A)=所有人患病的概率，\\quad P(B)=所有人检测显示有病的概率 $\n",
    "\n",
    "两者的比例就是所谓的基本比率。"
   ]
  },
  {
   "cell_type": "markdown",
   "id": "controversial-corpus",
   "metadata": {},
   "source": [
    "贝叶斯定理除了用于解读基本比例谬误以外，还有一种更常用的解释。先把贝叶斯定理变下形：\n",
    "\n",
    "$ P(A|B)=\\frac{P(B|A)}{P(B)}P(A)$\n",
    "\n",
    "还是之前的疾病检测问题，还是之前定义的两个事件：\n",
    "\n",
    "$ A=“患病的人”,\\quad B=“检测显示有病的人”$\n",
    "\n",
    "$一开始就知道人群中有2\\%的患病率，这个也称为\\color{Salmon}{先验概率}（大概就是最先就知道的意思），即：$\n",
    "\n",
    "$P(A)=2\\%$\n",
    "\n",
    "$如果只知道这个信息，那么你患病的概率也是2\\%。但有一天去体检，检查显示你有病，这个时候相当于出现了新的信息，或者说B条件出现了，可以通过贝叶斯定理对患病的概率进行调整：$\n",
    "\n",
    "<img src=\"img/b3.png\">"
   ]
  },
  {
   "cell_type": "markdown",
   "id": "second-trade",
   "metadata": {},
   "source": [
    "调整的结果当然是真正有病的概率急剧上升：\n",
    "\n",
    "\n",
    "\\begin{aligned}\n",
    "P(A|B)\n",
    "    &=\\frac{P(B|A)}{P(B)}P(A)\\\\\n",
    "    \\\\\n",
    "    &=\\frac{0.9}{0.02\\cdot 0.9+0.98\\cdot 0.1}\\times 0.02\\\\\n",
    "    \\\\\n",
    "    &\\approx 15.5\\%\n",
    "\\end{aligned}\n"
   ]
  },
  {
   "cell_type": "code",
   "execution_count": null,
   "id": "handmade-clarity",
   "metadata": {},
   "outputs": [],
   "source": []
  }
 ],
 "metadata": {
  "kernelspec": {
   "display_name": "Python 3",
   "language": "python",
   "name": "python3"
  },
  "language_info": {
   "codemirror_mode": {
    "name": "ipython",
    "version": 3
   },
   "file_extension": ".py",
   "mimetype": "text/x-python",
   "name": "python",
   "nbconvert_exporter": "python",
   "pygments_lexer": "ipython3",
   "version": "3.8.2"
  }
 },
 "nbformat": 4,
 "nbformat_minor": 5
}
