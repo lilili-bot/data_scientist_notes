{
 "cells": [
  {
   "cell_type": "code",
   "execution_count": 13,
   "id": "incorrect-revelation",
   "metadata": {},
   "outputs": [],
   "source": [
    "import numpy as np\n",
    "import scipy.stats as ss"
   ]
  },
  {
   "cell_type": "markdown",
   "id": "guilty-plenty",
   "metadata": {},
   "source": [
    "1.假定条件:\n",
    "有两类结果\n",
    "总体服从二项分布\n",
    "可用正态分布来近似\n",
    "\n",
    "${ \\Large z=\\frac{P-\\pi}{\\sqrt{\\frac{\\pi(1-\\pi)}{n}}}} ∼N(0,1)$\n",
    "\n",
    "其中:\n",
    "\n",
    "P为观察样本的比例\n",
    "\n",
    "π为假设的比例\n",
    "\n",
    "n为样本大小"
   ]
  },
  {
   "cell_type": "markdown",
   "id": "involved-bouquet",
   "metadata": {},
   "source": [
    "- 例1: \n",
    "\n",
    "一项统计结果声称，某市老年人口（年龄在65岁以上）的比重为14.7%,该市老年人口研究会为了检验该项统计是否可靠，随机抽选了400名居民，发现其中有57人年龄在65岁以上。调查结果是否支持该市老年人口比重为14.7%的看法？(α=0.05)\n",
    "\n",
    "1. 做出假设\n",
    "\n",
    "$H_0: π = 14.7$\n",
    "\n",
    "$H_1: π≠14.7%$\n",
    "\n",
    "2. 确定所需统计量\n",
    "\n",
    "n = 400\n",
    "pi = 14.7\n",
    "P = 57/400"
   ]
  },
  {
   "cell_type": "code",
   "execution_count": 10,
   "id": "printable-grill",
   "metadata": {},
   "outputs": [
    {
     "data": {
      "text/plain": [
       "-0.25416124340864343"
      ]
     },
     "execution_count": 10,
     "metadata": {},
     "output_type": "execute_result"
    }
   ],
   "source": [
    "n = 400\n",
    "pi = 0.147\n",
    "P = 57/400\n",
    "z = (P-pi)/(np.sqrt(pi*(1-pi)/n))\n",
    "z"
   ]
  },
  {
   "cell_type": "code",
   "execution_count": 16,
   "id": "confused-blair",
   "metadata": {},
   "outputs": [],
   "source": [
    "p = (1-ss.norm.cdf(z))*2"
   ]
  },
  {
   "cell_type": "code",
   "execution_count": 19,
   "id": "sophisticated-illness",
   "metadata": {},
   "outputs": [
    {
     "data": {
      "text/plain": [
       "True"
      ]
     },
     "execution_count": 19,
     "metadata": {},
     "output_type": "execute_result"
    }
   ],
   "source": [
    "p>0.5 # 接受原假设。"
   ]
  }
 ],
 "metadata": {
  "kernelspec": {
   "display_name": "Python 3",
   "language": "python",
   "name": "python3"
  },
  "language_info": {
   "codemirror_mode": {
    "name": "ipython",
    "version": 3
   },
   "file_extension": ".py",
   "mimetype": "text/x-python",
   "name": "python",
   "nbconvert_exporter": "python",
   "pygments_lexer": "ipython3",
   "version": "3.8.2"
  }
 },
 "nbformat": 4,
 "nbformat_minor": 5
}
