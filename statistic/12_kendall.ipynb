{
 "cells": [
  {
   "cell_type": "code",
   "execution_count": 1,
   "id": "willing-islam",
   "metadata": {},
   "outputs": [],
   "source": [
    "import numpy as np\n",
    "import scipy.stats as ss"
   ]
  },
  {
   "cell_type": "code",
   "execution_count": 2,
   "id": "practical-fortune",
   "metadata": {},
   "outputs": [],
   "source": [
    "x=np.array([2,5,1,3,4,1,5,3,4,2])\n",
    "y=np.array([50,57,41,54,54,38,63,48,59,46])"
   ]
  },
  {
   "cell_type": "markdown",
   "id": "fancy-pound",
   "metadata": {},
   "source": [
    "- Kendall相关系数\n",
    "\n",
    "Kendall相关分析测量变量x和y的秩次之间的对应关系。x与y观测值的可能配对的总数为n(n-1)/2，其中n是x和y的样本数大小.\n",
    "\n",
    "步骤如下：\n",
    "\n",
    "$首先通过x值对x和y进行排序。如果x和y相关，则它们将具有相同的相对秩次顺序。$\n",
    "$现在，对于每个y_i，计算y_j>y_i的数量（一致性对（c））和y_j<y_i的数量（不一致性对（d）)$\n",
    "      \n",
    "    肯德尔相关系数定义如下：\n",
    "\n",
    "$\\rho_{xy}=\\Large\\frac{n_c-n_d}{\\frac{1}{2}n(n-1)}$\n",
    "\n",
    "其中:\n",
    "- n_c ：一致对的总数\n",
    "\n",
    "- n_d：不一致对的总数\n",
    "\n",
    "- n：x和y的样本量大小\n",
    "\n",
    "1. 如果两个属性排名是相同的，系数为1 ，两个属性正相关。 \n",
    "2. 如果两个属性排名完全相反，系数为-1 ，两个属性负相关。 \n",
    "3. 如果排名是完全独立的，系数为0。"
   ]
  },
  {
   "cell_type": "code",
   "execution_count": 4,
   "id": "understood-amazon",
   "metadata": {},
   "outputs": [],
   "source": [
    "k, p = ss.kendalltau(x,y)"
   ]
  },
  {
   "cell_type": "code",
   "execution_count": 5,
   "id": "prescription-warrior",
   "metadata": {},
   "outputs": [
    {
     "data": {
      "text/plain": [
       "(0.8342797655898933, 0.0013415128250267967)"
      ]
     },
     "execution_count": 5,
     "metadata": {},
     "output_type": "execute_result"
    }
   ],
   "source": [
    "k, p"
   ]
  },
  {
   "cell_type": "markdown",
   "id": "focal-navigator",
   "metadata": {},
   "source": [
    "- 斯皮尔曼相关性系数，通常也叫斯皮尔曼秩相关系数。“秩”，可以理解成就是一种顺序或者排序，那么它就是根据 原始数据的排序位置进行求解，这种表征形式就没有了求皮尔森相关性系数时要求连续变量取值服从正态分布的限制。 X_1和X_2都是连续型数值变量，比如考察某班学生体重和肺活量之间的关系，如果数据具有正态性，此时首选Pearson相关系数，如果数据不服从正态分布，此时可选择Spearman和Kendall系数。\n",
    "\n",
    "- 从适用性来说，kendall > spearman > pearson ，在考察两两变量间相关关系时，应了解两变量的变量类型以及是 否有正态性，然后决定使用哪个系数。\n",
    "\n"
   ]
  },
  {
   "cell_type": "markdown",
   "id": "narrow-walnut",
   "metadata": {},
   "source": [
    "- $Pearson相关系数：r=\\rho_{XY}=\\Large \\frac{Cov(X,Y)}{\\sigma_X\\sigma_Y}$\n",
    "  - 只能对线性相关关系进行衡量\n",
    "  - 必须假设数据是成对地从正态分布中取得的\n",
    "  - 没有单位, 不受变量量平移伸缩的影响\n",
    "  - 线性关系≠因果关系\n",
    "  - scipy.stats.pearsonr(x,y)\n",
    "- $Spearman秩相关系数：\\rho_{xy}=1-\\Large\\frac{6\\sum{d_i^2}}{n(n_2-1)}$\n",
    "  - 非线性\n",
    "  - 无参数(与分布无关)检验方法\n",
    "  - scipy.stats.spearmanr(x,y)\n",
    "- Kendall相关系数：\n",
    "  - scipy.stats.kendalltau(x,y)"
   ]
  },
  {
   "cell_type": "code",
   "execution_count": null,
   "id": "informal-guidance",
   "metadata": {},
   "outputs": [],
   "source": []
  }
 ],
 "metadata": {
  "kernelspec": {
   "display_name": "Python 3",
   "language": "python",
   "name": "python3"
  },
  "language_info": {
   "codemirror_mode": {
    "name": "ipython",
    "version": 3
   },
   "file_extension": ".py",
   "mimetype": "text/x-python",
   "name": "python",
   "nbconvert_exporter": "python",
   "pygments_lexer": "ipython3",
   "version": "3.8.2"
  }
 },
 "nbformat": 4,
 "nbformat_minor": 5
}
