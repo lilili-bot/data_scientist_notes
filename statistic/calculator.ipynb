{
 "cells": [
  {
   "cell_type": "code",
   "execution_count": 1,
   "id": "controlling-sustainability",
   "metadata": {},
   "outputs": [],
   "source": [
    "import numpy as np\n",
    "import pandas as pd"
   ]
  },
  {
   "cell_type": "code",
   "execution_count": 22,
   "id": "related-internship",
   "metadata": {},
   "outputs": [],
   "source": [
    "p11 = 0.8\n",
    "p21 = 0.5\n",
    "p31 = 0.6\n",
    "v12=300\n",
    "v22 = 1000\n",
    "v32 = 600\n",
    "\n",
    "#########\n",
    "p211 = 0.2\n",
    "p221 = 0.5\n",
    "p231 = 0.4\n",
    "v212 = -150\n",
    "v222 = -400\n",
    "v232 = -50"
   ]
  },
  {
   "cell_type": "code",
   "execution_count": 23,
   "id": "decreased-orleans",
   "metadata": {},
   "outputs": [
    {
     "data": {
      "text/plain": [
       "210.0"
      ]
     },
     "execution_count": 23,
     "metadata": {},
     "output_type": "execute_result"
    }
   ],
   "source": [
    "p11*v12+p211*v212"
   ]
  },
  {
   "cell_type": "code",
   "execution_count": 24,
   "id": "familiar-colony",
   "metadata": {},
   "outputs": [
    {
     "data": {
      "text/plain": [
       "300.0"
      ]
     },
     "execution_count": 24,
     "metadata": {},
     "output_type": "execute_result"
    }
   ],
   "source": [
    "p21*v22+p221*v222"
   ]
  },
  {
   "cell_type": "code",
   "execution_count": 25,
   "id": "aggregate-pitch",
   "metadata": {},
   "outputs": [
    {
     "data": {
      "text/plain": [
       "340.0"
      ]
     },
     "execution_count": 25,
     "metadata": {},
     "output_type": "execute_result"
    }
   ],
   "source": [
    "p31*v32 + p231*v232"
   ]
  },
  {
   "cell_type": "code",
   "execution_count": 27,
   "id": "dynamic-serial",
   "metadata": {},
   "outputs": [],
   "source": [
    "mtr= np.matrix([[p11*v12, p211*v212],[p21*v22, p221*v222],[p31*v32,p231*v232]])"
   ]
  },
  {
   "cell_type": "code",
   "execution_count": 31,
   "id": "collected-anderson",
   "metadata": {},
   "outputs": [],
   "source": [
    "max_num1 = mtr[]"
   ]
  },
  {
   "cell_type": "code",
   "execution_count": 34,
   "id": "radical-chapel",
   "metadata": {},
   "outputs": [],
   "source": [
    "max_num2 = mtr.min()"
   ]
  },
  {
   "cell_type": "code",
   "execution_count": 35,
   "id": "intelligent-donor",
   "metadata": {},
   "outputs": [
    {
     "data": {
      "text/plain": [
       "(500.0, -200.0)"
      ]
     },
     "execution_count": 35,
     "metadata": {},
     "output_type": "execute_result"
    }
   ],
   "source": [
    "max_num, min_num"
   ]
  },
  {
   "cell_type": "code",
   "execution_count": 28,
   "id": "emerging-parliament",
   "metadata": {},
   "outputs": [
    {
     "data": {
      "text/plain": [
       "matrix([[ 240.,  -30.],\n",
       "        [ 500., -200.],\n",
       "        [ 360.,  -20.]])"
      ]
     },
     "execution_count": 28,
     "metadata": {},
     "output_type": "execute_result"
    }
   ],
   "source": [
    "mtr"
   ]
  },
  {
   "cell_type": "code",
   "execution_count": 2,
   "id": "european-chemical",
   "metadata": {},
   "outputs": [],
   "source": [
    "e11 = -0.78\n",
    "e12 = -0.62"
   ]
  },
  {
   "cell_type": "code",
   "execution_count": 68,
   "id": "embedded-steel",
   "metadata": {},
   "outputs": [
    {
     "data": {
      "text/plain": [
       "(5, 2)"
      ]
     },
     "execution_count": 68,
     "metadata": {},
     "output_type": "execute_result"
    }
   ],
   "source": [
    "a = np.matrix([[5.4,4.4],[-2.6,-1.6],[-3.6,-2.6],[2.4,1.9],[-1.6,-2.1]])\n",
    "a.shape"
   ]
  },
  {
   "cell_type": "code",
   "execution_count": 69,
   "id": "united-settlement",
   "metadata": {},
   "outputs": [
    {
     "data": {
      "text/plain": [
       "(2, 1)"
      ]
     },
     "execution_count": 69,
     "metadata": {},
     "output_type": "execute_result"
    }
   ],
   "source": [
    "e = np.matrix([e11,e12]).T\n",
    "e.shape"
   ]
  },
  {
   "cell_type": "code",
   "execution_count": 73,
   "id": "american-cartridge",
   "metadata": {},
   "outputs": [
    {
     "data": {
      "text/plain": [
       "matrix([[ 5.4,  4.4],\n",
       "        [-2.6, -1.6],\n",
       "        [-3.6, -2.6],\n",
       "        [ 2.4,  1.9],\n",
       "        [-1.6, -2.1]])"
      ]
     },
     "execution_count": 73,
     "metadata": {},
     "output_type": "execute_result"
    }
   ],
   "source": [
    "a"
   ]
  },
  {
   "cell_type": "code",
   "execution_count": 74,
   "id": "shaped-circle",
   "metadata": {},
   "outputs": [
    {
     "data": {
      "text/plain": [
       "matrix([[-0.78],\n",
       "        [-0.62]])"
      ]
     },
     "execution_count": 74,
     "metadata": {},
     "output_type": "execute_result"
    }
   ],
   "source": [
    "e"
   ]
  },
  {
   "cell_type": "code",
   "execution_count": 71,
   "id": "imperial-tension",
   "metadata": {},
   "outputs": [],
   "source": [
    "result = a.dot(e)"
   ]
  },
  {
   "cell_type": "code",
   "execution_count": 72,
   "id": "registered-story",
   "metadata": {},
   "outputs": [
    {
     "data": {
      "text/plain": [
       "18.525080000000003"
      ]
     },
     "execution_count": 72,
     "metadata": {},
     "output_type": "execute_result"
    }
   ],
   "source": [
    "np.var(result)"
   ]
  },
  {
   "cell_type": "markdown",
   "id": "boring-seafood",
   "metadata": {},
   "source": [
    "# b minimax\n",
    "alternative c\n",
    "# c maximax  \n",
    "alternative b \n",
    "# d minimum-regret-reget\n",
    "alternative \n",
    "# e Hurwicz-Prinzip(70%)"
   ]
  }
 ],
 "metadata": {
  "kernelspec": {
   "display_name": "Python 3",
   "language": "python",
   "name": "python3"
  },
  "language_info": {
   "codemirror_mode": {
    "name": "ipython",
    "version": 3
   },
   "file_extension": ".py",
   "mimetype": "text/x-python",
   "name": "python",
   "nbconvert_exporter": "python",
   "pygments_lexer": "ipython3",
   "version": "3.8.2"
  }
 },
 "nbformat": 4,
 "nbformat_minor": 5
}
