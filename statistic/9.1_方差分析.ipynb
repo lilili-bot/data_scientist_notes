{
 "cells": [
  {
   "cell_type": "code",
   "execution_count": 3,
   "id": "bored-meaning",
   "metadata": {},
   "outputs": [],
   "source": [
    "import numpy as np\n",
    "import pandas as pd\n",
    "import scipy.stats as ss"
   ]
  },
  {
   "cell_type": "markdown",
   "id": "guided-southwest",
   "metadata": {},
   "source": [
    "## 目标: 用来判断由一个名义变量分割的多个总体的均值是不是相等\n",
    "  - 方差分析(analysis of variance)，简写为ANOVA，指的是利用对多个样本的方差的分析，得出总体均值是否相等的判定\n",
    "  \n",
    "1.假定条件\n",
    "  - 每个样本的值服从正态分布\n",
    "  - 每个样本的方差$\\sigma^2$相同\n",
    "  - 每个样本中的个体相互独立\n",
    "2.统计量—F值\n",
    "<img src=\"img/f.png\">\n",
    "<img src=\"img/f1.png\">\n",
    " - 误差平方和SSE\n",
    " - 组间平方和SSB\n",
    " - 自由度\n",
    "   - 分子:k-1\n",
    "   - 分母:n-k\n",
    "3. 案例\n",
    "<img src=\"img/f2.png\">"
   ]
  },
  {
   "cell_type": "code",
   "execution_count": 4,
   "id": "japanese-botswana",
   "metadata": {},
   "outputs": [
    {
     "data": {
      "text/html": [
       "<div>\n",
       "<style scoped>\n",
       "    .dataframe tbody tr th:only-of-type {\n",
       "        vertical-align: middle;\n",
       "    }\n",
       "\n",
       "    .dataframe tbody tr th {\n",
       "        vertical-align: top;\n",
       "    }\n",
       "\n",
       "    .dataframe thead th {\n",
       "        text-align: right;\n",
       "    }\n",
       "</style>\n",
       "<table border=\"1\" class=\"dataframe\">\n",
       "  <thead>\n",
       "    <tr style=\"text-align: right;\">\n",
       "      <th></th>\n",
       "      <th>x</th>\n",
       "    </tr>\n",
       "    <tr>\n",
       "      <th>age</th>\n",
       "      <th></th>\n",
       "    </tr>\n",
       "  </thead>\n",
       "  <tbody>\n",
       "    <tr>\n",
       "      <th>5</th>\n",
       "      <td>4.2</td>\n",
       "    </tr>\n",
       "    <tr>\n",
       "      <th>8</th>\n",
       "      <td>3.8</td>\n",
       "    </tr>\n",
       "    <tr>\n",
       "      <th>12</th>\n",
       "      <td>2.4</td>\n",
       "    </tr>\n",
       "  </tbody>\n",
       "</table>\n",
       "</div>"
      ],
      "text/plain": [
       "       x\n",
       "age     \n",
       "5    4.2\n",
       "8    3.8\n",
       "12   2.4"
      ]
     },
     "execution_count": 4,
     "metadata": {},
     "output_type": "execute_result"
    }
   ],
   "source": [
    "# 1. 计算各组的均值\n",
    "x=np.array([5,5,4,4,3,5,4,4,3,3,4,3,2,2,1])\n",
    "age=np.array([5,5,5,5,5,8,8,8,8,8,12,12,12,12,12])\n",
    "df = pd.DataFrame({\"age\":age, \"x\":x},dtype=int)\n",
    "df_group = df.groupby([\"age\"],as_index=True).mean()\n",
    "df_group"
   ]
  },
  {
   "cell_type": "code",
   "execution_count": 28,
   "id": "north-cocktail",
   "metadata": {},
   "outputs": [
    {
     "data": {
      "text/plain": [
       "3.466666666666667"
      ]
     },
     "execution_count": 28,
     "metadata": {},
     "output_type": "execute_result"
    }
   ],
   "source": [
    "# 2. 计算总体均值\n",
    "means = df[\"x\"].mean()"
   ]
  },
  {
   "cell_type": "markdown",
   "id": "stuffed-edwards",
   "metadata": {},
   "source": [
    "$∑\n",
    "​i=1\n",
    "​k\n",
    "​​ ∑\n",
    "​j=1\n",
    "​n\n",
    "​i\n",
    "​​ \n",
    "​​ (X\n",
    "​ij\n",
    "​​ −\n",
    "​X\n",
    "​i\n",
    "​​ \n",
    "​¯\n",
    "​​ )\n",
    "​2\n",
    "​​ $"
   ]
  },
  {
   "cell_type": "code",
   "execution_count": 109,
   "id": "verbal-dryer",
   "metadata": {},
   "outputs": [],
   "source": [
    "# 3. 计算误差平方和SSe, 这部分是每组内部的差异，即是不可解释的差异。\n",
    "SSE_5 = np.sum(np.square((df.loc[df[\"age\"]==5,'x']-df_group.loc[5,'x'])))\n",
    "SSE_8 = np.sum(np.square((df.loc[df[\"age\"]==8,'x']-df_group.loc[8,'x'])))\n",
    "SSE_12 = np.sum(np.square((df.loc[df[\"age\"]==12,'x']-df_group.loc[12,'x'])))"
   ]
  },
  {
   "cell_type": "code",
   "execution_count": 110,
   "id": "editorial-james",
   "metadata": {},
   "outputs": [
    {
     "data": {
      "text/plain": [
       "10.8"
      ]
     },
     "execution_count": 110,
     "metadata": {},
     "output_type": "execute_result"
    }
   ],
   "source": [
    "SSE = SSE_12+SSE_5+SSE_8\n",
    "SSE"
   ]
  },
  {
   "cell_type": "markdown",
   "id": "micro-madison",
   "metadata": {},
   "source": [
    "4. 计算组间平方和SSb，这部分是组间的，因此是可以解释的差异。\n",
    "$\\sum_{i=1}^{k}{n_i(\\bar{X_{i}}-\\bar{X})^2}$"
   ]
  },
  {
   "cell_type": "code",
   "execution_count": 113,
   "id": "solved-russell",
   "metadata": {},
   "outputs": [
    {
     "data": {
      "text/plain": [
       "8.933333333333335"
      ]
     },
     "execution_count": 113,
     "metadata": {},
     "output_type": "execute_result"
    }
   ],
   "source": [
    "SSB_5= 5 *(df_group.loc[5,'x']-means)**2\n",
    "SSB_8= 5 *(df_group.loc[8,'x']-means)**2\n",
    "SSB_12= 5 *(df_group.loc[12,'x']-means)**2\n",
    "SSB = SSB_12+SSB_5+SSB_8\n",
    "SSB"
   ]
  },
  {
   "cell_type": "code",
   "execution_count": 120,
   "id": "existing-oxygen",
   "metadata": {},
   "outputs": [],
   "source": [
    "# 5. 计算均方误MSe,自由度n-k\n",
    "k = 3\n",
    "n = df.shape[0]\n",
    "df1 = k-1\n",
    "df2 = n-k\n",
    "MSe = SSE/df2\n",
    "# 6. 计算组间均方MSb,自由度 k-1 \n",
    "MSb = SSB/df1"
   ]
  },
  {
   "cell_type": "code",
   "execution_count": 117,
   "id": "taken-flashing",
   "metadata": {},
   "outputs": [
    {
     "data": {
      "text/plain": [
       "(0.9, 4.466666666666668)"
      ]
     },
     "execution_count": 117,
     "metadata": {},
     "output_type": "execute_result"
    }
   ],
   "source": [
    "MSe, MSb"
   ]
  },
  {
   "cell_type": "code",
   "execution_count": 121,
   "id": "vanilla-individual",
   "metadata": {},
   "outputs": [],
   "source": [
    "# 7. 计算F， \n",
    "F = MSb/MSe"
   ]
  },
  {
   "cell_type": "code",
   "execution_count": 124,
   "id": "unnecessary-three",
   "metadata": {},
   "outputs": [
    {
     "data": {
      "text/plain": [
       "0.026874464601159942"
      ]
     },
     "execution_count": 124,
     "metadata": {},
     "output_type": "execute_result"
    }
   ],
   "source": [
    "# 8. 得到p值\n",
    "p = 1- ss.f.cdf(F, df1,df2)\n",
    "p # p<0.05 Reject H0. "
   ]
  },
  {
   "cell_type": "markdown",
   "id": "physical-proof",
   "metadata": {},
   "source": [
    "- scipy实现:\n",
    "\n",
    "api:scipy.stats.f_oneway(*args):\n",
    "\n",
    "- 参数:sample1, sample2, ... : array_like\n",
    "\n",
    "- 返回值:\n",
    "  - tstats:统计量值\n",
    "  - pvalue:p值"
   ]
  },
  {
   "cell_type": "code",
   "execution_count": 126,
   "id": "limited-alcohol",
   "metadata": {},
   "outputs": [],
   "source": [
    "#数据分组\n",
    "df5=df[df['age']==5]['x']\n",
    "df8=df[df['age']==8]['x']\n",
    "df12=df[df['age']==12]['x']"
   ]
  },
  {
   "cell_type": "code",
   "execution_count": 127,
   "id": "ordered-arkansas",
   "metadata": {},
   "outputs": [
    {
     "data": {
      "text/plain": [
       "(4.962962962962963, 0.026874464601159935)"
      ]
     },
     "execution_count": 127,
     "metadata": {},
     "output_type": "execute_result"
    }
   ],
   "source": [
    "#方差分析\n",
    "f,p=ss.f_oneway(df5,df8,df12)\n",
    "f,p"
   ]
  },
  {
   "cell_type": "markdown",
   "id": "portable-yemen",
   "metadata": {},
   "source": [
    "- statsmodels实现:\n",
    "\n",
    "能够输出方差分析表,更优雅"
   ]
  },
  {
   "cell_type": "code",
   "execution_count": 130,
   "id": "fourth-kinase",
   "metadata": {},
   "outputs": [
    {
     "data": {
      "text/html": [
       "<div>\n",
       "<style scoped>\n",
       "    .dataframe tbody tr th:only-of-type {\n",
       "        vertical-align: middle;\n",
       "    }\n",
       "\n",
       "    .dataframe tbody tr th {\n",
       "        vertical-align: top;\n",
       "    }\n",
       "\n",
       "    .dataframe thead th {\n",
       "        text-align: right;\n",
       "    }\n",
       "</style>\n",
       "<table border=\"1\" class=\"dataframe\">\n",
       "  <thead>\n",
       "    <tr style=\"text-align: right;\">\n",
       "      <th></th>\n",
       "      <th>df</th>\n",
       "      <th>sum_sq</th>\n",
       "      <th>mean_sq</th>\n",
       "      <th>F</th>\n",
       "      <th>PR(&gt;F)</th>\n",
       "    </tr>\n",
       "  </thead>\n",
       "  <tbody>\n",
       "    <tr>\n",
       "      <th>age</th>\n",
       "      <td>2.0</td>\n",
       "      <td>8.933333</td>\n",
       "      <td>4.466667</td>\n",
       "      <td>4.962963</td>\n",
       "      <td>0.026874</td>\n",
       "    </tr>\n",
       "    <tr>\n",
       "      <th>Residual</th>\n",
       "      <td>12.0</td>\n",
       "      <td>10.800000</td>\n",
       "      <td>0.900000</td>\n",
       "      <td>NaN</td>\n",
       "      <td>NaN</td>\n",
       "    </tr>\n",
       "  </tbody>\n",
       "</table>\n",
       "</div>"
      ],
      "text/plain": [
       "            df     sum_sq   mean_sq         F    PR(>F)\n",
       "age        2.0   8.933333  4.466667  4.962963  0.026874\n",
       "Residual  12.0  10.800000  0.900000       NaN       NaN"
      ]
     },
     "execution_count": 130,
     "metadata": {},
     "output_type": "execute_result"
    }
   ],
   "source": [
    "#statsmodels实现\n",
    "from statsmodels.formula.api import ols\n",
    "from statsmodels.stats.anova import anova_lm\n",
    "#分组字段必须是字符串类型\n",
    "df.loc[:,'age']=df['age'].astype(np.str_)\n",
    "#最小二乘法拟合\n",
    "model = ols('x ~ age',df).fit()\n",
    "#到处方差分析结果\n",
    "anovat = anova_lm(model)\n",
    "anovat"
   ]
  },
  {
   "cell_type": "raw",
   "id": "healthy-association",
   "metadata": {},
   "source": [
    "# age_mean_sq 即使组间差异，能解释的差异，即ssb,msb。\n",
    "# residual 就是均方误差，各个组与自身均值的差异，为不可解释的差异。\n",
    "# F值，是两者的比值。\n",
    "# pr（>F）默认是右侧检验，0.026874为p值。"
   ]
  },
  {
   "cell_type": "markdown",
   "id": "architectural-graph",
   "metadata": {},
   "source": [
    "- 4. 事后检验\n",
    "在判定组均值之间有显著差异后,仍有一些问题悬而未决.这个结果只能表明至少有两个组之间的均值有显著差异,但没有说明究竟哪几个组均值显著不同.我们必须进行事后检验\n",
    "\n",
    "Tukey HSDTukeyHSD—TukeyTukey检验\n",
    "\n",
    "<img src = \"img/after_test1.png\">\n",
    "\n",
    "查询对应的统计量(t分布)表来判定两个组均值是否显著差异\n",
    "\n",
    "<img src = \"img/at2.png\">\n",
    "<img src = \"img/at3.png\">\n",
    "<img src = \"img/at4.png\">"
   ]
  },
  {
   "cell_type": "code",
   "execution_count": 5,
   "id": "secure-graduation",
   "metadata": {},
   "outputs": [
    {
     "name": "stdout",
     "output_type": "stream",
     "text": [
      "Multiple Comparison of Means - Tukey HSD, FWER=0.05 \n",
      "====================================================\n",
      "group1 group2 meandiff p-adj   lower   upper  reject\n",
      "----------------------------------------------------\n",
      "     5      8     -0.4 0.7758 -1.9999  1.1999  False\n",
      "     5     12     -1.8 0.0276 -3.3999 -0.2001   True\n",
      "     8     12     -1.4  0.089 -2.9999  0.1999  False\n",
      "----------------------------------------------------\n"
     ]
    }
   ],
   "source": [
    "from statsmodels.stats.multicomp import MultiComparison\n",
    "mc = MultiComparison(df['x'],df['age'])\n",
    "tukey_result = mc.tukeyhsd(alpha = 0.05)\n",
    "print(tukey_result)"
   ]
  },
  {
   "cell_type": "markdown",
   "id": "distinct-disco",
   "metadata": {},
   "source": [
    "5. 总结\n",
    "\n",
    "- 单因子方差分析:用来判断由一个名义变量分割的多个总体的均值是不是相等\n",
    "- 统计量:\n",
    "$\\Large F=\\frac{MS_b}{MS_e}$\n",
    "- 意义是分组变量解释的误差/不可解释误差 的比例,该值越大,说明分组变量影响越大\n",
    "  - SST:总误差\n",
    "  - SSB:组间误差(分组变量可解释的误差)\n",
    "  - SSE:残差(不可解释的误差)\n",
    "- api:\n",
    "  - scipy: scipy.stats.f_oneway(*args)\n",
    "  - statsmodels:\n",
    "  - ols('x ~ age',data).fit()最小二乘拟合\n",
    "  - anova_lm(model)输出方差分析表\n",
    "- 事后检验:\n",
    "  - 作用:找出有差异的组"
   ]
  },
  {
   "cell_type": "code",
   "execution_count": null,
   "id": "convenient-profit",
   "metadata": {},
   "outputs": [],
   "source": []
  }
 ],
 "metadata": {
  "kernelspec": {
   "display_name": "Python 3",
   "language": "python",
   "name": "python3"
  },
  "language_info": {
   "codemirror_mode": {
    "name": "ipython",
    "version": 3
   },
   "file_extension": ".py",
   "mimetype": "text/x-python",
   "name": "python",
   "nbconvert_exporter": "python",
   "pygments_lexer": "ipython3",
   "version": "3.8.2"
  }
 },
 "nbformat": 4,
 "nbformat_minor": 5
}
