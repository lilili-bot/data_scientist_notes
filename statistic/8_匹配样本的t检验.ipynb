{
 "cells": [
  {
   "cell_type": "code",
   "execution_count": 1,
   "id": "rough-independence",
   "metadata": {},
   "outputs": [],
   "source": [
    "import scipy.stats as ss\n",
    "import numpy as np"
   ]
  },
  {
   "cell_type": "markdown",
   "id": "infectious-pakistan",
   "metadata": {},
   "source": [
    "# 匹配样本t检验\n",
    "## 1.假定条件\n",
    "- 两个总体都服从正态分布\n",
    "- 配对样本t检验的适用情况\n",
    "\n",
    " 1. 同一研究对象给予处理前、后比较；\n",
    " 2. 同一研究对象给予不同处理比较；\n",
    " 3. 不同研究对象配对后，随机接受不同处理比较。\n",
    " \n",
    "## 2. 假设形式\n",
    "<img src = \"img/matching_t1.png\">\n",
    "<img src = \"img/matchingt_2.png\">\n",
    "\n",
    "## 3. \n",
    "<img src = \"img/matchingt3.png\">\n",
    "- 例：\n",
    "某研究使用克矽平治疗矽肺病患者10名，分别测得治疗前、后患者的血红蛋白含量（g/dL），数据如下。试问该药对矽肺患者的血红蛋白含量有无影响？"
   ]
  },
  {
   "cell_type": "markdown",
   "id": "resistant-circumstances",
   "metadata": {},
   "source": [
    "## 4.案例：\n",
    "一个以减肥为主要目标的健美俱乐部声称，参加其训练班至少可以使减肥者平均体重减重8.5kg以上。为了验证该宣称是否可信，调查人员随机抽取了10名参加者，得到他们的体重记录如下表：\n",
    "<img src = \"img/matching6.png\">\n",
    "\n",
    "<img src = \"img/matching7.png\">\n",
    "<img src = \"img/matching8.png\">"
   ]
  },
  {
   "cell_type": "code",
   "execution_count": 5,
   "id": "academic-berlin",
   "metadata": {},
   "outputs": [
    {
     "data": {
      "text/plain": [
       "KstestResult(statistic=0.9999999999999681, pvalue=2.157502268840844e-135)"
      ]
     },
     "execution_count": 5,
     "metadata": {},
     "output_type": "execute_result"
    }
   ],
   "source": [
    "# 1. 理解题意，对比减肥前和减肥后，同一组数据的变化。t分布，但是参数是每一组数据的差值的均值和标准差。\n",
    "# 2. 提出假设 h0: mu_d>8.5, h1 mu_d <= 8.5\n",
    "# 3. 正态检验\n",
    "x_before=np.array([94.5,101,110,103.5,97,88.5,96.5,101,104,116.5])\n",
    "x_after= np.array([85,89.5,101.5,96,86,80.5,87,93.5,93,102])\n",
    "d = x_before-x_after\n",
    "ss.kstest(d,\"norm\") # 不是正态分布。\n",
    "# 4. 确定显著水平 0.05"
   ]
  },
  {
   "cell_type": "code",
   "execution_count": 17,
   "id": "magnetic-satisfaction",
   "metadata": {},
   "outputs": [
    {
     "data": {
      "text/plain": [
       "(0.9579310672693371, 1.9412686153326015)"
      ]
     },
     "execution_count": 17,
     "metadata": {},
     "output_type": "execute_result"
    }
   ],
   "source": [
    "# 5. 计算统计量\n",
    "n_d = len(d)\n",
    "S_d = np.std(d,ddof=1)\n",
    "mean_d = np.sum(d)/n_d\n",
    "D0 = 8.5\n",
    "t =(mean_d-D0)/(S_d/np.sqrt(n_d))\n",
    "p = ss.t.cdf(t, df=n_d-1)\n",
    "p,t"
   ]
  },
  {
   "cell_type": "code",
   "execution_count": 18,
   "id": "eleven-amateur",
   "metadata": {},
   "outputs": [
    {
     "data": {
      "text/plain": [
       "True"
      ]
     },
     "execution_count": 18,
     "metadata": {},
     "output_type": "execute_result"
    }
   ],
   "source": [
    "# 6. 做出决策\n",
    "p>0.05 # 不拒绝原假设"
   ]
  },
  {
   "cell_type": "markdown",
   "id": "structured-suicide",
   "metadata": {},
   "source": [
    "## 使用api:\n",
    "匹配样本t检验api: scipy.stats.ttest_rel(a,b)\n",
    "\n",
    "- 参数:\n",
    "  - a`:数组，样本1的数据值\n",
    "  - b:数组，样本2的数据值\n",
    "- 返回值:\n",
    "  - tstats:统计量值\n",
    "  - pvalue:p值\n",
    "  \n",
    "### ttest_rel默认输出的是双尾p值,单侧检验是需要进行再次计算\n",
    "\n",
    "- 左侧检验:\n",
    "  - t>0:1-p/2\n",
    "  - t<0:p/2\n",
    "- 右侧检验:\n",
    "  - t>0:p/2\n",
    "  - t<0:1-p/2\n",
    "- ttest_rel默认的均值差异目标为0,当检验均值差异不为0时,需要在均值大的一方减去差异或者小的一方加上差异"
   ]
  },
  {
   "cell_type": "code",
   "execution_count": 21,
   "id": "invalid-vector",
   "metadata": {},
   "outputs": [],
   "source": [
    "# 使用api\n",
    "t, p = ss.ttest_rel(x_before, x_after+D0)"
   ]
  },
  {
   "cell_type": "code",
   "execution_count": 23,
   "id": "vanilla-wyoming",
   "metadata": {},
   "outputs": [
    {
     "data": {
      "text/plain": [
       "0.9579310672693371"
      ]
     },
     "execution_count": 23,
     "metadata": {},
     "output_type": "execute_result"
    }
   ],
   "source": [
    "# 因为是左侧检验\n",
    "p_left = 1-p/2\n",
    "p_left"
   ]
  },
  {
   "cell_type": "code",
   "execution_count": null,
   "id": "pleasant-slovakia",
   "metadata": {},
   "outputs": [],
   "source": [
    "# 结果和手动算出来的一样。"
   ]
  },
  {
   "cell_type": "raw",
   "id": "outstanding-squad",
   "metadata": {},
   "source": [
    "匹配样本t检验:\n",
    "计算差值\n",
    "计算t统计量\n",
    "计算p值\n",
    "做出决策\n",
    "api:scipy.stats.ttest_rel(a,b)\n",
    "ttest_rel默认输出的是双尾p值\n",
    "ttest_rel默认的均值差异目标为0"
   ]
  }
 ],
 "metadata": {
  "kernelspec": {
   "display_name": "Python 3",
   "language": "python",
   "name": "python3"
  },
  "language_info": {
   "codemirror_mode": {
    "name": "ipython",
    "version": 3
   },
   "file_extension": ".py",
   "mimetype": "text/x-python",
   "name": "python",
   "nbconvert_exporter": "python",
   "pygments_lexer": "ipython3",
   "version": "3.8.2"
  }
 },
 "nbformat": 4,
 "nbformat_minor": 5
}
