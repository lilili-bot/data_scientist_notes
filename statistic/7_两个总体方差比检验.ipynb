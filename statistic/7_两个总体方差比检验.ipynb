{
 "cells": [
  {
   "cell_type": "code",
   "execution_count": 1,
   "id": "minute-poison",
   "metadata": {},
   "outputs": [],
   "source": [
    "import numpy as np\n",
    "import scipy.stats as ss"
   ]
  },
  {
   "cell_type": "markdown",
   "id": "contrary-lemon",
   "metadata": {},
   "source": [
    "# 两个总体方差比的检验-F检验\n",
    "- 假定条件\n",
    "  - 两个综合体都服从正态分布，且方差相等\n",
    "  - 两个独立的随机样本\n",
    "- 提出假设\n",
    "<img src = \"img/stdcompare1.png\">\n",
    "- 统计量\n",
    "$F=S^2_1/S2_2 ∼ F(n1-1, n2 -1)$\n",
    "- 计算并做出决策\n",
    "<img src = \"img/stdcompare2.png\">"
   ]
  },
  {
   "cell_type": "markdown",
   "id": "treated-strip",
   "metadata": {},
   "source": [
    "- 2.案例： \n",
    "我们现收集了30名25岁个体的月收入，标准差为2.5千元; 收集了40名35岁个体的月收入，标准差为4.2千元。问能够推断25岁人群月收入的波动小于35岁人群月收入的波动吗?"
   ]
  },
  {
   "cell_type": "code",
   "execution_count": 2,
   "id": "immediate-stationery",
   "metadata": {},
   "outputs": [],
   "source": [
    "# 没有数据，因此只步骤分析。\n",
    "# 1. 分析题意：对比两组收入的方差大小，数据波动大小。\n",
    "# 2. 提出假设 h0 S1 >=S2 h1 S1<S2\n",
    "# 3. 正态检验\n",
    "# 4. 方差检验\n",
    "# api: scipy.stats.levene(a,b)"
   ]
  },
  {
   "cell_type": "markdown",
   "id": "dirty-medium",
   "metadata": {
    "tags": []
   },
   "source": [
    "- scipy实现\n",
    "\n",
    "  - api: scipy.stats.levene(a,b)\n",
    "\n",
    "  - 参数:\n",
    "    - a`:数组，样本1的数据值\n",
    "    - b:数组，样本2的数据值\n",
    "   - 返回值:\n",
    "        - tstats:统计量值\n",
    "        - pvalue:p值"
   ]
  },
  {
   "cell_type": "raw",
   "id": "transsexual-ideal",
   "metadata": {},
   "source": [
    "两总体方差相等也称两总体具有方差齐性，因此两个总体方差比检验也叫方差齐次检验"
   ]
  }
 ],
 "metadata": {
  "kernelspec": {
   "display_name": "Python 3",
   "language": "python",
   "name": "python3"
  },
  "language_info": {
   "codemirror_mode": {
    "name": "ipython",
    "version": 3
   },
   "file_extension": ".py",
   "mimetype": "text/x-python",
   "name": "python",
   "nbconvert_exporter": "python",
   "pygments_lexer": "ipython3",
   "version": "3.8.2"
  }
 },
 "nbformat": 4,
 "nbformat_minor": 5
}
