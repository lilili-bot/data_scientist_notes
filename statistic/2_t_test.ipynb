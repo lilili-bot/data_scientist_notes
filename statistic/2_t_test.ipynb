{
 "cells": [
  {
   "cell_type": "code",
   "execution_count": 1,
   "id": "brave-solomon",
   "metadata": {},
   "outputs": [],
   "source": [
    "import numpy as np\n",
    "import scipy.stats as ss\n",
    "import statsmodels.stats as sm"
   ]
  },
  {
   "cell_type": "code",
   "execution_count": 26,
   "id": "competent-protocol",
   "metadata": {},
   "outputs": [],
   "source": [
    "def t_test(mean, mu, sigma, n, typ):\n",
    "    '''\n",
    "    1. this functions has 5 parameters. According to Z test formula. \n",
    "    mean 样本均值\n",
    "    mu 总体均值\n",
    "    sigma 总体标准\n",
    "    S为样本的标准差\n",
    "    n 样本大小\n",
    "    2. when typ is 1, p is one side.\n",
    "    3. when typ is left, p is two sides.\n",
    "    4. else, 为右侧单边检验。\n",
    "    '''\n",
    "    # 计算z统计量. 分子其实就是标准误， z统计量，就是标准分。\n",
    "    t = (mean-mu)/(sigma/np.sqrt(n)) \n",
    "    if typ == 2:\n",
    "        # 求出z的概率\n",
    "        # 1. 因为目的是检验样本的均值与总体的均值是否相等 = 。 因此使用双边检验。要先使用1-cdf，并且✖️2.\n",
    "        p = (1-ss.t.cdf(np.abs(t), df = n-1))*2\n",
    "    elif typ == \"left\":\n",
    "        # 2. 如果要检验样本均值是否 < 或 > 总体均值，则需要单边p。\n",
    "        p = ss.t.cdf(t,df = n-1)\n",
    "    else:\n",
    "        p = 1 - ss.t.cdf(t,df = n-1)\n",
    "    return p"
   ]
  },
  {
   "cell_type": "markdown",
   "id": "lightweight-raleigh",
   "metadata": {},
   "source": [
    "## 2.3 $\\sigma^2$ 未知小样本\n",
    "\n",
    "- 假定条件\n",
    "  - 总体不一定服从正态分布——样本均值也可能不服从正态分布\n",
    "  - $\\sigma^2$未知小样本—样本均值极有可能不服从正态分布\n",
    "  \n",
    "### 那服从什么分布?\n",
    "——t分布\n",
    "\n",
    "注意:\n",
    "\n",
    "t分布跟样本容量大小(n)有关\n",
    "\n",
    "t分布在样本容量较大时近似正态分布\n",
    "\n",
    "\n",
    "因此,这个时候应该使用t统计量,也就是t检验\n",
    "\n",
    "${ \\Large t=\\frac{\\bar{X}-\\mu}{S/\\sqrt{n}} \\backsim t(n-1)}$\n",
    "\n"
   ]
  },
  {
   "cell_type": "markdown",
   "id": "prostate-situation",
   "metadata": {},
   "source": [
    "- 例4:\n",
    "\n",
    "某机器制造出的肥皂厚度为5cm,今欲了解机器性能是否良好，随机抽取10块肥皂为样本，测得平均厚度为5.3cm,标准差为0.3cm,试以0.05的显著水平检验机器性能良好的假设."
   ]
  },
  {
   "cell_type": "markdown",
   "id": "steady-liabilities",
   "metadata": {},
   "source": [
    "做出假设:\n",
    "\n",
    "$H_0:μ=5$ # 双边检验\n",
    "\n",
    "$H_1:μ≠5$\n",
    "\n",
    "确定统计量:\n",
    "\n",
    "$df=n-1=10-1=9$\n",
    "\n",
    "$使用{ \\Large t=\\frac{\\bar{X}-\\mu}{S/\\sqrt{n}}}$\n",
    "\n",
    "规定显著性水平:\n",
    "\n",
    "α=0.05"
   ]
  },
  {
   "cell_type": "code",
   "execution_count": 20,
   "id": "acting-squad",
   "metadata": {},
   "outputs": [
    {
     "data": {
      "text/plain": [
       "0.011507985165943646"
      ]
     },
     "execution_count": 20,
     "metadata": {},
     "output_type": "execute_result"
    }
   ],
   "source": [
    "mu = 5\n",
    "n = 10 #df = n-1\n",
    "S = 0.3\n",
    "mean = 5.3\n",
    "t_test(mean, mu,S, n, typ=2)"
   ]
  },
  {
   "cell_type": "code",
   "execution_count": 7,
   "id": "sustainable-protest",
   "metadata": {},
   "outputs": [],
   "source": [
    "# p < α, 拒绝原假设，即机器性能不好。"
   ]
  },
  {
   "cell_type": "markdown",
   "id": "sporting-corpus",
   "metadata": {},
   "source": [
    "- 例5:\n",
    "\n",
    "一个汽车轮胎制造商声称，某一等级的轮胎的平均寿命在一定的汽车重量和正常行驶条件下大于40000公里,对一个由20个轮胎组成的随机样本作了试验，测得平均值为41000公里，标准差为5000公里。已知轮胎寿命的公里数服从正态分布，我们能否根据这些数据作出结论，该制造商的产品同他所说的标准相符？(α=0.05)\n",
    "\n",
    "1. 提出假设\n",
    "\n",
    "$H_0: μ >= 41000$ # 左侧单边检验。\n",
    "\n",
    "$H_1: μ < 41000$\n",
    "\n",
    "2. 确定统计量\n",
    "3. 规定显著水平"
   ]
  },
  {
   "cell_type": "code",
   "execution_count": 27,
   "id": "coated-emission",
   "metadata": {},
   "outputs": [
    {
     "data": {
      "text/plain": [
       "0.8088579323162846"
      ]
     },
     "execution_count": 27,
     "metadata": {},
     "output_type": "execute_result"
    }
   ],
   "source": [
    "n = 20\n",
    "mean = 41000\n",
    "S = 5000\n",
    "mu = 40000\n",
    "t_test(mean, mu, S, n, typ=\"left\")"
   ]
  },
  {
   "cell_type": "code",
   "execution_count": null,
   "id": "still-hughes",
   "metadata": {},
   "outputs": [],
   "source": []
  }
 ],
 "metadata": {
  "kernelspec": {
   "display_name": "Python 3",
   "language": "python",
   "name": "python3"
  },
  "language_info": {
   "codemirror_mode": {
    "name": "ipython",
    "version": 3
   },
   "file_extension": ".py",
   "mimetype": "text/x-python",
   "name": "python",
   "nbconvert_exporter": "python",
   "pygments_lexer": "ipython3",
   "version": "3.8.2"
  }
 },
 "nbformat": 4,
 "nbformat_minor": 5
}
