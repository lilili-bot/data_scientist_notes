{
 "cells": [
  {
   "cell_type": "code",
   "execution_count": 2,
   "id": "molecular-layout",
   "metadata": {},
   "outputs": [],
   "source": [
    "import pandas as pd\n",
    "import seaborn as sns\n",
    "import scipy.stats as ss\n",
    "import numpy as np\n",
    "%matplotlib inline"
   ]
  },
  {
   "cell_type": "markdown",
   "id": "underlying-atmosphere",
   "metadata": {},
   "source": [
    "- 数据字段说明：\n",
    "\n",
    "  - gender：性别，1为男性，2为女性\n",
    "  - Temperature:体温\n",
    "  - HeartRate：心率\n",
    "  - 共130行，3列\n",
    "  - 解决问题:人体体温的总体均值是否为98.6华氏度？"
   ]
  },
  {
   "cell_type": "code",
   "execution_count": 3,
   "id": "rubber-registration",
   "metadata": {},
   "outputs": [],
   "source": [
    "df = pd.read_csv(\"img/test.csv\")"
   ]
  },
  {
   "cell_type": "code",
   "execution_count": 4,
   "id": "legislative-nation",
   "metadata": {},
   "outputs": [
    {
     "data": {
      "text/html": [
       "<div>\n",
       "<style scoped>\n",
       "    .dataframe tbody tr th:only-of-type {\n",
       "        vertical-align: middle;\n",
       "    }\n",
       "\n",
       "    .dataframe tbody tr th {\n",
       "        vertical-align: top;\n",
       "    }\n",
       "\n",
       "    .dataframe thead th {\n",
       "        text-align: right;\n",
       "    }\n",
       "</style>\n",
       "<table border=\"1\" class=\"dataframe\">\n",
       "  <thead>\n",
       "    <tr style=\"text-align: right;\">\n",
       "      <th></th>\n",
       "      <th>Temperature</th>\n",
       "      <th>Gender</th>\n",
       "      <th>HeartRate</th>\n",
       "    </tr>\n",
       "  </thead>\n",
       "  <tbody>\n",
       "    <tr>\n",
       "      <th>0</th>\n",
       "      <td>96.3</td>\n",
       "      <td>1</td>\n",
       "      <td>70</td>\n",
       "    </tr>\n",
       "    <tr>\n",
       "      <th>1</th>\n",
       "      <td>96.7</td>\n",
       "      <td>1</td>\n",
       "      <td>71</td>\n",
       "    </tr>\n",
       "    <tr>\n",
       "      <th>2</th>\n",
       "      <td>96.9</td>\n",
       "      <td>1</td>\n",
       "      <td>74</td>\n",
       "    </tr>\n",
       "    <tr>\n",
       "      <th>3</th>\n",
       "      <td>97.0</td>\n",
       "      <td>1</td>\n",
       "      <td>80</td>\n",
       "    </tr>\n",
       "    <tr>\n",
       "      <th>4</th>\n",
       "      <td>97.1</td>\n",
       "      <td>1</td>\n",
       "      <td>73</td>\n",
       "    </tr>\n",
       "  </tbody>\n",
       "</table>\n",
       "</div>"
      ],
      "text/plain": [
       "   Temperature  Gender  HeartRate\n",
       "0         96.3       1         70\n",
       "1         96.7       1         71\n",
       "2         96.9       1         74\n",
       "3         97.0       1         80\n",
       "4         97.1       1         73"
      ]
     },
     "execution_count": 4,
     "metadata": {},
     "output_type": "execute_result"
    }
   ],
   "source": [
    "df.head(5)"
   ]
  },
  {
   "cell_type": "code",
   "execution_count": 5,
   "id": "jewish-vocabulary",
   "metadata": {},
   "outputs": [
    {
     "name": "stdout",
     "output_type": "stream",
     "text": [
      "<class 'pandas.core.frame.DataFrame'>\n",
      "RangeIndex: 130 entries, 0 to 129\n",
      "Data columns (total 3 columns):\n",
      " #   Column       Non-Null Count  Dtype  \n",
      "---  ------       --------------  -----  \n",
      " 0   Temperature  130 non-null    float64\n",
      " 1   Gender       130 non-null    int64  \n",
      " 2   HeartRate    130 non-null    int64  \n",
      "dtypes: float64(1), int64(2)\n",
      "memory usage: 3.2 KB\n"
     ]
    }
   ],
   "source": [
    "df.info()"
   ]
  },
  {
   "cell_type": "code",
   "execution_count": 6,
   "id": "liked-exhibit",
   "metadata": {},
   "outputs": [
    {
     "data": {
      "text/plain": [
       "<seaborn.axisgrid.FacetGrid at 0x7ff34fa7cee0>"
      ]
     },
     "execution_count": 6,
     "metadata": {},
     "output_type": "execute_result"
    },
    {
     "data": {
      "image/png": "[encoded data removed]",
      "text/plain": [
       "<Figure size 360x360 with 1 Axes>"
      ]
     },
     "metadata": {
      "needs_background": "light"
     },
     "output_type": "display_data"
    }
   ],
   "source": [
    "# 1. 先绘制直方图。看一下数据的分布。\n",
    "sns.displot(df[\"Temperature\"],kind=\"hist\")"
   ]
  },
  {
   "cell_type": "code",
   "execution_count": 7,
   "id": "gothic-tackle",
   "metadata": {},
   "outputs": [
    {
     "data": {
      "text/plain": [
       "KstestResult(statistic=1.0, pvalue=0.0)"
      ]
     },
     "execution_count": 7,
     "metadata": {},
     "output_type": "execute_result"
    }
   ],
   "source": [
    "# 1. ss.kstest() 检验是否是正态分布\n",
    "# 即使不是正态分布也没关系，因为抽样均值在每个样本容量>30时，是正态分布。\n",
    "ss.kstest(df[\"Temperature\"], \"norm\") # p<0.5. Temperature is not normal distribution"
   ]
  },
  {
   "cell_type": "code",
   "execution_count": 8,
   "id": "organizational-interim",
   "metadata": {},
   "outputs": [
    {
     "data": {
      "text/plain": [
       "'\\n1. 提出原假设 根据题意为双边假设。\\n2. 找到参数 mu, mean, sigma, S，n\\nn=130\\nmean = 98.6\\nS \\n\\n 2.1 计算z\\n 2.2 根据z 计算p\\n 2.3 使用ss.ttest_lsamp()直接得到t, p.\\n3. 规定显著水平\\n'"
      ]
     },
     "execution_count": 8,
     "metadata": {},
     "output_type": "execute_result"
    }
   ],
   "source": [
    "# z-test \n",
    "'''\n",
    "1. 提出原假设 根据题意为双边假设。\n",
    "2. 找到参数 mu, mean, sigma, S，n\n",
    "n=130\n",
    "mean = 98.6\n",
    "S \n",
    "\n",
    " 2.1 计算z\n",
    " 2.2 根据z 计算p\n",
    " 2.3 使用ss.ttest_lsamp()直接得到t, p.\n",
    "3. 规定显著水平\n",
    "'''"
   ]
  },
  {
   "cell_type": "code",
   "execution_count": 9,
   "id": "sustained-paintball",
   "metadata": {},
   "outputs": [],
   "source": [
    "n=130\n",
    "mu = 98.6\n",
    "S = np.std(df[\"Temperature\"], axis=0)"
   ]
  },
  {
   "cell_type": "code",
   "execution_count": 10,
   "id": "basic-comedy",
   "metadata": {},
   "outputs": [
    {
     "data": {
      "text/plain": [
       "0.730357778905038"
      ]
     },
     "execution_count": 10,
     "metadata": {},
     "output_type": "execute_result"
    }
   ],
   "source": [
    "S"
   ]
  },
  {
   "cell_type": "code",
   "execution_count": 11,
   "id": "removable-glucose",
   "metadata": {},
   "outputs": [
    {
     "name": "stdout",
     "output_type": "stream",
     "text": [
      "t is -5.454823292364077 and p is 2.410632041561008e-07\n"
     ]
    }
   ],
   "source": [
    "t, p = ss.ttest_1samp(df[\"Temperature\"], mu)\n",
    "print(\"t is %s and p is %s\"%(t, p))"
   ]
  },
  {
   "cell_type": "code",
   "execution_count": 12,
   "id": "fifteen-stake",
   "metadata": {},
   "outputs": [
    {
     "data": {
      "text/plain": [
       "True"
      ]
     },
     "execution_count": 12,
     "metadata": {},
     "output_type": "execute_result"
    }
   ],
   "source": [
    "p/2< 0.5 # H0 不成立"
   ]
  },
  {
   "cell_type": "markdown",
   "id": "incorporated-monday",
   "metadata": {},
   "source": [
    "注意:ttest_1samp输出的是双侧检验的概率,\n",
    "\n",
    "左侧检验:\n",
    "\n",
    "t>0:1-p/2\n",
    "\n",
    "t<0:p/2\n",
    "\n",
    "右侧检验:\n",
    "\n",
    "t>0:p/2\n",
    "\n",
    "t<0:1-p/2"
   ]
  },
  {
   "cell_type": "markdown",
   "id": "controversial-block",
   "metadata": {},
   "source": [
    "## 样本数>30 也可以使用z检验\n",
    "\n",
    "api: statsmodels.stats.weightstats.ztest\n",
    "\n",
    "- 参数:\n",
    "  - x1:数组，第一个样本的数据值\n",
    "  - x2:数组，第二个样本的数据值，默认没有值\n",
    "  \n",
    "- value:浮点型数值\n",
    "  - 若是单样本，则 value 是样本假设的均值\n",
    "  - 若是双样本，则 value是两个样本均值的差值\n",
    "  \n",
    "- alternative\n",
    "  - 若为 `larger’，备选假设 H1 大于 value 值\n",
    "  - 若为 `smaller’，备选假设 H1 小于 value 值\n",
    "  \n",
    "- 返回值:\n",
    "  - tstats:统计量值\n",
    "  - pvalue:p值"
   ]
  },
  {
   "cell_type": "code",
   "execution_count": 57,
   "id": "liked-tourist",
   "metadata": {},
   "outputs": [],
   "source": [
    "import statsmodels.stats.weightstats as sw"
   ]
  },
  {
   "cell_type": "code",
   "execution_count": 58,
   "id": "dedicated-greeting",
   "metadata": {},
   "outputs": [
    {
     "data": {
      "text/plain": [
       "(-5.454823292364077, 4.902157014113424e-08)"
      ]
     },
     "execution_count": 58,
     "metadata": {},
     "output_type": "execute_result"
    }
   ],
   "source": [
    "sw.ztest(df[\"Temperature\"],value=98.6)"
   ]
  },
  {
   "cell_type": "markdown",
   "id": "speaking-murder",
   "metadata": {},
   "source": [
    "## 在拒绝原假设之后，要计算效应量。\n",
    " - 效应量看的是差异的显著级别。\n",
    " \n",
    " <img src = \"img/d.png\">"
   ]
  },
  {
   "cell_type": "markdown",
   "id": "canadian-agenda",
   "metadata": {},
   "source": [
    "$单样本均值检验效应量: Cohen's\\ d=\\frac{\\bar{X}-\\mu}{S}$"
   ]
  },
  {
   "cell_type": "code",
   "execution_count": 14,
   "id": "preceding-cheese",
   "metadata": {},
   "outputs": [],
   "source": [
    "# 效应量计算\n",
    "mean = df[\"Temperature\"].mean()\n",
    "S = np.sqrt(np.sum(np.square(df[\"Temperature\"]- mean))/(df.shape[0]-1))\n",
    "d = (mean-98.6)/S"
   ]
  },
  {
   "cell_type": "code",
   "execution_count": 15,
   "id": "vanilla-finance",
   "metadata": {},
   "outputs": [
    {
     "data": {
      "text/plain": [
       "-0.47841965124708796"
      ]
     },
     "execution_count": 15,
     "metadata": {},
     "output_type": "execute_result"
    }
   ],
   "source": [
    "d"
   ]
  },
  {
   "cell_type": "markdown",
   "id": "dutch-watershed",
   "metadata": {},
   "source": [
    "- 总结\n",
    "\n",
    "1. $\\sigma^2$ 已知,假定样本均值服从正态分布,用Z检验\n",
    "\n",
    "2. $\\sigma^2$ 未知,大样本情况下,也假定样本均值服从正态分布,用z检验\n",
    "\n",
    "3. 由于大样本情况下,t分布近似z分布,所以也可以用t检验\n",
    "\n",
    "4. $\\sigma^2$未知,小样本,样本均值服从t分布,用t检验\n",
    "\n",
    "- 注意:t分布跟样本大小有关,所以有个概念—自由度\n",
    "\n",
    "5. 实际中常使用t检验\n",
    "\n",
    "6. Api:\n",
    "\n",
    "t检验 scipy.stats.ttest_1samp\n",
    "\n",
    "z检验 statsmodels.stats.weightstats.ztest"
   ]
  },
  {
   "cell_type": "code",
   "execution_count": null,
   "id": "rapid-destiny",
   "metadata": {},
   "outputs": [],
   "source": []
  }
 ],
 "metadata": {
  "kernelspec": {
   "display_name": "Python 3",
   "language": "python",
   "name": "python3"
  },
  "language_info": {
   "codemirror_mode": {
    "name": "ipython",
    "version": 3
   },
   "file_extension": ".py",
   "mimetype": "text/x-python",
   "name": "python",
   "nbconvert_exporter": "python",
   "pygments_lexer": "ipython3",
   "version": "3.8.2"
  }
 },
 "nbformat": 4,
 "nbformat_minor": 5
}
