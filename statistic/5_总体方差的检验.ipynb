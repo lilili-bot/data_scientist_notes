{
 "cells": [
  {
   "cell_type": "code",
   "execution_count": 1,
   "id": "subsequent-press",
   "metadata": {},
   "outputs": [],
   "source": [
    "import numpy as np\n",
    "import scipy.stats as ss"
   ]
  },
  {
   "cell_type": "markdown",
   "id": "systematic-classification",
   "metadata": {},
   "source": [
    "# 检验一个总体的方差或标准差\n",
    "1. 假定条件: 假设总体近似服从正态分布\n",
    "2. 检验统计量: \n",
    "$X^2=(n−1)S^2/σ_0^2∼X^2(n−1)$\n",
    "\n",
    "其中:S为样本标准差,$\\sigma_0$为假设的总体标准差,n为样本大小"
   ]
  },
  {
   "cell_type": "markdown",
   "id": "nominated-snake",
   "metadata": {},
   "source": [
    "例:某厂商生产出一种新型的饮料装瓶机器，按设计要求，该机器装一瓶一升(1000ml)的饮料误差上下不超过$1cm^3$,如果达到设计要求，表明机器的稳定性非常好。现从该机器装完的产品中随机抽取25瓶,分别进行测定,用样本减$1000cm^3$得到如下结果:\n",
    "\n",
    "<img src=\"img/example1.png\">\n",
    "\n",
    "检验该机器的性能是否达到设计要求(α=0.05)"
   ]
  },
  {
   "cell_type": "code",
   "execution_count": 18,
   "id": "rotary-bunch",
   "metadata": {},
   "outputs": [],
   "source": [
    "'''\n",
    "1. 提出假设： 此检验为双侧检验\n",
    "H_0: Sigma = 1\n",
    "H_1: Sigma != 1\n",
    "\n",
    "2. 确认统计量\n",
    "n = 25\n",
    "sigma = 1\n",
    "S 样本的方差，需要求出来。样本的方差符合chi2分布。\n",
    "\n",
    "3. 规定显著水平\n",
    "α=0.05\n",
    "\n",
    "4. 求出chi2的值，然后根据chi2分布，求出其cdf\n",
    "'''\n",
    "x=np.array([0.3,-0.4,-0.7,1.4,-0.6,-0.3,-1.5,0.6,-0.9,1.3,-1.3,0.7,1,-0.5,0,-0.6,0.7,-1.5,-0.2,-1.9,-0.5,1,-0.2,-0.6,1.1])\n",
    "S = np.std(x, ddof=1) # 因为是样本的标准差，因此分母一定是n-1\n",
    "sigma = 1\n",
    "n = x.shape[0]\n",
    "chi_2 = (n-1)*S*S/sigma**2\n",
    "\n",
    "p = ss.chi2.cdf(chi_2,df=n-1)*2 # 双侧检验"
   ]
  },
  {
   "cell_type": "code",
   "execution_count": 20,
   "id": "upper-check",
   "metadata": {},
   "outputs": [
    {
     "data": {
      "text/plain": [
       "(0.6968531669093277, True)"
      ]
     },
     "execution_count": 20,
     "metadata": {},
     "output_type": "execute_result"
    }
   ],
   "source": [
    "p, p>0.05 # 接受原假设"
   ]
  },
  {
   "cell_type": "code",
   "execution_count": null,
   "id": "mexican-south",
   "metadata": {},
   "outputs": [],
   "source": []
  }
 ],
 "metadata": {
  "kernelspec": {
   "display_name": "Python 3",
   "language": "python",
   "name": "python3"
  },
  "language_info": {
   "codemirror_mode": {
    "name": "ipython",
    "version": 3
   },
   "file_extension": ".py",
   "mimetype": "text/x-python",
   "name": "python",
   "nbconvert_exporter": "python",
   "pygments_lexer": "ipython3",
   "version": "3.8.2"
  }
 },
 "nbformat": 4,
 "nbformat_minor": 5
}
