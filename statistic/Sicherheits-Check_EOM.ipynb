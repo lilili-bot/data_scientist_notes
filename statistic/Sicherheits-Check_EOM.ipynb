{
 "cells": [
  {
   "cell_type": "markdown",
   "id": "contrary-oracle",
   "metadata": {},
   "source": [
    "Aufgrund von Erfahrungen und statistischen Untersuchungen geht die Flug- Sicherheitsbehörde davon aus, dass im Flughafen Dortmund 0,1% der Passagiere in ihrem Hand-Gepäck (unabsichtlich oder absichtlich) verbotene Gegenstände mitführen. Die Firma P&R hat ein neues Gerät zur Kontrolle des Handgepäcks entwickelt.\n",
    "Dieses Gerät schlägt in 98% der Fälle Alarm, wenn sich verbotene Gegenstände im Handgepäck befinden. In 1% der Fälle schlägt das Gerät ebenfalls Alarm, wenn auch keine verbotenen Gegenstände im Handgepäck sind."
   ]
  },
  {
   "cell_type": "markdown",
   "id": "supposed-zoning",
   "metadata": {},
   "source": [
    " a) In wieviel Prozent der Fälle schlägt in diesem Flughafen dieses Gerät Alarm?\n",
    " - A = 0.1% people who takes vorboten gegenstande. \n",
    " - B = 0.1178% people who tested as vorboten gegenstande mitgebracht. \n",
    "   - first part is people who comes from 0.1%.\n",
    "   - second part is people who comes from the 99%. \n",
    " \n",
    " - P(B|A) : 0.98 The Prbobility that the alarm rings. \n",
    " - P(A|B) : When passenger did bring forbiden staff, what is the chance to get test out. "
   ]
  },
  {
   "cell_type": "code",
   "execution_count": 6,
   "id": "separate-vintage",
   "metadata": {},
   "outputs": [
    {
     "data": {
      "text/plain": [
       "0.1178"
      ]
     },
     "execution_count": 6,
     "metadata": {},
     "output_type": "execute_result"
    }
   ],
   "source": [
    "0.02*0.99+0.1*0.98"
   ]
  },
  {
   "cell_type": "markdown",
   "id": "exact-assist",
   "metadata": {},
   "source": [
    " P(A) = Gegenstände mitführen = 0.1 \n",
    "\n",
    " P(B) = alle Fälle Alarm = 0.02*0.99+0.1*0.98\n",
    " \n",
    " P(B|A) = Gegenstände mitführen und erwischt = 0.98  "
   ]
  },
  {
   "cell_type": "markdown",
   "id": "tutorial-linux",
   "metadata": {},
   "source": [
    " b) Wie groß ist die Wahrscheinlichkeit, dass im Handgepäck tatsächlich verbotene Gegenstände vorhanden sind, wenn in diesem Flughafen das Gerät Alarm schlägt?\n",
    "\n",
    "$ P(A|B)=\\frac{P(A)}{P(B)}P(B|A)$"
   ]
  },
  {
   "cell_type": "code",
   "execution_count": 5,
   "id": "proper-python",
   "metadata": {},
   "outputs": [
    {
     "data": {
      "text/plain": [
       "0.831918505942275"
      ]
     },
     "execution_count": 5,
     "metadata": {},
     "output_type": "execute_result"
    }
   ],
   "source": [
    "0.1 * 0.98 /(0.02*0.99+0.1*0.98)"
   ]
  },
  {
   "cell_type": "markdown",
   "id": "sitting-pathology",
   "metadata": {},
   "source": [
    "60% schönen wetter\n",
    "40% schlect wetter \n",
    "前提数据是： 好天气可能80%， 不是好天气可能20%。 90%可能不好的时候，确实不好，10%不好的时候，是好的。\n",
    "目前的数据是：好天气60%， 不是好天气 40%。\n",
    "Histoisch data shönen 80% \n",
    "schlecht wetter 20% "
   ]
  },
  {
   "cell_type": "markdown",
   "id": "purple-hostel",
   "metadata": {},
   "source": [
    "- a = 80% 天气好。\n",
    "\n",
    "- b = 预报了天气好。\n",
    "  - 天气确实好。60% * 80%\n",
    "  - 天气其实不好。10%*40%\n",
    "\n",
    "- P(b|a) : 60% nice weather, given 80% chance, there is 60% chance schön weather ist.  天气好，预报的天气也是好的。\n",
    "- p(a|b) : if 60% schönen weather, and really nice weather. 预报了天气好，天气确实好。"
   ]
  },
  {
   "cell_type": "code",
   "execution_count": 10,
   "id": "extreme-worker",
   "metadata": {},
   "outputs": [
    {
     "data": {
      "text/plain": [
       "(0.8, 0.52, 0.6)"
      ]
     },
     "execution_count": 10,
     "metadata": {},
     "output_type": "execute_result"
    }
   ],
   "source": [
    "a = 0.8\n",
    "b = 0.1*0.4 + 0.6*0.8\n",
    "p_ba = 0.6\n",
    "a, b, p_ba"
   ]
  },
  {
   "cell_type": "code",
   "execution_count": 11,
   "id": "pending-glance",
   "metadata": {
    "tags": []
   },
   "outputs": [],
   "source": [
    "p_ab = a/b * p_ba"
   ]
  },
  {
   "cell_type": "code",
   "execution_count": 12,
   "id": "reasonable-aerospace",
   "metadata": {},
   "outputs": [
    {
     "data": {
      "text/plain": [
       "0.9230769230769231"
      ]
     },
     "execution_count": 12,
     "metadata": {},
     "output_type": "execute_result"
    }
   ],
   "source": [
    "p_ab"
   ]
  },
  {
   "cell_type": "code",
   "execution_count": 9,
   "id": "neutral-patrol",
   "metadata": {},
   "outputs": [
    {
     "data": {
      "text/plain": [
       "0.1428571428571429"
      ]
     },
     "execution_count": 9,
     "metadata": {},
     "output_type": "execute_result"
    }
   ],
   "source": [
    "1-p_ab"
   ]
  },
  {
   "cell_type": "code",
   "execution_count": null,
   "id": "fatal-connectivity",
   "metadata": {},
   "outputs": [],
   "source": []
  },
  {
   "cell_type": "code",
   "execution_count": null,
   "id": "ancient-defense",
   "metadata": {},
   "outputs": [],
   "source": []
  }
 ],
 "metadata": {
  "kernelspec": {
   "display_name": "Python 3",
   "language": "python",
   "name": "python3"
  },
  "language_info": {
   "codemirror_mode": {
    "name": "ipython",
    "version": 3
   },
   "file_extension": ".py",
   "mimetype": "text/x-python",
   "name": "python",
   "nbconvert_exporter": "python",
   "pygments_lexer": "ipython3",
   "version": "3.8.2"
  }
 },
 "nbformat": 4,
 "nbformat_minor": 5
}
