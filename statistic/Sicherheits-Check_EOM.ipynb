{
 "cells": [
  {
   "cell_type": "markdown",
   "id": "systematic-revision",
   "metadata": {},
   "source": [
    "Aufgrund von Erfahrungen und statistischen Untersuchungen geht die Flug- Sicherheitsbehörde davon aus, dass im Flughafen Dortmund 0,1% der Passagiere in ihrem Hand-Gepäck (unabsichtlich oder absichtlich) verbotene Gegenstände mitführen. Die Firma P&R hat ein neues Gerät zur Kontrolle des Handgepäcks entwickelt.\n",
    "Dieses Gerät schlägt in 98% der Fälle Alarm, wenn sich verbotene Gegenstände im Handgepäck befinden. In 1% der Fälle schlägt das Gerät ebenfalls Alarm, wenn auch keine verbotenen Gegenstände im Handgepäck sind."
   ]
  },
  {
   "cell_type": "markdown",
   "id": "thousand-breakfast",
   "metadata": {},
   "source": [
    " a) In wieviel Prozent der Fälle schlägt in diesem Flughafen dieses Gerät Alarm?"
   ]
  },
  {
   "cell_type": "code",
   "execution_count": 6,
   "id": "entertaining-collapse",
   "metadata": {},
   "outputs": [
    {
     "data": {
      "text/plain": [
       "0.1178"
      ]
     },
     "execution_count": 6,
     "metadata": {},
     "output_type": "execute_result"
    }
   ],
   "source": [
    "0.02*0.99+0.1*0.98"
   ]
  },
  {
   "cell_type": "markdown",
   "id": "sharp-pittsburgh",
   "metadata": {},
   "source": [
    " P(A) = Gegenstände mitführen = 0.1 \n",
    "\n",
    " P(B) = alle Fälle Alarm = 0.02*0.99+0.1*0.98\n",
    " \n",
    " P(B|A) = Gegenstände mitführen und erwischt = 0.98  "
   ]
  },
  {
   "cell_type": "markdown",
   "id": "adjacent-trick",
   "metadata": {},
   "source": [
    " b) Wie groß ist die Wahrscheinlichkeit, dass im Handgepäck tatsächlich verbotene Gegenstände vorhanden sind, wenn in diesem Flughafen das Gerät Alarm schlägt?\n",
    "\n",
    "$ P(A|B)=\\frac{P(A)}{P(B)}P(B|A)$"
   ]
  },
  {
   "cell_type": "code",
   "execution_count": 5,
   "id": "civil-forty",
   "metadata": {},
   "outputs": [
    {
     "data": {
      "text/plain": [
       "0.831918505942275"
      ]
     },
     "execution_count": 5,
     "metadata": {},
     "output_type": "execute_result"
    }
   ],
   "source": [
    "0.1 * 0.98 /(0.02*0.99+0.1*0.98)"
   ]
  },
  {
   "cell_type": "code",
   "execution_count": null,
   "id": "eastern-customer",
   "metadata": {},
   "outputs": [],
   "source": []
  }
 ],
 "metadata": {
  "kernelspec": {
   "display_name": "Python 3",
   "language": "python",
   "name": "python3"
  },
  "language_info": {
   "codemirror_mode": {
    "name": "ipython",
    "version": 3
   },
   "file_extension": ".py",
   "mimetype": "text/x-python",
   "name": "python",
   "nbconvert_exporter": "python",
   "pygments_lexer": "ipython3",
   "version": "3.8.2"
  }
 },
 "nbformat": 4,
 "nbformat_minor": 5
}
