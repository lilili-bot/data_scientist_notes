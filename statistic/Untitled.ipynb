{
 "cells": [
  {
   "cell_type": "markdown",
   "id": "expected-massachusetts",
   "metadata": {},
   "source": [
    "$$ Var(X)=E\\left(X^2\\right)-\\mu^2 $$ "
   ]
  },
  {
   "cell_type": "code",
   "execution_count": null,
   "id": "mysterious-employee",
   "metadata": {},
   "outputs": [],
   "source": [
    "Var(c)=0"
   ]
  },
  {
   "cell_type": "code",
   "execution_count": null,
   "id": "earlier-cattle",
   "metadata": {},
   "outputs": [],
   "source": [
    "Var(aX+b)=a^2Var(X)"
   ]
  },
  {
   "cell_type": "code",
   "execution_count": null,
   "id": "bacterial-kingdom",
   "metadata": {},
   "outputs": [],
   "source": [
    "假如随机变量X的方差为Var(X)，则称：\n",
    "\\sigma(X)=\\sqrt{Var(X)}\n",
    "\n",
    "为\\color{Salmon}{标准差}，也可以记作\\sigma或者\\sigma_X。"
   ]
  },
  {
   "cell_type": "code",
   "execution_count": null,
   "id": "continued-break",
   "metadata": {},
   "outputs": [],
   "source": [
    "S=\\frac{(X_1-\\overline{X})^2+(X_2-\\overline{X})^2+\\cdots+(X_n-\\overline{X})^2}{n}"
   ]
  },
  {
   "cell_type": "code",
   "execution_count": null,
   "id": "departmental-theater",
   "metadata": {},
   "outputs": [],
   "source": [
    "Var(X)=E\\left[\\Big(X-E(X)\\Big)^2\\right]"
   ]
  },
  {
   "cell_type": "code",
   "execution_count": null,
   "id": "proof-excellence",
   "metadata": {},
   "outputs": [],
   "source": [
    "顺便提一下，方差可以写作：\n",
    "\n",
    "\\sigma^2=E\\left[(X-\\mu)^2\\right]=\\sum_{i}(x_i-\\mu)^2p(x_i)\n",
    "\n",
    "其中(x_i-\\mu)^2是二次项，对比一阶矩E(X)而言，方差\\sigma^2也可以称作\\color{Salmon}{二阶矩}（这在物理中对应惯性矩，因为不是高中知识了，这里就不再介绍了）。\n",
    "\n"
   ]
  },
  {
   "cell_type": "code",
   "execution_count": null,
   "id": "boring-georgia",
   "metadata": {},
   "outputs": [],
   "source": [
    "刚才看到的运动场合，方差大意味着发挥的不稳定\n",
    "对于抽象的数据集，方差大意味着数据的比较离散\n",
    "在概率论中，方差大意味着概率质量函数的分布比较分散，随机性高\n",
    "金融领域，方差大意味着波动大，风险高"
   ]
  },
  {
   "cell_type": "code",
   "execution_count": null,
   "id": "buried-congo",
   "metadata": {
    "tags": []
   },
   "outputs": [],
   "source": [
    "伯努利分布的方差可以如下计算：\n",
    "E(X^2)=1^2\\times p+ 0^2\\times (1-p)=p\n",
    "\n",
    "然后：\n",
    "\n",
    "Var(X)=E\\left(X^2\\right)-E(X)^2=p-p^2=p(1-p)\n",
    "\n",
    "Var(X)=E\\left(X^2\\right)-E(X)^2=n(n-1)p^2+np-(np)^2=np(1-p)"
   ]
  },
  {
   "cell_type": "code",
   "execution_count": null,
   "id": "minute-stand",
   "metadata": {},
   "outputs": [],
   "source": [
    "3 马尔可夫不等式\n"
   ]
  },
  {
   "cell_type": "code",
   "execution_count": null,
   "id": "stretch-counter",
   "metadata": {},
   "outputs": [],
   "source": [
    "这个问题用数学的语言来讲的话，就是要求：\n",
    "\n",
    "P(X=171.8)=?\n",
    "\n",
    "但这里只知道平均身高，也就是数学期望E(X)，怎么求出具体的概率值呢？回想下数学期望的定义：\n",
    "\n",
    "E(X)=\\sum_{i=0}^{\\infty}x_iP(X=x_i)\n",
    "\n",
    "由于身高一定大于0的，所以上面累加的每一项都是正数，从而可得：\n",
    "\n",
    "171.8 P(X=171.8)\\le E(X)\n",
    "\n",
    "进而可以推出：\n",
    "\n",
    "P(X=171.8)\\le \\frac{E(X)}{171.8}=1\\%"
   ]
  },
  {
   "cell_type": "code",
   "execution_count": null,
   "id": "caroline-terminology",
   "metadata": {},
   "outputs": [],
   "source": [
    "这个问题也就是问：\n",
    "\n",
    "P(X\\ge 171.8)=?\n",
    "\n",
    "可以这么来考虑，根据定义（下面这个式子并不严格，只是示意）：\n",
    "\n",
    "P(X\\ge 171.8)=P(X=171.8)+P(X=172.8)+\\cdots\n",
    "\n",
    "在身高为正的前提下，下面不等式是成立的：\n",
    "\n",
    "171.8P(X=171.8)+172.8P(X=172.8)+\\cdots\\le E(X)\n",
    "\n",
    "缩放一下：\n",
    "\n",
    "171.8P(X=171.8)+171.8P(X=172.8)+\\cdots \\le E(X)\n",
    "\n",
    "进而推出：\n",
    "\n",
    "171.8\\big(P(X=171.8)+P(X=172.8)+\\cdots\\big)=171.8P(X\\ge 171.8) \\le E(X)\n",
    "\n",
    "最后得到：\n",
    "\n",
    "P(X\\ge 171.8)\\le \\frac{E(X)}{171.8}=1\\%"
   ]
  },
  {
   "cell_type": "code",
   "execution_count": null,
   "id": "velvet-while",
   "metadata": {},
   "outputs": [],
   "source": [
    "设X为取非负值的随机变量，则对于任何a > 0，有：\n",
    "P(X\\ge a)\\le \\frac{E(X)}{a}"
   ]
  },
  {
   "cell_type": "code",
   "execution_count": null,
   "id": "soviet-thomson",
   "metadata": {},
   "outputs": [],
   "source": [
    "在刚才的练习题中可以看到，马尔可夫不等式的估计是相当得差。如果知道方差的话，那么通过\\color{Salmon}{切比雪夫不等式}来估计会更加准确：\n",
    "\n",
    "设X是一随机变量，均值\\mu和方差\\sigma^2有限，则对任何k > 0有：\n",
    "P(|X-\\mu| \\ge k)\\le \\frac{\\sigma^2}{k^2}"
   ]
  },
  {
   "cell_type": "code",
   "execution_count": null,
   "id": "driven-broadcasting",
   "metadata": {},
   "outputs": [],
   "source": [
    "解\\ 根据题干，我们实际上知道了\\mu=51350，\\sigma=44000，那么人均收入超过百万的包含在下列不等式中：\n",
    "\n",
    "|X-51350| \\ge 948650\n",
    "\n",
    "根据切比雪夫不等式有：\n",
    "\n",
    "P(|X-51350| \\ge 948650)\\le \\frac{44000^2}{948650^2}\\approx 0.22\\%"
   ]
  },
  {
   "cell_type": "code",
   "execution_count": null,
   "id": "powerful-chancellor",
   "metadata": {},
   "outputs": [],
   "source": [
    "数学期望至少有两种重要的意义：\n",
    "\n",
    "对不确定性的计量\n",
    "加权平均"
   ]
  },
  {
   "cell_type": "code",
   "execution_count": null,
   "id": "statutory-chester",
   "metadata": {},
   "outputs": [],
   "source": [
    "不管是“不确定性的计量”还是“加权平均”，都可以通过力矩来解释，所以数学期望也称作\\color{Salmon}{矩}，更准确点说，由于数学期望：\n",
    "\n",
    "E(X)=\\sum_{i=1}^{\\infty}x_ip(x_i)"
   ]
  },
  {
   "cell_type": "code",
   "execution_count": null,
   "id": "victorian-tracker",
   "metadata": {},
   "outputs": [],
   "source": [
    "假设g(X)为随机变量X的某一函数，则：\n",
    "E\\left[g(X)\\right]=\\sum_i g(x_i)p(x_i)"
   ]
  },
  {
   "cell_type": "code",
   "execution_count": null,
   "id": "written-change",
   "metadata": {},
   "outputs": [],
   "source": [
    "例\\ 某种季节性的商品，销售季内每卖出一件商品，可以获得b元利润；而季末没有卖出的商品，则每件会亏损l元。\n",
    "\n",
    "设该商品在此季节的销量为随机变量X，对应的概率分布为p(x_i)，假如囤货s件，那么利润的数学期望是多少？\n",
    "\n",
    "解\\ 销售利润是销量X的函数：\n",
    "\n",
    "\n",
    "g(X)=\n",
    "\\begin{cases}\n",
    "    bX- (s-X)l &X\\le s\\\\\n",
    "    sb & X > s\n",
    "\\end{cases}\n",
    "\n",
    "所以数学期望为：\n",
    "\n",
    "E\\left[g(X)\\right]=\\sum_{i=0}^{s} \\left[bx_i- (s-x_i)l\\right]p(x_i)+\\sum_{i=s+1}^{\\infty} sbp(x_i)\n",
    "\n"
   ]
  },
  {
   "cell_type": "code",
   "execution_count": null,
   "id": "swedish-operation",
   "metadata": {},
   "outputs": [],
   "source": [
    "如果连续随机变量X的概率密度函数为：\n",
    "\n",
    "p(x)=\n",
    "\\begin{cases}\n",
    "    \\frac{1}{b-a}, &a \\le x \\le b\\\\\n",
    "    0, & 其它\n",
    "\\end{cases}\n",
    "\n",
    "则称X服从区间(a,b)上的均匀分布，记作X\\sim U(a,b)，其累积分布函数为：\n",
    "\n",
    "\n",
    "F(x)=\\begin{cases}\n",
    "    0,&x < a\\\\\n",
    "    \\frac{x-a}{b-a},&a\\le x < b\\\\\n",
    "    1,&x \\ge b\n",
    "\\end{cases}\n",
    "\n",
    "期望和方差分别为：\n",
    "\n",
    "E(X)=\\frac{a+b}{2},\\quad Var(X)=\\frac{(b-a)^2}{12}"
   ]
  },
  {
   "cell_type": "code",
   "execution_count": null,
   "id": "harmful-ideal",
   "metadata": {},
   "outputs": [],
   "source": [
    "p(x)=\\frac{1}{\\sigma\\sqrt{2\\pi}}e^{-\\frac{(x-\\mu)^2}{2\\sigma^2}},\\quad -\\infty < x < +\\infty"
   ]
  },
  {
   "cell_type": "code",
   "execution_count": null,
   "id": "after-onion",
   "metadata": {},
   "outputs": [],
   "source": [
    "如果连续随机变量X的概率密度函数为：\n",
    "p(x)=\\frac{1}{\\sigma\\sqrt{2\\pi}}e^{-\\frac{(x-\\mu)^2}{2\\sigma^2}},\\quad -\\infty < x < +\\infty\n",
    "\n",
    "则称X服从\\color{Salmon}{正态分布}（normal distribution），也称作\\color{Salmon}{高斯分布}（Gaussian distribution），记作X\\sim N(\\mu,\\sigma^2)，其累积分布函数为：\n",
    "\n",
    "F(x)=\\frac{1}{\\sigma\\sqrt{2\\pi}}\\int_{-\\infty}^{x}e^{-\\frac{(t-\\mu)^2}{2\\sigma^2}}\\mathrm{d}t"
   ]
  },
  {
   "cell_type": "code",
   "execution_count": null,
   "id": "educational-timothy",
   "metadata": {},
   "outputs": [],
   "source": [
    "3 概率密度函数\n",
    "因此在数学上沿用物理的名词，p(x)也称为概率密度函数，严格定义如下：\n",
    "\n",
    "如果函数p(x)满足下列两个条件（对应了概率的三大公理）：\n",
    "非负性：\n",
    "p(x) \\ge 0\n",
    "\n",
    "规范性（暗含了可加性），因为是连续的，所以通过积分相加：\n",
    "\\int_{-\\infty}^{+\\infty}p(x)\\mathrm{d}x=1\n",
    "\n",
    "则称其为\\color{Salmon}{概率密度函数}（Probability Density Function，简写为PDF）。"
   ]
  },
  {
   "cell_type": "code",
   "execution_count": null,
   "id": "moving-notebook",
   "metadata": {},
   "outputs": [],
   "source": [
    "离散随机变量的期望定义为：\n",
    "\n",
    "E(X)=\\sum_{i=1}^{\\infty}x_ip(x_i)\n",
    "\n",
    "可以用类似的方法定义连续随机变量的期望，当然期望的意义是没有改变的：\n",
    "\n",
    "E(X)=\\int_{-\\infty}^{+\\infty}xp(x)\\mathrm{d}x"
   ]
  },
  {
   "cell_type": "code",
   "execution_count": null,
   "id": "engaged-potter",
   "metadata": {},
   "outputs": [],
   "source": [
    "假设g(X)为连续随机变量X的某一函数，则：\n",
    "E\\left[g(X)\\right]=\\int_{-\\infty}^{+\\infty}g(x)p(x)\\mathrm{d}x"
   ]
  },
  {
   "cell_type": "code",
   "execution_count": null,
   "id": "nasty-zimbabwe",
   "metadata": {},
   "outputs": [],
   "source": [
    "若c为常数，则：\n",
    "E(c)=c\n",
    "数学期望满足：\n",
    "齐次性，对于任意常数a有：\n",
    "E(aX)=aE(X)\n",
    "\n",
    "可加性，对于任意两个函数g_1(X)、g_2(X)有：\n",
    "E\\left[g_1(X)+g_2(X)\\right]=E\\left[g_1(X)\\right]+E\\left[g_2(X)\\right]"
   ]
  },
  {
   "cell_type": "code",
   "execution_count": null,
   "id": "double-quantity",
   "metadata": {},
   "outputs": [],
   "source": [
    "方差的定义依然是：\n",
    "\n",
    "Var(X)=E\\left[\\Big(X-E(X)\\Big)^2\\right]"
   ]
  },
  {
   "cell_type": "code",
   "execution_count": null,
   "id": "infinite-fifteen",
   "metadata": {},
   "outputs": [],
   "source": [
    "可以通过下式来化简运算：\n",
    "\n",
    "Var(X)=E\\left(X^2\\right)-\\mu^2"
   ]
  },
  {
   "cell_type": "code",
   "execution_count": null,
   "id": "departmental-niger",
   "metadata": {},
   "outputs": [],
   "source": [
    "Var(c)=0\n",
    "Var(aX+b)=a^2Var(X)"
   ]
  },
  {
   "cell_type": "code",
   "execution_count": null,
   "id": "constitutional-supervision",
   "metadata": {},
   "outputs": [],
   "source": [
    "因为期望、方差的性质对于连续随机变量也是成立的，所以之前证明过的马尔可夫不等式：\n",
    "\n",
    "P(X\\ge a)\\le \\frac{E(X)}{a}\n",
    "\n",
    "切比雪夫不等式：\n",
    "\n",
    "P(|X-\\mu| \\ge k)\\le \\frac{\\sigma^2}{k^2}"
   ]
  },
  {
   "cell_type": "markdown",
   "id": "stuck-sessions",
   "metadata": {},
   "source": [
    "连续随机变量X的概率密度函数为p(x)，则：\n",
    "$$ F(x)=P(X \\le x)=\\int_{-\\infty}^{x}p(t)\\mathrm{d}t $$\n",
    "\n",
    "称为X的\\color{Salmon}{累积分布函数}。"
   ]
  },
  {
   "cell_type": "markdown",
   "id": "virtual-jerusalem",
   "metadata": {},
   "source": [
    "$ 如果p(x)满足（x\\in \\{x_i\\},i=1,2,\\cdots）：$\n",
    "非负性：\n",
    "$$ p(x_i) \\ge 0 $$\n",
    "\n",
    "规范性：\n",
    "$$ \\sum_{i=1}^{\\infty}p(x_i)=1 $$\n",
    "\n",
    "则称其为概率质量函数（PMF）。"
   ]
  },
  {
   "cell_type": "markdown",
   "id": "reverse-glasgow",
   "metadata": {},
   "source": [
    "对于n重伯努利实验，如果每次得到“是”的概率为p，设随机变量：\n",
    "X=得到“是”的次数\n",
    "\n",
    "则称：\n",
    "\n",
    "$$ p(k)=P(X=k)={n\\choose k}p^k(1-p)^{n-k},\\quad k=0,1,\\cdots,n $$\n",
    "\n",
    "为随机变量X的\\color{Salmon}{二项分布}，也可以记作：\n",
    "\n",
    "$$ X\\sim b(n,p)$$\n",
    "\n",
    "当n=1的时候，对应的就是伯努利分布，所以伯努利分布也可以记作b(1,p)。"
   ]
  },
  {
   "cell_type": "markdown",
   "id": "precious-currency",
   "metadata": {},
   "source": [
    "$$ F(x)=\\sum_{k\\le x}{n\\choose k}p^k(1-p)^{n-k}$$"
   ]
  },
  {
   "cell_type": "markdown",
   "id": "legislative-radio",
   "metadata": {},
   "source": [
    "对于随机变量X的概率质量函数：\n",
    "\n",
    "$$ P(X=k)=\\frac{\\lambda^k}{k!}e^{-\\lambda},\\quad k=0,1,2,\\cdots $$\n",
    "\n",
    "称为随机变量X的\\color{Salmon}{泊松分布}，也可以记为：\n",
    "\n",
    "$$ X\\sim P(\\lambda) $$\n",
    "\n",
    "其数学期望和方差为：\n",
    "\n",
    "$$ E(X)=\\lambda,\\quad Var(X)=\\lambda $$"
   ]
  },
  {
   "cell_type": "markdown",
   "id": "alpine-recall",
   "metadata": {},
   "source": [
    "平稳性：在此时间段T内，此事件发生的概率相同（在实际应用中大致相同就可以了）\n",
    "独立性：事件的发生彼此之间独立（或者说，关联性很弱）\n",
    "普通性：把T切分成足够小的区间\\Delta T，在\\Delta T内恰好发生两个、或多个事件的可能性为0（或者说，几乎为0）"
   ]
  },
  {
   "cell_type": "markdown",
   "id": "handed-intellectual",
   "metadata": {},
   "source": [
    "根据之前的推导，泊松分布是二项分布的极限：\n",
    "\n",
    "$$ \\lim_{n\\to\\infty}{n\\choose k}\\left(\\frac{\\mu}{n}\\right)^k\\left(1-\\frac{\\mu}{n}\\right)^{n-k}=\\frac{\\mu^k}{k!}e^{-\\mu} $$"
   ]
  },
  {
   "cell_type": "markdown",
   "id": "abroad-substance",
   "metadata": {},
   "source": [
    "对于n重伯努利实验，如果每次得到“是”的概率为p，设随机变量：\n",
    "X=首次得到“是”时进行的试验次数\n",
    "\n",
    "则称：\n",
    "\n",
    "$ p(k)=P(X=k)=(1-p)^{k-1}p,\\quad k=1,2,\\cdots $\n",
    "\n",
    "为随机变量X的\\color{Salmon}{几何分布}，也可以记作：\n",
    "\n",
    "X\\sim Ge(p)\n",
    "\n",
    "其数学期望和方差为：\n",
    "\n",
    "$ E(X)=\\frac{1}{p},\\quad Var(X)=\\frac{1-p}{p^2}$"
   ]
  },
  {
   "cell_type": "code",
   "execution_count": null,
   "id": "flush-oxford",
   "metadata": {},
   "outputs": [],
   "source": [
    "\\color{Salmon}{几何分布的无记忆性}，只要期待的“是”没有出现，那么几何分布就仿佛不记得之前发生的事件。值得注意的是在离散分布中只有几何分布具有此特性。"
   ]
  },
  {
   "cell_type": "code",
   "execution_count": null,
   "id": "orange-guatemala",
   "metadata": {},
   "outputs": [],
   "source": [
    "对于n重伯努利实验，如果每次得到“是”的概率为p，设随机变量：\n",
    "X=第r次“是”发生时的实验次数\n",
    "\n",
    "则称：\n",
    "\n",
    "p(k)=P(X=k)={k-1\\choose r-1}p^r(1-p)^{k-r},k=r,r+1,\\cdots\n",
    "\n",
    "为随机变量X的\\color{Salmon}{负二项分布}，也称为\\color{Salmon}{帕斯卡分布}，也可以记作：\n",
    "\n",
    "X\\sim Nb(r,p)\n",
    "\n",
    "其数学期望为：\n",
    "\n",
    "E(X)=\\frac{r}{p},\\quad Var(X)=\\frac{r(1-p)}{p^2}"
   ]
  },
  {
   "cell_type": "code",
   "execution_count": null,
   "id": "resistant-constant",
   "metadata": {},
   "outputs": [],
   "source": [
    "某数学家有两盒火柴，每盒都有n根火柴，每次用火柴时他随机地在两盒中任取一盒并从中抽出一根。\n",
    "假设该数学家可以看到盒中有多少根火柴，则该数学家用完一盒时另一盒还有r根火柴的概率为：\n",
    "\n",
    "2{2n-r-1\\choose n-1}\\left(\\frac{1}{2}\\right)^{2n-r}"
   ]
  },
  {
   "cell_type": "code",
   "execution_count": null,
   "id": "played-graph",
   "metadata": {},
   "outputs": [],
   "source": [
    "超几何分布与二项分布类似，都是求抽取n次其中有m次“是”的概率，只是：\n",
    "\n",
    "二项分布：相当于抽取之后放回\n",
    "超几何分布：抽取之后不放回\n",
    "所以在超几何分布中，如果被抽取的总数N特别大，那么放回不放回区别也就不大了，此时，那么超几何分布可以近似看作二项分布。\n",
    "\n",
    "这点从两者的期望、方差也可以看出来：\n"
   ]
  },
  {
   "cell_type": "code",
   "execution_count": null,
   "id": "polished-aviation",
   "metadata": {},
   "outputs": [],
   "source": [
    "设有N件产品，其中有M件不合格品，随机抽取n件产品，则其中含有m件不合格产品的概率为多少？\n",
    "\n",
    "假设随机变量：\n",
    "\n",
    "X=随机抽取的n件中有m件不合格品\n",
    "\n",
    "这个随机变量的概率可以用古典概率来求，首先，样本空间就是从N件中随便抽取n件，所以：\n",
    "\n",
    "|\\Omega|={N\\choose n}\n",
    "\n",
    "然后有m件从不合格品中抽取，剩下的在合格品中抽取，则有：\n",
    "\n",
    "|X|={M\\choose m}{N-M\\choose n-m}\n",
    "\n",
    "所求概率即为：\n",
    "\n",
    "P(X=m)=\\frac{{M\\choose m}{N-M\\choose n-m}}{{N\\choose n}},m=0,1,\\cdots,r\n",
    "\n",
    "其中r=min(M,n)。此时称X服从\\color{Salmon}{超几何分布}，可以记作：\n",
    "\n",
    "X\\sim h(n,N,M)"
   ]
  },
  {
   "cell_type": "code",
   "execution_count": null,
   "id": "regular-category",
   "metadata": {},
   "outputs": [],
   "source": [
    "其数学期望和方差为：\n",
    "E(X)=n\\frac{M}{N},\\quad Var(X)=n\\frac{M}{N}\\left(1-\\frac{M}{N}\\right)\\left(1-\\frac{n-1}{N-1}\\right)"
   ]
  },
  {
   "cell_type": "code",
   "execution_count": null,
   "id": "thermal-unemployment",
   "metadata": {},
   "outputs": [],
   "source": [
    "令p=\\frac{M}{N}，超几何分布的期望和方差可以写作：\n",
    "\n",
    "\\mu=n\\frac{M}{N}=np\n",
    "\n",
    "\\sigma^2=n\\frac{M}{N}\\left(1-\\frac{M}{N}\\right)\\left(1-\\frac{n-1}{N-1}\\right)=np(1-p)\\left(1-\\frac{n-1}{N-1}\\right)"
   ]
  },
  {
   "cell_type": "markdown",
   "id": "subject-badge",
   "metadata": {},
   "source": [
    "如果连续随机变量X的概率密度函数为：\n",
    "$p(x)=\\frac{1}{\\sigma\\sqrt{2\\pi}}e^{-\\frac{(x-\\mu)^2}{2\\sigma^2}},\\quad -\\infty < x < +\\infty$\n",
    "\n",
    "$则称X服从\\color{Salmon}{正态分布}（normal distribution），也称作\\color{Salmon}{高斯分布}（Gaussian distribution），记作X\\sim N(\\mu,\\sigma^2)，其累积分布函数为：$\n",
    "\n",
    "$F(x)=\\frac{1}{\\sigma\\sqrt{2\\pi}}\\int_{-\\infty}^{x}e^{-\\frac{(t-\\mu)^2}{2\\sigma^2}}\\mathrm{d}t$"
   ]
  },
  {
   "cell_type": "markdown",
   "id": "architectural-custody",
   "metadata": {},
   "source": [
    "我们称\\mu=0、\\sigma=1时的正态分布N(0,1)为\\color{Salmon}{标准正态分布}。\n",
    "\n",
    "通常记标准正态变量为Z（Z Score），记标准正态分布的概率密度函数为\\phi(x)，累积分布函数为\\Phi(x)，即：\n",
    "\n",
    "$ \\phi(x)=\\frac{1}{\\sqrt{2\\pi}}e^{-\\frac{x^2}{2}},\\quad -\\infty < x < +\\infty$\n",
    "\n",
    "$\\Phi(x)=\\frac{1}{\\sqrt{2\\pi}}\\int_{-\\infty}^{x}e^{-\\frac{t^2}{2}}\\mathrm{d}t$\n",
    "\n",
    "标准正态分布代数形式很清爽，是最简单的正态分布，图像上是关于纵轴对称的偶函数（"
   ]
  },
  {
   "cell_type": "code",
   "execution_count": null,
   "id": "animated-afternoon",
   "metadata": {},
   "outputs": [],
   "source": [
    "正态分布有一个重要结论：\n",
    "\n",
    "如果X\\sim N(\\mu, \\sigma^2)，那么有：\n",
    "aX+b\\sim N(a\\mu+b, a^2\\sigma^2)"
   ]
  },
  {
   "cell_type": "code",
   "execution_count": null,
   "id": "federal-rough",
   "metadata": {},
   "outputs": [],
   "source": [
    "正态分布X\\sim N(\\mu,\\sigma^2)的期望和方差为：\n",
    "E(X)=\\mu,\\quad Var(X)=\\sigma^2"
   ]
  },
  {
   "cell_type": "markdown",
   "id": "bacterial-custody",
   "metadata": {},
   "source": [
    "目标是求卖出两个馒头之间的时间间隔，先来看看卖出馒头数的分布，说不定有什么线索。假设馒头店平均每天卖出\\lambda个馒头，根据之前在泊松分布中的学习，可以知道随机变量：\n",
    "\n",
    "X=每天卖出的馒头数\n",
    "\n",
    "服从泊松分布：\n",
    "\n",
    "$ P(X=k)=\\frac{\\lambda^k}{k!}e^{-\\lambda} $"
   ]
  },
  {
   "cell_type": "markdown",
   "id": "pending-representation",
   "metadata": {},
   "source": [
    "泊松分布中给出了我们需要的重要信息，就是间隔一天没有人买馒头的概率为：\n",
    "\n",
    "$ P(X=0)=\\frac{\\lambda^0}{0!}e^{-\\lambda}=e^{-\\lambda}$\n",
    "\n",
    "根据上面的分析，卖出两个馒头之间的时间间隔要大于一天，那么必然要包含没有卖出馒头的这天，所以两者的概率是相等的。如果假设随机变量为：\n",
    "\n",
    "Y=卖出两个馒头之间的时间间隔\n",
    "\n",
    "那么就有：\n",
    "\n",
    "$ P(Y > 1)=P(X=0)=e^{-\\lambda}$"
   ]
  },
  {
   "cell_type": "markdown",
   "id": "atomic-grave",
   "metadata": {},
   "source": [
    "泊松分布实在限制太大，只告诉了我们每天卖出的馒头数。不过没有关系，稍微扩展下可以得到新的函数：\n",
    "\n",
    "$ P(X=k,t)=\\frac{\\left(\\lambda t\\right)^k}{k!}e^{-\\lambda t} $\n",
    "\n",
    "通过新的这个函数就可知不同的时间段内卖出的馒头数的分布了（t=1时就是泊松分布）：\n",
    "\n",
    "\n",
    "$$ \\begin{array}{c|c}\n",
    "    \\hline\n",
    "    \\quad \\quad &\\quad t\\quad&\\quad PDF\\quad\\\\\n",
    "    \\hline\n",
    "    \\\\\n",
    "    每天卖出的馒头数 & 1 & P(X=k,1)=\\frac{\\lambda^k}{k!}e^{-\\lambda}\\\\\n",
    "    半天卖出的馒头数 & \\frac{1}{2} & P(X=k,\\frac{1}{2})=\\frac{\\left(\\frac{1}{2}\\lambda\\right)^k}{k!}e^{-\\frac{1}{2}\\lambda}\\\\\n",
    "    三小时卖出的馒头数 & \\frac{1}{8} & P(X=k,\\frac{1}{8})=\\frac{\\left(\\frac{1}{8}\\lambda\\right)^k}{k!}e^{-\\frac{1}{8}\\lambda}\\\\\n",
    "    \\\\\n",
    "    \\hline\n",
    "\\end{array} $$ \n"
   ]
  },
  {
   "cell_type": "markdown",
   "id": "innovative-scottish",
   "metadata": {},
   "source": [
    "若随机变量X的概率密度函数为：\n",
    "\n",
    "\n",
    "$ p(x)=\\begin{cases}\n",
    "\\lambda e^{-\\lambda x}, & x \\ge 0\\\\\n",
    "0,& x < 0\n",
    "\\end{cases} $\n",
    "\n",
    "$ 其中\\lambda > 0，称X服从\\color{Salmon}{指数分布}，也可以记为：$\n",
    "\n",
    "$ X\\sim Exp(\\lambda)$\n",
    "\n",
    "累积分布函数为：\n",
    "\n",
    "\n",
    "$ F(x)=\\begin{cases}\n",
    "1-e^{-\\lambda x}, & x \\ge 0\\\\\n",
    "0,& x < 0\n",
    "\\end{cases}$\n"
   ]
  },
  {
   "cell_type": "code",
   "execution_count": null,
   "id": "civic-category",
   "metadata": {},
   "outputs": [],
   "source": [
    "指数分布X\\sim Exp(\\lambda)的期望和方差为：\n",
    "E(X)=\\frac{1}{\\lambda},\\quad Var(X)=\\frac{1}{\\lambda^2}"
   ]
  },
  {
   "cell_type": "code",
   "execution_count": null,
   "id": "incomplete-chorus",
   "metadata": {},
   "outputs": [],
   "source": [
    "指数分布的期望还是很直观的，拿卖馒头来说吧，假设平均每天卖出5个馒头，那么对应的泊松分布的\\lambda=5；既然是一天卖出5个，那么平均两个馒头之间的时间间隔就为\\frac{1}{\\lambda}=\\frac{1}{5}，这也就是指数分布的期望。"
   ]
  },
  {
   "cell_type": "code",
   "execution_count": null,
   "id": "vital-norfolk",
   "metadata": {},
   "outputs": [],
   "source": [
    "\n",
    "从上面的定义出发可以推出累积分布函数的三个性质（这三个性质是累积分布的充要条件，所以也可以看作是累积分布函数的另外一种定义方式：\n",
    "\n",
    "任一函数F(x)如果满足如下三条基本性质：\n",
    "单调性：对任意x_1\\le x_2，有F(x_1)\\le F(x_2)\n",
    "有界性：对任意x，有\n",
    "0\\le F(x)\\le 1\n",
    "\n",
    "且有：\n",
    "\n",
    "\\lim_{x\\to -\\infty}F(x)=0,\\quad \\lim_{x\\to +\\infty}F(x)=1\n",
    "\n",
    "右连续性：对任意x_0，有：\n",
    "\\lim_{x\\to x_0^+}F(x)=F(x_0)\n",
    "\n",
    "则称其为累积分布函数（CDF）。"
   ]
  },
  {
   "cell_type": "code",
   "execution_count": null,
   "id": "correct-assault",
   "metadata": {},
   "outputs": [],
   "source": [
    "\n",
    "通过累积分布函数可以求出各种概率值：\n",
    "P(X \\le a)=F(a)\n",
    "P(X > a)=1-P(X \\le a)=1-F(a)\n",
    "P(X < a)=F(a-0)\n",
    "P(X \\ge a)=1-P(X < a)=1-F(a-0)\n",
    "P(X=a)=P(X \\le a)-P(X < a)=F(a)-F(a-0)\n",
    "P(a < X \\le b)=P(X \\le b)-P(X \\le a)=F(b)-F(a)\n",
    "P(a \\le X \\le b)=P(X \\le b)-P(X < a)=F(b)-F(a-0)"
   ]
  },
  {
   "cell_type": "code",
   "execution_count": null,
   "id": "intended-evaluation",
   "metadata": {},
   "outputs": [],
   "source": [
    "也就是说木方的边长是一个随机变量X，符合均匀分布：\n",
    "\n",
    "X\\sim U（a,b),\\quad (0 < a < b)\n",
    "\n",
    "那么它的面积Y=X^2，符合什么分布呢？\n",
    "\n",
    "解\\quad记X、Y的累积分布函数为F_X(x)、F_Y(y)，对应的概率密度函数为p_X(x)、p_Y(y)，其中p_X(x)是已知的：\n",
    "\n",
    "\n",
    "p_X(x)=\n",
    "\\begin{cases}\n",
    "    \\frac{1}{b-a}, &a < x < b\\\\\n",
    "    0, & 其它\n",
    "\\end{cases}\n",
    "\n",
    "下面先来求F_Y(y)：\n",
    "\n",
    "\\begin{aligned}\n",
    "F_Y(y)\n",
    "    &=P(Y\\le y)=P(X^2\\le y) \\\\\n",
    "    \\\\\n",
    "    &=P(X\\le \\sqrt{y})=F_X(\\sqrt{y})\n",
    "\\end{aligned}\n"
   ]
  },
  {
   "cell_type": "code",
   "execution_count": null,
   "id": "nearby-target",
   "metadata": {},
   "outputs": [],
   "source": [
    "设X是连续随机变量，其概率密度函数为p_X(x)，Y=g(X)是另外一个随机变量。若y=g(x)严格单调，其反函数h(y)有连续导函数，则Y=g(X)的概率密度函数为：\n",
    "\n",
    "p_Y(y)=\\begin{cases}\n",
    "    p_X\\left[\\ h(y)\\ \\right]\\left|\\ h'(y)\\ \\right|,& a < y < b\\\\\n",
    "    0,&其它\n",
    "\\end{cases}\n",
    "\n",
    "其中a=min\\left[\\ g(-\\infty),\\ g(\\infty)\\ \\right]，b=max\\left[\\ g(-\\infty),\\ g(\\infty)\\ \\right]。"
   ]
  },
  {
   "cell_type": "code",
   "execution_count": null,
   "id": "floating-fitting",
   "metadata": {},
   "outputs": [],
   "source": [
    "虽然上面以正态分布为例子，但是正态分布的累积分布函数太复杂，其中涉及到非初等函数，下面通过指数分布进行说明，假设X\\sim Exp(\\lambda)，其累积分布函数为：\n",
    "\n",
    "F(x)=1-e^{-\\lambda x}\n",
    "\n",
    "这是一个严格递增的函数，所以根据上面的定理，把x改为X就得到均匀分布：\n",
    "\n",
    "U=1-e^{-\\lambda X}\\sim U(0,1)\n",
    "\n",
    "也可以改写为：\n",
    "\n",
    "X=\\frac{1}{\\lambda}\\ln\\frac{1}{1-U}\n",
    "\n",
    "那么通过random()得到服从均分分布的随机数字u，如下换算后：\n",
    "\n",
    "x=\\frac{1}{\\lambda}\\ln\\frac{1}{1-u}\n",
    "\n",
    "就可以得到服从指数分布的数字x，这种方法也称为\\color{Salmon}{逆采样变换}（Inverse transform sampling）。"
   ]
  }
 ],
 "metadata": {
  "kernelspec": {
   "display_name": "Python 3",
   "language": "python",
   "name": "python3"
  },
  "language_info": {
   "codemirror_mode": {
    "name": "ipython",
    "version": 3
   },
   "file_extension": ".py",
   "mimetype": "text/x-python",
   "name": "python",
   "nbconvert_exporter": "python",
   "pygments_lexer": "ipython3",
   "version": "3.8.2"
  }
 },
 "nbformat": 4,
 "nbformat_minor": 5
}
