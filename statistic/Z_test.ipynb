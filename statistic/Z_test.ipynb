{
 "cells": [
  {
   "cell_type": "markdown",
   "id": "defensive-saskatchewan",
   "metadata": {},
   "source": [
    "<img src = \"img/z-test1.jpeg\">\n",
    "<img src = \"img/z_test1.png\">"
   ]
  },
  {
   "cell_type": "code",
   "execution_count": 1,
   "id": "banner-bullet",
   "metadata": {},
   "outputs": [],
   "source": [
    "import numpy as np\n",
    "import scipy.stats as ss\n",
    "import statsmodels.stats as sm"
   ]
  },
  {
   "cell_type": "markdown",
   "id": "gorgeous-champion",
   "metadata": {},
   "source": [
    "# 1. 正态总体检验\n",
    "## 1.1 总体均值检验"
   ]
  },
  {
   "cell_type": "code",
   "execution_count": 71,
   "id": "developmental-galaxy",
   "metadata": {},
   "outputs": [],
   "source": [
    "def z_test(mean, mu, sigma, n, typ):\n",
    "    '''\n",
    "    1. this functions has 5 parameters. According to Z test formula. \n",
    "    mean 样本均值\n",
    "    mu 总体均值\n",
    "    sigma 总体标准\n",
    "    S为样本的标准差\n",
    "    n 样本大小\n",
    "    2. when typ is left, p is one side left.\n",
    "    3. when typ is 2, p is two sides.\n",
    "    4. else, p is one side from right.\n",
    "    '''\n",
    "    # 计算z统计量. 分子其实就是标准误， z统计量，就是标准分。\n",
    "    z = (mean-mu)/(sigma/np.sqrt(n)) \n",
    "    if typ == 2:\n",
    "        # 求出z的概率\n",
    "        # 1. 因为目的是检验样本的均值与总体的均值是否相等 = 。 因此使用双边检验。要先使用1-cdf，并且✖️2.\n",
    "        p = (1-ss.norm.cdf(np.abs(z)))*2\n",
    "    elif typ == \"left\":\n",
    "        p = ss.norm.cdf(np.abs(z))\n",
    "    else:\n",
    "        # 2. 如果要检验样本均值是否 < 或 > 总体均值，则需要单边p。\n",
    "        p = 1-ss.norm.cdf(np.abs(z))\n",
    "    return p"
   ]
  },
  {
   "cell_type": "markdown",
   "id": "noticed-attack",
   "metadata": {},
   "source": [
    "- 已知总体均值\n",
    "\n",
    "例1:某机床厂加工一种零件，根据经验知道，该厂加工零件的椭圆度近似服从正态分布，其总体均值为μ=0.081mm,总体标准差为σ=0.025,今换一种新机床进行加工，抽取n=200个零件进行检验，得到的椭圆度均值为0.076mm,试问新机床加工零件的椭圆度的均值与以前有无显著差异？(α=0.05)"
   ]
  },
  {
   "cell_type": "markdown",
   "id": "activated-guinea",
   "metadata": {},
   "source": [
    "做出假设:\n",
    "\n",
    "$H_0:μ=0.081$ # 双边检验\n",
    "\n",
    "$H_1:μ≠0.081$\n",
    "\n",
    "确定统计量:\n",
    "\n",
    "n=200,\n",
    "\n",
    "$\\sigma=0.025$\n",
    "\n",
    "规定显著性水平:\n",
    "\n",
    "α=0.05"
   ]
  },
  {
   "cell_type": "code",
   "execution_count": 65,
   "id": "elect-envelope",
   "metadata": {},
   "outputs": [
    {
     "data": {
      "text/plain": [
       "0.004677734981047177"
      ]
     },
     "execution_count": 65,
     "metadata": {},
     "output_type": "execute_result"
    }
   ],
   "source": [
    "mu= 0.081 #总体的均值\n",
    "sigma = 0.025#总体体标准差\n",
    "n = 200  # 样本容量\n",
    "mean = 0.076 # 样本均值\n",
    "z_test(mean, mu, sigma, n, typ=2)"
   ]
  },
  {
   "cell_type": "code",
   "execution_count": 66,
   "id": "destroyed-rebel",
   "metadata": {},
   "outputs": [],
   "source": [
    "# 结论，rfa = 0.05 > p = 0.46 拒绝原假设。\n",
    "# 因为是双边检测，结论可以是 α/2 = 0.25 > p/2 0.23 拒绝原假设。"
   ]
  },
  {
   "cell_type": "markdown",
   "id": "appropriate-termination",
   "metadata": {},
   "source": [
    "例2:根据过去大量资料，某厂生产的灯泡的使用寿命服从正态分布$N~(1020,100^2)$,现从最近生产的一批产品中随机抽取16只,测得样本的平均寿命为1080小时,试在0.05的显著水平下判断这批产品的使用寿命是否有显著提高.(α=0.05)"
   ]
  },
  {
   "cell_type": "markdown",
   "id": "baking-exemption",
   "metadata": {},
   "source": [
    "1. 提出假设\n",
    "\n",
    "$H_0:μ⩽1020 原假设为<= 单侧右侧检验。$\n",
    "\n",
    "$H_1:μ>1020 $ \n",
    "\n",
    "2. 确定统计量\n",
    "\n",
    "n = 16\n",
    "\n",
    "mean = 1080\n",
    "\n",
    "sigma = 100\n",
    "\n",
    "mu = 1020\n",
    "\n",
    "3. 规定显著水平 (α=0.05)"
   ]
  },
  {
   "cell_type": "code",
   "execution_count": 67,
   "id": "governing-responsibility",
   "metadata": {},
   "outputs": [
    {
     "data": {
      "text/plain": [
       "0.008197535924596155"
      ]
     },
     "execution_count": 67,
     "metadata": {},
     "output_type": "execute_result"
    }
   ],
   "source": [
    "n = 16\n",
    "mean = 1080\n",
    "sigma = 100\n",
    "mu = 1020\n",
    "z_test(mean, mu, sigma, n, typ=1)"
   ]
  },
  {
   "cell_type": "code",
   "execution_count": 68,
   "id": "sought-boxing",
   "metadata": {},
   "outputs": [],
   "source": [
    "# 结论 p < α, 接受原假设"
   ]
  },
  {
   "cell_type": "markdown",
   "id": "administrative-saturn",
   "metadata": {},
   "source": [
    "- 总体的标准差未知 大样本\n",
    "\n",
    "例3:某电子元件批量生产的质量标准为平均使用寿命1200小时。某厂宣称他们采用一种新工艺生产的元件质量大大超过规定标准。为了进行验证，随机抽取了100件作为样本，测得平均使用寿命1245小时,标准差300小时,能否说该厂生产的电子元件质量显著地高于规定标准？(α=0.05)"
   ]
  },
  {
   "cell_type": "markdown",
   "id": "veterinary-jones",
   "metadata": {},
   "source": [
    "做出假设:\n",
    "\n",
    "$H_0:μ⩽1200$  # 单边右侧检验\n",
    "\n",
    "$H_1:μ>1200$\n",
    "\n",
    "确定统计量:\n",
    "\n",
    "$ n=100,σ未知,使用{ \\Large z=\\frac{\\bar{X}-\\mu}{S/\\sqrt{n}}}$\n",
    "\n",
    "规定显著性水平:\n",
    "\n",
    "α=0.05"
   ]
  },
  {
   "cell_type": "code",
   "execution_count": 70,
   "id": "located-grenada",
   "metadata": {},
   "outputs": [
    {
     "data": {
      "text/plain": [
       "0.06680720126885809"
      ]
     },
     "execution_count": 70,
     "metadata": {},
     "output_type": "execute_result"
    }
   ],
   "source": [
    "mu = 1200\n",
    "n = 100\n",
    "mean = 1245\n",
    "S = 300 #sigma 总体标准差未知，因此使用样本的标准差。\n",
    "z_test(mean, mu,S, n,typ=0)"
   ]
  },
  {
   "cell_type": "code",
   "execution_count": 61,
   "id": "round-december",
   "metadata": {},
   "outputs": [],
   "source": [
    "# p>α 接受原假设。"
   ]
  },
  {
   "cell_type": "code",
   "execution_count": null,
   "id": "right-grove",
   "metadata": {},
   "outputs": [],
   "source": []
  }
 ],
 "metadata": {
  "kernelspec": {
   "display_name": "Python 3",
   "language": "python",
   "name": "python3"
  },
  "language_info": {
   "codemirror_mode": {
    "name": "ipython",
    "version": 3
   },
   "file_extension": ".py",
   "mimetype": "text/x-python",
   "name": "python",
   "nbconvert_exporter": "python",
   "pygments_lexer": "ipython3",
   "version": "3.8.2"
  }
 },
 "nbformat": 4,
 "nbformat_minor": 5
}
