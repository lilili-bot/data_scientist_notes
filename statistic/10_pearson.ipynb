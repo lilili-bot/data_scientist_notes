{
 "cells": [
  {
   "cell_type": "markdown",
   "id": "animal-tongue",
   "metadata": {},
   "source": [
    "1. Pearson相关系数\n",
    "\n",
    " 1.1 协方差(如何通俗地理解协方差与相关系数？)\n",
    "\n",
    "$设(X,Y)(X,Y)是一个二维随机变量，若E\\Big[(X-\\mu_X)(Y-\\mu_Y)\\Big]$存在，则称此数学期望为XX与YY的协方差（Covariant），记作：\n",
    "\n",
    "$Cov(X,Y)=E\\Big[(X-\\mu_X)(Y-\\mu_Y)\\Big]$\n",
    "\n",
    "特别地有Cov(X,X)=Var(X)Cov(X,X)=Var(X)。\n",
    "\n",
    " 1.2 Pearson相关系数\n",
    "\n",
    "貌似协方差已经能够评估XX、YY的相关性了，那么为什么还要使用Pearson相关系数呢？\n",
    "\n",
    "协方差的大小跟变量本身的标准差有关！\n",
    "\n",
    "假如有三个变量A、B、C，其中$\\sigma_B>\\sigma_C$ 如果Cov(A,B) >Cov(A,C)Cov(A,B)>Cov(A,C)能否说明A和B的相关性要比A和C的相关性强呢？\n",
    "\n",
    " !!! 答案是不一定!!!\n",
    "\n",
    "因此，我们为了比较二者之间的相关性孰强孰弱，就必须排除变量AA、BB、CC本身的标准差的影响，因此我们需要Pearson相关系数：\n",
    "\n",
    " 1.3 对于二维随机变量(X,Y)(X,Y)，各自的方差为：\n",
    "\n",
    "$Var(X)=\\sigma^2_X,\\quad Var(Y)=\\sigma^2_Y$\n",
    "\n",
    "则：\n",
    "\n",
    "$r=\\rho_{XY}=\\Large \\frac{Cov(X,Y)}{\\sigma_X\\sigma_Y}$\n",
    "\n",
    "- 统计量：\n",
    "\n",
    "$t=r.\\large\\sqrt{\\frac{n-2}{1-r^2}}\\sim t(n-2)∼t(n−2)$\n",
    "\n",
    "n为样本的数量\n",
    "\n",
    "r为相关系数\n",
    "\n",
    "统计量服从t分布\n",
    "\n",
    "计算统计量，查表得到p值\n",
    "\n",
    "- 案例：\n",
    "商店经理想确定周末电视广告播出次数与下周商店销售额之间的关系;\n",
    "<img src=\"img/p1.png\">"
   ]
  },
  {
   "cell_type": "code",
   "execution_count": 2,
   "id": "original-canberra",
   "metadata": {},
   "outputs": [],
   "source": [
    "import numpy as np\n",
    "import scipy.stats as ss"
   ]
  },
  {
   "cell_type": "code",
   "execution_count": 3,
   "id": "studied-joining",
   "metadata": {},
   "outputs": [
    {
     "data": {
      "text/plain": [
       "0.9304905807411791"
      ]
     },
     "execution_count": 3,
     "metadata": {},
     "output_type": "execute_result"
    }
   ],
   "source": [
    "#手动实现\n",
    "x=np.array([2,5,1,3,4,1,5,3,4,2])\n",
    "y=np.array([50,57,41,54,54,38,63,48,59,46])\n",
    "#1. 计算均值\n",
    "mean_x=np.mean(x)\n",
    "mean_y=np.mean(y)\n",
    "#2. 计算协方差\n",
    "cor=np.sum((x-mean_x)*(y-mean_y))/(len(x)-1)\n",
    "#3. 计算相关系数,记得加自由度，因为是样本标准差当总体标准差用。\n",
    "r = cor/(np.std(x, ddof=1)*np.std(y, ddof=1))\n",
    "r"
   ]
  },
  {
   "cell_type": "code",
   "execution_count": 11,
   "id": "healthy-bunny",
   "metadata": {},
   "outputs": [],
   "source": [
    "#4. 计算统计量t\n",
    "t = r*np.sqrt((len(x)-2)/(1-r**2))"
   ]
  },
  {
   "cell_type": "code",
   "execution_count": 16,
   "id": "wicked-public",
   "metadata": {},
   "outputs": [],
   "source": [
    "#5. 计算p值\n",
    "p = 2*(1-ss.t.cdf(t,len(x)-2))"
   ]
  },
  {
   "cell_type": "code",
   "execution_count": 17,
   "id": "demanding-shepherd",
   "metadata": {},
   "outputs": [
    {
     "data": {
      "text/plain": [
       "9.385534016437269e-05"
      ]
     },
     "execution_count": 17,
     "metadata": {},
     "output_type": "execute_result"
    }
   ],
   "source": [
    "p"
   ]
  },
  {
   "cell_type": "code",
   "execution_count": 20,
   "id": "distinct-adolescent",
   "metadata": {},
   "outputs": [],
   "source": [
    "# - api\n",
    "t,p = ss.pearsonr(x,y)"
   ]
  },
  {
   "cell_type": "code",
   "execution_count": 22,
   "id": "figured-exploration",
   "metadata": {},
   "outputs": [
    {
     "data": {
      "text/plain": [
       "(0.9304905807411791, 9.385534016441817e-05)"
      ]
     },
     "execution_count": 22,
     "metadata": {},
     "output_type": "execute_result"
    }
   ],
   "source": [
    "t, p # p>0.05 强相关"
   ]
  },
  {
   "cell_type": "markdown",
   "id": "wicked-disease",
   "metadata": {},
   "source": [
    "- 注意：\n",
    "\n",
    "1.相关系数提供了线性但不是因果关系的一个度量，两个变量之间较高的相关系数，并不意味着一个变量的变化会引起另一个变量的变化。\n",
    "\n",
    "例如，我们看到，饭店的质量等级和代表性餐价是正相关的，但是，简单地增加饭店的餐价并不会提供单调的质量等级。\n",
    "\n",
    "2.Pearson相关系数没有单位, 不受变量量平移伸缩的影响\n",
    "<img src=\"img/p.png\">\n",
    "\n",
    "- Pearson相关系数的缺点：\n",
    "\n",
    "1.只能对线性相关关系进行衡量\n",
    "\n",
    "没有线性关系 ≠ 没有关系\n",
    "\n",
    "2.必须假设数据是成对地从正态分布中取得的"
   ]
  },
  {
   "cell_type": "code",
   "execution_count": null,
   "id": "treated-harbor",
   "metadata": {},
   "outputs": [],
   "source": []
  }
 ],
 "metadata": {
  "kernelspec": {
   "display_name": "Python 3",
   "language": "python",
   "name": "python3"
  },
  "language_info": {
   "codemirror_mode": {
    "name": "ipython",
    "version": 3
   },
   "file_extension": ".py",
   "mimetype": "text/x-python",
   "name": "python",
   "nbconvert_exporter": "python",
   "pygments_lexer": "ipython3",
   "version": "3.8.2"
  }
 },
 "nbformat": 4,
 "nbformat_minor": 5
}
