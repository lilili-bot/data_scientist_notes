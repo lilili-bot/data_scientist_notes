{
 "cells": [
  {
   "cell_type": "code",
   "execution_count": null,
   "id": "accepting-business",
   "metadata": {},
   "outputs": [],
   "source": [
    "如果X_1(\\omega)，X_2(\\omega)，\\cdots，X_n(\\omega)是定义在同一个样本空间\\Omega=\\{\\omega\\}上的n个随机变量，则称：\n",
    "X(\\omega)=(X_1(\\omega),X_2(\\omega),\\cdots,X_n(\\omega))\n",
    "\n",
    "为\\color{Salmon}{n维随机变量}或\\color{Salmon}{随机向量}。"
   ]
  },
  {
   "cell_type": "code",
   "execution_count": null,
   "id": "vulnerable-certification",
   "metadata": {},
   "outputs": [],
   "source": [
    "如果二维随机向量(X,Y)所有可能的取值为(x_i,y_j),i,j=1,2,\\cdots，这两个随机变量同时发生的概率可以用函数表示如下：\n",
    "p_{ij}=P(X=x_i,Y=y_j)=P(X=x_i\\ \\color{red}{且}\\ Y=y_j),\\quad i,j=1,2,\\cdots\n",
    "\n",
    "且此函数满足如下性质（即概率的三大公理）：\n",
    "\n",
    "非负性：\n",
    "p_{ij}\\ge 0\n",
    "\n",
    "规范性和可加性\n",
    "\\sum_{i=1}^{\\infty}\\sum_{j=1}^{\\infty}p_{ij}=1\n",
    "\n",
    "则称此函数为(X,Y)的\\color{Salmon}{联合概率质量函数}（Joint Probability Mass Function），或者称为\\color{Salmon}{联合分布列}，此定义可以推广到多维离散随机变量上去。"
   ]
  },
  {
   "cell_type": "code",
   "execution_count": null,
   "id": "false-excerpt",
   "metadata": {},
   "outputs": [],
   "source": [
    "体到这个问题而言可以得到如下的联合概率密度函数，这个函数也可以称为\\color{Salmon}{二维均匀分布}：\n",
    "\n",
    "\n",
    "p(x,y)=\n",
    "\\begin{cases}\n",
    "    \\frac{1}{(10-8)(10-8)}=\\frac{1}{4},&x,y\\in[8,10]\\\\\n",
    "    0,&其它\n",
    "\\end{cases}\n",
    "\n"
   ]
  },
  {
   "cell_type": "code",
   "execution_count": null,
   "id": "dressed-explosion",
   "metadata": {},
   "outputs": [],
   "source": [
    "联合概率密度函数\n",
    "下面给出联合概率密度函数的严格定义：\n",
    "\n",
    "对于某二维随机变量(X,Y)存在二元函数p(x,y)满足：\n",
    "非负性：\n",
    "p(x,y)\\ge 0\n",
    "\n",
    "规范性和可加性（连续的都通过积分来相加）：\n",
    "\\int_{-\\infty}^{+\\infty}\\int_{-\\infty}^{+\\infty}p(x,y)\\mathrm{d}x\\mathrm{d}y=1\n",
    "\n",
    "则称此函数为(X,Y)的\\color{Salmon}{联合概率密度函数}（Joint Probability Density Function），或者称为\\color{Salmon}{联合分布列}，此定义可以推广到多维连续随机变量上去。"
   ]
  },
  {
   "cell_type": "code",
   "execution_count": null,
   "id": "valuable-playlist",
   "metadata": {},
   "outputs": [],
   "source": [
    "离散随机变量有概率质量函数，连续随机变量有概率密度函数，但它们的累积分布函数定义是相同的：\n",
    "\n",
    "设(X,Y)是二维随机变量，对于任意实数x、y，可以定义一个二元函数来表示两个事件同时发生的概率：\n",
    "F(x,y)=P\\Big(\\{X\\le x\\}\\ \\color{red}{且}\\ \\{Y\\le y\\}\\Big)=P(X\\le x, Y\\le y)\n",
    "\n",
    "称为二维随机变量(X,Y)的\\color{Salmon}{联合累积分布函数}（Joint Cumulative Distribution Function），如果混合偏导存在的话，那么：\n",
    "\n",
    "\\frac{\\partial F(x,y)}{\\partial x \\partial y}=p(x,y)\n",
    "\n",
    "得到p(x,y)就是此分布的概率密度函数。此定义和性质可以推广到多维随机变量。"
   ]
  },
  {
   "cell_type": "code",
   "execution_count": null,
   "id": "loose-chapter",
   "metadata": {},
   "outputs": [],
   "source": [
    "下面把刚才的二维均匀分布推广到多维去：\n",
    "\n",
    "设D为R^n中的一个有界区域，其度量（直线为长度，平面为面积，空间为体积等）为S_D，如果多维随机变量(X_1,X_2,\\cdots,X_n)的联合概率密度函数为：\n",
    "\n",
    "p(x_1,x_2,\\cdots,x_n)=\n",
    "\\begin{cases}\n",
    "    \\frac{1}{S_D},&(x_1,x_2,\\cdots,x_n)\\in D\\\\\n",
    "    0,&其它\n",
    "\\end{cases}\n",
    "\n",
    "则称(X_1,X_2,\\cdots,X_n)服从D上的\\color{Salmon}{多维均匀分布}，记作：\n",
    "\n",
    "(X_1,X_2,\\cdots,X_n)\\sim U(D)\n",
    "\n",
    "当D为R^2中的有界区域时，对应的就是古典派的几何概型：\n",
    "\n",
    "P\\Big((X,Y)\\in G\\Big)=\\iint\\limits_{G}\\frac{1}{S_D}\\mathrm{d}x\\mathrm{d}y=\\frac{G的面积}{D的面积}\n",
    "\n",
    "而当D为R^1中的有界区域时，对应的就是一维随机变量的均匀分布。"
   ]
  },
  {
   "cell_type": "code",
   "execution_count": null,
   "id": "ideal-sponsorship",
   "metadata": {},
   "outputs": [],
   "source": [
    "如果二维离散随机变量(X,Y)的联合概率质量函数为：\n",
    "P(X=x_i,Y=y_j),i,j=1,2,\\cdots\n",
    "\n",
    "对j求和所得的函数：\n",
    "\n",
    "\\sum_{j=1}^{\\infty}P(X=x_i,Y=y_j)=P(X=x_i)\n",
    "\n",
    "称为X的\\color{Salmon}{边缘概率质量函数}（Marginal Probability Mass Function），或者称为\\color{Salmon}{边缘分布列}。类似的对i求和所得的函数：\n",
    "\n",
    "\\sum_{i=1}^{\\infty}P(X=x_i,Y=y_j)=P(Y=y_j)\n",
    "\n",
    "称为Y的边缘概率质量函数。"
   ]
  },
  {
   "cell_type": "code",
   "execution_count": null,
   "id": "adjacent-nicaragua",
   "metadata": {},
   "outputs": [],
   "source": [
    "如果二维离散随机变量(X,Y)的联合概率质量函数为：\n",
    "P(X=x_i,Y=y_j),i,j=1,2,\\cdots\n",
    "\n",
    "对j求和所得的函数：\n",
    "\n",
    "\\sum_{j=1}^{\\infty}P(X=x_i,Y=y_j)=P(X=x_i)\n",
    "\n",
    "称为X的\\color{Salmon}{边缘概率质量函数}（Marginal Probability Mass Function），或者称为\\color{Salmon}{边缘分布列}。类似的对i求和所得的函数：\n",
    "\n",
    "\\sum_{i=1}^{\\infty}P(X=x_i,Y=y_j)=P(Y=y_j)\n",
    "\n",
    "称为Y的边缘概率质量函数。"
   ]
  },
  {
   "cell_type": "code",
   "execution_count": null,
   "id": "better-bryan",
   "metadata": {},
   "outputs": [],
   "source": [
    "上述定义还可以推广到多维上去，比如三维随机变量(X,Y,Z)的联合概率质量函数为\n",
    "\n",
    "P(X=x_i,Y=Y_j,Z=z_k),i,j,k=1,2,\\cdots\n",
    "\n",
    "那么对j、k求和就可以得到X的边缘分布列：\n",
    "\n",
    "\\sum_{j=1}^{\\infty}\\sum_{k=1}^{\\infty}P(X=x_i,Y=y_j,Z=z_k)=P(X=x_i)"
   ]
  },
  {
   "cell_type": "code",
   "execution_count": null,
   "id": "union-facility",
   "metadata": {},
   "outputs": [],
   "source": [
    "根据之前的边缘概率质量函数、边缘概率密度函数很容易得到：\n",
    "\n",
    "如果二维连续随机变量(X,Y)的联合累积分布函数为F(x,y)，如下可以得到X的累积分布函数：\n",
    "F_X(x)=\\lim_{y\\to+\\infty}F(x,y)=P(X\\le x,Y < +\\infty)=P(X\\le x)\n",
    "\n",
    "称为X的\\color{Salmon}{边缘累积分布函数}（Marginal Cumulative Distribution Function）。可记作：\n",
    "\n",
    "F_X(x)=F(x,+\\infty)\n",
    "\n",
    "同理可以得到Y的边缘累积分布函数：\n",
    "\n",
    "F_Y(y)=F(+\\infty, y)"
   ]
  },
  {
   "cell_type": "code",
   "execution_count": null,
   "id": "political-durham",
   "metadata": {},
   "outputs": [],
   "source": [
    "\n",
    "边缘累积分布函数也是从联合累积分布函数中还原出X、Y的累积分布函数，也很容易推广到多维上去，比如，已知三位随机变量(X,Y,Z)的联合累积分布函数为F(x,y,z)，用刚才类似的方法可以得到更多的边缘累积分布函数：\n",
    "\n",
    "F_X(x)=F(x,+\\infty,+\\infty)\n",
    "\n",
    "F_Y(y)=F(+\\infty,y,+\\infty)\n",
    "\n",
    "F_Z(z)=F(+\\infty,+\\infty,z)\n",
    "\n",
    "F_{X,Y}(x,y)=F(x,y,+\\infty)\n",
    "\n",
    "F_{X,Z}(x,z)=F(x,+\\infty,z)\n",
    "\n",
    "F_{Y,Z}(y,z)=F(+\\infty,y,z)"
   ]
  },
  {
   "cell_type": "code",
   "execution_count": null,
   "id": "informative-distributor",
   "metadata": {},
   "outputs": [],
   "source": [
    "设n维随机变量(X_1,X_2,\\cdots,X_n)的联合累积分布函数为F(x_1,x_2,\\cdots,x_n)，F_i(x_i)为X_i的边缘累积分布函数，如果对任意n个实数x_1,x_2,\\cdots,x_n满足：\n",
    "\n",
    "F(x_1,x_2,\\cdots,x_n)=\\prod_{i=1}^n F_i(x_i)\n",
    "\n",
    "则称X_1,X_2,\\cdots,X_n\\color{Salmon}{相互独立}。"
   ]
  },
  {
   "cell_type": "code",
   "execution_count": null,
   "id": "suffering-sweden",
   "metadata": {},
   "outputs": [],
   "source": [
    "在离散随机变量场合，如果对任意n个实数x_1,x_2,\\cdots,x_n满足：\n",
    "\n",
    "P(X_1=x_1,X_2=x_2,\\cdots,X_n=x_n)=\\prod_{i=1}^n P(X_i=x_i)\n",
    "\n",
    "则称X_1,X_2,\\cdots,X_n\\color{Salmon}{相互独立}。"
   ]
  },
  {
   "cell_type": "code",
   "execution_count": null,
   "id": "individual-comfort",
   "metadata": {},
   "outputs": [],
   "source": [
    "在连续随机变量场合，如果对任意n个实数x_1,x_2,\\cdots,x_n满足：\n",
    "\n",
    "p(x_1,x_2,\\cdots,x_n)=\\prod_{i=1}^n p_i(x_i)\n",
    "\n",
    "则称X_1,X_2,\\cdots,X_n\\color{Salmon}{相互独立}。"
   ]
  },
  {
   "cell_type": "code",
   "execution_count": null,
   "id": "architectural-harvest",
   "metadata": {},
   "outputs": [],
   "source": [
    "设(X,Y)是二维离散型随机变量，对于固定的j，若P(Y=y_j)\\ge 0，则称：\n",
    "P\\left(X=x_{i} | Y=y_{j}\\right)=\\frac{P\\left(X=x_{i}, Y=y_{j}\\right)}{P\\left(Y=y_{j}\\right)}, i=1,2, \\cdots\n",
    "\n",
    "为Y=y_j条件下的随机变量X的\\color{Salmon}{条件概率质量函数}。同样的对于固定的i，若P(X=x_i)\\ge 0，则称：\n",
    "\n",
    "P\\left(Y=y_{j} | X=x_{i}\\right)=\\frac{P\\left(X=x_{i}, Y=y_{j}\\right)}{P\\left(X=x_{i}\\right)}, j=1,2, \\cdots\n",
    "\n",
    "为X=x_i条件下的随机变量Y的\\color{Salmon}{条件概率质量函数}。"
   ]
  },
  {
   "cell_type": "code",
   "execution_count": null,
   "id": "tracked-wedding",
   "metadata": {},
   "outputs": [],
   "source": [
    "问\\quad设一段时间内进入某商店的顾客人数X服从泊松分布P(\\lambda)：\n",
    "\n",
    "马同学高等数学\n",
    "每个顾客购买某种物品的概率为p，并且各个顾客是否购买该种物品相互独立，求进入商店的顾客购买这种物品的人数Y的PMF。\n",
    "\n",
    "答\\quad可以凭直觉来思考下这个问题，X\\sim P(\\lambda)，也就是说一段时间内平均有\\lambda个客人进入商店；购买某物品的概率为p，那么就是说一段时间内平均有\\lambda p个客人购买此物品，这就意味着Y\\sim P(\\lambda p)，我们来证明看看这个推论对吗？\n",
    "\n",
    "根据题意有：\n",
    "\n",
    "P(X=m)=\\frac{\\lambda^{m}}{m !} \\mathrm{e}^{-\\lambda}, \\quad m=0,1,2, \\cdots\n",
    "\n",
    "在X=m的条件下，且各个顾客购买该种物品相互独立，所以购买此物品的人数Y的条件分布为二项分布b(m,p)：\n",
    "\n",
    "P(Y=k | X=m)=\\left( \\begin{array}{l}{m} \\\\ {k}\\end{array}\\right) p^{k}(1-p)^{m-k}, \\quad k=0,1,2, \\cdots, m\n",
    "\n",
    "由全概率公式可得：\n",
    "\n",
    "\n",
    "\\begin{aligned} \n",
    "    P(Y=k) \n",
    "        &=\\sum_{m=k}^{\\infty} P(X=m) P(Y=k | X=m) \\\\\n",
    "        \\\\\n",
    "        &=\\sum_{m=k}^{\\infty} \\frac{\\lambda^{m}}{m !} \\mathrm{e}^{-\\lambda} \\cdot \\frac{m !}{k !(m-k) !} p^{k}(1-p)^{m-k}\n",
    "        \\\\\n",
    "        &=\\mathrm{e}^{-\\lambda} \\sum_{m=k}^{\\infty} \\frac{\\lambda^{m}}{k !(m-k) !} p^{k}(1-p)^{m-k}\\\\\n",
    "        \\\\\n",
    "        &=e^{-\\lambda} \\frac{(\\lambda p)^{k}}{k !} \\sum_{m=k}^{\\infty} \\frac{[(1-p) \\lambda]^{m-k}}{(m-k) !}\\\\\n",
    "        \\\\\n",
    "        &=\\frac{(\\lambda p)^{k}}{k !} e^{-\\lambda} e^{\\lambda(1-p)}\\\\\n",
    "        \\\\\n",
    "        &=\\frac{(\\lambda p)^{k}}{k !} \\mathrm{e}^{-\\lambda p}, \\quad k=0,1,2, \\cdots\n",
    "\\end{aligned}\n",
    "\n",
    "所以确实有：\n",
    "\n",
    "Y\\sim P(\\lambda p)\n",
    "\n",
    "这道题还告诉我们，条件分布和条件概率没有什么区别，一样可以用于全概率公式、贝叶斯公式。\n",
    "\n"
   ]
  },
  {
   "cell_type": "code",
   "execution_count": null,
   "id": "attempted-summit",
   "metadata": {},
   "outputs": [],
   "source": [
    "设二维连续型随机变量(X,Y)的概率密度函数为p(x,y)，若对于固定的y有边缘概率密度函数p_Y(y) > 0，则：\n",
    "p_{X|Y}(x\\ |\\ y)=\\frac{p(x,y)}{p_Y(y)}\n",
    "\n",
    "为Y=y条件下的随机变量X的\\color{Salmon}{条件概率密度函数}。对应的\\color{Salmon}{条件累积分布函数}为：\n",
    "\n",
    "F_{X|Y}(x\\ |\\ y)=\\int_{-\\infty}^{x}\\frac{p(u,y)}{p_Y(y)}\\mathrm{d}u\n",
    "\n",
    "同样的道理，以X=x为条件有：\n",
    "\n",
    "p_{Y|X}(y\\ |\\ x)=\\frac{p(x,y)}{p_X(x)}\n",
    "\n",
    "F_{Y|X}(y\\ |\\ x)=\\int_{-\\infty}^{y}\\frac{p(x,u)}{p_X(x)}\\mathrm{d}u"
   ]
  },
  {
   "cell_type": "code",
   "execution_count": null,
   "id": "protecting-tomorrow",
   "metadata": {},
   "outputs": [],
   "source": [
    "下面是\\color{Salmon}{全概率}公式的概率密度函数形式：\n",
    "\n",
    "p_{Y}(y)=\\int_{-\\infty}^{+\\infty} p(y | x) p_{X}(x) \\mathrm{d} x\n",
    "\n",
    "p_{X}(x)=\\int_{-\\infty}^{+\\infty} p(x | y) p_{Y}(y) \\mathrm{d} y"
   ]
  },
  {
   "cell_type": "code",
   "execution_count": null,
   "id": "disturbed-pointer",
   "metadata": {},
   "outputs": [],
   "source": [
    "下面是\\color{Salmon}{贝叶斯}公式的概率密度函数形式：\n",
    "\n",
    "\n",
    "\\begin{aligned} \n",
    "    p(x | y) \n",
    "        &=\\frac{p(y | x) p_{X}(x)}{p_{Y}(y)} \\\\\n",
    "        &=\\frac{p(y | x) p_{X}(x)}{\\int_{-\\infty}^{+\\infty} p(y | x) p_{X}(x) \\mathrm{d} x} \n",
    "\\end{aligned}\n"
   ]
  },
  {
   "cell_type": "code",
   "execution_count": null,
   "id": "peaceful-egyptian",
   "metadata": {},
   "outputs": [],
   "source": [
    "设X、Y为两个相互独立的离散随机变量，取值范围为0，1，2，\\cdots，则其和的概率质量函数为：\n",
    "P(X+Y=k)=\\sum_{i=0}^{k}P(X=i)P(Y=k-i)\n",
    "\n",
    "这个概率等式称为离散场合下的\\color{Salmon}{卷积公式}。"
   ]
  },
  {
   "cell_type": "code",
   "execution_count": null,
   "id": "genetic-revelation",
   "metadata": {},
   "outputs": [],
   "source": [
    "设(X,Y)为二维连续型随机变量，概率密度函数为p(x,y)，则Z=X+Y仍为连续型随机变量，其概率密度为：\n",
    "p_{X+Y}(z)=\\int_{-\\infty}^{+\\infty}p(z-y,y)\\mathrm{d}y=\\int_{-\\infty}^{+\\infty}p(x,z-x)\\mathrm{d}x\n",
    "\n",
    "若X、Y为相互独立，其边缘密度函数分别为p_X(x)和p_Y(y)，则其和Z=X+Y的概率密度函数为：\n",
    "\n",
    "p_Z(z)=\\int_{-\\infty}^{+\\infty}p_X(z-y)p_Y(y)\\mathrm{d}y=\\int_{-\\infty}^{+\\infty}p_X(x)p_Y(z-x)\\mathrm{d}x\n",
    "\n",
    "上面两个概率等式称为连续场合下的\\color{Salmon}{卷积公式}。"
   ]
  },
  {
   "cell_type": "code",
   "execution_count": null,
   "id": "expanded-houston",
   "metadata": {},
   "outputs": [],
   "source": [
    "之所以叫卷积公式是因为有如下的算法：假设有两个函数f、g，称(f*g)(n)为两者的\\color{Salmon}{卷积}，其定义为：\n",
    "\n",
    "连续的情况：假设f、g的定义域为实数，有：\n",
    "\\displaystyle (f*g)(n)=\\int_{-\\infty}^{\\infty}f(\\tau)g(n-\\tau)d\\tau\n",
    "\n",
    "离散的情况：假设f、g的定义域为离散的，有：\n",
    "\\displaystyle (f*g)(n)=\\sum _{\\tau=-\\infty }^{\\infty}{f(\\tau)g(n-\\tau)}"
   ]
  },
  {
   "cell_type": "code",
   "execution_count": null,
   "id": "personalized-vulnerability",
   "metadata": {},
   "outputs": [],
   "source": [
    "回头看看之前的卷积公式，确实符合卷积的特点：\n",
    "\n",
    "P(X+Y=\\color{orange}{k})=\\sum_{i=0}^{k}P(X=\\color{orange}{i})P(Y=\\color{orange}{k-i}),\\quad k=i+(k-i)\n",
    "\n",
    "p_Z(\\color{ForestGreen}{z})=\\int_{-\\infty}^{+\\infty}p_X(\\color{ForestGreen}{z-y})p_Y(\\color{ForestGreen}{y})\\mathrm{d}y,\\quad z=(z-y)+y"
   ]
  },
  {
   "cell_type": "code",
   "execution_count": null,
   "id": "fifteen-identification",
   "metadata": {},
   "outputs": [],
   "source": [
    "假设相互独立的随机变量X_1,X_2,\\cdots,X_n都服从伯努利分布：\n",
    "\n",
    "P(X_i=x)=p(x)=\n",
    "\\begin{cases}\n",
    "p,&x=1\\\\\n",
    "1-p,&x=0 \n",
    "\\end{cases},\\quad i=1,2,\\cdots n\n",
    "\n",
    "则它们的和服从二项分布：\n",
    "\n",
    "Y=X_1+X_2+\\cdots+X_n\\sim b(n,p)"
   ]
  },
  {
   "cell_type": "code",
   "execution_count": null,
   "id": "coordinated-murder",
   "metadata": {},
   "outputs": [],
   "source": [
    "设(X,Y)为二维连续型随机变量，概率密度函数为p(x,y)，则Z=\\frac{Y}{X}、Z=XY仍为连续型随机变量，其概率密度分别为：\n",
    "p_{Y/X}(z)=\\int_{-\\infty}^{+\\infty}|x|p(x,xz)\\mathrm{d}x\n",
    "\n",
    "p_{XY}(z)=\\int_{-\\infty}^{+\\infty}\\frac{1}{|x|}p(x,\\frac{z}{x})\\mathrm{d}x"
   ]
  },
  {
   "cell_type": "code",
   "execution_count": null,
   "id": "labeled-reviewer",
   "metadata": {},
   "outputs": [],
   "source": [
    "设X_1、X_2、\\cdots，X_n是相互独立的n个随机变量，各自的累积分布函数为：\n",
    "X_i\\sim F_i(x),\\quad 1,2,\\cdots,n\n",
    "\n",
    "若Y=\\max(X_1,X_2,\\cdots,X_n)，其累积分布函数为：\n",
    "\n",
    "F_Y(y)=\\prod_{i=1}^{n}F_i(y)\n",
    "\n",
    "若Z=\\min(X_1,X_2,\\cdots,X_n)，其累积分布函数为：\n",
    "\n",
    "F_Z(z)=1-\\prod_{i=1}^{n}\\Big(1-F_i(z)\\Big)"
   ]
  }
 ],
 "metadata": {
  "kernelspec": {
   "display_name": "Python 3",
   "language": "python",
   "name": "python3"
  },
  "language_info": {
   "codemirror_mode": {
    "name": "ipython",
    "version": 3
   },
   "file_extension": ".py",
   "mimetype": "text/x-python",
   "name": "python",
   "nbconvert_exporter": "python",
   "pygments_lexer": "ipython3",
   "version": "3.8.2"
  }
 },
 "nbformat": 4,
 "nbformat_minor": 5
}
