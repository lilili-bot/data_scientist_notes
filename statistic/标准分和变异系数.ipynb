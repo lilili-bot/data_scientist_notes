{
 "cells": [
  {
   "cell_type": "code",
   "execution_count": 1,
   "id": "streaming-drive",
   "metadata": {},
   "outputs": [],
   "source": [
    "import numpy as np"
   ]
  },
  {
   "cell_type": "code",
   "execution_count": null,
   "id": "geographic-battlefield",
   "metadata": {},
   "outputs": [],
   "source": [
    "# calculate variance 计算方差\n",
    "np.var(data)"
   ]
  },
  {
   "cell_type": "code",
   "execution_count": null,
   "id": "desirable-defense",
   "metadata": {},
   "outputs": [],
   "source": [
    "# 计算标准分\n",
    "# 注意，每个数据都有一个自己的标准分。z的均值是0，方差是1.\n",
    "z = data - np.mean(data)/np.std(data) # 标准化。"
   ]
  },
  {
   "cell_type": "code",
   "execution_count": null,
   "id": "looking-service",
   "metadata": {},
   "outputs": [],
   "source": [
    "# 变异系数\n",
    "np.std(data)/np.mean(data)"
   ]
  }
 ],
 "metadata": {
  "kernelspec": {
   "display_name": "Python 3",
   "language": "python",
   "name": "python3"
  },
  "language_info": {
   "codemirror_mode": {
    "name": "ipython",
    "version": 3
   },
   "file_extension": ".py",
   "mimetype": "text/x-python",
   "name": "python",
   "nbconvert_exporter": "python",
   "pygments_lexer": "ipython3",
   "version": "3.8.2"
  }
 },
 "nbformat": 4,
 "nbformat_minor": 5
}
