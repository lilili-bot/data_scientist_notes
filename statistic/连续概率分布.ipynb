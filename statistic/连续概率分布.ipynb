{
 "cells": [
  {
   "cell_type": "code",
   "execution_count": 57,
   "id": "skilled-helicopter",
   "metadata": {},
   "outputs": [],
   "source": [
    "import scipy.stats as ss\n",
    "import numpy as np\n",
    "import seaborn as sns\n",
    "import matplotlib.pyplot as plt"
   ]
  },
  {
   "cell_type": "markdown",
   "id": "balanced-blackjack",
   "metadata": {},
   "source": [
    "## 在数学上沿用物理的名词，p(x)也称为概率密度函数\n",
    "\n",
    "$如果函数p(x)满足下列两个条件（对应了概率的三大公理）：$\n",
    "- 非负性：\n",
    "$p(x) \\ge 0$\n",
    "\n",
    "- 规范性（暗含了可加性），因为是连续的，所以通过积分相加：\n",
    "$\\int_{-\\infty}^{+\\infty}p(x)\\mathrm{d}x=1$\n",
    "\n",
    "$则称其为\\color{Salmon}{概率密度函数}（Probability Density Function，简写为PDF）。$\n",
    "\n",
    "## 连续随机变量的期望:\n",
    "$E(X)=\\int_{-\\infty}^{+\\infty}xp(x)\\mathrm{d}x$\n",
    "\n",
    "- 假设g(X)为连续随机变量X的某一函数，则：\n",
    "$E\\left[g(X)\\right]=\\int_{-\\infty}^{+\\infty}g(x)p(x)\\mathrm{d}x$\n",
    "\n",
    "- 若c为常数，则：\n",
    "$E(c)=c$\n",
    "\n",
    "- 数学期望满足：\n",
    "  - 齐次性，对于任意常数a有：\n",
    "$E(aX)=aE(X)$\n",
    "\n",
    "  - 可加性，对于任意两个函数g_1(X)、g_2(X)有：\n",
    "$E\\left[g_1(X)+g_2(X)\\right]=E\\left[g_1(X)\\right]+E\\left[g_2(X)\\right]$\n",
    "\n",
    "## 方差的定义依然是：\n",
    "\n",
    "- $Var(X)=E\\left[\\Big(X-E(X)\\Big)^2\\right]$\n",
    "\n",
    "- 可以通过下式来化简运算：$Var(X)=E\\left(X^2\\right)-\\mu^2$\n",
    "\n",
    "- 若c为常数，则：\n",
    "$Var(c)=0$\n",
    "\n",
    "- 若a、b为常数，则：\n",
    "$Var(aX+b)=a^2Var(X)$\n",
    "\n",
    "## 因为期望、方差的性质对于连续随机变量也是成立的，所以之前证明过的\n",
    "\n",
    "- 马尔可夫不等式：\n",
    "\n",
    "$P(X\\ge a)\\le \\frac{E(X)}{a}$\n",
    "\n",
    "- 切比雪夫不等式：\n",
    "\n",
    "$P(|X-\\mu| \\ge k)\\le \\frac{\\sigma^2}{k^2}$\n",
    "\n",
    "对于连续随机变量也是成立的。"
   ]
  },
  {
   "cell_type": "markdown",
   "id": "white-klein",
   "metadata": {},
   "source": [
    "## 对连续随机变量而言，因为单点的概率始终为0，所以累积分布函数更加常用：\n",
    "$连续随机变量X的概率密度函数为p(x)，则：$\n",
    "$F(x)=P(X \\le x)=\\int_{-\\infty}^{x}p(t)\\mathrm{d}t$\n",
    "\n",
    "$称为X的\\color{Salmon}{累积分布函数}。$\n",
    "\n",
    "还有一个重要性质，根据微积分第一基本定理有：\n",
    "\n",
    "$\\frac{\\mathrm{d}}{\\mathrm{d}x}F(x)=p(x)$"
   ]
  },
  {
   "cell_type": "markdown",
   "id": "according-format",
   "metadata": {},
   "source": [
    "# 2.1 连续概率分布 均匀分布 uniform"
   ]
  },
  {
   "cell_type": "markdown",
   "id": "brief-british",
   "metadata": {},
   "source": [
    "如果连续随机变量X的概率密度函数为：\n",
    "\n",
    "$ p(x)=\n",
    "\\begin{cases}\n",
    "    \\frac{1}{b-a}, &a \\le x \\le b\\\\\n",
    "    0, & 其它\n",
    "\\end{cases}$\n",
    "\n",
    "$则称X服从区间(a,b)上的均匀分布，记作X\\sim U(a,b)，其累积分布函数为：$\n",
    "\n",
    "\n",
    "$F(x)=\\begin{cases}\n",
    "    0,&x < a\\\\\n",
    "    \\frac{x-a}{b-a},&a\\le x < b\\\\\n",
    "    1,&x \\ge b\n",
    "\\end{cases}$\n",
    "\n",
    "期望和方差分别为：\n",
    "\n",
    "$E(X)=\\frac{a+b}{2},\\quad Var(X)=\\frac{(b-a)^2}{12}$"
   ]
  },
  {
   "cell_type": "code",
   "execution_count": 15,
   "id": "monthly-adoption",
   "metadata": {},
   "outputs": [],
   "source": [
    "def plotting(X,f_list, title):\n",
    "    plt.plot(X,f_list)\n",
    "    plt.xlabel(\"x\")\n",
    "    plt.ylabel(\"f(x)\")\n",
    "    plt.title(\"%s\"%title)\n",
    "    plt.show()"
   ]
  },
  {
   "cell_type": "code",
   "execution_count": 19,
   "id": "mathematical-african",
   "metadata": {},
   "outputs": [],
   "source": [
    "#定义随机变量x\n",
    "a = 0\n",
    "b = 10 \n",
    "\n",
    "#定义随机变量的取值\n",
    "X = np.arange(0,10,0.1)"
   ]
  },
  {
   "cell_type": "code",
   "execution_count": 20,
   "id": "gothic-movement",
   "metadata": {},
   "outputs": [],
   "source": [
    "# 输出概率密度\n",
    "f_list = ss.uniform.pdf(X,a,b)"
   ]
  },
  {
   "cell_type": "code",
   "execution_count": 26,
   "id": "incident-norfolk",
   "metadata": {},
   "outputs": [
    {
     "data": {
      "image/png": "[encoded data removed]",
      "text/plain": [
       "<Figure size 432x288 with 1 Axes>"
      ]
     },
     "metadata": {
      "needs_background": "light"
     },
     "output_type": "display_data"
    }
   ],
   "source": [
    "title = \"pdf: uniform a is %0.1f b is %0.1f\"%(a,b)\n",
    "plotting(X, f_list, title=title)"
   ]
  },
  {
   "cell_type": "code",
   "execution_count": 24,
   "id": "documented-worst",
   "metadata": {},
   "outputs": [
    {
     "data": {
      "text/plain": [
       "0.2"
      ]
     },
     "execution_count": 24,
     "metadata": {},
     "output_type": "execute_result"
    }
   ],
   "source": [
    "# 计算x<2的概率\n",
    "ss.uniform.cdf(2,a,b)"
   ]
  },
  {
   "cell_type": "markdown",
   "id": "corresponding-playing",
   "metadata": {},
   "source": [
    "## 2.2 正态分布"
   ]
  },
  {
   "cell_type": "markdown",
   "id": "convenient-antenna",
   "metadata": {},
   "source": [
    "如果连续随机变量X的概率密度函数为：\n",
    "$p(x)=\\frac{1}{\\sigma\\sqrt{2\\pi}}e^{-\\frac{(x-\\mu)^2}{2\\sigma^2}},\\quad -\\infty < x < +\\infty$\n",
    "\n",
    "$则称X服从\\color{Salmon}{正态分布}（normal distribution），也称作\\color{Salmon}{高斯分布}（Gaussian distribution），记作X\\sim N(\\mu,\\sigma^2)，其累积分布函数为：$\n",
    "\n",
    "$F(x)=\\frac{1}{\\sigma\\sqrt{2\\pi}}\\int_{-\\infty}^{x}e^{-\\frac{(t-\\mu)^2}{2\\sigma^2}}\\mathrm{d}t$"
   ]
  },
  {
   "cell_type": "markdown",
   "id": "collaborative-lobby",
   "metadata": {},
   "source": [
    "$我们称\\mu=0、\\sigma=1时的正态分布N(0,1)为\\color{Salmon}{标准正态分布}。$\n",
    "\n",
    "$通常记标准正态变量为Z（Z Score），记标准正态分布的概率密度函数为\\phi(x)，累积分布函数为\\Phi(x)，即：$\n",
    "\n",
    "$\\phi(x)=\\frac{1}{\\sqrt{2\\pi}}e^{-\\frac{x^2}{2}},\\quad -\\infty < x < +\\infty$\n",
    "\n",
    "$\\Phi(x)=\\frac{1}{\\sqrt{2\\pi}}\\int_{-\\infty}^{x}e^{-\\frac{t^2}{2}}\\mathrm{d}t$"
   ]
  },
  {
   "cell_type": "markdown",
   "id": "frequent-usage",
   "metadata": {},
   "source": [
    "$如果X\\sim N(\\mu, \\sigma^2)，那么有：$\n",
    "$aX+b\\sim N(a\\mu+b, a^2\\sigma^2)$\n",
    "\n",
    "$正态分布X\\sim N(\\mu,\\sigma^2)的期望和方差为：$\n",
    "$E(X)=\\mu,\\quad Var(X)=\\sigma^2$"
   ]
  },
  {
   "cell_type": "markdown",
   "id": "dress-spank",
   "metadata": {},
   "source": [
    "<img src=\"img/n1.png\">\n",
    "\n",
    "$ P(\\mu-\\sigma\\le X\\le \\mu+\\sigma)\\approx 68.26\\%$\n",
    "\n",
    "<img src=\"img/n2.png\">"
   ]
  },
  {
   "cell_type": "markdown",
   "id": "dental-peace",
   "metadata": {},
   "source": [
    "<img src=\"img/example.png\">\n",
    "<img src=\"img/e2.png\">"
   ]
  },
  {
   "cell_type": "code",
   "execution_count": 41,
   "id": "selected-department",
   "metadata": {},
   "outputs": [],
   "source": [
    "def norm(mu,sigma):\n",
    "    #定义分布参数\n",
    "    n = ss.norm(mu, sigma)\n",
    "    return n"
   ]
  },
  {
   "cell_type": "code",
   "execution_count": 42,
   "id": "acquired-cover",
   "metadata": {},
   "outputs": [],
   "source": [
    "mu = 0\n",
    "sigma = 1\n",
    "# 生成随机变量\n",
    "X = np.linspace(-5,5,200)"
   ]
  },
  {
   "cell_type": "code",
   "execution_count": 50,
   "id": "stupid-council",
   "metadata": {},
   "outputs": [
    {
     "data": {
      "image/png": "[encoded data removed]",
      "text/plain": [
       "<Figure size 432x288 with 1 Axes>"
      ]
     },
     "metadata": {
      "needs_background": "light"
     },
     "output_type": "display_data"
    }
   ],
   "source": [
    "title = \"CDF:Standard Normal Distribution\"\n",
    "plotting(X, test.cdf(X), title)"
   ]
  },
  {
   "cell_type": "code",
   "execution_count": 51,
   "id": "robust-royal",
   "metadata": {},
   "outputs": [
    {
     "data": {
      "image/png": "[encoded data removed]",
      "text/plain": [
       "<Figure size 432x288 with 1 Axes>"
      ]
     },
     "metadata": {
      "needs_background": "light"
     },
     "output_type": "display_data"
    }
   ],
   "source": [
    "title = \"PDF:Standard Normal Distribution\"\n",
    "plotting(X, test.pdf(X), title)"
   ]
  },
  {
   "cell_type": "code",
   "execution_count": 52,
   "id": "crazy-eight",
   "metadata": {},
   "outputs": [],
   "source": [
    "# 如何计算概率\n",
    "p1=ss.norm.cdf(-2, mu, sigma)"
   ]
  },
  {
   "cell_type": "code",
   "execution_count": 53,
   "id": "editorial-paste",
   "metadata": {},
   "outputs": [
    {
     "data": {
      "text/plain": [
       "0.022750131948179195"
      ]
     },
     "execution_count": 53,
     "metadata": {},
     "output_type": "execute_result"
    }
   ],
   "source": [
    "p1"
   ]
  },
  {
   "cell_type": "code",
   "execution_count": 54,
   "id": "mechanical-range",
   "metadata": {},
   "outputs": [],
   "source": [
    "p2 = ss.norm.cdf(2, mu, sigma)"
   ]
  },
  {
   "cell_type": "code",
   "execution_count": 55,
   "id": "happy-australia",
   "metadata": {},
   "outputs": [
    {
     "data": {
      "text/plain": [
       "0.9772498680518208"
      ]
     },
     "execution_count": 55,
     "metadata": {},
     "output_type": "execute_result"
    }
   ],
   "source": [
    "p2"
   ]
  },
  {
   "cell_type": "markdown",
   "id": "dimensional-invasion",
   "metadata": {},
   "source": [
    "## 正态分布近似替代二项分布\n",
    "\n",
    "- 计算P(X≤a)形式的概率时，正态分布实际上需要计算P(X<a+0.5)\n",
    "- 计算P(X≥b)形式的概率时，正态分布实际上需要计算P(X>b-0.5)\n",
    "- 计算P(a≤X≤b)形式的概率时，正态分布实际上需要计算P(a-0.5<X<b+0.5)\n",
    "\n",
    "## 正态分布代替泊松分布\n",
    "\n",
    "- 随着λ变大，泊松分布图的外形看起来越来越像正态分布。当λ大于15时，就可以通过正态分布近似替代泊松分布，如X~ Po(λ)且λ>15，就可以用X~N(λ，λ)近似替代，同样别忘了连续性修正！"
   ]
  },
  {
   "cell_type": "markdown",
   "id": "southern-economy",
   "metadata": {},
   "source": [
    "- z分布:就是标准正态分布 Z\\sim N(0,1)Z∼N(0,1)\n",
    "\n",
    "- scipy.stats.norm\n",
    "\n",
    "- t分布:scipy.stats.t\n",
    "\n",
    "- F分布:scipy.stats.f\n",
    "\n",
    "- chi2分布:scipy.stats.chi2"
   ]
  },
  {
   "cell_type": "code",
   "execution_count": null,
   "id": "metric-contributor",
   "metadata": {},
   "outputs": [],
   "source": []
  }
 ],
 "metadata": {
  "kernelspec": {
   "display_name": "Python 3",
   "language": "python",
   "name": "python3"
  },
  "language_info": {
   "codemirror_mode": {
    "name": "ipython",
    "version": 3
   },
   "file_extension": ".py",
   "mimetype": "text/x-python",
   "name": "python",
   "nbconvert_exporter": "python",
   "pygments_lexer": "ipython3",
   "version": "3.8.2"
  }
 },
 "nbformat": 4,
 "nbformat_minor": 5
}
