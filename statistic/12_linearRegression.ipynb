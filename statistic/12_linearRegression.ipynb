{
 "cells": [
  {
   "cell_type": "code",
   "execution_count": 1,
   "id": "industrial-cartridge",
   "metadata": {},
   "outputs": [],
   "source": [
    "import numpy as np\n",
    "import l"
   ]
  },
  {
   "cell_type": "code",
   "execution_count": 2,
   "id": "palestinian-bikini",
   "metadata": {},
   "outputs": [],
   "source": [
    "x=[80,66,20,39]\n",
    "y = [78,64,23,41]"
   ]
  },
  {
   "cell_type": "code",
   "execution_count": 3,
   "id": "starting-lodging",
   "metadata": {},
   "outputs": [
    {
     "data": {
      "text/plain": [
       "array([[1.        , 0.99962287],\n",
       "       [0.99962287, 1.        ]])"
      ]
     },
     "execution_count": 3,
     "metadata": {},
     "output_type": "execute_result"
    }
   ],
   "source": [
    "np.corrcoef(x,y)"
   ]
  },
  {
   "cell_type": "code",
   "execution_count": 4,
   "id": "julian-spring",
   "metadata": {},
   "outputs": [
    {
     "data": {
      "text/plain": [
       "23.29565410114084"
      ]
     },
     "execution_count": 4,
     "metadata": {},
     "output_type": "execute_result"
    }
   ],
   "source": [
    "np.std(x)"
   ]
  },
  {
   "cell_type": "code",
   "execution_count": 5,
   "id": "robust-observer",
   "metadata": {},
   "outputs": [
    {
     "data": {
      "text/plain": [
       "21.10094784600919"
      ]
     },
     "execution_count": 5,
     "metadata": {},
     "output_type": "execute_result"
    }
   ],
   "source": [
    "np.std(y)"
   ]
  },
  {
   "cell_type": "code",
   "execution_count": 15,
   "id": "hungry-nation",
   "metadata": {},
   "outputs": [
    {
     "data": {
      "text/plain": [
       "array([[723.58333333, 655.16666667],\n",
       "       [655.16666667, 593.66666667]])"
      ]
     },
     "execution_count": 15,
     "metadata": {},
     "output_type": "execute_result"
    }
   ],
   "source": [
    "np.cov(x,y)"
   ]
  }
 ],
 "metadata": {
  "kernelspec": {
   "display_name": "Python 3",
   "language": "python",
   "name": "python3"
  },
  "language_info": {
   "codemirror_mode": {
    "name": "ipython",
    "version": 3
   },
   "file_extension": ".py",
   "mimetype": "text/x-python",
   "name": "python",
   "nbconvert_exporter": "python",
   "pygments_lexer": "ipython3",
   "version": "3.8.2"
  }
 },
 "nbformat": 4,
 "nbformat_minor": 5
}
