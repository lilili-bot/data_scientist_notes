{
 "cells": [
  {
   "cell_type": "code",
   "execution_count": 4,
   "id": "antique-terrain",
   "metadata": {},
   "outputs": [],
   "source": [
    "import numpy as np\n",
    "import seaborn as sns\n",
    "import "
   ]
  },
  {
   "cell_type": "code",
   "execution_count": 5,
   "id": "fancy-violation",
   "metadata": {},
   "outputs": [],
   "source": [
    "# 定义分布参数\n",
    "a = 0\n",
    "b = 0"
   ]
  },
  {
   "cell_type": "code",
   "execution_count": 6,
   "id": "billion-sharing",
   "metadata": {},
   "outputs": [],
   "source": [
    "#定义随机变量的取值\n",
    "X = np.arange(0,10,0.1)"
   ]
  },
  {
   "cell_type": "code",
   "execution_count": null,
   "id": "funny-singer",
   "metadata": {},
   "outputs": [],
   "source": [
    "#输出概率密度\n",
    "flist = ss.unio"
   ]
  },
  {
   "cell_type": "code",
   "execution_count": null,
   "id": "thousand-uzbekistan",
   "metadata": {},
   "outputs": [],
   "source": []
  }
 ],
 "metadata": {
  "kernelspec": {
   "display_name": "Python 3",
   "language": "python",
   "name": "python3"
  },
  "language_info": {
   "codemirror_mode": {
    "name": "ipython",
    "version": 3
   },
   "file_extension": ".py",
   "mimetype": "text/x-python",
   "name": "python",
   "nbconvert_exporter": "python",
   "pygments_lexer": "ipython3",
   "version": "3.8.2"
  }
 },
 "nbformat": 4,
 "nbformat_minor": 5
}
