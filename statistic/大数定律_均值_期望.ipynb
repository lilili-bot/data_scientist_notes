{
 "cells": [
  {
   "cell_type": "code",
   "execution_count": 22,
   "id": "operating-affairs",
   "metadata": {},
   "outputs": [],
   "source": [
    "import numpy as np\n",
    "import matplotlib.pyplot as plt\n",
    "import seaborn as sns\n",
    "%matplotlib inline"
   ]
  },
  {
   "cell_type": "code",
   "execution_count": 23,
   "id": "banned-attention",
   "metadata": {},
   "outputs": [],
   "source": [
    "# simulating coin experiment\n",
    "def coin(p = 0.5, n = 10000):\n",
    "    # generate uniform distributed numbers\n",
    "    rands = np.random.uniform(0,1,n)\n",
    "    # check results\n",
    "    results = rands < p\n",
    "    return results"
   ]
  },
  {
   "cell_type": "code",
   "execution_count": 24,
   "id": "nutritional-brunei",
   "metadata": {},
   "outputs": [
    {
     "data": {
      "text/plain": [
       "7"
      ]
     },
     "execution_count": 24,
     "metadata": {},
     "output_type": "execute_result"
    }
   ],
   "source": [
    "np.sum(coin(0.5,10))"
   ]
  },
  {
   "cell_type": "code",
   "execution_count": 14,
   "id": "strong-combat",
   "metadata": {},
   "outputs": [
    {
     "data": {
      "text/plain": [
       "(array([ 10,  20,  30,  40,  50,  60,  70,  80,  90, 100]),\n",
       " [0.9,\n",
       "  0.75,\n",
       "  0.6,\n",
       "  0.525,\n",
       "  0.5,\n",
       "  0.5,\n",
       "  0.4857142857142857,\n",
       "  0.4875,\n",
       "  0.5111111111111111,\n",
       "  0.52])"
      ]
     },
     "execution_count": 14,
     "metadata": {},
     "output_type": "execute_result"
    }
   ],
   "source": [
    "# simulate coin tros and calculate\n",
    "p = 0.5\n",
    "n = 3000\n",
    "# start experiment\n",
    "results = coin(p,n)\n",
    "# calculate the frequency, every 10 times of toss.\n",
    "counts= np.arange(10,n,10)\n",
    "freqs = [] # saving frequency in variable.\n",
    "for i in counts:\n",
    "    # get results from 0 to i and calaulte the sum of true.\n",
    "    count = results[:i].sum() # true = 1, false = 0\n",
    "    # calculate frequency\n",
    "    freq = count/i\n",
    "    freqs.append(freq)\n",
    "counts[:10], freqs[:10]    "
   ]
  },
  {
   "cell_type": "code",
   "execution_count": 20,
   "id": "nominated-freight",
   "metadata": {},
   "outputs": [
    {
     "name": "stderr",
     "output_type": "stream",
     "text": [
      "/Users/lilycheng/opt/anaconda3/lib/python3.8/site-packages/seaborn/_decorators.py:36: FutureWarning: Pass the following variables as keyword args: x, y. From version 0.12, the only valid positional argument will be `data`, and passing other arguments without an explicit keyword will result in an error or misinterpretation.\n",
      "  warnings.warn(\n"
     ]
    },
    {
     "data": {
      "text/plain": [
       "<AxesSubplot:>"
      ]
     },
     "execution_count": 20,
     "metadata": {},
     "output_type": "execute_result"
    },
    {
     "data": {
      "image/png": "[encoded data removed]",
      "text/plain": [
       "<Figure size 432x288 with 1 Axes>"
      ]
     },
     "metadata": {
      "needs_background": "light"
     },
     "output_type": "display_data"
    }
   ],
   "source": [
    "# plot\n",
    "sns.lineplot(counts, freqs)"
   ]
  },
  {
   "cell_type": "code",
   "execution_count": null,
   "id": "federal-flush",
   "metadata": {},
   "outputs": [],
   "source": [
    "# conclusion: after 1000, the problility is stabelized around 0.5. "
   ]
  },
  {
   "cell_type": "markdown",
   "id": "guided-knitting",
   "metadata": {},
   "source": [
    "### 均值与期望的区别\n",
    "- 期望是均值在样本趋于无穷时的极限。 \n",
    "- 均值是统计量，\n",
    "- 期望是与概率相连的。\n",
    "- 概率则是频率在样本趋于无穷是的极限。\n",
    "- 两者的结果可能相同，但是意义不同。\n",
    "$数学期望：期望=预期值 E(x)=\\sum xf(x)E(x)=∑xf(x)$"
   ]
  },
  {
   "cell_type": "markdown",
   "id": "renewable-jewelry",
   "metadata": {},
   "source": [
    "### 方差是来衡量随机变量的波动\n",
    "- $方差：方差=风险 D(x)=\\sum (x-\\mu)^2f(x)$"
   ]
  },
  {
   "cell_type": "markdown",
   "id": "motivated-description",
   "metadata": {},
   "source": [
    "- 随机变量有两种类型：离散随机变量和连续随机变量 【知道】\n",
    "- 概率分布分为离散概率分布和连续概率分布 【知道】\n",
    "- 离散概率分布：伯努利分布、二项分布、几何分布、泊松分布\n",
    "- 概率质量函数PMF（Probability Mass Function）\n",
    "- 连续概率分布：均匀分布、正态分布\n",
    "- 概率密度函数PDF（Probability Density Function）\n",
    "- 期望和方差：【掌握】"
   ]
  },
  {
   "cell_type": "code",
   "execution_count": null,
   "id": "fallen-highway",
   "metadata": {},
   "outputs": [],
   "source": []
  }
 ],
 "metadata": {
  "kernelspec": {
   "display_name": "Python 3",
   "language": "python",
   "name": "python3"
  },
  "language_info": {
   "codemirror_mode": {
    "name": "ipython",
    "version": 3
   },
   "file_extension": ".py",
   "mimetype": "text/x-python",
   "name": "python",
   "nbconvert_exporter": "python",
   "pygments_lexer": "ipython3",
   "version": "3.8.2"
  }
 },
 "nbformat": 4,
 "nbformat_minor": 5
}
