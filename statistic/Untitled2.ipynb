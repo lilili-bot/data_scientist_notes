{
 "cells": [
  {
   "cell_type": "code",
   "execution_count": null,
   "id": "statistical-scale",
   "metadata": {},
   "outputs": [],
   "source": [
    "马上可得一个直接的推论（因为E(X)为常数）：\n",
    "\n",
    "E\\Big(E(X)\\Big)=E(X)"
   ]
  },
  {
   "cell_type": "code",
   "execution_count": null,
   "id": "cathedral-indie",
   "metadata": {},
   "outputs": [],
   "source": [
    "设Y是随机变量X的函数Y=g(X)(g是连续函数)。\n",
    "\n",
    "（1）若X为离散随机变量，则（设下式中的级数绝对收敛）：\n",
    "\n",
    "E(Y)=E\\left[g(X)\\right]=\\sum_i g(x_i)p(x_i)\n",
    "\n",
    "（2）若X为连续随机变量，则（设下式中的积分绝对收敛）：\n",
    "\n",
    "E(Y)=E\\left[g(X)\\right]=\\int_{-\\infty}^{+\\infty}g(x)p(x)\\mathrm{d}x"
   ]
  },
  {
   "cell_type": "code",
   "execution_count": null,
   "id": "conscious-county",
   "metadata": {},
   "outputs": [],
   "source": [
    "设Z是随机变量(X,Y)的函数Z=g(X,Y)(g是连续函数)。\n",
    "\n",
    "（1）若(X,Y)为离散随机变量，则（设下式中的级数绝对收敛）：\n",
    "\n",
    "E(Z)=E\\left[g(X,Y)\\right]=\\sum_j\\sum_i g(x_i,y_j)p(x_i,y_j)\n",
    "\n",
    "（2）若(X,Y)为连续随机变量，则（设下式中的积分绝对收敛）：\n",
    "\n",
    "E(Z)=E\\left[g(X,Y)\\right]=\\int_{-\\infty}^{+\\infty}\\int_{-\\infty}^{+\\infty}g(x,y)p(x,y)\\mathrm{d}x\\mathrm{d}y"
   ]
  },
  {
   "cell_type": "code",
   "execution_count": null,
   "id": "committed-uruguay",
   "metadata": {},
   "outputs": [],
   "source": [
    "数学期望满足：\n",
    "齐次性，对于任意常数a有：\n",
    "E(aX)=aE(X)\n",
    "\n",
    "可加性，对于任意两个函数g_1(X)、g_2(X)有：\n",
    "E\\left[g_1(X)+g_2(X)\\right]=E\\left[g_1(X)\\right]+E\\left[g_2(X)\\right]\n",
    "\n",
    "对于多维也成立：\n",
    "\n",
    "E(X+Y)=E(X)+E(Y)\n",
    "\n",
    "E(X_1+X_2+\\cdots+X_n)=E(X_1)+E(X_2)+\\cdots+E(X_n)"
   ]
  },
  {
   "cell_type": "code",
   "execution_count": null,
   "id": "indonesian-fellow",
   "metadata": {},
   "outputs": [],
   "source": [
    "对任意随机变量X与Y都有：\n",
    "\n",
    "\\Big[E(XY)\\Big]^2 \\le E(X^2)E(Y^2)"
   ]
  },
  {
   "cell_type": "code",
   "execution_count": null,
   "id": "naked-staff",
   "metadata": {},
   "outputs": [],
   "source": [
    "设(X,Y)为二维独立随机变量，则有：\n",
    "E(XY)=E(X)E(Y)\n",
    "\n",
    "这个结论可以推广到n维独立随机变量：\n",
    "\n",
    "E\\left(X_{1} X_{2} \\cdots X_{n}\\right)=E\\left(X_{1}\\right) E\\left(X_{2}\\right) \\cdots E\\left(X_{n}\\right)"
   ]
  },
  {
   "cell_type": "code",
   "execution_count": null,
   "id": "timely-catalog",
   "metadata": {},
   "outputs": [],
   "source": [
    "方差定义为（因为直接通过数学期望定义的，所以没有区分离散和连续）：\n",
    "\n",
    "Var(X)=E\\left[\\Big(X-E(X)\\Big)^2\\right]\n",
    "\n",
    "为了写的简单一点，也常常令E(X)=\\mu，那么上式可以改写为：\n",
    "\n",
    "Var(X)=E\\left[(X-\\mu)^2\\right]\n",
    "\n",
    "之前也介绍过，由于方差里面含有平方，在实际应用中需要开平方才能保持单位一致，这就是标准差：\n",
    "\n",
    "\\sigma(X)=\\sqrt{Var(X)}\n",
    "\n",
    "方差、标准差在学习一维随机变量的时候已经介绍过了，不过后来又学习了多维随机变量，所以本课会把方差、标准差（主要是方差）的性质重新梳理、总结一遍。"
   ]
  },
  {
   "cell_type": "code",
   "execution_count": null,
   "id": "annual-belle",
   "metadata": {},
   "outputs": [],
   "source": [
    "Var(X)=E\\left(X^2\\right)-\\mu^2"
   ]
  },
  {
   "cell_type": "code",
   "execution_count": null,
   "id": "second-riding",
   "metadata": {},
   "outputs": [],
   "source": [
    "若c为常数，则：\n",
    "Var(c)=0"
   ]
  },
  {
   "cell_type": "code",
   "execution_count": null,
   "id": "unauthorized-support",
   "metadata": {},
   "outputs": [],
   "source": [
    "下面这个性质说明方差和期望不同，并不是线性的：\n",
    "若a、b为常数，则：\n",
    "Var(aX+b)=a^2Var(X)"
   ]
  },
  {
   "cell_type": "code",
   "execution_count": null,
   "id": "large-buying",
   "metadata": {},
   "outputs": [],
   "source": [
    "设(X,Y)为二维独立随机变量，则有：\n",
    "Var(X\\pm Y)=Var(X)+Var(Y)\n",
    "\n",
    "这个结论可以推广到n维独立随机变量：\n",
    "\n",
    "Var\\left(X_{1}\\pm X_{2}\\pm \\cdots\\pm X_{n}\\right)=Var\\left(X_{1}\\right) +Var\\left(X_{2}\\right)+\\cdots+Var\\left(X_{n}\\right)"
   ]
  },
  {
   "cell_type": "code",
   "execution_count": null,
   "id": "dimensional-portuguese",
   "metadata": {},
   "outputs": [],
   "source": [
    "由于各种各样的原因测量的结果会产生误差，比如说：\n",
    "\n",
    "测量的时候手抖\n",
    "钥匙没有紧贴尺子\n",
    "读数的时候看错了\n",
    "\\cdots\\cdots\n",
    "为了避免这些误差，实践中常常多次测试，最后取算术平均值来作为测量结果，请问这样做有道理吗？\n",
    "\n",
    "答\\quad是有道理的。\n",
    "\n",
    "假设我们做了n次测量，测量的结果都是相互独立的随机变量X_1，X_2，\\cdots，X_n，这些随机变量的方差都为\\sigma^2（这里说的测量误差都是无意引入的，可以认为都很小，所以可以看作方差是相同的），那么它们算术平均值也是随机变量：\n",
    "\n",
    "Y=\\frac{X_1+X_2+\\cdots+X_n}{n}\n",
    "\n",
    "这个随机变量的方差为：\n",
    "\n",
    "\\begin{aligned}\n",
    "    Var(Y)\n",
    "        &=Var(\\frac{X_1+X_2+\\cdots+X_n}{n})\\\\\n",
    "        \\\\\n",
    "        &=\\frac{1}{n^2}Var(X_1)+\\frac{1}{n^2}Var(X_2)+\\cdots+\\frac{1}{n^2}Var(X_n)\\\\\n",
    "        \\\\\n",
    "        &=\\frac{\\sigma^2}{n}\n",
    "\\end{aligned}\n",
    "\n",
    "可以看到方差大大缩小了，这也就意味着误差大大缩小了。所以这么做是有道理的。"
   ]
  },
  {
   "cell_type": "code",
   "execution_count": null,
   "id": "invalid-wichita",
   "metadata": {},
   "outputs": [],
   "source": [
    "Var(X)=0\\iff 存在常数\\ c\\ 使得\\ P(X=c)=1"
   ]
  },
  {
   "cell_type": "code",
   "execution_count": null,
   "id": "loaded-berlin",
   "metadata": {},
   "outputs": [],
   "source": [
    "若a,b,c均为常数，有：\n",
    "\n",
    "化简\n",
    "Var(X)=E\\left(X^2\\right)-[E(X)]^2\n",
    "常数\n",
    "Var(c)=0\n",
    "相加与常数\n",
    "Var(aX+b)=a^2Var(X)\n",
    "注:方差有时也写作D(X)"
   ]
  },
  {
   "cell_type": "code",
   "execution_count": null,
   "id": "balanced-addiction",
   "metadata": {},
   "outputs": [],
   "source": [
    "如果有n个点的话，那么可以用：\n",
    "\n",
    "(x_i,y_i),\\quad (x_j,y_j),\\quad i,j=1,2,\\cdots,n\n",
    "\n",
    "来表示组成矩形的两个顶点，那么所有矩形的面积的和就可以表示为：\n",
    "\n",
    "A=\\sum\\limits_{i\\le j}(x_i-x_j)(y_i-y_j)\n",
    "\n",
    "那么：\n",
    "\n",
    "\n",
    "X,Y的相关性=\\begin{cases}\n",
    "正相关,&A > 0\\\\\n",
    "负相关,&A < 0\\\\\n",
    "不相关,&A = 0\\\\\n",
    "\\end{cases}\n"
   ]
  },
  {
   "cell_type": "code",
   "execution_count": null,
   "id": "removable-identifier",
   "metadata": {},
   "outputs": [],
   "source": [
    "设(X,Y)是一个二维随机变量，若E\\Big[(X-\\mu_X)(Y-\\mu_Y)\\Big]存在，则称此数学期望为X与Y的\\color{Salmon}{协方差}（Covariant），记作：\n",
    "Cov(X,Y)=E\\Big[(X-\\mu_X)(Y-\\mu_Y)\\Big]\n",
    "\n",
    "特别地有Cov(X,X)=Var(X)。"
   ]
  },
  {
   "cell_type": "code",
   "execution_count": null,
   "id": "aquatic-cinema",
   "metadata": {},
   "outputs": [],
   "source": [
    "可以通过下式来化简运算：\n",
    "Cov(X,Y)=E(XY)-E(X)E(Y)\n",
    "\n",
    "据此马上可以得到一个推论：\n",
    "\n",
    "Cov(X,Y)=Cov(Y,X)"
   ]
  },
  {
   "cell_type": "code",
   "execution_count": null,
   "id": "loose-congress",
   "metadata": {},
   "outputs": [],
   "source": [
    "对于任意的二维随机变量(X,Y)有：\n",
    "Var(X+Y)=Var(X)+Var(Y)+2Cov(X,Y)\n",
    "\n",
    "Var(X-Y)=Var(X)+Var(Y)-2Cov(X,Y)\n",
    "\n",
    "所以当(X,Y)为二维不相关随机变量时，有：\n",
    "\n",
    "Var(X\\pm Y)=Var(X)+Var(Y)"
   ]
  },
  {
   "cell_type": "code",
   "execution_count": null,
   "id": "inner-malta",
   "metadata": {},
   "outputs": [],
   "source": [
    "Cov(X_1+X_2,Y)=Cov(X_1, Y)+Cov(X_2,Y)"
   ]
  },
  {
   "cell_type": "code",
   "execution_count": null,
   "id": "motivated-grill",
   "metadata": {},
   "outputs": [],
   "source": [
    "Cov(aX+c,bY+d)=abCov(X, Y)"
   ]
  },
  {
   "cell_type": "code",
   "execution_count": null,
   "id": "overall-shock",
   "metadata": {},
   "outputs": [],
   "source": [
    "根据刚才的性质：\n",
    "Cov(X,Y)=E(XY)-E(X)E(Y)\n",
    "\n",
    "如果X、Y独立，则有：\n",
    "\n",
    "E(XY)=E(X)E(Y)\\implies Cov(X,Y)=0\n",
    "\n",
    "所以：\n",
    "\n",
    "独立\\implies 不相关"
   ]
  },
  {
   "cell_type": "code",
   "execution_count": null,
   "id": "unique-throat",
   "metadata": {},
   "outputs": [],
   "source": [
    "对于二维随机变量(X,Y)，各自的方差为：\n",
    "Var(X)=\\sigma^2_X,\\quad Var(Y)=\\sigma^2_Y\n",
    "\n",
    "则：\n",
    "\n",
    "\\rho_{XY}=\\frac{Cov(X,Y)}{\\sigma_X\\sigma_Y}\n",
    "\n",
    "称为随机变量X和Y的\\color{Salmon}{相关系数}。\n",
    "\n"
   ]
  },
  {
   "cell_type": "code",
   "execution_count": null,
   "id": "inappropriate-three",
   "metadata": {},
   "outputs": [],
   "source": [
    "对于任意的二维随机变量(X,Y)，若相关系数存在，则：\n",
    "-1\\le\\rho_{XY}\\le 1"
   ]
  },
  {
   "cell_type": "code",
   "execution_count": null,
   "id": "roman-northeast",
   "metadata": {},
   "outputs": [],
   "source": [
    "如果二维随机变量(X,Y)的联合概率密度函数为：\n",
    "\n",
    "\\begin{aligned} \n",
    "    p(x, y)=\n",
    "        & \\frac{1}{2 \\pi \\sigma_{1} \\sigma_{2} \\sqrt{1-\\rho^{2}}} \\exp \\left\\{-\\frac{1}{2\\left(1-\\rho^{2}\\right)}\\left[\\frac{\\left(x-\\mu_{1}\\right)^{2}}{\\sigma_{1}^{2}}\\right.\\right.\\\\ \n",
    "        &-\\frac{2 \\rho\\left(x-\\mu_{1}\\right)\\left(y-\\mu_{2}\\right)}{\\sigma_{1} \\sigma_{2}}+\\frac{\\left(y-\\mu_{2}\\right)^{2}}{\\sigma_{2}^{2}} ] \\} \n",
    "\\end{aligned}\n",
    "\n",
    "则称(X,Y)服从\\color{Salmon}{二维正态分布}，记作：\n",
    "\n",
    "(X,Y)\\sim N(\\mu_1,\\mu_2,\\sigma_1^2,\\sigma_2^2,\\rho)\n",
    "\n",
    "它含有五个参数\\mu_1，\\mu_2，\\sigma_1^2，\\sigma_2^2和\\rho，取值范围分别为：\n",
    "\n",
    "-\\infty<\\mu_{1}<\\infty,-\\infty<\\mu_{2}<\\infty, \\sigma_{1}>0, \\sigma_{2}>0,-1 \\leqslant \\rho \\leqslant 1\n",
    "\n",
    "并且\\mu_1，\\mu_2分别是X、Y的期望；\\sigma_1^2，\\sigma_2^2分别是X、Y的方差；\\rho是X、Y的相关系数。"
   ]
  },
  {
   "cell_type": "code",
   "execution_count": null,
   "id": "appropriate-mistake",
   "metadata": {},
   "outputs": [],
   "source": [
    "对于二维正态分布最重要的性质是，如果(X,Y)服从二维正态分布，那么：\n",
    "\n",
    "X、Y独立\\iff \\rho_{XY}=0"
   ]
  },
  {
   "cell_type": "code",
   "execution_count": null,
   "id": "sophisticated-discovery",
   "metadata": {},
   "outputs": [],
   "source": [
    "1 伯努利大数定律\n",
    "整个概率论的得以存在的基础是，其所研究的随机现象虽然结果不确定，但又有规律可循。这个基础在概率论中被称为\\color{Salmon}{大数定律}（Law of large numbers）。大数定律是一系列的定律，先来介绍\\color{Salmon}{伯努利大数定律}：\n",
    "\n",
    "设n_A是n次重复独立实验中事件A发生的次数，p是事件A在每次实验中发生的概率，则对于任意正数\\epsilon > 0，有：\n",
    "\\lim_{n\\to \\infty}P\\left(\\left|\\frac{n_\\text{A}}{n}-p\\right| < \\epsilon \\right) = 1\n",
    "\n",
    "或：\n",
    "\n",
    "\\lim_{n\\to \\infty}P\\left(\\left|\\frac{n_\\text{A}}{n}-p\\right| \\ge \\epsilon \\right) = 0"
   ]
  },
  {
   "cell_type": "code",
   "execution_count": null,
   "id": "planned-remove",
   "metadata": {},
   "outputs": [],
   "source": [
    "对于任意给出一个\\epsilon > 0（不管\\epsilon有多小），下面这个不等式所代表的事件：\n",
    "\n",
    "“频率P_n越来越接近概率p”=\\Big\\{\\left|\\frac{n_\\text{H}}{n}-p\\right| < \\epsilon\\Big\\}\n",
    "\n",
    "只要n一直增大，其发生的概率为1（即几乎必然发生）：\n",
    "\n",
    "\\lim_{n\\to \\infty}P\\left(\\left|\\frac{n_\\text{H}}{n}-p\\right| < \\epsilon \\right) = 1"
   ]
  },
  {
   "cell_type": "code",
   "execution_count": null,
   "id": "underlying-florence",
   "metadata": {},
   "outputs": [],
   "source": [
    "伯努利大数定律局限于伯努利分布，下面介绍\\color{Salmon}{辛钦大数定律}就没有这个限制，只是要求遵循相同的分布：\n",
    "\n",
    "设有随机变量：\n",
    "X_1,X_2,\\cdots,X_n\n",
    "\n",
    "这些随机变量相互独立，服从同一分布，且具有相同的数学期望：\n",
    "\n",
    "E(X_i)=\\mu,\\quad i=1,2,\\cdots,n\n",
    "\n",
    "令：\n",
    "\n",
    "\\overline{X}=\\frac{X_1+X_2+\\cdots+X_n}{n}\n",
    "\n",
    "则对于任意\\epsilon > 0有：\n",
    "\n",
    "\\lim_{n\\to \\infty}P\\left(\\left|\\overline{X}-\\mu\\right| < \\epsilon \\right) = 1\n",
    "\n",
    "或：\n",
    "\n",
    "\\lim_{n\\to \\infty}P\\left(\\left|\\overline{X}-\\mu\\right| \\ge \\epsilon \\right) = 0\n",
    "\n",
    "也可以表述为：\n",
    "\n",
    "\\overline{X}\\xrightarrow{\\quad P \\quad}\\mu,\\quad n\\to\\infty"
   ]
  },
  {
   "cell_type": "code",
   "execution_count": null,
   "id": "animated-vehicle",
   "metadata": {},
   "outputs": [],
   "source": [
    "弱大数定律（辛钦大数定律），极限符号在P函数外面：\n",
    "\\lim_{n\\to \\infty}P\\left(\\left|\\overline{X}-\\mu\\right| < \\epsilon \\right) = 1"
   ]
  },
  {
   "cell_type": "code",
   "execution_count": null,
   "id": "creative-nature",
   "metadata": {},
   "outputs": [],
   "source": [
    "这个规律正是棣莫弗发现的，被称为\\color{Salmon}{棣莫弗-拉普拉斯定理}（中心极限定理的一种）：\n",
    "\n",
    "设随机变量X\\sim b(n,p)，则对任意x有：\n",
    "\\lim_{n\\to\\infty}P\\left(\\frac{X-np}{\\sqrt{np(1-p)}}\\le x\\right)=\\Phi(x)=\\frac{1}{\\sqrt{2\\pi}}\\int_{-\\infty}^{x}e^{-\\frac{t^2}{2}}\\mathrm{d}t"
   ]
  },
  {
   "cell_type": "code",
   "execution_count": null,
   "id": "graduate-reset",
   "metadata": {},
   "outputs": [],
   "source": [
    "设随机变量：\n",
    "X_i,\\quad i=1,2,\\cdots,n\n",
    "\n",
    "相互独立，服从同一分布，且有相同的数学期望和方差：\n",
    "\n",
    "E(X_i)=\\mu,\\quad Var(X_i)=\\sigma^2\n",
    "\n",
    "则随机变量：\n",
    "\n",
    "Y=\\frac{X_1+X_2+\\cdots+X_n-n\\mu}{\\sigma\\sqrt{n}}\n",
    "\n",
    "对于任意实数y有：\n",
    "\n",
    "\\lim_{n\\to\\infty}F_Y(y)=\\lim_{n\\to\\infty}P(Y\\le y)=\\Phi(y)=\\frac{1}{\\sqrt{2\\pi}}\\int_{-\\infty}^{y}e^{-\\frac{t^2}{2}}\\mathrm{d}t"
   ]
  }
 ],
 "metadata": {
  "kernelspec": {
   "display_name": "Python 3",
   "language": "python",
   "name": "python3"
  },
  "language_info": {
   "codemirror_mode": {
    "name": "ipython",
    "version": 3
   },
   "file_extension": ".py",
   "mimetype": "text/x-python",
   "name": "python",
   "nbconvert_exporter": "python",
   "pygments_lexer": "ipython3",
   "version": "3.8.2"
  }
 },
 "nbformat": 4,
 "nbformat_minor": 5
}
