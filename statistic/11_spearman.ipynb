{
 "cells": [
  {
   "cell_type": "code",
   "execution_count": 1,
   "id": "forbidden-metro",
   "metadata": {},
   "outputs": [],
   "source": [
    "import numpy as np\n",
    "import scipy.stats as ss"
   ]
  },
  {
   "cell_type": "markdown",
   "id": "mysterious-evanescence",
   "metadata": {},
   "source": [
    "## Spearman秩相关系数\n",
    "\n",
    "\n",
    "$对原始数据x ,y 按从大到小排序，记x' ,y'为原始x ,y在排序后列表中的位置，x' ,y'称为x ,y的秩次，秩次差d =x' -y'。Spearman秩相关系数为:$\n",
    "\n",
    "$\\rho_{xy}=1-\\Large\\frac{6\\sum{d_i^2}}{n(n^2-1)}$\n",
    "\n",
    "是一种无参数(与分布无关)检验方法，用于度量变量之间联系的强弱。在没有重复数据的情况下，如果一个变量是另外一个变量的严格单调函数，则Spearman秩相关系数就是+1或-1，称变量完Spearman秩相关。\n",
    "\n",
    "案例：\n",
    "<img src=\"img/s1.png\">\n",
    "对于上表数据，算出Spearman秩相关系数为:1-6*(1+1+1+9)/(6*35)=0.65711−6∗(1+1+1+9)/(6∗35)=0.6571，查阅秩相关系数检验的临界值表:\n",
    "<img src=\"img/s2.png\">"
   ]
  },
  {
   "cell_type": "markdown",
   "id": "internal-offer",
   "metadata": {},
   "source": [
    "置信度=1-显著水平。 上表显示在n=6的时:\n",
    "\n",
    "- 当spearman秩相关系数>=0.829时，我们有95%的置信度认为两个随机变量相关;\n",
    "- 当spearman秩相关系数>=0.943时我们有99%的置信度认为两个随机变量相关;\n",
    "- 由于0.6571<0.829，即置信度达不到95%，所以我们认为X和Y不相关。\n"
   ]
  },
  {
   "cell_type": "code",
   "execution_count": 9,
   "id": "first-tunnel",
   "metadata": {},
   "outputs": [
    {
     "data": {
      "text/plain": [
       "(0.9259964968589902, 0.0001199190766849494)"
      ]
     },
     "execution_count": 9,
     "metadata": {},
     "output_type": "execute_result"
    }
   ],
   "source": [
    "x=np.array([2,5,1,3,4,1,5,3,4,2])\n",
    "y=np.array([50,57,41,54,54,38,63,48,59,46])\n",
    "s,p = ss.spearmanr(x,y)\n",
    "s, p"
   ]
  }
 ],
 "metadata": {
  "kernelspec": {
   "display_name": "Python 3",
   "language": "python",
   "name": "python3"
  },
  "language_info": {
   "codemirror_mode": {
    "name": "ipython",
    "version": 3
   },
   "file_extension": ".py",
   "mimetype": "text/x-python",
   "name": "python",
   "nbconvert_exporter": "python",
   "pygments_lexer": "ipython3",
   "version": "3.8.2"
  }
 },
 "nbformat": 4,
 "nbformat_minor": 5
}
