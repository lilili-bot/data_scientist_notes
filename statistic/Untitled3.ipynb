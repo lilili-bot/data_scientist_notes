{
 "cells": [
  {
   "cell_type": "code",
   "execution_count": null,
   "id": "practical-warehouse",
   "metadata": {},
   "outputs": [],
   "source": [
    "设X_1,X_2,\\cdots,X_n为取自某总体的样本，则称：\n",
    "\n",
    "\\begin{aligned}\n",
    "    S^2\n",
    "        &=\\frac{1}{n-1}\\sum_{i=1}^{n}\\left(X_i-\\overline{X}\\right)^2\\\\\n",
    "        \\\\\n",
    "        &=\\frac{1}{n-1}\\left(\\sum_{i=1}^{n}X_i^2-n\\overline{X}^2\\right)\n",
    "\\end{aligned}\n",
    "\n",
    "为\\color{Salmon}{样本方差}，其算术平方根S=\\sqrt{S^2}称为\\color{Salmon}{样本标准差}。"
   ]
  },
  {
   "cell_type": "code",
   "execution_count": null,
   "id": "governing-buffer",
   "metadata": {},
   "outputs": [],
   "source": [
    "容易知道：\n",
    "(1)Var(\\overline{X})=\\sigma^2/n\n",
    "\n",
    "(2)E(S^2)=\\sigma^2"
   ]
  },
  {
   "cell_type": "code",
   "execution_count": null,
   "id": "primary-compiler",
   "metadata": {},
   "outputs": [],
   "source": [
    "知道样本方差的期望为总体的方差\\sigma^2后，又有大数定律：\n",
    "\n",
    "\\lim_{n\\to \\infty}P\\left(\\left|\\overline{X}-\\mu\\right| < \\epsilon \\right) = 1\n",
    "\n",
    "可知如果采集n个样本，计算出每个样本的样本方差S_1^2，S_2^2，\\cdots，S_n^2，求取算术平均值：\n",
    "\n",
    "\\overline{S^2}=\\frac{S_1^2+S_2^2+\\cdots+S_n^2}{n}\n",
    "\n"
   ]
  },
  {
   "cell_type": "code",
   "execution_count": null,
   "id": "immediate-magnet",
   "metadata": {},
   "outputs": [],
   "source": [
    "从同一总体中抽取两个容量分别为n,m的样本，样本均值为\\overline{x_1},\\overline{x_2},将两组样本合并，则其均值为\n",
    "\n",
    "\\bar{x}=\\frac{n \\bar{x}_{1}+m \\bar{x}_{2}}{n+m}"
   ]
  },
  {
   "cell_type": "code",
   "execution_count": null,
   "id": "generic-slovenia",
   "metadata": {},
   "outputs": [],
   "source": [
    "样本均值的分布\n",
    "\\overline{X}的随机性带来一个问题，\\overline{X}作为\\mu的逼近靠不靠谱？虽然根据大数定理有：\n",
    "\n",
    "\\lim_{n\\to \\infty}P\\left(\\left|\\overline{X}-\\mu\\right| < \\epsilon \\right) = 1\n",
    "\n",
    "但这说的是在样本容量n足够大的时候，\\overline{X}会无限接近于\\mu。而现实中n往往不会特别大，此时就需要通过以下定理来判断\\overline{X}对\\mu的逼近效果：\n",
    "\n",
    "设X_1,X_2,\\cdots,X_n为取自某总体的简单随机样本，对应的样本均值为\\overline{X}，则\\color{Salmon}{样本均值的分布}为：\n",
    "\\quad（1）若总体分布的为N(\\mu, \\sigma^2)，则：\n",
    "\n",
    "\\overline{X}\\sim N(\\mu, \\frac{\\sigma^2}{n})\\quad 或\\quad \\frac{\\overline{X}-\\mu}{\\sigma/\\sqrt{n}}\\sim N(0,1)\n",
    "\n",
    "\\quad（2）若总体分布不是正态分布，E(X)=\\mu，Var(X)=\\sigma^2，则：\n",
    "\n",
    "\\overline{X}\\stackrel{\\cdot}{\\sim} N(\\mu, \\frac{\\sigma^2}{n})\n",
    "\n",
    "其中\\stackrel{\\cdot}{\\sim}表示的是当n足够大时，差不多服从于N(\\mu, \\frac{\\sigma^2}{n})的意思。"
   ]
  },
  {
   "cell_type": "code",
   "execution_count": null,
   "id": "restricted-hometown",
   "metadata": {},
   "outputs": [],
   "source": [
    "卡方分布\n",
    "\n",
    "设随机变量X_1，X_2，\\cdots，X_n相互独立，且都服从标准正态分布N(0,1)，则随机变量：\n",
    "\\chi^2=X_1^2+X_2^2+\\cdots+X_n^2\n",
    "\n",
    "的概率密度函数为：\n",
    "\n",
    "p(x)=\\frac{1}{\\Gamma\\left(\\frac{n}{2}\\right) 2^{n / 2}} x^{\\frac{n}{2}-1} e^{-\\frac{x}{2}},\\quad (x>0)\n",
    "\n",
    "称\\chi^2服从自由度为n的\\color{Salmon}{卡方分布}，记作：\\chi^2\\sim \\chi^2(n)。其期望和方差分别为：\n",
    "\n",
    "E(\\chi^2)=n,\\quad Var(\\chi^2)=2n"
   ]
  },
  {
   "cell_type": "code",
   "execution_count": null,
   "id": "departmental-amateur",
   "metadata": {},
   "outputs": [],
   "source": [
    "设：\n",
    "X\\sim N(0,1),\\quad Y\\sim \\chi^2(n)\n",
    "\n",
    "X和Y相互独立，则随机变量：\n",
    "\n",
    "T=\\frac{X}{\\sqrt{Y/n}}\n",
    "\n",
    "的概率密度函数为：\n",
    "\n",
    "p(x)=\\frac{\\Gamma\\left(\\frac{n+1}{2}\\right)}{\\sqrt{n \\pi}\\  \\Gamma\\left(\\frac{n}{2}\\right)}\\left(1+\\frac{x^{2}}{n}\\right)^{-\\frac{n+1}{2}},\\quad -\\infty < x < +\\infty\n",
    "\n",
    "称T服从自由度为n的\\color{Salmon}{t\\ 分布}，记作：T\\sim t(n)。其期望和方差分别为：\n",
    "\n",
    "E(T)=0,\\quad (n >1)\n",
    "\n",
    "Var(T)=\\frac{n}{n-2},\\quad (n > 2)"
   ]
  },
  {
   "cell_type": "code",
   "execution_count": null,
   "id": "impaired-exception",
   "metadata": {},
   "outputs": [],
   "source": [
    "目录\n",
    "设：\n",
    "X\\sim \\chi^2(n),\\quad Y\\sim \\chi^2(m)\n",
    "\n",
    "X和Y相互独立，则随机变量：\n",
    "\n",
    "F=\\frac{X/n}{Y/m}\n",
    "\n",
    "的概率密度函数为：\n",
    "\n",
    "\n",
    "p(x)=\\frac{\\Gamma\\left(\\frac{m+n}{2}\\right)\\left(\\frac{m}{n}\\right)^{m / 2}}{\\Gamma\\left(\\frac{m}{2}\\right) \\Gamma\\left(\\frac{n}{2}\\right)} x^{\\frac{m}{2}-1}\\left(1+\\frac{m}{n} x\\right)^{-\\frac{m+n}{2}}\n",
    "\n",
    "称F服从自由度为(n,m)的\\color{Salmon}{F\\ 分布}，记作：F\\sim F(n, m)。其期望和方差分别为：\n",
    "\n",
    "E(F)=\\frac{n}{n-2},\\quad (n>2)\n",
    "\n",
    "Var(F)=\\frac{2 n^{2}(m+n-2)}{m(n-2)^{2}(n-4)},\\quad (n > 4)"
   ]
  },
  {
   "cell_type": "code",
   "execution_count": null,
   "id": "designed-prospect",
   "metadata": {},
   "outputs": [],
   "source": [
    "介绍完三大抽样分布，让我们继续来讨论统计量的分布。之前介绍了样本均值\\overline{X}的分布，下面来介绍下样本方差S^2的分布：\n",
    "\n",
    "设X_1,X_2,\\cdots,X_n为取自正态总体N(\\mu,\\sigma^2)的简单随机样本，其样本方差为：\n",
    "S^2=\\frac{1}{n-1}\\sum_{i=1}^{n}\\left(X_i-\\overline{X}\\right)^2\n",
    "\n",
    "则有：\n",
    "\n",
    "\\overline{X}与S^2独立\n",
    "\\frac{(n-1)S^2}{\\sigma^2}\\sim \\chi^2(n-1)"
   ]
  },
  {
   "cell_type": "code",
   "execution_count": null,
   "id": "advised-mailing",
   "metadata": {},
   "outputs": [],
   "source": [
    "之前说了，对于样本均值\\overline{X}的分布基本上是：\n",
    "\n",
    "\\overline{X}\\sim N(\\mu, \\frac{\\sigma^2}{n})\n",
    "\n",
    "但是这有一个问题，需要知道总体方差\\sigma^2为多少？实践中这往往办不到啊，好在有下面的定理：\n",
    "\n",
    "设X_1,X_2,\\cdots,X_n为取自正态总体N(\\mu,\\sigma^2)的简单随机样本，则有：\n",
    "\\frac{\\overline{X}-\\mu}{S/\\sqrt{n}}\\sim t(n-1)"
   ]
  },
  {
   "cell_type": "code",
   "execution_count": null,
   "id": "defensive-teddy",
   "metadata": {},
   "outputs": [],
   "source": [
    "根据这个定理，在研究正态总体的时候，我们就不需要知道总体方差\\sigma^2（大大增加了实用性），只需要算出样本方差S^2就可以知道这两者的差值：\n",
    "\n",
    "\\overline{X}-\\mu\n",
    "\n",
    "被限制在自由度为n-1的t分布范围内（从刚才的图像看t分布和正态分布差不多），也就可以量化用样本均值\\overline{X}逼近总体数学期望\\mu的靠谱程度了。"
   ]
  },
  {
   "cell_type": "code",
   "execution_count": null,
   "id": "assumed-hunter",
   "metadata": {},
   "outputs": [],
   "source": [
    "为什么要引入F分布，下面这个定理就是理由之一：\n",
    "\n",
    "有分别取自两个正态总体N(\\mu_1,\\sigma_1^2)和N(\\mu_2,\\sigma_2^2)的两个简单随机样本：\n",
    "\n",
    "X_1,X_2,\\cdots,X_n \\qquad Y_1,Y_2,\\cdots,Y_m\n",
    "\n",
    "这两个样本相互独立（即两个多维随机向量(X_1,X_2,\\cdots,X_n)与(Y_1,Y_2,\\cdots,Y_m)相互独立），其样本均值为：\n",
    "\n",
    "\\overline{X}=\\frac{1}{n}\\sum_{i=1}^{n}X_i,\\quad \\overline{Y}=\\frac{1}{m}\\sum_{i=1}^{m}Y_i\n",
    "\n",
    "样本方差为：\n",
    "\n",
    "S_X^2=\\frac{1}{n-1}\\sum_{i=1}^{n}(X_i-\\overline{X})^2,\\quad S_Y^2=\\frac{1}{m-1}\\sum_{i=1}^m(Y_i-\\overline{Y})^2\n",
    "\n",
    "则有：\n",
    "\n",
    "\\frac{S_X^2/\\sigma_1^2}{S_Y^2/\\sigma_2^2}=\\frac{S_X^2/S_Y^2}{\\sigma_1^2/\\sigma_2^2}\\sim F(n-1, m-1)"
   ]
  },
  {
   "cell_type": "code",
   "execution_count": null,
   "id": "ambient-italic",
   "metadata": {},
   "outputs": [],
   "source": [
    "设X_1,X_2,\\cdots,X_n为取自某总体的样本，若构造某统计量\\hat\\theta(X_1,X_2,\\cdots,X_n)作为总体分布中未知参数\\theta的近似（或者说估计），可以称此统计量为\\color{Salmon}{估计量}，称此估计量\\hat\\theta为\\theta的\\color{Salmon}{点估计}"
   ]
  },
  {
   "cell_type": "code",
   "execution_count": null,
   "id": "concerned-sharp",
   "metadata": {},
   "outputs": [],
   "source": [
    "肯定不能乱估计、瞎估计，是要讲道理的，比如要满足下面这个定理：\n",
    "\n",
    "设\\hat\\theta=\\hat\\theta(X_1,X_2,\\cdots,X_n)为总体分布的一个未知参数\\theta的点估计，如果对于任意的\\epsilon > 0，始终有：\n",
    "\\lim_{n\\to\\infty} P\\left(|\\hat\\theta-\\theta| < \\epsilon\\right)=1\n",
    "\n",
    "则称\\hat\\theta为\\theta的\\color{Salmon}{一致估计}（有的书本也称为相合估计），或者说\\hat\\theta具有\\color{Salmon}{一致性}。"
   ]
  },
  {
   "cell_type": "code",
   "execution_count": null,
   "id": "racial-shape",
   "metadata": {},
   "outputs": [],
   "source": [
    "若总体X为离散型随机变量，其分布律为：\n",
    "P(X=x)=p(x;\\theta),\\quad \\theta\\in\\Theta\n",
    "\n",
    "其中，\\theta表示某未知参数，\\Theta表示\\theta的可能取值范围。\n",
    "\n",
    "设X_1，X_2，\\cdots，X_n为X的一个简单随机样本，x_1，x_2，\\cdots，x_n为来自该样本的具体数值，则样本联合分布为：\n",
    "\n",
    "\\prod_{i=1}^{n}p(x_i;\\theta)\n",
    "\n",
    "若以\\theta为变量则有：\n",
    "\n",
    "L(x_1,x_2,\\cdots,x_n;\\theta)=\\prod_{i=1}^{n}f(x_i;\\theta)\n",
    "\n",
    "该函数称为样本的\\color{Salmon}{似然函数}（注意该函数中x_1，x_2，\\cdots，x_n都是已知的样本值，它们都是常数）。令该函数取得最大值的\\hat\\theta：\n",
    "\n",
    "L(x_1,x_2,\\cdots,x_n;\\hat\\theta)=\\max_{\\theta\\in\\Theta}L(x_1,x_2,\\cdots,x_n;\\theta)\n",
    "\n",
    "称这个\\hat\\theta为参数\\theta的\\color{Salmon}{最大似然估计值}，因为这个\\hat\\theta只与x_1，x_2，\\cdots，x_n有关，所以也记作\\hat\\theta(x_1,x_2,\\cdots,x_n)。对应的统计量\\hat\\theta(X_1,X_2,\\cdots,X_n)称为\\color{Salmon}{最大似然估计量}。"
   ]
  },
  {
   "cell_type": "code",
   "execution_count": 4,
   "id": "fabulous-spouse",
   "metadata": {},
   "outputs": [],
   "source": [
    "import numpy as np\n",
    "import math"
   ]
  },
  {
   "cell_type": "code",
   "execution_count": 5,
   "id": "extra-split",
   "metadata": {},
   "outputs": [
    {
     "data": {
      "text/plain": [
       "1.0954451150103321"
      ]
     },
     "execution_count": 5,
     "metadata": {},
     "output_type": "execute_result"
    }
   ],
   "source": [
    "np.sqrt(1.2)"
   ]
  },
  {
   "cell_type": "code",
   "execution_count": null,
   "id": "incident-hungarian",
   "metadata": {},
   "outputs": [],
   "source": []
  },
  {
   "cell_type": "code",
   "execution_count": null,
   "id": "powered-immigration",
   "metadata": {},
   "outputs": [],
   "source": []
  }
 ],
 "metadata": {
  "kernelspec": {
   "display_name": "Python 3",
   "language": "python",
   "name": "python3"
  },
  "language_info": {
   "codemirror_mode": {
    "name": "ipython",
    "version": 3
   },
   "file_extension": ".py",
   "mimetype": "text/x-python",
   "name": "python",
   "nbconvert_exporter": "python",
   "pygments_lexer": "ipython3",
   "version": "3.8.2"
  }
 },
 "nbformat": 4,
 "nbformat_minor": 5
}
