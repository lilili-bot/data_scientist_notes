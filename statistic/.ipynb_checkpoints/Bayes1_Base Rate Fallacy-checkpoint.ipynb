{
 "cells": [
  {
   "cell_type": "markdown",
   "id": "grand-brooks",
   "metadata": {},
   "source": [
    "# 1 真的有病吗？\n",
    "已知某种疾病在人群中有2\\%的患病率，可以通过某种手段来检测这种疾病，这种手段有90\\%的正确率。90\\%的正确率很高嘛，似乎被诊断出有病了之后那基本就真的有病了。真的是这样吗？\n",
    "还是来画下树形图，假设有10000个人，2\\%的患病率就是200个人有病：\n",
    "\n",
    "<img src = \"img/tree1.png\">"
   ]
  },
  {
   "cell_type": "code",
   "execution_count": null,
   "id": "neither-crime",
   "metadata": {},
   "outputs": [],
   "source": []
  }
 ],
 "metadata": {
  "kernelspec": {
   "display_name": "Python 3",
   "language": "python",
   "name": "python3"
  },
  "language_info": {
   "codemirror_mode": {
    "name": "ipython",
    "version": 3
   },
   "file_extension": ".py",
   "mimetype": "text/x-python",
   "name": "python",
   "nbconvert_exporter": "python",
   "pygments_lexer": "ipython3",
   "version": "3.8.2"
  }
 },
 "nbformat": 4,
 "nbformat_minor": 5
}
