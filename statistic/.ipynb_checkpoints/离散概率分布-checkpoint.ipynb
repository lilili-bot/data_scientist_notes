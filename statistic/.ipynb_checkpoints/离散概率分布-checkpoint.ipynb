{
 "cells": [
  {
   "cell_type": "code",
   "execution_count": 22,
   "id": "detailed-middle",
   "metadata": {},
   "outputs": [],
   "source": [
    "import scipy.stats as ss\n",
    "import numpy as np\n",
    "import seaborn as sns\n",
    "import matplotlib.pyplot as plt"
   ]
  },
  {
   "cell_type": "markdown",
   "id": "decimal-lighter",
   "metadata": {},
   "source": [
    "# 离散概率分布\n",
    " ## 1.1 伯努利分布"
   ]
  },
  {
   "cell_type": "code",
   "execution_count": 6,
   "id": "foreign-developer",
   "metadata": {},
   "outputs": [],
   "source": [
    "#定义随机变量。伯努利的随机变量取值只能是0，1。\n",
    "X= np.arange(0,2) "
   ]
  },
  {
   "cell_type": "code",
   "execution_count": 18,
   "id": "stylish-ebony",
   "metadata": {},
   "outputs": [],
   "source": [
    "# 设置概率\n",
    "p = 0.5\n",
    "#返回概率分布\n",
    "plist = ss.bernoulli.pmf(X,p)"
   ]
  },
  {
   "cell_type": "code",
   "execution_count": 27,
   "id": "interior-upgrade",
   "metadata": {},
   "outputs": [
    {
     "name": "stderr",
     "output_type": "stream",
     "text": [
      "/Users/lilycheng/opt/anaconda3/lib/python3.8/site-packages/seaborn/_decorators.py:36: FutureWarning: Pass the following variables as keyword args: x, y. From version 0.12, the only valid positional argument will be `data`, and passing other arguments without an explicit keyword will result in an error or misinterpretation.\n",
      "  warnings.warn(\n"
     ]
    },
    {
     "data": {
      "image/png": "[encoded data removed]",
      "text/plain": [
       "<Figure size 432x288 with 1 Axes>"
      ]
     },
     "metadata": {
      "needs_background": "light"
     },
     "output_type": "display_data"
    }
   ],
   "source": [
    "sns.barplot(X,plist)\n",
    "plt.xlabel(\"X\")\n",
    "plt.ylabel(\"p\")\n",
    "plt.show()"
   ]
  },
  {
   "cell_type": "markdown",
   "id": "political-immigration",
   "metadata": {},
   "source": [
    "## 1.2 二项分布\n",
    "\n",
    "$X\\sim b(n,p)$\n",
    "\n",
    "$p(k)=P(X=k)={n\\choose k}p^k(1-p)^{n-k},\\quad k=0,1,\\cdots,n$\n",
    "\n",
    "期望=np （预期成功多少次）\n",
    "\n",
    "方差=np(1-p)（数据波动大小）\n"
   ]
  },
  {
   "cell_type": "code",
   "execution_count": 29,
   "id": "tested-berlin",
   "metadata": {},
   "outputs": [],
   "source": [
    "# 随机事件：抛硬币五次，正面朝上的次数。\n",
    "#定义随机变量, \n",
    "n=5\n",
    "p = 0.5\n",
    "# 生成随机变量的样本空间\n",
    "X = np.arange(0,6,1)"
   ]
  },
  {
   "cell_type": "code",
   "execution_count": 35,
   "id": "light-scanner",
   "metadata": {},
   "outputs": [],
   "source": [
    "#输出概率分布\n",
    "plist1 = ss.binom.pmf(X,n,p)"
   ]
  },
  {
   "cell_type": "code",
   "execution_count": 37,
   "id": "retired-relations",
   "metadata": {},
   "outputs": [
    {
     "name": "stderr",
     "output_type": "stream",
     "text": [
      "/Users/lilycheng/opt/anaconda3/lib/python3.8/site-packages/seaborn/_decorators.py:36: FutureWarning: Pass the following variables as keyword args: x, y. From version 0.12, the only valid positional argument will be `data`, and passing other arguments without an explicit keyword will result in an error or misinterpretation.\n",
      "  warnings.warn(\n"
     ]
    },
    {
     "data": {
      "image/png": "[encoded data removed]",
      "text/plain": [
       "<Figure size 432x288 with 1 Axes>"
      ]
     },
     "metadata": {
      "needs_background": "light"
     },
     "output_type": "display_data"
    }
   ],
   "source": [
    "sns.barplot(X,plist1)\n",
    "plt.xlabel(\"X\")\n",
    "plt.ylabel(\"p\")\n",
    "plt.grid()\n",
    "plt.show()"
   ]
  },
  {
   "cell_type": "code",
   "execution_count": null,
   "id": "acting-interstate",
   "metadata": {},
   "outputs": [],
   "source": []
  }
 ],
 "metadata": {
  "kernelspec": {
   "display_name": "Python 3",
   "language": "python",
   "name": "python3"
  },
  "language_info": {
   "codemirror_mode": {
    "name": "ipython",
    "version": 3
   },
   "file_extension": ".py",
   "mimetype": "text/x-python",
   "name": "python",
   "nbconvert_exporter": "python",
   "pygments_lexer": "ipython3",
   "version": "3.8.2"
  }
 },
 "nbformat": 4,
 "nbformat_minor": 5
}
