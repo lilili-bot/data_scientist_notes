{
 "cells": [
  {
   "cell_type": "code",
   "execution_count": 1,
   "id": "spare-printer",
   "metadata": {},
   "outputs": [],
   "source": [
    "import geopandas as gpd\n",
    "import pandas as pd"
   ]
  },
  {
   "cell_type": "markdown",
   "id": "featured-protection",
   "metadata": {},
   "source": [
    "## TO DO LIST\n",
    "\n",
    "using luftdaten data to get data\n",
    "applying it on map, to create a map of daily pm2.5 situation. "
   ]
  },
  {
   "cell_type": "code",
   "execution_count": 22,
   "id": "original-assault",
   "metadata": {},
   "outputs": [],
   "source": [
    "with open('../data/TG_STAID002759.txt') as f:\n",
    "    df = pd.read_csv('../data/TG_STAID002759.txt',decimal=',',skiprows=range(0,18),skipinitialspace=True,parse_dates=True)"
   ]
  },
  {
   "cell_type": "code",
   "execution_count": 23,
   "id": "minute-stretch",
   "metadata": {},
   "outputs": [
    {
     "data": {
      "text/plain": [
       "Index(['SOUID', 'DATE', 'TG', 'Q_TG'], dtype='object')"
      ]
     },
     "execution_count": 23,
     "metadata": {},
     "output_type": "execute_result"
    }
   ],
   "source": [
    "df.columns"
   ]
  },
  {
   "cell_type": "code",
   "execution_count": 5,
   "id": "simple-arrow",
   "metadata": {},
   "outputs": [],
   "source": [
    "shapefile = gpd.read_file('../data/ne_110m_admin_0_sovereignty.shp')"
   ]
  },
  {
   "cell_type": "code",
   "execution_count": 9,
   "id": "skilled-software",
   "metadata": {},
   "outputs": [],
   "source": [
    "gdf = shapefile[['ADMIN','NAME_ZH','geometry']]\n",
    "gdf.columns=['ADMIN','NAME_ZH','geometry']\n",
    "# can not be used"
   ]
  },
  {
   "cell_type": "code",
   "execution_count": 32,
   "id": "excited-regular",
   "metadata": {},
   "outputs": [
    {
     "data": {
      "text/html": [
       "<div>\n",
       "<style scoped>\n",
       "    .dataframe tbody tr th:only-of-type {\n",
       "        vertical-align: middle;\n",
       "    }\n",
       "\n",
       "    .dataframe tbody tr th {\n",
       "        vertical-align: top;\n",
       "    }\n",
       "\n",
       "    .dataframe thead th {\n",
       "        text-align: right;\n",
       "    }\n",
       "</style>\n",
       "<table border=\"1\" class=\"dataframe\">\n",
       "  <thead>\n",
       "    <tr style=\"text-align: right;\">\n",
       "      <th></th>\n",
       "      <th>plz</th>\n",
       "      <th>note</th>\n",
       "      <th>geometry</th>\n",
       "    </tr>\n",
       "  </thead>\n",
       "  <tbody>\n",
       "    <tr>\n",
       "      <th>0</th>\n",
       "      <td>52538</td>\n",
       "      <td>52538 Gangelt, Selfkant</td>\n",
       "      <td>POLYGON ((5.86632 51.05110, 5.86692 51.05124, ...</td>\n",
       "    </tr>\n",
       "    <tr>\n",
       "      <th>1</th>\n",
       "      <td>47559</td>\n",
       "      <td>47559 Kranenburg</td>\n",
       "      <td>POLYGON ((5.94504 51.82354, 5.94580 51.82409, ...</td>\n",
       "    </tr>\n",
       "    <tr>\n",
       "      <th>2</th>\n",
       "      <td>52525</td>\n",
       "      <td>52525 Waldfeucht, Heinsberg</td>\n",
       "      <td>POLYGON ((5.96811 51.05556, 5.96951 51.05660, ...</td>\n",
       "    </tr>\n",
       "    <tr>\n",
       "      <th>3</th>\n",
       "      <td>52074</td>\n",
       "      <td>52074 Aachen</td>\n",
       "      <td>POLYGON ((5.97486 50.79804, 5.97495 50.79809, ...</td>\n",
       "    </tr>\n",
       "    <tr>\n",
       "      <th>4</th>\n",
       "      <td>52531</td>\n",
       "      <td>52531 Ãbach-Palenberg</td>\n",
       "      <td>POLYGON ((6.01507 50.94788, 6.03854 50.93561, ...</td>\n",
       "    </tr>\n",
       "  </tbody>\n",
       "</table>\n",
       "</div>"
      ],
      "text/plain": [
       "     plz                         note  \\\n",
       "0  52538      52538 Gangelt, Selfkant   \n",
       "1  47559             47559 Kranenburg   \n",
       "2  52525  52525 Waldfeucht, Heinsberg   \n",
       "3  52074                 52074 Aachen   \n",
       "4  52531       52531 Ãbach-Palenberg   \n",
       "\n",
       "                                            geometry  \n",
       "0  POLYGON ((5.86632 51.05110, 5.86692 51.05124, ...  \n",
       "1  POLYGON ((5.94504 51.82354, 5.94580 51.82409, ...  \n",
       "2  POLYGON ((5.96811 51.05556, 5.96951 51.05660, ...  \n",
       "3  POLYGON ((5.97486 50.79804, 5.97495 50.79809, ...  \n",
       "4  POLYGON ((6.01507 50.94788, 6.03854 50.93561, ...  "
      ]
     },
     "execution_count": 32,
     "metadata": {},
     "output_type": "execute_result"
    }
   ],
   "source": [
    "gdf = gpd.read_file('../data/plz-gebiete.shp')\n",
    "gdf.head()"
   ]
  },
  {
   "cell_type": "markdown",
   "id": "fossil-victoria",
   "metadata": {},
   "source": [
    " # locations in weathere data\n",
    " 2759,111448,BERLIN-TEMPELHOF                        ,DE,+52:28:07,+013:24:14,  48, TG3,19480101,20210331,   11,National Climate Data Center (DWD)                \n",
    " 2759,127488,BERLIN-DAHLEM (LFAG)                    ,DE,+52:27:28,+013:18:05,  55, TG3,18760101,19621231,   11,National Climate Data Center (DWD)                \n",
    " 2759,128124,BERLIN-TREPTOW                          ,DE,+52:27:24,+013:28:18,  35, TG3,19470101,19601231,   11,National Climate Data Center (DWD)             "
   ]
  },
  {
   "cell_type": "code",
   "execution_count": null,
   "id": "compound-powder",
   "metadata": {},
   "outputs": [],
   "source": [
    "10965, 12099, 12101, 12103, 12105, 12109, 12279"
   ]
  },
  {
   "cell_type": "code",
   "execution_count": null,
   "id": "treated-awareness",
   "metadata": {},
   "outputs": [],
   "source": []
  },
  {
   "cell_type": "code",
   "execution_count": null,
   "id": "educational-alpha",
   "metadata": {},
   "outputs": [],
   "source": []
  }
 ],
 "metadata": {
  "kernelspec": {
   "display_name": "Python 3",
   "language": "python",
   "name": "python3"
  },
  "language_info": {
   "codemirror_mode": {
    "name": "ipython",
    "version": 3
   },
   "file_extension": ".py",
   "mimetype": "text/x-python",
   "name": "python",
   "nbconvert_exporter": "python",
   "pygments_lexer": "ipython3",
   "version": "3.8.8"
  }
 },
 "nbformat": 4,
 "nbformat_minor": 5
}
