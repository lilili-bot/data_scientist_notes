{
 "cells": [
  {
   "cell_type": "code",
   "execution_count": 1,
   "id": "higher-briefing",
   "metadata": {
    "scrolled": true,
    "tags": []
   },
   "outputs": [],
   "source": [
    "import pandas as pd\n",
    "import time\n",
    "import seaborn as sns\n",
    "import matplotlib.pyplot as plt\n",
    "import numpy as np"
   ]
  },
  {
   "cell_type": "code",
   "execution_count": 2,
   "id": "restricted-ballot",
   "metadata": {
    "tags": []
   },
   "outputs": [
    {
     "name": "stderr",
     "output_type": "stream",
     "text": [
      "<ipython-input-2-8df6baf03cb6>:3: FutureWarning: The default value of regex will change from True to False in a future version. In addition, single character regular expressions will*not* be treated as literal strings when regex=True.\n",
      "  df.columns = df.columns.str.lower().str.replace(' ', '_').str.replace('(', '').str.replace(')', '').str.replace('___','').str.replace('_','')\n"
     ]
    }
   ],
   "source": [
    "with open('../data/TG_STAID002759.txt') as f:\n",
    "    df = pd.read_csv('../data/TG_STAID002759.txt',decimal=',',skiprows=range(0,18),parse_dates=True)\n",
    "    df.columns = df.columns.str.lower().str.replace(' ', '_').str.replace('(', '').str.replace(')', '').str.replace('___','').str.replace('_','')\n",
    "    df['date']=pd.to_datetime(df['date'].astype('str'),format ='%Y%m%d')\n",
    "    df=df.set_index(keys = 'date', drop = False, append = False, \n",
    "                   #verify_integrity=10, improve the performance\n",
    "                  )"
   ]
  },
  {
   "cell_type": "code",
   "execution_count": 3,
   "id": "found-maine",
   "metadata": {},
   "outputs": [],
   "source": [
    "df_cal = df.loc[(df['date']>='2015-01-01')]"
   ]
  },
  {
   "cell_type": "code",
   "execution_count": 4,
   "id": "intensive-winter",
   "metadata": {
    "tags": []
   },
   "outputs": [
    {
     "data": {
      "text/plain": [
       "<AxesSubplot:ylabel='date'>"
      ]
     },
     "execution_count": 4,
     "metadata": {},
     "output_type": "execute_result"
    },
    {
     "data": {
      "image/png": "[encoded data removed]",
      "text/plain": [
       "<Figure size 432x288 with 1 Axes>"
      ]
     },
     "metadata": {
      "needs_background": "light"
     },
     "output_type": "display_data"
    }
   ],
   "source": [
    "sns.heatmap(df_cal.isnull(),cbar=False)"
   ]
  },
  {
   "cell_type": "code",
   "execution_count": 5,
   "id": "radio-familiar",
   "metadata": {},
   "outputs": [
    {
     "data": {
      "text/html": [
       "<div>\n",
       "<style scoped>\n",
       "    .dataframe tbody tr th:only-of-type {\n",
       "        vertical-align: middle;\n",
       "    }\n",
       "\n",
       "    .dataframe tbody tr th {\n",
       "        vertical-align: top;\n",
       "    }\n",
       "\n",
       "    .dataframe thead th {\n",
       "        text-align: right;\n",
       "    }\n",
       "</style>\n",
       "<table border=\"1\" class=\"dataframe\">\n",
       "  <thead>\n",
       "    <tr style=\"text-align: right;\">\n",
       "      <th></th>\n",
       "      <th>souid</th>\n",
       "      <th>date</th>\n",
       "      <th>tg</th>\n",
       "      <th>qtg</th>\n",
       "    </tr>\n",
       "    <tr>\n",
       "      <th>date</th>\n",
       "      <th></th>\n",
       "      <th></th>\n",
       "      <th></th>\n",
       "      <th></th>\n",
       "    </tr>\n",
       "  </thead>\n",
       "  <tbody>\n",
       "    <tr>\n",
       "      <th>2015-01-01</th>\n",
       "      <td>111448</td>\n",
       "      <td>2015-01-01</td>\n",
       "      <td>39</td>\n",
       "      <td>0</td>\n",
       "    </tr>\n",
       "    <tr>\n",
       "      <th>2015-01-02</th>\n",
       "      <td>111448</td>\n",
       "      <td>2015-01-02</td>\n",
       "      <td>54</td>\n",
       "      <td>0</td>\n",
       "    </tr>\n",
       "    <tr>\n",
       "      <th>2015-01-03</th>\n",
       "      <td>111448</td>\n",
       "      <td>2015-01-03</td>\n",
       "      <td>48</td>\n",
       "      <td>0</td>\n",
       "    </tr>\n",
       "    <tr>\n",
       "      <th>2015-01-04</th>\n",
       "      <td>111448</td>\n",
       "      <td>2015-01-04</td>\n",
       "      <td>36</td>\n",
       "      <td>0</td>\n",
       "    </tr>\n",
       "    <tr>\n",
       "      <th>2015-01-05</th>\n",
       "      <td>111448</td>\n",
       "      <td>2015-01-05</td>\n",
       "      <td>34</td>\n",
       "      <td>0</td>\n",
       "    </tr>\n",
       "  </tbody>\n",
       "</table>\n",
       "</div>"
      ],
      "text/plain": [
       "             souid       date  tg  qtg\n",
       "date                                  \n",
       "2015-01-01  111448 2015-01-01  39    0\n",
       "2015-01-02  111448 2015-01-02  54    0\n",
       "2015-01-03  111448 2015-01-03  48    0\n",
       "2015-01-04  111448 2015-01-04  36    0\n",
       "2015-01-05  111448 2015-01-05  34    0"
      ]
     },
     "execution_count": 5,
     "metadata": {},
     "output_type": "execute_result"
    }
   ],
   "source": [
    "df_cal.head()"
   ]
  },
  {
   "cell_type": "code",
   "execution_count": 6,
   "id": "intense-passport",
   "metadata": {
    "scrolled": true,
    "tags": []
   },
   "outputs": [
    {
     "name": "stderr",
     "output_type": "stream",
     "text": [
      "<ipython-input-6-ea5adbb61b8b>:6: SettingWithCopyWarning: \n",
      "A value is trying to be set on a copy of a slice from a DataFrame.\n",
      "Try using .loc[row_indexer,col_indexer] = value instead\n",
      "\n",
      "See the caveats in the documentation: https://pandas.pydata.org/pandas-docs/stable/user_guide/indexing.html#returning-a-view-versus-a-copy\n",
      "  df_cal['mat']=cal_mat(df_cal,29)\n"
     ]
    }
   ],
   "source": [
    "def cal_mat(df,w):\n",
    "    mat = []\n",
    "    for i in range(len(df['tg'])):\n",
    "        mat.append(np.sum(df_cal['tg'][i:i+w])/w)\n",
    "    return mat\n",
    "df_cal['mat']=cal_mat(df_cal,29)    "
   ]
  },
  {
   "cell_type": "code",
   "execution_count": 7,
   "id": "advanced-generation",
   "metadata": {},
   "outputs": [
    {
     "data": {
      "image/png": "[encoded data removed]",
      "text/plain": [
       "<Figure size 432x288 with 1 Axes>"
      ]
     },
     "metadata": {
      "needs_background": "light"
     },
     "output_type": "display_data"
    }
   ],
   "source": [
    "def plot_temp(df,title,ylim=True):\n",
    "    # pandas plotting, it is easier\n",
    "    \n",
    "    df.plot()\n",
    "    plt.title(title)\n",
    "    #plt.xlabel('')\n",
    "    sns.despine()\n",
    "    plt.ylabel('# gt3')\n",
    "    #if ylim:\n",
    "        #plt.ylim(ymin = 0)\n",
    "plot_temp(df_cal[['tg','mat']],'mat')"
   ]
  },
  {
   "cell_type": "code",
   "execution_count": 8,
   "id": "buried-basement",
   "metadata": {
    "scrolled": true,
    "tags": []
   },
   "outputs": [
    {
     "name": "stderr",
     "output_type": "stream",
     "text": [
      "<ipython-input-8-9423e644cd48>:2: SettingWithCopyWarning: \n",
      "A value is trying to be set on a copy of a slice from a DataFrame.\n",
      "Try using .loc[row_indexer,col_indexer] = value instead\n",
      "\n",
      "See the caveats in the documentation: https://pandas.pydata.org/pandas-docs/stable/user_guide/indexing.html#returning-a-view-versus-a-copy\n",
      "  df_cal['sf'] = df_cal['tg']/df_cal['mat']\n"
     ]
    }
   ],
   "source": [
    "# calulate SF\n",
    "df_cal['sf'] = df_cal['tg']/df_cal['mat']"
   ]
  },
  {
   "cell_type": "code",
   "execution_count": 9,
   "id": "artificial-michigan",
   "metadata": {},
   "outputs": [
    {
     "data": {
      "text/html": [
       "<div>\n",
       "<style scoped>\n",
       "    .dataframe tbody tr th:only-of-type {\n",
       "        vertical-align: middle;\n",
       "    }\n",
       "\n",
       "    .dataframe tbody tr th {\n",
       "        vertical-align: top;\n",
       "    }\n",
       "\n",
       "    .dataframe thead th {\n",
       "        text-align: right;\n",
       "    }\n",
       "</style>\n",
       "<table border=\"1\" class=\"dataframe\">\n",
       "  <thead>\n",
       "    <tr style=\"text-align: right;\">\n",
       "      <th></th>\n",
       "      <th>souid</th>\n",
       "      <th>date</th>\n",
       "      <th>tg</th>\n",
       "      <th>qtg</th>\n",
       "      <th>mat</th>\n",
       "      <th>sf</th>\n",
       "    </tr>\n",
       "    <tr>\n",
       "      <th>date</th>\n",
       "      <th></th>\n",
       "      <th></th>\n",
       "      <th></th>\n",
       "      <th></th>\n",
       "      <th></th>\n",
       "      <th></th>\n",
       "    </tr>\n",
       "  </thead>\n",
       "  <tbody>\n",
       "    <tr>\n",
       "      <th>2015-01-01</th>\n",
       "      <td>111448</td>\n",
       "      <td>2015-01-01</td>\n",
       "      <td>39</td>\n",
       "      <td>0</td>\n",
       "      <td>34.482759</td>\n",
       "      <td>1.131000</td>\n",
       "    </tr>\n",
       "    <tr>\n",
       "      <th>2015-01-02</th>\n",
       "      <td>111448</td>\n",
       "      <td>2015-01-02</td>\n",
       "      <td>54</td>\n",
       "      <td>0</td>\n",
       "      <td>33.482759</td>\n",
       "      <td>1.612770</td>\n",
       "    </tr>\n",
       "    <tr>\n",
       "      <th>2015-01-03</th>\n",
       "      <td>111448</td>\n",
       "      <td>2015-01-03</td>\n",
       "      <td>48</td>\n",
       "      <td>0</td>\n",
       "      <td>31.793103</td>\n",
       "      <td>1.509761</td>\n",
       "    </tr>\n",
       "    <tr>\n",
       "      <th>2015-01-04</th>\n",
       "      <td>111448</td>\n",
       "      <td>2015-01-04</td>\n",
       "      <td>36</td>\n",
       "      <td>0</td>\n",
       "      <td>30.517241</td>\n",
       "      <td>1.179661</td>\n",
       "    </tr>\n",
       "    <tr>\n",
       "      <th>2015-01-05</th>\n",
       "      <td>111448</td>\n",
       "      <td>2015-01-05</td>\n",
       "      <td>34</td>\n",
       "      <td>0</td>\n",
       "      <td>29.655172</td>\n",
       "      <td>1.146512</td>\n",
       "    </tr>\n",
       "  </tbody>\n",
       "</table>\n",
       "</div>"
      ],
      "text/plain": [
       "             souid       date  tg  qtg        mat        sf\n",
       "date                                                       \n",
       "2015-01-01  111448 2015-01-01  39    0  34.482759  1.131000\n",
       "2015-01-02  111448 2015-01-02  54    0  33.482759  1.612770\n",
       "2015-01-03  111448 2015-01-03  48    0  31.793103  1.509761\n",
       "2015-01-04  111448 2015-01-04  36    0  30.517241  1.179661\n",
       "2015-01-05  111448 2015-01-05  34    0  29.655172  1.146512"
      ]
     },
     "execution_count": 9,
     "metadata": {},
     "output_type": "execute_result"
    }
   ],
   "source": [
    "df_cal.head()"
   ]
  },
  {
   "cell_type": "code",
   "execution_count": 12,
   "id": "vital-approval",
   "metadata": {},
   "outputs": [],
   "source": [
    "# calulate SI, i will need to average all the sf in vertical time, ever 01-01, 01-02, 01-03 ...... "
   ]
  },
  {
   "cell_type": "code",
   "execution_count": 11,
   "id": "distributed-break",
   "metadata": {},
   "outputs": [
    {
     "name": "stderr",
     "output_type": "stream",
     "text": [
      "<ipython-input-11-0a5da2c852df>:1: SettingWithCopyWarning: \n",
      "A value is trying to be set on a copy of a slice from a DataFrame.\n",
      "Try using .loc[row_indexer,col_indexer] = value instead\n",
      "\n",
      "See the caveats in the documentation: https://pandas.pydata.org/pandas-docs/stable/user_guide/indexing.html#returning-a-view-versus-a-copy\n",
      "  df_cal['MM-DD'] = df_cal.iloc[:,1].dt.strftime('%m-%d')\n"
     ]
    }
   ],
   "source": [
    "df_cal['MM-DD'] = df_cal.iloc[:,1].dt.strftime('%m-%d')"
   ]
  },
  {
   "cell_type": "code",
   "execution_count": 43,
   "id": "accompanied-coordinate",
   "metadata": {},
   "outputs": [],
   "source": [
    "SI = pd.DataFrame(df_cal.groupby('MM-DD')['sf'].mean())"
   ]
  },
  {
   "cell_type": "code",
   "execution_count": 70,
   "id": "direct-reminder",
   "metadata": {},
   "outputs": [],
   "source": [
    "df =pd.DataFrame(df_cal['sf']<=0)"
   ]
  },
  {
   "cell_type": "code",
   "execution_count": 76,
   "id": "chicken-ministry",
   "metadata": {},
   "outputs": [
    {
     "data": {
      "text/plain": [
       "False    2136\n",
       "True      146\n",
       "Name: sf, dtype: int64"
      ]
     },
     "execution_count": 76,
     "metadata": {},
     "output_type": "execute_result"
    }
   ],
   "source": []
  },
  {
   "cell_type": "code",
   "execution_count": null,
   "id": "quantitative-edward",
   "metadata": {},
   "outputs": [],
   "source": []
  }
 ],
 "metadata": {
  "kernelspec": {
   "display_name": "Python 3",
   "language": "python",
   "name": "python3"
  },
  "language_info": {
   "codemirror_mode": {
    "name": "ipython",
    "version": 3
   },
   "file_extension": ".py",
   "mimetype": "text/x-python",
   "name": "python",
   "nbconvert_exporter": "python",
   "pygments_lexer": "ipython3",
   "version": "3.8.8"
  }
 },
 "nbformat": 4,
 "nbformat_minor": 5
}
