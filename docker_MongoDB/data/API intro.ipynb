{
 "cells": [
  {
   "cell_type": "code",
   "execution_count": 3,
   "id": "invalid-travel",
   "metadata": {},
   "outputs": [],
   "source": [
    "import credentials\n",
    "import tweepy\n",
    "from tweepy import OAuthHandler, cursor, API\n",
    "from tweepy.streaming import StreamListener\n",
    "import logging"
   ]
  },
  {
   "cell_type": "code",
   "execution_count": 4,
   "id": "enhanced-plane",
   "metadata": {},
   "outputs": [],
   "source": [
    "AUTH = tweepy.OAuthHandler(credentials.API_KEY, credentials.API_SECRET)\n",
    "AUTH.set_access_token(credentials.ACCESS_TOKEN, credentials.ACCESS_TOKEN_SECRET)"
   ]
  },
  {
   "cell_type": "code",
   "execution_count": 9,
   "id": "pretty-progressive",
   "metadata": {
    "tags": []
   },
   "outputs": [],
   "source": [
    "api = API(AUTH)"
   ]
  },
  {
   "cell_type": "code",
   "execution_count": 11,
   "id": "naughty-craft",
   "metadata": {},
   "outputs": [],
   "source": [
    "user = api.me()"
   ]
  },
  {
   "cell_type": "code",
   "execution_count": 12,
   "id": "pressed-activation",
   "metadata": {},
   "outputs": [
    {
     "data": {
      "text/plain": [
       "'lili Cheng'"
      ]
     },
     "execution_count": 12,
     "metadata": {},
     "output_type": "execute_result"
    }
   ],
   "source": [
    "user.name"
   ]
  },
  {
   "cell_type": "code",
   "execution_count": 13,
   "id": "confirmed-printing",
   "metadata": {},
   "outputs": [
    {
     "data": {
      "text/plain": [
       "0"
      ]
     },
     "execution_count": 13,
     "metadata": {},
     "output_type": "execute_result"
    }
   ],
   "source": [
    "user.statuses_count"
   ]
  },
  {
   "cell_type": "code",
   "execution_count": 14,
   "id": "polished-nerve",
   "metadata": {},
   "outputs": [
    {
     "data": {
      "text/plain": [
       "'010101010101'"
      ]
     },
     "execution_count": 14,
     "metadata": {},
     "output_type": "execute_result"
    }
   ],
   "source": [
    "user.description"
   ]
  },
  {
   "cell_type": "code",
   "execution_count": 15,
   "id": "outer-victory",
   "metadata": {},
   "outputs": [
    {
     "data": {
      "text/plain": [
       "datetime.datetime(2021, 4, 16, 15, 0, 29)"
      ]
     },
     "execution_count": 15,
     "metadata": {},
     "output_type": "execute_result"
    }
   ],
   "source": [
    "user.created_at"
   ]
  },
  {
   "cell_type": "code",
   "execution_count": 25,
   "id": "fuzzy-therapist",
   "metadata": {},
   "outputs": [
    {
     "data": {
      "text/plain": [
       "True"
      ]
     },
     "execution_count": 25,
     "metadata": {},
     "output_type": "execute_result"
    }
   ],
   "source": [
    "user.default_profile"
   ]
  },
  {
   "cell_type": "code",
   "execution_count": 26,
   "id": "intelligent-hunger",
   "metadata": {},
   "outputs": [
    {
     "data": {
      "text/plain": [
       "False"
      ]
     },
     "execution_count": 26,
     "metadata": {},
     "output_type": "execute_result"
    }
   ],
   "source": [
    "user.default_profile_image"
   ]
  },
  {
   "cell_type": "code",
   "execution_count": 27,
   "id": "constant-marks",
   "metadata": {},
   "outputs": [
    {
     "data": {
      "text/plain": [
       "{'description': {'urls': []}}"
      ]
     },
     "execution_count": 27,
     "metadata": {},
     "output_type": "execute_result"
    }
   ],
   "source": [
    "user.entities"
   ]
  },
  {
   "cell_type": "code",
   "execution_count": 29,
   "id": "unsigned-universal",
   "metadata": {},
   "outputs": [],
   "source": [
    "paula = api.get_user('@pga99')"
   ]
  },
  {
   "cell_type": "code",
   "execution_count": 30,
   "id": "agricultural-british",
   "metadata": {},
   "outputs": [
    {
     "data": {
      "text/plain": [
       "datetime.datetime(2009, 4, 6, 14, 45, 39)"
      ]
     },
     "execution_count": 30,
     "metadata": {},
     "output_type": "execute_result"
    }
   ],
   "source": [
    "paula.created_at"
   ]
  },
  {
   "cell_type": "code",
   "execution_count": 31,
   "id": "present-least",
   "metadata": {},
   "outputs": [
    {
     "data": {
      "text/plain": [
       "'Scientist turned Data Scientist and DataVis trainer while keeping being a Scientist. Mexican turned German while keeping being Mexican. Also 🌈 👩\\u200d👩\\u200d👦'"
      ]
     },
     "execution_count": 31,
     "metadata": {},
     "output_type": "execute_result"
    }
   ],
   "source": [
    "paula.description"
   ]
  },
  {
   "cell_type": "code",
   "execution_count": 35,
   "id": "instructional-disco",
   "metadata": {},
   "outputs": [],
   "source": [
    "musk = api.get_user('@elonmusk')"
   ]
  },
  {
   "cell_type": "code",
   "execution_count": 36,
   "id": "legislative-kingston",
   "metadata": {
    "tags": []
   },
   "outputs": [
    {
     "data": {
      "text/plain": [
       "'Technoking of Tesla, Imperator of Mars 😉'"
      ]
     },
     "execution_count": 36,
     "metadata": {},
     "output_type": "execute_result"
    }
   ],
   "source": [
    "musk.description"
   ]
  },
  {
   "cell_type": "code",
   "execution_count": 49,
   "id": "narrative-canada",
   "metadata": {},
   "outputs": [
    {
     "data": {
      "text/plain": [
       "44196397"
      ]
     },
     "execution_count": 49,
     "metadata": {},
     "output_type": "execute_result"
    }
   ],
   "source": [
    "musk.id"
   ]
  },
  {
   "cell_type": "code",
   "execution_count": 37,
   "id": "domestic-chaos",
   "metadata": {},
   "outputs": [
    {
     "data": {
      "text/plain": [
       "{'description': {'urls': []}}"
      ]
     },
     "execution_count": 37,
     "metadata": {},
     "output_type": "execute_result"
    }
   ],
   "source": [
    "musk.entities"
   ]
  },
  {
   "cell_type": "code",
   "execution_count": 38,
   "id": "military-milwaukee",
   "metadata": {},
   "outputs": [
    {
     "data": {
      "text/plain": [
       "datetime.datetime(2009, 6, 2, 20, 12, 29)"
      ]
     },
     "execution_count": 38,
     "metadata": {},
     "output_type": "execute_result"
    }
   ],
   "source": [
    "musk.created_at"
   ]
  },
  {
   "cell_type": "code",
   "execution_count": 39,
   "id": "governmental-kruger",
   "metadata": {},
   "outputs": [
    {
     "data": {
      "text/plain": [
       "104"
      ]
     },
     "execution_count": 39,
     "metadata": {},
     "output_type": "execute_result"
    }
   ],
   "source": [
    "musk.friends_count"
   ]
  },
  {
   "cell_type": "code",
   "execution_count": 40,
   "id": "silent-seeker",
   "metadata": {
    "scrolled": true,
    "tags": []
   },
   "outputs": [
    {
     "data": {
      "text/plain": [
       "<bound method User.timeline of User(_api=<tweepy.api.API object at 0x7fc18fc24220>, _json={'id': 44196397, 'id_str': '44196397', 'name': 'Elon Musk', 'screen_name': 'elonmusk', 'location': '', 'profile_location': None, 'description': 'Technoking of Tesla, Imperator of Mars 😉', 'url': None, 'entities': {'description': {'urls': []}}, 'protected': False, 'followers_count': 51533632, 'friends_count': 104, 'listed_count': 68250, 'created_at': 'Tue Jun 02 20:12:29 +0000 2009', 'favourites_count': 8508, 'utc_offset': None, 'time_zone': None, 'geo_enabled': False, 'verified': True, 'statuses_count': 14087, 'lang': None, 'status': {'created_at': 'Mon Apr 19 02:10:00 +0000 2021', 'id': 1383966077344894979, 'id_str': '1383966077344894979', 'text': '@teslaownersSV @SpaceX @NASA @considercosmos Support for humanity’s future in space is super appreciated. Let’s mak… https://t.co/7RzwJJOY9C', 'truncated': True, 'entities': {'hashtags': [], 'symbols': [], 'user_mentions': [{'screen_name': 'teslaownersSV', 'name': 'Tesla Owners of Silicon Valley', 'id': 1016059981907386368, 'id_str': '1016059981907386368', 'indices': [0, 14]}, {'screen_name': 'SpaceX', 'name': 'SpaceX', 'id': 34743251, 'id_str': '34743251', 'indices': [15, 22]}, {'screen_name': 'NASA', 'name': 'NASA', 'id': 11348282, 'id_str': '11348282', 'indices': [23, 28]}, {'screen_name': 'considercosmos', 'name': 'Cosmic Perspective', 'id': 1050516235178237952, 'id_str': '1050516235178237952', 'indices': [29, 44]}], 'urls': [{'url': 'https://t.co/7RzwJJOY9C', 'expanded_url': 'https://twitter.com/i/web/status/1383966077344894979', 'display_url': 'twitter.com/i/web/status/1…', 'indices': [117, 140]}]}, 'source': '<a href=\"http://twitter.com/download/iphone\" rel=\"nofollow\">Twitter for iPhone</a>', 'in_reply_to_status_id': 1383925871480688647, 'in_reply_to_status_id_str': '1383925871480688647', 'in_reply_to_user_id': 1016059981907386368, 'in_reply_to_user_id_str': '1016059981907386368', 'in_reply_to_screen_name': 'teslaownersSV', 'geo': None, 'coordinates': None, 'place': None, 'contributors': None, 'is_quote_status': False, 'retweet_count': 1294, 'favorite_count': 15466, 'favorited': False, 'retweeted': False, 'lang': 'en'}, 'contributors_enabled': False, 'is_translator': False, 'is_translation_enabled': False, 'profile_background_color': 'C0DEED', 'profile_background_image_url': 'http://abs.twimg.com/images/themes/theme1/bg.png', 'profile_background_image_url_https': 'https://abs.twimg.com/images/themes/theme1/bg.png', 'profile_background_tile': False, 'profile_image_url': 'http://pbs.twimg.com/profile_images/1383184766959120385/MM9DHPWC_normal.jpg', 'profile_image_url_https': 'https://pbs.twimg.com/profile_images/1383184766959120385/MM9DHPWC_normal.jpg', 'profile_banner_url': 'https://pbs.twimg.com/profile_banners/44196397/1576183471', 'profile_link_color': '0084B4', 'profile_sidebar_border_color': 'C0DEED', 'profile_sidebar_fill_color': 'DDEEF6', 'profile_text_color': '333333', 'profile_use_background_image': True, 'has_extended_profile': True, 'default_profile': False, 'default_profile_image': False, 'following': True, 'follow_request_sent': False, 'notifications': False, 'translator_type': 'none'}, id=44196397, id_str='44196397', name='Elon Musk', screen_name='elonmusk', location='', profile_location=None, description='Technoking of Tesla, Imperator of Mars 😉', url=None, entities={'description': {'urls': []}}, protected=False, followers_count=51533632, friends_count=104, listed_count=68250, created_at=datetime.datetime(2009, 6, 2, 20, 12, 29), favourites_count=8508, utc_offset=None, time_zone=None, geo_enabled=False, verified=True, statuses_count=14087, lang=None, status=Status(_api=<tweepy.api.API object at 0x7fc18fc24220>, _json={'created_at': 'Mon Apr 19 02:10:00 +0000 2021', 'id': 1383966077344894979, 'id_str': '1383966077344894979', 'text': '@teslaownersSV @SpaceX @NASA @considercosmos Support for humanity’s future in space is super appreciated. Let’s mak… https://t.co/7RzwJJOY9C', 'truncated': True, 'entities': {'hashtags': [], 'symbols': [], 'user_mentions': [{'screen_name': 'teslaownersSV', 'name': 'Tesla Owners of Silicon Valley', 'id': 1016059981907386368, 'id_str': '1016059981907386368', 'indices': [0, 14]}, {'screen_name': 'SpaceX', 'name': 'SpaceX', 'id': 34743251, 'id_str': '34743251', 'indices': [15, 22]}, {'screen_name': 'NASA', 'name': 'NASA', 'id': 11348282, 'id_str': '11348282', 'indices': [23, 28]}, {'screen_name': 'considercosmos', 'name': 'Cosmic Perspective', 'id': 1050516235178237952, 'id_str': '1050516235178237952', 'indices': [29, 44]}], 'urls': [{'url': 'https://t.co/7RzwJJOY9C', 'expanded_url': 'https://twitter.com/i/web/status/1383966077344894979', 'display_url': 'twitter.com/i/web/status/1…', 'indices': [117, 140]}]}, 'source': '<a href=\"http://twitter.com/download/iphone\" rel=\"nofollow\">Twitter for iPhone</a>', 'in_reply_to_status_id': 1383925871480688647, 'in_reply_to_status_id_str': '1383925871480688647', 'in_reply_to_user_id': 1016059981907386368, 'in_reply_to_user_id_str': '1016059981907386368', 'in_reply_to_screen_name': 'teslaownersSV', 'geo': None, 'coordinates': None, 'place': None, 'contributors': None, 'is_quote_status': False, 'retweet_count': 1294, 'favorite_count': 15466, 'favorited': False, 'retweeted': False, 'lang': 'en'}, created_at=datetime.datetime(2021, 4, 19, 2, 10), id=1383966077344894979, id_str='1383966077344894979', text='@teslaownersSV @SpaceX @NASA @considercosmos Support for humanity’s future in space is super appreciated. Let’s mak… https://t.co/7RzwJJOY9C', truncated=True, entities={'hashtags': [], 'symbols': [], 'user_mentions': [{'screen_name': 'teslaownersSV', 'name': 'Tesla Owners of Silicon Valley', 'id': 1016059981907386368, 'id_str': '1016059981907386368', 'indices': [0, 14]}, {'screen_name': 'SpaceX', 'name': 'SpaceX', 'id': 34743251, 'id_str': '34743251', 'indices': [15, 22]}, {'screen_name': 'NASA', 'name': 'NASA', 'id': 11348282, 'id_str': '11348282', 'indices': [23, 28]}, {'screen_name': 'considercosmos', 'name': 'Cosmic Perspective', 'id': 1050516235178237952, 'id_str': '1050516235178237952', 'indices': [29, 44]}], 'urls': [{'url': 'https://t.co/7RzwJJOY9C', 'expanded_url': 'https://twitter.com/i/web/status/1383966077344894979', 'display_url': 'twitter.com/i/web/status/1…', 'indices': [117, 140]}]}, source='Twitter for iPhone', source_url='http://twitter.com/download/iphone', in_reply_to_status_id=1383925871480688647, in_reply_to_status_id_str='1383925871480688647', in_reply_to_user_id=1016059981907386368, in_reply_to_user_id_str='1016059981907386368', in_reply_to_screen_name='teslaownersSV', geo=None, coordinates=None, place=None, contributors=None, is_quote_status=False, retweet_count=1294, favorite_count=15466, favorited=False, retweeted=False, lang='en'), contributors_enabled=False, is_translator=False, is_translation_enabled=False, profile_background_color='C0DEED', profile_background_image_url='http://abs.twimg.com/images/themes/theme1/bg.png', profile_background_image_url_https='https://abs.twimg.com/images/themes/theme1/bg.png', profile_background_tile=False, profile_image_url='http://pbs.twimg.com/profile_images/1383184766959120385/MM9DHPWC_normal.jpg', profile_image_url_https='https://pbs.twimg.com/profile_images/1383184766959120385/MM9DHPWC_normal.jpg', profile_banner_url='https://pbs.twimg.com/profile_banners/44196397/1576183471', profile_link_color='0084B4', profile_sidebar_border_color='C0DEED', profile_sidebar_fill_color='DDEEF6', profile_text_color='333333', profile_use_background_image=True, has_extended_profile=True, default_profile=False, default_profile_image=False, following=True, follow_request_sent=False, notifications=False, translator_type='none')>"
      ]
     },
     "execution_count": 40,
     "metadata": {},
     "output_type": "execute_result"
    }
   ],
   "source": [
    "musk.timeline"
   ]
  },
  {
   "cell_type": "code",
   "execution_count": 85,
   "id": "interesting-venezuela",
   "metadata": {
    "scrolled": true,
    "tags": []
   },
   "outputs": [
    {
     "name": "stdout",
     "output_type": "stream",
     "text": [
      "@teslaownersSV @SpaceX @NASA @considercosmos Support for humanity’s future in space is super appreciated. Let’s mak… https://t.co/7RzwJJOY9C\n",
      "@flcnhvy 🤣🤣\n",
      "RT @SpaceX: SpaceX and @NASA completed a full rehearsal of launch day activities with the four Crew-2 astronauts https://t.co/u0hDCTx3Zp\n",
      "@WholeMarsBlog Passive Autopilot (sometimes called active safety) comes standard on all Teslas\n",
      "@WholeMarsBlog Essentially, passive Autopilot (car intervenes only when crash probability is high) cuts crashes in… https://t.co/PYq10ndNat\n",
      "Tesla with Autopilot engaged now approaching 10 times lower chance of accident than average vehicle https://t.co/6lGy52wVhC\n",
      "Dragon spacecraft &amp; Falcon 9 rocket https://t.co/A6fsNlsN9z\n",
      "@WhatsupFranks Great progress by Tesla team\n",
      "If we make life multiplanetary, there may come a day when some plants &amp; animals die out on Earth, but are still alive on Mars\n",
      "@neuralink @shivon Great review! Neuralink is open to working with neuroscientists to advance the field. \n",
      "\n",
      "Short-te… https://t.co/OH1mkMhnCO\n"
     ]
    }
   ],
   "source": [
    "for status in musk.timeline(count=10):\n",
    "    print(status.text)    "
   ]
  },
  {
   "cell_type": "code",
   "execution_count": 86,
   "id": "hungry-conservation",
   "metadata": {
    "scrolled": true,
    "tags": []
   },
   "outputs": [
    {
     "data": {
      "text/plain": [
       "['__class__',\n",
       " '__delattr__',\n",
       " '__dict__',\n",
       " '__dir__',\n",
       " '__doc__',\n",
       " '__eq__',\n",
       " '__format__',\n",
       " '__ge__',\n",
       " '__getattribute__',\n",
       " '__getstate__',\n",
       " '__gt__',\n",
       " '__hash__',\n",
       " '__init__',\n",
       " '__init_subclass__',\n",
       " '__le__',\n",
       " '__lt__',\n",
       " '__module__',\n",
       " '__ne__',\n",
       " '__new__',\n",
       " '__reduce__',\n",
       " '__reduce_ex__',\n",
       " '__repr__',\n",
       " '__setattr__',\n",
       " '__sizeof__',\n",
       " '__str__',\n",
       " '__subclasshook__',\n",
       " '__weakref__',\n",
       " '_api',\n",
       " '_json',\n",
       " 'author',\n",
       " 'contributors',\n",
       " 'coordinates',\n",
       " 'created_at',\n",
       " 'destroy',\n",
       " 'entities',\n",
       " 'favorite',\n",
       " 'favorite_count',\n",
       " 'favorited',\n",
       " 'geo',\n",
       " 'id',\n",
       " 'id_str',\n",
       " 'in_reply_to_screen_name',\n",
       " 'in_reply_to_status_id',\n",
       " 'in_reply_to_status_id_str',\n",
       " 'in_reply_to_user_id',\n",
       " 'in_reply_to_user_id_str',\n",
       " 'is_quote_status',\n",
       " 'lang',\n",
       " 'parse',\n",
       " 'parse_list',\n",
       " 'place',\n",
       " 'retweet',\n",
       " 'retweet_count',\n",
       " 'retweeted',\n",
       " 'retweets',\n",
       " 'source',\n",
       " 'source_url',\n",
       " 'text',\n",
       " 'truncated',\n",
       " 'user']"
      ]
     },
     "execution_count": 86,
     "metadata": {},
     "output_type": "execute_result"
    }
   ],
   "source": [
    "dir(status)"
   ]
  },
  {
   "cell_type": "code",
   "execution_count": 88,
   "id": "binding-missouri",
   "metadata": {
    "scrolled": true,
    "tags": []
   },
   "outputs": [
    {
     "data": {
      "text/plain": [
       "['__call__',\n",
       " '__class__',\n",
       " '__delattr__',\n",
       " '__dir__',\n",
       " '__doc__',\n",
       " '__eq__',\n",
       " '__format__',\n",
       " '__func__',\n",
       " '__ge__',\n",
       " '__get__',\n",
       " '__getattribute__',\n",
       " '__gt__',\n",
       " '__hash__',\n",
       " '__init__',\n",
       " '__init_subclass__',\n",
       " '__le__',\n",
       " '__lt__',\n",
       " '__ne__',\n",
       " '__new__',\n",
       " '__reduce__',\n",
       " '__reduce_ex__',\n",
       " '__repr__',\n",
       " '__self__',\n",
       " '__setattr__',\n",
       " '__sizeof__',\n",
       " '__str__',\n",
       " '__subclasshook__']"
      ]
     },
     "execution_count": 88,
     "metadata": {},
     "output_type": "execute_result"
    }
   ],
   "source": [
    "dir(status.retweets)"
   ]
  },
  {
   "cell_type": "code",
   "execution_count": 44,
   "id": "adaptive-greenhouse",
   "metadata": {},
   "outputs": [],
   "source": [
    "for i in musk.timeline(count=100):\n",
    "    if i.status['hashtags']!=[]:\n",
    "        print(i.status['hashtags'][0]['text'])"
   ]
  },
  {
   "cell_type": "code",
   "execution_count": 89,
   "id": "after-station",
   "metadata": {},
   "outputs": [],
   "source": [
    "from tweepy import OAuthHandler, Stream"
   ]
  },
  {
   "cell_type": "code",
   "execution_count": null,
   "id": "wanted-supplement",
   "metadata": {},
   "outputs": [],
   "source": []
  },
  {
   "cell_type": "code",
   "execution_count": 19,
   "id": "tamil-wrong",
   "metadata": {},
   "outputs": [],
   "source": [
    "import credentials\n",
    "from tweepy import OAuthHandler, Stream\n",
    "from tweepy.streaming import StreamListener\n",
    "import time\n",
    "import pymongo\n",
    "import logging"
   ]
  },
  {
   "cell_type": "raw",
   "id": "annual-apparatus",
   "metadata": {},
   "source": [
    "#start an engine\n",
    "client = pymongo.MongoClient(\"mongodb://mongodb:27017/\") \n",
    "#create a table\n",
    "db_tweets = client.tweetsdb"
   ]
  },
  {
   "cell_type": "code",
   "execution_count": 32,
   "id": "dominican-leader",
   "metadata": {
    "tags": []
   },
   "outputs": [],
   "source": [
    "def authenticate():\n",
    "    \"\"\"Function for handling Twitter Authentication. Please note\n",
    "       that this script assumes you have a file called config.py\n",
    "       which stores the 4 required authentication tokens:\n",
    "\n",
    "       1. API_KEY\n",
    "       2. API_SECRET\n",
    "       3. ACCESS_TOKEN\n",
    "       4. ACCESS_TOKEN_SECRET\n",
    "\n",
    "    See course material for instructions on getting your own Twitter credentials.\n",
    "    \"\"\"\n",
    "    auth = OAuthHandler(credentials.API_KEY, credentials.API_SECRET)\n",
    "    auth.set_access_token(credentials.ACCESS_TOKEN, credentials.ACCESS_TOKEN_SECRET)\n",
    "\n",
    "    return auth"
   ]
  },
  {
   "cell_type": "code",
   "execution_count": 33,
   "id": "arbitrary-kazakhstan",
   "metadata": {},
   "outputs": [
    {
     "data": {
      "text/plain": [
       "<tweepy.auth.OAuthHandler at 0x7f9515cc64c0>"
      ]
     },
     "execution_count": 33,
     "metadata": {},
     "output_type": "execute_result"
    }
   ],
   "source": [
    "authenticate()"
   ]
  },
  {
   "cell_type": "code",
   "execution_count": null,
   "id": "abroad-decimal",
   "metadata": {},
   "outputs": [],
   "source": [
    "class MaxTweetsListener(StreamListener):\n",
    "\n",
    "    def __init__(self, max_tweets, *args, **kwargs):\n",
    "        # initialize the StreamListener\n",
    "        super().__init__(*args, **kwargs)\n",
    "        # set the instance attributes\n",
    "        self.max_tweets = max_tweets\n",
    "        self.counter = 0\n",
    "        \n",
    "    def on_connect(self):\n",
    "        print('connected. listening for incoming tweets')\n",
    "\n",
    "\n",
    "    def on_status(self, status):\n",
    "        \"\"\"Whatever we put in this method defines what is done with\n",
    "        every single tweet as it is intercepted in real-time\"\"\"\n",
    "        \n",
    "        # increase the counter\n",
    "        self.counter += 1        \n",
    "\n",
    "        tweet = {\n",
    "            'text': status.text,\n",
    "            'username': status.user.screen_name,\n",
    "            'followers_count': status.user.followers_count\n",
    "        }\n",
    "\n",
    "        #logging.critical('INCOMING NEW DATA!')\n",
    "        #logging.critical('New tweet arrived:', tweet[\"text\"],tweet['username'],tweet['followers_count'])\n",
    "        db_tweets.tweets.insert_one(tweet)\n",
    "        #logging.critical('inserted into databse!') \n",
    "\n",
    "        # check if we have enough tweets collected\n",
    "        if self.max_tweets == self.counter:\n",
    "            # reset the counter\n",
    "            self.counter=0\n",
    "            # return False to stop the listener\n",
    "            return False\n",
    "\n",
    "\n",
    "    def on_error(self, status):\n",
    "        if status == 420:\n",
    "            print(f'Rate limit applies. Stop the stream.')\n",
    "            return False\n",
    "\n",
    "\n",
    "if __name__ == '__main__':\n",
    "    while True:\n",
    "        auth = authenticate()\n",
    "        listener = MaxTweetsListener(max_tweets=100)\n",
    "        stream = Stream(auth, listener)\n",
    "        stream.filter(track=['corona'], languages=['en'], is_async=False)\n",
    "        time.sleep(30)"
   ]
  },
  {
   "cell_type": "code",
   "execution_count": 40,
   "id": "growing-portfolio",
   "metadata": {},
   "outputs": [],
   "source": [
    "stream = tweepy.Stream(authenticate(),100)"
   ]
  },
  {
   "cell_type": "code",
   "execution_count": 42,
   "id": "burning-execution",
   "metadata": {},
   "outputs": [
    {
     "ename": "AttributeError",
     "evalue": "'int' object has no attribute 'on_exception'",
     "output_type": "error",
     "traceback": [
      "\u001b[0;31m---------------------------------------------------------------------------\u001b[0m",
      "\u001b[0;31mAttributeError\u001b[0m                            Traceback (most recent call last)",
      "\u001b[0;32m<ipython-input-42-54c0c90a94c9>\u001b[0m in \u001b[0;36m<module>\u001b[0;34m\u001b[0m\n\u001b[0;32m----> 1\u001b[0;31m \u001b[0mstream\u001b[0m\u001b[0;34m.\u001b[0m\u001b[0mfilter\u001b[0m\u001b[0;34m(\u001b[0m\u001b[0mtrack\u001b[0m\u001b[0;34m=\u001b[0m\u001b[0;34m[\u001b[0m\u001b[0;34m'China'\u001b[0m\u001b[0;34m]\u001b[0m\u001b[0;34m,\u001b[0m\u001b[0mlanguages\u001b[0m\u001b[0;34m=\u001b[0m\u001b[0;34m[\u001b[0m\u001b[0;34m'en'\u001b[0m\u001b[0;34m]\u001b[0m\u001b[0;34m,\u001b[0m \u001b[0mis_async\u001b[0m\u001b[0;34m=\u001b[0m\u001b[0;32mFalse\u001b[0m\u001b[0;34m)\u001b[0m\u001b[0;34m\u001b[0m\u001b[0;34m\u001b[0m\u001b[0m\n\u001b[0m",
      "\u001b[0;32m~/opt/anaconda3/lib/python3.8/site-packages/tweepy/streaming.py\u001b[0m in \u001b[0;36mfilter\u001b[0;34m(self, follow, track, is_async, locations, stall_warnings, languages, encoding, filter_level)\u001b[0m\n\u001b[1;32m    472\u001b[0m             \u001b[0mself\u001b[0m\u001b[0;34m.\u001b[0m\u001b[0mbody\u001b[0m\u001b[0;34m[\u001b[0m\u001b[0;34m'filter_level'\u001b[0m\u001b[0;34m]\u001b[0m \u001b[0;34m=\u001b[0m \u001b[0mfilter_level\u001b[0m\u001b[0;34m.\u001b[0m\u001b[0mencode\u001b[0m\u001b[0;34m(\u001b[0m\u001b[0mencoding\u001b[0m\u001b[0;34m)\u001b[0m\u001b[0;34m\u001b[0m\u001b[0;34m\u001b[0m\u001b[0m\n\u001b[1;32m    473\u001b[0m         \u001b[0mself\u001b[0m\u001b[0;34m.\u001b[0m\u001b[0msession\u001b[0m\u001b[0;34m.\u001b[0m\u001b[0mparams\u001b[0m \u001b[0;34m=\u001b[0m \u001b[0;34m{\u001b[0m\u001b[0;34m'delimited'\u001b[0m\u001b[0;34m:\u001b[0m \u001b[0;34m'length'\u001b[0m\u001b[0;34m}\u001b[0m\u001b[0;34m\u001b[0m\u001b[0;34m\u001b[0m\u001b[0m\n\u001b[0;32m--> 474\u001b[0;31m         \u001b[0mself\u001b[0m\u001b[0;34m.\u001b[0m\u001b[0m_start\u001b[0m\u001b[0;34m(\u001b[0m\u001b[0mis_async\u001b[0m\u001b[0;34m)\u001b[0m\u001b[0;34m\u001b[0m\u001b[0;34m\u001b[0m\u001b[0m\n\u001b[0m\u001b[1;32m    475\u001b[0m \u001b[0;34m\u001b[0m\u001b[0m\n\u001b[1;32m    476\u001b[0m     def sitestream(self, follow, stall_warnings=False,\n",
      "\u001b[0;32m~/opt/anaconda3/lib/python3.8/site-packages/tweepy/streaming.py\u001b[0m in \u001b[0;36m_start\u001b[0;34m(self, is_async)\u001b[0m\n\u001b[1;32m    387\u001b[0m             \u001b[0mself\u001b[0m\u001b[0;34m.\u001b[0m\u001b[0m_thread\u001b[0m\u001b[0;34m.\u001b[0m\u001b[0mstart\u001b[0m\u001b[0;34m(\u001b[0m\u001b[0;34m)\u001b[0m\u001b[0;34m\u001b[0m\u001b[0;34m\u001b[0m\u001b[0m\n\u001b[1;32m    388\u001b[0m         \u001b[0;32melse\u001b[0m\u001b[0;34m:\u001b[0m\u001b[0;34m\u001b[0m\u001b[0;34m\u001b[0m\u001b[0m\n\u001b[0;32m--> 389\u001b[0;31m             \u001b[0mself\u001b[0m\u001b[0;34m.\u001b[0m\u001b[0m_run\u001b[0m\u001b[0;34m(\u001b[0m\u001b[0;34m)\u001b[0m\u001b[0;34m\u001b[0m\u001b[0;34m\u001b[0m\u001b[0m\n\u001b[0m\u001b[1;32m    390\u001b[0m \u001b[0;34m\u001b[0m\u001b[0m\n\u001b[1;32m    391\u001b[0m     \u001b[0;32mdef\u001b[0m \u001b[0mon_closed\u001b[0m\u001b[0;34m(\u001b[0m\u001b[0mself\u001b[0m\u001b[0;34m,\u001b[0m \u001b[0mresp\u001b[0m\u001b[0;34m)\u001b[0m\u001b[0;34m:\u001b[0m\u001b[0;34m\u001b[0m\u001b[0;34m\u001b[0m\u001b[0m\n",
      "\u001b[0;32m~/opt/anaconda3/lib/python3.8/site-packages/tweepy/streaming.py\u001b[0m in \u001b[0;36m_run\u001b[0;34m(self)\u001b[0m\n\u001b[1;32m    317\u001b[0m         \u001b[0;32mif\u001b[0m \u001b[0mexc_info\u001b[0m\u001b[0;34m:\u001b[0m\u001b[0;34m\u001b[0m\u001b[0;34m\u001b[0m\u001b[0m\n\u001b[1;32m    318\u001b[0m             \u001b[0;31m# call a handler first so that the exception can be logged.\u001b[0m\u001b[0;34m\u001b[0m\u001b[0;34m\u001b[0m\u001b[0;34m\u001b[0m\u001b[0m\n\u001b[0;32m--> 319\u001b[0;31m             \u001b[0mself\u001b[0m\u001b[0;34m.\u001b[0m\u001b[0mlistener\u001b[0m\u001b[0;34m.\u001b[0m\u001b[0mon_exception\u001b[0m\u001b[0;34m(\u001b[0m\u001b[0mexc_info\u001b[0m\u001b[0;34m[\u001b[0m\u001b[0;36m1\u001b[0m\u001b[0;34m]\u001b[0m\u001b[0;34m)\u001b[0m\u001b[0;34m\u001b[0m\u001b[0;34m\u001b[0m\u001b[0m\n\u001b[0m\u001b[1;32m    320\u001b[0m             \u001b[0msix\u001b[0m\u001b[0;34m.\u001b[0m\u001b[0mreraise\u001b[0m\u001b[0;34m(\u001b[0m\u001b[0;34m*\u001b[0m\u001b[0mexc_info\u001b[0m\u001b[0;34m)\u001b[0m\u001b[0;34m\u001b[0m\u001b[0;34m\u001b[0m\u001b[0m\n\u001b[1;32m    321\u001b[0m \u001b[0;34m\u001b[0m\u001b[0m\n",
      "\u001b[0;31mAttributeError\u001b[0m: 'int' object has no attribute 'on_exception'"
     ]
    }
   ],
   "source": []
  },
  {
   "cell_type": "code",
   "execution_count": null,
   "id": "variable-baghdad",
   "metadata": {},
   "outputs": [],
   "source": []
  }
 ],
 "metadata": {
  "kernelspec": {
   "display_name": "Python 3",
   "language": "python",
   "name": "python3"
  },
  "language_info": {
   "codemirror_mode": {
    "name": "ipython",
    "version": 3
   },
   "file_extension": ".py",
   "mimetype": "text/x-python",
   "name": "python",
   "nbconvert_exporter": "python",
   "pygments_lexer": "ipython3",
   "version": "3.8.8"
  }
 },
 "nbformat": 4,
 "nbformat_minor": 5
}
