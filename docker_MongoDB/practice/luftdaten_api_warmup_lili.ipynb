{
 "cells": [
  {
   "cell_type": "markdown",
   "metadata": {},
   "source": [
    "### Get sensor data from the luftdaten project:\n",
    "- project description: https://luftdaten.info/\n",
    "- API documentation: https://github.com/opendata-stuttgart/meta/wiki/APIs"
   ]
  },
  {
   "cell_type": "code",
   "execution_count": 1,
   "metadata": {},
   "outputs": [],
   "source": [
    "import requests"
   ]
  },
  {
   "cell_type": "code",
   "execution_count": 2,
   "metadata": {},
   "outputs": [],
   "source": [
    "SENSOR_URL = \"http://api.luftdaten.info/static/v1/sensor/{}/\""
   ]
  },
  {
   "cell_type": "markdown",
   "metadata": {},
   "source": [
    "#### 1. Pick one sensor IDs from as that interests you\n",
    "- https://maps.sensor.community/#13/48.7740/9.1828"
   ]
  },
  {
   "cell_type": "code",
   "execution_count": 5,
   "metadata": {},
   "outputs": [],
   "source": [
    "beijing = 37927\n",
    "changchun= 57965\n",
    "shanghai = 6608\n",
    "guangzhou = 38585\n",
    "guilin = 22883\n",
    "stuttgart = 9649"
   ]
  },
  {
   "cell_type": "markdown",
   "metadata": {},
   "source": [
    "#### 2. Inspect the result of the response"
   ]
  },
  {
   "cell_type": "code",
   "execution_count": 6,
   "metadata": {},
   "outputs": [],
   "source": [
    "result = requests.get(SENSOR_URL.format(sensor_id))"
   ]
  },
  {
   "cell_type": "code",
   "execution_count": 33,
   "metadata": {
    "scrolled": true,
    "tags": []
   },
   "outputs": [],
   "source": [
    "result_json= result.json()"
   ]
  },
  {
   "cell_type": "code",
   "execution_count": 34,
   "metadata": {
    "scrolled": true,
    "tags": []
   },
   "outputs": [
    {
     "data": {
      "text/plain": [
       "[{'sampling_rate': None,\n",
       "  'sensor': {'sensor_type': {'manufacturer': 'Plantower',\n",
       "    'id': 22,\n",
       "    'name': 'PMS7003'},\n",
       "   'pin': '1',\n",
       "   'id': 37927},\n",
       "  'location': {'indoor': 0,\n",
       "   'exact_location': 1,\n",
       "   'country': 'CN',\n",
       "   'longitude': '116.44121646881',\n",
       "   'latitude': '40.21808391754',\n",
       "   'id': 24628,\n",
       "   'altitude': '49.0'},\n",
       "  'timestamp': '2021-04-19 11:43:27',\n",
       "  'id': 4747005261,\n",
       "  'sensordatavalues': [{'value': '74.75',\n",
       "    'value_type': 'P0',\n",
       "    'id': 10341300471},\n",
       "   {'value': '121.75', 'value_type': 'P1', 'id': 10341300503},\n",
       "   {'value': '88.50', 'value_type': 'P2', 'id': 10341300530}]},\n",
       " {'sampling_rate': None,\n",
       "  'sensor': {'sensor_type': {'manufacturer': 'Plantower',\n",
       "    'id': 22,\n",
       "    'name': 'PMS7003'},\n",
       "   'pin': '1',\n",
       "   'id': 37927},\n",
       "  'location': {'indoor': 0,\n",
       "   'exact_location': 1,\n",
       "   'country': 'CN',\n",
       "   'longitude': '116.44121646881',\n",
       "   'latitude': '40.21808391754',\n",
       "   'id': 24628,\n",
       "   'altitude': '49.0'},\n",
       "  'timestamp': '2021-04-19 11:42:27',\n",
       "  'id': 4746994506,\n",
       "  'sensordatavalues': [{'value': '82.50',\n",
       "    'value_type': 'P0',\n",
       "    'id': 10341276728},\n",
       "   {'value': '129.25', 'value_type': 'P1', 'id': 10341276729},\n",
       "   {'value': '96.00', 'value_type': 'P2', 'id': 10341276731}]},\n",
       " {'sampling_rate': None,\n",
       "  'sensor': {'sensor_type': {'manufacturer': 'Plantower',\n",
       "    'id': 22,\n",
       "    'name': 'PMS7003'},\n",
       "   'pin': '1',\n",
       "   'id': 37927},\n",
       "  'location': {'indoor': 0,\n",
       "   'exact_location': 1,\n",
       "   'country': 'CN',\n",
       "   'longitude': '116.44121646881',\n",
       "   'latitude': '40.21808391754',\n",
       "   'id': 24628,\n",
       "   'altitude': '49.0'},\n",
       "  'timestamp': '2021-04-19 11:41:35',\n",
       "  'id': 4746986964,\n",
       "  'sensordatavalues': [{'value': '86.67',\n",
       "    'value_type': 'P0',\n",
       "    'id': 10341260057},\n",
       "   {'value': '123.00', 'value_type': 'P1', 'id': 10341260121},\n",
       "   {'value': '90.67', 'value_type': 'P2', 'id': 10341260140}]},\n",
       " {'sampling_rate': None,\n",
       "  'sensor': {'sensor_type': {'manufacturer': 'Plantower',\n",
       "    'id': 22,\n",
       "    'name': 'PMS7003'},\n",
       "   'pin': '1',\n",
       "   'id': 37927},\n",
       "  'location': {'indoor': 0,\n",
       "   'exact_location': 1,\n",
       "   'country': 'CN',\n",
       "   'longitude': '116.44121646881',\n",
       "   'latitude': '40.21808391754',\n",
       "   'id': 24628,\n",
       "   'altitude': '49.0'},\n",
       "  'timestamp': '2021-04-19 11:40:31',\n",
       "  'id': 4746974704,\n",
       "  'sensordatavalues': [{'value': '74.67',\n",
       "    'value_type': 'P0',\n",
       "    'id': 10341232979},\n",
       "   {'value': '113.00', 'value_type': 'P1', 'id': 10341232998},\n",
       "   {'value': '84.00', 'value_type': 'P2', 'id': 10341233087}]},\n",
       " {'sampling_rate': None,\n",
       "  'sensor': {'sensor_type': {'manufacturer': 'Plantower',\n",
       "    'id': 22,\n",
       "    'name': 'PMS7003'},\n",
       "   'pin': '1',\n",
       "   'id': 37927},\n",
       "  'location': {'indoor': 0,\n",
       "   'exact_location': 1,\n",
       "   'country': 'CN',\n",
       "   'longitude': '116.44121646881',\n",
       "   'latitude': '40.21808391754',\n",
       "   'id': 24628,\n",
       "   'altitude': '49.0'},\n",
       "  'timestamp': '2021-04-19 11:39:18',\n",
       "  'id': 4746964736,\n",
       "  'sensordatavalues': [{'value': '86.00',\n",
       "    'value_type': 'P0',\n",
       "    'id': 10341210861},\n",
       "   {'value': '125.25', 'value_type': 'P1', 'id': 10341210918},\n",
       "   {'value': '96.00', 'value_type': 'P2', 'id': 10341210939}]}]"
      ]
     },
     "execution_count": 34,
     "metadata": {},
     "output_type": "execute_result"
    }
   ],
   "source": [
    "result_json"
   ]
  },
  {
   "cell_type": "code",
   "execution_count": 35,
   "metadata": {},
   "outputs": [
    {
     "data": {
      "text/plain": [
       "5"
      ]
     },
     "execution_count": 35,
     "metadata": {},
     "output_type": "execute_result"
    }
   ],
   "source": [
    "len(result_json)"
   ]
  },
  {
   "cell_type": "code",
   "execution_count": 36,
   "metadata": {},
   "outputs": [
    {
     "data": {
      "text/plain": [
       "'2021-04-19 11:43:27'"
      ]
     },
     "execution_count": 36,
     "metadata": {},
     "output_type": "execute_result"
    }
   ],
   "source": [
    "result_json[0]['timestamp']"
   ]
  },
  {
   "cell_type": "code",
   "execution_count": 37,
   "metadata": {},
   "outputs": [
    {
     "data": {
      "text/plain": [
       "{'sampling_rate': None,\n",
       " 'sensor': {'sensor_type': {'manufacturer': 'Plantower',\n",
       "   'id': 22,\n",
       "   'name': 'PMS7003'},\n",
       "  'pin': '1',\n",
       "  'id': 37927},\n",
       " 'location': {'indoor': 0,\n",
       "  'exact_location': 1,\n",
       "  'country': 'CN',\n",
       "  'longitude': '116.44121646881',\n",
       "  'latitude': '40.21808391754',\n",
       "  'id': 24628,\n",
       "  'altitude': '49.0'},\n",
       " 'timestamp': '2021-04-19 11:43:27',\n",
       " 'id': 4747005261,\n",
       " 'sensordatavalues': [{'value': '74.75',\n",
       "   'value_type': 'P0',\n",
       "   'id': 10341300471},\n",
       "  {'value': '121.75', 'value_type': 'P1', 'id': 10341300503},\n",
       "  {'value': '88.50', 'value_type': 'P2', 'id': 10341300530}]}"
      ]
     },
     "execution_count": 37,
     "metadata": {},
     "output_type": "execute_result"
    }
   ],
   "source": [
    "result_json[0]"
   ]
  },
  {
   "cell_type": "code",
   "execution_count": 28,
   "metadata": {},
   "outputs": [
    {
     "data": {
      "text/plain": [
       "(10341300503, 10341300530, 10341300471)"
      ]
     },
     "execution_count": 28,
     "metadata": {},
     "output_type": "execute_result"
    }
   ],
   "source": [
    "result_json[0]['sensordatavalues'][1]['id'], result_json[0]['sensordatavalues'][2]['id'], result_json[0]['sensordatavalues'][0]['id']"
   ]
  },
  {
   "cell_type": "code",
   "execution_count": 45,
   "metadata": {},
   "outputs": [
    {
     "data": {
      "text/plain": [
       "'116.44121646881'"
      ]
     },
     "execution_count": 45,
     "metadata": {},
     "output_type": "execute_result"
    }
   ],
   "source": [
    "result_json[0]['location']['longitude']"
   ]
  },
  {
   "cell_type": "code",
   "execution_count": 46,
   "metadata": {},
   "outputs": [
    {
     "data": {
      "text/plain": [
       "'40.21808391754'"
      ]
     },
     "execution_count": 46,
     "metadata": {},
     "output_type": "execute_result"
    }
   ],
   "source": [
    "result_json[0]['location']['latitude']"
   ]
  },
  {
   "cell_type": "markdown",
   "metadata": {},
   "source": [
    "#### 3. Write a function to extract: \n",
    "- time \n",
    "- P1\n",
    "- P2\n",
    "- longitude\n",
    "- latitude\n",
    "for the given sensor id"
   ]
  },
  {
   "cell_type": "code",
   "execution_count": 6,
   "metadata": {},
   "outputs": [],
   "source": [
    "import time\n",
    "def pick_luftdaten_values(sensor_id):\n",
    "    result = requests.get(SENSOR_URL.format(sensor_id))\n",
    "    data = result.json()\n",
    "    time_stamp = result_json[0]['timestamp']\n",
    "    PM25 = result_json[0]['sensordatavalues'][1]['id']\n",
    "    PM10 = result_json[0]['sensordatavalues'][2]['id']\n",
    "    lon = result_json[0]['location']['longitude']\n",
    "    lan = result_json[0]['location']['latitude']\n",
    "    time.sleep(30)\n",
    "    return time_stamp, PM25, PM10, lon, lan "
   ]
  },
  {
   "cell_type": "code",
   "execution_count": 7,
   "metadata": {},
   "outputs": [
    {
     "ename": "NameError",
     "evalue": "name 'result_json' is not defined",
     "output_type": "error",
     "traceback": [
      "\u001b[0;31m---------------------------------------------------------------------------\u001b[0m",
      "\u001b[0;31mNameError\u001b[0m                                 Traceback (most recent call last)",
      "\u001b[0;32m<ipython-input-7-def4564b0aac>\u001b[0m in \u001b[0;36m<module>\u001b[0;34m\u001b[0m\n\u001b[0;32m----> 1\u001b[0;31m \u001b[0mpick_luftdaten_values\u001b[0m\u001b[0;34m(\u001b[0m\u001b[0mbeijing\u001b[0m\u001b[0;34m)\u001b[0m\u001b[0;34m\u001b[0m\u001b[0;34m\u001b[0m\u001b[0m\n\u001b[0m",
      "\u001b[0;32m<ipython-input-6-f0c6c6ab0e84>\u001b[0m in \u001b[0;36mpick_luftdaten_values\u001b[0;34m(sensor_id)\u001b[0m\n\u001b[1;32m      3\u001b[0m     \u001b[0mresult\u001b[0m \u001b[0;34m=\u001b[0m \u001b[0mrequests\u001b[0m\u001b[0;34m.\u001b[0m\u001b[0mget\u001b[0m\u001b[0;34m(\u001b[0m\u001b[0mSENSOR_URL\u001b[0m\u001b[0;34m.\u001b[0m\u001b[0mformat\u001b[0m\u001b[0;34m(\u001b[0m\u001b[0msensor_id\u001b[0m\u001b[0;34m)\u001b[0m\u001b[0;34m)\u001b[0m\u001b[0;34m\u001b[0m\u001b[0;34m\u001b[0m\u001b[0m\n\u001b[1;32m      4\u001b[0m     \u001b[0mdata\u001b[0m \u001b[0;34m=\u001b[0m \u001b[0mresult\u001b[0m\u001b[0;34m.\u001b[0m\u001b[0mjson\u001b[0m\u001b[0;34m(\u001b[0m\u001b[0;34m)\u001b[0m\u001b[0;34m\u001b[0m\u001b[0;34m\u001b[0m\u001b[0m\n\u001b[0;32m----> 5\u001b[0;31m     \u001b[0mtime_stamp\u001b[0m \u001b[0;34m=\u001b[0m \u001b[0mresult_json\u001b[0m\u001b[0;34m[\u001b[0m\u001b[0;36m0\u001b[0m\u001b[0;34m]\u001b[0m\u001b[0;34m[\u001b[0m\u001b[0;34m'timestamp'\u001b[0m\u001b[0;34m]\u001b[0m\u001b[0;34m\u001b[0m\u001b[0;34m\u001b[0m\u001b[0m\n\u001b[0m\u001b[1;32m      6\u001b[0m     \u001b[0mPM25\u001b[0m \u001b[0;34m=\u001b[0m \u001b[0mresult_json\u001b[0m\u001b[0;34m[\u001b[0m\u001b[0;36m0\u001b[0m\u001b[0;34m]\u001b[0m\u001b[0;34m[\u001b[0m\u001b[0;34m'sensordatavalues'\u001b[0m\u001b[0;34m]\u001b[0m\u001b[0;34m[\u001b[0m\u001b[0;36m1\u001b[0m\u001b[0;34m]\u001b[0m\u001b[0;34m[\u001b[0m\u001b[0;34m'id'\u001b[0m\u001b[0;34m]\u001b[0m\u001b[0;34m\u001b[0m\u001b[0;34m\u001b[0m\u001b[0m\n\u001b[1;32m      7\u001b[0m     \u001b[0mPM10\u001b[0m \u001b[0;34m=\u001b[0m \u001b[0mresult_json\u001b[0m\u001b[0;34m[\u001b[0m\u001b[0;36m0\u001b[0m\u001b[0;34m]\u001b[0m\u001b[0;34m[\u001b[0m\u001b[0;34m'sensordatavalues'\u001b[0m\u001b[0;34m]\u001b[0m\u001b[0;34m[\u001b[0m\u001b[0;36m2\u001b[0m\u001b[0;34m]\u001b[0m\u001b[0;34m[\u001b[0m\u001b[0;34m'id'\u001b[0m\u001b[0;34m]\u001b[0m\u001b[0;34m\u001b[0m\u001b[0;34m\u001b[0m\u001b[0m\n",
      "\u001b[0;31mNameError\u001b[0m: name 'result_json' is not defined"
     ]
    }
   ],
   "source": [
    "pick_luftdaten_values(beijing)"
   ]
  },
  {
   "cell_type": "code",
   "execution_count": null,
   "metadata": {},
   "outputs": [],
   "source": [
    "pick_luftdaten_values(changchun)"
   ]
  },
  {
   "cell_type": "code",
   "execution_count": null,
   "metadata": {},
   "outputs": [],
   "source": [
    "pick_luftdaten_values(shanghai)"
   ]
  },
  {
   "cell_type": "code",
   "execution_count": null,
   "metadata": {},
   "outputs": [],
   "source": [
    "pick_luftdaten_values(guangzhou)"
   ]
  },
  {
   "cell_type": "code",
   "execution_count": null,
   "metadata": {},
   "outputs": [],
   "source": [
    "pick_luftdaten_values(guilin)"
   ]
  },
  {
   "cell_type": "code",
   "execution_count": null,
   "metadata": {},
   "outputs": [],
   "source": [
    "pick_luftdaten_values(stuttgart)"
   ]
  },
  {
   "cell_type": "code",
   "execution_count": null,
   "metadata": {},
   "outputs": [],
   "source": [
    "beijing = 37927\n",
    "changchun= 57965\n",
    "shanghai = 6608\n",
    "guangzhou = 38585\n",
    "guilin = 22883\n",
    "stuttgart = 9649"
   ]
  }
 ],
 "metadata": {
  "kernelspec": {
   "display_name": "Python 3",
   "language": "python",
   "name": "python3"
  },
  "language_info": {
   "codemirror_mode": {
    "name": "ipython",
    "version": 3
   },
   "file_extension": ".py",
   "mimetype": "text/x-python",
   "name": "python",
   "nbconvert_exporter": "python",
   "pygments_lexer": "ipython3",
   "version": "3.8.8"
  }
 },
 "nbformat": 4,
 "nbformat_minor": 4
}
