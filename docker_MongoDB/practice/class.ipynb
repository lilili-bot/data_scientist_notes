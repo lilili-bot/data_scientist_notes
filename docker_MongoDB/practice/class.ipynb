{
 "cells": [
  {
   "cell_type": "code",
   "execution_count": 1,
   "id": "starting-stone",
   "metadata": {},
   "outputs": [
    {
     "data": {
      "text/plain": [
       "4441123168"
      ]
     },
     "execution_count": 1,
     "metadata": {},
     "output_type": "execute_result"
    }
   ],
   "source": [
    "id(1) # every object has a unique id"
   ]
  },
  {
   "cell_type": "code",
   "execution_count": 3,
   "id": "proved-douglas",
   "metadata": {},
   "outputs": [
    {
     "data": {
      "text/plain": [
       "int"
      ]
     },
     "execution_count": 3,
     "metadata": {},
     "output_type": "execute_result"
    }
   ],
   "source": [
    "type(1) # which class it belongs to"
   ]
  },
  {
   "cell_type": "code",
   "execution_count": 4,
   "id": "veterinary-surface",
   "metadata": {
    "scrolled": true,
    "tags": []
   },
   "outputs": [
    {
     "data": {
      "text/plain": [
       "['__abs__',\n",
       " '__add__',\n",
       " '__and__',\n",
       " '__bool__',\n",
       " '__ceil__',\n",
       " '__class__',\n",
       " '__delattr__',\n",
       " '__dir__',\n",
       " '__divmod__',\n",
       " '__doc__',\n",
       " '__eq__',\n",
       " '__float__',\n",
       " '__floor__',\n",
       " '__floordiv__',\n",
       " '__format__',\n",
       " '__ge__',\n",
       " '__getattribute__',\n",
       " '__getnewargs__',\n",
       " '__gt__',\n",
       " '__hash__',\n",
       " '__index__',\n",
       " '__init__',\n",
       " '__init_subclass__',\n",
       " '__int__',\n",
       " '__invert__',\n",
       " '__le__',\n",
       " '__lshift__',\n",
       " '__lt__',\n",
       " '__mod__',\n",
       " '__mul__',\n",
       " '__ne__',\n",
       " '__neg__',\n",
       " '__new__',\n",
       " '__or__',\n",
       " '__pos__',\n",
       " '__pow__',\n",
       " '__radd__',\n",
       " '__rand__',\n",
       " '__rdivmod__',\n",
       " '__reduce__',\n",
       " '__reduce_ex__',\n",
       " '__repr__',\n",
       " '__rfloordiv__',\n",
       " '__rlshift__',\n",
       " '__rmod__',\n",
       " '__rmul__',\n",
       " '__ror__',\n",
       " '__round__',\n",
       " '__rpow__',\n",
       " '__rrshift__',\n",
       " '__rshift__',\n",
       " '__rsub__',\n",
       " '__rtruediv__',\n",
       " '__rxor__',\n",
       " '__setattr__',\n",
       " '__sizeof__',\n",
       " '__str__',\n",
       " '__sub__',\n",
       " '__subclasshook__',\n",
       " '__truediv__',\n",
       " '__trunc__',\n",
       " '__xor__',\n",
       " 'as_integer_ratio',\n",
       " 'bit_length',\n",
       " 'conjugate',\n",
       " 'denominator',\n",
       " 'from_bytes',\n",
       " 'imag',\n",
       " 'numerator',\n",
       " 'real',\n",
       " 'to_bytes']"
      ]
     },
     "execution_count": 4,
     "metadata": {},
     "output_type": "execute_result"
    }
   ],
   "source": [
    "dir(1) # check on the method, which can be used with 1. "
   ]
  },
  {
   "cell_type": "code",
   "execution_count": 5,
   "id": "younger-wayne",
   "metadata": {},
   "outputs": [
    {
     "data": {
      "text/plain": [
       "140380534640944"
      ]
     },
     "execution_count": 5,
     "metadata": {},
     "output_type": "execute_result"
    }
   ],
   "source": [
    "id(abs)"
   ]
  },
  {
   "cell_type": "code",
   "execution_count": 8,
   "id": "single-imaging",
   "metadata": {},
   "outputs": [
    {
     "data": {
      "text/plain": [
       "(1, builtin_function_or_method)"
      ]
     },
     "execution_count": 8,
     "metadata": {},
     "output_type": "execute_result"
    }
   ],
   "source": [
    "abs(-1), type(abs)"
   ]
  },
  {
   "cell_type": "code",
   "execution_count": 7,
   "id": "vital-scott",
   "metadata": {
    "scrolled": true,
    "tags": []
   },
   "outputs": [
    {
     "data": {
      "text/plain": [
       "['__call__',\n",
       " '__class__',\n",
       " '__delattr__',\n",
       " '__dir__',\n",
       " '__doc__',\n",
       " '__eq__',\n",
       " '__format__',\n",
       " '__ge__',\n",
       " '__getattribute__',\n",
       " '__gt__',\n",
       " '__hash__',\n",
       " '__init__',\n",
       " '__init_subclass__',\n",
       " '__le__',\n",
       " '__lt__',\n",
       " '__module__',\n",
       " '__name__',\n",
       " '__ne__',\n",
       " '__new__',\n",
       " '__qualname__',\n",
       " '__reduce__',\n",
       " '__reduce_ex__',\n",
       " '__repr__',\n",
       " '__self__',\n",
       " '__setattr__',\n",
       " '__sizeof__',\n",
       " '__str__',\n",
       " '__subclasshook__',\n",
       " '__text_signature__']"
      ]
     },
     "execution_count": 7,
     "metadata": {},
     "output_type": "execute_result"
    }
   ],
   "source": [
    "dir(abs)"
   ]
  },
  {
   "cell_type": "markdown",
   "id": "touched-nickname",
   "metadata": {},
   "source": [
    "# 对象的名称\n",
    "赋值语句给予对象名称，对象可以有很多名称，但是只有一个id"
   ]
  },
  {
   "cell_type": "code",
   "execution_count": 9,
   "id": "derived-northern",
   "metadata": {},
   "outputs": [],
   "source": [
    "a = complex(1,2)"
   ]
  },
  {
   "cell_type": "code",
   "execution_count": 10,
   "id": "valuable-boutique",
   "metadata": {},
   "outputs": [
    {
     "data": {
      "text/plain": [
       "(1+2j)"
      ]
     },
     "execution_count": 10,
     "metadata": {},
     "output_type": "execute_result"
    }
   ],
   "source": [
    "a"
   ]
  },
  {
   "cell_type": "markdown",
   "id": "violent-courtesy",
   "metadata": {},
   "source": [
    "# 对象的作用\n",
    "- 对象实现了属性和方法的封装，是一种数据抽象机制 \n",
    "- 提高软件的重用性，灵活性，扩展性"
   ]
  },
  {
   "cell_type": "code",
   "execution_count": 11,
   "id": "incomplete-trunk",
   "metadata": {},
   "outputs": [
    {
     "data": {
      "text/plain": [
       "'ABC'"
      ]
     },
     "execution_count": 11,
     "metadata": {},
     "output_type": "execute_result"
    }
   ],
   "source": [
    "# 对象的引用 对象名.属性名\n",
    "'abc'.upper()"
   ]
  },
  {
   "cell_type": "code",
   "execution_count": 13,
   "id": "painted-maryland",
   "metadata": {},
   "outputs": [
    {
     "data": {
      "text/plain": [
       "(1.0, 2.0)"
      ]
     },
     "execution_count": 13,
     "metadata": {},
     "output_type": "execute_result"
    }
   ],
   "source": [
    "(1+2j).real, (1+2j).imag"
   ]
  },
  {
   "cell_type": "code",
   "execution_count": 14,
   "id": "valued-endorsement",
   "metadata": {},
   "outputs": [
    {
     "data": {
      "text/plain": [
       "140380660401296"
      ]
     },
     "execution_count": 14,
     "metadata": {},
     "output_type": "execute_result"
    }
   ],
   "source": [
    "id(1+2j)"
   ]
  },
  {
   "cell_type": "markdown",
   "id": "certain-woman",
   "metadata": {},
   "source": [
    "# 对象可以随时增加和删除"
   ]
  },
  {
   "cell_type": "code",
   "execution_count": 23,
   "id": "racial-politics",
   "metadata": {},
   "outputs": [],
   "source": [
    "class Force:\n",
    "    def __init__(self,x,y):\n",
    "        self.fx, self.fy = x, y\n",
    "    def show(self):\n",
    "        print('Force<%s, %s>'%(self.fx, self.fy))\n",
    "    def add(self, force2):\n",
    "        x = self.fx + force2.fx\n",
    "        y = self.fy + force2.fy\n",
    "        return Force(x,y)"
   ]
  },
  {
   "cell_type": "code",
   "execution_count": 24,
   "id": "banner-signature",
   "metadata": {},
   "outputs": [
    {
     "name": "stdout",
     "output_type": "stream",
     "text": [
      "Force<0, 1>\n",
      "Force<3, 4>\n",
      "Force<3, 5>\n"
     ]
    }
   ],
   "source": [
    "f1 = Force(0,1)\n",
    "f1.show()\n",
    "f2 = Force(3,4)\n",
    "f2.show()\n",
    "f3 = f1.add(f2)\n",
    "f3.show()"
   ]
  },
  {
   "cell_type": "code",
   "execution_count": 27,
   "id": "naked-relaxation",
   "metadata": {},
   "outputs": [
    {
     "name": "stdout",
     "output_type": "stream",
     "text": [
      "Force<5, 6>\n"
     ]
    }
   ],
   "source": [
    "f4 = Force(5,6)\n",
    "f4.show()"
   ]
  },
  {
   "cell_type": "code",
   "execution_count": 29,
   "id": "rapid-indie",
   "metadata": {},
   "outputs": [],
   "source": [
    "f5 = f4.add(f4)"
   ]
  },
  {
   "cell_type": "code",
   "execution_count": 30,
   "id": "direct-throw",
   "metadata": {},
   "outputs": [
    {
     "name": "stdout",
     "output_type": "stream",
     "text": [
      "Force<10, 12>\n"
     ]
    }
   ],
   "source": [
    "f5.show()"
   ]
  },
  {
   "cell_type": "code",
   "execution_count": 31,
   "id": "honest-navigation",
   "metadata": {},
   "outputs": [
    {
     "data": {
      "text/plain": [
       "<__main__.Force at 0x7facebb51460>"
      ]
     },
     "execution_count": 31,
     "metadata": {},
     "output_type": "execute_result"
    }
   ],
   "source": [
    "f3.add(f3)"
   ]
  },
  {
   "cell_type": "code",
   "execution_count": 2,
   "id": "controlling-junction",
   "metadata": {},
   "outputs": [
    {
     "name": "stdout",
     "output_type": "stream",
     "text": [
      "i can fly\n"
     ]
    }
   ],
   "source": [
    "class Bird:\n",
    "    wings = 2\n",
    "    fly = 'yes'# class essential\n",
    "    def show(self): # class method\n",
    "        print('i can fly')\n",
    "        \n",
    "abird = Bird()\n",
    "abird.show() # active class method"
   ]
  },
  {
   "cell_type": "code",
   "execution_count": 5,
   "id": "comfortable-logging",
   "metadata": {},
   "outputs": [
    {
     "name": "stdout",
     "output_type": "stream",
     "text": [
      "walk standing\n",
      "many different languages\n"
     ]
    },
    {
     "data": {
      "text/plain": [
       "(None, None)"
      ]
     },
     "execution_count": 5,
     "metadata": {},
     "output_type": "execute_result"
    }
   ],
   "source": [
    "class Human:\n",
    "    arm = 2\n",
    "    legs = 2\n",
    "    hair = 'all colors'\n",
    "    def walk(self):\n",
    "        print('walk standing')\n",
    "    def speak(self):\n",
    "        print('many different languages')\n",
    "    def intro(self):\n",
    "        print('human has usually %d arms and %d legs'%(arms, legs))\n",
    "Germans= Human()\n",
    "Germans.walk(), Germans.speak() # human.intro() is not working, it shows that arms is not defined."
   ]
  },
  {
   "cell_type": "code",
   "execution_count": 48,
   "id": "annoying-coating",
   "metadata": {},
   "outputs": [],
   "source": [
    "# corrected version\n",
    "class Human:\n",
    "    arm = 2\n",
    "    legs = 2\n",
    "    hair = 'all colors'\n",
    "    def walk(self):\n",
    "        print('walk standing')\n",
    "    def speak(self):\n",
    "        print('many different languages')\n",
    "    def intro(self):\n",
    "        print('human has usually %d arms and %d legs'%(self.arm, self.legs))"
   ]
  },
  {
   "cell_type": "code",
   "execution_count": 50,
   "id": "advisory-heater",
   "metadata": {},
   "outputs": [
    {
     "name": "stdout",
     "output_type": "stream",
     "text": [
      "human has usually 2 arms and 2 legs\n"
     ]
    }
   ],
   "source": [
    "human = Human()\n",
    "human.intro() \n",
    "# now it works. self. 属性，才能在类的方法中成功调用属性。"
   ]
  },
  {
   "cell_type": "code",
   "execution_count": 55,
   "id": "changed-british",
   "metadata": {},
   "outputs": [
    {
     "name": "stdout",
     "output_type": "stream",
     "text": [
      "i am make phone_call\n",
      "i am usingall APPs\n"
     ]
    },
    {
     "data": {
      "text/plain": [
       "('make phone_call', 'all APPs', None, None)"
      ]
     },
     "execution_count": 55,
     "metadata": {},
     "output_type": "execute_result"
    }
   ],
   "source": [
    "class Smartphone:\n",
    "    function1 = 'make phone_call'\n",
    "    function2 = 'all APPs'\n",
    "    def call(self):\n",
    "        print('i am %s'%(self.function1))\n",
    "    def useapp(self):\n",
    "        print('i am using%s'%(self.function2))\n",
    "iphone = Smartphone()\n",
    "iphone.function1, iphone.function2, iphone.call(), iphone.useapp()"
   ]
  },
  {
   "cell_type": "code",
   "execution_count": null,
   "id": "sized-robin",
   "metadata": {},
   "outputs": [],
   "source": [
    "# def __init__(self): 特殊方法，在类被实例化时会被自动执行"
   ]
  },
  {
   "cell_type": "code",
   "execution_count": 56,
   "id": "absent-integration",
   "metadata": {},
   "outputs": [],
   "source": [
    "class Human:\n",
    "    def __init__(self): # it does not have a name, also does not need to be triggered.\n",
    "        print('hi, i am class Humana\\'s initialize method')"
   ]
  },
  {
   "cell_type": "code",
   "execution_count": 57,
   "id": "declared-lawsuit",
   "metadata": {},
   "outputs": [
    {
     "name": "stdout",
     "output_type": "stream",
     "text": [
      "hi, i am class Humana's initialize method\n"
     ]
    }
   ],
   "source": [
    "human= Human() # i do not need to human.method to trigger it. "
   ]
  },
  {
   "cell_type": "code",
   "execution_count": 3,
   "id": "unauthorized-angle",
   "metadata": {},
   "outputs": [
    {
     "name": "stdout",
     "output_type": "stream",
     "text": [
      "walk standing\n",
      "speak different languages\n"
     ]
    },
    {
     "data": {
      "text/plain": [
       "(2, 2, None, None)"
      ]
     },
     "execution_count": 3,
     "metadata": {},
     "output_type": "execute_result"
    }
   ],
   "source": [
    "# using the character of special initialize method, we can initialize the 属性.\n",
    "class Human:\n",
    "    def __init__(self): # initialize the attribute property.\n",
    "        self.arms = 2\n",
    "        self.legs = 2\n",
    "        self.hair = 'all colors'\n",
    "    def walk(self):\n",
    "        print('walk standing')\n",
    "    def speak(self):\n",
    "        print('speak different languages')\n",
    "human = Human()\n",
    "\n",
    "human.arms, human.legs, human.walk(), human.speak()"
   ]
  },
  {
   "cell_type": "code",
   "execution_count": 22,
   "id": "first-sentence",
   "metadata": {},
   "outputs": [
    {
     "name": "stdout",
     "output_type": "stream",
     "text": [
      "我叫小贝，我有2\n"
     ]
    }
   ],
   "source": [
    "# using the character of special initialize method, we can initialize the 属性.\n",
    "class Human:\n",
    "    def __init__(self,name,heads,arms):\n",
    "        self.name = name\n",
    "        self.heads = heads\n",
    "        self.arms= arms\n",
    "    def __str__(self): # auto print out\n",
    "        return '我叫{}，我有{}'.format(self.name, self.arms)\n",
    "    def walk(self):\n",
    "        print('walk standing')\n",
    "\n",
    "human = Human('小贝', 2, 2,)\n",
    "print(human)"
   ]
  },
  {
   "cell_type": "code",
   "execution_count": 17,
   "id": "isolated-damages",
   "metadata": {},
   "outputs": [
    {
     "name": "stdout",
     "output_type": "stream",
     "text": [
      "I am Puffy, I have 4 legs, my hair color is smoky grey, and I have blue eyes and likes to massage Papa's tummy\n",
      "I sleep a lot!\n",
      "I love running around crazily and sometime I runinto walls, it hurts my nose!\n"
     ]
    },
    {
     "data": {
      "text/plain": [
       "(None, None, None)"
      ]
     },
     "execution_count": 17,
     "metadata": {},
     "output_type": "execute_result"
    }
   ],
   "source": [
    "# to use __str__  giving class a introduction\n",
    "# improve it with initiated attribute. \n",
    "# customized params\n",
    "# define method to class\n",
    "class Cat:\n",
    "    \n",
    "    def __init__(self, name, legs, hair, feature):\n",
    "        self.name = name\n",
    "        self.legs = legs\n",
    "        self.hair = hair\n",
    "        self.feature = feature\n",
    "    def __str__(self):\n",
    "        return 'I am %s, I have %d legs, my hair color is %s, and %s'%(self.name,self.legs, self.hair, self.feature)\n",
    "    def sleep_time(self):\n",
    "        print('I sleep a lot!')\n",
    "    def play_time(self):\n",
    "        print('I love running around crazily and sometime I runinto walls, it hurts my nose!')\n",
    "    \n",
    "Puffy = Cat('Puffy',4, 'smoky grey','I have blue eyes and likes to massage Papa\\'s tummy')\n",
    "print(Puffy), Puffy.sleep_time(), Puffy.play_time()"
   ]
  },
  {
   "cell_type": "code",
   "execution_count": 42,
   "id": "initial-moment",
   "metadata": {},
   "outputs": [
    {
     "name": "stdout",
     "output_type": "stream",
     "text": [
      "The lottery number is [70, 0, 25, 88, 97, 18]\n"
     ]
    }
   ],
   "source": [
    "# lottery\n",
    "from random import randint\n",
    "class Lottery:\n",
    "    def __init__(self, times):\n",
    "        self.times = times\n",
    "        self.lottery = []\n",
    "        \n",
    "    def draw_lottery(self):\n",
    "        for i in range(0, self.times):\n",
    "            number = randint(0,99)\n",
    "            self.lottery.append(number)\n",
    "        \n",
    "    def print_lottery(self):\n",
    "        print ('The lottery number is %s' % self.lottery)\n",
    "\n",
    "lottery = Lottery(6) # instantiate the class\n",
    "lottery.draw_lottery() # method \n",
    "lottery.print_lottery()"
   ]
  },
  {
   "cell_type": "code",
   "execution_count": 1,
   "id": "major-housing",
   "metadata": {},
   "outputs": [],
   "source": [
    "# File Object\n",
    "from os.path import join"
   ]
  },
  {
   "cell_type": "code",
   "execution_count": 2,
   "id": "gross-candy",
   "metadata": {},
   "outputs": [],
   "source": [
    "class FileObject:\n",
    "    '''给文件进行包装，并确认文件在删除时文件流关闭'''\n",
    "    def ___init__(self, filepath= '', filename = 'sample.txt'):\n",
    "        # read and write a file, edit\n",
    "        self.file = open(join(filepath, filename),'r+')\n",
    "        \n",
    "    def __del__(self):\n",
    "        self.file.close()\n",
    "        del self.file"
   ]
  },
  {
   "cell_type": "raw",
   "id": "compound-spectrum",
   "metadata": {},
   "source": [
    "__add__(self,other):\n",
    "__sub__(self, other):\n",
    "__mul__(self,other):\n",
    "__div__(self,other):\n",
    "# other direction\n",
    "__radd__(self,other):\n",
    "__rsub__(self, other):\n",
    "__rmul__(self,other):\n",
    "__rdiv__(self,other):\n",
    "# compare\n",
    "\n",
    "__eq__(self,other): equal\n",
    "__ne__(self,other): not equal\n",
    "__it__(self,other): less then\n",
    "__gt__(self,other):   greater\n",
    "__le__(self,other): less and equal than\n",
    "__ge__(self,other): greater and equal than"
   ]
  },
  {
   "cell_type": "code",
   "execution_count": null,
   "id": "exciting-camcorder",
   "metadata": {},
   "outputs": [],
   "source": []
  }
 ],
 "metadata": {
  "kernelspec": {
   "display_name": "Python 3",
   "language": "python",
   "name": "python3"
  },
  "language_info": {
   "codemirror_mode": {
    "name": "ipython",
    "version": 3
   },
   "file_extension": ".py",
   "mimetype": "text/x-python",
   "name": "python",
   "nbconvert_exporter": "python",
   "pygments_lexer": "ipython3",
   "version": "3.8.8"
  }
 },
 "nbformat": 4,
 "nbformat_minor": 5
}
