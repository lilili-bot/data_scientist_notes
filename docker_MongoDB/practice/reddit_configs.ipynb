{
 "cells": [
  {
   "cell_type": "markdown",
   "id": "right-jacket",
   "metadata": {},
   "source": [
    "#https://alpscode.com/blog/how-to-use-reddit-api/"
   ]
  },
  {
   "cell_type": "code",
   "execution_count": 2,
   "id": "rational-mouse",
   "metadata": {},
   "outputs": [],
   "source": [
    "import requests"
   ]
  },
  {
   "cell_type": "code",
   "execution_count": 4,
   "id": "imposed-setting",
   "metadata": {},
   "outputs": [],
   "source": [
    "base_url = 'https://www.reddit.com/'\n",
    "data = {'grant_type': 'password', 'username': 'lili_cheng', 'password': 'Lq653trKUmTC3Gv'}"
   ]
  },
  {
   "cell_type": "code",
   "execution_count": 5,
   "id": "cooked-twist",
   "metadata": {},
   "outputs": [],
   "source": [
    "auth = requests.auth.HTTPBasicAuth('u4H6uOGeZxQyjg','fT7I7lf7H5pgtAdf0497OoN_d1asUA')\n",
    "r = requests.post(base_url + 'api/v1/access_token',\n",
    "                  data=data,\n",
    "                  headers={'user-agent': 'APP-NAME by REDDIT-USERNAME'}, auth=auth)\n",
    "d = r.json()"
   ]
  },
  {
   "cell_type": "code",
   "execution_count": 6,
   "id": "passive-myrtle",
   "metadata": {},
   "outputs": [
    {
     "data": {
      "text/plain": [
       "{'access_token': '865886001200-MRFMupXZ6suLZ4FFLoq4KyWc3Vx0pQ',\n",
       " 'token_type': 'bearer',\n",
       " 'expires_in': 3600,\n",
       " 'scope': '*'}"
      ]
     },
     "execution_count": 6,
     "metadata": {},
     "output_type": "execute_result"
    }
   ],
   "source": [
    "d"
   ]
  },
  {
   "cell_type": "code",
   "execution_count": 9,
   "id": "swiss-experience",
   "metadata": {},
   "outputs": [
    {
     "name": "stdout",
     "output_type": "stream",
     "text": [
      "lili_cheng 0\n"
     ]
    }
   ],
   "source": [
    "token = 'bearer ' + d['access_token']\n",
    "\n",
    "base_url = 'https://oauth.reddit.com'\n",
    "\n",
    "headers = {'Authorization': token, 'User-Agent': 'APP-NAME by REDDIT-USERNAME'}\n",
    "response = requests.get(base_url + '/api/v1/me', headers=headers)\n",
    "\n",
    "if response.status_code == 200:\n",
    "    print(response.json()['name'], response.json()['comment_karma'])"
   ]
  },
  {
   "cell_type": "code",
   "execution_count": 10,
   "id": "stock-report",
   "metadata": {},
   "outputs": [
    {
     "name": "stdout",
     "output_type": "stream",
     "text": [
      "200\n"
     ]
    }
   ],
   "source": [
    "print(r.status_code)"
   ]
  },
  {
   "cell_type": "code",
   "execution_count": 13,
   "id": "equal-binary",
   "metadata": {},
   "outputs": [
    {
     "ename": "NameError",
     "evalue": "name 'api_url' is not defined",
     "output_type": "error",
     "traceback": [
      "\u001b[0;31m---------------------------------------------------------------------------\u001b[0m",
      "\u001b[0;31mNameError\u001b[0m                                 Traceback (most recent call last)",
      "\u001b[0;32m<ipython-input-13-6886de57f1bf>\u001b[0m in \u001b[0;36m<module>\u001b[0;34m\u001b[0m\n\u001b[1;32m      1\u001b[0m \u001b[0mpayload\u001b[0m \u001b[0;34m=\u001b[0m \u001b[0;34m{\u001b[0m\u001b[0;34m'q'\u001b[0m\u001b[0;34m:\u001b[0m \u001b[0;34m'puppies'\u001b[0m\u001b[0;34m,\u001b[0m \u001b[0;34m'limit'\u001b[0m\u001b[0;34m:\u001b[0m \u001b[0;36m5\u001b[0m\u001b[0;34m,\u001b[0m \u001b[0;34m'sort'\u001b[0m\u001b[0;34m:\u001b[0m \u001b[0;34m'relevance'\u001b[0m\u001b[0;34m}\u001b[0m\u001b[0;34m\u001b[0m\u001b[0;34m\u001b[0m\u001b[0m\n\u001b[0;32m----> 2\u001b[0;31m \u001b[0mresponse\u001b[0m \u001b[0;34m=\u001b[0m \u001b[0mrequests\u001b[0m\u001b[0;34m.\u001b[0m\u001b[0mget\u001b[0m\u001b[0;34m(\u001b[0m\u001b[0mapi_url\u001b[0m \u001b[0;34m+\u001b[0m \u001b[0;34m'/subreddits/search'\u001b[0m\u001b[0;34m,\u001b[0m \u001b[0mheaders\u001b[0m\u001b[0;34m=\u001b[0m\u001b[0mheaders\u001b[0m\u001b[0;34m,\u001b[0m \u001b[0mparams\u001b[0m\u001b[0;34m=\u001b[0m\u001b[0mpayload\u001b[0m\u001b[0;34m)\u001b[0m\u001b[0;34m\u001b[0m\u001b[0;34m\u001b[0m\u001b[0m\n\u001b[0m\u001b[1;32m      3\u001b[0m \u001b[0mprint\u001b[0m\u001b[0;34m(\u001b[0m\u001b[0mresponse\u001b[0m\u001b[0;34m.\u001b[0m\u001b[0mstatus_code\u001b[0m\u001b[0;34m)\u001b[0m\u001b[0;34m\u001b[0m\u001b[0;34m\u001b[0m\u001b[0m\n",
      "\u001b[0;31mNameError\u001b[0m: name 'api_url' is not defined"
     ]
    }
   ],
   "source": [
    "payload = {'q': 'puppies', 'limit': 5, 'sort': 'relevance'}\n",
    "response = requests.get(api_url + '/subreddits/search', headers=headers, params=payload)\n",
    "print(response.status_code)"
   ]
  },
  {
   "cell_type": "code",
   "execution_count": null,
   "id": "about-being",
   "metadata": {},
   "outputs": [],
   "source": []
  }
 ],
 "metadata": {
  "kernelspec": {
   "display_name": "Python 3",
   "language": "python",
   "name": "python3"
  },
  "language_info": {
   "codemirror_mode": {
    "name": "ipython",
    "version": 3
   },
   "file_extension": ".py",
   "mimetype": "text/x-python",
   "name": "python",
   "nbconvert_exporter": "python",
   "pygments_lexer": "ipython3",
   "version": "3.8.8"
  }
 },
 "nbformat": 4,
 "nbformat_minor": 5
}
