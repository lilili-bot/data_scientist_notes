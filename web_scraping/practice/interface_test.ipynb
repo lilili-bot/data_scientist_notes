{
 "cells": [
  {
   "cell_type": "code",
   "execution_count": 1,
   "id": "directed-studio",
   "metadata": {},
   "outputs": [],
   "source": [
    "import pandas as pd\n",
    "import re\n",
    "import requests\n",
    "from bs4 import BeautifulSoup\n",
    "import pandas as pd\n",
    "import numpy as np\n",
    "from model_lyric import train_model, predict\n",
    "from model_lyric import text_corpus, labels\n",
    "import sys\n",
    "import argparse"
   ]
  },
  {
   "cell_type": "code",
   "execution_count": 2,
   "id": "directed-literacy",
   "metadata": {},
   "outputs": [
    {
     "name": "stdout",
     "output_type": "stream",
     "text": [
      "training model......\n",
      "Based on your input, I predict: \"queen\" with class probabilities [0.80353007 0.19646993]%.\n"
     ]
    }
   ],
   "source": [
    "user_input = [' '.join(sys.argv[1:])]\n",
    "if len(user_input[0]) > 1:\n",
    "    m = train_model(text_corpus, labels)\n",
    "    pred, probs = predict(m, user_input)\n",
    "    print(f'Based on your input, I predict: \"{pred[0]}\" with class probabilities {probs[0]}%.')\n",
    "else:\n",
    "    print('no text entered')"
   ]
  },
  {
   "cell_type": "code",
   "execution_count": 3,
   "id": "necessary-ensemble",
   "metadata": {},
   "outputs": [
    {
     "data": {
      "text/plain": [
       "_StoreAction(option_strings=['--text'], dest='text', nargs=None, const=None, default='as the mind evolves menaces are born', type=<class 'str'>, choices=None, help='Enter some text, bounded by double-quotes', metavar=None)"
      ]
     },
     "execution_count": 3,
     "metadata": {},
     "output_type": "execute_result"
    }
   ],
   "source": [
    "parser = argparse.ArgumentParser(description='Predict aritst based of user-input. Currently only works for Weeknd and Queen.')\n",
    "\n",
    "parser.add_argument('--text',type=str,help='Enter some text, bounded by double-quotes',default=\"as the mind evolves menaces are born\")"
   ]
  },
  {
   "cell_type": "code",
   "execution_count": 4,
   "id": "sufficient-softball",
   "metadata": {},
   "outputs": [
    {
     "data": {
      "text/plain": [
       "<bound method ArgumentParser.parse_args of ArgumentParser(prog='ipykernel_launcher.py', usage=None, description='Predict aritst based of user-input. Currently only works for Weeknd and Queen.', formatter_class=<class 'argparse.HelpFormatter'>, conflict_handler='error', add_help=True)>"
      ]
     },
     "execution_count": 4,
     "metadata": {},
     "output_type": "execute_result"
    }
   ],
   "source": [
    "parser.parse_args"
   ]
  },
  {
   "cell_type": "code",
   "execution_count": 6,
   "id": "oriented-traffic",
   "metadata": {},
   "outputs": [
    {
     "name": "stderr",
     "output_type": "stream",
     "text": [
      "usage: ipykernel_launcher.py [-h] [--text TEXT]\n",
      "ipykernel_launcher.py: error: unrecognized arguments: -f /Users/lilycheng/Library/Jupyter/runtime/kernel-3372b96e-6f9b-4ad7-a5f6-650850b9c98f.json\n"
     ]
    },
    {
     "ename": "SystemExit",
     "evalue": "2",
     "output_type": "error",
     "traceback": [
      "An exception has occurred, use %tb to see the full traceback.\n",
      "\u001b[0;31mSystemExit\u001b[0m\u001b[0;31m:\u001b[0m 2\n"
     ]
    }
   ],
   "source": [
    "args = parser.parse_args()\n",
    "if args.text:\n",
    "     user_input = [args.text]  # corpus with 1 document\n",
    "\n",
    "     m = train_model(text_corpus,labels)\n",
    "     pred, probs = predict(m, user_input)\n",
    "\n",
    "     print(f'Based on your input, I predict: \"{pred[0]}\" with class probabilities {probs[0]}%.')\n",
    "else:\n",
    "     print('no text entered')"
   ]
  },
  {
   "cell_type": "code",
   "execution_count": null,
   "id": "precise-property",
   "metadata": {},
   "outputs": [],
   "source": []
  },
  {
   "cell_type": "code",
   "execution_count": null,
   "id": "protected-beaver",
   "metadata": {},
   "outputs": [],
   "source": []
  }
 ],
 "metadata": {
  "kernelspec": {
   "display_name": "Python 3",
   "language": "python",
   "name": "python3"
  },
  "language_info": {
   "codemirror_mode": {
    "name": "ipython",
    "version": 3
   },
   "file_extension": ".py",
   "mimetype": "text/x-python",
   "name": "python",
   "nbconvert_exporter": "python",
   "pygments_lexer": "ipython3",
   "version": "3.8.8"
  }
 },
 "nbformat": 4,
 "nbformat_minor": 5
}
