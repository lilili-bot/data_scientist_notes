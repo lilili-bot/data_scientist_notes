{
 "cells": [
  {
   "cell_type": "markdown",
   "id": "double-baghdad",
   "metadata": {},
   "source": [
    "# Multi-Variate Bernoulli Distribution"
   ]
  },
  {
   "cell_type": "code",
   "execution_count": 2,
   "id": "facial-uncertainty",
   "metadata": {},
   "outputs": [],
   "source": [
    "import numpy as np\n",
    "import pandas as pd"
   ]
  },
  {
   "cell_type": "code",
   "execution_count": 3,
   "id": "extensive-military",
   "metadata": {
    "jupyter": {
     "source_hidden": true
    },
    "tags": []
   },
   "outputs": [],
   "source": [
    "x_i1 = [1,1,1,1,1,1,0,0,0,0]\n",
    "x_i2 = [1,1,0,1,0,1,1,0,0,1]\n",
    "y_positive = [-1,-1,-1,-1,1,1,1,1,1,1]"
   ]
  },
  {
   "cell_type": "code",
   "execution_count": 43,
   "id": "creative-netscape",
   "metadata": {
    "tags": []
   },
   "outputs": [],
   "source": [
    "df = pd.DataFrame({'x_i1(best prize)':x_i1, 'x_i1(buy)':x_i2, 'y(normal email)':y_positive})"
   ]
  },
  {
   "cell_type": "code",
   "execution_count": 45,
   "id": "hundred-mambo",
   "metadata": {
    "tags": []
   },
   "outputs": [
    {
     "data": {
      "text/html": [
       "<div>\n",
       "<style scoped>\n",
       "    .dataframe tbody tr th:only-of-type {\n",
       "        vertical-align: middle;\n",
       "    }\n",
       "\n",
       "    .dataframe tbody tr th {\n",
       "        vertical-align: top;\n",
       "    }\n",
       "\n",
       "    .dataframe thead th {\n",
       "        text-align: right;\n",
       "    }\n",
       "</style>\n",
       "<table border=\"1\" class=\"dataframe\">\n",
       "  <thead>\n",
       "    <tr style=\"text-align: right;\">\n",
       "      <th></th>\n",
       "      <th>x_i1(best prize)</th>\n",
       "      <th>x_i1(buy)</th>\n",
       "      <th>y(normal email)</th>\n",
       "    </tr>\n",
       "  </thead>\n",
       "  <tbody>\n",
       "    <tr>\n",
       "      <th>0</th>\n",
       "      <td>1</td>\n",
       "      <td>1</td>\n",
       "      <td>-1</td>\n",
       "    </tr>\n",
       "    <tr>\n",
       "      <th>1</th>\n",
       "      <td>1</td>\n",
       "      <td>1</td>\n",
       "      <td>-1</td>\n",
       "    </tr>\n",
       "    <tr>\n",
       "      <th>2</th>\n",
       "      <td>1</td>\n",
       "      <td>0</td>\n",
       "      <td>-1</td>\n",
       "    </tr>\n",
       "    <tr>\n",
       "      <th>3</th>\n",
       "      <td>1</td>\n",
       "      <td>1</td>\n",
       "      <td>-1</td>\n",
       "    </tr>\n",
       "    <tr>\n",
       "      <th>4</th>\n",
       "      <td>1</td>\n",
       "      <td>0</td>\n",
       "      <td>1</td>\n",
       "    </tr>\n",
       "    <tr>\n",
       "      <th>5</th>\n",
       "      <td>1</td>\n",
       "      <td>1</td>\n",
       "      <td>1</td>\n",
       "    </tr>\n",
       "    <tr>\n",
       "      <th>6</th>\n",
       "      <td>0</td>\n",
       "      <td>1</td>\n",
       "      <td>1</td>\n",
       "    </tr>\n",
       "    <tr>\n",
       "      <th>7</th>\n",
       "      <td>0</td>\n",
       "      <td>0</td>\n",
       "      <td>1</td>\n",
       "    </tr>\n",
       "    <tr>\n",
       "      <th>8</th>\n",
       "      <td>0</td>\n",
       "      <td>0</td>\n",
       "      <td>1</td>\n",
       "    </tr>\n",
       "    <tr>\n",
       "      <th>9</th>\n",
       "      <td>0</td>\n",
       "      <td>1</td>\n",
       "      <td>1</td>\n",
       "    </tr>\n",
       "  </tbody>\n",
       "</table>\n",
       "</div>"
      ],
      "text/plain": [
       "   x_i1(best prize)  x_i1(buy)  y(normal email)\n",
       "0                 1          1               -1\n",
       "1                 1          1               -1\n",
       "2                 1          0               -1\n",
       "3                 1          1               -1\n",
       "4                 1          0                1\n",
       "5                 1          1                1\n",
       "6                 0          1                1\n",
       "7                 0          0                1\n",
       "8                 0          0                1\n",
       "9                 0          1                1"
      ]
     },
     "execution_count": 45,
     "metadata": {},
     "output_type": "execute_result"
    }
   ],
   "source": [
    "df"
   ]
  },
  {
   "cell_type": "markdown",
   "id": "informal-reach",
   "metadata": {},
   "source": [
    "- Multi-Variate Bernoulli Distribution"
   ]
  },
  {
   "cell_type": "code",
   "execution_count": 57,
   "id": "complimentary-dominant",
   "metadata": {
    "jupyter": {
     "source_hidden": true
    },
    "tags": []
   },
   "outputs": [],
   "source": [
    "distribuion_y_positive = pd.DataFrame({0:['2/6','1/6'], 1:['2/6', '1/6']}, index = [0,1])"
   ]
  },
  {
   "cell_type": "code",
   "execution_count": 58,
   "id": "finnish-wichita",
   "metadata": {
    "jupyter": {
     "source_hidden": true
    },
    "tags": []
   },
   "outputs": [],
   "source": [
    "distribuion_y_positive.index.name=('X1/X2')"
   ]
  },
  {
   "cell_type": "code",
   "execution_count": 59,
   "id": "awful-violence",
   "metadata": {},
   "outputs": [
    {
     "data": {
      "text/html": [
       "<div>\n",
       "<style scoped>\n",
       "    .dataframe tbody tr th:only-of-type {\n",
       "        vertical-align: middle;\n",
       "    }\n",
       "\n",
       "    .dataframe tbody tr th {\n",
       "        vertical-align: top;\n",
       "    }\n",
       "\n",
       "    .dataframe thead th {\n",
       "        text-align: right;\n",
       "    }\n",
       "</style>\n",
       "<table border=\"1\" class=\"dataframe\">\n",
       "  <thead>\n",
       "    <tr style=\"text-align: right;\">\n",
       "      <th></th>\n",
       "      <th>0</th>\n",
       "      <th>1</th>\n",
       "    </tr>\n",
       "    <tr>\n",
       "      <th>X1/X2</th>\n",
       "      <th></th>\n",
       "      <th></th>\n",
       "    </tr>\n",
       "  </thead>\n",
       "  <tbody>\n",
       "    <tr>\n",
       "      <th>0</th>\n",
       "      <td>2/6</td>\n",
       "      <td>2/6</td>\n",
       "    </tr>\n",
       "    <tr>\n",
       "      <th>1</th>\n",
       "      <td>1/6</td>\n",
       "      <td>1/6</td>\n",
       "    </tr>\n",
       "  </tbody>\n",
       "</table>\n",
       "</div>"
      ],
      "text/plain": [
       "         0    1\n",
       "X1/X2          \n",
       "0      2/6  2/6\n",
       "1      1/6  1/6"
      ]
     },
     "execution_count": 59,
     "metadata": {},
     "output_type": "execute_result"
    }
   ],
   "source": [
    "distribuion_y_positive"
   ]
  },
  {
   "cell_type": "code",
   "execution_count": 60,
   "id": "boxed-register",
   "metadata": {
    "jupyter": {
     "source_hidden": true
    },
    "tags": []
   },
   "outputs": [],
   "source": [
    "distribuion_y_negative = pd.DataFrame({0:['0/4','1/4'], 1:['1/4', '2/4']}, index = [0,1])\n",
    "distribuion_y_negative.index.name=('X1/X2')"
   ]
  },
  {
   "cell_type": "code",
   "execution_count": 61,
   "id": "secure-yield",
   "metadata": {},
   "outputs": [
    {
     "data": {
      "text/html": [
       "<div>\n",
       "<style scoped>\n",
       "    .dataframe tbody tr th:only-of-type {\n",
       "        vertical-align: middle;\n",
       "    }\n",
       "\n",
       "    .dataframe tbody tr th {\n",
       "        vertical-align: top;\n",
       "    }\n",
       "\n",
       "    .dataframe thead th {\n",
       "        text-align: right;\n",
       "    }\n",
       "</style>\n",
       "<table border=\"1\" class=\"dataframe\">\n",
       "  <thead>\n",
       "    <tr style=\"text-align: right;\">\n",
       "      <th></th>\n",
       "      <th>0</th>\n",
       "      <th>1</th>\n",
       "    </tr>\n",
       "    <tr>\n",
       "      <th>X1/X2</th>\n",
       "      <th></th>\n",
       "      <th></th>\n",
       "    </tr>\n",
       "  </thead>\n",
       "  <tbody>\n",
       "    <tr>\n",
       "      <th>0</th>\n",
       "      <td>0/4</td>\n",
       "      <td>1/4</td>\n",
       "    </tr>\n",
       "    <tr>\n",
       "      <th>1</th>\n",
       "      <td>1/4</td>\n",
       "      <td>2/4</td>\n",
       "    </tr>\n",
       "  </tbody>\n",
       "</table>\n",
       "</div>"
      ],
      "text/plain": [
       "         0    1\n",
       "X1/X2          \n",
       "0      0/4  1/4\n",
       "1      1/4  2/4"
      ]
     },
     "execution_count": 61,
     "metadata": {},
     "output_type": "execute_result"
    }
   ],
   "source": [
    "distribuion_y_negative"
   ]
  },
  {
   "cell_type": "markdown",
   "id": "minute-superior",
   "metadata": {
    "jupyter": {
     "source_hidden": true
    },
    "tags": []
   },
   "source": [
    "# P(X_1=0,X_2=0|Y=-1) = 0/4"
   ]
  },
  {
   "cell_type": "markdown",
   "id": "magnetic-spare",
   "metadata": {},
   "source": [
    "# P(Y=+1) = 6/10\n",
    "# P(Y=-1) = 4/10"
   ]
  },
  {
   "cell_type": "markdown",
   "id": "tamil-better",
   "metadata": {},
   "source": [
    "- P(Y=+1)P(X1=1, X2=1|Y=+1) = 6/10 * 1/6 = 1/10 \n",
    "- P(Y=-1)P(X1=1, X2=1|Y=-1) = 4/10 * 2/4 = 2/10"
   ]
  },
  {
   "cell_type": "markdown",
   "id": "flush-conversation",
   "metadata": {},
   "source": [
    "-P(Y|X) = P(Y)*P(X|Y) / P(X)"
   ]
  },
  {
   "cell_type": "code",
   "execution_count": null,
   "id": "smooth-egyptian",
   "metadata": {},
   "outputs": [],
   "source": []
  }
 ],
 "metadata": {
  "kernelspec": {
   "display_name": "Python 3",
   "language": "python",
   "name": "python3"
  },
  "language_info": {
   "codemirror_mode": {
    "name": "ipython",
    "version": 3
   },
   "file_extension": ".py",
   "mimetype": "text/x-python",
   "name": "python",
   "nbconvert_exporter": "python",
   "pygments_lexer": "ipython3",
   "version": "3.8.8"
  }
 },
 "nbformat": 4,
 "nbformat_minor": 5
}
