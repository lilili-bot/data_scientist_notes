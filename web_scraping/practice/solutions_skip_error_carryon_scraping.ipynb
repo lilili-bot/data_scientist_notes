{
 "cells": [
  {
   "cell_type": "code",
   "execution_count": 10,
   "id": "indian-shakespeare",
   "metadata": {},
   "outputs": [],
   "source": [
    "from scrap_lyrics import get_link_name\n",
    "from tqdm import tqdm\n",
    "import re\n",
    "import requests\n",
    "from bs4 import BeautifulSoup\n",
    "import pandas as pd"
   ]
  },
  {
   "cell_type": "code",
   "execution_count": 11,
   "id": "compact-exercise",
   "metadata": {},
   "outputs": [],
   "source": [
    "#link_weeknd, name_weeknd = get_link_name('https://www.lyrics.com/artist/The-Weeknd/2377309')\n",
    "link_queen, name_queen = get_link_name('https://www.lyrics.com/artist/Queen/5205')"
   ]
  },
  {
   "cell_type": "code",
   "execution_count": 52,
   "id": "postal-disco",
   "metadata": {},
   "outputs": [],
   "source": [
    "# solution 1 for skip error and carry on scarping. \n",
    "def get_lyrics_lines(url_list):\n",
    "    line=[]\n",
    "    for url in tqdm(url_list[266:290]):\n",
    "        res = requests.get(url)\n",
    "        soup_lines= BeautifulSoup(res.text, 'html.parser')\n",
    "        if soup_lines.find('pre', id='lyric-body-text')==None:\n",
    "            continue\n",
    "        line.append(soup_lines.find('pre', id='lyric-body-text').text)\n",
    "    return line"
   ]
  },
  {
   "cell_type": "code",
   "execution_count": 53,
   "id": "chicken-economy",
   "metadata": {
    "scrolled": true,
    "tags": []
   },
   "outputs": [
    {
     "name": "stderr",
     "output_type": "stream",
     "text": [
      "100%|██████████| 24/24 [00:49<00:00,  2.08s/it]\n"
     ]
    },
    {
     "data": {
      "text/plain": [
       "['And now the tributes, from Ardentia\\nArdentian Prince: We, the people of Ardentia,\\nWe have suffered since you blasted our kingdom. \\nI can offer you nothing this year except my loyalty\\nExcellent, we prize nothing more highly. \\nAnd tell us, how great is this loyalty to your emperor?\\n\\nWithout measure.\\nWe are delighted to hear that. \\nFall on your sword\\n\\nDeath to Ming\\n\\nWho are you?\\nFlash Gordon, quarter back, New York Jets\\nDale Arden, your highness\\nPathetic earthlings, hurling your bodies out into the void. Let us see.\"',\n",
       " \"One dance whose steps I never could learn\\nIt's called the wedding march\\nThe grace that it takes, the grace you deserve,\\nRequire a lighter touch\\nI know you love dancing.\\nOh, I know that you love dancing so much\\nI know you love dancing.\\n\\nMusic's a wild thing with mischief to prove\\nI can't adjust to the way that you move\\nMusic's a wild thing whatever the groove\\nSome music isn't for dancing\\nOne dance whose steps I never could learn\\nIt's called the wedding march\\n\\nThe grace that it takes, the balance and poise,\\nI still find a mystery\\nI know you love dancing.\\nSo, I know that you'd hate dancing with me\\nI know you love dancing.\\nSo, I know that you'd hate dancing with me\",\n",
       " \"He's for everyone of us\\nStand for everyone of us\\nHe'll save with a mighty hand\\nEvery man, every woman, every child\\nHe's the mighty flash\\nNo one but the pure in heart may find the golden grail\\nOh oh, oh oh\\nFlash\",\n",
       " \"So you feel that you ain't nobody\\nAlways needed to be somebody\\nPut your feet on the ground\\nPut your hand on your heart\\nLift your head to the stars\\nAnd the world's for your taking\\n\\nSo you feel it's the end of the story\\nFind it all pretty satisfactory\\nWell I tell you my friend\\nThis might seem like the end\\nBut the continuation\\nIs yours for the making\\n\\nYes you're a hero\",\n",
       " \"Let me show it to you yeah\\n\\nSee what I got, I got a hell of a lot\\nTell me what you feel\\nIs it real is it real\\nYou know I got what it takes\\nAnd I can take a lot\\nDid you hear the last call baby\\n\\nYou and me got staying power yeah\\nYou and me we got staying power\\nStaying power (I got it I got it)\\n\\nI wonder when we're gonna make it\\nI wonder when we're gonna shake it\\nRock me baby rock me\\nC'mon you can shock me\\nLet's catch on to the groove\\nMake it move make it move\\nYou know how to shake that thing\\nWe'll work it work it work it\\nYou and I can play ball baby\\n\\nYou and me got staying power yeah\\nYou and me we got staying power\\n\\nI wonder when we're gonna make it\\nI wonder when we're gonna shake it\\nFire down below I'm just a regular dynamo\\nWant some smooth company\\nDon't lose control just hang on out with me\\nGot to get to know each other\\nBut we got plenty of time\\nDid you hear the last call baby\\n\\nYou and me got staying power yeah\\nYou and me we got staying power\\n\\nPower, power, power...\\n\\nI wonder when we're gonna stick it\\nI wonder when we're gonna trick it\\nBlow baby blow let's get down and go go\\nGet yourself in the mood\\nGot to give a little bit of attitude\\nBaby don't you crash\\nLet just trash trash trash\\nDid you hear the last call baby\\n\\nYou and me got staying power yeah\\nYou and me we got staying power\\n\\n(I like it) Staying power\\nYeah yeah\\nGotcha\",\n",
       " \"I'm not invited to the party\\nBeen sitting here all night\\nI'm all alone at the party\\nI don't feel alright\\nAin't got no black coat\\nAin't got no tie\\nI gotta shape up now\\nCome on baby you gotta know why\\n\\nTake off!\\nDancer, dancer\\nI can't live with it, I'm gonna die without it\\nDancer, dancer\\nAin't no doubt about it\\nDancer, dancer\\nWhy don't you kick off your dancing shoes\\nAnd come and ride with me? Cool.\\n\\nYou're the life and soul of the 'funktion'\\nIt took me all night\\nTo get hold of the right introduction\\nBlew me out of sight\\nI taste your lipstick\\nI look in your eyes\\nYou feel fantastic\\nMy body cries\\n\\nTake off\\nDancer, dancer\\nI can't live with it, I'm gonna die without it\\nDancer, dancer\\nAin't no doubt about it\\nDancer, dancer\\nWhy don't you kick off your dancing shoes\\nAnd come and ride with me?\\nHot space let's go!\\n\\nYeah, can I see you baby?\\nDancer, dancer\\nI can't believe you're dancing\\nDancer, dancer\\nCan't take you home\\nI can't take you dancing\\nDancer, dancer\\nBring out the funk and dance the night away\\nDancer, dancer\\nWe got bully\\nDancer, dancer\\n\\nDancer dancer [Repeat]\\nDance, dance, dance, dance\\nDancer, dancer.\",\n",
       " \"Yeah\\nGet back get back\\nBack chat back chat\\nYou burn all my energy\\nBack chat back chat\\nCriticizing all you see\\nBack chat, back chat\\nAnalyzing what I say\\nBack chat, back chat\\nAnd you always get your way\\n\\nOh yeah! See what you've done to me\\nBack chat, back chat\\nIt's driving me insane\\nSurvival to the end\\nKnock you down, you come again\\nTalk back, talk back\\nYou've got me on the wrack\\nTwisting ev'ry word I say\\nWind me up and get your way\\nFat chance I have of making a romance\\nIf I'm ever goin' to win\\nHave to get the last word in\\nTake it from there\\n\\nTwisting ev'ry word I say, Huh!\\nWind me up and let me play\\nBack chat, back chat\\nYou burn all my energy\\nBack chat, back chat\\nCriticizing all you see\\nBack chat, back chat\\nAnalyzing what I say\\nBack chat, back chat\\nAnd you always get your way\\n\\nCome on now\\nWake up, stand up\\nAnd drag yourself on out\\nGet down, get ready\\nScream and shout\\n\\nBack off me, be cool\\nAnd learn to change your ways\\n'Cause you're talking in your sleep\\nAnd you're walking in a daze\\nDon't push your luck\\nI'm ready to attack\\n'Cause when I'm trying to talk to you \\nAll you do is just talk back\\nYou stand so tall you don't frighten me at all\\nDon't talk back, don't talk back\\nDon't talk back just leave me alone\\n\\nBack chat, back chat\\nYou burn all my energy\\nBack chat, back chat\\nCriticizing all you see\\nBack chat, back chat\\nAnalyzing what I say\\nBack chat, back chat\\nAnd you always get your way\\n\\nYes you do\\nYes you do baby\\nCome on back chat, back chat\\nBack chat, back chat\\nBack chat, back chat\\nGo for it, go for it, go for it baby\\nBack chat, back chat\\nYou're giving me the runaround\\nCriticizing (oh yeah), analyzing (oh yeah)\\nYeah merci beaucoup\\nGet on down\",\n",
       " \"Give me, body, give me, body body\\nGive me your body\\n\\nDon't talk\\nBaby don't talk\\nBody language\\nGive me your body\\nJust give me your body\\nGive me your body\\nDon't talk\\nBody language\\n\\nYou got red lips\\nSnakes in your eyes\\nLong legs, great thighs\\nYou've got the cutest ass I've ever seen\\nKnock me down for a six anytime\\nLook at me, I got of case of body language\\n\\nBody language, body language, yeah\\nSexy body, sexy, sexy body\\nI want your body\\nBaby you're hot\\nBody language body language body language\\nBody language body language body language\\nBody language body language body language\",\n",
       " \"Action\\n\\nThis street honey is a mean street\\nLiving in this street honey needs a mean streak\\nWe've got criminals living in this street\\nBut there's a heart beat pulse\\nThat keeps on pumping\\nLike a juke box playing the same dead record\\nOr a radio in the corner keeps blaring\\nI got a feeling this world is using me\\n\\nThis town honey is a dead town\\nLiving in this town honey is a let down\\nComing to this town honey is a show down\\nBut there's a heart beat pulse\\nThat keeps on pumping some sunshine ray\\nThrough a crack in the shutter\\nOr a sight of a light at the end of a tunnel\\nStill there's a feeling this world is using me\\n\\nAction this day action this night\\nOh we've gotta learn to love to live\\nYou can't say it ain't right\\nAction this day action this night\\nOh you've got the power you've got the power\\nYou've got the power to love to live\\nYou can't say it ain't right\\n\\nYour mind honey is a bleak place\\nLiving in your minds living in a blank space\\nYour mind is coming from a rat race\\nBut there's a heart beat pulse\\nThat keeps on pumping\\nLike a jukebox playing the same dead record\\nOr a radio in the corner keeps blaring\\nI got a feeling that just won't quit\\nThis world is using me\\n\\nAction this day action this night\\nOh we've gotta learn to love to live\\nWe can't say it ain't right\\nAction this day action this night\\nOh you've got the power you've got the power\\nYou've got the power to love to live\\nYou can't say it ain't right\\n\\nAction action this day\\nAction this day\\nAction action this day\\nAction this day\\nLiving in the street\\nAction\",\n",
       " \"They called him a hero\\nIn the land of the free\\nBut he wouldn't shake my hand boy\\nHe disappointed me\\nSo I got my hand gun\\nAnd I blew him away\\nThat critter was a bad guy\\nAnd I had to make him pay\\n\\nYou might fear for my reason\\nI don't care what they say\\nLook out baby it's the season\\nFor the mad masquerade\\nPut out the fire put out the fire put out the fire\\nOh you need a bullet like a hole in the head\\nPut out the fire, put out the fire, put out the fire\\nDon't believe what your grand-daddy said\\n\\nShe was my lover\\nIt was a shame that she died\\nBut the constitution's right on my side\\n'Cause I caught my lover in the neighbour's bed\\nI got retribution\\nFilled 'em all full of lead\\n\\nI've been told it's the fashion\\nTo let me on the streets again\\nIt's nothing but a crime of passion\\nAnd I'm not to blame\\nPut out the fire, put out the fire, put out the fire\\nYou need a weapon like a hole in the head\\nPut out the fire, put out the fire, baby put out the fire\\nAnd let your sons and daughters sleep sound in their beds\\n\\nYou know a gun never killed nobody\\nYou can ask anyone\\nPeople get shot by people\\nPeople with guns\\nPut out the fire, put out the fire, put out the fire\\nYou need a gun like a hole in the head\\nPut out the fire, put out the fire, put out the fire\\nJust tell me that old fashioned gun law is dead\\n\\nShoot, shoot...\",\n",
       " \"Guilt stains on my pillow\\nBlood on my terraces\\nTorsos in my closet\\nShadows from my past\\nLife is real, life is real\\nLife is real, so real\\n\\nSleeping is my leisure\\nWaking up in a minefield\\nDream in just a pleasure dome\\nLove is a roulette wheel\\nLife is real, life is real\\nLife is real, oh yeah\\n\\nSuccess is my breathing space\\nI brought it on myself\\nI will price it, I will cash it\\nI can take it or leave it\\nLoneliness is my hiding place\\nBreast feeding myself\\nWhat more can I say?\\nI have swallowed the bitter pill\\nI can taste it I can taste it\\nLife is real, life is real\\nLife is real\\n\\nMusic will be my mistress\\nLoving like a whore\\nLennon is a genius\\nLiving in ev'ry pore\\nLife is real, life is real\\nLife is real, so real\\nLife is cruel, life is a bitch\\nLife is real, so real\\nLife is real, life is real, yeah\\nLife is real.\",\n",
       " \"Calling all boys, calling all girls\\nCalling all people on streets\\nAround the world\\nTake this message a message for you\\nThis message is old, yeah\\nThis message is true, this message is\\nThis message is, this message is, this message is\\n\\nLove take a message of love\\nFar and near\\nTake a message of love for all to hear\\nFor all to hear\\n\\nSome sleepless nights in wait for you\\nSome foreign presence you feel\\nComes seeping through\\nSome stream of hope\\nThe whole world through\\nSpread like some silent disease\\nYou'll get yours too\\nThis message is, this message is\\nThis message is, this message is\\n\\nLove take a message of love\\nFar and near\\nTake a message of love for all to hear\\nFor all to hear\\n\\nLove take a message of love\\nFar and near\\nTake a message of love for all to hear\\nFor all to hear\\n\\nCalling all boys, calling all girls\\nCalling all boys, calling all girls\\nCalling all girls...\",\n",
       " \"Don't touch me now\\nDon't hold me now\\nDon't break the spell darling\\nNow you are near\\nLook in my eyes and speak to me\\nThe special promises I long to hear\\n\\nLas palabras de amor\\nLet me hear the words of love\\nDespacito mi amor\\nLove me slow and gently\\n\\nOne foolish world so many souls\\nSenselessly hurled through\\nThe never ending cold\\nAnd all for fear and all for greed\\nSpeak any tongue\\nBut for God's sake we need\\n\\nLas palabras de amor\\nLet me hear the words of love\\nDespacito mi amor\\nLet me know this night and evermore\\n\\nThis room is bare\\nThis night is cold\\nWe're far apart and I'm growing old\\nBut while we live\\nWe'll meet again\\nSo then my love\\nWe may whisper once more\\nIt's you I adore\\n\\nLas palabras de amor\\nLet me hear the words of love\\nDespacito mi amor\\nTouch me now\\n\\nLas palabras de amor\\nLet us share the words of love\\nFor evermore, evermore\\nFor evermore\",\n",
       " \"Ooh yeah, yeah, yeah, yeah!\\nYou're taking all the sunshine away\\nMaking out like you're the main line (I knew that)\\n'Cause you're a cool cat\\nTapping on the toe with a new hat\\nOoh just cruising\\nDriving along like the swing king\\nFeeling the beat of my heart, huh!\\nFeeling the beat of my heart\\n\\nOoh you're a cool cat\\nComing on strong with all the chit chat\\nOoh you're alright\\nHanging out and stealing all the limelight\\nOoh messing with the beat of my heart yeah!\\n\\nOoh you used to be a mean kid\\nOoh making such a deal of life\\nOoh you were wishing and hoping and waiting\\nTo really hit the big time\\nBut did it happen? Happen, no!\\nYou're speeding too fast, slow down\\nSlow down, you'd better slow down, slow down\\n\\nYou really know how to set the mood\\nAnd you really get inside the groove\\nCool cat tapping on the toe with a new hat\\nOoh just cruising\\nDriving along like the swing king\\nFeeling the beat of my heart\\nFeeling the beat of my heart, yeah!\\nFeeling the beat of my heart\\nCan you feel it?\\nFeeling the beat of my heart\\nFeeling the beat of my heart\\nOoh feeling, feeling, feeling\\nFeeling every feeling.\",\n",
       " 'Mmm num ba de\\nDum bum ba be\\nDoo buh dum ba beh beh\\n\\nPressure pushing down on me\\nPressing down on you, no man ask for\\nUnder pressure that burns a building down\\nSplits a family in two\\nPuts people on streets\\n\\nUm ba ba be\\nUm ba ba be\\nDe day da\\nEe day da, that\\'s okay\\n\\nIt\\'s the terror of knowing what the world is about\\nWatching some good friends screaming\\n\"Let me out!\"\\nPray tomorrow gets me higher\\nPressure on people, people on streets\\n\\nDay day de mm hm\\nDa da da ba ba\\nOkay\\nChipping around, kick my brains around the floor\\nThese are the days it never rains but it pours\\nEe do ba be\\nEe da ba ba ba\\nUm bo bo\\nBe lap\\nPeople on streets\\nEe da de da de\\nPeople on streets\\nEe da de da de da de da\\n\\nIt\\'s the terror of knowing what the world is about\\nWatching some good friends screaming\\n\\'Let me out\\'\\nPray tomorrow gets me higher, high\\nPressure on people, people on streets\\n\\nTurned away from it all like a blind man\\nSat on a fence but it don\\'t work\\nKeep coming up with love but it\\'s so slashed and torn\\nWhy, why, why?\\nLove, love, love, love, love\\nInsanity laughs under pressure we\\'re breaking\\n\\nCan\\'t we give ourselves one more chance?\\nWhy can\\'t we give love that one more chance?\\nWhy can\\'t we give love, give love, give love, give love\\nGive love, give love, give love, give love, give love?\\n\\n\\'Cause love\\'s such an old fashioned word\\nAnd love dares you to care for\\nThe people on the edge of the night\\nAnd love (people on streets) dares you to change our way of\\nCaring about ourselves\\nThis is our last dance\\nThis is our last dance\\nThis is ourselves under pressure\\nUnder pressure\\nPressure',\n",
       " \"(Radio)\\n(Radio)\\nI'd sit alone and watch your light\\nMy only friend through teenage nights\\nAnd everything I had to know\\nI heard it on my radio\\n\\nYou gave them all those old time stars\\nThrough wars of worlds invaded by Mars\\nYou made 'em laugh, you made 'em cry\\nYou made us feel like we could fly (radio)\\n\\nSo don't become some background noise\\nA backdrop for the girls and boys\\nWho just don't know or just don't care\\nAnd just complain when you're not there\\n\\nYou had your time, you had the power\\nYou've yet to have your finest hour\\nRadio (radio)\\n\\nAll we hear is radio ga ga\\nRadio goo goo\\nRadio ga ga\\nAll we hear is radio ga ga\\nRadio blah blah\\nRadio, what's new?\\nRadio, someone still loves you\\n\\nWe watch the shows, we watch the stars\\nOn videos for hours and hours\\nWe hardly need to use our ears\\nHow music changes through the years\\n\\nLet's hope you never leave old friend\\nLike all good things on you we depend\\nSo stick around 'cause we might miss you\\nWhen we grow tired of all this visual\\n\\nYou had your time, you had the power\\nYou've yet to have your finest hour\\nRadio (radio)\\n\\nAll we hear is radio ga ga\\nRadio goo goo\\nRadio ga ga\\nAll we hear is radio ga ga\\nRadio goo goo\\nRadio ga ga\\nAll we hear is radio ga ga\\nRadio blah blah\\nRadio, what's new?\\nSomeone still loves you\\n\\nRadio ga ga \\nRadio ga ga \\nRadio ga ga \\n\\nYou had your time, you had the power\\nYou've yet to have your finest hour\\nRadio (radio)\",\n",
       " \"(One, two)\\n\\nAre you ready? Are you ready?\\nWe gonna tear it up\\n\\nTear it up\\nStir it up\\nBreak it up, baby\\n\\nTear it up\\nShake it up\\nMake it up as you go along\\n\\nTear it up\\nSquare it up\\nWake it up, baby\\n\\nTear it up\\nStir it up\\nStake it out and you can't go wrong\\n(Hey)\\n\\nGive me your mind, baby give me your body\\nGive me some time, baby let's have a party\\nIt ain't no time for sleepin' baby\\n\\nSoon it's 'round your street I'm creeping\\nYou better be ready, you gotta\\n\\nTear it up\\nStir it up\\nBreak it up, baby\\n\\nTear it up\\nShake it up\\nMake it up as you go along\\n\\nTear it up\\nSquare it up\\nWake it up, baby\\n\\nTear it up\\nStir it up\\nStake it out and you can't go wrong\\n(Hey)\\n\\nLove you 'cause you're sweet and I love you 'cause you're naughty\\nI love you for you mind, baby give me your body\\nI wanna be a toy at your birthday party\\nWind me up, wind me up, wind me up, let me go\\n\\nTear it up\\nStir it up\\nBreak it up, baby\\n\\nTear it up\\nShake it up\\nMake it up as you go along\\n\\nTear it up\\nSquare it up (ayy, yeah)\\nWake it up, baby\\n\\n(Oh, yeah)\\nbaby, baby are you ready for me? (Oh yeah)\\nBaby, baby, baby are you ready for love? (Oh yeah)\\nI love you so near, I love you so far\\nI gotta tell you you're driving me ga ga\",\n",
       " \"I don't want my freedom\\nThere's no reason for living with a broken heart\\n\\nThis is a tricky situation\\nI've only got myself to blame\\nIt's just a simple fact of life\\nIt can happen to any one\\n\\nYou win, you lose\\nIt's a chance you have to take with love\\nOh yeah, I fell in love\\nBut now you say it's over and I'm falling apart\\n\\nYeah yeah\\nIt's a hard life\\nTo be true lovers together\\nTo love and live forever in each others hearts\\nIt's a long hard fight\\nTo learn to care for each other\\nTo trust in one another right from the start\\nWhen you're in love\\n\\nI try and mend the broken pieces\\nOh, I try to fight back the tears\\nOh, they say it's just a state of mind\\nBut it happens to everyone\\n\\nHow it hurts (yeah) deep inside (oh yeah)\\nWhen your love has cut you down to size\\nLife is tough on your own\\nNow I'm waiting for something to fall from the skies\\nI'm waiting for love\\n\\nYes it's a hard life\\nTwo lovers together\\nTo love and live forever in each others hearts\\nIt's a long hard fight\\nTo learn to care for each other\\nTo trust in one another right from the start\\nWhen you're in love\\n\\nYes it's a hard life\\nIn a world that's filled with sorrow\\nThere are people searching for love in every way\\nIt's a long hard fight\\nBut I'll always live for tomorrow\\nI'll look back at myself and say I did it for love (oh)\\nYes I did it for love\\nFor love\\nOh I did it for love\",\n",
       " \"Oh yeah\\nI'm gonna take a little walk on the wild side\\nI'm gonna loosen up and get me some gas\\nI'm gonna get me some action\\nGo crazy, driving in the fast lane\\nMy baby left me alone\\nShe done me dirty and I'm feeling so lonely\\nSo come home, come home\\nIf you don't you're gonna break my heart\\n\\nMan on the prowl\\nYou better watch out\\nI'm on the loose and I'm looking for trouble\\nSo look out (yeah yeah) - look out (yeah yeah)\\nI'm a man on the prowl\\n\\nI don't wanna be a rock 'n' roll steady\\nI just wanna be low down trash\\nI wanna go to the movies\\nAll I wanna do is sit on my ass - ooh\\nSo honey come home (come home come home)\\nDon't leave me when I'm feeling so lonely\\nCome home (yeah yeah) - come home (yeah yeah)\\nIf you don't you're gonna break my heart\\n\\nMan on the prowl\\nYou better watch out\\nI'm on the loose and I'm looking for trouble\\nSo look out (yeah yeah) - look out (yeah yeah)\\n'Cause I'm a man on the prowl\\n\\nWell I keep dreaming about my baby\\nBut it ain't gonna get me nowhere\\n(Bap bap) hey\\nI gonna teach my baby dancin'\\n(Bap bap)\\nBut I ain't no Fred Astaire\\n\\nSo baby look out - I'm a man on the prowl\\nLook out - man on the prowl - yeah\\nYeah - baby, baby, baby look out, yeah - man on the prowl\\n\\nBaby come home\\nI'm on the loose and I'm looking for trouble\\nBaby come home - oh yeah\\n'Cause I'm a man on the prowl\\nSo honey come home - come home\\n'Cause I'm a man on the prowl - yeah\\nMan on the prowl - yeah\\nHey, stay with it\\nLoosen up\\nWooh yep ha wooh ha\\nYeah\\n\",\n",
       " \"I want to break free\\nI want to break free\\nI want to break free from your lies\\nYou're so self satisfied I don't need you\\nI've got to break free\\nGod knows, God knows I want to break free\\n\\nI've fallen in love\\nI've fallen in love for the first time\\nAnd this time I know it's for real\\nI've fallen in love, yeah\\nGod knows, God knows I've fallen in love\\n\\nIt's strange but it's true, yeah\\nI can't get over the way you love me like you do\\nBut I have to be sure\\nWhen I walk out that door\\nOh, how I want to be free, baby\\nOh, how I want to be free\\nOh, how I want to break free\\n\\nBut life still goes on\\nI can't get used to living without, living without\\nLiving without you by my side\\nI don't want to live alone, hey\\nGod knows, got to make it on my own\\n\\nSo baby can't you see\\nI've got to break free\\nI've got to break free\\nI want to break free, yeah\\nI want, I want, I want, I want to break free\",\n",
       " \"This is the only life for me - yeah\\nSurround myself around my own fantasy\\nYou just gotta be strong and believe in yourself\\nForget all the sadness 'cause love is all you need\\nLove is all you need\\n\\nDo you know what it's like to be alone in this world\\nWhen you're down and out on your luck and you're a failure\\nWake up screaming in the middle of the night\\nYou think it's all been a waste of time\\nIt's been a bad year\\nYou start believing everything's gonna be alright\\nNext minute you're down and you're flat on your back\\nA brand new day is beginning\\nGet that sunny feeling and you're on your way (way)\\n\\nJust believe - just keep passing the open windows\\nJust believe - just keep passing the open windows\\n\\nDo you know how it feels when you don't have friend (friend)\\nWithout a job and no money to spend\\nYou're a stranger\\n\\nAll you think about is suicide\\nOne of these days you're gonna lose the fight\\nYou better keep out of danger - yeah\\nThat same old feeling just keeps burning deep inside (inside)\\nYou keep telling yourself it's gonna be the end\\nOh - get yourself together\\nThings are looking better everyday (day)\\n\\nJust believe - just keep passing the open windows\\nJust believe - just keep passing the open windows\\n\\nThis is the only life for me - yeah\\nSurround myself around my own fantasy\\n\\nYou just gotta be strong and believe in yourselves\\nForget all the sadness 'cause love is all you need\\n\\nJust believe - just keep passing the open windows\\nJust believe - just keep passing the open windows\\n\\nYou just gotta be strong and believe in yourselves\\nForget all the sadness 'cause love is all you need yeah\\nLove is all you need\\nOh baby love is all you need\\n\\nJust believe - just keep passing the open windows\\nJust believe - just keep passing the open windows\\n\\nJust keep passing the open windows\\nJust keep passing the open windows\\nJust keep passing the open windows\\nJust keep passing the open windows\\nJust keep passing the open windows\\nJust keep passing the open windows\\nKeep passing the open windows\\n\"]"
      ]
     },
     "execution_count": 53,
     "metadata": {},
     "output_type": "execute_result"
    }
   ],
   "source": [
    "get_lyrics_lines(link_queen)"
   ]
  },
  {
   "cell_type": "code",
   "execution_count": 60,
   "id": "twelve-judge",
   "metadata": {},
   "outputs": [],
   "source": [
    "# solution 2, using try and except\n",
    "def get_lyrics_lines(url_list):\n",
    "    line=[]\n",
    "    for url in tqdm(url_list[266:269]):\n",
    "        try:\n",
    "            res = requests.get(url)\n",
    "            soup_lines= BeautifulSoup(res.text, 'html.parser')\n",
    "            line.append(soup_lines.find('pre', id='lyric-body-text').text)\n",
    "        except Exception as e:\n",
    "            print(e)\n",
    "            continue\n",
    "    return line"
   ]
  },
  {
   "cell_type": "code",
   "execution_count": 61,
   "id": "australian-devices",
   "metadata": {},
   "outputs": [
    {
     "name": "stderr",
     "output_type": "stream",
     "text": [
      " 67%|██████▋   | 2/3 [00:03<00:01,  1.65s/it]"
     ]
    },
    {
     "name": "stdout",
     "output_type": "stream",
     "text": [
      "'NoneType' object has no attribute 'text'\n"
     ]
    },
    {
     "name": "stderr",
     "output_type": "stream",
     "text": [
      "100%|██████████| 3/3 [00:04<00:00,  1.65s/it]"
     ]
    },
    {
     "name": "stdout",
     "output_type": "stream",
     "text": [
      "'NoneType' object has no attribute 'text'\n"
     ]
    },
    {
     "name": "stderr",
     "output_type": "stream",
     "text": [
      "\n"
     ]
    },
    {
     "data": {
      "text/plain": [
       "['And now the tributes, from Ardentia\\nArdentian Prince: We, the people of Ardentia,\\nWe have suffered since you blasted our kingdom. \\nI can offer you nothing this year except my loyalty\\nExcellent, we prize nothing more highly. \\nAnd tell us, how great is this loyalty to your emperor?\\n\\nWithout measure.\\nWe are delighted to hear that. \\nFall on your sword\\n\\nDeath to Ming\\n\\nWho are you?\\nFlash Gordon, quarter back, New York Jets\\nDale Arden, your highness\\nPathetic earthlings, hurling your bodies out into the void. Let us see.\"']"
      ]
     },
     "execution_count": 61,
     "metadata": {},
     "output_type": "execute_result"
    }
   ],
   "source": [
    "get_lyrics_lines(link_queen)"
   ]
  },
  {
   "cell_type": "code",
   "execution_count": null,
   "id": "missing-humanitarian",
   "metadata": {},
   "outputs": [],
   "source": []
  },
  {
   "cell_type": "code",
   "execution_count": null,
   "id": "political-comfort",
   "metadata": {},
   "outputs": [],
   "source": []
  },
  {
   "cell_type": "code",
   "execution_count": null,
   "id": "historic-token",
   "metadata": {},
   "outputs": [],
   "source": []
  },
  {
   "cell_type": "code",
   "execution_count": null,
   "id": "stable-minister",
   "metadata": {},
   "outputs": [],
   "source": []
  }
 ],
 "metadata": {
  "kernelspec": {
   "display_name": "Python 3",
   "language": "python",
   "name": "python3"
  },
  "language_info": {
   "codemirror_mode": {
    "name": "ipython",
    "version": 3
   },
   "file_extension": ".py",
   "mimetype": "text/x-python",
   "name": "python",
   "nbconvert_exporter": "python",
   "pygments_lexer": "ipython3",
   "version": "3.8.8"
  }
 },
 "nbformat": 4,
 "nbformat_minor": 5
}
