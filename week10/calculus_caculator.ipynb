{
 "cells": [
  {
   "cell_type": "code",
   "execution_count": 1,
   "id": "graduate-input",
   "metadata": {},
   "outputs": [],
   "source": [
    "import math\n",
    "from sympy import *"
   ]
  },
  {
   "cell_type": "markdown",
   "id": "marked-madison",
   "metadata": {},
   "source": [
    "\n",
    "$$\\int_a^b \\left|f(x)- g(x)\\right| *dx$$"
   ]
  },
  {
   "cell_type": "code",
   "execution_count": 7,
   "id": "classified-lease",
   "metadata": {},
   "outputs": [],
   "source": [
    "x ,y= symbols('x,y')"
   ]
  },
  {
   "cell_type": "code",
   "execution_count": 19,
   "id": "egyptian-worth",
   "metadata": {},
   "outputs": [],
   "source": [
    "def f(x):\n",
    "    y1 = x**2/2\n",
    "    return y1\n",
    "y1=f(x)"
   ]
  },
  {
   "cell_type": "code",
   "execution_count": 22,
   "id": "sacred-client",
   "metadata": {},
   "outputs": [],
   "source": [
    "def g(x):\n",
    "    g = x+4\n",
    "    return g\n",
    "g = g(x)"
   ]
  },
  {
   "cell_type": "code",
   "execution_count": 23,
   "id": "photographic-disaster",
   "metadata": {},
   "outputs": [
    {
     "data": {
      "text/plain": [
       "[(-2, 2), (4, 8)]"
      ]
     },
     "execution_count": 23,
     "metadata": {},
     "output_type": "execute_result"
    }
   ],
   "source": [
    "'''solve x, y，using them as lim_min, lim_max'''\n",
    "func = [x**2/2-y,x+4-y]\n",
    "solve(func, [x,y])"
   ]
  },
  {
   "cell_type": "code",
   "execution_count": 24,
   "id": "beautiful-estonia",
   "metadata": {},
   "outputs": [],
   "source": [
    "def cal_area(func, x, lim_min, lim_max):\n",
    "    return integrate(func,(x,lim_min,lim_max))"
   ]
  },
  {
   "cell_type": "code",
   "execution_count": 25,
   "id": "victorian-vegetable",
   "metadata": {},
   "outputs": [
    {
     "data": {
      "text/latex": [
       "$\\displaystyle -18$"
      ],
      "text/plain": [
       "-18"
      ]
     },
     "execution_count": 25,
     "metadata": {},
     "output_type": "execute_result"
    }
   ],
   "source": [
    "cal_area(g-y1,x,4,-2)"
   ]
  },
  {
   "cell_type": "code",
   "execution_count": 78,
   "id": "cosmetic-treaty",
   "metadata": {},
   "outputs": [
    {
     "data": {
      "text/latex": [
       "$\\displaystyle -2 + 2 \\sqrt{2}$"
      ],
      "text/plain": [
       "-2 + 2*sqrt(2)"
      ]
     },
     "execution_count": 78,
     "metadata": {},
     "output_type": "execute_result"
    }
   ],
   "source": [
    "func = abs(sin(x)-cos(x))\n",
    "lim_min = 0\n",
    "lim_max = pi/2\n",
    "cal_area(func, x, lim_min, lim_max)"
   ]
  },
  {
   "cell_type": "markdown",
   "id": "minimal-sleeve",
   "metadata": {},
   "source": []
  },
  {
   "cell_type": "code",
   "execution_count": null,
   "id": "small-bleeding",
   "metadata": {},
   "outputs": [],
   "source": []
  },
  {
   "cell_type": "code",
   "execution_count": null,
   "id": "starting-radiation",
   "metadata": {},
   "outputs": [],
   "source": []
  }
 ],
 "metadata": {
  "kernelspec": {
   "display_name": "Python 3",
   "language": "python",
   "name": "python3"
  },
  "language_info": {
   "codemirror_mode": {
    "name": "ipython",
    "version": 3
   },
   "file_extension": ".py",
   "mimetype": "text/x-python",
   "name": "python",
   "nbconvert_exporter": "python",
   "pygments_lexer": "ipython3",
   "version": "3.8.2"
  }
 },
 "nbformat": 4,
 "nbformat_minor": 5
}
