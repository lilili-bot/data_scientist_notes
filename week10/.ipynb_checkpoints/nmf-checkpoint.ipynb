{
 "cells": [
  {
   "cell_type": "markdown",
   "id": "dramatic-budget",
   "metadata": {},
   "source": [
    "In order to understand NMF better, i will use numpy to realize NMF."
   ]
  },
  {
   "cell_type": "code",
   "execution_count": 13,
   "id": "rubber-outdoors",
   "metadata": {},
   "outputs": [],
   "source": [
    "import numpy as np\n",
    "import math\n",
    "import random\n",
    "import argparse"
   ]
  },
  {
   "cell_type": "code",
   "execution_count": 14,
   "id": "intimate-combining",
   "metadata": {},
   "outputs": [],
   "source": [
    "'''generate a matrix in gauss distribution'''\n",
    "def generate_gauss_dist_matrix(row, col, mu, sigma):\n",
    "    gauss_matrix = np.zero(shape=(row,col))\n",
    "    for i in range(row):\n",
    "        for j in range(col):\n",
    "            gauss_matrix[i][j]=random.gauss(mu,sigma)\n",
    "    return gauss_matrix"
   ]
  },
  {
   "cell_type": "code",
   "execution_count": 15,
   "id": "global-significance",
   "metadata": {},
   "outputs": [
    {
     "ename": "NameError",
     "evalue": "name 'xrange' is not defined",
     "output_type": "error",
     "traceback": [
      "\u001b[0;31m---------------------------------------------------------------------------\u001b[0m",
      "\u001b[0;31mNameError\u001b[0m                                 Traceback (most recent call last)",
      "\u001b[0;32m<ipython-input-15-f638e140543c>\u001b[0m in \u001b[0;36m<module>\u001b[0;34m\u001b[0m\n\u001b[0;32m----> 1\u001b[0;31m \u001b[0mxrange\u001b[0m\u001b[0;34m(\u001b[0m\u001b[0;36m4\u001b[0m\u001b[0;34m)\u001b[0m\u001b[0;34m\u001b[0m\u001b[0;34m\u001b[0m\u001b[0m\n\u001b[0m",
      "\u001b[0;31mNameError\u001b[0m: name 'xrange' is not defined"
     ]
    }
   ],
   "source": [
    "xrange(4)"
   ]
  },
  {
   "cell_type": "code",
   "execution_count": 8,
   "id": "healthy-baseball",
   "metadata": {},
   "outputs": [],
   "source": []
  },
  {
   "cell_type": "code",
   "execution_count": null,
   "id": "underlying-lobby",
   "metadata": {},
   "outputs": [],
   "source": []
  },
  {
   "cell_type": "code",
   "execution_count": null,
   "id": "demographic-european",
   "metadata": {},
   "outputs": [],
   "source": []
  },
  {
   "cell_type": "code",
   "execution_count": null,
   "id": "further-treasurer",
   "metadata": {},
   "outputs": [],
   "source": []
  }
 ],
 "metadata": {
  "kernelspec": {
   "display_name": "Python 3",
   "language": "python",
   "name": "python3"
  },
  "language_info": {
   "codemirror_mode": {
    "name": "ipython",
    "version": 3
   },
   "file_extension": ".py",
   "mimetype": "text/x-python",
   "name": "python",
   "nbconvert_exporter": "python",
   "pygments_lexer": "ipython3",
   "version": "3.8.2"
  }
 },
 "nbformat": 4,
 "nbformat_minor": 5
}
